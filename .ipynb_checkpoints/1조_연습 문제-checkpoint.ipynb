{
 "cells": [
  {
   "cell_type": "code",
   "execution_count": 1,
   "metadata": {},
   "outputs": [],
   "source": [
    "from pyspark.sql import  SQLContext, Row\n",
    "from pyspark import SparkContext,SparkConf\n",
    "import pandas as pd\n",
    "from pyspark.sql.functions import regexp_extract, regexp_replace, when,udf,col,count,sum,avg,round,mean,count\n",
    "from pyspark.sql.types import DoubleType,IntegerType,StringType\n",
    "import pyspark.sql.functions as F"
   ]
  },
  {
   "cell_type": "code",
   "execution_count": 2,
   "metadata": {},
   "outputs": [],
   "source": [
    "sc = SparkContext('local')\n",
    "sqlCtx = SQLContext( sc )"
   ]
  },
  {
   "cell_type": "code",
   "execution_count": 35,
   "metadata": {},
   "outputs": [],
   "source": [
    "df1 = sqlCtx.read.csv('data/2014년 졸음운전 교통사고.csv', encoding='euc-kr',header=True, inferSchema=True)\n",
    "df2 = sqlCtx.read.csv('data/2015년 졸음운전 교통사고.csv', encoding='euc-kr',header=True, inferSchema=True)\n",
    "df3 = sqlCtx.read.csv('data/2016년 졸음운전 교통사고.csv', encoding='euc-kr',header=True, inferSchema=True)"
   ]
  },
  {
   "cell_type": "code",
   "execution_count": 36,
   "metadata": {},
   "outputs": [
    {
     "name": "stdout",
     "output_type": "stream",
     "text": [
      "+----------+--------+--------+--------+\n",
      "|      구분|사고(건)|사망(명)|부상(명)|\n",
      "+----------+--------+--------+--------+\n",
      "| 2014년1월|     169|       7|     347|\n",
      "| 2014년2월|     145|       3|     268|\n",
      "| 2014년3월|     206|      12|     358|\n",
      "| 2014년4월|     182|       4|     360|\n",
      "| 2014년5월|     218|      17|     474|\n",
      "| 2014년6월|     233|      13|     457|\n",
      "| 2014년7월|     229|      14|     431|\n",
      "| 2014년8월|     222|       9|     447|\n",
      "| 2014년9월|     225|      15|     430|\n",
      "|2014년10월|     210|      14|     392|\n",
      "|2014년11월|     209|      10|     386|\n",
      "|2014년12월|     178|      12|     329|\n",
      "+----------+--------+--------+--------+\n",
      "\n",
      "+----------+--------+--------+--------+\n",
      "|      구분|사고(건)|사망(명)|부상(명)|\n",
      "+----------+--------+--------+--------+\n",
      "| 2015년1월|     205|       8|     375|\n",
      "| 2015년2월|     175|       8|     375|\n",
      "| 2015년3월|     237|       4|     492|\n",
      "| 2015년4월|     227|      10|     486|\n",
      "| 2015년5월|     231|       9|     504|\n",
      "| 2015년6월|     207|       8|     401|\n",
      "| 2015년7월|     273|       7|     556|\n",
      "| 2015년8월|     268|      19|     534|\n",
      "| 2015년9월|     252|      10|     501|\n",
      "|2015년10월|     214|      14|     475|\n",
      "|2015년11월|     199|       3|     398|\n",
      "|2015년12월|     213|       8|     428|\n",
      "+----------+--------+--------+--------+\n",
      "\n",
      "+----------+--------+--------+--------+\n",
      "|      구분|사고(건)|사망(명)|부상(명)|\n",
      "+----------+--------+--------+--------+\n",
      "| 2016년1월|     192|       5|     387|\n",
      "| 2016년2월|     174|       6|     328|\n",
      "| 2016년3월|     217|       7|     435|\n",
      "| 2016년4월|     216|       7|     419|\n",
      "| 2016년5월|     239|      13|     522|\n",
      "| 2016년6월|     200|      12|     362|\n",
      "| 2016년7월|     227|       9|     460|\n",
      "| 2016년8월|     230|       7|     490|\n",
      "| 2016년9월|     187|      13|     347|\n",
      "|2016년10월|     183|      10|     367|\n",
      "|2016년11월|     200|       5|     418|\n",
      "|2016년12월|     168|       4|     364|\n",
      "+----------+--------+--------+--------+\n",
      "\n"
     ]
    }
   ],
   "source": [
    "df1.show()\n",
    "df2.show()\n",
    "df3.show()"
   ]
  },
  {
   "cell_type": "markdown",
   "metadata": {},
   "source": [
    "1. 3개의 데이터를 병합하시요."
   ]
  },
  {
   "cell_type": "code",
   "execution_count": 37,
   "metadata": {},
   "outputs": [],
   "source": [
    "df = df1.unionAll(df2).unionAll(df3)\n"
   ]
  },
  {
   "cell_type": "code",
   "execution_count": 38,
   "metadata": {
    "scrolled": true
   },
   "outputs": [
    {
     "name": "stdout",
     "output_type": "stream",
     "text": [
      "+----------+--------+--------+--------+\n",
      "|      구분|사고(건)|사망(명)|부상(명)|\n",
      "+----------+--------+--------+--------+\n",
      "| 2014년1월|     169|       7|     347|\n",
      "| 2014년2월|     145|       3|     268|\n",
      "| 2014년3월|     206|      12|     358|\n",
      "| 2014년4월|     182|       4|     360|\n",
      "| 2014년5월|     218|      17|     474|\n",
      "| 2014년6월|     233|      13|     457|\n",
      "| 2014년7월|     229|      14|     431|\n",
      "| 2014년8월|     222|       9|     447|\n",
      "| 2014년9월|     225|      15|     430|\n",
      "|2014년10월|     210|      14|     392|\n",
      "|2014년11월|     209|      10|     386|\n",
      "|2014년12월|     178|      12|     329|\n",
      "| 2015년1월|     205|       8|     375|\n",
      "| 2015년2월|     175|       8|     375|\n",
      "| 2015년3월|     237|       4|     492|\n",
      "| 2015년4월|     227|      10|     486|\n",
      "| 2015년5월|     231|       9|     504|\n",
      "| 2015년6월|     207|       8|     401|\n",
      "| 2015년7월|     273|       7|     556|\n",
      "| 2015년8월|     268|      19|     534|\n",
      "| 2015년9월|     252|      10|     501|\n",
      "|2015년10월|     214|      14|     475|\n",
      "|2015년11월|     199|       3|     398|\n",
      "|2015년12월|     213|       8|     428|\n",
      "| 2016년1월|     192|       5|     387|\n",
      "| 2016년2월|     174|       6|     328|\n",
      "| 2016년3월|     217|       7|     435|\n",
      "| 2016년4월|     216|       7|     419|\n",
      "| 2016년5월|     239|      13|     522|\n",
      "| 2016년6월|     200|      12|     362|\n",
      "| 2016년7월|     227|       9|     460|\n",
      "| 2016년8월|     230|       7|     490|\n",
      "| 2016년9월|     187|      13|     347|\n",
      "|2016년10월|     183|      10|     367|\n",
      "|2016년11월|     200|       5|     418|\n",
      "|2016년12월|     168|       4|     364|\n",
      "+----------+--------+--------+--------+\n",
      "\n"
     ]
    }
   ],
   "source": [
    "df.show(df.count())"
   ]
  },
  {
   "cell_type": "markdown",
   "metadata": {},
   "source": [
    "2. 년도 및 월별 평균 사망자를 보여주시요"
   ]
  },
  {
   "cell_type": "code",
   "execution_count": 39,
   "metadata": {},
   "outputs": [],
   "source": [
    "df = df.withColumn('구분', F.to_timestamp('구분', 'yyyy년MM월'))"
   ]
  },
  {
   "cell_type": "code",
   "execution_count": 42,
   "metadata": {},
   "outputs": [],
   "source": [
    "df = df.withColumnRenamed('구분','날짜')"
   ]
  },
  {
   "cell_type": "code",
   "execution_count": 43,
   "metadata": {
    "collapsed": true
   },
   "outputs": [
    {
     "name": "stdout",
     "output_type": "stream",
     "text": [
      "+-------------------+--------+--------+--------+\n",
      "|               날짜|사고(건)|사망(명)|부상(명)|\n",
      "+-------------------+--------+--------+--------+\n",
      "|2014-01-01 00:00:00|     169|       7|     347|\n",
      "|2014-02-01 00:00:00|     145|       3|     268|\n",
      "|2014-03-01 00:00:00|     206|      12|     358|\n",
      "|2014-04-01 00:00:00|     182|       4|     360|\n",
      "|2014-05-01 00:00:00|     218|      17|     474|\n",
      "|2014-06-01 00:00:00|     233|      13|     457|\n",
      "|2014-07-01 00:00:00|     229|      14|     431|\n",
      "|2014-08-01 00:00:00|     222|       9|     447|\n",
      "|2014-09-01 00:00:00|     225|      15|     430|\n",
      "|2014-10-01 00:00:00|     210|      14|     392|\n",
      "|2014-11-01 00:00:00|     209|      10|     386|\n",
      "|2014-12-01 00:00:00|     178|      12|     329|\n",
      "|2015-01-01 00:00:00|     205|       8|     375|\n",
      "|2015-02-01 00:00:00|     175|       8|     375|\n",
      "|2015-03-01 00:00:00|     237|       4|     492|\n",
      "|2015-04-01 00:00:00|     227|      10|     486|\n",
      "|2015-05-01 00:00:00|     231|       9|     504|\n",
      "|2015-06-01 00:00:00|     207|       8|     401|\n",
      "|2015-07-01 00:00:00|     273|       7|     556|\n",
      "|2015-08-01 00:00:00|     268|      19|     534|\n",
      "+-------------------+--------+--------+--------+\n",
      "only showing top 20 rows\n",
      "\n"
     ]
    }
   ],
   "source": [
    "df.show()"
   ]
  },
  {
   "cell_type": "code",
   "execution_count": 78,
   "metadata": {},
   "outputs": [
    {
     "name": "stdout",
     "output_type": "stream",
     "text": [
      "+----+-----+-------------+\n",
      "|year|month|avg(사망(명))|\n",
      "+----+-----+-------------+\n",
      "|2014|    1|          7.0|\n",
      "|2014|    2|          3.0|\n",
      "|2014|    3|         12.0|\n",
      "|2014|    4|          4.0|\n",
      "|2014|    5|         17.0|\n",
      "|2014|    6|         13.0|\n",
      "|2014|    7|         14.0|\n",
      "|2014|    8|          9.0|\n",
      "|2014|    9|         15.0|\n",
      "|2014|   10|         14.0|\n",
      "|2014|   11|         10.0|\n",
      "|2014|   12|         12.0|\n",
      "|2015|    1|          8.0|\n",
      "|2015|    2|          8.0|\n",
      "|2015|    3|          4.0|\n",
      "|2015|    4|         10.0|\n",
      "|2015|    5|          9.0|\n",
      "|2015|    6|          8.0|\n",
      "|2015|    7|          7.0|\n",
      "|2015|    8|         19.0|\n",
      "+----+-----+-------------+\n",
      "only showing top 20 rows\n",
      "\n"
     ]
    }
   ],
   "source": [
    "df.groupBy( F.year( '날짜').alias('year'), F.month( '날짜').alias('month') ).mean('사망(명)').orderBy('year','month').show()"
   ]
  },
  {
   "cell_type": "markdown",
   "metadata": {},
   "source": [
    "3. 2015년 1월 ~ 7월 데이터를 보여주시요."
   ]
  },
  {
   "cell_type": "code",
   "execution_count": 90,
   "metadata": {},
   "outputs": [
    {
     "name": "stdout",
     "output_type": "stream",
     "text": [
      "+-------------------+--------+--------+--------+\n",
      "|               날짜|사고(건)|사망(명)|부상(명)|\n",
      "+-------------------+--------+--------+--------+\n",
      "|2015-01-01 00:00:00|     205|       8|     375|\n",
      "|2015-02-01 00:00:00|     175|       8|     375|\n",
      "|2015-03-01 00:00:00|     237|       4|     492|\n",
      "|2015-04-01 00:00:00|     227|      10|     486|\n",
      "|2015-05-01 00:00:00|     231|       9|     504|\n",
      "|2015-06-01 00:00:00|     207|       8|     401|\n",
      "+-------------------+--------+--------+--------+\n",
      "\n"
     ]
    }
   ],
   "source": [
    "df.where(\"`날짜`> '2015-01' and `날짜`< '2015-07'\").show()"
   ]
  },
  {
   "cell_type": "markdown",
   "metadata": {},
   "source": [
    "4.  2016년 사고대비 사망율을 구하시요\n"
   ]
  },
  {
   "cell_type": "code",
   "execution_count": 149,
   "metadata": {},
   "outputs": [],
   "source": [
    "DF = df.where(\"year(`날짜`) == 2016\").agg(F.sum('사망(명)').alias('사망'), F.sum('사고(건)').alias('사고'))\n",
    "\n"
   ]
  },
  {
   "cell_type": "code",
   "execution_count": 150,
   "metadata": {},
   "outputs": [
    {
     "name": "stdout",
     "output_type": "stream",
     "text": [
      "+----+----+\n",
      "|사망|사고|\n",
      "+----+----+\n",
      "|  98|2433|\n",
      "+----+----+\n",
      "\n"
     ]
    }
   ],
   "source": [
    "DF.show()"
   ]
  },
  {
   "cell_type": "code",
   "execution_count": 161,
   "metadata": {},
   "outputs": [
    {
     "data": {
      "text/plain": [
       "24.8265306122449"
      ]
     },
     "execution_count": 161,
     "metadata": {},
     "output_type": "execute_result"
    }
   ],
   "source": [
    "DF.select('사고').collect()[0]['사고'] / DF.select('사망').collect()[0]['사망']"
   ]
  },
  {
   "cell_type": "markdown",
   "metadata": {},
   "source": [
    "5. 2015년 대비  사망이 가장 많이 증가한 2016년 도 월을 구하시요"
   ]
  },
  {
   "cell_type": "code",
   "execution_count": null,
   "metadata": {},
   "outputs": [],
   "source": [
    "df.where(\"\")"
   ]
  },
  {
   "cell_type": "code",
   "execution_count": null,
   "metadata": {},
   "outputs": [],
   "source": []
  },
  {
   "cell_type": "code",
   "execution_count": null,
   "metadata": {},
   "outputs": [],
   "source": []
  },
  {
   "cell_type": "code",
   "execution_count": null,
   "metadata": {},
   "outputs": [],
   "source": []
  },
  {
   "cell_type": "code",
   "execution_count": null,
   "metadata": {},
   "outputs": [],
   "source": []
  },
  {
   "cell_type": "code",
   "execution_count": null,
   "metadata": {},
   "outputs": [],
   "source": []
  },
  {
   "cell_type": "code",
   "execution_count": null,
   "metadata": {},
   "outputs": [],
   "source": []
  },
  {
   "cell_type": "code",
   "execution_count": null,
   "metadata": {},
   "outputs": [],
   "source": []
  },
  {
   "cell_type": "code",
   "execution_count": null,
   "metadata": {},
   "outputs": [],
   "source": []
  },
  {
   "cell_type": "code",
   "execution_count": null,
   "metadata": {},
   "outputs": [],
   "source": []
  },
  {
   "cell_type": "code",
   "execution_count": null,
   "metadata": {},
   "outputs": [],
   "source": []
  }
 ],
 "metadata": {
  "kernelspec": {
   "display_name": "Python 3",
   "language": "python",
   "name": "python3"
  },
  "language_info": {
   "codemirror_mode": {
    "name": "ipython",
    "version": 3
   },
   "file_extension": ".py",
   "mimetype": "text/x-python",
   "name": "python",
   "nbconvert_exporter": "python",
   "pygments_lexer": "ipython3",
   "version": "3.7.6"
  }
 },
 "nbformat": 4,
 "nbformat_minor": 4
}
