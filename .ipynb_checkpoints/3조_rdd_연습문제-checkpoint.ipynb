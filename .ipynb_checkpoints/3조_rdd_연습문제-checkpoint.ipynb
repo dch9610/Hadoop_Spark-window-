{
 "cells": [
  {
   "cell_type": "code",
   "execution_count": 1,
   "metadata": {},
   "outputs": [],
   "source": [
    "from pyspark import SparkContext\n",
    "from pyspark.sql import SQLContext, Row\n",
    "import pandas as pd\n",
    "import numpy as np"
   ]
  },
  {
   "cell_type": "code",
   "execution_count": 2,
   "metadata": {},
   "outputs": [],
   "source": [
    "sc = SparkContext('local')\n",
    "sqlCtx = SQLContext( sc )"
   ]
  },
  {
   "cell_type": "code",
   "execution_count": 3,
   "metadata": {},
   "outputs": [],
   "source": [
    "data1 = ['홍길동,1000','이순신,2000','임꺽정,3000',\n",
    "         '김철수,4000','이황,5000','이이,6000']"
   ]
  },
  {
   "cell_type": "code",
   "execution_count": 5,
   "metadata": {
    "scrolled": true
   },
   "outputs": [
    {
     "data": {
      "text/plain": [
       "ParallelCollectionRDD[1] at parallelize at PythonRDD.scala:195"
      ]
     },
     "execution_count": 5,
     "metadata": {},
     "output_type": "execute_result"
    }
   ],
   "source": [
    "data1Rdd = sc.parallelize(data1)\n",
    "data1Rdd"
   ]
  },
  {
   "cell_type": "code",
   "execution_count": 6,
   "metadata": {},
   "outputs": [
    {
     "data": {
      "text/plain": [
       "['홍길동,1000', '이순신,2000', '임꺽정,3000', '김철수,4000', '이황,5000', '이이,6000']"
      ]
     },
     "execution_count": 6,
     "metadata": {},
     "output_type": "execute_result"
    }
   ],
   "source": [
    "data1Rdd.collect()"
   ]
  },
  {
   "cell_type": "markdown",
   "metadata": {},
   "source": [
    "### 0. name salary 컬럼명을 가지는 데이터프레임을 만드시요."
   ]
  },
  {
   "cell_type": "code",
   "execution_count": 35,
   "metadata": {},
   "outputs": [
    {
     "data": {
      "text/plain": [
       "[('홍길동', 1000),\n",
       " ('이순신', 2000),\n",
       " ('임꺽정', 3000),\n",
       " ('김철수', 4000),\n",
       " ('이황', 5000),\n",
       " ('이이', 6000)]"
      ]
     },
     "execution_count": 35,
     "metadata": {},
     "output_type": "execute_result"
    }
   ],
   "source": [
    "dept1Rdd1 = data1Rdd.map(lambda v:v.split(',')).map(lambda v:(v[0],int(v[1])))\n",
    "dept1Rdd1.collect()"
   ]
  },
  {
   "cell_type": "code",
   "execution_count": 36,
   "metadata": {
    "scrolled": false
   },
   "outputs": [
    {
     "name": "stdout",
     "output_type": "stream",
     "text": [
      "+------+------+\n",
      "|  name|salary|\n",
      "+------+------+\n",
      "|홍길동|  1000|\n",
      "|이순신|  2000|\n",
      "|임꺽정|  3000|\n",
      "|김철수|  4000|\n",
      "|  이황|  5000|\n",
      "|  이이|  6000|\n",
      "+------+------+\n",
      "\n"
     ]
    }
   ],
   "source": [
    "salaryDF1 = dept1Rdd1.toDF(['name','salary'])\n",
    "salaryDF1.show()"
   ]
  },
  {
   "cell_type": "code",
   "execution_count": 37,
   "metadata": {},
   "outputs": [
    {
     "name": "stdout",
     "output_type": "stream",
     "text": [
      "root\n",
      " |-- name: string (nullable = true)\n",
      " |-- salary: long (nullable = true)\n",
      "\n"
     ]
    }
   ],
   "source": [
    "# 테이블 정보 확인\n",
    "salaryDF1.printSchema()"
   ]
  },
  {
   "cell_type": "code",
   "execution_count": 14,
   "metadata": {},
   "outputs": [],
   "source": [
    "# 테이블 이름 지정\n",
    "salaryDF1.createOrReplaceTempView('salary')"
   ]
  },
  {
   "cell_type": "markdown",
   "metadata": {},
   "source": [
    "### 1. 급여가 가장높은 name과 salary를 출력하시요"
   ]
  },
  {
   "cell_type": "code",
   "execution_count": 28,
   "metadata": {},
   "outputs": [
    {
     "name": "stdout",
     "output_type": "stream",
     "text": [
      "+----+------+\n",
      "|name|salary|\n",
      "+----+------+\n",
      "|이이|  6000|\n",
      "+----+------+\n",
      "\n"
     ]
    }
   ],
   "source": [
    "sql_top = \"select * from salary order by salary desc limit 1\"\n",
    "sqlDF_top = sqlCtx.sql(sql_top)\n",
    "sqlDF_top.show()"
   ]
  },
  {
   "cell_type": "markdown",
   "metadata": {},
   "source": [
    "###  2.  name, salary, tax 를 출력하시요 (tax는 급여에서 세금 3.3을 제한값"
   ]
  },
  {
   "cell_type": "code",
   "execution_count": 30,
   "metadata": {
    "scrolled": true
   },
   "outputs": [
    {
     "name": "stdout",
     "output_type": "stream",
     "text": [
      "+------+------+------+\n",
      "|  name|salary|   tax|\n",
      "+------+------+------+\n",
      "|홍길동|  1000| 967.0|\n",
      "|이순신|  2000|1934.0|\n",
      "|임꺽정|  3000|2901.0|\n",
      "|김철수|  4000|3868.0|\n",
      "|  이황|  5000|4835.0|\n",
      "|  이이|  6000|5802.0|\n",
      "+------+------+------+\n",
      "\n"
     ]
    }
   ],
   "source": [
    "sql_add = \"select name, salary, (salary-salary*0.033) as tax from salary\"\n",
    "sqlDF_add = sqlCtx.sql(sql_add)\n",
    "sqlDF_add.show()"
   ]
  },
  {
   "cell_type": "markdown",
   "metadata": {},
   "source": [
    "### 3. name 에 '철'이 포함된  name,salary 를 출력하시요"
   ]
  },
  {
   "cell_type": "code",
   "execution_count": 23,
   "metadata": {},
   "outputs": [
    {
     "name": "stdout",
     "output_type": "stream",
     "text": [
      "+------+------+\n",
      "|  name|salary|\n",
      "+------+------+\n",
      "|김철수|  4000|\n",
      "+------+------+\n",
      "\n"
     ]
    }
   ],
   "source": [
    "sql = \"select * from salary where name rlike '철'\"\n",
    "# sql = \"select * from salary where name like '%철%'\"\n",
    "sqlDF = sqlCtx.sql(sql)\n",
    "sqlDF.show()"
   ]
  },
  {
   "cell_type": "markdown",
   "metadata": {},
   "source": [
    "### 4. salary top 5 인 name, salary 출력하시요"
   ]
  },
  {
   "cell_type": "code",
   "execution_count": 21,
   "metadata": {},
   "outputs": [
    {
     "name": "stdout",
     "output_type": "stream",
     "text": [
      "+------+------+\n",
      "|  name|salary|\n",
      "+------+------+\n",
      "|  이이|  6000|\n",
      "|  이황|  5000|\n",
      "|김철수|  4000|\n",
      "|임꺽정|  3000|\n",
      "|이순신|  2000|\n",
      "+------+------+\n",
      "\n"
     ]
    }
   ],
   "source": [
    "sql = \"select * from salary order by salary desc limit 5\"\n",
    "sqlDF = sqlCtx.sql(sql)\n",
    "sqlDF.show()"
   ]
  },
  {
   "cell_type": "markdown",
   "metadata": {},
   "source": [
    "### 5. salary  2000  과 4000 사이의 데이터를 출력하시요"
   ]
  },
  {
   "cell_type": "code",
   "execution_count": 18,
   "metadata": {
    "scrolled": true
   },
   "outputs": [
    {
     "name": "stdout",
     "output_type": "stream",
     "text": [
      "+------+------+\n",
      "|  name|salary|\n",
      "+------+------+\n",
      "|이순신|  2000|\n",
      "|임꺽정|  3000|\n",
      "|김철수|  4000|\n",
      "+------+------+\n",
      "\n"
     ]
    }
   ],
   "source": [
    "sql = \"select * from salary where salary >= 2000 and salary <= 4000\"\n",
    "sqlDF = sqlCtx.sql(sql)\n",
    "sqlDF.show()"
   ]
  },
  {
   "cell_type": "code",
   "execution_count": 38,
   "metadata": {},
   "outputs": [],
   "source": [
    "sc.stop()"
   ]
  }
 ],
 "metadata": {
  "kernelspec": {
   "display_name": "Python 3",
   "language": "python",
   "name": "python3"
  },
  "language_info": {
   "codemirror_mode": {
    "name": "ipython",
    "version": 3
   },
   "file_extension": ".py",
   "mimetype": "text/x-python",
   "name": "python",
   "nbconvert_exporter": "python",
   "pygments_lexer": "ipython3",
   "version": "3.7.6"
  }
 },
 "nbformat": 4,
 "nbformat_minor": 4
}
