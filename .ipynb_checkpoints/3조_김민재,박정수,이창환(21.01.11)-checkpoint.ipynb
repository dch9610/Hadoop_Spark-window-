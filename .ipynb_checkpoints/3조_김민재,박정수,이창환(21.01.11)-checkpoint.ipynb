{
 "cells": [
  {
   "cell_type": "code",
   "execution_count": 42,
   "metadata": {},
   "outputs": [],
   "source": [
    "from pyspark.sql import  SQLContext, Row\n",
    "from pyspark import SparkContext,SparkConf\n",
    "import pandas as pd\n",
    "from pyspark.sql.functions import regexp_extract, regexp_replace, when,udf,col,count,sum,avg,round\n",
    "from pyspark.sql.types import DoubleType,IntegerType,StringType\n",
    "import pyspark.sql.functions as F\n",
    "\n",
    "import time"
   ]
  },
  {
   "cell_type": "code",
   "execution_count": 2,
   "metadata": {},
   "outputs": [],
   "source": [
    "sc = SparkContext('local')\n",
    "sqlCtx = SQLContext( sc )"
   ]
  },
  {
   "cell_type": "code",
   "execution_count": 3,
   "metadata": {
    "scrolled": true
   },
   "outputs": [],
   "source": [
    "df1 = sqlCtx.read.csv(r'c:\\data\\2014년 졸음운전 교통사고.csv', \n",
    "                     header = True, inferSchema = True, encoding='euc-kr' )\n",
    "df2 = sqlCtx.read.csv(r'c:\\data\\2015년 졸음운전 교통사고.csv', \n",
    "                     header = True, inferSchema = True, encoding='euc-kr' )\n",
    "df3 = sqlCtx.read.csv(r'c:\\data\\2016년 졸음운전 교통사고.csv', \n",
    "                     header = True, inferSchema = True, encoding='euc-kr' )"
   ]
  },
  {
   "cell_type": "markdown",
   "metadata": {},
   "source": [
    "### 1. 3개의 데이터를 병합하시요."
   ]
  },
  {
   "cell_type": "code",
   "execution_count": 4,
   "metadata": {},
   "outputs": [],
   "source": [
    "df_all = df1.unionAll(df2)\n",
    "df_all = df_all.unionAll(df3)"
   ]
  },
  {
   "cell_type": "code",
   "execution_count": 5,
   "metadata": {
    "scrolled": true
   },
   "outputs": [
    {
     "name": "stdout",
     "output_type": "stream",
     "text": [
      "+---------+--------+--------+--------+\n",
      "|     구분|사고(건)|사망(명)|부상(명)|\n",
      "+---------+--------+--------+--------+\n",
      "|2014년1월|     169|       7|     347|\n",
      "|2014년2월|     145|       3|     268|\n",
      "|2014년3월|     206|      12|     358|\n",
      "|2014년4월|     182|       4|     360|\n",
      "|2014년5월|     218|      17|     474|\n",
      "+---------+--------+--------+--------+\n",
      "only showing top 5 rows\n",
      "\n"
     ]
    }
   ],
   "source": [
    "df_all.show(5)"
   ]
  },
  {
   "cell_type": "code",
   "execution_count": 6,
   "metadata": {
    "scrolled": true
   },
   "outputs": [
    {
     "name": "stdout",
     "output_type": "stream",
     "text": [
      "root\n",
      " |-- 구분: string (nullable = true)\n",
      " |-- 사고(건): integer (nullable = true)\n",
      " |-- 사망(명): integer (nullable = true)\n",
      " |-- 부상(명): integer (nullable = true)\n",
      "\n"
     ]
    }
   ],
   "source": [
    "df_all.printSchema()"
   ]
  },
  {
   "cell_type": "code",
   "execution_count": 7,
   "metadata": {
    "scrolled": true
   },
   "outputs": [
    {
     "name": "stdout",
     "output_type": "stream",
     "text": [
      "+---------+--------+--------+--------+-------------------+\n",
      "|     구분|사고(건)|사망(명)|부상(명)|               date|\n",
      "+---------+--------+--------+--------+-------------------+\n",
      "|2014년1월|     169|       7|     347|2014-01-01 00:00:00|\n",
      "|2014년2월|     145|       3|     268|2014-02-01 00:00:00|\n",
      "|2014년3월|     206|      12|     358|2014-03-01 00:00:00|\n",
      "|2014년4월|     182|       4|     360|2014-04-01 00:00:00|\n",
      "|2014년5월|     218|      17|     474|2014-05-01 00:00:00|\n",
      "+---------+--------+--------+--------+-------------------+\n",
      "only showing top 5 rows\n",
      "\n"
     ]
    }
   ],
   "source": [
    "df_all = df_all.withColumn('date', F.to_timestamp('구분', format='yyyy년MM월'))\n",
    "df_all.show(5)"
   ]
  },
  {
   "cell_type": "markdown",
   "metadata": {},
   "source": [
    "### 2. 년도 및 월별 평균 사망자를 보여주시요"
   ]
  },
  {
   "cell_type": "code",
   "execution_count": 46,
   "metadata": {},
   "outputs": [
    {
     "name": "stdout",
     "output_type": "stream",
     "text": [
      "+----+-----+-------------+\n",
      "|year|month|avg(사망(명))|\n",
      "+----+-----+-------------+\n",
      "|2014|    1|          7.0|\n",
      "|2014|    2|          3.0|\n",
      "|2014|    3|         12.0|\n",
      "|2014|    4|          4.0|\n",
      "|2014|    5|         17.0|\n",
      "|2014|    6|         13.0|\n",
      "|2014|    7|         14.0|\n",
      "|2014|    8|          9.0|\n",
      "|2014|    9|         15.0|\n",
      "|2014|   10|         14.0|\n",
      "|2014|   11|         10.0|\n",
      "|2014|   12|         12.0|\n",
      "|2015|    1|          8.0|\n",
      "|2015|    2|          8.0|\n",
      "|2015|    3|          4.0|\n",
      "|2015|    4|         10.0|\n",
      "|2015|    5|          9.0|\n",
      "|2015|    6|          8.0|\n",
      "|2015|    7|          7.0|\n",
      "|2015|    8|         19.0|\n",
      "+----+-----+-------------+\n",
      "only showing top 20 rows\n",
      "\n"
     ]
    }
   ],
   "source": [
    "df_all.groupBy( F.year( 'date').alias('year'), F.month( 'date').alias('month') )\\\n",
    "            .mean('사망(명)').orderBy('year','month').show()"
   ]
  },
  {
   "cell_type": "markdown",
   "metadata": {},
   "source": [
    "### 3. 2015년 1월 ~ 7월 데이터를 보여주시요."
   ]
  },
  {
   "cell_type": "code",
   "execution_count": 15,
   "metadata": {
    "scrolled": false
   },
   "outputs": [
    {
     "name": "stdout",
     "output_type": "stream",
     "text": [
      "+---------+--------+--------+--------+-------------------+\n",
      "|     구분|사고(건)|사망(명)|부상(명)|               date|\n",
      "+---------+--------+--------+--------+-------------------+\n",
      "|2015년1월|     205|       8|     375|2015-01-01 00:00:00|\n",
      "|2015년2월|     175|       8|     375|2015-02-01 00:00:00|\n",
      "|2015년3월|     237|       4|     492|2015-03-01 00:00:00|\n",
      "|2015년4월|     227|      10|     486|2015-04-01 00:00:00|\n",
      "|2015년5월|     231|       9|     504|2015-05-01 00:00:00|\n",
      "|2015년6월|     207|       8|     401|2015-06-01 00:00:00|\n",
      "|2015년7월|     273|       7|     556|2015-07-01 00:00:00|\n",
      "+---------+--------+--------+--------+-------------------+\n",
      "\n"
     ]
    }
   ],
   "source": [
    "df_all.where( (df_all['date'] >= '2015-01') & (df_all['date'] <= '2015-08')).show()"
   ]
  },
  {
   "cell_type": "code",
   "execution_count": 40,
   "metadata": {},
   "outputs": [
    {
     "name": "stdout",
     "output_type": "stream",
     "text": [
      "+---------+--------+--------+--------+-------------------+----+\n",
      "|     구분|사고(건)|사망(명)|부상(명)|               date|year|\n",
      "+---------+--------+--------+--------+-------------------+----+\n",
      "|2015년1월|     205|       8|     375|2015-01-01 00:00:00|2015|\n",
      "|2015년2월|     175|       8|     375|2015-02-01 00:00:00|2015|\n",
      "|2015년3월|     237|       4|     492|2015-03-01 00:00:00|2015|\n",
      "|2015년4월|     227|      10|     486|2015-04-01 00:00:00|2015|\n",
      "|2015년5월|     231|       9|     504|2015-05-01 00:00:00|2015|\n",
      "|2015년6월|     207|       8|     401|2015-06-01 00:00:00|2015|\n",
      "|2015년7월|     273|       7|     556|2015-07-01 00:00:00|2015|\n",
      "+---------+--------+--------+--------+-------------------+----+\n",
      "\n"
     ]
    }
   ],
   "source": [
    "df_all.where(f\"`date` between '2015-01' and '2015-08'\").show()"
   ]
  },
  {
   "cell_type": "markdown",
   "metadata": {},
   "source": [
    "### 4.  2016년 사고대비 사망율을 구하시요\n",
    "- sql을 사용하는것보다 데이터프레임 함수를 사용하는것이 더 좋을수도 있음"
   ]
  },
  {
   "cell_type": "code",
   "execution_count": 16,
   "metadata": {},
   "outputs": [],
   "source": [
    "df_all = df_all.withColumn('year' ,F.year('date'))"
   ]
  },
  {
   "cell_type": "code",
   "execution_count": 49,
   "metadata": {},
   "outputs": [],
   "source": [
    "df_2015 = df_all.where((df_all['year'] == '2015'))"
   ]
  },
  {
   "cell_type": "code",
   "execution_count": 17,
   "metadata": {},
   "outputs": [],
   "source": [
    "df_2016 = df_all.where((df_all['year'] == '2016'))"
   ]
  },
  {
   "cell_type": "code",
   "execution_count": 18,
   "metadata": {},
   "outputs": [],
   "source": [
    "df_2016.createOrReplaceTempView('df_2016')"
   ]
  },
  {
   "cell_type": "code",
   "execution_count": 44,
   "metadata": {
    "scrolled": true
   },
   "outputs": [
    {
     "name": "stdout",
     "output_type": "stream",
     "text": [
      "+----------+--------+--------+---------------+\n",
      "|      구분|사고(건)|사망(명)|사고대비 사망율|\n",
      "+----------+--------+--------+---------------+\n",
      "| 2016년1월|     192|       5|           0.03|\n",
      "| 2016년2월|     174|       6|           0.03|\n",
      "| 2016년3월|     217|       7|           0.03|\n",
      "| 2016년4월|     216|       7|           0.03|\n",
      "| 2016년5월|     239|      13|           0.05|\n",
      "| 2016년6월|     200|      12|           0.06|\n",
      "| 2016년7월|     227|       9|           0.04|\n",
      "| 2016년8월|     230|       7|           0.03|\n",
      "| 2016년9월|     187|      13|           0.07|\n",
      "|2016년10월|     183|      10|           0.05|\n",
      "|2016년11월|     200|       5|           0.03|\n",
      "|2016년12월|     168|       4|           0.02|\n",
      "+----------+--------+--------+---------------+\n",
      "\n",
      "0.1621870994567871\n"
     ]
    }
   ],
   "source": [
    "sql = 'select `구분`, `사고(건)`, `사망(명)`,  round((`사망(명)`/`사고(건)`),2) \\\n",
    "        as `사고대비 사망율` from df_2016'\n",
    "\n",
    "start = time.time()\n",
    "sqlDF = sqlCtx.sql( sql )\n",
    "sqlDF.show()\n",
    "end = time.time()\n",
    "print(end-start)"
   ]
  },
  {
   "cell_type": "code",
   "execution_count": 63,
   "metadata": {},
   "outputs": [
    {
     "name": "stdout",
     "output_type": "stream",
     "text": [
      "+----------+--------+--------+--------+-------------------+----+------------------+\n",
      "|      구분|사고(건)|사망(명)|부상(명)|               date|year|   사고대비 사망율|\n",
      "+----------+--------+--------+--------+-------------------+----+------------------+\n",
      "| 2016년1월|     192|       5|     387|2016-01-01 00:00:00|2016| 2.604166666666667|\n",
      "| 2016년2월|     174|       6|     328|2016-02-01 00:00:00|2016|3.4482758620689653|\n",
      "| 2016년3월|     217|       7|     435|2016-03-01 00:00:00|2016| 3.225806451612903|\n",
      "| 2016년4월|     216|       7|     419|2016-04-01 00:00:00|2016|3.2407407407407405|\n",
      "| 2016년5월|     239|      13|     522|2016-05-01 00:00:00|2016| 5.439330543933055|\n",
      "| 2016년6월|     200|      12|     362|2016-06-01 00:00:00|2016|               6.0|\n",
      "| 2016년7월|     227|       9|     460|2016-07-01 00:00:00|2016|3.9647577092511015|\n",
      "| 2016년8월|     230|       7|     490|2016-08-01 00:00:00|2016|3.0434782608695654|\n",
      "| 2016년9월|     187|      13|     347|2016-09-01 00:00:00|2016| 6.951871657754011|\n",
      "|2016년10월|     183|      10|     367|2016-10-01 00:00:00|2016|  5.46448087431694|\n",
      "|2016년11월|     200|       5|     418|2016-11-01 00:00:00|2016|               2.5|\n",
      "|2016년12월|     168|       4|     364|2016-12-01 00:00:00|2016| 2.380952380952381|\n",
      "+----------+--------+--------+--------+-------------------+----+------------------+\n",
      "\n",
      "0.11908769607543945\n"
     ]
    }
   ],
   "source": [
    "start = time.time()\n",
    "df_all.where(\"`구분`>='2016'\").withColumn\\\n",
    "            ('사고대비 사망율',df_all['사망(명)']/df_all['사고(건)']*100).show()\n",
    "end = time.time()\n",
    "print(end-start)"
   ]
  },
  {
   "cell_type": "markdown",
   "metadata": {},
   "source": [
    "### 5. 2015년 대비  사망이 가장 많이 증가한 2016년도 월을 구하시요"
   ]
  },
  {
   "cell_type": "code",
   "execution_count": 65,
   "metadata": {},
   "outputs": [
    {
     "name": "stdout",
     "output_type": "stream",
     "text": [
      "+----------+--------+--------+--------+-------------------+----+----+\n",
      "|      구분|사고(건)|사망(명)|부상(명)|               date|year|증가|\n",
      "+----------+--------+--------+--------+-------------------+----+----+\n",
      "| 2016년1월|     192|       5|     387|2016-01-01 00:00:00|2016|   0|\n",
      "| 2016년2월|     174|       6|     328|2016-02-01 00:00:00|2016|   0|\n",
      "| 2016년3월|     217|       7|     435|2016-03-01 00:00:00|2016|   0|\n",
      "| 2016년4월|     216|       7|     419|2016-04-01 00:00:00|2016|   0|\n",
      "| 2016년5월|     239|      13|     522|2016-05-01 00:00:00|2016|   0|\n",
      "| 2016년6월|     200|      12|     362|2016-06-01 00:00:00|2016|   0|\n",
      "| 2016년7월|     227|       9|     460|2016-07-01 00:00:00|2016|   0|\n",
      "| 2016년8월|     230|       7|     490|2016-08-01 00:00:00|2016|   0|\n",
      "| 2016년9월|     187|      13|     347|2016-09-01 00:00:00|2016|   0|\n",
      "|2016년10월|     183|      10|     367|2016-10-01 00:00:00|2016|   0|\n",
      "|2016년11월|     200|       5|     418|2016-11-01 00:00:00|2016|   0|\n",
      "|2016년12월|     168|       4|     364|2016-12-01 00:00:00|2016|   0|\n",
      "+----------+--------+--------+--------+-------------------+----+----+\n",
      "\n"
     ]
    }
   ],
   "source": [
    "df_2016.withColumn('증가', df_2016['사망(명)']-df_2015['사망(명)']).show()"
   ]
  }
 ],
 "metadata": {
  "kernelspec": {
   "display_name": "Python 3",
   "language": "python",
   "name": "python3"
  },
  "language_info": {
   "codemirror_mode": {
    "name": "ipython",
    "version": 3
   },
   "file_extension": ".py",
   "mimetype": "text/x-python",
   "name": "python",
   "nbconvert_exporter": "python",
   "pygments_lexer": "ipython3",
   "version": "3.7.6"
  }
 },
 "nbformat": 4,
 "nbformat_minor": 4
}
