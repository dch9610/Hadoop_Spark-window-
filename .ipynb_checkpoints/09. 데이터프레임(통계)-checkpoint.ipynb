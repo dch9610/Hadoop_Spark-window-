{
 "cells": [
  {
   "cell_type": "code",
   "execution_count": 6,
   "metadata": {},
   "outputs": [],
   "source": [
    "from pyspark import SparkContext\n",
    "from pyspark.sql import SQLContext, Row\n",
    "import pandas as pd\n",
    "import numpy as np\n",
    "\n",
    "import matplotlib.pyplot as plt\n",
    "import matplotlib\n",
    "matplotlib.rcParams['font.family']='Malgun Gothic'\n",
    "matplotlib.rcParams['axes.unicode_minus']=False\n",
    "\n",
    "# sql 함수 사용\n",
    "from pyspark.sql.functions import when, udf, col, regexp_replace\n",
    "# sql 타입변경\n",
    "from pyspark.sql.types import DoubleType,IntegerType, StringType\n",
    "import pyspark.sql.functions as F"
   ]
  },
  {
   "cell_type": "code",
   "execution_count": 2,
   "metadata": {},
   "outputs": [],
   "source": [
    "sc = SparkContext('local') # 'spark://ip:7070'\n",
    "sqlCtx = SQLContext( sc )"
   ]
  },
  {
   "cell_type": "code",
   "execution_count": 3,
   "metadata": {},
   "outputs": [
    {
     "data": {
      "text/plain": [
       "DataFrame[_c0: int, _c1: double, _c2: double]"
      ]
     },
     "execution_count": 3,
     "metadata": {},
     "output_type": "execute_result"
    }
   ],
   "source": [
    "df = sqlCtx.read.csv(r'c:\\data\\births.txt',inferSchema=True)\n",
    "df"
   ]
  },
  {
   "cell_type": "code",
   "execution_count": 4,
   "metadata": {},
   "outputs": [],
   "source": [
    "# 컬럼명 변경\n",
    "df = df.withColumnRenamed('_c0','year').\\\n",
    "        withColumnRenamed('_c1','boys').\\\n",
    "        withColumnRenamed('_c2','girls')"
   ]
  },
  {
   "cell_type": "markdown",
   "metadata": {},
   "source": [
    "### 집계 함수 사용\n",
    "- agg(..) 사용\n",
    "- https://rfriend.tistory.com/213"
   ]
  },
  {
   "cell_type": "code",
   "execution_count": 10,
   "metadata": {},
   "outputs": [
    {
     "name": "stdout",
     "output_type": "stream",
     "text": [
      "[Row(sum(girls)=164392696.0)]\n",
      "164392696.0\n"
     ]
    }
   ],
   "source": [
    "# 통계, 집합 함수 사용\n",
    "print(df.agg({'girls':'sum'}).collect()) # 리스트형식\n",
    "print(df.agg({'girls':'sum'}).collect()[0]['sum(girls)'])"
   ]
  },
  {
   "cell_type": "code",
   "execution_count": 15,
   "metadata": {
    "scrolled": true
   },
   "outputs": [
    {
     "name": "stdout",
     "output_type": "stream",
     "text": [
      "    sum(girls)\n",
      "0  164392696.0\n",
      "--------------------\n",
      "164392696.0\n"
     ]
    }
   ],
   "source": [
    "print(df.agg({'girls':'sum'}).toPandas())\n",
    "print('-'*20)\n",
    "print(df.agg({'girls':'sum'}).toPandas().loc[0]['sum(girls)'])"
   ]
  },
  {
   "cell_type": "code",
   "execution_count": 17,
   "metadata": {},
   "outputs": [
    {
     "name": "stdout",
     "output_type": "stream",
     "text": [
      "+------------+\n",
      "|  sum(girls)|\n",
      "+------------+\n",
      "|1.64392696E8|\n",
      "+------------+\n",
      "\n"
     ]
    }
   ],
   "source": [
    "df. agg(F.sum('girls')).show()"
   ]
  },
  {
   "cell_type": "code",
   "execution_count": 21,
   "metadata": {},
   "outputs": [
    {
     "name": "stdout",
     "output_type": "stream",
     "text": [
      "+------------------+------------+\n",
      "|         avg(boys)|  sum(girls)|\n",
      "+------------------+------------+\n",
      "|1225776.0681818181|1.64392696E8|\n",
      "+------------------+------------+\n",
      "\n"
     ]
    }
   ],
   "source": [
    "# bug..\n",
    "df.agg({'girls':'sum','boys':'avg'}).show()"
   ]
  },
  {
   "cell_type": "code",
   "execution_count": 19,
   "metadata": {
    "scrolled": true
   },
   "outputs": [
    {
     "name": "stdout",
     "output_type": "stream",
     "text": [
      "+------------+------------------+\n",
      "|  sum(girls)|        avg(girls)|\n",
      "+------------+------------------+\n",
      "|1.64392696E8|1245399.2121212122|\n",
      "+------------+------------------+\n",
      "\n"
     ]
    }
   ],
   "source": [
    "df.agg(F.sum('girls'),F.mean('girls')).show()"
   ]
  },
  {
   "cell_type": "code",
   "execution_count": 20,
   "metadata": {},
   "outputs": [
    {
     "name": "stdout",
     "output_type": "stream",
     "text": [
      "+------------------+-----------------+\n",
      "|         avg(boys)|    stddev(girls)|\n",
      "+------------------+-----------------+\n",
      "|1225776.0681818181|740002.8662878576|\n",
      "+------------------+-----------------+\n",
      "\n"
     ]
    }
   ],
   "source": [
    "df.agg({'girls':'stddev','boys':'mean'}).show()"
   ]
  },
  {
   "cell_type": "code",
   "execution_count": 22,
   "metadata": {},
   "outputs": [
    {
     "name": "stdout",
     "output_type": "stream",
     "text": [
      "+------------+------------------+\n",
      "|    여아총합|          여아평균|\n",
      "+------------+------------------+\n",
      "|1.64392696E8|1245399.2121212122|\n",
      "+------------+------------------+\n",
      "\n"
     ]
    }
   ],
   "source": [
    "df.agg(F.sum('girls').alias('여아총합'),F.mean('girls').alias('여아평균')).show()"
   ]
  }
 ],
 "metadata": {
  "kernelspec": {
   "display_name": "Python 3",
   "language": "python",
   "name": "python3"
  },
  "language_info": {
   "codemirror_mode": {
    "name": "ipython",
    "version": 3
   },
   "file_extension": ".py",
   "mimetype": "text/x-python",
   "name": "python",
   "nbconvert_exporter": "python",
   "pygments_lexer": "ipython3",
   "version": "3.7.6"
  }
 },
 "nbformat": 4,
 "nbformat_minor": 4
}
