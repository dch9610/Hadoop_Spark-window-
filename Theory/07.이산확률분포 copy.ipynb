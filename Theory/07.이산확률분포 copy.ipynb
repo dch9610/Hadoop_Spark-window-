{
 "cells": [
  {
   "cell_type": "code",
   "execution_count": 2,
   "metadata": {},
   "outputs": [],
   "source": [
    "import scipy.stats as stats\n",
    "from scipy.special import comb,perm\n",
    "import numpy as np\n",
    "import matplotlib.pyplot as plt\n",
    "import matplotlib\n",
    "\n",
    "matplotlib.rcParams['font.family']='Malgun Gothic'\n",
    "matplotlib.rcParams['axes.unicode_minus'] = False"
   ]
  },
  {
   "cell_type": "markdown",
   "metadata": {},
   "source": [
    "# 이산확률분포"
   ]
  },
  {
   "cell_type": "markdown",
   "metadata": {
    "school_cell_uuid": "30407c41366c41ada01fccac76331693"
   },
   "source": [
    "### 베르누이 시행"
   ]
  },
  {
   "cell_type": "markdown",
   "metadata": {
    "school_cell_uuid": "882d5232066b4ae79794e74d6ea1a614"
   },
   "source": [
    "결과가 두 가지 중 하나로만 나오는 실험이나 시행을 **베르누이 시행**(Bernoulli trial)이라고 한다. 예를 들어 동전을 한 번 던져 앞면(H:Head)이 나오거나 뒷면(T:Tail)이 나오게 하는 것도 베르누이 시행이다."
   ]
  },
  {
   "cell_type": "markdown",
   "metadata": {
    "school_cell_uuid": "250191a82f7840908f446e7644a6d59d"
   },
   "source": [
    "### 베르누이 확률변수"
   ]
  },
  {
   "cell_type": "markdown",
   "metadata": {
    "school_cell_uuid": "a5517b52891a48268a4181dc463e21b0"
   },
   "source": [
    "베르누이 시행의 결과를 실수 0 또는 1로 바꾼 것을 **베르누이 확률변수(Bernoulli random variable)**라고 한다. 베르누이 확률변수는 두 값 중 하나만 가질 수 있으므로 이산확률변수(discrete random variable)다. "
   ]
  },
  {
   "cell_type": "markdown",
   "metadata": {},
   "source": [
    "### 베르누이 확률분포"
   ]
  },
  {
   "cell_type": "markdown",
   "metadata": {
    "school_cell_uuid": "a6873ff37c6347f09654e8f307f933cc"
   },
   "source": [
    "베르누이 확률변수의 분포를 베르누이 확률분포 혹은 베르누이분포라고 한다. 만약 어떤 확률변수 $X$가 베르누이분포에 의해 발생된다면 **’확률변수 $X$가 베르누이분포를 따른다’**라고 말하고 다음과 같이 수식으로 쓴다.\n",
    "\n",
    "$$\n",
    "\\begin{align}\n",
    "X \\sim \\text{Bern}(x;p)\n",
    "\\tag{1}\n",
    "\\end{align}\n",
    "$$\n",
    "\n",
    "베르누이분포의 확률질량함수 수식은 다음과 같다.\n",
    "\n",
    "$$\n",
    "\\begin{align}\n",
    "\\text{Bern}(x;p) = \n",
    "\\begin{cases} \n",
    "p   & \\text{if }x=1, \\\\\n",
    "1-p & \\text{if }x=0\n",
    "\\end{cases}\n",
    "\\tag{2}\n",
    "\\end{align}\n",
    "$$\n",
    "\n"
   ]
  },
  {
   "cell_type": "markdown",
   "metadata": {},
   "source": [
    "#### 베르누이"
   ]
  },
  {
   "cell_type": "markdown",
   "metadata": {},
   "source": [
    "p=0.6 으로 설정했다. 이러한 확률변수를 만든 것은 앞면이 나올 확률이 0.6인 동전을 만든 것과 같다."
   ]
  },
  {
   "cell_type": "markdown",
   "metadata": {},
   "source": [
    "1. 숫자 1부터 10까지 적혀있는 카드가 10장 있다. 그럼 이 중에서 하나의 카드를 뽑았을 때, 8이 적힌 카드가 나올 확률을 구하시오.\n",
    "\n",
    "카드를 뽑았을 때 8이 적힌 카드가 나오면 성공이고, 숫자 1, 2, 3, 4, 5, 6, 7, 9, 10 이 적힌 카드가 나오면 실패다. 그래서 성공확률은 1/10이고 실패확률은 9/10이기에, 공식을 사용해서 확률을 구해보면 0.1 or 10%가 나온다."
   ]
  },
  {
   "cell_type": "markdown",
   "metadata": {
    "school_cell_uuid": "7c447fc79c864adda5522362b074cbff"
   },
   "source": [
    "베르누이분포의 모멘트는 다음과 같다.\n",
    "\n",
    "* 기댓값\n",
    "\n",
    "$$\n",
    "\\begin{align}\n",
    "\\text{E}[X]  = \\mu\n",
    "\\tag{1}\n",
    "\\end{align}\n",
    "$$\n",
    "\n",
    "(증명)\n",
    "\n",
    "$$\n",
    "\\begin{align}\n",
    "\\begin{aligned}\n",
    "\\text{E}[X] \n",
    "&= \\sum_{x_i \\in \\Omega} x_i p(x_i) \\\\\n",
    "&= 1 \\cdot \\mu + 0 \\cdot (1 - \\mu) \\\\\n",
    "&= \\mu\n",
    "\\end{aligned}\n",
    "\\tag{2}\n",
    "\\end{align}\n",
    "$$\n",
    "\n",
    "==============================================================================\n",
    "* 분산\n",
    "\n",
    "$$\n",
    "\\begin{align}\n",
    "\\text{Var}[X] = \\mu(1-\\mu)\n",
    "\\tag{3}\n",
    "\\end{align}\n",
    "$$\n",
    "\n",
    "(증명)\n",
    "\n",
    "$$\n",
    "\\begin{align}\n",
    "\\begin{aligned}\n",
    "\\text{Var}[X] \n",
    "&= \\sum_{x_i \\in \\Omega} (x_i - \\mu)^2 p(x_i) \\\\\n",
    "&= (1 - \\mu)^2 \\cdot \\mu + (0 - \\mu)^2 \\cdot (1 - \\mu) \\\\\n",
    "&= \\mu(1-\\mu)\n",
    "\\end{aligned}\n",
    "\\tag{4}\n",
    "\\end{align}\n",
    "$$"
   ]
  },
  {
   "cell_type": "code",
   "execution_count": 3,
   "metadata": {},
   "outputs": [
    {
     "output_type": "execute_result",
     "data": {
      "text/plain": [
       "array([0.1, 0.9])"
      ]
     },
     "metadata": {},
     "execution_count": 3
    }
   ],
   "source": [
    "#숫자 1부터 10까지 적혀있는 카드가 10장 있다. \n",
    "#그럼 이 중에서 하나의 카드를 뽑았을 때, 8이 적힌 카드가 나올 확률을 구하시오.\n",
    "mu = 1/10  \n",
    "rv = stats.bernoulli( mu )\n",
    "xx = [1,0]\n",
    "rv.pmf( xx )"
   ]
  },
  {
   "cell_type": "code",
   "execution_count": 4,
   "metadata": {},
   "outputs": [
    {
     "output_type": "execute_result",
     "data": {
      "text/plain": [
       "0.1"
      ]
     },
     "metadata": {},
     "execution_count": 4
    }
   ],
   "source": [
    "rv.mean()"
   ]
  },
  {
   "cell_type": "code",
   "execution_count": 5,
   "metadata": {},
   "outputs": [
    {
     "output_type": "execute_result",
     "data": {
      "text/plain": [
       "0.09000000000000001"
      ]
     },
     "metadata": {},
     "execution_count": 5
    }
   ],
   "source": [
    "rv.var() # 0.1*(1-0.1)"
   ]
  },
  {
   "cell_type": "code",
   "execution_count": 6,
   "metadata": {},
   "outputs": [
    {
     "output_type": "display_data",
     "data": {
      "text/plain": "<Figure size 432x288 with 1 Axes>",
      "image/svg+xml": "<?xml version=\"1.0\" encoding=\"utf-8\" standalone=\"no\"?>\r\n<!DOCTYPE svg PUBLIC \"-//W3C//DTD SVG 1.1//EN\"\r\n  \"http://www.w3.org/Graphics/SVG/1.1/DTD/svg11.dtd\">\r\n<!-- Created with matplotlib (https://matplotlib.org/) -->\r\n<svg height=\"277.863125pt\" version=\"1.1\" viewBox=\"0 0 383.359375 277.863125\" width=\"383.359375pt\" xmlns=\"http://www.w3.org/2000/svg\" xmlns:xlink=\"http://www.w3.org/1999/xlink\">\r\n <defs>\r\n  <style type=\"text/css\">\r\n*{stroke-linecap:butt;stroke-linejoin:round;}\r\n  </style>\r\n </defs>\r\n <g id=\"figure_1\">\r\n  <g id=\"patch_1\">\r\n   <path d=\"M 0 277.863125 \r\nL 383.359375 277.863125 \r\nL 383.359375 0 \r\nL 0 0 \r\nz\r\n\" style=\"fill:none;\"/>\r\n  </g>\r\n  <g id=\"axes_1\">\r\n   <g id=\"patch_2\">\r\n    <path d=\"M 41.359375 239.750625 \r\nL 376.159375 239.750625 \r\nL 376.159375 22.310625 \r\nL 41.359375 22.310625 \r\nz\r\n\" style=\"fill:#ffffff;\"/>\r\n   </g>\r\n   <g id=\"patch_3\">\r\n    <path clip-path=\"url(#p4ce4f7d0f6)\" d=\"M 219.919375 239.750625 \r\nL 309.199375 239.750625 \r\nL 309.199375 218.006625 \r\nL 219.919375 218.006625 \r\nz\r\n\" style=\"fill:#1f77b4;\"/>\r\n   </g>\r\n   <g id=\"patch_4\">\r\n    <path clip-path=\"url(#p4ce4f7d0f6)\" d=\"M 108.319375 239.750625 \r\nL 197.599375 239.750625 \r\nL 197.599375 44.054625 \r\nL 108.319375 44.054625 \r\nz\r\n\" style=\"fill:#1f77b4;\"/>\r\n   </g>\r\n   <g id=\"matplotlib.axis_1\">\r\n    <g id=\"xtick_1\">\r\n     <g id=\"line2d_1\">\r\n      <defs>\r\n       <path d=\"M 0 0 \r\nL 0 3.5 \r\n\" id=\"m3fe8c5c7fd\" style=\"stroke:#000000;stroke-width:0.8;\"/>\r\n      </defs>\r\n      <g>\r\n       <use style=\"stroke:#000000;stroke-width:0.8;\" x=\"152.959375\" xlink:href=\"#m3fe8c5c7fd\" y=\"239.750625\"/>\r\n      </g>\r\n     </g>\r\n     <g id=\"text_1\">\r\n      <!-- x=0 -->\r\n      <defs>\r\n       <path d=\"M 45.0625 51.3125 \r\nL 27.875 25.25 \r\nL 44.828125 0 \r\nL 35.75 0 \r\nL 25.53125 16.84375 \r\nQ 24.421875 18.703125 23.296875 20.703125 \r\nL 23.046875 20.703125 \r\nQ 22.75 20.0625 20.75 16.84375 \r\nL 10.25 0 \r\nL 1.375 0 \r\nL 18.890625 25.09375 \r\nL 2.09375 51.3125 \r\nL 11.140625 51.3125 \r\nL 23.34375 29.640625 \r\nL 23.53125 29.640625 \r\nQ 23.828125 30.078125 25.640625 33.109375 \r\nL 36.625 51.3125 \r\nz\r\n\" id=\"MalgunGothic-120\"/>\r\n       <path d=\"M 58.59375 37.453125 \r\nL 11.625 37.453125 \r\nL 11.625 43.796875 \r\nL 58.59375 43.796875 \r\nz\r\nM 58.59375 16.109375 \r\nL 11.625 16.109375 \r\nL 11.625 22.515625 \r\nL 58.59375 22.515625 \r\nz\r\n\" id=\"MalgunGothic-61\"/>\r\n       <path d=\"M 4.34375 34.46875 \r\nQ 4.34375 53.515625 10.546875 63.28125 \r\nQ 16.75 73.046875 28.421875 73.046875 \r\nQ 50.828125 73.046875 50.828125 36.234375 \r\nQ 50.828125 18.0625 44.59375 8.421875 \r\nQ 38.375 -1.21875 26.8125 -1.21875 \r\nQ 15.875 -1.21875 10.109375 8.125 \r\nQ 4.34375 17.484375 4.34375 34.46875 \r\nz\r\nM 12.25 34.859375 \r\nQ 12.25 5.375 27.640625 5.375 \r\nQ 42.921875 5.375 42.921875 35.296875 \r\nQ 42.921875 66.40625 28.03125 66.40625 \r\nQ 12.25 66.40625 12.25 34.859375 \r\nz\r\n\" id=\"MalgunGothic-48\"/>\r\n      </defs>\r\n      <g transform=\"translate(144.378125 254.342812)scale(0.1 -0.1)\">\r\n       <use xlink:href=\"#MalgunGothic-120\"/>\r\n       <use x=\"46.484375\" xlink:href=\"#MalgunGothic-61\"/>\r\n       <use x=\"116.552734\" xlink:href=\"#MalgunGothic-48\"/>\r\n      </g>\r\n     </g>\r\n    </g>\r\n    <g id=\"xtick_2\">\r\n     <g id=\"line2d_2\">\r\n      <g>\r\n       <use style=\"stroke:#000000;stroke-width:0.8;\" x=\"264.559375\" xlink:href=\"#m3fe8c5c7fd\" y=\"239.750625\"/>\r\n      </g>\r\n     </g>\r\n     <g id=\"text_2\">\r\n      <!-- x=1 -->\r\n      <defs>\r\n       <path d=\"M 34.859375 0 \r\nL 27.09375 0 \r\nL 27.09375 62.0625 \r\nQ 24.859375 59.8125 19.78125 57.203125 \r\nQ 14.703125 54.59375 10.5 53.5625 \r\nL 10.5 61.859375 \r\nQ 15.875 63.375 22.015625 66.796875 \r\nQ 28.171875 70.21875 31.734375 73.4375 \r\nL 34.859375 73.4375 \r\nz\r\n\" id=\"MalgunGothic-49\"/>\r\n      </defs>\r\n      <g transform=\"translate(255.978125 254.342812)scale(0.1 -0.1)\">\r\n       <use xlink:href=\"#MalgunGothic-120\"/>\r\n       <use x=\"46.484375\" xlink:href=\"#MalgunGothic-61\"/>\r\n       <use x=\"116.552734\" xlink:href=\"#MalgunGothic-49\"/>\r\n      </g>\r\n     </g>\r\n    </g>\r\n    <g id=\"text_3\">\r\n     <!-- 표본값 -->\r\n     <defs>\r\n      <path d=\"M 15.578125 76.515625 \r\nL 84.421875 76.515625 \r\nL 84.421875 70.125 \r\nL 15.578125 70.125 \r\nz\r\nM 70.015625 40.09375 \r\nL 85.59375 40.09375 \r\nL 85.59375 33.6875 \r\nL 70.21875 33.6875 \r\nL 70.21875 11.8125 \r\nL 93.703125 11.8125 \r\nL 93.703125 5.328125 \r\nL 6.296875 5.328125 \r\nL 6.296875 11.8125 \r\nL 29.78125 11.8125 \r\nL 29.78125 33.6875 \r\nL 14.40625 33.6875 \r\nL 14.40625 40.09375 \r\nL 29.984375 40.09375 \r\nL 28.8125 65.1875 \r\nL 35.984375 65.1875 \r\nL 37.203125 40.09375 \r\nL 62.796875 40.09375 \r\nL 64.015625 65.1875 \r\nL 71.1875 65.1875 \r\nz\r\nM 37.109375 11.8125 \r\nL 62.890625 11.8125 \r\nL 62.890625 33.6875 \r\nL 37.109375 33.6875 \r\nz\r\n\" id=\"MalgunGothic-54364\"/>\r\n      <path d=\"M 6.296875 27.484375 \r\nL 6.296875 34.078125 \r\nL 46.296875 34.078125 \r\nL 46.296875 46.1875 \r\nL 21.1875 46.1875 \r\nL 21.1875 82.625 \r\nL 28.421875 82.625 \r\nL 28.421875 70.609375 \r\nL 71.578125 70.609375 \r\nL 71.578125 82.625 \r\nL 78.8125 82.625 \r\nL 78.8125 46.1875 \r\nL 53.71875 46.1875 \r\nL 53.71875 34.078125 \r\nL 93.703125 34.078125 \r\nL 93.703125 27.484375 \r\nz\r\nM 71.578125 64.109375 \r\nL 28.421875 64.109375 \r\nL 28.421875 52.59375 \r\nL 71.578125 52.59375 \r\nz\r\nM 20.609375 -5.609375 \r\nL 20.609375 21.484375 \r\nL 27.875 21.484375 \r\nL 27.875 0.875 \r\nL 81.296875 0.875 \r\nL 81.296875 -5.609375 \r\nz\r\n\" id=\"MalgunGothic-48376\"/>\r\n      <path d=\"M 79.984375 56 \r\nL 79.984375 37.109375 \r\nL 72.703125 37.109375 \r\nL 72.703125 85.40625 \r\nL 79.984375 85.40625 \r\nL 79.984375 62.5 \r\nL 94.1875 62.5 \r\nL 94.1875 56 \r\nz\r\nM 54.5 81.296875 \r\nQ 54.5 68.3125 44 55.3125 \r\nQ 33.5 42.328125 12.203125 34.078125 \r\nL 7.171875 40.1875 \r\nQ 24.265625 45.359375 34.265625 54.921875 \r\nQ 44.28125 64.5 46.296875 74.90625 \r\nL 12.984375 74.90625 \r\nL 12.984375 81.296875 \r\nz\r\nM 87.109375 -6.984375 \r\nQ 82.28125 -4 77.65625 1.3125 \r\nQ 73.046875 6.640625 71.484375 11.078125 \r\nQ 69.625 6.203125 64.8125 0.78125 \r\nQ 60.015625 -4.640625 55.328125 -6.984375 \r\nL 50.78125 -2.09375 \r\nQ 58.6875 1.703125 63.453125 9.078125 \r\nQ 68.21875 16.453125 68.21875 25.09375 \r\nL 68.21875 31.59375 \r\nL 74.8125 31.59375 \r\nL 74.8125 25.09375 \r\nQ 74.8125 16.65625 79.515625 9.15625 \r\nQ 84.234375 1.65625 91.890625 -2.09375 \r\nz\r\nM 19 -6.890625 \r\nL 19 31 \r\nL 25.875 31 \r\nL 25.875 17 \r\nL 42.1875 17 \r\nL 42.1875 31 \r\nL 49.125 31 \r\nL 49.125 -6.890625 \r\nz\r\nM 42.1875 10.984375 \r\nL 25.875 10.984375 \r\nL 25.875 -0.78125 \r\nL 42.1875 -0.78125 \r\nz\r\n\" id=\"MalgunGothic-44050\"/>\r\n     </defs>\r\n     <g transform=\"translate(193.759375 268.299062)scale(0.1 -0.1)\">\r\n      <use xlink:href=\"#MalgunGothic-54364\"/>\r\n      <use x=\"100\" xlink:href=\"#MalgunGothic-48376\"/>\r\n      <use x=\"200\" xlink:href=\"#MalgunGothic-44050\"/>\r\n     </g>\r\n    </g>\r\n   </g>\r\n   <g id=\"matplotlib.axis_2\">\r\n    <g id=\"ytick_1\">\r\n     <g id=\"line2d_3\">\r\n      <defs>\r\n       <path d=\"M 0 0 \r\nL -3.5 0 \r\n\" id=\"m4acdd569dd\" style=\"stroke:#000000;stroke-width:0.8;\"/>\r\n      </defs>\r\n      <g>\r\n       <use style=\"stroke:#000000;stroke-width:0.8;\" x=\"41.359375\" xlink:href=\"#m4acdd569dd\" y=\"239.750625\"/>\r\n      </g>\r\n     </g>\r\n     <g id=\"text_4\">\r\n      <!-- 0.0 -->\r\n      <defs>\r\n       <path d=\"M 5.5625 4.296875 \r\nQ 5.5625 6.59375 7.171875 8.171875 \r\nQ 8.796875 9.765625 10.9375 9.765625 \r\nQ 13.09375 9.765625 14.703125 8.171875 \r\nQ 16.3125 6.59375 16.3125 4.296875 \r\nQ 16.3125 2.15625 14.71875 0.515625 \r\nQ 13.140625 -1.125 10.9375 -1.125 \r\nQ 8.734375 -1.125 7.140625 0.453125 \r\nQ 5.5625 2.046875 5.5625 4.296875 \r\nz\r\n\" id=\"MalgunGothic-46\"/>\r\n      </defs>\r\n      <g transform=\"translate(21.15625 243.546719)scale(0.1 -0.1)\">\r\n       <use xlink:href=\"#MalgunGothic-48\"/>\r\n       <use x=\"55.078125\" xlink:href=\"#MalgunGothic-46\"/>\r\n       <use x=\"76.953125\" xlink:href=\"#MalgunGothic-48\"/>\r\n      </g>\r\n     </g>\r\n    </g>\r\n    <g id=\"ytick_2\">\r\n     <g id=\"line2d_4\">\r\n      <g>\r\n       <use style=\"stroke:#000000;stroke-width:0.8;\" x=\"41.359375\" xlink:href=\"#m4acdd569dd\" y=\"196.262625\"/>\r\n      </g>\r\n     </g>\r\n     <g id=\"text_5\">\r\n      <!-- 0.2 -->\r\n      <defs>\r\n       <path d=\"M 39.359375 52.6875 \r\nQ 39.359375 59.125 35.546875 62.78125 \r\nQ 31.734375 66.453125 25.4375 66.453125 \r\nQ 20.953125 66.453125 16.453125 64.125 \r\nQ 11.96875 61.8125 8.34375 57.765625 \r\nL 8.34375 66.15625 \r\nQ 15.328125 73.046875 26.421875 73.046875 \r\nQ 35.640625 73.046875 41.28125 67.71875 \r\nQ 46.921875 62.40625 46.921875 53.375 \r\nQ 46.921875 45.609375 43.3125 39.765625 \r\nQ 39.703125 33.9375 31 27.734375 \r\nQ 22.796875 21.96875 19.59375 18.984375 \r\nQ 16.40625 16.015625 15.109375 13.34375 \r\nQ 13.8125 10.6875 13.8125 7.03125 \r\nL 48.6875 7.03125 \r\nL 48.6875 0 \r\nL 5.5625 0 \r\nL 5.5625 3.515625 \r\nQ 5.5625 9.421875 7.203125 13.59375 \r\nQ 8.84375 17.78125 12.671875 21.75 \r\nQ 16.5 25.734375 24.953125 31.59375 \r\nQ 32.671875 36.921875 36.015625 41.71875 \r\nQ 39.359375 46.53125 39.359375 52.6875 \r\nz\r\n\" id=\"MalgunGothic-50\"/>\r\n      </defs>\r\n      <g transform=\"translate(21.15625 200.058719)scale(0.1 -0.1)\">\r\n       <use xlink:href=\"#MalgunGothic-48\"/>\r\n       <use x=\"55.078125\" xlink:href=\"#MalgunGothic-46\"/>\r\n       <use x=\"76.953125\" xlink:href=\"#MalgunGothic-50\"/>\r\n      </g>\r\n     </g>\r\n    </g>\r\n    <g id=\"ytick_3\">\r\n     <g id=\"line2d_5\">\r\n      <g>\r\n       <use style=\"stroke:#000000;stroke-width:0.8;\" x=\"41.359375\" xlink:href=\"#m4acdd569dd\" y=\"152.774625\"/>\r\n      </g>\r\n     </g>\r\n     <g id=\"text_6\">\r\n      <!-- 0.4 -->\r\n      <defs>\r\n       <path d=\"M 42.234375 71.875 \r\nL 42.234375 24.421875 \r\nL 51.703125 24.421875 \r\nL 51.703125 17.390625 \r\nL 42.234375 17.390625 \r\nL 42.234375 0 \r\nL 34.578125 0 \r\nL 34.578125 17.390625 \r\nL 0.78125 17.390625 \r\nL 0.78125 23.96875 \r\nQ 11.375 35.890625 20.234375 48.578125 \r\nQ 29.109375 61.28125 33.9375 71.875 \r\nz\r\nM 9.765625 24.421875 \r\nL 34.578125 24.421875 \r\nL 34.578125 59.859375 \r\nQ 25.203125 43.5625 14.984375 30.953125 \r\nz\r\n\" id=\"MalgunGothic-52\"/>\r\n      </defs>\r\n      <g transform=\"translate(21.15625 156.570719)scale(0.1 -0.1)\">\r\n       <use xlink:href=\"#MalgunGothic-48\"/>\r\n       <use x=\"55.078125\" xlink:href=\"#MalgunGothic-46\"/>\r\n       <use x=\"76.953125\" xlink:href=\"#MalgunGothic-52\"/>\r\n      </g>\r\n     </g>\r\n    </g>\r\n    <g id=\"ytick_4\">\r\n     <g id=\"line2d_6\">\r\n      <g>\r\n       <use style=\"stroke:#000000;stroke-width:0.8;\" x=\"41.359375\" xlink:href=\"#m4acdd569dd\" y=\"109.286625\"/>\r\n      </g>\r\n     </g>\r\n     <g id=\"text_7\">\r\n      <!-- 0.6 -->\r\n      <defs>\r\n       <path d=\"M 46.578125 63.578125 \r\nQ 40.921875 66.40625 34.8125 66.40625 \r\nQ 24.859375 66.40625 19.1875 57.640625 \r\nQ 13.53125 48.875 13.578125 34.578125 \r\nL 13.8125 34.578125 \r\nQ 18.796875 44.875 30.28125 44.875 \r\nQ 39.796875 44.875 45.359375 38.71875 \r\nQ 50.921875 32.5625 50.921875 22.65625 \r\nQ 50.921875 12.453125 44.640625 5.609375 \r\nQ 38.375 -1.21875 28.515625 -1.21875 \r\nQ 17.4375 -1.21875 11.5 7.46875 \r\nQ 5.5625 16.15625 5.5625 31.546875 \r\nQ 5.5625 49.703125 13.234375 61.375 \r\nQ 20.90625 73.046875 34.71875 73.046875 \r\nQ 42.1875 73.046875 46.578125 71 \r\nz\r\nM 14.15625 23.53125 \r\nQ 14.15625 15.96875 18.203125 10.671875 \r\nQ 22.265625 5.375 28.8125 5.375 \r\nQ 35.109375 5.375 39.03125 10.078125 \r\nQ 42.96875 14.796875 42.96875 21.6875 \r\nQ 42.96875 29.5 39.203125 33.859375 \r\nQ 35.453125 38.234375 28.71875 38.234375 \r\nQ 22.5625 38.234375 18.359375 33.953125 \r\nQ 14.15625 29.6875 14.15625 23.53125 \r\nz\r\n\" id=\"MalgunGothic-54\"/>\r\n      </defs>\r\n      <g transform=\"translate(21.15625 113.082719)scale(0.1 -0.1)\">\r\n       <use xlink:href=\"#MalgunGothic-48\"/>\r\n       <use x=\"55.078125\" xlink:href=\"#MalgunGothic-46\"/>\r\n       <use x=\"76.953125\" xlink:href=\"#MalgunGothic-54\"/>\r\n      </g>\r\n     </g>\r\n    </g>\r\n    <g id=\"ytick_5\">\r\n     <g id=\"line2d_7\">\r\n      <g>\r\n       <use style=\"stroke:#000000;stroke-width:0.8;\" x=\"41.359375\" xlink:href=\"#m4acdd569dd\" y=\"65.798625\"/>\r\n      </g>\r\n     </g>\r\n     <g id=\"text_8\">\r\n      <!-- 0.8 -->\r\n      <defs>\r\n       <path d=\"M 4.734375 20.015625 \r\nQ 4.734375 26.078125 8.421875 31.421875 \r\nQ 12.109375 36.765625 18.015625 38.96875 \r\nQ 13.375 41.359375 10.546875 45.546875 \r\nQ 7.71875 49.75 7.71875 54.6875 \r\nQ 7.71875 59.8125 10.296875 64.03125 \r\nQ 12.890625 68.265625 17.53125 70.65625 \r\nQ 22.171875 73.046875 27.78125 73.046875 \r\nQ 36.46875 73.046875 42.1875 67.84375 \r\nQ 47.90625 62.640625 47.90625 54.6875 \r\nQ 47.90625 49.703125 45.015625 45.53125 \r\nQ 42.140625 41.359375 37.703125 38.96875 \r\nQ 43.5625 36.71875 47.21875 31.390625 \r\nQ 50.875 26.078125 50.875 20.015625 \r\nQ 50.875 10.5 44.421875 4.640625 \r\nQ 37.984375 -1.21875 27.78125 -1.21875 \r\nQ 17.671875 -1.21875 11.203125 4.703125 \r\nQ 4.734375 10.640625 4.734375 20.015625 \r\nz\r\nM 12.640625 20.75 \r\nQ 12.640625 13.71875 16.890625 9.546875 \r\nQ 21.140625 5.375 27.828125 5.375 \r\nQ 34.46875 5.375 38.78125 9.671875 \r\nQ 43.109375 13.96875 43.109375 20.75 \r\nQ 43.109375 27.046875 38.78125 31.421875 \r\nQ 34.46875 35.796875 27.828125 35.796875 \r\nQ 21.4375 35.796875 17.03125 31.5625 \r\nQ 12.640625 27.34375 12.640625 20.75 \r\nz\r\nM 15.671875 54.046875 \r\nQ 15.671875 48.828125 19.28125 45.3125 \r\nQ 22.90625 41.796875 27.828125 41.796875 \r\nQ 32.765625 41.796875 36.40625 45.3125 \r\nQ 40.046875 48.828125 40.046875 54.046875 \r\nQ 40.046875 59.421875 36.578125 62.90625 \r\nQ 33.109375 66.40625 27.828125 66.40625 \r\nQ 22.65625 66.40625 19.15625 62.953125 \r\nQ 15.671875 59.515625 15.671875 54.046875 \r\nz\r\n\" id=\"MalgunGothic-56\"/>\r\n      </defs>\r\n      <g transform=\"translate(21.15625 69.594719)scale(0.1 -0.1)\">\r\n       <use xlink:href=\"#MalgunGothic-48\"/>\r\n       <use x=\"55.078125\" xlink:href=\"#MalgunGothic-46\"/>\r\n       <use x=\"76.953125\" xlink:href=\"#MalgunGothic-56\"/>\r\n      </g>\r\n     </g>\r\n    </g>\r\n    <g id=\"ytick_6\">\r\n     <g id=\"line2d_8\">\r\n      <g>\r\n       <use style=\"stroke:#000000;stroke-width:0.8;\" x=\"41.359375\" xlink:href=\"#m4acdd569dd\" y=\"22.310625\"/>\r\n      </g>\r\n     </g>\r\n     <g id=\"text_9\">\r\n      <!-- 1.0 -->\r\n      <g transform=\"translate(21.15625 26.106719)scale(0.1 -0.1)\">\r\n       <use xlink:href=\"#MalgunGothic-49\"/>\r\n       <use x=\"55.078125\" xlink:href=\"#MalgunGothic-46\"/>\r\n       <use x=\"76.953125\" xlink:href=\"#MalgunGothic-48\"/>\r\n      </g>\r\n     </g>\r\n    </g>\r\n    <g id=\"text_10\">\r\n     <!-- P(x) -->\r\n     <defs>\r\n      <path d=\"M 17.390625 27.296875 \r\nL 17.390625 0 \r\nL 9.515625 0 \r\nL 9.515625 71.875 \r\nL 28.90625 71.875 \r\nQ 40.234375 71.875 46.546875 66.25 \r\nQ 52.875 60.640625 52.875 50.484375 \r\nQ 52.875 39.984375 45.453125 33.4375 \r\nQ 38.03125 26.90625 27 27.296875 \r\nz\r\nM 17.390625 64.546875 \r\nL 17.390625 34.671875 \r\nL 26.421875 34.671875 \r\nQ 35.25 34.671875 39.90625 38.671875 \r\nQ 44.578125 42.671875 44.578125 50.09375 \r\nQ 44.578125 64.546875 27.484375 64.546875 \r\nz\r\n\" id=\"MalgunGothic-80\"/>\r\n      <path d=\"M 22.46875 -16.3125 \r\nQ 6.984375 1.375 6.984375 27.390625 \r\nQ 6.984375 53.609375 22.46875 71.875 \r\nL 29.5 71.875 \r\nQ 13.71875 52.6875 13.71875 27.484375 \r\nQ 13.71875 2.390625 29.390625 -16.3125 \r\nz\r\n\" id=\"MalgunGothic-40\"/>\r\n      <path d=\"M 1.265625 -16.3125 \r\nQ 16.890625 2.34375 16.890625 27.484375 \r\nQ 16.890625 52.78125 1.125 71.875 \r\nL 8.203125 71.875 \r\nQ 23.78125 53.609375 23.78125 27.390625 \r\nQ 23.78125 1.375 8.203125 -16.3125 \r\nz\r\n\" id=\"MalgunGothic-41\"/>\r\n     </defs>\r\n     <g transform=\"translate(14.792188 139.255625)rotate(-90)scale(0.1 -0.1)\">\r\n      <use xlink:href=\"#MalgunGothic-80\"/>\r\n      <use x=\"57.080078\" xlink:href=\"#MalgunGothic-40\"/>\r\n      <use x=\"87.548828\" xlink:href=\"#MalgunGothic-120\"/>\r\n      <use x=\"134.033203\" xlink:href=\"#MalgunGothic-41\"/>\r\n     </g>\r\n    </g>\r\n   </g>\r\n   <g id=\"patch_5\">\r\n    <path d=\"M 41.359375 239.750625 \r\nL 41.359375 22.310625 \r\n\" style=\"fill:none;stroke:#000000;stroke-linecap:square;stroke-linejoin:miter;stroke-width:0.8;\"/>\r\n   </g>\r\n   <g id=\"patch_6\">\r\n    <path d=\"M 376.159375 239.750625 \r\nL 376.159375 22.310625 \r\n\" style=\"fill:none;stroke:#000000;stroke-linecap:square;stroke-linejoin:miter;stroke-width:0.8;\"/>\r\n   </g>\r\n   <g id=\"patch_7\">\r\n    <path d=\"M 41.359375 239.750625 \r\nL 376.159375 239.750625 \r\n\" style=\"fill:none;stroke:#000000;stroke-linecap:square;stroke-linejoin:miter;stroke-width:0.8;\"/>\r\n   </g>\r\n   <g id=\"patch_8\">\r\n    <path d=\"M 41.359375 22.310625 \r\nL 376.159375 22.310625 \r\n\" style=\"fill:none;stroke:#000000;stroke-linecap:square;stroke-linejoin:miter;stroke-width:0.8;\"/>\r\n   </g>\r\n   <g id=\"text_11\">\r\n    <!-- 베르누이 확률변수의 확률질량함수 -->\r\n    <defs>\r\n     <path d=\"M 79.203125 -8.796875 \r\nL 79.203125 85.40625 \r\nL 86.625 85.40625 \r\nL 86.625 -8.796875 \r\nz\r\nM 12.015625 16.21875 \r\nL 12.015625 79.390625 \r\nL 19.1875 79.390625 \r\nL 19.1875 54.390625 \r\nL 42.828125 54.390625 \r\nL 42.828125 79.390625 \r\nL 50 79.390625 \r\nL 50 50.296875 \r\nL 62.59375 50.296875 \r\nL 62.59375 83.5 \r\nL 69.921875 83.5 \r\nL 69.921875 -5.90625 \r\nL 62.59375 -5.90625 \r\nL 62.59375 43.796875 \r\nL 50 43.796875 \r\nL 50 16.21875 \r\nz\r\nM 42.828125 47.90625 \r\nL 19.1875 47.90625 \r\nL 19.1875 22.703125 \r\nL 42.828125 22.703125 \r\nz\r\n\" id=\"MalgunGothic-48288\"/>\r\n     <path d=\"M 20.21875 28.859375 \r\nL 20.21875 56.734375 \r\nL 72.609375 56.734375 \r\nL 72.609375 70.75 \r\nL 20.3125 70.75 \r\nL 20.3125 77.25 \r\nL 79.890625 77.25 \r\nL 79.890625 50.4375 \r\nL 27.484375 50.4375 \r\nL 27.484375 35.359375 \r\nL 82.625 35.359375 \r\nL 82.625 28.859375 \r\nz\r\nM 6.296875 5.71875 \r\nL 6.296875 12.203125 \r\nL 93.703125 12.203125 \r\nL 93.703125 5.71875 \r\nz\r\n\" id=\"MalgunGothic-47476\"/>\r\n     <path d=\"M 21.09375 50 \r\nL 21.09375 82.078125 \r\nL 28.421875 82.078125 \r\nL 28.421875 56.390625 \r\nL 81.390625 56.390625 \r\nL 81.390625 50 \r\nz\r\nM 53.609375 28.421875 \r\nL 53.609375 -8.796875 \r\nL 46.296875 -8.796875 \r\nL 46.296875 28.421875 \r\nL 6.296875 28.421875 \r\nL 6.296875 34.90625 \r\nL 93.703125 34.90625 \r\nL 93.703125 28.421875 \r\nz\r\n\" id=\"MalgunGothic-45572\"/>\r\n     <path d=\"M 77.296875 -8.796875 \r\nL 77.296875 85.40625 \r\nL 84.625 85.40625 \r\nL 84.625 -8.796875 \r\nz\r\nM 35.6875 14.984375 \r\nQ 24.953125 14.984375 18.328125 23.65625 \r\nQ 11.71875 32.328125 11.71875 47.125 \r\nQ 11.71875 62.109375 18.265625 70.65625 \r\nQ 24.8125 79.203125 35.6875 79.203125 \r\nQ 46.53125 79.203125 53.171875 70.65625 \r\nQ 59.8125 62.109375 59.8125 47.125 \r\nQ 59.8125 32.234375 53.140625 23.609375 \r\nQ 46.484375 14.984375 35.6875 14.984375 \r\nz\r\nM 35.6875 72.703125 \r\nQ 28.171875 72.703125 23.484375 65.6875 \r\nQ 18.796875 58.6875 18.796875 47.125 \r\nQ 18.796875 35.59375 23.53125 28.53125 \r\nQ 28.265625 21.484375 35.6875 21.484375 \r\nQ 43.0625 21.484375 47.828125 28.5625 \r\nQ 52.59375 35.640625 52.59375 47.125 \r\nQ 52.59375 58.734375 47.921875 65.71875 \r\nQ 43.265625 72.703125 35.6875 72.703125 \r\nz\r\n\" id=\"MalgunGothic-51060\"/>\r\n     <path id=\"MalgunGothic-32\"/>\r\n     <path d=\"M 9.515625 70.015625 \r\nL 9.515625 76.421875 \r\nL 33.6875 76.421875 \r\nL 33.6875 86.1875 \r\nL 40.921875 86.1875 \r\nL 40.921875 76.421875 \r\nL 64.984375 76.421875 \r\nL 64.984375 70.015625 \r\nz\r\nM 81.5 45.40625 \r\nL 81.5 22.90625 \r\nL 74.3125 22.90625 \r\nL 74.3125 85.40625 \r\nL 81.5 85.40625 \r\nL 81.5 51.90625 \r\nL 95.609375 51.90625 \r\nL 95.609375 45.40625 \r\nz\r\nM 68.40625 26.125 \r\nQ 45.453125 24.609375 6.890625 24.609375 \r\nL 6.203125 30.90625 \r\nQ 21 30.90625 33.59375 31.203125 \r\nL 33.59375 38.71875 \r\nQ 23.96875 39.40625 18.9375 43.15625 \r\nQ 13.921875 46.921875 13.921875 52.6875 \r\nQ 13.921875 59.234375 20.109375 63.0625 \r\nQ 26.3125 66.890625 37.3125 66.890625 \r\nQ 48 66.890625 54.296875 62.9375 \r\nQ 60.59375 58.984375 60.59375 52.6875 \r\nQ 60.59375 46.828125 55.421875 43.0625 \r\nQ 50.25 39.3125 40.828125 38.71875 \r\nL 40.828125 31.296875 \r\nQ 57.421875 31.5 68.015625 32.171875 \r\nz\r\nM 37.3125 60.890625 \r\nQ 29.296875 60.890625 25.1875 58.640625 \r\nQ 21.09375 56.390625 21.09375 52.6875 \r\nQ 21.09375 48.96875 25.390625 46.71875 \r\nQ 29.6875 44.484375 37.3125 44.484375 \r\nQ 44.921875 44.484375 49.171875 46.703125 \r\nQ 53.421875 48.921875 53.421875 52.6875 \r\nQ 53.421875 56.390625 49.359375 58.640625 \r\nQ 45.3125 60.890625 37.3125 60.890625 \r\nz\r\nM 74.3125 -8.796875 \r\nL 74.3125 11.71875 \r\nL 20.796875 11.71875 \r\nL 20.796875 18.109375 \r\nL 81.5 18.109375 \r\nL 81.5 -8.796875 \r\nz\r\n\" id=\"MalgunGothic-54869\"/>\r\n     <path d=\"M 21 49.21875 \r\nL 21 69.484375 \r\nL 71.78125 69.484375 \r\nL 71.78125 77.390625 \r\nL 21 77.390625 \r\nL 21 83.796875 \r\nL 79 83.796875 \r\nL 79 63.1875 \r\nL 28.21875 63.1875 \r\nL 28.21875 55.609375 \r\nL 81.109375 55.609375 \r\nL 81.109375 49.21875 \r\nz\r\nM 20.703125 -6.984375 \r\nL 20.703125 13.375 \r\nL 72.015625 13.375 \r\nL 72.015625 20.515625 \r\nL 20.703125 20.515625 \r\nL 20.703125 26.90625 \r\nL 31.296875 26.90625 \r\nL 31.296875 35.296875 \r\nL 6.296875 35.296875 \r\nL 6.296875 41.609375 \r\nL 93.703125 41.609375 \r\nL 93.703125 35.296875 \r\nL 68.703125 35.296875 \r\nL 68.703125 26.90625 \r\nL 79.203125 26.90625 \r\nL 79.203125 7.078125 \r\nL 27.875 7.078125 \r\nL 27.875 -0.59375 \r\nL 81.296875 -0.59375 \r\nL 81.296875 -6.984375 \r\nz\r\nM 61.53125 26.90625 \r\nL 61.53125 35.296875 \r\nL 38.484375 35.296875 \r\nL 38.484375 26.90625 \r\nz\r\n\" id=\"MalgunGothic-47456\"/>\r\n     <path d=\"M 16.21875 32.171875 \r\nL 16.21875 81 \r\nL 23.390625 81 \r\nL 23.390625 63.625 \r\nL 52.59375 63.625 \r\nL 52.59375 81 \r\nL 59.8125 81 \r\nL 59.8125 69 \r\nL 77.296875 69 \r\nL 77.296875 85.40625 \r\nL 84.625 85.40625 \r\nL 84.625 16.609375 \r\nL 77.296875 16.609375 \r\nL 77.296875 41.703125 \r\nL 59.8125 41.703125 \r\nL 59.8125 32.171875 \r\nz\r\nM 59.8125 48.1875 \r\nL 77.296875 48.1875 \r\nL 77.296875 62.5 \r\nL 59.8125 62.5 \r\nz\r\nM 52.59375 57.078125 \r\nL 23.390625 57.078125 \r\nL 23.390625 38.71875 \r\nL 52.59375 38.71875 \r\nz\r\nM 27.09375 -6.109375 \r\nL 27.09375 24.421875 \r\nL 34.421875 24.421875 \r\nL 34.421875 0.390625 \r\nL 87.59375 0.390625 \r\nL 87.59375 -6.109375 \r\nz\r\n\" id=\"MalgunGothic-48320\"/>\r\n     <path d=\"M 85.796875 46.78125 \r\nQ 74.21875 48.390625 63.71875 54.65625 \r\nQ 53.21875 60.9375 50 66.796875 \r\nQ 46.484375 60.796875 36.078125 54.546875 \r\nQ 25.6875 48.296875 14.40625 46.1875 \r\nL 9.90625 52.296875 \r\nQ 24.359375 53.90625 35.328125 61.59375 \r\nQ 46.296875 69.28125 46.296875 78.328125 \r\nL 46.296875 82.421875 \r\nL 53.609375 82.421875 \r\nL 53.609375 78.328125 \r\nQ 53.609375 69.234375 64.34375 61.6875 \r\nQ 75.09375 54.15625 90.09375 52.78125 \r\nz\r\nM 53.609375 28.71875 \r\nL 53.609375 -8.796875 \r\nL 46.296875 -8.796875 \r\nL 46.296875 28.71875 \r\nL 6.296875 28.71875 \r\nL 6.296875 35.203125 \r\nL 93.703125 35.203125 \r\nL 93.703125 28.71875 \r\nz\r\n\" id=\"MalgunGothic-49688\"/>\r\n     <path d=\"M 78.328125 -8.796875 \r\nL 78.328125 85.40625 \r\nL 85.59375 85.40625 \r\nL 85.59375 -8.796875 \r\nz\r\nM 38.28125 33.296875 \r\nQ 27.734375 33.296875 20.546875 39.6875 \r\nQ 13.375 46.09375 13.375 55.8125 \r\nQ 13.375 65.328125 20.5 71.765625 \r\nQ 27.640625 78.21875 38.28125 78.21875 \r\nQ 48.875 78.21875 56.03125 71.71875 \r\nQ 63.1875 65.234375 63.1875 55.8125 \r\nQ 63.1875 46.046875 56.046875 39.671875 \r\nQ 48.921875 33.296875 38.28125 33.296875 \r\nz\r\nM 38.28125 71.78125 \r\nQ 30.859375 71.78125 25.875 67.28125 \r\nQ 20.90625 62.796875 20.90625 55.8125 \r\nQ 20.90625 48.734375 26 44.265625 \r\nQ 31.109375 39.796875 38.28125 39.796875 \r\nQ 45.65625 39.796875 50.6875 44.265625 \r\nQ 55.71875 48.734375 55.71875 55.8125 \r\nQ 55.71875 62.890625 50.734375 67.328125 \r\nQ 45.75 71.78125 38.28125 71.78125 \r\nz\r\nM 7.171875 8.296875 \r\nL 6.5 14.59375 \r\nQ 19.09375 14.59375 41.671875 15.078125 \r\nQ 64.265625 15.578125 71.6875 16.21875 \r\nL 72.125 9.90625 \r\nQ 64.453125 9.28125 41.859375 8.78125 \r\nQ 19.28125 8.296875 7.171875 8.296875 \r\nz\r\n\" id=\"MalgunGothic-51032\"/>\r\n     <path d=\"M 77.203125 38.28125 \r\nL 77.203125 85.40625 \r\nL 84.515625 85.40625 \r\nL 84.515625 38.28125 \r\nz\r\nM 60.984375 41.609375 \r\nQ 53.171875 45.21875 46.796875 50.5625 \r\nQ 40.4375 55.90625 38.375 60.59375 \r\nQ 35.640625 54.890625 28.859375 48.640625 \r\nQ 22.078125 42.390625 15.484375 39.203125 \r\nL 10.296875 44.09375 \r\nQ 21.484375 49.265625 28.140625 57.21875 \r\nQ 34.8125 65.1875 34.8125 74.03125 \r\nL 34.8125 75.6875 \r\nL 13.71875 75.6875 \r\nL 13.71875 82.171875 \r\nL 63.1875 82.171875 \r\nL 63.1875 75.6875 \r\nL 41.796875 75.6875 \r\nL 41.796875 74.03125 \r\nQ 41.796875 65.4375 48.921875 57.90625 \r\nQ 56.0625 50.390625 65.921875 47.21875 \r\nz\r\nM 26.515625 -6.59375 \r\nL 26.515625 16.703125 \r\nL 77.296875 16.703125 \r\nL 77.296875 26.8125 \r\nL 26.515625 26.8125 \r\nL 26.515625 33.296875 \r\nL 84.515625 33.296875 \r\nL 84.515625 10.40625 \r\nL 33.6875 10.40625 \r\nL 33.6875 -0.09375 \r\nL 87.109375 -0.09375 \r\nL 87.109375 -6.59375 \r\nz\r\n\" id=\"MalgunGothic-51656\"/>\r\n     <path d=\"M 80.078125 43.3125 \r\nL 80.078125 30.21875 \r\nL 72.796875 30.21875 \r\nL 72.796875 85.40625 \r\nL 80.078125 85.40625 \r\nL 80.078125 69.921875 \r\nL 94.28125 69.921875 \r\nL 94.28125 63.484375 \r\nL 80.078125 63.484375 \r\nL 80.078125 49.703125 \r\nL 94.28125 49.703125 \r\nL 94.28125 43.3125 \r\nz\r\nM 63.71875 36.71875 \r\nQ 56.0625 35.453125 48.171875 35.171875 \r\nQ 40.28125 34.90625 12.890625 34.90625 \r\nL 12.890625 62.203125 \r\nL 47.703125 62.203125 \r\nL 47.703125 74.90625 \r\nL 12.890625 74.90625 \r\nL 12.890625 81.296875 \r\nL 54.984375 81.296875 \r\nL 54.984375 55.90625 \r\nL 20.21875 55.90625 \r\nL 20.21875 41.3125 \r\nQ 42.828125 41.3125 49.96875 41.59375 \r\nQ 57.125 41.890625 62.5 42.921875 \r\nz\r\nM 50.984375 -7.515625 \r\nQ 36.03125 -7.515625 28.171875 -2.875 \r\nQ 20.3125 1.765625 20.3125 9.625 \r\nQ 20.3125 17.53125 28.25 22.171875 \r\nQ 36.1875 26.8125 50.984375 26.8125 \r\nQ 65.765625 26.8125 73.71875 22.21875 \r\nQ 81.6875 17.625 81.6875 9.625 \r\nQ 81.6875 1.65625 73.828125 -2.921875 \r\nQ 65.96875 -7.515625 50.984375 -7.515625 \r\nz\r\nM 50.984375 20.609375 \r\nQ 39.796875 20.609375 33.9375 17.71875 \r\nQ 28.078125 14.84375 28.078125 9.625 \r\nQ 28.078125 4.34375 33.984375 1.515625 \r\nQ 39.890625 -1.3125 50.984375 -1.3125 \r\nQ 62.203125 -1.3125 68.109375 1.53125 \r\nQ 74.03125 4.390625 74.03125 9.625 \r\nQ 74.03125 14.796875 68.171875 17.703125 \r\nQ 62.3125 20.609375 50.984375 20.609375 \r\nz\r\n\" id=\"MalgunGothic-47049\"/>\r\n     <path d=\"M 6.984375 67.28125 \r\nL 6.984375 73.6875 \r\nL 31.203125 73.6875 \r\nL 31.203125 85.890625 \r\nL 38.484375 85.890625 \r\nL 38.484375 73.6875 \r\nL 62.703125 73.6875 \r\nL 62.703125 67.28125 \r\nz\r\nM 80.078125 49.21875 \r\nL 80.078125 29.203125 \r\nL 72.796875 29.203125 \r\nL 72.796875 85.40625 \r\nL 80.078125 85.40625 \r\nL 80.078125 55.8125 \r\nL 94.28125 55.8125 \r\nL 94.28125 49.21875 \r\nz\r\nM 35.015625 30.71875 \r\nQ 24.125 30.71875 17.96875 35.1875 \r\nQ 11.8125 39.65625 11.8125 46.78125 \r\nQ 11.8125 53.953125 18.03125 58.46875 \r\nQ 24.265625 62.984375 35.109375 62.984375 \r\nQ 45.953125 62.984375 52.171875 58.46875 \r\nQ 58.40625 53.953125 58.40625 46.78125 \r\nQ 58.40625 39.75 52.171875 35.234375 \r\nQ 45.953125 30.71875 35.015625 30.71875 \r\nz\r\nM 35.109375 56.78125 \r\nQ 27.546875 56.78125 23.265625 54 \r\nQ 19 51.21875 19 46.78125 \r\nQ 19 42.390625 23.234375 39.65625 \r\nQ 27.484375 36.921875 35.109375 36.921875 \r\nQ 42.71875 36.921875 46.96875 39.65625 \r\nQ 51.21875 42.390625 51.21875 46.78125 \r\nQ 51.21875 51.21875 46.9375 54 \r\nQ 42.671875 56.78125 35.109375 56.78125 \r\nz\r\nM 22.3125 -7.078125 \r\nL 22.3125 24.03125 \r\nL 80.078125 24.03125 \r\nL 80.078125 -7.078125 \r\nz\r\nM 72.90625 17.578125 \r\nL 29.5 17.578125 \r\nL 29.5 -0.59375 \r\nL 72.90625 -0.59375 \r\nz\r\n\" id=\"MalgunGothic-54632\"/>\r\n    </defs>\r\n    <g transform=\"translate(114.540625 16.310625)scale(0.12 -0.12)\">\r\n     <use xlink:href=\"#MalgunGothic-48288\"/>\r\n     <use x=\"100\" xlink:href=\"#MalgunGothic-47476\"/>\r\n     <use x=\"200\" xlink:href=\"#MalgunGothic-45572\"/>\r\n     <use x=\"300\" xlink:href=\"#MalgunGothic-51060\"/>\r\n     <use x=\"400\" xlink:href=\"#MalgunGothic-32\"/>\r\n     <use x=\"435.15625\" xlink:href=\"#MalgunGothic-54869\"/>\r\n     <use x=\"535.15625\" xlink:href=\"#MalgunGothic-47456\"/>\r\n     <use x=\"635.15625\" xlink:href=\"#MalgunGothic-48320\"/>\r\n     <use x=\"735.15625\" xlink:href=\"#MalgunGothic-49688\"/>\r\n     <use x=\"835.15625\" xlink:href=\"#MalgunGothic-51032\"/>\r\n     <use x=\"935.15625\" xlink:href=\"#MalgunGothic-32\"/>\r\n     <use x=\"970.3125\" xlink:href=\"#MalgunGothic-54869\"/>\r\n     <use x=\"1070.3125\" xlink:href=\"#MalgunGothic-47456\"/>\r\n     <use x=\"1170.3125\" xlink:href=\"#MalgunGothic-51656\"/>\r\n     <use x=\"1270.3125\" xlink:href=\"#MalgunGothic-47049\"/>\r\n     <use x=\"1370.3125\" xlink:href=\"#MalgunGothic-54632\"/>\r\n     <use x=\"1470.3125\" xlink:href=\"#MalgunGothic-49688\"/>\r\n    </g>\r\n   </g>\r\n  </g>\r\n </g>\r\n <defs>\r\n  <clipPath id=\"p4ce4f7d0f6\">\r\n   <rect height=\"217.44\" width=\"334.8\" x=\"41.359375\" y=\"22.310625\"/>\r\n  </clipPath>\r\n </defs>\r\n</svg>\r\n",
      "image/png": "[encoded data removed]"
     },
     "metadata": {
      "needs_background": "light"
     }
    }
   ],
   "source": [
    "plt.bar(xx, rv.pmf(xx))\n",
    "plt.xlim(-1, 2)\n",
    "plt.ylim(0, 1)\n",
    "plt.xticks([0, 1], [\"x=0\", \"x=1\"])\n",
    "plt.xlabel(\"표본값\")\n",
    "plt.ylabel(\"P(x)\")\n",
    "plt.title(\"베르누이 확률변수의 확률질량함수\")\n",
    "plt.show()"
   ]
  },
  {
   "cell_type": "code",
   "execution_count": 7,
   "metadata": {},
   "outputs": [
    {
     "output_type": "execute_result",
     "data": {
      "text/plain": [
       "array([0.16666667, 0.83333333])"
      ]
     },
     "metadata": {},
     "execution_count": 7
    }
   ],
   "source": [
    "#주사위를 1개던져서 3이 나올 확률을 구하시요..\n",
    "mu = 1/6\n",
    "rv = stats.bernoulli( mu )\n",
    "xx = [1,0]\n",
    "rv.pmf( xx )"
   ]
  },
  {
   "cell_type": "code",
   "execution_count": 8,
   "metadata": {},
   "outputs": [
    {
     "output_type": "execute_result",
     "data": {
      "text/plain": [
       "((1, 5), (2, 4), (3, 3), (4, 2), (5, 1))"
      ]
     },
     "metadata": {},
     "execution_count": 8
    }
   ],
   "source": [
    "##주사위 2개를 던졌을때 눈금의 합이 6이 나올 확률을 구하시요.\n",
    "(1,5), (2,4), (3,3), (4,2), (5,1)"
   ]
  },
  {
   "cell_type": "code",
   "execution_count": 9,
   "metadata": {
    "scrolled": true
   },
   "outputs": [
    {
     "output_type": "execute_result",
     "data": {
      "text/plain": [
       "array([0.13888889, 0.86111111])"
      ]
     },
     "metadata": {},
     "execution_count": 9
    }
   ],
   "source": [
    "mu = 5/36 \n",
    "rv = stats.bernoulli(mu)\n",
    "xx = [1, 0]\n",
    "rv.pmf(xx)"
   ]
  },
  {
   "cell_type": "code",
   "execution_count": 10,
   "metadata": {},
   "outputs": [
    {
     "output_type": "execute_result",
     "data": {
      "text/plain": [
       "0.1388888888888889"
      ]
     },
     "metadata": {},
     "execution_count": 10
    }
   ],
   "source": [
    "rv.mean()"
   ]
  },
  {
   "cell_type": "code",
   "execution_count": 11,
   "metadata": {},
   "outputs": [
    {
     "output_type": "execute_result",
     "data": {
      "text/plain": [
       "0.11959876543209878"
      ]
     },
     "metadata": {},
     "execution_count": 11
    }
   ],
   "source": [
    "rv.var()"
   ]
  },
  {
   "cell_type": "markdown",
   "metadata": {},
   "source": [
    "1000 개의 사탕이 들어있는 바구니가 \n",
    "있다.( 갈색, 파랑, 보라) <br>\n",
    "한 주먹을 쥐어서 사탕을 뽑았더니 100개였고 갈색 사탕비율이 36%가 나왔다. <br>\n",
    "갈색사탕이 몇%정도 들어있는지 \n",
    "신뢰구간 95%로 추정하시요.\n",
    "( 실제 갈색사탕의비율 40.3%)"
   ]
  },
  {
   "cell_type": "code",
   "execution_count": 22,
   "metadata": {},
   "outputs": [
    {
     "output_type": "stream",
     "name": "stdout",
     "text": [
      "0.45408\n36%에서 신뢰구간 9.408% \n0.26592\n"
     ]
    }
   ],
   "source": [
    "p = 0.36\n",
    "n = 100\n",
    "print(p + 1.96 * np.sqrt((p*(1-p))/n))\n",
    "print('36%에서 신뢰구간 {}% '.format((0.45408 - p)*100))\n",
    "print(p - 1.96 * np.sqrt((p*(1-p))/n))"
   ]
  },
  {
   "cell_type": "code",
   "execution_count": null,
   "metadata": {},
   "outputs": [],
   "source": [
    "'''\n",
    "1000 개의 사탕이 들어있는 바구니가 있다.( 갈색, 파랑, 보라)\n",
    "갈색사탕이 몇 %정도 들어있는지 50개의 표본을 임의로 추출 후 확인해 보았더니\n",
    "20개 (갈색), 17(파랑), 13(보라) 있었다.\n",
    "갈색사탕이 몇%정도 들어있는지 신뢰구간 99%로 추정하시요. ( 실제 갈색사탕의비율 40.3%)\n",
    "'''"
   ]
  },
  {
   "cell_type": "code",
   "execution_count": 26,
   "metadata": {},
   "outputs": [
    {
     "output_type": "stream",
     "name": "stdout",
     "text": [
      "0.22125235665889187 <= 신뢰구간 <= 0.5787476433411082\n40.0% +- 17.874764334110814% 포인트\n"
     ]
    }
   ],
   "source": [
    "p = 20/50\n",
    "n = 50\n",
    "\n",
    "a = p + 2.58 * np.sqrt(p*(1-p)/n)\n",
    "b = p - 2.58 * np.sqrt(p*(1-p)/n)\n",
    "print(f'{b} <= 신뢰구간 <= {a}')\n",
    "print(f'{p*100}% +- {(a-p)*100}% 포인트')\n"
   ]
  },
  {
   "source": [
    "## 이항분포"
   ],
   "cell_type": "markdown",
   "metadata": {}
  },
  {
   "source": [
    "\n",
    "베르누이분포를 따르는 확률변수 $Y$의 확률질량함수를 대입하여 정리하면 이항분포 확률변수 $X$의 확률질량함수는 다음과 같아진다.\n",
    "\n",
    "$$\n",
    "\\begin{align}\n",
    "\\text{Bin}(x;N,p) = \\binom N x \\; p^x(1-p)^{N-x}\n",
    "\\tag{1}\n",
    "\\end{align}\n",
    "$$\n",
    "\n",
    "이 식에서 $\\binom N x$ 기호는 **조합(combination)**이라는 기호로 $N$개 원소 중에 $x$개 원소를 순서와 상관없이 선택할 수 있는 경우의 수를 뜻한다. 조합은 다음 공식으로 계산할 수 있다.\n",
    "\n",
    "$$\n",
    "\\begin{align}\n",
    "\\binom N x =\\dfrac{N!}{x!(N-x)!}\n",
    "\\tag{2}\n",
    "\\end{align}\n",
    "$$\n",
    "\n",
    "$!$ 기호는 **팩토리얼(factorial)**이라고 하며 다음처럼 정의한다.\n",
    "\n",
    "$$\n",
    "\\begin{align}\n",
    "N! = N\\cdot (N-1) \\cdots 2 \\cdot 1\n",
    "\\tag{3}\n",
    "\\end{align}\n",
    "$$"
   ],
   "cell_type": "markdown",
   "metadata": {}
  },
  {
   "source": [
    "이항분포는 이산확률분포에서 가장 많이 사용하는 분포로, 이전 글에서 알아보았던 베르누이분포의 업그레이드 버전이다. 먼저 베르누이분포가 “성공”과 “실패” 이렇게 2가지의 상황만 나오는 실험에서 사용한다고 했었는데,(참고) 이항분포도 마찬가지다. 그래서 베르누이분포와 똑같이 성공확률은 p이고, 실패확률은 1-p이다."
   ],
   "cell_type": "markdown",
   "metadata": {}
  },
  {
   "cell_type": "code",
   "execution_count": null,
   "metadata": {},
   "outputs": [],
   "source": []
  }
 ],
 "metadata": {
  "kernelspec": {
   "display_name": "Python 3",
   "language": "python",
   "name": "python3"
  },
  "language_info": {
   "codemirror_mode": {
    "name": "ipython",
    "version": 3
   },
   "file_extension": ".py",
   "mimetype": "text/x-python",
   "name": "python",
   "nbconvert_exporter": "python",
   "pygments_lexer": "ipython3",
   "version": "3.7.6-final"
  }
 },
 "nbformat": 4,
 "nbformat_minor": 4
}