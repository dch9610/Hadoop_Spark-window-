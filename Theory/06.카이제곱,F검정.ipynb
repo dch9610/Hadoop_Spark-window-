{
 "metadata": {
  "language_info": {
   "codemirror_mode": {
    "name": "ipython",
    "version": 3
   },
   "file_extension": ".py",
   "mimetype": "text/x-python",
   "name": "python",
   "nbconvert_exporter": "python",
   "pygments_lexer": "ipython3",
   "version": "3.7.6-final"
  },
  "orig_nbformat": 2,
  "kernelspec": {
   "name": "python3",
   "display_name": "Python 3",
   "language": "python"
  }
 },
 "nbformat": 4,
 "nbformat_minor": 2,
 "cells": [
  {
   "cell_type": "code",
   "execution_count": 1,
   "metadata": {},
   "outputs": [],
   "source": [
    "import scipy.stats as stats\n",
    "import numpy as np\n",
    "import matplotlib.pyplot as plt\n",
    "\n",
    "import matplotlib\n",
    "\n",
    "matplotlib.rcParams['font.family']='Malgun Gothic'\n",
    "matplotlib.rcParams['axes.unicode_minus'] = False\n"
   ]
  },
  {
   "source": [
    "### 1-Sample T-test(단일 표본 t-검정)\n",
    "\n",
    "전체 학생들 중 20명의 학생들을 추려 키를 재서 전체 학생들의 평균 키가 \n",
    "175cm인지 아닌지 알아보고 싶다.<br>\n",
    "\n",
    " 귀무 가설: 학생들의 평균 키가 175cm이다.<br>\n",
    " 대립 가설: 학생들의 평균 키가 175cm가 아니다.\n"
   ],
   "cell_type": "markdown",
   "metadata": {}
  },
  {
   "cell_type": "code",
   "execution_count": 2,
   "metadata": {},
   "outputs": [],
   "source": [
    "np.random.seed(1)\n",
    "height = 180+ np.random.normal(0, 5, 20 )"
   ]
  },
  {
   "cell_type": "code",
   "execution_count": 3,
   "metadata": {},
   "outputs": [
    {
     "output_type": "execute_result",
     "data": {
      "text/plain": [
       "array([188.12172682, 176.94121793, 177.35914124, 174.63515689,\n",
       "       184.32703815, 168.49230652, 188.72405882, 176.1939655 ,\n",
       "       181.59519548, 178.75314812, 187.31053969, 169.69929645,\n",
       "       178.38791398, 178.07972823, 185.66884721, 174.50054366,\n",
       "       179.13785896, 175.61070791, 180.21106873, 182.91407607])"
      ]
     },
     "metadata": {},
     "execution_count": 3
    }
   ],
   "source": [
    "height"
   ]
  },
  {
   "cell_type": "code",
   "execution_count": 9,
   "metadata": {},
   "outputs": [
    {
     "output_type": "stream",
     "name": "stdout",
     "text": [
      "0.00277711459981648\n"
     ]
    }
   ],
   "source": [
    "# (데이터, 모평균값)\n",
    "tTestResult = stats.ttest_1samp(height, 175)\n",
    "print(tTestResult.pvalue)"
   ]
  },
  {
   "cell_type": "code",
   "execution_count": 11,
   "metadata": {},
   "outputs": [],
   "source": [
    "'''\n",
    "p-value가 0.003으로, 귀무가설을 기각한다. 학생들의 평균 키는 175cm가 아니라고 할 수 있다.\n",
    "'''"
   ]
  },
  {
   "source": [
    "### Unpaired T-test(독립 표본 t-검정):서로다른두집단\n",
    "집단 1과 집단 2에서 각각 20명의 학생들을 추려, 각 집단의 키가 같은지, \n",
    "다른지 알아보고 싶다.<br>\n",
    "- 귀무 가설: 두 집단의 평균 키는 같다.\n",
    "- 대립 가설: 두 집단의 평균 키는 같지 않다.(양측 검정)\n",
    "\n",
    "독립표본\n",
    "- 등분산 가정 두집단\n",
    "- 이분산 가정 두집단\n",
    "- 등분산여부는 F검정으로 확인"
   ],
   "cell_type": "markdown",
   "metadata": {}
  },
  {
   "cell_type": "code",
   "execution_count": 12,
   "metadata": {},
   "outputs": [],
   "source": [
    "np.random.seed(1)\n",
    "# 평균이 170이고 편차가 5인 20개 데이터\n",
    "group1Heights = 170+ np.random.normal(0, 5, 20 )\n",
    "\n",
    "# 평균이 175이고 편차가 10인 20개 데이터\n",
    "group2Heights = 175+ np.random.normal(0, 10, 20 )"
   ]
  },
  {
   "cell_type": "code",
   "execution_count": 13,
   "metadata": {},
   "outputs": [
    {
     "output_type": "execute_result",
     "data": {
      "text/plain": [
       "array([178.12172682, 166.94121793, 167.35914124, 164.63515689,\n",
       "       174.32703815, 158.49230652, 178.72405882, 166.1939655 ,\n",
       "       171.59519548, 168.75314812, 177.31053969, 159.69929645,\n",
       "       168.38791398, 168.07972823, 175.66884721, 164.50054366,\n",
       "       169.13785896, 165.61070791, 170.21106873, 172.91407607])"
      ]
     },
     "metadata": {},
     "execution_count": 13
    }
   ],
   "source": [
    "group1Heights"
   ]
  },
  {
   "cell_type": "code",
   "execution_count": 15,
   "metadata": {},
   "outputs": [
    {
     "output_type": "stream",
     "name": "stdout",
     "text": [
      "0.025249639899591222\n"
     ]
    }
   ],
   "source": [
    "# 등분산 가정\n",
    "r1 = stats.ttest_ind(group1Heights,group2Heights)\n",
    "print(r1.pvalue) # 두집단 평균키는 같지않다.and"
   ]
  },
  {
   "cell_type": "code",
   "execution_count": 17,
   "metadata": {},
   "outputs": [
    {
     "output_type": "stream",
     "name": "stdout",
     "text": [
      "0.025992343643634945\n"
     ]
    }
   ],
   "source": [
    "# 이분산 가정\n",
    "r2 = stats.ttest_ind(group1Heights,group2Heights, equal_var=False)\n",
    "print(r2.pvalue) # 두집단 평균키는 같지않다.and"
   ]
  },
  {
   "source": [
    "### Paired T-test (이분산가정)\n",
    "Paired T-test(대응 표본 t-검정): 동일한집단의 사전,사후평균비교\n",
    "다이어트 약을 복용한 사람들 중 20명을 추려 복용 전/후의 체중 차이가 유의미한지 알아보고 싶다. 귀무 가설: 복용 전/후의 체중 차이가 없다. 대립 가설: 복용 전/후의 체중 차이가 있다."
   ],
   "cell_type": "markdown",
   "metadata": {}
  },
  {
   "cell_type": "code",
   "execution_count": 19,
   "metadata": {},
   "outputs": [],
   "source": [
    "np.random.seed(1)\n",
    "\n",
    "#before treatment : mean 60, standard deviation 5\n",
    "beforeWeights = [60 + np.random.normal(0, 5) for _ in range(20)]\n",
    "#after treatment : mean 0.99-fold decrease, standard deviation 0.02\n",
    "afterWeights = [w * np.random.normal(0.99, 0.02) for w in beforeWeights]"
   ]
  },
  {
   "cell_type": "code",
   "execution_count": 23,
   "metadata": {},
   "outputs": [
    {
     "output_type": "stream",
     "name": "stdout",
     "text": [
      "0.008871163766572827\n"
     ]
    }
   ],
   "source": [
    "t2 = stats.ttest_rel(beforeWeights, afterWeights)\n",
    "print(t2.pvalue) # 0.5보다 작기때문에 표본과 모집단의 평균은 차이가 있다."
   ]
  },
  {
   "source": [
    "## 카이제곱검정\n",
    "\n",
    "- 카이제곱 분포에 기초한 통계적 방법\n",
    "- 관찰된 빈도가 기대빈도와 의미있게 다른지의 여부를 검증하기 위해 사용되는 검증방법\n",
    "- 자료가 빈도로 주어졌을 때, 특히 명목척도 자료의 분석에 이용\n",
    "- 질적자료와 질적자료간에 서로 통계적으로 관계가 있는지 판단하는 검정\n",
    "- 단일표본의 모집단이 정규분포를 따르며 분산을 미리 알고 있는 경우에 적용된다.\n"
   ],
   "cell_type": "markdown",
   "metadata": {}
  },
  {
   "source": [
    "A : 결혼식을 한다고 할 때 200명쯤 올 것이다. 하는 것은 기대치이고, 결혼식 당일 220명이 왔다. 는 관찰치이다.\n",
    "\n",
    "B : 집들이를 한다고 할 때 20명이 올 것이다. 하는 것은 기대치이고, 집들이 당일 40명이 왔다. 는 관찰치이다.\n",
    "\n",
    " \n",
    "\n",
    "A 와 B 경우의 기대치-관찰치 차이는 20으로 똑같다. 하지만 정말 같은 차이일까?\n",
    "\n",
    "제곱한 것에 대해 기대치로 나누어주었다.  <br>\n",
    "$결혼식:  \\dfrac{ (220-200)^2 }{ 200 }=2$ <br>\n",
    "$집들이: \\dfrac{(40-20)^2}{20} =20 $ <br>\n",
    "\n",
    "이런 경우 \"당황되는 정도\"는 집들이가 10배 정도 클 것이다.\n",
    "\n",
    "Chi-square:<br>\n",
    "이 값이 0 에 가까워지면 기무가설을 지지하고, 0보다 아주 많이 크다면 대립가설을 지지한다.\n",
    "\n",
    "귀무:당황하지않는다\n",
    "대립:당황한다"
   ],
   "cell_type": "markdown",
   "metadata": {}
  },
  {
   "source": [
    "제품의 판매량 비율은 다음과 같습니다. A 56%, B 12%, C 32% \n",
    "\n",
    "그런데, 특정 지역에 제품 A, B, C의 보유대수를 조사하니, 각각 324대, 78대, 261대였습니다.\n",
    "\n",
    "이 자료로 다음과 같이 관찰빈도와 기대빈도를 만들 수 있다.\n",
    "- 귀무가설 H0는 관찰빈도는 기대빈도와 같다.\n",
    "- 대립가설 H1은 관찰빈도는 기대빈도와 다르다."
   ],
   "cell_type": "markdown",
   "metadata": {}
  },
  {
   "cell_type": "code",
   "execution_count": null,
   "metadata": {},
   "outputs": [],
   "source": [
    "'''\n",
    "(관찰값 - 기대값)^2 / 기대값\n",
    "'''"
   ]
  },
  {
   "cell_type": "code",
   "execution_count": 25,
   "metadata": {},
   "outputs": [
    {
     "output_type": "execute_result",
     "data": {
      "text/plain": [
       "    Item A  Item B  Item C\n",
       "관찰     324      78     261\n",
       "기대     371      80     212"
      ],
      "text/html": "<div>\n<style scoped>\n    .dataframe tbody tr th:only-of-type {\n        vertical-align: middle;\n    }\n\n    .dataframe tbody tr th {\n        vertical-align: top;\n    }\n\n    .dataframe thead th {\n        text-align: right;\n    }\n</style>\n<table border=\"1\" class=\"dataframe\">\n  <thead>\n    <tr style=\"text-align: right;\">\n      <th></th>\n      <th>Item A</th>\n      <th>Item B</th>\n      <th>Item C</th>\n    </tr>\n  </thead>\n  <tbody>\n    <tr>\n      <th>관찰</th>\n      <td>324</td>\n      <td>78</td>\n      <td>261</td>\n    </tr>\n    <tr>\n      <th>기대</th>\n      <td>371</td>\n      <td>80</td>\n      <td>212</td>\n    </tr>\n  </tbody>\n</table>\n</div>"
     },
     "metadata": {},
     "execution_count": 25
    }
   ],
   "source": [
    "from pandas import DataFrame\n",
    "\n",
    "xo, xe = [324, 78, 261], [371, 80, 212]\n",
    "xc = DataFrame([xo, xe], columns=['Item A', 'Item B', 'Item C'], \n",
    "               index=['관찰', '기대'])\n",
    "xc"
   ]
  },
  {
   "cell_type": "code",
   "execution_count": 26,
   "metadata": {},
   "outputs": [
    {
     "output_type": "display_data",
     "data": {
      "text/plain": "<Figure size 576x432 with 1 Axes>",
      "image/svg+xml": "<?xml version=\"1.0\" encoding=\"utf-8\" standalone=\"no\"?>\r\n<!DOCTYPE svg PUBLIC \"-//W3C//DTD SVG 1.1//EN\"\r\n  \"http://www.w3.org/Graphics/SVG/1.1/DTD/svg11.dtd\">\r\n<!-- Created with matplotlib (https://matplotlib.org/) -->\r\n<svg height=\"382.670625pt\" version=\"1.1\" viewBox=\"0 0 498.279687 382.670625\" width=\"498.279687pt\" xmlns=\"http://www.w3.org/2000/svg\" xmlns:xlink=\"http://www.w3.org/1999/xlink\">\r\n <defs>\r\n  <style type=\"text/css\">\r\n*{stroke-linecap:butt;stroke-linejoin:round;}\r\n  </style>\r\n </defs>\r\n <g id=\"figure_1\">\r\n  <g id=\"patch_1\">\r\n   <path d=\"M 0 382.670625 \r\nL 498.279687 382.670625 \r\nL 498.279687 0 \r\nL 0 0 \r\nz\r\n\" style=\"fill:none;\"/>\r\n  </g>\r\n  <g id=\"axes_1\">\r\n   <g id=\"patch_2\">\r\n    <path d=\"M 44.679688 348.470625 \r\nL 491.079687 348.470625 \r\nL 491.079687 22.310625 \r\nL 44.679688 22.310625 \r\nz\r\n\" style=\"fill:#ffffff;\"/>\r\n   </g>\r\n   <g id=\"patch_3\">\r\n    <path clip-path=\"url(#p869dde8f32)\" d=\"M 100.479687 348.470625 \r\nL 137.679688 348.470625 \r\nL 137.679688 77.193921 \r\nL 100.479687 77.193921 \r\nz\r\n\" style=\"fill:#1f77b4;\"/>\r\n   </g>\r\n   <g id=\"patch_4\">\r\n    <path clip-path=\"url(#p869dde8f32)\" d=\"M 323.679688 348.470625 \r\nL 360.879687 348.470625 \r\nL 360.879687 37.842054 \r\nL 323.679688 37.842054 \r\nz\r\n\" style=\"fill:#1f77b4;\"/>\r\n   </g>\r\n   <g id=\"patch_5\">\r\n    <path clip-path=\"url(#p869dde8f32)\" d=\"M 137.679688 348.470625 \r\nL 174.879687 348.470625 \r\nL 174.879687 283.16327 \r\nL 137.679688 283.16327 \r\nz\r\n\" style=\"fill:#ff7f0e;\"/>\r\n   </g>\r\n   <g id=\"patch_6\">\r\n    <path clip-path=\"url(#p869dde8f32)\" d=\"M 360.879687 348.470625 \r\nL 398.079687 348.470625 \r\nL 398.079687 281.488723 \r\nL 360.879687 281.488723 \r\nz\r\n\" style=\"fill:#ff7f0e;\"/>\r\n   </g>\r\n   <g id=\"patch_7\">\r\n    <path clip-path=\"url(#p869dde8f32)\" d=\"M 174.879687 348.470625 \r\nL 212.079687 348.470625 \r\nL 212.079687 129.942169 \r\nL 174.879687 129.942169 \r\nz\r\n\" style=\"fill:#2ca02c;\"/>\r\n   </g>\r\n   <g id=\"patch_8\">\r\n    <path clip-path=\"url(#p869dde8f32)\" d=\"M 398.079687 348.470625 \r\nL 435.279688 348.470625 \r\nL 435.279688 170.968584 \r\nL 398.079687 170.968584 \r\nz\r\n\" style=\"fill:#2ca02c;\"/>\r\n   </g>\r\n   <g id=\"matplotlib.axis_1\">\r\n    <g id=\"xtick_1\">\r\n     <g id=\"line2d_1\">\r\n      <path clip-path=\"url(#p869dde8f32)\" d=\"M 156.279687 348.470625 \r\nL 156.279687 22.310625 \r\n\" style=\"fill:none;stroke:#a9a9a9;stroke-linecap:square;stroke-width:0.8;\"/>\r\n     </g>\r\n     <g id=\"line2d_2\">\r\n      <defs>\r\n       <path d=\"M 0 0 \r\nL 0 3.5 \r\n\" id=\"m63e25fb52f\" style=\"stroke:#000000;stroke-width:0.8;\"/>\r\n      </defs>\r\n      <g>\r\n       <use style=\"stroke:#000000;stroke-width:0.8;\" x=\"156.279687\" xlink:href=\"#m63e25fb52f\" y=\"348.470625\"/>\r\n      </g>\r\n     </g>\r\n     <g id=\"text_1\">\r\n      <!-- 관찰 -->\r\n      <defs>\r\n       <path d=\"M 81.109375 44 \r\nL 81.109375 15.1875 \r\nL 73.78125 15.1875 \r\nL 73.78125 85.40625 \r\nL 81.109375 85.40625 \r\nL 81.109375 50.59375 \r\nL 95.21875 50.59375 \r\nL 95.21875 44 \r\nz\r\nM 60.5 79 \r\nQ 60.5 59.8125 58.984375 46.09375 \r\nL 51.90625 46.578125 \r\nQ 53.21875 59.71875 53.21875 72.515625 \r\nL 13.625 72.515625 \r\nL 13.625 79 \r\nz\r\nM 66.890625 32.328125 \r\nQ 60.296875 31.78125 39.078125 31.25 \r\nQ 17.875 30.71875 6.390625 30.71875 \r\nL 5.71875 37.203125 \r\nQ 18.21875 37.203125 28.90625 37.5 \r\nL 28.90625 58.40625 \r\nL 36.1875 58.40625 \r\nL 36.1875 37.59375 \r\nQ 54.390625 37.84375 66.5 38.625 \r\nz\r\nM 22.3125 -5.609375 \r\nL 22.3125 21.578125 \r\nL 29.59375 21.578125 \r\nL 29.59375 0.875 \r\nL 83.59375 0.875 \r\nL 83.59375 -5.609375 \r\nz\r\n\" id=\"MalgunGothic-44288\"/>\r\n       <path d=\"M 58.109375 37.59375 \r\nQ 42.234375 45.0625 35.203125 56.78125 \r\nQ 29 44.4375 12.3125 35.6875 \r\nL 6.78125 41.3125 \r\nQ 16.796875 44.78125 24.09375 52.609375 \r\nQ 31.390625 60.453125 31.390625 67.921875 \r\nL 31.390625 69.921875 \r\nL 10.015625 69.921875 \r\nL 10.015625 76.3125 \r\nL 31.5 76.3125 \r\nL 31.5 86.28125 \r\nL 38.8125 86.28125 \r\nL 38.8125 76.3125 \r\nL 60.296875 76.3125 \r\nL 60.296875 69.921875 \r\nL 38.8125 69.921875 \r\nL 38.8125 67.921875 \r\nQ 38.8125 60.84375 46.140625 53.5625 \r\nQ 53.46875 46.296875 62.890625 43.609375 \r\nz\r\nM 80.078125 54.109375 \r\nL 80.078125 36.921875 \r\nL 72.796875 36.921875 \r\nL 72.796875 85.40625 \r\nL 80.078125 85.40625 \r\nL 80.078125 60.59375 \r\nL 94.28125 60.59375 \r\nL 94.28125 54.109375 \r\nz\r\nM 22.609375 -6.59375 \r\nL 22.609375 16.21875 \r\nL 72.90625 16.21875 \r\nL 72.90625 25.203125 \r\nL 22.609375 25.203125 \r\nL 22.609375 31.6875 \r\nL 80.078125 31.6875 \r\nL 80.078125 9.90625 \r\nL 29.78125 9.90625 \r\nL 29.78125 -0.09375 \r\nL 82.71875 -0.09375 \r\nL 82.71875 -6.59375 \r\nz\r\n\" id=\"MalgunGothic-52272\"/>\r\n      </defs>\r\n      <g transform=\"translate(158.89375 375.470625)rotate(-90)scale(0.1 -0.1)\">\r\n       <use xlink:href=\"#MalgunGothic-44288\"/>\r\n       <use x=\"100\" xlink:href=\"#MalgunGothic-52272\"/>\r\n      </g>\r\n     </g>\r\n    </g>\r\n    <g id=\"xtick_2\">\r\n     <g id=\"line2d_3\">\r\n      <path clip-path=\"url(#p869dde8f32)\" d=\"M 379.479687 348.470625 \r\nL 379.479687 22.310625 \r\n\" style=\"fill:none;stroke:#a9a9a9;stroke-linecap:square;stroke-width:0.8;\"/>\r\n     </g>\r\n     <g id=\"line2d_4\">\r\n      <g>\r\n       <use style=\"stroke:#000000;stroke-width:0.8;\" x=\"379.479687\" xlink:href=\"#m63e25fb52f\" y=\"348.470625\"/>\r\n      </g>\r\n     </g>\r\n     <g id=\"text_2\">\r\n      <!-- 기대 -->\r\n      <defs>\r\n       <path d=\"M 76.3125 -8.796875 \r\nL 76.3125 85.40625 \r\nL 83.59375 85.40625 \r\nL 83.59375 -8.796875 \r\nz\r\nM 57.421875 76.703125 \r\nQ 57.078125 57.125 46.1875 40.796875 \r\nQ 35.296875 24.46875 14.984375 13.1875 \r\nL 9.421875 19.09375 \r\nQ 24.359375 25.296875 35.828125 38.71875 \r\nQ 47.3125 52.15625 49.609375 70.21875 \r\nL 13.28125 70.21875 \r\nL 13.28125 76.703125 \r\nz\r\n\" id=\"MalgunGothic-44592\"/>\r\n       <path d=\"M 79.203125 -8.796875 \r\nL 79.203125 40.1875 \r\nL 67.09375 40.1875 \r\nL 67.09375 -5.90625 \r\nL 59.90625 -5.90625 \r\nL 59.90625 83.5 \r\nL 67.09375 83.5 \r\nL 67.09375 46.6875 \r\nL 79.203125 46.6875 \r\nL 79.203125 85.40625 \r\nL 86.53125 85.40625 \r\nL 86.53125 -8.796875 \r\nz\r\nM 52.984375 18.015625 \r\nQ 39.3125 16.609375 12.890625 16.609375 \r\nL 12.890625 77.09375 \r\nL 49.03125 77.09375 \r\nL 49.03125 70.609375 \r\nL 20.125 70.609375 \r\nL 20.125 23.09375 \r\nL 28.8125 23.09375 \r\nQ 43.609375 23.09375 52.484375 24.21875 \r\nz\r\n\" id=\"MalgunGothic-45824\"/>\r\n      </defs>\r\n      <g transform=\"translate(382.09375 375.470625)rotate(-90)scale(0.1 -0.1)\">\r\n       <use xlink:href=\"#MalgunGothic-44592\"/>\r\n       <use x=\"100\" xlink:href=\"#MalgunGothic-45824\"/>\r\n      </g>\r\n     </g>\r\n    </g>\r\n   </g>\r\n   <g id=\"matplotlib.axis_2\">\r\n    <g id=\"ytick_1\">\r\n     <g id=\"line2d_5\">\r\n      <path clip-path=\"url(#p869dde8f32)\" d=\"M 44.679688 348.470625 \r\nL 491.079687 348.470625 \r\n\" style=\"fill:none;stroke:#a9a9a9;stroke-linecap:square;stroke-width:0.8;\"/>\r\n     </g>\r\n     <g id=\"line2d_6\">\r\n      <defs>\r\n       <path d=\"M 0 0 \r\nL -3.5 0 \r\n\" id=\"m10dbfabd2e\" style=\"stroke:#000000;stroke-width:0.8;\"/>\r\n      </defs>\r\n      <g>\r\n       <use style=\"stroke:#000000;stroke-width:0.8;\" x=\"44.679688\" xlink:href=\"#m10dbfabd2e\" y=\"348.470625\"/>\r\n      </g>\r\n     </g>\r\n     <g id=\"text_3\">\r\n      <!-- 0 -->\r\n      <defs>\r\n       <path d=\"M 4.34375 34.46875 \r\nQ 4.34375 53.515625 10.546875 63.28125 \r\nQ 16.75 73.046875 28.421875 73.046875 \r\nQ 50.828125 73.046875 50.828125 36.234375 \r\nQ 50.828125 18.0625 44.59375 8.421875 \r\nQ 38.375 -1.21875 26.8125 -1.21875 \r\nQ 15.875 -1.21875 10.109375 8.125 \r\nQ 4.34375 17.484375 4.34375 34.46875 \r\nz\r\nM 12.25 34.859375 \r\nQ 12.25 5.375 27.640625 5.375 \r\nQ 42.921875 5.375 42.921875 35.296875 \r\nQ 42.921875 66.40625 28.03125 66.40625 \r\nQ 12.25 66.40625 12.25 34.859375 \r\nz\r\n\" id=\"MalgunGothic-48\"/>\r\n      </defs>\r\n      <g transform=\"translate(32.171875 352.266719)scale(0.1 -0.1)\">\r\n       <use xlink:href=\"#MalgunGothic-48\"/>\r\n      </g>\r\n     </g>\r\n    </g>\r\n    <g id=\"ytick_2\">\r\n     <g id=\"line2d_7\">\r\n      <path clip-path=\"url(#p869dde8f32)\" d=\"M 44.679688 306.606936 \r\nL 491.079687 306.606936 \r\n\" style=\"fill:none;stroke:#a9a9a9;stroke-linecap:square;stroke-width:0.8;\"/>\r\n     </g>\r\n     <g id=\"line2d_8\">\r\n      <g>\r\n       <use style=\"stroke:#000000;stroke-width:0.8;\" x=\"44.679688\" xlink:href=\"#m10dbfabd2e\" y=\"306.606936\"/>\r\n      </g>\r\n     </g>\r\n     <g id=\"text_4\">\r\n      <!-- 50 -->\r\n      <defs>\r\n       <path d=\"M 48 21.921875 \r\nQ 48 11.28125 41.1875 5.03125 \r\nQ 34.375 -1.21875 22.953125 -1.21875 \r\nQ 12.9375 -1.21875 8.0625 1.765625 \r\nL 8.0625 10.15625 \r\nQ 15.53125 5.375 23.046875 5.375 \r\nQ 30.765625 5.375 35.46875 9.84375 \r\nQ 40.1875 14.3125 40.1875 21.4375 \r\nQ 40.1875 28.71875 35.390625 32.6875 \r\nQ 30.609375 36.671875 21.578125 36.671875 \r\nQ 15.53125 36.671875 9.421875 35.9375 \r\nL 11.859375 71.875 \r\nL 44.828125 71.875 \r\nL 44.828125 64.796875 \r\nL 18.84375 64.796875 \r\nL 17.28125 43.171875 \r\nQ 21.046875 43.5 24.171875 43.5 \r\nQ 35.359375 43.5 41.671875 37.71875 \r\nQ 48 31.9375 48 21.921875 \r\nz\r\n\" id=\"MalgunGothic-53\"/>\r\n      </defs>\r\n      <g transform=\"translate(26.664062 310.40303)scale(0.1 -0.1)\">\r\n       <use xlink:href=\"#MalgunGothic-53\"/>\r\n       <use x=\"55.078125\" xlink:href=\"#MalgunGothic-48\"/>\r\n      </g>\r\n     </g>\r\n    </g>\r\n    <g id=\"ytick_3\">\r\n     <g id=\"line2d_9\">\r\n      <path clip-path=\"url(#p869dde8f32)\" d=\"M 44.679688 264.743247 \r\nL 491.079687 264.743247 \r\n\" style=\"fill:none;stroke:#a9a9a9;stroke-linecap:square;stroke-width:0.8;\"/>\r\n     </g>\r\n     <g id=\"line2d_10\">\r\n      <g>\r\n       <use style=\"stroke:#000000;stroke-width:0.8;\" x=\"44.679688\" xlink:href=\"#m10dbfabd2e\" y=\"264.743247\"/>\r\n      </g>\r\n     </g>\r\n     <g id=\"text_5\">\r\n      <!-- 100 -->\r\n      <defs>\r\n       <path d=\"M 34.859375 0 \r\nL 27.09375 0 \r\nL 27.09375 62.0625 \r\nQ 24.859375 59.8125 19.78125 57.203125 \r\nQ 14.703125 54.59375 10.5 53.5625 \r\nL 10.5 61.859375 \r\nQ 15.875 63.375 22.015625 66.796875 \r\nQ 28.171875 70.21875 31.734375 73.4375 \r\nL 34.859375 73.4375 \r\nz\r\n\" id=\"MalgunGothic-49\"/>\r\n      </defs>\r\n      <g transform=\"translate(21.15625 268.539341)scale(0.1 -0.1)\">\r\n       <use xlink:href=\"#MalgunGothic-49\"/>\r\n       <use x=\"55.078125\" xlink:href=\"#MalgunGothic-48\"/>\r\n       <use x=\"110.15625\" xlink:href=\"#MalgunGothic-48\"/>\r\n      </g>\r\n     </g>\r\n    </g>\r\n    <g id=\"ytick_4\">\r\n     <g id=\"line2d_11\">\r\n      <path clip-path=\"url(#p869dde8f32)\" d=\"M 44.679688 222.879558 \r\nL 491.079687 222.879558 \r\n\" style=\"fill:none;stroke:#a9a9a9;stroke-linecap:square;stroke-width:0.8;\"/>\r\n     </g>\r\n     <g id=\"line2d_12\">\r\n      <g>\r\n       <use style=\"stroke:#000000;stroke-width:0.8;\" x=\"44.679688\" xlink:href=\"#m10dbfabd2e\" y=\"222.879558\"/>\r\n      </g>\r\n     </g>\r\n     <g id=\"text_6\">\r\n      <!-- 150 -->\r\n      <g transform=\"translate(21.15625 226.675652)scale(0.1 -0.1)\">\r\n       <use xlink:href=\"#MalgunGothic-49\"/>\r\n       <use x=\"55.078125\" xlink:href=\"#MalgunGothic-53\"/>\r\n       <use x=\"110.15625\" xlink:href=\"#MalgunGothic-48\"/>\r\n      </g>\r\n     </g>\r\n    </g>\r\n    <g id=\"ytick_5\">\r\n     <g id=\"line2d_13\">\r\n      <path clip-path=\"url(#p869dde8f32)\" d=\"M 44.679688 181.01587 \r\nL 491.079687 181.01587 \r\n\" style=\"fill:none;stroke:#a9a9a9;stroke-linecap:square;stroke-width:0.8;\"/>\r\n     </g>\r\n     <g id=\"line2d_14\">\r\n      <g>\r\n       <use style=\"stroke:#000000;stroke-width:0.8;\" x=\"44.679688\" xlink:href=\"#m10dbfabd2e\" y=\"181.01587\"/>\r\n      </g>\r\n     </g>\r\n     <g id=\"text_7\">\r\n      <!-- 200 -->\r\n      <defs>\r\n       <path d=\"M 39.359375 52.6875 \r\nQ 39.359375 59.125 35.546875 62.78125 \r\nQ 31.734375 66.453125 25.4375 66.453125 \r\nQ 20.953125 66.453125 16.453125 64.125 \r\nQ 11.96875 61.8125 8.34375 57.765625 \r\nL 8.34375 66.15625 \r\nQ 15.328125 73.046875 26.421875 73.046875 \r\nQ 35.640625 73.046875 41.28125 67.71875 \r\nQ 46.921875 62.40625 46.921875 53.375 \r\nQ 46.921875 45.609375 43.3125 39.765625 \r\nQ 39.703125 33.9375 31 27.734375 \r\nQ 22.796875 21.96875 19.59375 18.984375 \r\nQ 16.40625 16.015625 15.109375 13.34375 \r\nQ 13.8125 10.6875 13.8125 7.03125 \r\nL 48.6875 7.03125 \r\nL 48.6875 0 \r\nL 5.5625 0 \r\nL 5.5625 3.515625 \r\nQ 5.5625 9.421875 7.203125 13.59375 \r\nQ 8.84375 17.78125 12.671875 21.75 \r\nQ 16.5 25.734375 24.953125 31.59375 \r\nQ 32.671875 36.921875 36.015625 41.71875 \r\nQ 39.359375 46.53125 39.359375 52.6875 \r\nz\r\n\" id=\"MalgunGothic-50\"/>\r\n      </defs>\r\n      <g transform=\"translate(21.15625 184.811963)scale(0.1 -0.1)\">\r\n       <use xlink:href=\"#MalgunGothic-50\"/>\r\n       <use x=\"55.078125\" xlink:href=\"#MalgunGothic-48\"/>\r\n       <use x=\"110.15625\" xlink:href=\"#MalgunGothic-48\"/>\r\n      </g>\r\n     </g>\r\n    </g>\r\n    <g id=\"ytick_6\">\r\n     <g id=\"line2d_15\">\r\n      <path clip-path=\"url(#p869dde8f32)\" d=\"M 44.679688 139.152181 \r\nL 491.079687 139.152181 \r\n\" style=\"fill:none;stroke:#a9a9a9;stroke-linecap:square;stroke-width:0.8;\"/>\r\n     </g>\r\n     <g id=\"line2d_16\">\r\n      <g>\r\n       <use style=\"stroke:#000000;stroke-width:0.8;\" x=\"44.679688\" xlink:href=\"#m10dbfabd2e\" y=\"139.152181\"/>\r\n      </g>\r\n     </g>\r\n     <g id=\"text_8\">\r\n      <!-- 250 -->\r\n      <g transform=\"translate(21.15625 142.948274)scale(0.1 -0.1)\">\r\n       <use xlink:href=\"#MalgunGothic-50\"/>\r\n       <use x=\"55.078125\" xlink:href=\"#MalgunGothic-53\"/>\r\n       <use x=\"110.15625\" xlink:href=\"#MalgunGothic-48\"/>\r\n      </g>\r\n     </g>\r\n    </g>\r\n    <g id=\"ytick_7\">\r\n     <g id=\"line2d_17\">\r\n      <path clip-path=\"url(#p869dde8f32)\" d=\"M 44.679688 97.288492 \r\nL 491.079687 97.288492 \r\n\" style=\"fill:none;stroke:#a9a9a9;stroke-linecap:square;stroke-width:0.8;\"/>\r\n     </g>\r\n     <g id=\"line2d_18\">\r\n      <g>\r\n       <use style=\"stroke:#000000;stroke-width:0.8;\" x=\"44.679688\" xlink:href=\"#m10dbfabd2e\" y=\"97.288492\"/>\r\n      </g>\r\n     </g>\r\n     <g id=\"text_9\">\r\n      <!-- 300 -->\r\n      <defs>\r\n       <path d=\"M 6.5 11.234375 \r\nQ 13.921875 5.375 23.09375 5.375 \r\nQ 30.609375 5.375 35.21875 9.171875 \r\nQ 39.84375 12.984375 39.84375 19.484375 \r\nQ 39.84375 33.890625 19.578125 33.890625 \r\nL 13.625 33.890625 \r\nL 13.625 40.484375 \r\nL 19.28125 40.484375 \r\nQ 37.3125 40.484375 37.3125 53.953125 \r\nQ 37.3125 66.40625 23.578125 66.40625 \r\nQ 15.96875 66.40625 9.28125 61.1875 \r\nL 9.28125 68.953125 \r\nQ 16.109375 73.046875 25.53125 73.046875 \r\nQ 34.125 73.046875 39.671875 68.3125 \r\nQ 45.21875 63.578125 45.21875 55.953125 \r\nQ 45.21875 41.84375 30.8125 37.640625 \r\nL 30.8125 37.5 \r\nQ 38.578125 36.8125 43.1875 32.078125 \r\nQ 47.796875 27.34375 47.796875 20.3125 \r\nQ 47.796875 10.5 40.6875 4.640625 \r\nQ 33.59375 -1.21875 22.65625 -1.21875 \r\nQ 12.59375 -1.21875 6.5 2.640625 \r\nz\r\n\" id=\"MalgunGothic-51\"/>\r\n      </defs>\r\n      <g transform=\"translate(21.15625 101.084586)scale(0.1 -0.1)\">\r\n       <use xlink:href=\"#MalgunGothic-51\"/>\r\n       <use x=\"55.078125\" xlink:href=\"#MalgunGothic-48\"/>\r\n       <use x=\"110.15625\" xlink:href=\"#MalgunGothic-48\"/>\r\n      </g>\r\n     </g>\r\n    </g>\r\n    <g id=\"ytick_8\">\r\n     <g id=\"line2d_19\">\r\n      <path clip-path=\"url(#p869dde8f32)\" d=\"M 44.679688 55.424803 \r\nL 491.079687 55.424803 \r\n\" style=\"fill:none;stroke:#a9a9a9;stroke-linecap:square;stroke-width:0.8;\"/>\r\n     </g>\r\n     <g id=\"line2d_20\">\r\n      <g>\r\n       <use style=\"stroke:#000000;stroke-width:0.8;\" x=\"44.679688\" xlink:href=\"#m10dbfabd2e\" y=\"55.424803\"/>\r\n      </g>\r\n     </g>\r\n     <g id=\"text_10\">\r\n      <!-- 350 -->\r\n      <g transform=\"translate(21.15625 59.220897)scale(0.1 -0.1)\">\r\n       <use xlink:href=\"#MalgunGothic-51\"/>\r\n       <use x=\"55.078125\" xlink:href=\"#MalgunGothic-53\"/>\r\n       <use x=\"110.15625\" xlink:href=\"#MalgunGothic-48\"/>\r\n      </g>\r\n     </g>\r\n    </g>\r\n    <g id=\"text_11\">\r\n     <!-- value -->\r\n     <defs>\r\n      <path d=\"M 48.1875 51.3125 \r\nL 27.640625 0 \r\nL 20.21875 0 \r\nL 0.734375 51.3125 \r\nL 9.28125 51.3125 \r\nL 22.515625 13.625 \r\nQ 23.921875 9.515625 24.3125 6.640625 \r\nL 24.5625 6.640625 \r\nQ 25.046875 10.453125 26.125 13.484375 \r\nL 40.046875 51.3125 \r\nz\r\n\" id=\"MalgunGothic-118\"/>\r\n      <path d=\"M 9.625 47.65625 \r\nQ 17.140625 52.484375 26.90625 52.484375 \r\nQ 44.78125 52.484375 44.78125 33.546875 \r\nL 44.78125 0 \r\nL 37.015625 0 \r\nL 37.015625 8.0625 \r\nL 36.71875 8.0625 \r\nQ 31.390625 -1.21875 20.953125 -1.21875 \r\nQ 13.421875 -1.21875 9 2.8125 \r\nQ 4.59375 6.84375 4.59375 13.578125 \r\nQ 4.59375 27.875 21.484375 30.21875 \r\nL 36.96875 32.46875 \r\nQ 36.96875 45.84375 26.3125 45.84375 \r\nQ 16.9375 45.84375 9.625 39.453125 \r\nz\r\nM 24.421875 24.359375 \r\nQ 18.40625 23.578125 15.515625 21.421875 \r\nQ 12.640625 19.28125 12.640625 14.109375 \r\nQ 12.640625 10.203125 15.40625 7.8125 \r\nQ 18.171875 5.421875 22.65625 5.421875 \r\nQ 28.859375 5.421875 32.90625 9.8125 \r\nQ 36.96875 14.203125 36.96875 20.84375 \r\nL 36.96875 26.03125 \r\nz\r\n\" id=\"MalgunGothic-97\"/>\r\n      <path d=\"M 8.453125 0 \r\nL 8.453125 75.921875 \r\nL 16.15625 75.921875 \r\nL 16.15625 0 \r\nz\r\n\" id=\"MalgunGothic-108\"/>\r\n      <path d=\"M 49.46875 0 \r\nL 41.703125 0 \r\nL 41.703125 8.109375 \r\nL 41.5 8.109375 \r\nQ 36.421875 -1.21875 25.6875 -1.21875 \r\nQ 7.328125 -1.21875 7.328125 20.65625 \r\nL 7.328125 51.3125 \r\nL 14.984375 51.3125 \r\nL 14.984375 21.921875 \r\nQ 14.984375 5.375 27.59375 5.375 \r\nQ 33.734375 5.375 37.71875 9.9375 \r\nQ 41.703125 14.5 41.703125 21.78125 \r\nL 41.703125 51.3125 \r\nL 49.46875 51.3125 \r\nz\r\n\" id=\"MalgunGothic-117\"/>\r\n      <path d=\"M 49.3125 23.734375 \r\nL 12.9375 23.734375 \r\nQ 13.1875 14.84375 17.703125 10.125 \r\nQ 22.21875 5.421875 29.828125 5.421875 \r\nQ 38.625 5.421875 45.84375 11.234375 \r\nL 45.84375 3.8125 \r\nQ 38.96875 -1.21875 28.03125 -1.21875 \r\nQ 17.1875 -1.21875 11.0625 5.875 \r\nQ 4.9375 12.984375 4.9375 25.53125 \r\nQ 4.9375 37.203125 11.671875 44.84375 \r\nQ 18.40625 52.484375 28.375 52.484375 \r\nQ 38.328125 52.484375 43.8125 45.96875 \r\nQ 49.3125 39.453125 49.3125 27.9375 \r\nz\r\nM 41.3125 30.5625 \r\nQ 41.3125 37.75 37.859375 41.796875 \r\nQ 34.421875 45.84375 28.265625 45.84375 \r\nQ 22.46875 45.84375 18.265625 41.671875 \r\nQ 14.0625 37.5 13.03125 30.5625 \r\nz\r\n\" id=\"MalgunGothic-101\"/>\r\n     </defs>\r\n     <g transform=\"translate(14.792188 197.222656)rotate(-90)scale(0.1 -0.1)\">\r\n      <use xlink:href=\"#MalgunGothic-118\"/>\r\n      <use x=\"48.699219\" xlink:href=\"#MalgunGothic-97\"/>\r\n      <use x=\"100.701172\" xlink:href=\"#MalgunGothic-108\"/>\r\n      <use x=\"125.310547\" xlink:href=\"#MalgunGothic-117\"/>\r\n      <use x=\"183.123047\" xlink:href=\"#MalgunGothic-101\"/>\r\n     </g>\r\n    </g>\r\n   </g>\r\n   <g id=\"patch_9\">\r\n    <path d=\"M 44.679688 348.470625 \r\nL 44.679688 22.310625 \r\n\" style=\"fill:none;stroke:#000000;stroke-linecap:square;stroke-linejoin:miter;stroke-width:0.8;\"/>\r\n   </g>\r\n   <g id=\"patch_10\">\r\n    <path d=\"M 491.079687 348.470625 \r\nL 491.079687 22.310625 \r\n\" style=\"fill:none;stroke:#000000;stroke-linecap:square;stroke-linejoin:miter;stroke-width:0.8;\"/>\r\n   </g>\r\n   <g id=\"patch_11\">\r\n    <path d=\"M 44.679688 348.470625 \r\nL 491.079687 348.470625 \r\n\" style=\"fill:none;stroke:#000000;stroke-linecap:square;stroke-linejoin:miter;stroke-width:0.8;\"/>\r\n   </g>\r\n   <g id=\"patch_12\">\r\n    <path d=\"M 44.679688 22.310625 \r\nL 491.079687 22.310625 \r\n\" style=\"fill:none;stroke:#000000;stroke-linecap:square;stroke-linejoin:miter;stroke-width:0.8;\"/>\r\n   </g>\r\n   <g id=\"text_12\">\r\n    <!-- Number of Items -->\r\n    <defs>\r\n     <path d=\"M 67 0 \r\nL 57.078125 0 \r\nL 19.578125 58.015625 \r\nQ 18.40625 59.8125 17.328125 62.5 \r\nL 17.09375 62.5 \r\nQ 17.4375 59.71875 17.4375 52.6875 \r\nL 17.4375 0 \r\nL 9.515625 0 \r\nL 9.515625 71.875 \r\nL 19.96875 71.875 \r\nL 56.453125 14.65625 \r\nQ 58.984375 10.6875 59.328125 9.90625 \r\nL 59.515625 9.90625 \r\nQ 58.984375 13.484375 58.984375 20.5625 \r\nL 58.984375 71.875 \r\nL 67 71.875 \r\nz\r\n\" id=\"MalgunGothic-78\"/>\r\n     <path d=\"M 80.71875 0 \r\nL 72.953125 0 \r\nL 72.953125 29.4375 \r\nQ 72.953125 38.484375 70.234375 42.21875 \r\nQ 67.53125 45.953125 61.28125 45.953125 \r\nQ 56 45.953125 52.21875 40.984375 \r\nQ 48.4375 36.03125 48.4375 29.296875 \r\nL 48.4375 0 \r\nL 40.71875 0 \r\nL 40.71875 30.515625 \r\nQ 40.71875 45.953125 28.8125 45.953125 \r\nQ 23.390625 45.953125 19.765625 41.28125 \r\nQ 16.15625 36.625 16.15625 29.296875 \r\nL 16.15625 0 \r\nL 8.40625 0 \r\nL 8.40625 51.3125 \r\nL 16.15625 51.3125 \r\nL 16.15625 43.171875 \r\nL 16.359375 43.171875 \r\nQ 21.734375 52.484375 32.234375 52.484375 \r\nQ 37.203125 52.484375 41.1875 49.625 \r\nQ 45.171875 46.78125 46.734375 41.796875 \r\nQ 52.4375 52.484375 63.765625 52.484375 \r\nQ 80.71875 52.484375 80.71875 31.59375 \r\nz\r\n\" id=\"MalgunGothic-109\"/>\r\n     <path d=\"M 16.15625 7.515625 \r\nL 16.15625 0 \r\nL 8.40625 0 \r\nL 8.40625 75.921875 \r\nL 16.15625 75.921875 \r\nL 16.15625 42.234375 \r\nL 16.359375 42.234375 \r\nQ 22.46875 52.484375 34.125 52.484375 \r\nQ 43.953125 52.484375 49.578125 45.578125 \r\nQ 55.21875 38.671875 55.21875 27.15625 \r\nQ 55.21875 14.15625 48.84375 6.46875 \r\nQ 42.484375 -1.21875 31.78125 -1.21875 \r\nQ 21.625 -1.21875 16.359375 7.515625 \r\nz\r\nM 16.15625 20.84375 \r\nQ 16.15625 14.40625 20.421875 9.890625 \r\nQ 24.703125 5.375 31.109375 5.375 \r\nQ 38.671875 5.375 42.984375 11.1875 \r\nQ 47.3125 17 47.3125 27.390625 \r\nQ 47.3125 35.984375 43.234375 40.96875 \r\nQ 39.15625 45.953125 32.375 45.953125 \r\nQ 25.25 45.953125 20.703125 40.875 \r\nQ 16.15625 35.796875 16.15625 28.171875 \r\nz\r\n\" id=\"MalgunGothic-98\"/>\r\n     <path d=\"M 34.765625 43.359375 \r\nQ 32.5625 45.015625 28.5625 45.015625 \r\nQ 23.296875 45.015625 19.71875 39.890625 \r\nQ 16.15625 34.765625 16.15625 26.265625 \r\nL 16.15625 0 \r\nL 8.40625 0 \r\nL 8.40625 51.3125 \r\nL 16.15625 51.3125 \r\nL 16.15625 40.671875 \r\nL 16.359375 40.671875 \r\nQ 18.109375 46.09375 21.703125 49.140625 \r\nQ 25.296875 52.203125 29.734375 52.203125 \r\nQ 32.953125 52.203125 34.765625 51.515625 \r\nz\r\n\" id=\"MalgunGothic-114\"/>\r\n     <path id=\"MalgunGothic-32\"/>\r\n     <path d=\"M 4.9375 25 \r\nQ 4.9375 37.796875 11.890625 45.140625 \r\nQ 18.84375 52.484375 30.90625 52.484375 \r\nQ 42.140625 52.484375 48.609375 45.421875 \r\nQ 55.078125 38.375 55.078125 25.78125 \r\nQ 55.078125 13.578125 48.09375 6.171875 \r\nQ 41.109375 -1.21875 29.6875 -1.21875 \r\nQ 18.5 -1.21875 11.71875 6 \r\nQ 4.9375 13.234375 4.9375 25 \r\nz\r\nM 12.796875 25.34375 \r\nQ 12.796875 16.265625 17.546875 10.8125 \r\nQ 22.3125 5.375 30.21875 5.375 \r\nQ 38.421875 5.375 42.796875 10.625 \r\nQ 47.171875 15.875 47.171875 25.53125 \r\nQ 47.171875 35.25 42.765625 40.59375 \r\nQ 38.375 45.953125 30.21875 45.953125 \r\nQ 22.265625 45.953125 17.53125 40.421875 \r\nQ 12.796875 34.90625 12.796875 25.34375 \r\nz\r\n\" id=\"MalgunGothic-111\"/>\r\n     <path d=\"M 33.25 69.09375 \r\nQ 30.859375 70.40625 27.78125 70.40625 \r\nQ 19.09375 70.40625 19.09375 59.375 \r\nL 19.09375 51.3125 \r\nL 31.109375 51.3125 \r\nL 31.109375 44.625 \r\nL 19.09375 44.625 \r\nL 19.09375 0 \r\nL 11.46875 0 \r\nL 11.46875 44.625 \r\nL 2.6875 44.625 \r\nL 2.6875 51.3125 \r\nL 11.46875 51.3125 \r\nL 11.46875 59.765625 \r\nQ 11.46875 67.828125 16.03125 72.4375 \r\nQ 20.609375 77.046875 27.390625 77.046875 \r\nQ 31.15625 77.046875 33.25 76.171875 \r\nz\r\n\" id=\"MalgunGothic-102\"/>\r\n     <path d=\"M 17.4375 0 \r\nL 9.578125 0 \r\nL 9.578125 71.875 \r\nL 17.4375 71.875 \r\nz\r\n\" id=\"MalgunGothic-73\"/>\r\n     <path d=\"M 31.734375 0.484375 \r\nQ 28.8125 -1.125 24.265625 -1.125 \r\nQ 11.03125 -1.125 11.03125 13.765625 \r\nL 11.03125 44.625 \r\nL 2.15625 44.625 \r\nL 2.15625 51.3125 \r\nL 11.03125 51.3125 \r\nL 11.03125 63.921875 \r\nL 18.75 66.40625 \r\nL 18.75 51.3125 \r\nL 31.734375 51.3125 \r\nL 31.734375 44.625 \r\nL 18.75 44.625 \r\nL 18.75 15.1875 \r\nQ 18.75 9.765625 20.546875 7.609375 \r\nQ 22.359375 5.46875 26.421875 5.46875 \r\nQ 29.5 5.46875 31.734375 7.171875 \r\nz\r\n\" id=\"MalgunGothic-116\"/>\r\n     <path d=\"M 5.171875 10.453125 \r\nQ 11.921875 5.46875 19.96875 5.46875 \r\nQ 30.90625 5.46875 30.90625 12.84375 \r\nQ 30.90625 16.015625 28.515625 18.09375 \r\nQ 26.125 20.171875 19.09375 22.796875 \r\nQ 10.984375 26.03125 8.125 29.34375 \r\nQ 5.28125 32.671875 5.28125 37.75 \r\nQ 5.28125 44.28125 10.9375 48.375 \r\nQ 16.609375 52.484375 24.75 52.484375 \r\nQ 31.296875 52.484375 36.578125 50.203125 \r\nL 36.578125 42.140625 \r\nQ 30.859375 45.84375 23.53125 45.84375 \r\nQ 18.75 45.84375 16.015625 43.71875 \r\nQ 13.28125 41.609375 13.28125 38.421875 \r\nQ 13.28125 35.015625 15.296875 33.203125 \r\nQ 17.328125 31.390625 24.125 28.71875 \r\nQ 33.296875 25.140625 36.078125 21.71875 \r\nQ 38.875 18.3125 38.875 13.578125 \r\nQ 38.875 6.734375 33.234375 2.75 \r\nQ 27.59375 -1.21875 18.796875 -1.21875 \r\nQ 10.84375 -1.21875 5.171875 1.90625 \r\nz\r\n\" id=\"MalgunGothic-115\"/>\r\n    </defs>\r\n    <g transform=\"translate(221.118125 16.310625)scale(0.12 -0.12)\">\r\n     <use xlink:href=\"#MalgunGothic-78\"/>\r\n     <use x=\"76.513672\" xlink:href=\"#MalgunGothic-117\"/>\r\n     <use x=\"134.326172\" xlink:href=\"#MalgunGothic-109\"/>\r\n     <use x=\"222.314453\" xlink:href=\"#MalgunGothic-98\"/>\r\n     <use x=\"282.373047\" xlink:href=\"#MalgunGothic-101\"/>\r\n     <use x=\"335.888672\" xlink:href=\"#MalgunGothic-114\"/>\r\n     <use x=\"371.240234\" xlink:href=\"#MalgunGothic-32\"/>\r\n     <use x=\"406.396484\" xlink:href=\"#MalgunGothic-111\"/>\r\n     <use x=\"466.277344\" xlink:href=\"#MalgunGothic-102\"/>\r\n     <use x=\"497.917969\" xlink:href=\"#MalgunGothic-32\"/>\r\n     <use x=\"533.074219\" xlink:href=\"#MalgunGothic-73\"/>\r\n     <use x=\"560.076172\" xlink:href=\"#MalgunGothic-116\"/>\r\n     <use x=\"594.548828\" xlink:href=\"#MalgunGothic-101\"/>\r\n     <use x=\"648.064453\" xlink:href=\"#MalgunGothic-109\"/>\r\n     <use x=\"736.052734\" xlink:href=\"#MalgunGothic-115\"/>\r\n    </g>\r\n   </g>\r\n   <g id=\"legend_1\">\r\n    <g id=\"patch_13\">\r\n     <path d=\"M 421.684375 75.179375 \r\nL 484.079687 75.179375 \r\nQ 486.079687 75.179375 486.079687 73.179375 \r\nL 486.079687 29.310625 \r\nQ 486.079687 27.310625 484.079687 27.310625 \r\nL 421.684375 27.310625 \r\nQ 419.684375 27.310625 419.684375 29.310625 \r\nL 419.684375 73.179375 \r\nQ 419.684375 75.179375 421.684375 75.179375 \r\nz\r\n\" style=\"fill:#ffffff;opacity:0.8;stroke:#cccccc;stroke-linejoin:miter;\"/>\r\n    </g>\r\n    <g id=\"patch_14\">\r\n     <path d=\"M 423.684375 38.902812 \r\nL 443.684375 38.902812 \r\nL 443.684375 31.902812 \r\nL 423.684375 31.902812 \r\nz\r\n\" style=\"fill:#1f77b4;\"/>\r\n    </g>\r\n    <g id=\"text_13\">\r\n     <!-- Item A -->\r\n     <defs>\r\n      <path d=\"M 64.59375 0 \r\nL 55.859375 0 \r\nL 48.046875 20.40625 \r\nL 17.234375 20.40625 \r\nL 9.96875 0 \r\nL 1.171875 0 \r\nL 28.8125 71.875 \r\nL 36.8125 71.875 \r\nz\r\nM 45.359375 27.640625 \r\nL 33.890625 58.6875 \r\nQ 33.25 60.40625 32.8125 63.421875 \r\nL 32.5625 63.421875 \r\nQ 32.03125 60.0625 31.390625 58.6875 \r\nL 20.015625 27.640625 \r\nz\r\n\" id=\"MalgunGothic-65\"/>\r\n     </defs>\r\n     <g transform=\"translate(451.684375 38.902812)scale(0.1 -0.1)\">\r\n      <use xlink:href=\"#MalgunGothic-73\"/>\r\n      <use x=\"27.001953\" xlink:href=\"#MalgunGothic-116\"/>\r\n      <use x=\"61.474609\" xlink:href=\"#MalgunGothic-101\"/>\r\n      <use x=\"114.990234\" xlink:href=\"#MalgunGothic-109\"/>\r\n      <use x=\"202.978516\" xlink:href=\"#MalgunGothic-32\"/>\r\n      <use x=\"238.134766\" xlink:href=\"#MalgunGothic-65\"/>\r\n     </g>\r\n    </g>\r\n    <g id=\"patch_15\">\r\n     <path d=\"M 423.684375 53.859062 \r\nL 443.684375 53.859062 \r\nL 443.684375 46.859062 \r\nL 423.684375 46.859062 \r\nz\r\n\" style=\"fill:#ff7f0e;\"/>\r\n    </g>\r\n    <g id=\"text_14\">\r\n     <!-- Item B -->\r\n     <defs>\r\n      <path d=\"M 9.515625 0 \r\nL 9.515625 71.875 \r\nL 29.59375 71.875 \r\nQ 38.53125 71.875 44.015625 67.359375 \r\nQ 49.515625 62.84375 49.515625 55.421875 \r\nQ 49.515625 49.46875 46.265625 44.84375 \r\nQ 43.015625 40.234375 37.15625 38.328125 \r\nL 37.15625 38.140625 \r\nQ 44.4375 37.359375 48.78125 32.640625 \r\nQ 53.125 27.9375 53.125 20.609375 \r\nQ 53.125 11.421875 46.53125 5.703125 \r\nQ 39.9375 0 29.984375 0 \r\nz\r\nM 17.390625 64.5 \r\nL 17.390625 40.921875 \r\nL 26.125 40.921875 \r\nQ 33.34375 40.921875 37.296875 44.359375 \r\nQ 41.265625 47.796875 41.265625 53.859375 \r\nQ 41.265625 64.5 27.34375 64.5 \r\nz\r\nM 17.390625 33.640625 \r\nL 17.390625 7.328125 \r\nL 29.046875 7.328125 \r\nQ 36.46875 7.328125 40.671875 10.90625 \r\nQ 44.875 14.5 44.875 20.703125 \r\nQ 44.875 33.640625 27.15625 33.640625 \r\nz\r\n\" id=\"MalgunGothic-66\"/>\r\n     </defs>\r\n     <g transform=\"translate(451.684375 53.859062)scale(0.1 -0.1)\">\r\n      <use xlink:href=\"#MalgunGothic-73\"/>\r\n      <use x=\"27.001953\" xlink:href=\"#MalgunGothic-116\"/>\r\n      <use x=\"61.474609\" xlink:href=\"#MalgunGothic-101\"/>\r\n      <use x=\"114.990234\" xlink:href=\"#MalgunGothic-109\"/>\r\n      <use x=\"202.978516\" xlink:href=\"#MalgunGothic-32\"/>\r\n      <use x=\"238.134766\" xlink:href=\"#MalgunGothic-66\"/>\r\n     </g>\r\n    </g>\r\n    <g id=\"patch_16\">\r\n     <path d=\"M 423.684375 68.815312 \r\nL 443.684375 68.815312 \r\nL 443.684375 61.815312 \r\nL 423.684375 61.815312 \r\nz\r\n\" style=\"fill:#2ca02c;\"/>\r\n    </g>\r\n    <g id=\"text_15\">\r\n     <!-- Item C -->\r\n     <defs>\r\n      <path d=\"M 58.203125 3.078125 \r\nQ 50.25 -1.21875 38.421875 -1.21875 \r\nQ 23.25 -1.21875 14.015625 8.765625 \r\nQ 4.78125 18.75 4.78125 34.578125 \r\nQ 4.78125 51.265625 14.984375 62.15625 \r\nQ 25.203125 73.046875 41.3125 73.046875 \r\nQ 51.515625 73.046875 58.203125 70.0625 \r\nL 58.203125 61.578125 \r\nQ 50.53125 65.828125 41.15625 65.828125 \r\nQ 28.328125 65.828125 20.703125 57.171875 \r\nQ 13.09375 48.53125 13.09375 35.015625 \r\nQ 13.09375 22.078125 20.265625 14.015625 \r\nQ 27.4375 5.953125 39.40625 5.953125 \r\nQ 50.25 5.953125 58.203125 10.75 \r\nz\r\n\" id=\"MalgunGothic-67\"/>\r\n     </defs>\r\n     <g transform=\"translate(451.684375 68.815312)scale(0.1 -0.1)\">\r\n      <use xlink:href=\"#MalgunGothic-73\"/>\r\n      <use x=\"27.001953\" xlink:href=\"#MalgunGothic-116\"/>\r\n      <use x=\"61.474609\" xlink:href=\"#MalgunGothic-101\"/>\r\n      <use x=\"114.990234\" xlink:href=\"#MalgunGothic-109\"/>\r\n      <use x=\"202.978516\" xlink:href=\"#MalgunGothic-32\"/>\r\n      <use x=\"238.134766\" xlink:href=\"#MalgunGothic-67\"/>\r\n     </g>\r\n    </g>\r\n   </g>\r\n  </g>\r\n </g>\r\n <defs>\r\n  <clipPath id=\"p869dde8f32\">\r\n   <rect height=\"326.16\" width=\"446.4\" x=\"44.679688\" y=\"22.310625\"/>\r\n  </clipPath>\r\n </defs>\r\n</svg>\r\n",
      "image/png": "[encoded data removed]"
     },
     "metadata": {
      "needs_background": "light"
     }
    }
   ],
   "source": [
    "import matplotlib.pyplot as plt\n",
    "%matplotlib inline\n",
    "\n",
    "ax = xc.plot(kind='bar', title='Number of Items', figsize=(8, 6))\n",
    "ax.set_ylabel('value')\n",
    "plt.grid(color='darkgray')\n",
    "plt.show()\n"
   ]
  },
  {
   "cell_type": "code",
   "execution_count": 28,
   "metadata": {},
   "outputs": [
    {
     "output_type": "execute_result",
     "data": {
      "text/plain": [
       "0.00017254977751013492"
      ]
     },
     "metadata": {},
     "execution_count": 28
    }
   ],
   "source": [
    "from scipy.stats import chisquare\n",
    "\n",
    "# 관찰치 , 기대치\n",
    "result = chisquare(xo, f_exp=xe)\n",
    "result.pvalue # 0.05보다 작기 때문에 귀무가설을 기각하고 대립가설을 채택\n"
   ]
  },
  {
   "source": [
    "## F검정\n",
    "등분산여부를 검정"
   ],
   "cell_type": "markdown",
   "metadata": {}
  },
  {
   "cell_type": "code",
   "execution_count": 31,
   "metadata": {},
   "outputs": [
    {
     "output_type": "stream",
     "name": "stdout",
     "text": [
      "F_onewayResult(statistic=1.4591624718860445, pvalue=0.24269553293319618)\nF_onewayResult(statistic=2.835186691980833, pvalue=0.10776455501678371)\n"
     ]
    }
   ],
   "source": [
    "#남녀의 영어 성적에 대한 분산 분석\n",
    "from scipy.stats import f_oneway\n",
    "\n",
    "boy = np.array( [46,47,58,47,27,58,56,26,47,25] )\n",
    "girl= np.array( [78,57,31,28,67,77,36,57,36,57] )\n",
    "\n",
    "# 영화의 광고 전후에 대한 선호도\n",
    "bf = np.array([11,14,18,21,26,28,37,45,48,60,64] )\n",
    "af = np.array([13,15,17,18,19,23,25,28,29,36,37])\n",
    "\n",
    "print( f_oneway( boy, girl) ) # 분산이 같다 pvalue > 0.05\n",
    "print( f_oneway( bf, af)) # 분산이 같다 pvalue > 0.05"
   ]
  }
 ]
}