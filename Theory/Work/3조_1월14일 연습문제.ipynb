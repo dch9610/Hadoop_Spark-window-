{
 "cells": [
  {
   "cell_type": "code",
   "execution_count": 6,
   "metadata": {},
   "outputs": [],
   "source": [
    "import pandas as pd\n",
    "import numpy as np\n",
    "import matplotlib.pyplot as plt\n",
    "import matplotlib\n",
    "import math\n",
    "from datetime import datetime \n",
    "from pandas_datareader import data\n",
    "import scipy.stats as st\n",
    "\n",
    "matplotlib.rcParams['font.family']='Malgun Gothic'\n",
    "matplotlib.rcParams['axes.unicode_minus'] = False"
   ]
  },
  {
   "cell_type": "code",
   "execution_count": 7,
   "metadata": {
    "scrolled": true
   },
   "outputs": [
    {
     "output_type": "execute_result",
     "data": {
      "text/plain": [
       "   speed  dist\n",
       "0      4     2\n",
       "1      4    10\n",
       "2      7     4\n",
       "3      7    22\n",
       "4      8    16"
      ],
      "text/html": "<div>\n<style scoped>\n    .dataframe tbody tr th:only-of-type {\n        vertical-align: middle;\n    }\n\n    .dataframe tbody tr th {\n        vertical-align: top;\n    }\n\n    .dataframe thead th {\n        text-align: right;\n    }\n</style>\n<table border=\"1\" class=\"dataframe\">\n  <thead>\n    <tr style=\"text-align: right;\">\n      <th></th>\n      <th>speed</th>\n      <th>dist</th>\n    </tr>\n  </thead>\n  <tbody>\n    <tr>\n      <th>0</th>\n      <td>4</td>\n      <td>2</td>\n    </tr>\n    <tr>\n      <th>1</th>\n      <td>4</td>\n      <td>10</td>\n    </tr>\n    <tr>\n      <th>2</th>\n      <td>7</td>\n      <td>4</td>\n    </tr>\n    <tr>\n      <th>3</th>\n      <td>7</td>\n      <td>22</td>\n    </tr>\n    <tr>\n      <th>4</th>\n      <td>8</td>\n      <td>16</td>\n    </tr>\n  </tbody>\n</table>\n</div>"
     },
     "metadata": {},
     "execution_count": 7
    }
   ],
   "source": [
    "df = pd.read_csv('../../data/cars.csv')\n",
    "df.head()"
   ]
  },
  {
   "cell_type": "code",
   "execution_count": 8,
   "metadata": {},
   "outputs": [],
   "source": [
    "speed = df['speed']\n",
    "dist  = df['dist']"
   ]
  },
  {
   "cell_type": "markdown",
   "metadata": {},
   "source": [
    "### 1. cars(x:speed, y:dist) 데이터를 이용하여 회귀계수(기울기,절편) 를 구하시요. 공식(B0, B1)을 이용하여 구하시요.( 선형회귀분석.pdf 파일 6페이지공식)"
   ]
  },
  {
   "cell_type": "code",
   "execution_count": 9,
   "metadata": {},
   "outputs": [],
   "source": [
    "def regression(speed, dist):\n",
    "    denominator2 = 0\n",
    "    numerator2   = 0\n",
    "\n",
    "    for i in range(len(speed)):\n",
    "        denominator  = ( (speed[i]-speed.mean())*(dist[i]-dist.mean()))\n",
    "        denominator2 += denominator\n",
    "        \n",
    "        numerator    = (speed[i]-speed.mean())**2\n",
    "        numerator2   += numerator\n",
    "        \n",
    "        w = denominator2/numerator2\n",
    "        b = dist.mean() -(w * speed.mean())\n",
    "    return w, b\n",
    "\n",
    "w_reg = regression(speed,dist)[0]\n",
    "b_reg  = regression(speed,dist)[1]"
   ]
  },
  {
   "cell_type": "code",
   "execution_count": 10,
   "metadata": {},
   "outputs": [
    {
     "output_type": "stream",
     "name": "stdout",
     "text": [
      " 기울기:  3.9324087591240886\n 절편  :  -17.579094890510966\n"
     ]
    }
   ],
   "source": [
    "print(f\"\"\" 기울기:  {w_reg}\n",
    " 절편  :  {b_reg}\"\"\")"
   ]
  },
  {
   "cell_type": "markdown",
   "metadata": {},
   "source": [
    "## 확인용"
   ]
  },
  {
   "cell_type": "code",
   "execution_count": 11,
   "metadata": {
    "scrolled": true
   },
   "outputs": [
    {
     "output_type": "stream",
     "name": "stdout",
     "text": [
      " 기울기  :  3.9324087591240864\n 절편    :  -17.579094890510937\n"
     ]
    }
   ],
   "source": [
    "result= st.linregress( df['speed'], df['dist'])\n",
    "print(' 기울기  : ', result.slope )\n",
    "print(' 절편    : ', result.intercept)"
   ]
  },
  {
   "cell_type": "markdown",
   "metadata": {},
   "source": [
    "### 2.  x=[1,2,3,4,5,6,7,8,9,10]  ,y=[2,4,6,8,10,12,14,16,18,20] 일때 hx = wx 로 하여 학습방법을 이용하여 w값을 구하시요."
   ]
  },
  {
   "cell_type": "code",
   "execution_count": 12,
   "metadata": {},
   "outputs": [
    {
     "output_type": "display_data",
     "data": {
      "text/plain": "<Figure size 432x288 with 1 Axes>",
      "image/svg+xml": "<?xml version=\"1.0\" encoding=\"utf-8\" standalone=\"no\"?>\r\n<!DOCTYPE svg PUBLIC \"-//W3C//DTD SVG 1.1//EN\"\r\n  \"http://www.w3.org/Graphics/SVG/1.1/DTD/svg11.dtd\">\r\n<!-- Created with matplotlib (https://matplotlib.org/) -->\r\n<svg height=\"250.411397pt\" version=\"1.1\" viewBox=\"0 0 378.23125 250.411397\" width=\"378.23125pt\" xmlns=\"http://www.w3.org/2000/svg\" xmlns:xlink=\"http://www.w3.org/1999/xlink\">\r\n <defs>\r\n  <style type=\"text/css\">\r\n*{stroke-linecap:butt;stroke-linejoin:round;}\r\n  </style>\r\n </defs>\r\n <g id=\"figure_1\">\r\n  <g id=\"patch_1\">\r\n   <path d=\"M 0 250.411397 \r\nL 378.23125 250.411397 \r\nL 378.23125 0 \r\nL 0 0 \r\nz\r\n\" style=\"fill:none;\"/>\r\n  </g>\r\n  <g id=\"axes_1\">\r\n   <g id=\"patch_2\">\r\n    <path d=\"M 36.23125 226.255147 \r\nL 371.03125 226.255147 \r\nL 371.03125 8.815147 \r\nL 36.23125 8.815147 \r\nz\r\n\" style=\"fill:#ffffff;\"/>\r\n   </g>\r\n   <g id=\"matplotlib.axis_1\">\r\n    <g id=\"xtick_1\">\r\n     <g id=\"line2d_1\">\r\n      <defs>\r\n       <path d=\"M 0 0 \r\nL 0 3.5 \r\n\" id=\"m16bacf10ca\" style=\"stroke:#000000;stroke-width:0.8;\"/>\r\n      </defs>\r\n      <g>\r\n       <use style=\"stroke:#000000;stroke-width:0.8;\" x=\"51.449432\" xlink:href=\"#m16bacf10ca\" y=\"226.255147\"/>\r\n      </g>\r\n     </g>\r\n     <g id=\"text_1\">\r\n      <!-- -3 -->\r\n      <defs>\r\n       <path d=\"M 34.578125 25.53125 \r\nL 7.234375 25.53125 \r\nL 7.234375 31.734375 \r\nL 34.578125 31.734375 \r\nz\r\n\" id=\"MalgunGothic-45\"/>\r\n       <path d=\"M 6.5 11.234375 \r\nQ 13.921875 5.375 23.09375 5.375 \r\nQ 30.609375 5.375 35.21875 9.171875 \r\nQ 39.84375 12.984375 39.84375 19.484375 \r\nQ 39.84375 33.890625 19.578125 33.890625 \r\nL 13.625 33.890625 \r\nL 13.625 40.484375 \r\nL 19.28125 40.484375 \r\nQ 37.3125 40.484375 37.3125 53.953125 \r\nQ 37.3125 66.40625 23.578125 66.40625 \r\nQ 15.96875 66.40625 9.28125 61.1875 \r\nL 9.28125 68.953125 \r\nQ 16.109375 73.046875 25.53125 73.046875 \r\nQ 34.125 73.046875 39.671875 68.3125 \r\nQ 45.21875 63.578125 45.21875 55.953125 \r\nQ 45.21875 41.84375 30.8125 37.640625 \r\nL 30.8125 37.5 \r\nQ 38.578125 36.8125 43.1875 32.078125 \r\nQ 47.796875 27.34375 47.796875 20.3125 \r\nQ 47.796875 10.5 40.6875 4.640625 \r\nQ 33.59375 -1.21875 22.65625 -1.21875 \r\nQ 12.59375 -1.21875 6.5 2.640625 \r\nz\r\n\" id=\"MalgunGothic-51\"/>\r\n      </defs>\r\n      <g transform=\"translate(46.644744 240.847335)scale(0.1 -0.1)\">\r\n       <use xlink:href=\"#MalgunGothic-45\"/>\r\n       <use x=\"41.015625\" xlink:href=\"#MalgunGothic-51\"/>\r\n      </g>\r\n     </g>\r\n    </g>\r\n    <g id=\"xtick_2\">\r\n     <g id=\"line2d_2\">\r\n      <g>\r\n       <use style=\"stroke:#000000;stroke-width:0.8;\" x=\"89.494886\" xlink:href=\"#m16bacf10ca\" y=\"226.255147\"/>\r\n      </g>\r\n     </g>\r\n     <g id=\"text_2\">\r\n      <!-- -2 -->\r\n      <defs>\r\n       <path d=\"M 39.359375 52.6875 \r\nQ 39.359375 59.125 35.546875 62.78125 \r\nQ 31.734375 66.453125 25.4375 66.453125 \r\nQ 20.953125 66.453125 16.453125 64.125 \r\nQ 11.96875 61.8125 8.34375 57.765625 \r\nL 8.34375 66.15625 \r\nQ 15.328125 73.046875 26.421875 73.046875 \r\nQ 35.640625 73.046875 41.28125 67.71875 \r\nQ 46.921875 62.40625 46.921875 53.375 \r\nQ 46.921875 45.609375 43.3125 39.765625 \r\nQ 39.703125 33.9375 31 27.734375 \r\nQ 22.796875 21.96875 19.59375 18.984375 \r\nQ 16.40625 16.015625 15.109375 13.34375 \r\nQ 13.8125 10.6875 13.8125 7.03125 \r\nL 48.6875 7.03125 \r\nL 48.6875 0 \r\nL 5.5625 0 \r\nL 5.5625 3.515625 \r\nQ 5.5625 9.421875 7.203125 13.59375 \r\nQ 8.84375 17.78125 12.671875 21.75 \r\nQ 16.5 25.734375 24.953125 31.59375 \r\nQ 32.671875 36.921875 36.015625 41.71875 \r\nQ 39.359375 46.53125 39.359375 52.6875 \r\nz\r\n\" id=\"MalgunGothic-50\"/>\r\n      </defs>\r\n      <g transform=\"translate(84.690199 240.847335)scale(0.1 -0.1)\">\r\n       <use xlink:href=\"#MalgunGothic-45\"/>\r\n       <use x=\"41.015625\" xlink:href=\"#MalgunGothic-50\"/>\r\n      </g>\r\n     </g>\r\n    </g>\r\n    <g id=\"xtick_3\">\r\n     <g id=\"line2d_3\">\r\n      <g>\r\n       <use style=\"stroke:#000000;stroke-width:0.8;\" x=\"127.540341\" xlink:href=\"#m16bacf10ca\" y=\"226.255147\"/>\r\n      </g>\r\n     </g>\r\n     <g id=\"text_3\">\r\n      <!-- -1 -->\r\n      <defs>\r\n       <path d=\"M 34.859375 0 \r\nL 27.09375 0 \r\nL 27.09375 62.0625 \r\nQ 24.859375 59.8125 19.78125 57.203125 \r\nQ 14.703125 54.59375 10.5 53.5625 \r\nL 10.5 61.859375 \r\nQ 15.875 63.375 22.015625 66.796875 \r\nQ 28.171875 70.21875 31.734375 73.4375 \r\nL 34.859375 73.4375 \r\nz\r\n\" id=\"MalgunGothic-49\"/>\r\n      </defs>\r\n      <g transform=\"translate(122.735653 240.847335)scale(0.1 -0.1)\">\r\n       <use xlink:href=\"#MalgunGothic-45\"/>\r\n       <use x=\"41.015625\" xlink:href=\"#MalgunGothic-49\"/>\r\n      </g>\r\n     </g>\r\n    </g>\r\n    <g id=\"xtick_4\">\r\n     <g id=\"line2d_4\">\r\n      <g>\r\n       <use style=\"stroke:#000000;stroke-width:0.8;\" x=\"165.585795\" xlink:href=\"#m16bacf10ca\" y=\"226.255147\"/>\r\n      </g>\r\n     </g>\r\n     <g id=\"text_4\">\r\n      <!-- 0 -->\r\n      <defs>\r\n       <path d=\"M 4.34375 34.46875 \r\nQ 4.34375 53.515625 10.546875 63.28125 \r\nQ 16.75 73.046875 28.421875 73.046875 \r\nQ 50.828125 73.046875 50.828125 36.234375 \r\nQ 50.828125 18.0625 44.59375 8.421875 \r\nQ 38.375 -1.21875 26.8125 -1.21875 \r\nQ 15.875 -1.21875 10.109375 8.125 \r\nQ 4.34375 17.484375 4.34375 34.46875 \r\nz\r\nM 12.25 34.859375 \r\nQ 12.25 5.375 27.640625 5.375 \r\nQ 42.921875 5.375 42.921875 35.296875 \r\nQ 42.921875 66.40625 28.03125 66.40625 \r\nQ 12.25 66.40625 12.25 34.859375 \r\nz\r\n\" id=\"MalgunGothic-48\"/>\r\n      </defs>\r\n      <g transform=\"translate(162.831889 240.847335)scale(0.1 -0.1)\">\r\n       <use xlink:href=\"#MalgunGothic-48\"/>\r\n      </g>\r\n     </g>\r\n    </g>\r\n    <g id=\"xtick_5\">\r\n     <g id=\"line2d_5\">\r\n      <g>\r\n       <use style=\"stroke:#000000;stroke-width:0.8;\" x=\"203.63125\" xlink:href=\"#m16bacf10ca\" y=\"226.255147\"/>\r\n      </g>\r\n     </g>\r\n     <g id=\"text_5\">\r\n      <!-- 1 -->\r\n      <g transform=\"translate(200.877344 240.847335)scale(0.1 -0.1)\">\r\n       <use xlink:href=\"#MalgunGothic-49\"/>\r\n      </g>\r\n     </g>\r\n    </g>\r\n    <g id=\"xtick_6\">\r\n     <g id=\"line2d_6\">\r\n      <g>\r\n       <use style=\"stroke:#000000;stroke-width:0.8;\" x=\"241.676705\" xlink:href=\"#m16bacf10ca\" y=\"226.255147\"/>\r\n      </g>\r\n     </g>\r\n     <g id=\"text_6\">\r\n      <!-- 2 -->\r\n      <g transform=\"translate(238.922798 240.847335)scale(0.1 -0.1)\">\r\n       <use xlink:href=\"#MalgunGothic-50\"/>\r\n      </g>\r\n     </g>\r\n    </g>\r\n    <g id=\"xtick_7\">\r\n     <g id=\"line2d_7\">\r\n      <g>\r\n       <use style=\"stroke:#000000;stroke-width:0.8;\" x=\"279.722159\" xlink:href=\"#m16bacf10ca\" y=\"226.255147\"/>\r\n      </g>\r\n     </g>\r\n     <g id=\"text_7\">\r\n      <!-- 3 -->\r\n      <g transform=\"translate(276.968253 240.847335)scale(0.1 -0.1)\">\r\n       <use xlink:href=\"#MalgunGothic-51\"/>\r\n      </g>\r\n     </g>\r\n    </g>\r\n    <g id=\"xtick_8\">\r\n     <g id=\"line2d_8\">\r\n      <g>\r\n       <use style=\"stroke:#000000;stroke-width:0.8;\" x=\"317.767614\" xlink:href=\"#m16bacf10ca\" y=\"226.255147\"/>\r\n      </g>\r\n     </g>\r\n     <g id=\"text_8\">\r\n      <!-- 4 -->\r\n      <defs>\r\n       <path d=\"M 42.234375 71.875 \r\nL 42.234375 24.421875 \r\nL 51.703125 24.421875 \r\nL 51.703125 17.390625 \r\nL 42.234375 17.390625 \r\nL 42.234375 0 \r\nL 34.578125 0 \r\nL 34.578125 17.390625 \r\nL 0.78125 17.390625 \r\nL 0.78125 23.96875 \r\nQ 11.375 35.890625 20.234375 48.578125 \r\nQ 29.109375 61.28125 33.9375 71.875 \r\nz\r\nM 9.765625 24.421875 \r\nL 34.578125 24.421875 \r\nL 34.578125 59.859375 \r\nQ 25.203125 43.5625 14.984375 30.953125 \r\nz\r\n\" id=\"MalgunGothic-52\"/>\r\n      </defs>\r\n      <g transform=\"translate(315.013707 240.847335)scale(0.1 -0.1)\">\r\n       <use xlink:href=\"#MalgunGothic-52\"/>\r\n      </g>\r\n     </g>\r\n    </g>\r\n    <g id=\"xtick_9\">\r\n     <g id=\"line2d_9\">\r\n      <g>\r\n       <use style=\"stroke:#000000;stroke-width:0.8;\" x=\"355.813068\" xlink:href=\"#m16bacf10ca\" y=\"226.255147\"/>\r\n      </g>\r\n     </g>\r\n     <g id=\"text_9\">\r\n      <!-- 5 -->\r\n      <defs>\r\n       <path d=\"M 48 21.921875 \r\nQ 48 11.28125 41.1875 5.03125 \r\nQ 34.375 -1.21875 22.953125 -1.21875 \r\nQ 12.9375 -1.21875 8.0625 1.765625 \r\nL 8.0625 10.15625 \r\nQ 15.53125 5.375 23.046875 5.375 \r\nQ 30.765625 5.375 35.46875 9.84375 \r\nQ 40.1875 14.3125 40.1875 21.4375 \r\nQ 40.1875 28.71875 35.390625 32.6875 \r\nQ 30.609375 36.671875 21.578125 36.671875 \r\nQ 15.53125 36.671875 9.421875 35.9375 \r\nL 11.859375 71.875 \r\nL 44.828125 71.875 \r\nL 44.828125 64.796875 \r\nL 18.84375 64.796875 \r\nL 17.28125 43.171875 \r\nQ 21.046875 43.5 24.171875 43.5 \r\nQ 35.359375 43.5 41.671875 37.71875 \r\nQ 48 31.9375 48 21.921875 \r\nz\r\n\" id=\"MalgunGothic-53\"/>\r\n      </defs>\r\n      <g transform=\"translate(353.059162 240.847335)scale(0.1 -0.1)\">\r\n       <use xlink:href=\"#MalgunGothic-53\"/>\r\n      </g>\r\n     </g>\r\n    </g>\r\n   </g>\r\n   <g id=\"matplotlib.axis_2\">\r\n    <g id=\"ytick_1\">\r\n     <g id=\"line2d_10\">\r\n      <defs>\r\n       <path d=\"M 0 0 \r\nL -3.5 0 \r\n\" id=\"mcacfe58417\" style=\"stroke:#000000;stroke-width:0.8;\"/>\r\n      </defs>\r\n      <g>\r\n       <use style=\"stroke:#000000;stroke-width:0.8;\" x=\"36.23125\" xlink:href=\"#mcacfe58417\" y=\"216.401154\"/>\r\n      </g>\r\n     </g>\r\n     <g id=\"text_10\">\r\n      <!-- 0 -->\r\n      <g transform=\"translate(23.723438 220.197248)scale(0.1 -0.1)\">\r\n       <use xlink:href=\"#MalgunGothic-48\"/>\r\n      </g>\r\n     </g>\r\n    </g>\r\n    <g id=\"ytick_2\">\r\n     <g id=\"line2d_11\">\r\n      <g>\r\n       <use style=\"stroke:#000000;stroke-width:0.8;\" x=\"36.23125\" xlink:href=\"#mcacfe58417\" y=\"175.320142\"/>\r\n      </g>\r\n     </g>\r\n     <g id=\"text_11\">\r\n      <!-- 200 -->\r\n      <g transform=\"translate(12.707813 179.116236)scale(0.1 -0.1)\">\r\n       <use xlink:href=\"#MalgunGothic-50\"/>\r\n       <use x=\"55.078125\" xlink:href=\"#MalgunGothic-48\"/>\r\n       <use x=\"110.15625\" xlink:href=\"#MalgunGothic-48\"/>\r\n      </g>\r\n     </g>\r\n    </g>\r\n    <g id=\"ytick_3\">\r\n     <g id=\"line2d_12\">\r\n      <g>\r\n       <use style=\"stroke:#000000;stroke-width:0.8;\" x=\"36.23125\" xlink:href=\"#mcacfe58417\" y=\"134.23913\"/>\r\n      </g>\r\n     </g>\r\n     <g id=\"text_12\">\r\n      <!-- 400 -->\r\n      <g transform=\"translate(12.707813 138.035224)scale(0.1 -0.1)\">\r\n       <use xlink:href=\"#MalgunGothic-52\"/>\r\n       <use x=\"55.078125\" xlink:href=\"#MalgunGothic-48\"/>\r\n       <use x=\"110.15625\" xlink:href=\"#MalgunGothic-48\"/>\r\n      </g>\r\n     </g>\r\n    </g>\r\n    <g id=\"ytick_4\">\r\n     <g id=\"line2d_13\">\r\n      <g>\r\n       <use style=\"stroke:#000000;stroke-width:0.8;\" x=\"36.23125\" xlink:href=\"#mcacfe58417\" y=\"93.158118\"/>\r\n      </g>\r\n     </g>\r\n     <g id=\"text_13\">\r\n      <!-- 600 -->\r\n      <defs>\r\n       <path d=\"M 46.578125 63.578125 \r\nQ 40.921875 66.40625 34.8125 66.40625 \r\nQ 24.859375 66.40625 19.1875 57.640625 \r\nQ 13.53125 48.875 13.578125 34.578125 \r\nL 13.8125 34.578125 \r\nQ 18.796875 44.875 30.28125 44.875 \r\nQ 39.796875 44.875 45.359375 38.71875 \r\nQ 50.921875 32.5625 50.921875 22.65625 \r\nQ 50.921875 12.453125 44.640625 5.609375 \r\nQ 38.375 -1.21875 28.515625 -1.21875 \r\nQ 17.4375 -1.21875 11.5 7.46875 \r\nQ 5.5625 16.15625 5.5625 31.546875 \r\nQ 5.5625 49.703125 13.234375 61.375 \r\nQ 20.90625 73.046875 34.71875 73.046875 \r\nQ 42.1875 73.046875 46.578125 71 \r\nz\r\nM 14.15625 23.53125 \r\nQ 14.15625 15.96875 18.203125 10.671875 \r\nQ 22.265625 5.375 28.8125 5.375 \r\nQ 35.109375 5.375 39.03125 10.078125 \r\nQ 42.96875 14.796875 42.96875 21.6875 \r\nQ 42.96875 29.5 39.203125 33.859375 \r\nQ 35.453125 38.234375 28.71875 38.234375 \r\nQ 22.5625 38.234375 18.359375 33.953125 \r\nQ 14.15625 29.6875 14.15625 23.53125 \r\nz\r\n\" id=\"MalgunGothic-54\"/>\r\n      </defs>\r\n      <g transform=\"translate(12.707813 96.954212)scale(0.1 -0.1)\">\r\n       <use xlink:href=\"#MalgunGothic-54\"/>\r\n       <use x=\"55.078125\" xlink:href=\"#MalgunGothic-48\"/>\r\n       <use x=\"110.15625\" xlink:href=\"#MalgunGothic-48\"/>\r\n      </g>\r\n     </g>\r\n    </g>\r\n    <g id=\"ytick_5\">\r\n     <g id=\"line2d_14\">\r\n      <g>\r\n       <use style=\"stroke:#000000;stroke-width:0.8;\" x=\"36.23125\" xlink:href=\"#mcacfe58417\" y=\"52.077106\"/>\r\n      </g>\r\n     </g>\r\n     <g id=\"text_14\">\r\n      <!-- 800 -->\r\n      <defs>\r\n       <path d=\"M 4.734375 20.015625 \r\nQ 4.734375 26.078125 8.421875 31.421875 \r\nQ 12.109375 36.765625 18.015625 38.96875 \r\nQ 13.375 41.359375 10.546875 45.546875 \r\nQ 7.71875 49.75 7.71875 54.6875 \r\nQ 7.71875 59.8125 10.296875 64.03125 \r\nQ 12.890625 68.265625 17.53125 70.65625 \r\nQ 22.171875 73.046875 27.78125 73.046875 \r\nQ 36.46875 73.046875 42.1875 67.84375 \r\nQ 47.90625 62.640625 47.90625 54.6875 \r\nQ 47.90625 49.703125 45.015625 45.53125 \r\nQ 42.140625 41.359375 37.703125 38.96875 \r\nQ 43.5625 36.71875 47.21875 31.390625 \r\nQ 50.875 26.078125 50.875 20.015625 \r\nQ 50.875 10.5 44.421875 4.640625 \r\nQ 37.984375 -1.21875 27.78125 -1.21875 \r\nQ 17.671875 -1.21875 11.203125 4.703125 \r\nQ 4.734375 10.640625 4.734375 20.015625 \r\nz\r\nM 12.640625 20.75 \r\nQ 12.640625 13.71875 16.890625 9.546875 \r\nQ 21.140625 5.375 27.828125 5.375 \r\nQ 34.46875 5.375 38.78125 9.671875 \r\nQ 43.109375 13.96875 43.109375 20.75 \r\nQ 43.109375 27.046875 38.78125 31.421875 \r\nQ 34.46875 35.796875 27.828125 35.796875 \r\nQ 21.4375 35.796875 17.03125 31.5625 \r\nQ 12.640625 27.34375 12.640625 20.75 \r\nz\r\nM 15.671875 54.046875 \r\nQ 15.671875 48.828125 19.28125 45.3125 \r\nQ 22.90625 41.796875 27.828125 41.796875 \r\nQ 32.765625 41.796875 36.40625 45.3125 \r\nQ 40.046875 48.828125 40.046875 54.046875 \r\nQ 40.046875 59.421875 36.578125 62.90625 \r\nQ 33.109375 66.40625 27.828125 66.40625 \r\nQ 22.65625 66.40625 19.15625 62.953125 \r\nQ 15.671875 59.515625 15.671875 54.046875 \r\nz\r\n\" id=\"MalgunGothic-56\"/>\r\n      </defs>\r\n      <g transform=\"translate(12.707813 55.8732)scale(0.1 -0.1)\">\r\n       <use xlink:href=\"#MalgunGothic-56\"/>\r\n       <use x=\"55.078125\" xlink:href=\"#MalgunGothic-48\"/>\r\n       <use x=\"110.15625\" xlink:href=\"#MalgunGothic-48\"/>\r\n      </g>\r\n     </g>\r\n    </g>\r\n    <g id=\"ytick_6\">\r\n     <g id=\"line2d_15\">\r\n      <g>\r\n       <use style=\"stroke:#000000;stroke-width:0.8;\" x=\"36.23125\" xlink:href=\"#mcacfe58417\" y=\"10.996094\"/>\r\n      </g>\r\n     </g>\r\n     <g id=\"text_15\">\r\n      <!-- 1000 -->\r\n      <g transform=\"translate(7.2 14.792188)scale(0.1 -0.1)\">\r\n       <use xlink:href=\"#MalgunGothic-49\"/>\r\n       <use x=\"55.078125\" xlink:href=\"#MalgunGothic-48\"/>\r\n       <use x=\"110.15625\" xlink:href=\"#MalgunGothic-48\"/>\r\n       <use x=\"165.234375\" xlink:href=\"#MalgunGothic-48\"/>\r\n      </g>\r\n     </g>\r\n    </g>\r\n   </g>\r\n   <g id=\"line2d_16\">\r\n    <defs>\r\n     <path d=\"M 0 3 \r\nC 0.795609 3 1.55874 2.683901 2.12132 2.12132 \r\nC 2.683901 1.55874 3 0.795609 3 0 \r\nC 3 -0.795609 2.683901 -1.55874 2.12132 -2.12132 \r\nC 1.55874 -2.683901 0.795609 -3 0 -3 \r\nC -0.795609 -3 -1.55874 -2.683901 -2.12132 -2.12132 \r\nC -2.683901 -1.55874 -3 -0.795609 -3 0 \r\nC -3 0.795609 -2.683901 1.55874 -2.12132 2.12132 \r\nC -1.55874 2.683901 -0.795609 3 0 3 \r\nz\r\n\" id=\"mc757d77192\" style=\"stroke:#ff0000;\"/>\r\n    </defs>\r\n    <g clip-path=\"url(#p166f6ad2ca)\">\r\n     <use style=\"fill:#ff0000;stroke:#ff0000;\" x=\"51.449432\" xlink:href=\"#mc757d77192\" y=\"18.698784\"/>\r\n    </g>\r\n   </g>\r\n   <g id=\"line2d_17\">\r\n    <g clip-path=\"url(#p166f6ad2ca)\">\r\n     <use style=\"fill:#ff0000;stroke:#ff0000;\" x=\"57.660935\" xlink:href=\"#mc757d77192\" y=\"31.399164\"/>\r\n    </g>\r\n   </g>\r\n   <g id=\"line2d_18\">\r\n    <g clip-path=\"url(#p166f6ad2ca)\">\r\n     <use style=\"fill:#ff0000;stroke:#ff0000;\" x=\"63.872437\" xlink:href=\"#mc757d77192\" y=\"43.677955\"/>\r\n    </g>\r\n   </g>\r\n   <g id=\"line2d_19\">\r\n    <g clip-path=\"url(#p166f6ad2ca)\">\r\n     <use style=\"fill:#ff0000;stroke:#ff0000;\" x=\"70.08394\" xlink:href=\"#mc757d77192\" y=\"55.535157\"/>\r\n    </g>\r\n   </g>\r\n   <g id=\"line2d_20\">\r\n    <g clip-path=\"url(#p166f6ad2ca)\">\r\n     <use style=\"fill:#ff0000;stroke:#ff0000;\" x=\"76.295443\" xlink:href=\"#mc757d77192\" y=\"66.970769\"/>\r\n    </g>\r\n   </g>\r\n   <g id=\"line2d_21\">\r\n    <g clip-path=\"url(#p166f6ad2ca)\">\r\n     <use style=\"fill:#ff0000;stroke:#ff0000;\" x=\"82.506946\" xlink:href=\"#mc757d77192\" y=\"77.984792\"/>\r\n    </g>\r\n   </g>\r\n   <g id=\"line2d_22\">\r\n    <g clip-path=\"url(#p166f6ad2ca)\">\r\n     <use style=\"fill:#ff0000;stroke:#ff0000;\" x=\"88.718449\" xlink:href=\"#mc757d77192\" y=\"88.577226\"/>\r\n    </g>\r\n   </g>\r\n   <g id=\"line2d_23\">\r\n    <g clip-path=\"url(#p166f6ad2ca)\">\r\n     <use style=\"fill:#ff0000;stroke:#ff0000;\" x=\"94.929951\" xlink:href=\"#mc757d77192\" y=\"98.74807\"/>\r\n    </g>\r\n   </g>\r\n   <g id=\"line2d_24\">\r\n    <g clip-path=\"url(#p166f6ad2ca)\">\r\n     <use style=\"fill:#ff0000;stroke:#ff0000;\" x=\"101.141454\" xlink:href=\"#mc757d77192\" y=\"108.497324\"/>\r\n    </g>\r\n   </g>\r\n   <g id=\"line2d_25\">\r\n    <g clip-path=\"url(#p166f6ad2ca)\">\r\n     <use style=\"fill:#ff0000;stroke:#ff0000;\" x=\"107.352957\" xlink:href=\"#mc757d77192\" y=\"117.82499\"/>\r\n    </g>\r\n   </g>\r\n   <g id=\"line2d_26\">\r\n    <g clip-path=\"url(#p166f6ad2ca)\">\r\n     <use style=\"fill:#ff0000;stroke:#ff0000;\" x=\"113.56446\" xlink:href=\"#mc757d77192\" y=\"126.731066\"/>\r\n    </g>\r\n   </g>\r\n   <g id=\"line2d_27\">\r\n    <g clip-path=\"url(#p166f6ad2ca)\">\r\n     <use style=\"fill:#ff0000;stroke:#ff0000;\" x=\"119.775962\" xlink:href=\"#mc757d77192\" y=\"135.215552\"/>\r\n    </g>\r\n   </g>\r\n   <g id=\"line2d_28\">\r\n    <g clip-path=\"url(#p166f6ad2ca)\">\r\n     <use style=\"fill:#ff0000;stroke:#ff0000;\" x=\"125.987465\" xlink:href=\"#mc757d77192\" y=\"143.27845\"/>\r\n    </g>\r\n   </g>\r\n   <g id=\"line2d_29\">\r\n    <g clip-path=\"url(#p166f6ad2ca)\">\r\n     <use style=\"fill:#ff0000;stroke:#ff0000;\" x=\"132.198968\" xlink:href=\"#mc757d77192\" y=\"150.919757\"/>\r\n    </g>\r\n   </g>\r\n   <g id=\"line2d_30\">\r\n    <g clip-path=\"url(#p166f6ad2ca)\">\r\n     <use style=\"fill:#ff0000;stroke:#ff0000;\" x=\"138.410471\" xlink:href=\"#mc757d77192\" y=\"158.139476\"/>\r\n    </g>\r\n   </g>\r\n   <g id=\"line2d_31\">\r\n    <g clip-path=\"url(#p166f6ad2ca)\">\r\n     <use style=\"fill:#ff0000;stroke:#ff0000;\" x=\"144.621974\" xlink:href=\"#mc757d77192\" y=\"164.937605\"/>\r\n    </g>\r\n   </g>\r\n   <g id=\"line2d_32\">\r\n    <g clip-path=\"url(#p166f6ad2ca)\">\r\n     <use style=\"fill:#ff0000;stroke:#ff0000;\" x=\"150.833476\" xlink:href=\"#mc757d77192\" y=\"171.314144\"/>\r\n    </g>\r\n   </g>\r\n   <g id=\"line2d_33\">\r\n    <g clip-path=\"url(#p166f6ad2ca)\">\r\n     <use style=\"fill:#ff0000;stroke:#ff0000;\" x=\"157.044979\" xlink:href=\"#mc757d77192\" y=\"177.269094\"/>\r\n    </g>\r\n   </g>\r\n   <g id=\"line2d_34\">\r\n    <g clip-path=\"url(#p166f6ad2ca)\">\r\n     <use style=\"fill:#ff0000;stroke:#ff0000;\" x=\"163.256482\" xlink:href=\"#mc757d77192\" y=\"182.802455\"/>\r\n    </g>\r\n   </g>\r\n   <g id=\"line2d_35\">\r\n    <g clip-path=\"url(#p166f6ad2ca)\">\r\n     <use style=\"fill:#ff0000;stroke:#ff0000;\" x=\"169.467985\" xlink:href=\"#mc757d77192\" y=\"187.914227\"/>\r\n    </g>\r\n   </g>\r\n   <g id=\"line2d_36\">\r\n    <g clip-path=\"url(#p166f6ad2ca)\">\r\n     <use style=\"fill:#ff0000;stroke:#ff0000;\" x=\"175.679487\" xlink:href=\"#mc757d77192\" y=\"192.604409\"/>\r\n    </g>\r\n   </g>\r\n   <g id=\"line2d_37\">\r\n    <g clip-path=\"url(#p166f6ad2ca)\">\r\n     <use style=\"fill:#ff0000;stroke:#ff0000;\" x=\"181.89099\" xlink:href=\"#mc757d77192\" y=\"196.873001\"/>\r\n    </g>\r\n   </g>\r\n   <g id=\"line2d_38\">\r\n    <g clip-path=\"url(#p166f6ad2ca)\">\r\n     <use style=\"fill:#ff0000;stroke:#ff0000;\" x=\"188.102493\" xlink:href=\"#mc757d77192\" y=\"200.720005\"/>\r\n    </g>\r\n   </g>\r\n   <g id=\"line2d_39\">\r\n    <g clip-path=\"url(#p166f6ad2ca)\">\r\n     <use style=\"fill:#ff0000;stroke:#ff0000;\" x=\"194.313996\" xlink:href=\"#mc757d77192\" y=\"204.145418\"/>\r\n    </g>\r\n   </g>\r\n   <g id=\"line2d_40\">\r\n    <g clip-path=\"url(#p166f6ad2ca)\">\r\n     <use style=\"fill:#ff0000;stroke:#ff0000;\" x=\"200.525499\" xlink:href=\"#mc757d77192\" y=\"207.149243\"/>\r\n    </g>\r\n   </g>\r\n   <g id=\"line2d_41\">\r\n    <g clip-path=\"url(#p166f6ad2ca)\">\r\n     <use style=\"fill:#ff0000;stroke:#ff0000;\" x=\"206.737001\" xlink:href=\"#mc757d77192\" y=\"209.731478\"/>\r\n    </g>\r\n   </g>\r\n   <g id=\"line2d_42\">\r\n    <g clip-path=\"url(#p166f6ad2ca)\">\r\n     <use style=\"fill:#ff0000;stroke:#ff0000;\" x=\"212.948504\" xlink:href=\"#mc757d77192\" y=\"211.892123\"/>\r\n    </g>\r\n   </g>\r\n   <g id=\"line2d_43\">\r\n    <g clip-path=\"url(#p166f6ad2ca)\">\r\n     <use style=\"fill:#ff0000;stroke:#ff0000;\" x=\"219.160007\" xlink:href=\"#mc757d77192\" y=\"213.63118\"/>\r\n    </g>\r\n   </g>\r\n   <g id=\"line2d_44\">\r\n    <g clip-path=\"url(#p166f6ad2ca)\">\r\n     <use style=\"fill:#ff0000;stroke:#ff0000;\" x=\"225.37151\" xlink:href=\"#mc757d77192\" y=\"214.948647\"/>\r\n    </g>\r\n   </g>\r\n   <g id=\"line2d_45\">\r\n    <g clip-path=\"url(#p166f6ad2ca)\">\r\n     <use style=\"fill:#ff0000;stroke:#ff0000;\" x=\"231.583013\" xlink:href=\"#mc757d77192\" y=\"215.844524\"/>\r\n    </g>\r\n   </g>\r\n   <g id=\"line2d_46\">\r\n    <g clip-path=\"url(#p166f6ad2ca)\">\r\n     <use style=\"fill:#ff0000;stroke:#ff0000;\" x=\"237.794515\" xlink:href=\"#mc757d77192\" y=\"216.318812\"/>\r\n    </g>\r\n   </g>\r\n   <g id=\"line2d_47\">\r\n    <g clip-path=\"url(#p166f6ad2ca)\">\r\n     <use style=\"fill:#ff0000;stroke:#ff0000;\" x=\"244.006018\" xlink:href=\"#mc757d77192\" y=\"216.371511\"/>\r\n    </g>\r\n   </g>\r\n   <g id=\"line2d_48\">\r\n    <g clip-path=\"url(#p166f6ad2ca)\">\r\n     <use style=\"fill:#ff0000;stroke:#ff0000;\" x=\"250.217521\" xlink:href=\"#mc757d77192\" y=\"216.00262\"/>\r\n    </g>\r\n   </g>\r\n   <g id=\"line2d_49\">\r\n    <g clip-path=\"url(#p166f6ad2ca)\">\r\n     <use style=\"fill:#ff0000;stroke:#ff0000;\" x=\"256.429024\" xlink:href=\"#mc757d77192\" y=\"215.21214\"/>\r\n    </g>\r\n   </g>\r\n   <g id=\"line2d_50\">\r\n    <g clip-path=\"url(#p166f6ad2ca)\">\r\n     <use style=\"fill:#ff0000;stroke:#ff0000;\" x=\"262.640526\" xlink:href=\"#mc757d77192\" y=\"214.00007\"/>\r\n    </g>\r\n   </g>\r\n   <g id=\"line2d_51\">\r\n    <g clip-path=\"url(#p166f6ad2ca)\">\r\n     <use style=\"fill:#ff0000;stroke:#ff0000;\" x=\"268.852029\" xlink:href=\"#mc757d77192\" y=\"212.366412\"/>\r\n    </g>\r\n   </g>\r\n   <g id=\"line2d_52\">\r\n    <g clip-path=\"url(#p166f6ad2ca)\">\r\n     <use style=\"fill:#ff0000;stroke:#ff0000;\" x=\"275.063532\" xlink:href=\"#mc757d77192\" y=\"210.311163\"/>\r\n    </g>\r\n   </g>\r\n   <g id=\"line2d_53\">\r\n    <g clip-path=\"url(#p166f6ad2ca)\">\r\n     <use style=\"fill:#ff0000;stroke:#ff0000;\" x=\"281.275035\" xlink:href=\"#mc757d77192\" y=\"207.834326\"/>\r\n    </g>\r\n   </g>\r\n   <g id=\"line2d_54\">\r\n    <g clip-path=\"url(#p166f6ad2ca)\">\r\n     <use style=\"fill:#ff0000;stroke:#ff0000;\" x=\"287.486538\" xlink:href=\"#mc757d77192\" y=\"204.935898\"/>\r\n    </g>\r\n   </g>\r\n   <g id=\"line2d_55\">\r\n    <g clip-path=\"url(#p166f6ad2ca)\">\r\n     <use style=\"fill:#ff0000;stroke:#ff0000;\" x=\"293.69804\" xlink:href=\"#mc757d77192\" y=\"201.615882\"/>\r\n    </g>\r\n   </g>\r\n   <g id=\"line2d_56\">\r\n    <g clip-path=\"url(#p166f6ad2ca)\">\r\n     <use style=\"fill:#ff0000;stroke:#ff0000;\" x=\"299.909543\" xlink:href=\"#mc757d77192\" y=\"197.874276\"/>\r\n    </g>\r\n   </g>\r\n   <g id=\"line2d_57\">\r\n    <g clip-path=\"url(#p166f6ad2ca)\">\r\n     <use style=\"fill:#ff0000;stroke:#ff0000;\" x=\"306.121046\" xlink:href=\"#mc757d77192\" y=\"193.711081\"/>\r\n    </g>\r\n   </g>\r\n   <g id=\"line2d_58\">\r\n    <g clip-path=\"url(#p166f6ad2ca)\">\r\n     <use style=\"fill:#ff0000;stroke:#ff0000;\" x=\"312.332549\" xlink:href=\"#mc757d77192\" y=\"189.126296\"/>\r\n    </g>\r\n   </g>\r\n   <g id=\"line2d_59\">\r\n    <g clip-path=\"url(#p166f6ad2ca)\">\r\n     <use style=\"fill:#ff0000;stroke:#ff0000;\" x=\"318.544051\" xlink:href=\"#mc757d77192\" y=\"184.119922\"/>\r\n    </g>\r\n   </g>\r\n   <g id=\"line2d_60\">\r\n    <g clip-path=\"url(#p166f6ad2ca)\">\r\n     <use style=\"fill:#ff0000;stroke:#ff0000;\" x=\"324.755554\" xlink:href=\"#mc757d77192\" y=\"178.691959\"/>\r\n    </g>\r\n   </g>\r\n   <g id=\"line2d_61\">\r\n    <g clip-path=\"url(#p166f6ad2ca)\">\r\n     <use style=\"fill:#ff0000;stroke:#ff0000;\" x=\"330.967057\" xlink:href=\"#mc757d77192\" y=\"172.842406\"/>\r\n    </g>\r\n   </g>\r\n   <g id=\"line2d_62\">\r\n    <g clip-path=\"url(#p166f6ad2ca)\">\r\n     <use style=\"fill:#ff0000;stroke:#ff0000;\" x=\"337.17856\" xlink:href=\"#mc757d77192\" y=\"166.571264\"/>\r\n    </g>\r\n   </g>\r\n   <g id=\"line2d_63\">\r\n    <g clip-path=\"url(#p166f6ad2ca)\">\r\n     <use style=\"fill:#ff0000;stroke:#ff0000;\" x=\"343.390063\" xlink:href=\"#mc757d77192\" y=\"159.878532\"/>\r\n    </g>\r\n   </g>\r\n   <g id=\"line2d_64\">\r\n    <g clip-path=\"url(#p166f6ad2ca)\">\r\n     <use style=\"fill:#ff0000;stroke:#ff0000;\" x=\"349.601565\" xlink:href=\"#mc757d77192\" y=\"152.764211\"/>\r\n    </g>\r\n   </g>\r\n   <g id=\"line2d_65\">\r\n    <g clip-path=\"url(#p166f6ad2ca)\">\r\n     <use style=\"fill:#ff0000;stroke:#ff0000;\" x=\"355.813068\" xlink:href=\"#mc757d77192\" y=\"145.2283\"/>\r\n    </g>\r\n   </g>\r\n   <g id=\"patch_3\">\r\n    <path d=\"M 36.23125 226.255147 \r\nL 36.23125 8.815147 \r\n\" style=\"fill:none;stroke:#000000;stroke-linecap:square;stroke-linejoin:miter;stroke-width:0.8;\"/>\r\n   </g>\r\n   <g id=\"patch_4\">\r\n    <path d=\"M 371.03125 226.255147 \r\nL 371.03125 8.815147 \r\n\" style=\"fill:none;stroke:#000000;stroke-linecap:square;stroke-linejoin:miter;stroke-width:0.8;\"/>\r\n   </g>\r\n   <g id=\"patch_5\">\r\n    <path d=\"M 36.23125 226.255147 \r\nL 371.03125 226.255147 \r\n\" style=\"fill:none;stroke:#000000;stroke-linecap:square;stroke-linejoin:miter;stroke-width:0.8;\"/>\r\n   </g>\r\n   <g id=\"patch_6\">\r\n    <path d=\"M 36.23125 8.815147 \r\nL 371.03125 8.815147 \r\n\" style=\"fill:none;stroke:#000000;stroke-linecap:square;stroke-linejoin:miter;stroke-width:0.8;\"/>\r\n   </g>\r\n  </g>\r\n </g>\r\n <defs>\r\n  <clipPath id=\"p166f6ad2ca\">\r\n   <rect height=\"217.44\" width=\"334.8\" x=\"36.23125\" y=\"8.815147\"/>\r\n  </clipPath>\r\n </defs>\r\n</svg>\r\n",
      "image/png": "[encoded data removed]"
     },
     "metadata": {
      "needs_background": "light"
     }
    },
    {
     "output_type": "stream",
     "name": "stdout",
     "text": [
      "==================================================\n w가 0.0 이 되는 지점 : 2\n"
     ]
    }
   ],
   "source": [
    "x= np.array([1,2,3,4,5,6,7,8,9,10])\n",
    "y= np.array([2,4,6,8,10,12,14,16,18,20])\n",
    "\n",
    "def cost(x,y,w):\n",
    "    c=0\n",
    "    for i in np.arange( len(x) ):\n",
    "        hx = w*x[i]\n",
    "        c  = c+(hx-y[i])**2\n",
    "    return c/len(x)\n",
    "\n",
    "for w in np.linspace(-3, 5, 50):\n",
    "    c = cost( x, y, w)\n",
    "#     print(w,'|c:',c)\n",
    "    plt.plot( w, c, 'ro')\n",
    "plt.show()\n",
    "print(\"=\"*50)    \n",
    "b=2\n",
    "print(f\" w가 {cost(x,y,b)} 이 되는 지점 : {b}\")\n"
   ]
  },
  {
   "cell_type": "markdown",
   "metadata": {},
   "source": [
    "##  mse가 가장 낮은 지점을 찾도록 학습"
   ]
  },
  {
   "cell_type": "code",
   "execution_count": 13,
   "metadata": {
    "scrolled": true
   },
   "outputs": [
    {
     "output_type": "stream",
     "name": "stdout",
     "text": [
      " 0, mse : 346.5, \n      w : -0.7750000000000004\n 1, mse : 296.4740625000001, \n      w : 4.5668750000000005\n 2, mse : 253.67061972656265, \n      w : -0.37435937500000094\n 3, mse : 217.04692400354025, \n      w : 4.196282421875001\n 4, mse : 185.71077435052908, \n      w : -0.031561240234375454\n 5, mse : 158.8987813036714, \n      w : 3.879194147216798\n 6, mse : 135.95776975295394, \n      w : 0.2617454138244617\n 7, mse : 116.32886674487122, \n      w : 3.6078854922123726\n 8, mse : 99.53388660858043, \n      w : 0.5127059197035551\n 9, mse : 85.16368172946665, \n      w : 3.375747024274212\n 10, mse : 72.86817517977497, \n      w : 0.7274340025463535\n 11, mse : 62.34783238819498, \n      w : 3.1771235476446233\n 12, mse : 53.346364087149354, \n      w : 0.9111607184287234\n 13, mse : 45.64448277206718, \n      w : 3.007176335453431\n 14, mse : 39.05456057184999, \n      w : 1.068361889705576\n 15, mse : 33.41605838928917, \n      w : 2.8617652520223427\n 16, mse : 28.591614959335573, \n      w : 1.2028671418793329\n 17, mse : 24.46370054958151, \n      w : 2.7373478937616174\n 18, mse : 20.931753782735694, \n      w : 1.3179531982705042\n 19, mse : 17.909731830353216, \n      w : 2.630893291599784\n==============================\nw: 2.630893291599784\n"
     ]
    }
   ],
   "source": [
    "def gradient_descent( x,y,w ):\n",
    "    c = 0\n",
    "    for i in range(len(x)):\n",
    "        hx = w*x[i]\n",
    "        c = c + (hx-y[i]) *(1/2*x[i]) #편미분\n",
    "    return c/len(x)\n",
    "\n",
    "def show_gradient(x, y, w):\n",
    "    for i in range(20): # 학습 횟수\n",
    "        c = cost( x,y,w)\n",
    "        g = gradient_descent(x,y,w)\n",
    "        w = w-(0.1*g)\n",
    "        print(f''' {i}, mse : {c}, \n",
    "      w : {w}''')\n",
    "    print('='*30)\n",
    "    print(\"w:\", w)\n",
    "\n",
    "show_gradient(x, y, 5)"
   ]
  },
  {
   "cell_type": "markdown",
   "metadata": {},
   "source": [
    "### 3. 삼성전자주가중 2020년 종가 표본 100개를 추출하여 2020년 종가의 평균을 신뢰도 95% 로 추정하시요."
   ]
  },
  {
   "cell_type": "code",
   "execution_count": 14,
   "metadata": {
    "scrolled": true
   },
   "outputs": [
    {
     "output_type": "execute_result",
     "data": {
      "text/plain": [
       "               High      Low     Open    Close      Volume     Adj Close\n",
       "Date                                                                    \n",
       "2020-01-02  56000.0  55000.0  55500.0  55200.0  12993228.0  54098.707031\n",
       "2020-01-03  56600.0  54900.0  56000.0  55500.0  15422255.0  54392.718750\n",
       "2020-01-06  55600.0  54600.0  54900.0  55500.0  10278951.0  54392.718750\n",
       "2020-01-07  56400.0  55600.0  55700.0  55800.0  10009778.0  54686.738281\n",
       "2020-01-08  57400.0  55900.0  56200.0  56800.0  23501171.0  55666.781250\n",
       "...             ...      ...      ...      ...         ...           ...\n",
       "2020-12-23  74000.0  72300.0  72400.0  73900.0  19411326.0  73900.000000\n",
       "2020-12-24  78800.0  74000.0  74100.0  77800.0  32502870.0  77800.000000\n",
       "2020-12-28  80100.0  78200.0  79000.0  78700.0  40085044.0  78700.000000\n",
       "2020-12-29  78900.0  77300.0  78800.0  78300.0  30339449.0  78300.000000\n",
       "2020-12-30  81300.0  77300.0  77400.0  81000.0  29417421.0  81000.000000\n",
       "\n",
       "[248 rows x 6 columns]"
      ],
      "text/html": "<div>\n<style scoped>\n    .dataframe tbody tr th:only-of-type {\n        vertical-align: middle;\n    }\n\n    .dataframe tbody tr th {\n        vertical-align: top;\n    }\n\n    .dataframe thead th {\n        text-align: right;\n    }\n</style>\n<table border=\"1\" class=\"dataframe\">\n  <thead>\n    <tr style=\"text-align: right;\">\n      <th></th>\n      <th>High</th>\n      <th>Low</th>\n      <th>Open</th>\n      <th>Close</th>\n      <th>Volume</th>\n      <th>Adj Close</th>\n    </tr>\n    <tr>\n      <th>Date</th>\n      <th></th>\n      <th></th>\n      <th></th>\n      <th></th>\n      <th></th>\n      <th></th>\n    </tr>\n  </thead>\n  <tbody>\n    <tr>\n      <th>2020-01-02</th>\n      <td>56000.0</td>\n      <td>55000.0</td>\n      <td>55500.0</td>\n      <td>55200.0</td>\n      <td>12993228.0</td>\n      <td>54098.707031</td>\n    </tr>\n    <tr>\n      <th>2020-01-03</th>\n      <td>56600.0</td>\n      <td>54900.0</td>\n      <td>56000.0</td>\n      <td>55500.0</td>\n      <td>15422255.0</td>\n      <td>54392.718750</td>\n    </tr>\n    <tr>\n      <th>2020-01-06</th>\n      <td>55600.0</td>\n      <td>54600.0</td>\n      <td>54900.0</td>\n      <td>55500.0</td>\n      <td>10278951.0</td>\n      <td>54392.718750</td>\n    </tr>\n    <tr>\n      <th>2020-01-07</th>\n      <td>56400.0</td>\n      <td>55600.0</td>\n      <td>55700.0</td>\n      <td>55800.0</td>\n      <td>10009778.0</td>\n      <td>54686.738281</td>\n    </tr>\n    <tr>\n      <th>2020-01-08</th>\n      <td>57400.0</td>\n      <td>55900.0</td>\n      <td>56200.0</td>\n      <td>56800.0</td>\n      <td>23501171.0</td>\n      <td>55666.781250</td>\n    </tr>\n    <tr>\n      <th>...</th>\n      <td>...</td>\n      <td>...</td>\n      <td>...</td>\n      <td>...</td>\n      <td>...</td>\n      <td>...</td>\n    </tr>\n    <tr>\n      <th>2020-12-23</th>\n      <td>74000.0</td>\n      <td>72300.0</td>\n      <td>72400.0</td>\n      <td>73900.0</td>\n      <td>19411326.0</td>\n      <td>73900.000000</td>\n    </tr>\n    <tr>\n      <th>2020-12-24</th>\n      <td>78800.0</td>\n      <td>74000.0</td>\n      <td>74100.0</td>\n      <td>77800.0</td>\n      <td>32502870.0</td>\n      <td>77800.000000</td>\n    </tr>\n    <tr>\n      <th>2020-12-28</th>\n      <td>80100.0</td>\n      <td>78200.0</td>\n      <td>79000.0</td>\n      <td>78700.0</td>\n      <td>40085044.0</td>\n      <td>78700.000000</td>\n    </tr>\n    <tr>\n      <th>2020-12-29</th>\n      <td>78900.0</td>\n      <td>77300.0</td>\n      <td>78800.0</td>\n      <td>78300.0</td>\n      <td>30339449.0</td>\n      <td>78300.000000</td>\n    </tr>\n    <tr>\n      <th>2020-12-30</th>\n      <td>81300.0</td>\n      <td>77300.0</td>\n      <td>77400.0</td>\n      <td>81000.0</td>\n      <td>29417421.0</td>\n      <td>81000.000000</td>\n    </tr>\n  </tbody>\n</table>\n<p>248 rows × 6 columns</p>\n</div>"
     },
     "metadata": {},
     "execution_count": 14
    }
   ],
   "source": [
    "# data.get_data_yahoo(종목코드, 시작날짜, 끝날짜)\n",
    "# 삼성전자\n",
    "samsungDF = data.get_data_yahoo('005930.KS','2020-01-01', '2020-12-31')\n",
    "samsungDF"
   ]
  },
  {
   "cell_type": "code",
   "execution_count": 15,
   "metadata": {},
   "outputs": [],
   "source": [
    "samsung_close = samsungDF['Close'].values\n",
    "samsung_close_sample = np.random.choice(samsung_close, 100)"
   ]
  },
  {
   "cell_type": "code",
   "execution_count": 16,
   "metadata": {},
   "outputs": [],
   "source": [
    "n = 100\n",
    "sMean = samsung_close_sample.mean()\n",
    "sStd = samsung_close_sample.std()"
   ]
  },
  {
   "cell_type": "code",
   "execution_count": 17,
   "metadata": {},
   "outputs": [
    {
     "output_type": "stream",
     "name": "stdout",
     "text": [
      "    95%의 신뢰로 2020년 삼성 종가의 평균은 55672.04 ~ 58515.96 사이에 존재한다.\n    신뢰 구간은 2843.92 이다.\n"
     ]
    }
   ],
   "source": [
    "a = sMean - 1.96*(sStd/math.sqrt(n))\n",
    "b = sMean + 1.96*(sStd/math.sqrt(n))\n",
    "print(f'''    95%의 신뢰로 2020년 삼성 종가의 평균은 {a.round(2)} ~ {b.round(2)} 사이에 존재한다.\n",
    "    신뢰 구간은 {(b-a).round(2)} 이다.''')"
   ]
  },
  {
   "cell_type": "markdown",
   "metadata": {},
   "source": [
    "### 4. 2020년도 삼성전자 주가(종가) 표본크기가 20인 표본 100개를 추출하여 표본평균의 평균, 표본평균의 분산, 표본평균의 편차를 구하시요.\n",
    "\n"
   ]
  },
  {
   "cell_type": "markdown",
   "metadata": {},
   "source": [
    "### 20개의 데이터가 든 표본이 100개"
   ]
  },
  {
   "cell_type": "code",
   "execution_count": 18,
   "metadata": {
    "collapsed": true
   },
   "outputs": [
    {
     "output_type": "execute_result",
     "data": {
      "text/plain": [
       "array([58777.5, 55252.5, 54720. , 56397.5, 58465. , 59082.5, 57937.5,\n",
       "       61020. , 57800. , 59755. , 57007.5, 55165. , 54937.5, 58035. ,\n",
       "       58150. , 53870. , 55737.5, 58417.5, 57107.5, 54992.5, 56097.5,\n",
       "       55525. , 54127.5, 55107.5, 54785. , 60110. , 55625. , 57782.5,\n",
       "       55487.5, 56960. , 56172.5, 57985. , 57362.5, 56845. , 59535. ,\n",
       "       55827.5, 56572.5, 56832.5, 57987.5, 57720. , 55962.5, 56737.5,\n",
       "       56162.5, 57045. , 57955. , 57835. , 54782.5, 56090. , 60412.5,\n",
       "       55942.5, 59897.5, 57327.5, 55000. , 57492.5, 58380. , 58072.5,\n",
       "       56802.5, 55215. , 58747.5, 56105. , 57837.5, 56422.5, 55997.5,\n",
       "       55610. , 59120. , 54772.5, 57330. , 55845. , 58405. , 56595. ,\n",
       "       55825. , 55990. , 56912.5, 58012.5, 54800. , 60405. , 56872.5,\n",
       "       59912.5, 57780. , 54555. , 57682.5, 55962.5, 56332.5, 57345. ,\n",
       "       56842.5, 55340. , 55537.5, 57985. , 55840. , 58945. , 55617.5,\n",
       "       57187.5, 55772.5, 61020. , 55115. , 55672.5, 57080. , 57872.5,\n",
       "       55857.5, 58585. ])"
      ]
     },
     "metadata": {},
     "execution_count": 18
    }
   ],
   "source": [
    "n = 20\n",
    "nSample = 100\n",
    "\n",
    "samsung_close_sample_mean = np.array([np.random.choice(samsung_close, n).mean() for X in range(nSample)])\n",
    "samsung_close_sample_mean"
   ]
  },
  {
   "cell_type": "code",
   "execution_count": 19,
   "metadata": {},
   "outputs": [
    {
     "output_type": "stream",
     "name": "stdout",
     "text": [
      "표본평균의 평균 : 56956.325\n표본평균의 분산 : 2557502.806875\n표본평균의 편차 : 1599.2194367487532\n"
     ]
    }
   ],
   "source": [
    "print('표본평균의 평균 :', samsung_close_sample_mean.mean())\n",
    "print('표본평균의 분산 :', samsung_close_sample_mean.var())\n",
    "print('표본평균의 편차 :', samsung_close_sample_mean.std())"
   ]
  },
  {
   "cell_type": "markdown",
   "metadata": {},
   "source": [
    "### 5. 어느 회사에서 생산하는 전자제품의 평균수명을 조사하기 위하여, 표본 100개를 뽑았더니 평균은 800일이 나왔다. \n",
    "### 그리고 과거의 자료를 분석한 결과 모표준편차(σ)는 40일이라고 한다. \n",
    "### 이때 전자제품의 평균수명에 대한 95%의 신뢰구간을 구하시오."
   ]
  },
  {
   "cell_type": "code",
   "execution_count": 20,
   "metadata": {},
   "outputs": [
    {
     "output_type": "stream",
     "name": "stdout",
     "text": [
      " 전구의 평균 수명은 792.16 ~ 807.84 에 위치하며 \n 따라서 신뢰 구간은 807.84 - 792.16 인 15.68 이다\n"
     ]
    }
   ],
   "source": [
    "# 표본갯수 100개 (n = 100)\n",
    "# 평균일 800일 (Mean = 800)\n",
    "# 모표준편차 40일 (.std = 40)\n",
    "# 95% 신뢰구간 (k=1.96)\n",
    "\n",
    "ele1 = 800 - 1.96*(40/math.sqrt(100))\n",
    "ele2 = 800 + 1.96*(40/math.sqrt(100))\n",
    "\n",
    "print( f' 전구의 평균 수명은 {ele1} ~ {ele2} 에 위치하며 ')\n",
    "print(f\" 따라서 신뢰 구간은 {ele2} - {ele1} 인 {round(ele2-ele1,2)} 이다\")"
   ]
  },
  {
   "cell_type": "markdown",
   "metadata": {},
   "source": [
    "### 6. 우리나라 대학생들의 월 평균용돈을 알아보기 위하여, 대학생 70명을 조사하였더니, \n",
    "### 월 평균용돈은 13만 원이 나왔다. 그럼 모표준편차(σ)를 3만 원이라고 가정했을 때,\n",
    "### 대학생의 월 평균용돈에 대한 99%의 신뢰구간을 구하시오.\n",
    "\n"
   ]
  },
  {
   "cell_type": "code",
   "execution_count": 21,
   "metadata": {},
   "outputs": [
    {
     "output_type": "stream",
     "name": "stdout",
     "text": [
      " 대학생들의 월 평균용돈은 12.07 ~ 13.93 에 위치하며 \n 따라서 신뢰 구간은 13.93 - 12.07 인 1.85 이다\n"
     ]
    }
   ],
   "source": [
    "# 월 평균용돈 13만원 (Mean = 13)\n",
    "# 대학생 70명 (n=70)\n",
    "# 모표준편차 (.std = 3)\n",
    "# 99% 신뢰구간 (k=2.58)\n",
    "\n",
    "mon1 = 13 - 2.58*(3/math.sqrt(70))\n",
    "mon2 = 13 + 2.58*(3/math.sqrt(70))\n",
    "print( f' 대학생들의 월 평균용돈은 {round(mon1,2)} ~ {round(mon2,2)} 에 위치하며 ')\n",
    "print(f\" 따라서 신뢰 구간은 {round(mon2,2)} - {round(mon1,2)} 인 {round(mon2-mon1,2)} 이다\")"
   ]
  },
  {
   "cell_type": "markdown",
   "metadata": {},
   "source": [
    "\n",
    "### 7. y = (5x+3)^3 인경우 편미분을 이용하여 미분값 도출과정을 적으시요."
   ]
  },
  {
   "cell_type": "markdown",
   "metadata": {},
   "source": [
    "<pre>\n",
    "(5x+3)^3\n",
    "미분 => 3(5x+3)^(3-1) * [(5x+3)`]\n",
    "= 3(5x+3)^(3-1) * 5\n",
    "= 3(5x+3)^2 * 5\n",
    "</pre>"
   ]
  },
  {
   "cell_type": "code",
   "execution_count": 22,
   "metadata": {},
   "outputs": [
    {
     "output_type": "execute_result",
     "data": {
      "text/plain": [
       "960"
      ]
     },
     "metadata": {},
     "execution_count": 22
    }
   ],
   "source": [
    "# a = x절편, b=상수, z=제곱수\n",
    "# x = x값\n",
    "def diff_1 (x,a,b,z):\n",
    "    diff = (z* ( (a*x + b)**(z-1) ) ) * a\n",
    "    return diff\n",
    "\n",
    "# x=1을 대입\n",
    "diff_1(1,5,3,3)"
   ]
  }
 ],
 "metadata": {
  "kernelspec": {
   "display_name": "Python 3",
   "language": "python",
   "name": "python3"
  },
  "language_info": {
   "codemirror_mode": {
    "name": "ipython",
    "version": 3
   },
   "file_extension": ".py",
   "mimetype": "text/x-python",
   "name": "python",
   "nbconvert_exporter": "python",
   "pygments_lexer": "ipython3",
   "version": "3.7.6-final"
  }
 },
 "nbformat": 4,
 "nbformat_minor": 4
}