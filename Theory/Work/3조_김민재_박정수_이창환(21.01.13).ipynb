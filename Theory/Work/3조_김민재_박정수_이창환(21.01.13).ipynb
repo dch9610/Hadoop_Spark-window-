{
 "cells": [
  {
   "cell_type": "code",
   "execution_count": 2,
   "metadata": {},
   "outputs": [],
   "source": [
    "import numpy as np\n",
    "import pandas as pd\n",
    "import matplotlib.pyplot as plt"
   ]
  },
  {
   "cell_type": "code",
   "execution_count": 3,
   "metadata": {},
   "outputs": [
    {
     "data": {
      "text/html": [
       "<div>\n",
       "<style scoped>\n",
       "    .dataframe tbody tr th:only-of-type {\n",
       "        vertical-align: middle;\n",
       "    }\n",
       "\n",
       "    .dataframe tbody tr th {\n",
       "        vertical-align: top;\n",
       "    }\n",
       "\n",
       "    .dataframe thead th {\n",
       "        text-align: right;\n",
       "    }\n",
       "</style>\n",
       "<table border=\"1\" class=\"dataframe\">\n",
       "  <thead>\n",
       "    <tr style=\"text-align: right;\">\n",
       "      <th></th>\n",
       "      <th>speed</th>\n",
       "      <th>dist</th>\n",
       "    </tr>\n",
       "  </thead>\n",
       "  <tbody>\n",
       "    <tr>\n",
       "      <th>0</th>\n",
       "      <td>4</td>\n",
       "      <td>2</td>\n",
       "    </tr>\n",
       "    <tr>\n",
       "      <th>1</th>\n",
       "      <td>4</td>\n",
       "      <td>10</td>\n",
       "    </tr>\n",
       "    <tr>\n",
       "      <th>2</th>\n",
       "      <td>7</td>\n",
       "      <td>4</td>\n",
       "    </tr>\n",
       "    <tr>\n",
       "      <th>3</th>\n",
       "      <td>7</td>\n",
       "      <td>22</td>\n",
       "    </tr>\n",
       "    <tr>\n",
       "      <th>4</th>\n",
       "      <td>8</td>\n",
       "      <td>16</td>\n",
       "    </tr>\n",
       "  </tbody>\n",
       "</table>\n",
       "</div>"
      ],
      "text/plain": [
       "   speed  dist\n",
       "0      4     2\n",
       "1      4    10\n",
       "2      7     4\n",
       "3      7    22\n",
       "4      8    16"
      ]
     },
     "execution_count": 3,
     "metadata": {},
     "output_type": "execute_result"
    }
   ],
   "source": [
    "df = pd.read_csv('../data1/cars.csv')\n",
    "df.head()"
   ]
  },
  {
   "cell_type": "markdown",
   "metadata": {},
   "source": [
    "## 1.도수분포표를 그리고 시각화 하시요."
   ]
  },
  {
   "cell_type": "markdown",
   "metadata": {},
   "source": [
    "### 도수분포표 준비"
   ]
  },
  {
   "cell_type": "markdown",
   "metadata": {},
   "source": [
    "# speed"
   ]
  },
  {
   "cell_type": "code",
   "execution_count": 3,
   "metadata": {},
   "outputs": [
    {
     "name": "stdout",
     "output_type": "stream",
     "text": [
      "25\n",
      "4\n"
     ]
    }
   ],
   "source": [
    "print(max(df['speed']))\n",
    "print(min(df['speed']))"
   ]
  },
  {
   "cell_type": "code",
   "execution_count": 6,
   "metadata": {},
   "outputs": [
    {
     "name": "stdout",
     "output_type": "stream",
     "text": [
      "[ 6 32 12  0  0  0  0  0  0  0]\n",
      "[  0.  10.  20.  30.  40.  50.  60.  70.  80.  90. 100.]\n"
     ]
    }
   ],
   "source": [
    "freq, r = np.histogram( df['speed'], bins=10, range=(0,100))\n",
    "print(freq)\n",
    "print(r)"
   ]
  },
  {
   "cell_type": "code",
   "execution_count": 5,
   "metadata": {},
   "outputs": [
    {
     "data": {
      "text/html": [
       "<div>\n",
       "<style scoped>\n",
       "    .dataframe tbody tr th:only-of-type {\n",
       "        vertical-align: middle;\n",
       "    }\n",
       "\n",
       "    .dataframe tbody tr th {\n",
       "        vertical-align: top;\n",
       "    }\n",
       "\n",
       "    .dataframe thead th {\n",
       "        text-align: right;\n",
       "    }\n",
       "</style>\n",
       "<table border=\"1\" class=\"dataframe\">\n",
       "  <thead>\n",
       "    <tr style=\"text-align: right;\">\n",
       "      <th></th>\n",
       "      <th>빈도</th>\n",
       "    </tr>\n",
       "    <tr>\n",
       "      <th>class</th>\n",
       "      <th></th>\n",
       "    </tr>\n",
       "  </thead>\n",
       "  <tbody>\n",
       "    <tr>\n",
       "      <th>0~10</th>\n",
       "      <td>6</td>\n",
       "    </tr>\n",
       "    <tr>\n",
       "      <th>10~20</th>\n",
       "      <td>32</td>\n",
       "    </tr>\n",
       "    <tr>\n",
       "      <th>20~30</th>\n",
       "      <td>12</td>\n",
       "    </tr>\n",
       "    <tr>\n",
       "      <th>30~40</th>\n",
       "      <td>0</td>\n",
       "    </tr>\n",
       "    <tr>\n",
       "      <th>40~50</th>\n",
       "      <td>0</td>\n",
       "    </tr>\n",
       "    <tr>\n",
       "      <th>50~60</th>\n",
       "      <td>0</td>\n",
       "    </tr>\n",
       "    <tr>\n",
       "      <th>60~70</th>\n",
       "      <td>0</td>\n",
       "    </tr>\n",
       "    <tr>\n",
       "      <th>70~80</th>\n",
       "      <td>0</td>\n",
       "    </tr>\n",
       "    <tr>\n",
       "      <th>80~90</th>\n",
       "      <td>0</td>\n",
       "    </tr>\n",
       "    <tr>\n",
       "      <th>90~100</th>\n",
       "      <td>0</td>\n",
       "    </tr>\n",
       "  </tbody>\n",
       "</table>\n",
       "</div>"
      ],
      "text/plain": [
       "        빈도\n",
       "class     \n",
       "0~10     6\n",
       "10~20   32\n",
       "20~30   12\n",
       "30~40    0\n",
       "40~50    0\n",
       "50~60    0\n",
       "60~70    0\n",
       "70~80    0\n",
       "80~90    0\n",
       "90~100   0"
      ]
     },
     "execution_count": 5,
     "metadata": {},
     "output_type": "execute_result"
    }
   ],
   "source": [
    "# 100단위까지\n",
    "\n",
    "# speed_class = [f'{i}~{i+10}' for i in range(0, 100,10)]\n",
    "# speed_df = pd.DataFrame({'빈도':freq},\n",
    "#                             index=pd.Index(speed_class,\n",
    "#                                            name='class'))\n",
    "# speed_df"
   ]
  },
  {
   "cell_type": "markdown",
   "metadata": {},
   "source": [
    "### speed 의 경우 0~ 30까지의 값만 분포하는 것을 확인"
   ]
  },
  {
   "cell_type": "code",
   "execution_count": 7,
   "metadata": {},
   "outputs": [
    {
     "name": "stdout",
     "output_type": "stream",
     "text": [
      "[ 0  2  3  6 12  8 12  2  5  0]\n",
      "[ 0.  3.  6.  9. 12. 15. 18. 21. 24. 27. 30.]\n"
     ]
    }
   ],
   "source": [
    "# 범위를 30까지로 수정\n",
    "freq, r = np.histogram( df['speed'], bins=10, range=(0,30))\n",
    "print(freq)\n",
    "print(r)"
   ]
  },
  {
   "cell_type": "code",
   "execution_count": 8,
   "metadata": {},
   "outputs": [
    {
     "data": {
      "text/html": [
       "<div>\n",
       "<style scoped>\n",
       "    .dataframe tbody tr th:only-of-type {\n",
       "        vertical-align: middle;\n",
       "    }\n",
       "\n",
       "    .dataframe tbody tr th {\n",
       "        vertical-align: top;\n",
       "    }\n",
       "\n",
       "    .dataframe thead th {\n",
       "        text-align: right;\n",
       "    }\n",
       "</style>\n",
       "<table border=\"1\" class=\"dataframe\">\n",
       "  <thead>\n",
       "    <tr style=\"text-align: right;\">\n",
       "      <th></th>\n",
       "      <th>빈도</th>\n",
       "    </tr>\n",
       "    <tr>\n",
       "      <th>class</th>\n",
       "      <th></th>\n",
       "    </tr>\n",
       "  </thead>\n",
       "  <tbody>\n",
       "    <tr>\n",
       "      <th>0~3</th>\n",
       "      <td>0</td>\n",
       "    </tr>\n",
       "    <tr>\n",
       "      <th>3~6</th>\n",
       "      <td>2</td>\n",
       "    </tr>\n",
       "    <tr>\n",
       "      <th>6~9</th>\n",
       "      <td>3</td>\n",
       "    </tr>\n",
       "    <tr>\n",
       "      <th>9~12</th>\n",
       "      <td>6</td>\n",
       "    </tr>\n",
       "    <tr>\n",
       "      <th>12~15</th>\n",
       "      <td>12</td>\n",
       "    </tr>\n",
       "    <tr>\n",
       "      <th>15~18</th>\n",
       "      <td>8</td>\n",
       "    </tr>\n",
       "    <tr>\n",
       "      <th>18~21</th>\n",
       "      <td>12</td>\n",
       "    </tr>\n",
       "    <tr>\n",
       "      <th>21~24</th>\n",
       "      <td>2</td>\n",
       "    </tr>\n",
       "    <tr>\n",
       "      <th>24~27</th>\n",
       "      <td>5</td>\n",
       "    </tr>\n",
       "    <tr>\n",
       "      <th>27~30</th>\n",
       "      <td>0</td>\n",
       "    </tr>\n",
       "  </tbody>\n",
       "</table>\n",
       "</div>"
      ],
      "text/plain": [
       "       빈도\n",
       "class    \n",
       "0~3     0\n",
       "3~6     2\n",
       "6~9     3\n",
       "9~12    6\n",
       "12~15  12\n",
       "15~18   8\n",
       "18~21  12\n",
       "21~24   2\n",
       "24~27   5\n",
       "27~30   0"
      ]
     },
     "execution_count": 8,
     "metadata": {},
     "output_type": "execute_result"
    }
   ],
   "source": [
    "speed_class2 = [f'{i}~{i+3}' for i in range(0, 30, 3)]\n",
    "speed_df = pd.DataFrame({'빈도':freq},\n",
    "                            index=pd.Index(speed_class2,\n",
    "                                           name='class'))\n",
    "speed_df"
   ]
  },
  {
   "cell_type": "markdown",
   "metadata": {},
   "source": [
    "## 도수분포표 작성"
   ]
  },
  {
   "cell_type": "code",
   "execution_count": 6,
   "metadata": {},
   "outputs": [],
   "source": [
    "# class_value  = [(i+(i+10))//2 for i in range(0, 100, 10)]\n",
    "# rel_freq = freq / freq.sum()\n",
    "# cum_rel_freq = np.cumsum( rel_freq)"
   ]
  },
  {
   "cell_type": "code",
   "execution_count": 7,
   "metadata": {
    "scrolled": true
   },
   "outputs": [
    {
     "data": {
      "text/html": [
       "<div>\n",
       "<style scoped>\n",
       "    .dataframe tbody tr th:only-of-type {\n",
       "        vertical-align: middle;\n",
       "    }\n",
       "\n",
       "    .dataframe tbody tr th {\n",
       "        vertical-align: top;\n",
       "    }\n",
       "\n",
       "    .dataframe thead th {\n",
       "        text-align: right;\n",
       "    }\n",
       "</style>\n",
       "<table border=\"1\" class=\"dataframe\">\n",
       "  <thead>\n",
       "    <tr style=\"text-align: right;\">\n",
       "      <th></th>\n",
       "      <th>계급값</th>\n",
       "      <th>빈도</th>\n",
       "      <th>상대도수</th>\n",
       "      <th>누적상대도수</th>\n",
       "    </tr>\n",
       "    <tr>\n",
       "      <th>class</th>\n",
       "      <th></th>\n",
       "      <th></th>\n",
       "      <th></th>\n",
       "      <th></th>\n",
       "    </tr>\n",
       "  </thead>\n",
       "  <tbody>\n",
       "    <tr>\n",
       "      <th>0~10</th>\n",
       "      <td>5</td>\n",
       "      <td>6</td>\n",
       "      <td>0.12</td>\n",
       "      <td>0.12</td>\n",
       "    </tr>\n",
       "    <tr>\n",
       "      <th>10~20</th>\n",
       "      <td>15</td>\n",
       "      <td>32</td>\n",
       "      <td>0.64</td>\n",
       "      <td>0.76</td>\n",
       "    </tr>\n",
       "    <tr>\n",
       "      <th>20~30</th>\n",
       "      <td>25</td>\n",
       "      <td>12</td>\n",
       "      <td>0.24</td>\n",
       "      <td>1.00</td>\n",
       "    </tr>\n",
       "    <tr>\n",
       "      <th>30~40</th>\n",
       "      <td>35</td>\n",
       "      <td>0</td>\n",
       "      <td>0.00</td>\n",
       "      <td>1.00</td>\n",
       "    </tr>\n",
       "    <tr>\n",
       "      <th>40~50</th>\n",
       "      <td>45</td>\n",
       "      <td>0</td>\n",
       "      <td>0.00</td>\n",
       "      <td>1.00</td>\n",
       "    </tr>\n",
       "    <tr>\n",
       "      <th>50~60</th>\n",
       "      <td>55</td>\n",
       "      <td>0</td>\n",
       "      <td>0.00</td>\n",
       "      <td>1.00</td>\n",
       "    </tr>\n",
       "    <tr>\n",
       "      <th>60~70</th>\n",
       "      <td>65</td>\n",
       "      <td>0</td>\n",
       "      <td>0.00</td>\n",
       "      <td>1.00</td>\n",
       "    </tr>\n",
       "    <tr>\n",
       "      <th>70~80</th>\n",
       "      <td>75</td>\n",
       "      <td>0</td>\n",
       "      <td>0.00</td>\n",
       "      <td>1.00</td>\n",
       "    </tr>\n",
       "    <tr>\n",
       "      <th>80~90</th>\n",
       "      <td>85</td>\n",
       "      <td>0</td>\n",
       "      <td>0.00</td>\n",
       "      <td>1.00</td>\n",
       "    </tr>\n",
       "    <tr>\n",
       "      <th>90~100</th>\n",
       "      <td>95</td>\n",
       "      <td>0</td>\n",
       "      <td>0.00</td>\n",
       "      <td>1.00</td>\n",
       "    </tr>\n",
       "  </tbody>\n",
       "</table>\n",
       "</div>"
      ],
      "text/plain": [
       "        계급값  빈도  상대도수  누적상대도수\n",
       "class                        \n",
       "0~10      5   6  0.12    0.12\n",
       "10~20    15  32  0.64    0.76\n",
       "20~30    25  12  0.24    1.00\n",
       "30~40    35   0  0.00    1.00\n",
       "40~50    45   0  0.00    1.00\n",
       "50~60    55   0  0.00    1.00\n",
       "60~70    65   0  0.00    1.00\n",
       "70~80    75   0  0.00    1.00\n",
       "80~90    85   0  0.00    1.00\n",
       "90~100   95   0  0.00    1.00"
      ]
     },
     "execution_count": 7,
     "metadata": {},
     "output_type": "execute_result"
    }
   ],
   "source": [
    "# speed_df['계급값'] = class_value\n",
    "# speed_df['상대도수'] = rel_freq.round(2)\n",
    "# speed_df['누적상대도수'] = cum_rel_freq.round(2)\n",
    "# speed_df = speed_df[['계급값', '빈도',\n",
    "#                              '상대도수', '누적상대도수']]\n",
    "# speed_df"
   ]
  },
  {
   "cell_type": "code",
   "execution_count": 9,
   "metadata": {},
   "outputs": [],
   "source": [
    "class_value  = [(i+(i+3))//2 for i in range(0, 30, 3)]\n",
    "rel_freq = freq / freq.sum()\n",
    "cum_rel_freq = np.cumsum( rel_freq)"
   ]
  },
  {
   "cell_type": "code",
   "execution_count": 10,
   "metadata": {},
   "outputs": [
    {
     "data": {
      "text/html": [
       "<div>\n",
       "<style scoped>\n",
       "    .dataframe tbody tr th:only-of-type {\n",
       "        vertical-align: middle;\n",
       "    }\n",
       "\n",
       "    .dataframe tbody tr th {\n",
       "        vertical-align: top;\n",
       "    }\n",
       "\n",
       "    .dataframe thead th {\n",
       "        text-align: right;\n",
       "    }\n",
       "</style>\n",
       "<table border=\"1\" class=\"dataframe\">\n",
       "  <thead>\n",
       "    <tr style=\"text-align: right;\">\n",
       "      <th></th>\n",
       "      <th>계급값</th>\n",
       "      <th>빈도</th>\n",
       "      <th>상대도수</th>\n",
       "      <th>누적상대도수</th>\n",
       "    </tr>\n",
       "    <tr>\n",
       "      <th>class</th>\n",
       "      <th></th>\n",
       "      <th></th>\n",
       "      <th></th>\n",
       "      <th></th>\n",
       "    </tr>\n",
       "  </thead>\n",
       "  <tbody>\n",
       "    <tr>\n",
       "      <th>0~3</th>\n",
       "      <td>1</td>\n",
       "      <td>0</td>\n",
       "      <td>0.00</td>\n",
       "      <td>0.00</td>\n",
       "    </tr>\n",
       "    <tr>\n",
       "      <th>3~6</th>\n",
       "      <td>4</td>\n",
       "      <td>2</td>\n",
       "      <td>0.04</td>\n",
       "      <td>0.04</td>\n",
       "    </tr>\n",
       "    <tr>\n",
       "      <th>6~9</th>\n",
       "      <td>7</td>\n",
       "      <td>3</td>\n",
       "      <td>0.06</td>\n",
       "      <td>0.10</td>\n",
       "    </tr>\n",
       "    <tr>\n",
       "      <th>9~12</th>\n",
       "      <td>10</td>\n",
       "      <td>6</td>\n",
       "      <td>0.12</td>\n",
       "      <td>0.22</td>\n",
       "    </tr>\n",
       "    <tr>\n",
       "      <th>12~15</th>\n",
       "      <td>13</td>\n",
       "      <td>12</td>\n",
       "      <td>0.24</td>\n",
       "      <td>0.46</td>\n",
       "    </tr>\n",
       "    <tr>\n",
       "      <th>15~18</th>\n",
       "      <td>16</td>\n",
       "      <td>8</td>\n",
       "      <td>0.16</td>\n",
       "      <td>0.62</td>\n",
       "    </tr>\n",
       "    <tr>\n",
       "      <th>18~21</th>\n",
       "      <td>19</td>\n",
       "      <td>12</td>\n",
       "      <td>0.24</td>\n",
       "      <td>0.86</td>\n",
       "    </tr>\n",
       "    <tr>\n",
       "      <th>21~24</th>\n",
       "      <td>22</td>\n",
       "      <td>2</td>\n",
       "      <td>0.04</td>\n",
       "      <td>0.90</td>\n",
       "    </tr>\n",
       "    <tr>\n",
       "      <th>24~27</th>\n",
       "      <td>25</td>\n",
       "      <td>5</td>\n",
       "      <td>0.10</td>\n",
       "      <td>1.00</td>\n",
       "    </tr>\n",
       "    <tr>\n",
       "      <th>27~30</th>\n",
       "      <td>28</td>\n",
       "      <td>0</td>\n",
       "      <td>0.00</td>\n",
       "      <td>1.00</td>\n",
       "    </tr>\n",
       "  </tbody>\n",
       "</table>\n",
       "</div>"
      ],
      "text/plain": [
       "       계급값  빈도  상대도수  누적상대도수\n",
       "class                       \n",
       "0~3      1   0  0.00    0.00\n",
       "3~6      4   2  0.04    0.04\n",
       "6~9      7   3  0.06    0.10\n",
       "9~12    10   6  0.12    0.22\n",
       "12~15   13  12  0.24    0.46\n",
       "15~18   16   8  0.16    0.62\n",
       "18~21   19  12  0.24    0.86\n",
       "21~24   22   2  0.04    0.90\n",
       "24~27   25   5  0.10    1.00\n",
       "27~30   28   0  0.00    1.00"
      ]
     },
     "execution_count": 10,
     "metadata": {},
     "output_type": "execute_result"
    }
   ],
   "source": [
    "speed_df['계급값'] = class_value\n",
    "speed_df['상대도수'] = rel_freq.round(2)\n",
    "speed_df['누적상대도수'] = cum_rel_freq.round(2)\n",
    "speed_df = speed_df[['계급값', '빈도',\n",
    "                             '상대도수', '누적상대도수']]\n",
    "speed_df"
   ]
  },
  {
   "cell_type": "markdown",
   "metadata": {},
   "source": [
    "<pre>\n",
    "  12~15 , 18~21 에서 가장 빈도수가 많았다.\n",
    "  10~ 20 사이의 데이터가 많음\n",
    " </pre>"
   ]
  },
  {
   "cell_type": "markdown",
   "metadata": {},
   "source": [
    "## 시각화"
   ]
  },
  {
   "cell_type": "code",
   "execution_count": 11,
   "metadata": {},
   "outputs": [
    {
     "data": {
      "image/png": "[encoded data removed]",
      "text/plain": [
       "<Figure size 720x432 with 1 Axes>"
      ]
     },
     "metadata": {
      "needs_background": "light"
     },
     "output_type": "display_data"
    }
   ],
   "source": [
    "fig = plt.figure( figsize = (10,6))\n",
    "plt.hist( df['speed'], bins=10, range=(0,30))\n",
    "plt.show()"
   ]
  },
  {
   "cell_type": "code",
   "execution_count": 12,
   "metadata": {},
   "outputs": [
    {
     "data": {
      "image/png": "[encoded data removed]",
      "text/plain": [
       "<Figure size 720x432 with 2 Axes>"
      ]
     },
     "metadata": {
      "needs_background": "light"
     },
     "output_type": "display_data"
    }
   ],
   "source": [
    "fig = plt.figure( figsize = (10,6))\n",
    "ax1 = fig.add_subplot()\n",
    "ax2 = ax1.twinx()\n",
    "\n",
    "\n",
    "freq, r, _ = ax1.hist(df['speed'], bins=10, range=(0,30))\n",
    "ax2.plot( speed_df['계급값'] ,speed_df['누적상대도수'], 'ro--')\n",
    "ax2.plot( speed_df['계급값'] ,speed_df['상대도수'], 'bo--')\n",
    "plt.show()\n"
   ]
  },
  {
   "cell_type": "markdown",
   "metadata": {},
   "source": [
    "# dist"
   ]
  },
  {
   "cell_type": "code",
   "execution_count": 14,
   "metadata": {},
   "outputs": [
    {
     "data": {
      "text/plain": [
       "120"
      ]
     },
     "execution_count": 14,
     "metadata": {},
     "output_type": "execute_result"
    }
   ],
   "source": [
    "max(df['dist'])"
   ]
  },
  {
   "cell_type": "markdown",
   "metadata": {},
   "source": [
    "## dist 의 최대값은 120"
   ]
  },
  {
   "cell_type": "markdown",
   "metadata": {},
   "source": [
    "## 10단위"
   ]
  },
  {
   "cell_type": "code",
   "execution_count": 15,
   "metadata": {},
   "outputs": [
    {
     "name": "stdout",
     "output_type": "stream",
     "text": [
      "[ 2  6 10  8  6  6  4  2  3  2  0  1]\n",
      "[  0.  10.  20.  30.  40.  50.  60.  70.  80.  90. 100. 110. 120.]\n"
     ]
    }
   ],
   "source": [
    "# d_freq, d_r = np.histogram( df['dist'], bins=12, range=(0,120))\n",
    "# print(d_freq)\n",
    "# print(d_r)"
   ]
  },
  {
   "cell_type": "code",
   "execution_count": 16,
   "metadata": {},
   "outputs": [
    {
     "data": {
      "text/html": [
       "<div>\n",
       "<style scoped>\n",
       "    .dataframe tbody tr th:only-of-type {\n",
       "        vertical-align: middle;\n",
       "    }\n",
       "\n",
       "    .dataframe tbody tr th {\n",
       "        vertical-align: top;\n",
       "    }\n",
       "\n",
       "    .dataframe thead th {\n",
       "        text-align: right;\n",
       "    }\n",
       "</style>\n",
       "<table border=\"1\" class=\"dataframe\">\n",
       "  <thead>\n",
       "    <tr style=\"text-align: right;\">\n",
       "      <th></th>\n",
       "      <th>빈도</th>\n",
       "    </tr>\n",
       "    <tr>\n",
       "      <th>class</th>\n",
       "      <th></th>\n",
       "    </tr>\n",
       "  </thead>\n",
       "  <tbody>\n",
       "    <tr>\n",
       "      <th>0~10</th>\n",
       "      <td>2</td>\n",
       "    </tr>\n",
       "    <tr>\n",
       "      <th>10~20</th>\n",
       "      <td>6</td>\n",
       "    </tr>\n",
       "    <tr>\n",
       "      <th>20~30</th>\n",
       "      <td>10</td>\n",
       "    </tr>\n",
       "    <tr>\n",
       "      <th>30~40</th>\n",
       "      <td>8</td>\n",
       "    </tr>\n",
       "    <tr>\n",
       "      <th>40~50</th>\n",
       "      <td>6</td>\n",
       "    </tr>\n",
       "    <tr>\n",
       "      <th>50~60</th>\n",
       "      <td>6</td>\n",
       "    </tr>\n",
       "    <tr>\n",
       "      <th>60~70</th>\n",
       "      <td>4</td>\n",
       "    </tr>\n",
       "    <tr>\n",
       "      <th>70~80</th>\n",
       "      <td>2</td>\n",
       "    </tr>\n",
       "    <tr>\n",
       "      <th>80~90</th>\n",
       "      <td>3</td>\n",
       "    </tr>\n",
       "    <tr>\n",
       "      <th>90~100</th>\n",
       "      <td>2</td>\n",
       "    </tr>\n",
       "    <tr>\n",
       "      <th>100~110</th>\n",
       "      <td>0</td>\n",
       "    </tr>\n",
       "    <tr>\n",
       "      <th>110~120</th>\n",
       "      <td>1</td>\n",
       "    </tr>\n",
       "  </tbody>\n",
       "</table>\n",
       "</div>"
      ],
      "text/plain": [
       "         빈도\n",
       "class      \n",
       "0~10      2\n",
       "10~20     6\n",
       "20~30    10\n",
       "30~40     8\n",
       "40~50     6\n",
       "50~60     6\n",
       "60~70     4\n",
       "70~80     2\n",
       "80~90     3\n",
       "90~100    2\n",
       "100~110   0\n",
       "110~120   1"
      ]
     },
     "execution_count": 16,
     "metadata": {},
     "output_type": "execute_result"
    }
   ],
   "source": [
    "# dist_class2 = [f'{i}~{i+10}' for i in range(0, 120, 10)]\n",
    "# dist_df = pd.DataFrame({'빈도':d_freq},\n",
    "#                             index=pd.Index(dist_class2,\n",
    "#                                            name='class'))\n",
    "# dist_df"
   ]
  },
  {
   "cell_type": "code",
   "execution_count": 17,
   "metadata": {},
   "outputs": [],
   "source": [
    "# dist_class_value  = [(i+(i+10))//2 for i in range(0, 120, 10)]\n",
    "# dist_rel_freq = d_freq / d_freq.sum()\n",
    "# dist_cum_rel_freq = np.cumsum( dist_rel_freq)"
   ]
  },
  {
   "cell_type": "code",
   "execution_count": 18,
   "metadata": {},
   "outputs": [
    {
     "data": {
      "text/html": [
       "<div>\n",
       "<style scoped>\n",
       "    .dataframe tbody tr th:only-of-type {\n",
       "        vertical-align: middle;\n",
       "    }\n",
       "\n",
       "    .dataframe tbody tr th {\n",
       "        vertical-align: top;\n",
       "    }\n",
       "\n",
       "    .dataframe thead th {\n",
       "        text-align: right;\n",
       "    }\n",
       "</style>\n",
       "<table border=\"1\" class=\"dataframe\">\n",
       "  <thead>\n",
       "    <tr style=\"text-align: right;\">\n",
       "      <th></th>\n",
       "      <th>계급값</th>\n",
       "      <th>빈도</th>\n",
       "      <th>상대도수</th>\n",
       "      <th>누적상대도수</th>\n",
       "    </tr>\n",
       "    <tr>\n",
       "      <th>class</th>\n",
       "      <th></th>\n",
       "      <th></th>\n",
       "      <th></th>\n",
       "      <th></th>\n",
       "    </tr>\n",
       "  </thead>\n",
       "  <tbody>\n",
       "    <tr>\n",
       "      <th>0~10</th>\n",
       "      <td>5</td>\n",
       "      <td>2</td>\n",
       "      <td>0.04</td>\n",
       "      <td>0.04</td>\n",
       "    </tr>\n",
       "    <tr>\n",
       "      <th>10~20</th>\n",
       "      <td>15</td>\n",
       "      <td>6</td>\n",
       "      <td>0.12</td>\n",
       "      <td>0.16</td>\n",
       "    </tr>\n",
       "    <tr>\n",
       "      <th>20~30</th>\n",
       "      <td>25</td>\n",
       "      <td>10</td>\n",
       "      <td>0.20</td>\n",
       "      <td>0.36</td>\n",
       "    </tr>\n",
       "    <tr>\n",
       "      <th>30~40</th>\n",
       "      <td>35</td>\n",
       "      <td>8</td>\n",
       "      <td>0.16</td>\n",
       "      <td>0.52</td>\n",
       "    </tr>\n",
       "    <tr>\n",
       "      <th>40~50</th>\n",
       "      <td>45</td>\n",
       "      <td>6</td>\n",
       "      <td>0.12</td>\n",
       "      <td>0.64</td>\n",
       "    </tr>\n",
       "    <tr>\n",
       "      <th>50~60</th>\n",
       "      <td>55</td>\n",
       "      <td>6</td>\n",
       "      <td>0.12</td>\n",
       "      <td>0.76</td>\n",
       "    </tr>\n",
       "    <tr>\n",
       "      <th>60~70</th>\n",
       "      <td>65</td>\n",
       "      <td>4</td>\n",
       "      <td>0.08</td>\n",
       "      <td>0.84</td>\n",
       "    </tr>\n",
       "    <tr>\n",
       "      <th>70~80</th>\n",
       "      <td>75</td>\n",
       "      <td>2</td>\n",
       "      <td>0.04</td>\n",
       "      <td>0.88</td>\n",
       "    </tr>\n",
       "    <tr>\n",
       "      <th>80~90</th>\n",
       "      <td>85</td>\n",
       "      <td>3</td>\n",
       "      <td>0.06</td>\n",
       "      <td>0.94</td>\n",
       "    </tr>\n",
       "    <tr>\n",
       "      <th>90~100</th>\n",
       "      <td>95</td>\n",
       "      <td>2</td>\n",
       "      <td>0.04</td>\n",
       "      <td>0.98</td>\n",
       "    </tr>\n",
       "    <tr>\n",
       "      <th>100~110</th>\n",
       "      <td>105</td>\n",
       "      <td>0</td>\n",
       "      <td>0.00</td>\n",
       "      <td>0.98</td>\n",
       "    </tr>\n",
       "    <tr>\n",
       "      <th>110~120</th>\n",
       "      <td>115</td>\n",
       "      <td>1</td>\n",
       "      <td>0.02</td>\n",
       "      <td>1.00</td>\n",
       "    </tr>\n",
       "  </tbody>\n",
       "</table>\n",
       "</div>"
      ],
      "text/plain": [
       "         계급값  빈도  상대도수  누적상대도수\n",
       "class                         \n",
       "0~10       5   2  0.04    0.04\n",
       "10~20     15   6  0.12    0.16\n",
       "20~30     25  10  0.20    0.36\n",
       "30~40     35   8  0.16    0.52\n",
       "40~50     45   6  0.12    0.64\n",
       "50~60     55   6  0.12    0.76\n",
       "60~70     65   4  0.08    0.84\n",
       "70~80     75   2  0.04    0.88\n",
       "80~90     85   3  0.06    0.94\n",
       "90~100    95   2  0.04    0.98\n",
       "100~110  105   0  0.00    0.98\n",
       "110~120  115   1  0.02    1.00"
      ]
     },
     "execution_count": 18,
     "metadata": {},
     "output_type": "execute_result"
    }
   ],
   "source": [
    "# dist_df['계급값'] = dist_class_value\n",
    "# dist_df['상대도수'] = dist_rel_freq.round(2)\n",
    "# dist_df['누적상대도수'] = dist_cum_rel_freq.round(2)\n",
    "# dist_df = dist_df[['계급값', '빈도',\n",
    "#                              '상대도수', '누적상대도수']]\n",
    "# dist_df"
   ]
  },
  {
   "cell_type": "markdown",
   "metadata": {},
   "source": [
    "## 12단위"
   ]
  },
  {
   "cell_type": "code",
   "execution_count": 13,
   "metadata": {},
   "outputs": [
    {
     "name": "stdout",
     "output_type": "stream",
     "text": [
      "[ 4  7 13  7  7  5  2  4  0  1]\n",
      "[  0.  12.  24.  36.  48.  60.  72.  84.  96. 108. 120.]\n"
     ]
    }
   ],
   "source": [
    "d_freq, d_r = np.histogram( df['dist'], bins=10, range=(0,120))\n",
    "print(d_freq)\n",
    "print(d_r)"
   ]
  },
  {
   "cell_type": "code",
   "execution_count": 14,
   "metadata": {},
   "outputs": [
    {
     "data": {
      "text/html": [
       "<div>\n",
       "<style scoped>\n",
       "    .dataframe tbody tr th:only-of-type {\n",
       "        vertical-align: middle;\n",
       "    }\n",
       "\n",
       "    .dataframe tbody tr th {\n",
       "        vertical-align: top;\n",
       "    }\n",
       "\n",
       "    .dataframe thead th {\n",
       "        text-align: right;\n",
       "    }\n",
       "</style>\n",
       "<table border=\"1\" class=\"dataframe\">\n",
       "  <thead>\n",
       "    <tr style=\"text-align: right;\">\n",
       "      <th></th>\n",
       "      <th>빈도</th>\n",
       "    </tr>\n",
       "    <tr>\n",
       "      <th>class</th>\n",
       "      <th></th>\n",
       "    </tr>\n",
       "  </thead>\n",
       "  <tbody>\n",
       "    <tr>\n",
       "      <th>0~12</th>\n",
       "      <td>4</td>\n",
       "    </tr>\n",
       "    <tr>\n",
       "      <th>12~24</th>\n",
       "      <td>7</td>\n",
       "    </tr>\n",
       "    <tr>\n",
       "      <th>24~36</th>\n",
       "      <td>13</td>\n",
       "    </tr>\n",
       "    <tr>\n",
       "      <th>36~48</th>\n",
       "      <td>7</td>\n",
       "    </tr>\n",
       "    <tr>\n",
       "      <th>48~60</th>\n",
       "      <td>7</td>\n",
       "    </tr>\n",
       "    <tr>\n",
       "      <th>60~72</th>\n",
       "      <td>5</td>\n",
       "    </tr>\n",
       "    <tr>\n",
       "      <th>72~84</th>\n",
       "      <td>2</td>\n",
       "    </tr>\n",
       "    <tr>\n",
       "      <th>84~96</th>\n",
       "      <td>4</td>\n",
       "    </tr>\n",
       "    <tr>\n",
       "      <th>96~108</th>\n",
       "      <td>0</td>\n",
       "    </tr>\n",
       "    <tr>\n",
       "      <th>108~120</th>\n",
       "      <td>1</td>\n",
       "    </tr>\n",
       "  </tbody>\n",
       "</table>\n",
       "</div>"
      ],
      "text/plain": [
       "         빈도\n",
       "class      \n",
       "0~12      4\n",
       "12~24     7\n",
       "24~36    13\n",
       "36~48     7\n",
       "48~60     7\n",
       "60~72     5\n",
       "72~84     2\n",
       "84~96     4\n",
       "96~108    0\n",
       "108~120   1"
      ]
     },
     "execution_count": 14,
     "metadata": {},
     "output_type": "execute_result"
    }
   ],
   "source": [
    "dist_class2 = [f'{i}~{i+12}' for i in range(0, 120, 12)]\n",
    "dist_df = pd.DataFrame({'빈도':d_freq},\n",
    "                            index=pd.Index(dist_class2,\n",
    "                                           name='class'))\n",
    "dist_df"
   ]
  },
  {
   "cell_type": "markdown",
   "metadata": {},
   "source": [
    "## 도수분포표 작성"
   ]
  },
  {
   "cell_type": "code",
   "execution_count": 15,
   "metadata": {},
   "outputs": [],
   "source": [
    "dist_class_value  = [(i+(i+12))//2 for i in range(0, 120, 12)]\n",
    "dist_rel_freq = d_freq / d_freq.sum()\n",
    "dist_cum_rel_freq = np.cumsum( dist_rel_freq)"
   ]
  },
  {
   "cell_type": "code",
   "execution_count": 16,
   "metadata": {
    "scrolled": true
   },
   "outputs": [
    {
     "data": {
      "text/html": [
       "<div>\n",
       "<style scoped>\n",
       "    .dataframe tbody tr th:only-of-type {\n",
       "        vertical-align: middle;\n",
       "    }\n",
       "\n",
       "    .dataframe tbody tr th {\n",
       "        vertical-align: top;\n",
       "    }\n",
       "\n",
       "    .dataframe thead th {\n",
       "        text-align: right;\n",
       "    }\n",
       "</style>\n",
       "<table border=\"1\" class=\"dataframe\">\n",
       "  <thead>\n",
       "    <tr style=\"text-align: right;\">\n",
       "      <th></th>\n",
       "      <th>계급값</th>\n",
       "      <th>빈도</th>\n",
       "      <th>상대도수</th>\n",
       "      <th>누적상대도수</th>\n",
       "    </tr>\n",
       "    <tr>\n",
       "      <th>class</th>\n",
       "      <th></th>\n",
       "      <th></th>\n",
       "      <th></th>\n",
       "      <th></th>\n",
       "    </tr>\n",
       "  </thead>\n",
       "  <tbody>\n",
       "    <tr>\n",
       "      <th>0~12</th>\n",
       "      <td>6</td>\n",
       "      <td>4</td>\n",
       "      <td>0.08</td>\n",
       "      <td>0.08</td>\n",
       "    </tr>\n",
       "    <tr>\n",
       "      <th>12~24</th>\n",
       "      <td>18</td>\n",
       "      <td>7</td>\n",
       "      <td>0.14</td>\n",
       "      <td>0.22</td>\n",
       "    </tr>\n",
       "    <tr>\n",
       "      <th>24~36</th>\n",
       "      <td>30</td>\n",
       "      <td>13</td>\n",
       "      <td>0.26</td>\n",
       "      <td>0.48</td>\n",
       "    </tr>\n",
       "    <tr>\n",
       "      <th>36~48</th>\n",
       "      <td>42</td>\n",
       "      <td>7</td>\n",
       "      <td>0.14</td>\n",
       "      <td>0.62</td>\n",
       "    </tr>\n",
       "    <tr>\n",
       "      <th>48~60</th>\n",
       "      <td>54</td>\n",
       "      <td>7</td>\n",
       "      <td>0.14</td>\n",
       "      <td>0.76</td>\n",
       "    </tr>\n",
       "    <tr>\n",
       "      <th>60~72</th>\n",
       "      <td>66</td>\n",
       "      <td>5</td>\n",
       "      <td>0.10</td>\n",
       "      <td>0.86</td>\n",
       "    </tr>\n",
       "    <tr>\n",
       "      <th>72~84</th>\n",
       "      <td>78</td>\n",
       "      <td>2</td>\n",
       "      <td>0.04</td>\n",
       "      <td>0.90</td>\n",
       "    </tr>\n",
       "    <tr>\n",
       "      <th>84~96</th>\n",
       "      <td>90</td>\n",
       "      <td>4</td>\n",
       "      <td>0.08</td>\n",
       "      <td>0.98</td>\n",
       "    </tr>\n",
       "    <tr>\n",
       "      <th>96~108</th>\n",
       "      <td>102</td>\n",
       "      <td>0</td>\n",
       "      <td>0.00</td>\n",
       "      <td>0.98</td>\n",
       "    </tr>\n",
       "    <tr>\n",
       "      <th>108~120</th>\n",
       "      <td>114</td>\n",
       "      <td>1</td>\n",
       "      <td>0.02</td>\n",
       "      <td>1.00</td>\n",
       "    </tr>\n",
       "  </tbody>\n",
       "</table>\n",
       "</div>"
      ],
      "text/plain": [
       "         계급값  빈도  상대도수  누적상대도수\n",
       "class                         \n",
       "0~12       6   4  0.08    0.08\n",
       "12~24     18   7  0.14    0.22\n",
       "24~36     30  13  0.26    0.48\n",
       "36~48     42   7  0.14    0.62\n",
       "48~60     54   7  0.14    0.76\n",
       "60~72     66   5  0.10    0.86\n",
       "72~84     78   2  0.04    0.90\n",
       "84~96     90   4  0.08    0.98\n",
       "96~108   102   0  0.00    0.98\n",
       "108~120  114   1  0.02    1.00"
      ]
     },
     "execution_count": 16,
     "metadata": {},
     "output_type": "execute_result"
    }
   ],
   "source": [
    "dist_df['계급값'] = dist_class_value\n",
    "dist_df['상대도수'] = dist_rel_freq.round(2)\n",
    "dist_df['누적상대도수'] = dist_cum_rel_freq.round(2)\n",
    "dist_df = dist_df[['계급값', '빈도',\n",
    "                             '상대도수', '누적상대도수']]\n",
    "dist_df"
   ]
  },
  {
   "cell_type": "markdown",
   "metadata": {},
   "source": [
    "=================================================\n",
    "<pre>\n",
    "   12~60 사이에 값들이 많이 모여있음\n",
    "   연관성에 대한 확인이 필요하지만\n",
    "   \n",
    "   dist의 최빈값이 24 ~ 36 인것으로 보아\n",
    "   speed의 10~20의 중앙값인 15 정도의 속도라면 \n",
    "   평균적으로 30 정도의 제동거리를 가지지 않을까 추측\n",
    "</pre>\n",
    "=================================================="
   ]
  },
  {
   "cell_type": "code",
   "execution_count": 23,
   "metadata": {
    "scrolled": true
   },
   "outputs": [
    {
     "name": "stdout",
     "output_type": "stream",
     "text": [
      "속도 15    : 33 2\n",
      "속도 14~16 : 11 2\n"
     ]
    }
   ],
   "source": [
    "dist_pre  = df[df['speed'] == 15]['dist']\n",
    "dist_pre2 = df[ (df['speed'] >= 14) &(df['speed'] <= 16)]['dist']\n",
    "sum_dist  = 0\n",
    "sum_dist2 = 0 \n",
    "for i in dist_pre:\n",
    "    sum_dist   += i\n",
    "\n",
    "for i in dist_pre2:\n",
    "    sum_dist2  += i\n",
    "\n",
    "\n",
    "\n",
    "print('속도 15    :', round(sum_dist/len(dist_pre)),2)\n",
    "print('속도 14~16 :', round(sum_dist/len(dist_pre2)),2)"
   ]
  },
  {
   "cell_type": "markdown",
   "metadata": {},
   "source": [
    "====================================================================\n",
    "<pre>\n",
    "추측과 비슷하게 나오지만 범위가 조금만 늘어도 크게 제동거리는 하락함\n",
    "</pre>\n",
    "===================================================================="
   ]
  },
  {
   "cell_type": "markdown",
   "metadata": {},
   "source": [
    "## 시각화"
   ]
  },
  {
   "cell_type": "code",
   "execution_count": 17,
   "metadata": {},
   "outputs": [
    {
     "data": {
      "image/png": "[encoded data removed]",
      "text/plain": [
       "<Figure size 720x432 with 1 Axes>"
      ]
     },
     "metadata": {
      "needs_background": "light"
     },
     "output_type": "display_data"
    }
   ],
   "source": [
    "fig = plt.figure( figsize = (10,6))\n",
    "plt.hist(df['dist'], bins=10, range=(0,120))\n",
    "plt.show()"
   ]
  },
  {
   "cell_type": "code",
   "execution_count": 18,
   "metadata": {},
   "outputs": [
    {
     "data": {
      "image/png": "[encoded data removed]",
      "text/plain": [
       "<Figure size 720x432 with 2 Axes>"
      ]
     },
     "metadata": {
      "needs_background": "light"
     },
     "output_type": "display_data"
    }
   ],
   "source": [
    "fig = plt.figure( figsize = (10,6))\n",
    "ax1 = fig.add_subplot()\n",
    "ax2 = ax1.twinx()\n",
    "\n",
    "freq, r, _ = ax1.hist(df['dist'], bins=10, range=(0,120))\n",
    "ax2.plot( dist_df['계급값'] ,dist_df['누적상대도수'], 'ro--')\n",
    "ax2.plot( dist_df['계급값'] ,dist_df['상대도수'], 'bo--')\n",
    "plt.show()"
   ]
  },
  {
   "cell_type": "markdown",
   "metadata": {},
   "source": [
    "# 2. 대표값 3개를 구하시요 (평균,중앙값,대표값)"
   ]
  },
  {
   "cell_type": "markdown",
   "metadata": {},
   "source": [
    "## 평균"
   ]
  },
  {
   "cell_type": "markdown",
   "metadata": {},
   "source": [
    "## Speed"
   ]
  },
  {
   "cell_type": "code",
   "execution_count": 26,
   "metadata": {},
   "outputs": [],
   "source": [
    "speed = df['speed'].values"
   ]
  },
  {
   "cell_type": "code",
   "execution_count": 27,
   "metadata": {},
   "outputs": [
    {
     "name": "stdout",
     "output_type": "stream",
     "text": [
      "15.4\n",
      "15.4\n"
     ]
    }
   ],
   "source": [
    "print(speed.sum() / len(speed))\n",
    "print(speed.mean())  # 확인용"
   ]
  },
  {
   "cell_type": "markdown",
   "metadata": {},
   "source": [
    "## dist"
   ]
  },
  {
   "cell_type": "code",
   "execution_count": 28,
   "metadata": {},
   "outputs": [],
   "source": [
    "dist = df['dist'].values"
   ]
  },
  {
   "cell_type": "code",
   "execution_count": 29,
   "metadata": {},
   "outputs": [
    {
     "name": "stdout",
     "output_type": "stream",
     "text": [
      "42.98\n",
      "42.98\n"
     ]
    }
   ],
   "source": [
    "print(dist.sum() / len(dist))\n",
    "print(dist.mean())  # 확인용"
   ]
  },
  {
   "cell_type": "markdown",
   "metadata": {},
   "source": [
    "## 중앙값"
   ]
  },
  {
   "cell_type": "markdown",
   "metadata": {},
   "source": [
    "## Speed"
   ]
  },
  {
   "cell_type": "code",
   "execution_count": 30,
   "metadata": {},
   "outputs": [
    {
     "data": {
      "text/plain": [
       "array([ 4,  4,  7,  7,  8,  9, 10, 10, 10, 11, 11, 12, 12, 12, 12, 13, 13,\n",
       "       13, 13, 14, 14, 14, 14, 15, 15, 15, 16, 16, 17, 17, 17, 18, 18, 18,\n",
       "       18, 19, 19, 19, 20, 20, 20, 20, 20, 22, 23, 24, 24, 24, 24, 25],\n",
       "      dtype=int64)"
      ]
     },
     "execution_count": 30,
     "metadata": {},
     "output_type": "execute_result"
    }
   ],
   "source": [
    "sorted_speed = np.sort(speed)\n",
    "sorted_speed"
   ]
  },
  {
   "cell_type": "code",
   "execution_count": 31,
   "metadata": {},
   "outputs": [
    {
     "name": "stdout",
     "output_type": "stream",
     "text": [
      "15.0\n",
      "15.0\n"
     ]
    }
   ],
   "source": [
    "n = len(sorted_speed)\n",
    "if n % 2 == 0:\n",
    "    m0 = sorted_speed[n//2 - 1]\n",
    "    m1 = sorted_speed[n//2]\n",
    "    median = (m0 + m1) / 2\n",
    "else:\n",
    "    median = sorted_speed[ (n+1)//2 - 1 ]\n",
    "\n",
    "print(median)\n",
    "print(np.median( speed))# 확인용\n"
   ]
  },
  {
   "cell_type": "markdown",
   "metadata": {},
   "source": [
    "## dist"
   ]
  },
  {
   "cell_type": "code",
   "execution_count": 32,
   "metadata": {},
   "outputs": [
    {
     "data": {
      "text/plain": [
       "array([  2,   4,  10,  10,  14,  16,  17,  18,  20,  20,  22,  24,  26,\n",
       "        26,  26,  26,  28,  28,  32,  32,  32,  34,  34,  34,  36,  36,\n",
       "        40,  40,  42,  46,  46,  48,  50,  52,  54,  54,  56,  56,  60,\n",
       "        64,  66,  68,  70,  76,  80,  84,  85,  92,  93, 120], dtype=int64)"
      ]
     },
     "execution_count": 32,
     "metadata": {},
     "output_type": "execute_result"
    }
   ],
   "source": [
    "sorted_dist = np.sort(dist)\n",
    "sorted_dist"
   ]
  },
  {
   "cell_type": "code",
   "execution_count": 33,
   "metadata": {},
   "outputs": [
    {
     "name": "stdout",
     "output_type": "stream",
     "text": [
      "36.0\n",
      "36.0\n"
     ]
    }
   ],
   "source": [
    "n = len(sorted_dist)\n",
    "if n % 2 == 0:\n",
    "    m0 = sorted_dist[n//2 - 1]\n",
    "    m1 = sorted_dist[n//2]\n",
    "    median = (m0 + m1) / 2\n",
    "else:\n",
    "    median = sorted_dist[ (n+1)//2 - 1 ]\n",
    "\n",
    "print(median)\n",
    "print(np.median( dist))# 확인용\n"
   ]
  },
  {
   "cell_type": "markdown",
   "metadata": {},
   "source": [
    "## 대표값 "
   ]
  },
  {
   "cell_type": "code",
   "execution_count": 34,
   "metadata": {},
   "outputs": [],
   "source": [
    "from scipy.stats import mode"
   ]
  },
  {
   "cell_type": "markdown",
   "metadata": {},
   "source": [
    "## speed"
   ]
  },
  {
   "cell_type": "markdown",
   "metadata": {},
   "source": [
    "## 1."
   ]
  },
  {
   "cell_type": "code",
   "execution_count": 35,
   "metadata": {
    "scrolled": true
   },
   "outputs": [
    {
     "name": "stdout",
     "output_type": "stream",
     "text": [
      "4 2\n",
      "7 2\n",
      "8 1\n",
      "9 1\n",
      "10 3\n",
      "11 2\n",
      "12 4\n",
      "13 4\n",
      "14 4\n",
      "15 3\n",
      "16 2\n",
      "17 3\n",
      "18 4\n",
      "19 3\n",
      "20 5\n",
      "22 1\n",
      "23 1\n",
      "24 4\n",
      "25 1\n"
     ]
    }
   ],
   "source": [
    "np.unique(speed, return_counts =True)\n",
    "dt, c = np.unique(speed, return_counts =True)\n",
    "for a,b in zip( dt,c):\n",
    "    print(a,b)"
   ]
  },
  {
   "cell_type": "markdown",
   "metadata": {},
   "source": [
    "## 2."
   ]
  },
  {
   "cell_type": "code",
   "execution_count": 36,
   "metadata": {},
   "outputs": [
    {
     "name": "stdout",
     "output_type": "stream",
     "text": [
      "[4, 4, 7, 7, 8, 9, 10, 10, 10, 11, 11, 12, 12, 12, 12, 13, 13, 13, 13, 14, 14, 14, 14, 15, 15, 15, 16, 16, 17, 17, 17, 18, 18, 18, 18, 19, 19, 19, 20, 20, 20, 20, 20, 22, 23, 24, 24, 24, 24, 25]\n"
     ]
    }
   ],
   "source": [
    "speed_list=list()\n",
    "\n",
    "# print(dist)\n",
    "for i in speed:\n",
    "    speed_list.append(i)\n",
    "\n",
    "print(speed_list)"
   ]
  },
  {
   "cell_type": "code",
   "execution_count": 37,
   "metadata": {
    "scrolled": false
   },
   "outputs": [
    {
     "name": "stdout",
     "output_type": "stream",
     "text": [
      "4 2\n",
      "7 2\n",
      "8 1\n",
      "9 1\n",
      "10 3\n",
      "11 2\n",
      "12 4\n",
      "13 4\n",
      "14 4\n",
      "15 3\n",
      "16 2\n",
      "17 3\n",
      "18 4\n",
      "19 3\n",
      "20 5\n",
      "22 1\n",
      "23 1\n",
      "24 4\n",
      "25 1\n",
      "==============================\n",
      "최빈값   : 20\n",
      "최빈값수 : 5\n",
      "==============================\n",
      "ModeResult(mode=array([20], dtype=int64), count=array([5]))\n"
     ]
    }
   ],
   "source": [
    "freq  = {}\n",
    "max_n = 0\n",
    "\n",
    "for i in speed_list:\n",
    "    freq[i] = speed_list.count(i)\n",
    "\n",
    "for j in freq:    \n",
    "    print (j,freq[j])\n",
    "    if freq[j] > max_n:\n",
    "        max_n = freq[j]\n",
    "        key = j\n",
    "print( '='*30)\n",
    "print (f'최빈값   : {key}')\n",
    "print (f'최빈값수 : {max_n}')\n",
    "print( '='*30)\n",
    "\n",
    "print (mode(speed)) ## 확인용"
   ]
  },
  {
   "cell_type": "markdown",
   "metadata": {},
   "source": [
    "## dist"
   ]
  },
  {
   "cell_type": "markdown",
   "metadata": {},
   "source": [
    "## 1."
   ]
  },
  {
   "cell_type": "code",
   "execution_count": 38,
   "metadata": {
    "scrolled": true
   },
   "outputs": [
    {
     "name": "stdout",
     "output_type": "stream",
     "text": [
      "2 1\n",
      "4 1\n",
      "10 2\n",
      "14 1\n",
      "16 1\n",
      "17 1\n",
      "18 1\n",
      "20 2\n",
      "22 1\n",
      "24 1\n",
      "26 4\n",
      "28 2\n",
      "32 3\n",
      "34 3\n",
      "36 2\n",
      "40 2\n",
      "42 1\n",
      "46 2\n",
      "48 1\n",
      "50 1\n",
      "52 1\n",
      "54 2\n",
      "56 2\n",
      "60 1\n",
      "64 1\n",
      "66 1\n",
      "68 1\n",
      "70 1\n",
      "76 1\n",
      "80 1\n",
      "84 1\n",
      "85 1\n",
      "92 1\n",
      "93 1\n",
      "120 1\n"
     ]
    }
   ],
   "source": [
    "np.unique(dist, return_counts =True)\n",
    "dt, c = np.unique(dist, return_counts =True)\n",
    "for a,b in zip( dt,c):\n",
    "    print(a,b)"
   ]
  },
  {
   "cell_type": "markdown",
   "metadata": {},
   "source": [
    "## 2."
   ]
  },
  {
   "cell_type": "code",
   "execution_count": 39,
   "metadata": {},
   "outputs": [
    {
     "name": "stdout",
     "output_type": "stream",
     "text": [
      "[2, 10, 4, 22, 16, 10, 18, 26, 34, 17, 28, 14, 20, 24, 28, 26, 34, 34, 46, 26, 36, 60, 80, 20, 26, 54, 32, 40, 32, 40, 50, 42, 56, 76, 84, 36, 46, 68, 32, 48, 52, 56, 64, 66, 54, 70, 92, 93, 120, 85]\n"
     ]
    }
   ],
   "source": [
    "dist_list=list()\n",
    "\n",
    "# print(dist)\n",
    "for i in dist:\n",
    "    dist_list.append(i)\n",
    "\n",
    "print(dist_list)"
   ]
  },
  {
   "cell_type": "code",
   "execution_count": 40,
   "metadata": {
    "scrolled": true
   },
   "outputs": [
    {
     "name": "stdout",
     "output_type": "stream",
     "text": [
      "2 1\n",
      "10 2\n",
      "4 1\n",
      "22 1\n",
      "16 1\n",
      "18 1\n",
      "26 4\n",
      "34 3\n",
      "17 1\n",
      "28 2\n",
      "14 1\n",
      "20 2\n",
      "24 1\n",
      "46 2\n",
      "36 2\n",
      "60 1\n",
      "80 1\n",
      "54 2\n",
      "32 3\n",
      "40 2\n",
      "50 1\n",
      "42 1\n",
      "56 2\n",
      "76 1\n",
      "84 1\n",
      "68 1\n",
      "48 1\n",
      "52 1\n",
      "64 1\n",
      "66 1\n",
      "70 1\n",
      "92 1\n",
      "93 1\n",
      "120 1\n",
      "85 1\n",
      "==============================\n",
      "최빈값   : 26\n",
      "최빈값수 : 4\n",
      "==============================\n",
      "ModeResult(mode=array([26], dtype=int64), count=array([4]))\n"
     ]
    }
   ],
   "source": [
    "freq  = {}\n",
    "max_n = 0\n",
    "\n",
    "for i in dist_list:\n",
    "    freq[i] = dist_list.count(i)\n",
    "\n",
    "for j in freq:    \n",
    "    print (j,freq[j])\n",
    "    if freq[j] > max_n:\n",
    "        max_n = freq[j]\n",
    "        key = j\n",
    "print( '='*30)\n",
    "print (f'최빈값   : {key}')\n",
    "print (f'최빈값수 : {max_n}')\n",
    "\n",
    "print( '='*30)\n",
    "\n",
    "print (mode(dist)) ## 확인용"
   ]
  },
  {
   "cell_type": "code",
   "execution_count": null,
   "metadata": {},
   "outputs": [],
   "source": [
    "np.bincount(dist)[np.bincount(dist)==max(np.bincount(dist))]"
   ]
  },
  {
   "cell_type": "markdown",
   "metadata": {},
   "source": [
    "# 3. 분산, 표준편차를 구하시요.\n"
   ]
  },
  {
   "cell_type": "markdown",
   "metadata": {},
   "source": [
    "## speed"
   ]
  },
  {
   "cell_type": "code",
   "execution_count": 41,
   "metadata": {},
   "outputs": [
    {
     "name": "stdout",
     "output_type": "stream",
     "text": [
      "speed 분산     : 27.4\n",
      "speed 표준편차 : 5.2345009313209605\n"
     ]
    }
   ],
   "source": [
    "# 분산, 표준편차\n",
    "speed_d_squared = (df['speed'].values - df['speed'].values.mean())**2 \n",
    "print('speed 분산     :', speed_d_squared.sum()/len(speed_d_squared))\n",
    "print('speed 표준편차 :', np.sqrt(speed_d_squared.sum()/len(speed_d_squared)))"
   ]
  },
  {
   "cell_type": "markdown",
   "metadata": {},
   "source": [
    "## dist"
   ]
  },
  {
   "cell_type": "code",
   "execution_count": 42,
   "metadata": {},
   "outputs": [
    {
     "name": "stdout",
     "output_type": "stream",
     "text": [
      "dist 분산     : 650.7796000000001\n",
      "dist 표준편차 : 25.510382200194496\n"
     ]
    }
   ],
   "source": [
    "# 분산, 표준편차\n",
    "\n",
    "dist_d_squared = (df['dist'].values - df['dist'].values.mean())**2 \n",
    "print('dist 분산     :', dist_d_squared.sum()/len(dist_d_squared))\n",
    "print('dist 표준편차 :', np.sqrt(dist_d_squared.sum()/len(dist_d_squared)))"
   ]
  },
  {
   "cell_type": "markdown",
   "metadata": {},
   "source": [
    "# 4.공분산을 구하시오 "
   ]
  },
  {
   "cell_type": "code",
   "execution_count": 43,
   "metadata": {},
   "outputs": [
    {
     "name": "stdout",
     "output_type": "stream",
     "text": [
      "speed와 dist의 공분산 : 107.748\n"
     ]
    }
   ],
   "source": [
    "speed_d = df['speed'].values - df['speed'].values.mean()\n",
    "dist_d = df['dist'].values - df['dist'].values.mean()\n",
    "\n",
    "multiply_d = speed_d * dist_d\n",
    "\n",
    "print('speed와 dist의 공분산 :', multiply_d.sum()/len(multiply_d))\n",
    "\n",
    "# 함수를 쓰면 아래와 같다!\n",
    "# np.cov(df['speed'].values, df['dist'].values, ddof=0)"
   ]
  },
  {
   "cell_type": "markdown",
   "metadata": {},
   "source": [
    "# 5. cars데이터를 정규화 하시요."
   ]
  },
  {
   "cell_type": "markdown",
   "metadata": {},
   "source": [
    "## speed"
   ]
  },
  {
   "cell_type": "code",
   "execution_count": 44,
   "metadata": {},
   "outputs": [
    {
     "data": {
      "text/plain": [
       "array([-2.17785805, -2.17785805, -1.60473751, -1.60473751, -1.41369733,\n",
       "       -1.22265715, -1.03161697, -1.03161697, -1.03161697, -0.84057679,\n",
       "       -0.84057679, -0.64953661, -0.64953661, -0.64953661, -0.64953661,\n",
       "       -0.45849643, -0.45849643, -0.45849643, -0.45849643, -0.26745625,\n",
       "       -0.26745625, -0.26745625, -0.26745625, -0.07641607, -0.07641607,\n",
       "       -0.07641607,  0.11462411,  0.11462411,  0.30566429,  0.30566429,\n",
       "        0.30566429,  0.49670447,  0.49670447,  0.49670447,  0.49670447,\n",
       "        0.68774465,  0.68774465,  0.68774465,  0.87878483,  0.87878483,\n",
       "        0.87878483,  0.87878483,  0.87878483,  1.26086519,  1.45190537,\n",
       "        1.64294555,  1.64294555,  1.64294555,  1.64294555,  1.83398573])"
      ]
     },
     "execution_count": 44,
     "metadata": {},
     "output_type": "execute_result"
    }
   ],
   "source": [
    "# speed 정규화\n",
    "\n",
    "speed_mean = df['speed'].values.sum() / len(df['speed'].values)\n",
    "\n",
    "speed_d_squared = (df['speed'].values - df['speed'].values.mean())**2 \n",
    "speed_std = np.sqrt(speed_d_squared.sum()/len(speed_d_squared))\n",
    "\n",
    "(df['speed'].values - speed_mean) / speed_std"
   ]
  },
  {
   "cell_type": "code",
   "execution_count": 45,
   "metadata": {},
   "outputs": [
    {
     "name": "stdout",
     "output_type": "stream",
     "text": [
      "평균 : -7.993605777301127e-17\n",
      "표준편차 : 1.0\n"
     ]
    }
   ],
   "source": [
    "# 평균이 0, 표준편차가 1임을 확인!\n",
    "\n",
    "n_speed = (df['speed'].values - speed_mean) / speed_std\n",
    "print('평균 :', n_speed.mean())\n",
    "print('표준편차 :', n_speed.std())"
   ]
  },
  {
   "cell_type": "markdown",
   "metadata": {},
   "source": [
    "## dist"
   ]
  },
  {
   "cell_type": "code",
   "execution_count": 46,
   "metadata": {},
   "outputs": [
    {
     "data": {
      "text/plain": [
       "array([-1.60640478, -1.29280697, -1.52800533, -0.82241026, -1.05760862,\n",
       "       -1.29280697, -0.97920916, -0.66561135, -0.35201354, -1.01840889,\n",
       "       -0.5872119 , -1.13600807, -0.90080971, -0.74401081, -0.5872119 ,\n",
       "       -0.66561135, -0.35201354, -0.35201354,  0.11838317, -0.66561135,\n",
       "       -0.27361409,  0.66717934,  1.45117387, -0.90080971, -0.66561135,\n",
       "        0.43198098, -0.43041299, -0.11681518, -0.43041299, -0.11681518,\n",
       "        0.27518208, -0.03841573,  0.51038044,  1.29437496,  1.60797277,\n",
       "       -0.27361409,  0.11838317,  0.98077715, -0.43041299,  0.19678263,\n",
       "        0.35358153,  0.51038044,  0.82397825,  0.9023777 ,  0.43198098,\n",
       "        1.0591766 ,  1.92157058,  1.96077031,  3.01916292,  1.6471725 ])"
      ]
     },
     "execution_count": 46,
     "metadata": {},
     "output_type": "execute_result"
    }
   ],
   "source": [
    "# dist 정규화\n",
    "\n",
    "dist_mean = df['dist'].values.sum() / len(df['dist'].values)\n",
    "\n",
    "dist_d_squared = (df['dist'].values - df['dist'].values.mean())**2 \n",
    "dist_std = np.sqrt(dist_d_squared.sum()/len(dist_d_squared))\n",
    "\n",
    "(df['dist'].values - dist_mean) / dist_std"
   ]
  },
  {
   "cell_type": "code",
   "execution_count": 47,
   "metadata": {},
   "outputs": [
    {
     "name": "stdout",
     "output_type": "stream",
     "text": [
      "평균 : 1.1546319456101628e-16\n",
      "표준편차 : 0.9999999999999998\n"
     ]
    }
   ],
   "source": [
    "# 평균이 0, 표준편차가 1임을 확인!\n",
    "\n",
    "n_dist = (df['dist'].values - dist_mean) / dist_std\n",
    "print('평균 :', n_dist.mean())\n",
    "print('표준편차 :', n_dist.std())"
   ]
  },
  {
   "cell_type": "markdown",
   "metadata": {},
   "source": [
    "# 6. 상관계수를 구하고 히트맵을 그리시오"
   ]
  },
  {
   "cell_type": "code",
   "execution_count": 48,
   "metadata": {},
   "outputs": [
    {
     "data": {
      "text/html": [
       "<div>\n",
       "<style scoped>\n",
       "    .dataframe tbody tr th:only-of-type {\n",
       "        vertical-align: middle;\n",
       "    }\n",
       "\n",
       "    .dataframe tbody tr th {\n",
       "        vertical-align: top;\n",
       "    }\n",
       "\n",
       "    .dataframe thead th {\n",
       "        text-align: right;\n",
       "    }\n",
       "</style>\n",
       "<table border=\"1\" class=\"dataframe\">\n",
       "  <thead>\n",
       "    <tr style=\"text-align: right;\">\n",
       "      <th></th>\n",
       "      <th>speed</th>\n",
       "      <th>dist</th>\n",
       "    </tr>\n",
       "  </thead>\n",
       "  <tbody>\n",
       "    <tr>\n",
       "      <th>speed</th>\n",
       "      <td>1.00000</td>\n",
       "      <td>0.806880</td>\n",
       "    </tr>\n",
       "    <tr>\n",
       "      <th>dist</th>\n",
       "      <td>0.80688</td>\n",
       "      <td>0.999999</td>\n",
       "    </tr>\n",
       "  </tbody>\n",
       "</table>\n",
       "</div>"
      ],
      "text/plain": [
       "         speed      dist\n",
       "speed  1.00000  0.806880\n",
       "dist   0.80688  0.999999"
      ]
     },
     "execution_count": 48,
     "metadata": {},
     "output_type": "execute_result"
    }
   ],
   "source": [
    "speed = df['speed']\n",
    "dist  = df['dist']\n",
    "\n",
    "# 공분산 구하는 함수\n",
    "\n",
    "def covariance(X, Y): \n",
    "    ax, ay = X.mean(), Y.mean()\n",
    "    data = [round((x-ax)*(y-ay),2) for x, y in zip(X, Y)]\n",
    "    # print('data:',data)\n",
    "    return sum(data) / len(X)\n",
    "\n",
    "# 상관계수 = 공분산 / 각 표준편차의 곱한 값을 나눔\n",
    "# speed, speed\n",
    "cor_car1 = covariance(speed, speed) / (np.std(speed) * np.std(speed))\n",
    "cor_car1\n",
    "\n",
    "# 상관계수 = 공분산 / 각 표준편차의 곱한 값을 나눔\n",
    "# dist, dist\n",
    "cor_car2 = covariance(dist, dist) / (np.std(dist) * np.std(dist))\n",
    "cor_car2\n",
    "\n",
    "# 상관계수 = 공분산 / 각 표준편차의 곱한 값을 나눔\n",
    "# speed, dist\n",
    "cor_car3 = covariance(speed, dist) / (np.std(speed) * np.std(dist))\n",
    "cor_car3\n",
    "\n",
    "# 데이터프레임으로 만들기\n",
    "car_corr = [[cor_car1,cor_car3],\n",
    "            [cor_car3,cor_car2]]\n",
    "car_corr_df = pd.DataFrame(car_corr)\n",
    "car_corr_df \n",
    "\n",
    "# 컬럼명, 인덱스명 변경\n",
    "car_corr_df = car_corr_df.rename({0:'speed',1:'dist'})\n",
    "car_corr_df = car_corr_df.rename({0:'speed',1:'dist'}, axis=1)\n",
    "car_corr_df\n"
   ]
  },
  {
   "cell_type": "markdown",
   "metadata": {},
   "source": [
    "### 히트맵으로 그리기"
   ]
  },
  {
   "cell_type": "code",
   "execution_count": 49,
   "metadata": {},
   "outputs": [
    {
     "data": {
      "image/png": "[encoded data removed]",
      "text/plain": [
       "<Figure size 432x288 with 2 Axes>"
      ]
     },
     "metadata": {
      "needs_background": "light"
     },
     "output_type": "display_data"
    }
   ],
   "source": [
    "import seaborn as sns\n",
    "sns.heatmap(car_corr_df, cmap='viridis', annot=True)\n",
    "plt.show()   "
   ]
  },
  {
   "cell_type": "markdown",
   "metadata": {},
   "source": [
    "### 속도와 제동거리는 강한 선형관계를 가지는 것을 알 수 있다."
   ]
  }
 ],
 "metadata": {
  "kernelspec": {
   "display_name": "Python 3",
   "language": "python",
   "name": "python3"
  },
  "language_info": {
   "codemirror_mode": {
    "name": "ipython",
    "version": 3
   },
   "file_extension": ".py",
   "mimetype": "text/x-python",
   "name": "python",
   "nbconvert_exporter": "python",
   "pygments_lexer": "ipython3",
   "version": "3.7.6"
  }
 },
 "nbformat": 4,
 "nbformat_minor": 4
}