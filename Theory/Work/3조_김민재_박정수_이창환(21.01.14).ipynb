{
 "metadata": {
  "language_info": {
   "codemirror_mode": {
    "name": "ipython",
    "version": 3
   },
   "file_extension": ".py",
   "mimetype": "text/x-python",
   "name": "python",
   "nbconvert_exporter": "python",
   "pygments_lexer": "ipython3",
   "version": "3.7.6-final"
  },
  "orig_nbformat": 2,
  "kernelspec": {
   "name": "python3",
   "display_name": "Python 3",
   "language": "python"
  }
 },
 "nbformat": 4,
 "nbformat_minor": 2,
 "cells": [
  {
   "cell_type": "code",
   "execution_count": 4,
   "metadata": {},
   "outputs": [],
   "source": [
    "import numpy as np\n",
    "import pandas as pd\n",
    "import matplotlib.pyplot as plt\n",
    "import math"
   ]
  },
  {
   "cell_type": "code",
   "execution_count": null,
   "metadata": {},
   "outputs": [],
   "source": [
    "1. cars(x:speed, y:dist) 데이터를 이용하여 회귀계수(기울기,절편) 를 구하시요.\n",
    "공식(B0, B1)을 이용하여 구하시요.( 선형회귀분석.pdf 파일 6페이지공식)\n",
    "\n",
    "2.  x=[1,2,3,4,5,6,7,8,9,10]  ,y=[2,4,6,8,10,12,14,16,18,20]\n",
    "일때 hx = wx 로 하여\n",
    "학습방법을 이용하여 w값을 구하시요.\n",
    "\n",
    "3. 삼성전자주가중 2020년 종가 표본 100개를 추출하여\n",
    "2020년 종가의 평균을 신뢰도 95% 로 추정하시요.\n",
    "\n",
    "\n",
    "4. 2020년도 삼성전자 주가 표본크기가 20인 표본 100개를 추출하여\n",
    "표본평균의 평균, 표본평균의 분산, 표본평균의 편차를 구하시요.\n",
    "\n",
    "5. 어느 회사에서 생산하는 전자제품의 평균수명을 조사하기 위하여, \n",
    "표본 100개를 뽑았더니 평균은 800일이 나왔다. \n",
    "그리고 과거의 자료를 분석한 결과 모표준편차(σ)는 40일이라고 한다. \n",
    "이때 전자제품의 평균수명에 대한 95%의 신뢰구간을 구하시오.\n",
    "\n",
    "\n",
    "6. 우리나라 대학생들의 월 평균용돈을 알아보기 위하여, 대학생 70명을 조사하였더니, \n",
    "월 평균용돈은 13만 원이 나왔다. 그럼 모표준편차(σ)를 3만 원이라고 가정했을 때,\n",
    " 대학생의 월 평균용돈에 대한 99%의 신뢰구간을 구하시오.\n",
    "\n",
    "\n",
    "7. y = (5x+3)^3 인경우 편미분을 이용하여 미분값 도출과정을 적으시요.\n"
   ]
  },
  {
   "cell_type": "code",
   "execution_count": null,
   "metadata": {},
   "outputs": [],
   "source": [
    "'''\n",
    "2.  x=[1,2,3,4,5,6,7,8,9,10]  ,y=[2,4,6,8,10,12,14,16,18,20]\n",
    "일때 hx = wx 로 하여\n",
    "학습방법을 이용하여 w값을 구하시요.\n",
    "'''"
   ]
  },
  {
   "cell_type": "code",
   "execution_count": 32,
   "metadata": {},
   "outputs": [],
   "source": [
    "x=[1,2,3,4,5,6,7,8,9,10]\n",
    "y=[2,4,6,8,10,12,14,16,18,20]\n",
    "\n",
    "y=2x w=2"
   ]
  },
  {
   "cell_type": "code",
   "execution_count": 33,
   "metadata": {},
   "outputs": [],
   "source": [
    "# cost\n",
    "def cost(x,y,w):\n",
    "    c = 0 \n",
    "    for i in np.arange(len(x)):\n",
    "        hx = w*x[i]\n",
    "        c  = c+(hx-y[i])**2 # (예측값 - 실제값) * 2\n",
    "    return c/len(x) "
   ]
  },
  {
   "cell_type": "code",
   "execution_count": 39,
   "metadata": {},
   "outputs": [
    {
     "output_type": "display_data",
     "data": {
      "text/plain": "<Figure size 432x288 with 1 Axes>",
      "image/svg+xml": "<?xml version=\"1.0\" encoding=\"utf-8\" standalone=\"no\"?>\r\n<!DOCTYPE svg PUBLIC \"-//W3C//DTD SVG 1.1//EN\"\r\n  \"http://www.w3.org/Graphics/SVG/1.1/DTD/svg11.dtd\">\r\n<!-- Created with matplotlib (https://matplotlib.org/) -->\r\n<svg height=\"262.19625pt\" version=\"1.1\" viewBox=\"0 0 388.965625 262.19625\" width=\"388.965625pt\" xmlns=\"http://www.w3.org/2000/svg\" xmlns:xlink=\"http://www.w3.org/1999/xlink\">\r\n <defs>\r\n  <style type=\"text/css\">\r\n*{stroke-linecap:butt;stroke-linejoin:round;}\r\n  </style>\r\n </defs>\r\n <g id=\"figure_1\">\r\n  <g id=\"patch_1\">\r\n   <path d=\"M -0 262.19625 \r\nL 388.965625 262.19625 \r\nL 388.965625 0 \r\nL -0 0 \r\nz\r\n\" style=\"fill:none;\"/>\r\n  </g>\r\n  <g id=\"axes_1\">\r\n   <g id=\"patch_2\">\r\n    <path d=\"M 46.965625 224.64 \r\nL 381.765625 224.64 \r\nL 381.765625 7.2 \r\nL 46.965625 7.2 \r\nz\r\n\" style=\"fill:#ffffff;\"/>\r\n   </g>\r\n   <g id=\"matplotlib.axis_1\">\r\n    <g id=\"xtick_1\">\r\n     <g id=\"line2d_1\">\r\n      <defs>\r\n       <path d=\"M 0 0 \r\nL 0 3.5 \r\n\" id=\"m99516b0592\" style=\"stroke:#000000;stroke-width:0.8;\"/>\r\n      </defs>\r\n      <g>\r\n       <use style=\"stroke:#000000;stroke-width:0.8;\" x=\"62.183807\" xlink:href=\"#m99516b0592\" y=\"224.64\"/>\r\n      </g>\r\n     </g>\r\n     <g id=\"text_1\">\r\n      <!-- −1 -->\r\n      <defs>\r\n       <path d=\"M 10.59375 35.5 \r\nL 73.1875 35.5 \r\nL 73.1875 27.203125 \r\nL 10.59375 27.203125 \r\nz\r\n\" id=\"DejaVuSans-8722\"/>\r\n       <path d=\"M 12.40625 8.296875 \r\nL 28.515625 8.296875 \r\nL 28.515625 63.921875 \r\nL 10.984375 60.40625 \r\nL 10.984375 69.390625 \r\nL 28.421875 72.90625 \r\nL 38.28125 72.90625 \r\nL 38.28125 8.296875 \r\nL 54.390625 8.296875 \r\nL 54.390625 0 \r\nL 12.40625 0 \r\nz\r\n\" id=\"DejaVuSans-49\"/>\r\n      </defs>\r\n      <g transform=\"translate(54.812713 239.238437)scale(0.1 -0.1)\">\r\n       <use xlink:href=\"#DejaVuSans-8722\"/>\r\n       <use x=\"83.789062\" xlink:href=\"#DejaVuSans-49\"/>\r\n      </g>\r\n     </g>\r\n    </g>\r\n    <g id=\"xtick_2\">\r\n     <g id=\"line2d_2\">\r\n      <g>\r\n       <use style=\"stroke:#000000;stroke-width:0.8;\" x=\"112.91108\" xlink:href=\"#m99516b0592\" y=\"224.64\"/>\r\n      </g>\r\n     </g>\r\n     <g id=\"text_2\">\r\n      <!-- 0 -->\r\n      <defs>\r\n       <path d=\"M 31.78125 66.40625 \r\nQ 24.171875 66.40625 20.328125 58.90625 \r\nQ 16.5 51.421875 16.5 36.375 \r\nQ 16.5 21.390625 20.328125 13.890625 \r\nQ 24.171875 6.390625 31.78125 6.390625 \r\nQ 39.453125 6.390625 43.28125 13.890625 \r\nQ 47.125 21.390625 47.125 36.375 \r\nQ 47.125 51.421875 43.28125 58.90625 \r\nQ 39.453125 66.40625 31.78125 66.40625 \r\nz\r\nM 31.78125 74.21875 \r\nQ 44.046875 74.21875 50.515625 64.515625 \r\nQ 56.984375 54.828125 56.984375 36.375 \r\nQ 56.984375 17.96875 50.515625 8.265625 \r\nQ 44.046875 -1.421875 31.78125 -1.421875 \r\nQ 19.53125 -1.421875 13.0625 8.265625 \r\nQ 6.59375 17.96875 6.59375 36.375 \r\nQ 6.59375 54.828125 13.0625 64.515625 \r\nQ 19.53125 74.21875 31.78125 74.21875 \r\nz\r\n\" id=\"DejaVuSans-48\"/>\r\n      </defs>\r\n      <g transform=\"translate(109.72983 239.238437)scale(0.1 -0.1)\">\r\n       <use xlink:href=\"#DejaVuSans-48\"/>\r\n      </g>\r\n     </g>\r\n    </g>\r\n    <g id=\"xtick_3\">\r\n     <g id=\"line2d_3\">\r\n      <g>\r\n       <use style=\"stroke:#000000;stroke-width:0.8;\" x=\"163.638352\" xlink:href=\"#m99516b0592\" y=\"224.64\"/>\r\n      </g>\r\n     </g>\r\n     <g id=\"text_3\">\r\n      <!-- 1 -->\r\n      <g transform=\"translate(160.457102 239.238437)scale(0.1 -0.1)\">\r\n       <use xlink:href=\"#DejaVuSans-49\"/>\r\n      </g>\r\n     </g>\r\n    </g>\r\n    <g id=\"xtick_4\">\r\n     <g id=\"line2d_4\">\r\n      <g>\r\n       <use style=\"stroke:#000000;stroke-width:0.8;\" x=\"214.365625\" xlink:href=\"#m99516b0592\" y=\"224.64\"/>\r\n      </g>\r\n     </g>\r\n     <g id=\"text_4\">\r\n      <!-- 2 -->\r\n      <defs>\r\n       <path d=\"M 19.1875 8.296875 \r\nL 53.609375 8.296875 \r\nL 53.609375 0 \r\nL 7.328125 0 \r\nL 7.328125 8.296875 \r\nQ 12.9375 14.109375 22.625 23.890625 \r\nQ 32.328125 33.6875 34.8125 36.53125 \r\nQ 39.546875 41.84375 41.421875 45.53125 \r\nQ 43.3125 49.21875 43.3125 52.78125 \r\nQ 43.3125 58.59375 39.234375 62.25 \r\nQ 35.15625 65.921875 28.609375 65.921875 \r\nQ 23.96875 65.921875 18.8125 64.3125 \r\nQ 13.671875 62.703125 7.8125 59.421875 \r\nL 7.8125 69.390625 \r\nQ 13.765625 71.78125 18.9375 73 \r\nQ 24.125 74.21875 28.421875 74.21875 \r\nQ 39.75 74.21875 46.484375 68.546875 \r\nQ 53.21875 62.890625 53.21875 53.421875 \r\nQ 53.21875 48.921875 51.53125 44.890625 \r\nQ 49.859375 40.875 45.40625 35.40625 \r\nQ 44.1875 33.984375 37.640625 27.21875 \r\nQ 31.109375 20.453125 19.1875 8.296875 \r\nz\r\n\" id=\"DejaVuSans-50\"/>\r\n      </defs>\r\n      <g transform=\"translate(211.184375 239.238437)scale(0.1 -0.1)\">\r\n       <use xlink:href=\"#DejaVuSans-50\"/>\r\n      </g>\r\n     </g>\r\n    </g>\r\n    <g id=\"xtick_5\">\r\n     <g id=\"line2d_5\">\r\n      <g>\r\n       <use style=\"stroke:#000000;stroke-width:0.8;\" x=\"265.092898\" xlink:href=\"#m99516b0592\" y=\"224.64\"/>\r\n      </g>\r\n     </g>\r\n     <g id=\"text_5\">\r\n      <!-- 3 -->\r\n      <defs>\r\n       <path d=\"M 40.578125 39.3125 \r\nQ 47.65625 37.796875 51.625 33 \r\nQ 55.609375 28.21875 55.609375 21.1875 \r\nQ 55.609375 10.40625 48.1875 4.484375 \r\nQ 40.765625 -1.421875 27.09375 -1.421875 \r\nQ 22.515625 -1.421875 17.65625 -0.515625 \r\nQ 12.796875 0.390625 7.625 2.203125 \r\nL 7.625 11.71875 \r\nQ 11.71875 9.328125 16.59375 8.109375 \r\nQ 21.484375 6.890625 26.8125 6.890625 \r\nQ 36.078125 6.890625 40.9375 10.546875 \r\nQ 45.796875 14.203125 45.796875 21.1875 \r\nQ 45.796875 27.640625 41.28125 31.265625 \r\nQ 36.765625 34.90625 28.71875 34.90625 \r\nL 20.21875 34.90625 \r\nL 20.21875 43.015625 \r\nL 29.109375 43.015625 \r\nQ 36.375 43.015625 40.234375 45.921875 \r\nQ 44.09375 48.828125 44.09375 54.296875 \r\nQ 44.09375 59.90625 40.109375 62.90625 \r\nQ 36.140625 65.921875 28.71875 65.921875 \r\nQ 24.65625 65.921875 20.015625 65.03125 \r\nQ 15.375 64.15625 9.8125 62.3125 \r\nL 9.8125 71.09375 \r\nQ 15.4375 72.65625 20.34375 73.4375 \r\nQ 25.25 74.21875 29.59375 74.21875 \r\nQ 40.828125 74.21875 47.359375 69.109375 \r\nQ 53.90625 64.015625 53.90625 55.328125 \r\nQ 53.90625 49.265625 50.4375 45.09375 \r\nQ 46.96875 40.921875 40.578125 39.3125 \r\nz\r\n\" id=\"DejaVuSans-51\"/>\r\n      </defs>\r\n      <g transform=\"translate(261.911648 239.238437)scale(0.1 -0.1)\">\r\n       <use xlink:href=\"#DejaVuSans-51\"/>\r\n      </g>\r\n     </g>\r\n    </g>\r\n    <g id=\"xtick_6\">\r\n     <g id=\"line2d_6\">\r\n      <g>\r\n       <use style=\"stroke:#000000;stroke-width:0.8;\" x=\"315.82017\" xlink:href=\"#m99516b0592\" y=\"224.64\"/>\r\n      </g>\r\n     </g>\r\n     <g id=\"text_6\">\r\n      <!-- 4 -->\r\n      <defs>\r\n       <path d=\"M 37.796875 64.3125 \r\nL 12.890625 25.390625 \r\nL 37.796875 25.390625 \r\nz\r\nM 35.203125 72.90625 \r\nL 47.609375 72.90625 \r\nL 47.609375 25.390625 \r\nL 58.015625 25.390625 \r\nL 58.015625 17.1875 \r\nL 47.609375 17.1875 \r\nL 47.609375 0 \r\nL 37.796875 0 \r\nL 37.796875 17.1875 \r\nL 4.890625 17.1875 \r\nL 4.890625 26.703125 \r\nz\r\n\" id=\"DejaVuSans-52\"/>\r\n      </defs>\r\n      <g transform=\"translate(312.63892 239.238437)scale(0.1 -0.1)\">\r\n       <use xlink:href=\"#DejaVuSans-52\"/>\r\n      </g>\r\n     </g>\r\n    </g>\r\n    <g id=\"xtick_7\">\r\n     <g id=\"line2d_7\">\r\n      <g>\r\n       <use style=\"stroke:#000000;stroke-width:0.8;\" x=\"366.547443\" xlink:href=\"#m99516b0592\" y=\"224.64\"/>\r\n      </g>\r\n     </g>\r\n     <g id=\"text_7\">\r\n      <!-- 5 -->\r\n      <defs>\r\n       <path d=\"M 10.796875 72.90625 \r\nL 49.515625 72.90625 \r\nL 49.515625 64.59375 \r\nL 19.828125 64.59375 \r\nL 19.828125 46.734375 \r\nQ 21.96875 47.46875 24.109375 47.828125 \r\nQ 26.265625 48.1875 28.421875 48.1875 \r\nQ 40.625 48.1875 47.75 41.5 \r\nQ 54.890625 34.8125 54.890625 23.390625 \r\nQ 54.890625 11.625 47.5625 5.09375 \r\nQ 40.234375 -1.421875 26.90625 -1.421875 \r\nQ 22.3125 -1.421875 17.546875 -0.640625 \r\nQ 12.796875 0.140625 7.71875 1.703125 \r\nL 7.71875 11.625 \r\nQ 12.109375 9.234375 16.796875 8.0625 \r\nQ 21.484375 6.890625 26.703125 6.890625 \r\nQ 35.15625 6.890625 40.078125 11.328125 \r\nQ 45.015625 15.765625 45.015625 23.390625 \r\nQ 45.015625 31 40.078125 35.4375 \r\nQ 35.15625 39.890625 26.703125 39.890625 \r\nQ 22.75 39.890625 18.8125 39.015625 \r\nQ 14.890625 38.140625 10.796875 36.28125 \r\nz\r\n\" id=\"DejaVuSans-53\"/>\r\n      </defs>\r\n      <g transform=\"translate(363.366193 239.238437)scale(0.1 -0.1)\">\r\n       <use xlink:href=\"#DejaVuSans-53\"/>\r\n      </g>\r\n     </g>\r\n    </g>\r\n    <g id=\"text_8\">\r\n     <!-- w -->\r\n     <defs>\r\n      <path d=\"M 4.203125 54.6875 \r\nL 13.1875 54.6875 \r\nL 24.421875 12.015625 \r\nL 35.59375 54.6875 \r\nL 46.1875 54.6875 \r\nL 57.421875 12.015625 \r\nL 68.609375 54.6875 \r\nL 77.59375 54.6875 \r\nL 63.28125 0 \r\nL 52.6875 0 \r\nL 40.921875 44.828125 \r\nL 29.109375 0 \r\nL 18.5 0 \r\nz\r\n\" id=\"DejaVuSans-119\"/>\r\n     </defs>\r\n     <g transform=\"translate(210.276563 252.916562)scale(0.1 -0.1)\">\r\n      <use xlink:href=\"#DejaVuSans-119\"/>\r\n     </g>\r\n    </g>\r\n   </g>\r\n   <g id=\"matplotlib.axis_2\">\r\n    <g id=\"ytick_1\">\r\n     <g id=\"line2d_8\">\r\n      <defs>\r\n       <path d=\"M 0 0 \r\nL -3.5 0 \r\n\" id=\"m8625122a8d\" style=\"stroke:#000000;stroke-width:0.8;\"/>\r\n      </defs>\r\n      <g>\r\n       <use style=\"stroke:#000000;stroke-width:0.8;\" x=\"46.965625\" xlink:href=\"#m8625122a8d\" y=\"214.838727\"/>\r\n      </g>\r\n     </g>\r\n     <g id=\"text_9\">\r\n      <!-- 0 -->\r\n      <g transform=\"translate(33.603125 218.637946)scale(0.1 -0.1)\">\r\n       <use xlink:href=\"#DejaVuSans-48\"/>\r\n      </g>\r\n     </g>\r\n    </g>\r\n    <g id=\"ytick_2\">\r\n     <g id=\"line2d_9\">\r\n      <g>\r\n       <use style=\"stroke:#000000;stroke-width:0.8;\" x=\"46.965625\" xlink:href=\"#m8625122a8d\" y=\"186.302639\"/>\r\n      </g>\r\n     </g>\r\n     <g id=\"text_10\">\r\n      <!-- 50 -->\r\n      <g transform=\"translate(27.240625 190.101858)scale(0.1 -0.1)\">\r\n       <use xlink:href=\"#DejaVuSans-53\"/>\r\n       <use x=\"63.623047\" xlink:href=\"#DejaVuSans-48\"/>\r\n      </g>\r\n     </g>\r\n    </g>\r\n    <g id=\"ytick_3\">\r\n     <g id=\"line2d_10\">\r\n      <g>\r\n       <use style=\"stroke:#000000;stroke-width:0.8;\" x=\"46.965625\" xlink:href=\"#m8625122a8d\" y=\"157.766551\"/>\r\n      </g>\r\n     </g>\r\n     <g id=\"text_11\">\r\n      <!-- 100 -->\r\n      <g transform=\"translate(20.878125 161.56577)scale(0.1 -0.1)\">\r\n       <use xlink:href=\"#DejaVuSans-49\"/>\r\n       <use x=\"63.623047\" xlink:href=\"#DejaVuSans-48\"/>\r\n       <use x=\"127.246094\" xlink:href=\"#DejaVuSans-48\"/>\r\n      </g>\r\n     </g>\r\n    </g>\r\n    <g id=\"ytick_4\">\r\n     <g id=\"line2d_11\">\r\n      <g>\r\n       <use style=\"stroke:#000000;stroke-width:0.8;\" x=\"46.965625\" xlink:href=\"#m8625122a8d\" y=\"129.230463\"/>\r\n      </g>\r\n     </g>\r\n     <g id=\"text_12\">\r\n      <!-- 150 -->\r\n      <g transform=\"translate(20.878125 133.029682)scale(0.1 -0.1)\">\r\n       <use xlink:href=\"#DejaVuSans-49\"/>\r\n       <use x=\"63.623047\" xlink:href=\"#DejaVuSans-53\"/>\r\n       <use x=\"127.246094\" xlink:href=\"#DejaVuSans-48\"/>\r\n      </g>\r\n     </g>\r\n    </g>\r\n    <g id=\"ytick_5\">\r\n     <g id=\"line2d_12\">\r\n      <g>\r\n       <use style=\"stroke:#000000;stroke-width:0.8;\" x=\"46.965625\" xlink:href=\"#m8625122a8d\" y=\"100.694375\"/>\r\n      </g>\r\n     </g>\r\n     <g id=\"text_13\">\r\n      <!-- 200 -->\r\n      <g transform=\"translate(20.878125 104.493593)scale(0.1 -0.1)\">\r\n       <use xlink:href=\"#DejaVuSans-50\"/>\r\n       <use x=\"63.623047\" xlink:href=\"#DejaVuSans-48\"/>\r\n       <use x=\"127.246094\" xlink:href=\"#DejaVuSans-48\"/>\r\n      </g>\r\n     </g>\r\n    </g>\r\n    <g id=\"ytick_6\">\r\n     <g id=\"line2d_13\">\r\n      <g>\r\n       <use style=\"stroke:#000000;stroke-width:0.8;\" x=\"46.965625\" xlink:href=\"#m8625122a8d\" y=\"72.158287\"/>\r\n      </g>\r\n     </g>\r\n     <g id=\"text_14\">\r\n      <!-- 250 -->\r\n      <g transform=\"translate(20.878125 75.957505)scale(0.1 -0.1)\">\r\n       <use xlink:href=\"#DejaVuSans-50\"/>\r\n       <use x=\"63.623047\" xlink:href=\"#DejaVuSans-53\"/>\r\n       <use x=\"127.246094\" xlink:href=\"#DejaVuSans-48\"/>\r\n      </g>\r\n     </g>\r\n    </g>\r\n    <g id=\"ytick_7\">\r\n     <g id=\"line2d_14\">\r\n      <g>\r\n       <use style=\"stroke:#000000;stroke-width:0.8;\" x=\"46.965625\" xlink:href=\"#m8625122a8d\" y=\"43.622198\"/>\r\n      </g>\r\n     </g>\r\n     <g id=\"text_15\">\r\n      <!-- 300 -->\r\n      <g transform=\"translate(20.878125 47.421417)scale(0.1 -0.1)\">\r\n       <use xlink:href=\"#DejaVuSans-51\"/>\r\n       <use x=\"63.623047\" xlink:href=\"#DejaVuSans-48\"/>\r\n       <use x=\"127.246094\" xlink:href=\"#DejaVuSans-48\"/>\r\n      </g>\r\n     </g>\r\n    </g>\r\n    <g id=\"ytick_8\">\r\n     <g id=\"line2d_15\">\r\n      <g>\r\n       <use style=\"stroke:#000000;stroke-width:0.8;\" x=\"46.965625\" xlink:href=\"#m8625122a8d\" y=\"15.08611\"/>\r\n      </g>\r\n     </g>\r\n     <g id=\"text_16\">\r\n      <!-- 350 -->\r\n      <g transform=\"translate(20.878125 18.885329)scale(0.1 -0.1)\">\r\n       <use xlink:href=\"#DejaVuSans-51\"/>\r\n       <use x=\"63.623047\" xlink:href=\"#DejaVuSans-53\"/>\r\n       <use x=\"127.246094\" xlink:href=\"#DejaVuSans-48\"/>\r\n      </g>\r\n     </g>\r\n    </g>\r\n    <g id=\"text_17\">\r\n     <!-- cost -->\r\n     <defs>\r\n      <path d=\"M 48.78125 52.59375 \r\nL 48.78125 44.1875 \r\nQ 44.96875 46.296875 41.140625 47.34375 \r\nQ 37.3125 48.390625 33.40625 48.390625 \r\nQ 24.65625 48.390625 19.8125 42.84375 \r\nQ 14.984375 37.3125 14.984375 27.296875 \r\nQ 14.984375 17.28125 19.8125 11.734375 \r\nQ 24.65625 6.203125 33.40625 6.203125 \r\nQ 37.3125 6.203125 41.140625 7.25 \r\nQ 44.96875 8.296875 48.78125 10.40625 \r\nL 48.78125 2.09375 \r\nQ 45.015625 0.34375 40.984375 -0.53125 \r\nQ 36.96875 -1.421875 32.421875 -1.421875 \r\nQ 20.0625 -1.421875 12.78125 6.34375 \r\nQ 5.515625 14.109375 5.515625 27.296875 \r\nQ 5.515625 40.671875 12.859375 48.328125 \r\nQ 20.21875 56 33.015625 56 \r\nQ 37.15625 56 41.109375 55.140625 \r\nQ 45.0625 54.296875 48.78125 52.59375 \r\nz\r\n\" id=\"DejaVuSans-99\"/>\r\n      <path d=\"M 30.609375 48.390625 \r\nQ 23.390625 48.390625 19.1875 42.75 \r\nQ 14.984375 37.109375 14.984375 27.296875 \r\nQ 14.984375 17.484375 19.15625 11.84375 \r\nQ 23.34375 6.203125 30.609375 6.203125 \r\nQ 37.796875 6.203125 41.984375 11.859375 \r\nQ 46.1875 17.53125 46.1875 27.296875 \r\nQ 46.1875 37.015625 41.984375 42.703125 \r\nQ 37.796875 48.390625 30.609375 48.390625 \r\nz\r\nM 30.609375 56 \r\nQ 42.328125 56 49.015625 48.375 \r\nQ 55.71875 40.765625 55.71875 27.296875 \r\nQ 55.71875 13.875 49.015625 6.21875 \r\nQ 42.328125 -1.421875 30.609375 -1.421875 \r\nQ 18.84375 -1.421875 12.171875 6.21875 \r\nQ 5.515625 13.875 5.515625 27.296875 \r\nQ 5.515625 40.765625 12.171875 48.375 \r\nQ 18.84375 56 30.609375 56 \r\nz\r\n\" id=\"DejaVuSans-111\"/>\r\n      <path d=\"M 44.28125 53.078125 \r\nL 44.28125 44.578125 \r\nQ 40.484375 46.53125 36.375 47.5 \r\nQ 32.28125 48.484375 27.875 48.484375 \r\nQ 21.1875 48.484375 17.84375 46.4375 \r\nQ 14.5 44.390625 14.5 40.28125 \r\nQ 14.5 37.15625 16.890625 35.375 \r\nQ 19.28125 33.59375 26.515625 31.984375 \r\nL 29.59375 31.296875 \r\nQ 39.15625 29.25 43.1875 25.515625 \r\nQ 47.21875 21.78125 47.21875 15.09375 \r\nQ 47.21875 7.46875 41.1875 3.015625 \r\nQ 35.15625 -1.421875 24.609375 -1.421875 \r\nQ 20.21875 -1.421875 15.453125 -0.5625 \r\nQ 10.6875 0.296875 5.421875 2 \r\nL 5.421875 11.28125 \r\nQ 10.40625 8.6875 15.234375 7.390625 \r\nQ 20.0625 6.109375 24.8125 6.109375 \r\nQ 31.15625 6.109375 34.5625 8.28125 \r\nQ 37.984375 10.453125 37.984375 14.40625 \r\nQ 37.984375 18.0625 35.515625 20.015625 \r\nQ 33.0625 21.96875 24.703125 23.78125 \r\nL 21.578125 24.515625 \r\nQ 13.234375 26.265625 9.515625 29.90625 \r\nQ 5.8125 33.546875 5.8125 39.890625 \r\nQ 5.8125 47.609375 11.28125 51.796875 \r\nQ 16.75 56 26.8125 56 \r\nQ 31.78125 56 36.171875 55.265625 \r\nQ 40.578125 54.546875 44.28125 53.078125 \r\nz\r\n\" id=\"DejaVuSans-115\"/>\r\n      <path d=\"M 18.3125 70.21875 \r\nL 18.3125 54.6875 \r\nL 36.8125 54.6875 \r\nL 36.8125 47.703125 \r\nL 18.3125 47.703125 \r\nL 18.3125 18.015625 \r\nQ 18.3125 11.328125 20.140625 9.421875 \r\nQ 21.96875 7.515625 27.59375 7.515625 \r\nL 36.8125 7.515625 \r\nL 36.8125 0 \r\nL 27.59375 0 \r\nQ 17.1875 0 13.234375 3.875 \r\nQ 9.28125 7.765625 9.28125 18.015625 \r\nL 9.28125 47.703125 \r\nL 2.6875 47.703125 \r\nL 2.6875 54.6875 \r\nL 9.28125 54.6875 \r\nL 9.28125 70.21875 \r\nz\r\n\" id=\"DejaVuSans-116\"/>\r\n     </defs>\r\n     <g transform=\"translate(14.798438 126.293437)rotate(-90)scale(0.1 -0.1)\">\r\n      <use xlink:href=\"#DejaVuSans-99\"/>\r\n      <use x=\"54.980469\" xlink:href=\"#DejaVuSans-111\"/>\r\n      <use x=\"116.162109\" xlink:href=\"#DejaVuSans-115\"/>\r\n      <use x=\"168.261719\" xlink:href=\"#DejaVuSans-116\"/>\r\n     </g>\r\n    </g>\r\n   </g>\r\n   <g id=\"line2d_16\">\r\n    <defs>\r\n     <path d=\"M 0 3 \r\nC 0.795609 3 1.55874 2.683901 2.12132 2.12132 \r\nC 2.683901 1.55874 3 0.795609 3 0 \r\nC 3 -0.795609 2.683901 -1.55874 2.12132 -2.12132 \r\nC 1.55874 -2.683901 0.795609 -3 0 -3 \r\nC -0.795609 -3 -1.55874 -2.683901 -2.12132 -2.12132 \r\nC -2.683901 -1.55874 -3 -0.795609 -3 0 \r\nC -3 0.795609 -2.683901 1.55874 -2.12132 2.12132 \r\nC -1.55874 2.683901 -0.795609 3 0 3 \r\nz\r\n\" id=\"m159336829d\" style=\"stroke:#ff0000;\"/>\r\n    </defs>\r\n    <g clip-path=\"url(#p02650072e9)\">\r\n     <use style=\"fill:#ff0000;stroke:#ff0000;\" x=\"62.183807\" xlink:href=\"#m159336829d\" y=\"17.083636\"/>\r\n    </g>\r\n   </g>\r\n   <g id=\"line2d_17\">\r\n    <g clip-path=\"url(#p02650072e9)\">\r\n     <use style=\"fill:#ff0000;stroke:#ff0000;\" x=\"68.39531\" xlink:href=\"#m159336829d\" y=\"32.897455\"/>\r\n    </g>\r\n   </g>\r\n   <g id=\"line2d_18\">\r\n    <g clip-path=\"url(#p02650072e9)\">\r\n     <use style=\"fill:#ff0000;stroke:#ff0000;\" x=\"74.606812\" xlink:href=\"#m159336829d\" y=\"48.052364\"/>\r\n    </g>\r\n   </g>\r\n   <g id=\"line2d_19\">\r\n    <g clip-path=\"url(#p02650072e9)\">\r\n     <use style=\"fill:#ff0000;stroke:#ff0000;\" x=\"80.818315\" xlink:href=\"#m159336829d\" y=\"62.548364\"/>\r\n    </g>\r\n   </g>\r\n   <g id=\"line2d_20\">\r\n    <g clip-path=\"url(#p02650072e9)\">\r\n     <use style=\"fill:#ff0000;stroke:#ff0000;\" x=\"87.029818\" xlink:href=\"#m159336829d\" y=\"76.385455\"/>\r\n    </g>\r\n   </g>\r\n   <g id=\"line2d_21\">\r\n    <g clip-path=\"url(#p02650072e9)\">\r\n     <use style=\"fill:#ff0000;stroke:#ff0000;\" x=\"93.241321\" xlink:href=\"#m159336829d\" y=\"89.563636\"/>\r\n    </g>\r\n   </g>\r\n   <g id=\"line2d_22\">\r\n    <g clip-path=\"url(#p02650072e9)\">\r\n     <use style=\"fill:#ff0000;stroke:#ff0000;\" x=\"99.452824\" xlink:href=\"#m159336829d\" y=\"102.082909\"/>\r\n    </g>\r\n   </g>\r\n   <g id=\"line2d_23\">\r\n    <g clip-path=\"url(#p02650072e9)\">\r\n     <use style=\"fill:#ff0000;stroke:#ff0000;\" x=\"105.664326\" xlink:href=\"#m159336829d\" y=\"113.943273\"/>\r\n    </g>\r\n   </g>\r\n   <g id=\"line2d_24\">\r\n    <g clip-path=\"url(#p02650072e9)\">\r\n     <use style=\"fill:#ff0000;stroke:#ff0000;\" x=\"111.875829\" xlink:href=\"#m159336829d\" y=\"125.144727\"/>\r\n    </g>\r\n   </g>\r\n   <g id=\"line2d_25\">\r\n    <g clip-path=\"url(#p02650072e9)\">\r\n     <use style=\"fill:#ff0000;stroke:#ff0000;\" x=\"118.087332\" xlink:href=\"#m159336829d\" y=\"135.687273\"/>\r\n    </g>\r\n   </g>\r\n   <g id=\"line2d_26\">\r\n    <g clip-path=\"url(#p02650072e9)\">\r\n     <use style=\"fill:#ff0000;stroke:#ff0000;\" x=\"124.298835\" xlink:href=\"#m159336829d\" y=\"145.570909\"/>\r\n    </g>\r\n   </g>\r\n   <g id=\"line2d_27\">\r\n    <g clip-path=\"url(#p02650072e9)\">\r\n     <use style=\"fill:#ff0000;stroke:#ff0000;\" x=\"130.510337\" xlink:href=\"#m159336829d\" y=\"154.795636\"/>\r\n    </g>\r\n   </g>\r\n   <g id=\"line2d_28\">\r\n    <g clip-path=\"url(#p02650072e9)\">\r\n     <use style=\"fill:#ff0000;stroke:#ff0000;\" x=\"136.72184\" xlink:href=\"#m159336829d\" y=\"163.361455\"/>\r\n    </g>\r\n   </g>\r\n   <g id=\"line2d_29\">\r\n    <g clip-path=\"url(#p02650072e9)\">\r\n     <use style=\"fill:#ff0000;stroke:#ff0000;\" x=\"142.933343\" xlink:href=\"#m159336829d\" y=\"171.268364\"/>\r\n    </g>\r\n   </g>\r\n   <g id=\"line2d_30\">\r\n    <g clip-path=\"url(#p02650072e9)\">\r\n     <use style=\"fill:#ff0000;stroke:#ff0000;\" x=\"149.144846\" xlink:href=\"#m159336829d\" y=\"178.516364\"/>\r\n    </g>\r\n   </g>\r\n   <g id=\"line2d_31\">\r\n    <g clip-path=\"url(#p02650072e9)\">\r\n     <use style=\"fill:#ff0000;stroke:#ff0000;\" x=\"155.356349\" xlink:href=\"#m159336829d\" y=\"185.105455\"/>\r\n    </g>\r\n   </g>\r\n   <g id=\"line2d_32\">\r\n    <g clip-path=\"url(#p02650072e9)\">\r\n     <use style=\"fill:#ff0000;stroke:#ff0000;\" x=\"161.567851\" xlink:href=\"#m159336829d\" y=\"191.035636\"/>\r\n    </g>\r\n   </g>\r\n   <g id=\"line2d_33\">\r\n    <g clip-path=\"url(#p02650072e9)\">\r\n     <use style=\"fill:#ff0000;stroke:#ff0000;\" x=\"167.779354\" xlink:href=\"#m159336829d\" y=\"196.306909\"/>\r\n    </g>\r\n   </g>\r\n   <g id=\"line2d_34\">\r\n    <g clip-path=\"url(#p02650072e9)\">\r\n     <use style=\"fill:#ff0000;stroke:#ff0000;\" x=\"173.990857\" xlink:href=\"#m159336829d\" y=\"200.919273\"/>\r\n    </g>\r\n   </g>\r\n   <g id=\"line2d_35\">\r\n    <g clip-path=\"url(#p02650072e9)\">\r\n     <use style=\"fill:#ff0000;stroke:#ff0000;\" x=\"180.20236\" xlink:href=\"#m159336829d\" y=\"204.872727\"/>\r\n    </g>\r\n   </g>\r\n   <g id=\"line2d_36\">\r\n    <g clip-path=\"url(#p02650072e9)\">\r\n     <use style=\"fill:#ff0000;stroke:#ff0000;\" x=\"186.413862\" xlink:href=\"#m159336829d\" y=\"208.167273\"/>\r\n    </g>\r\n   </g>\r\n   <g id=\"line2d_37\">\r\n    <g clip-path=\"url(#p02650072e9)\">\r\n     <use style=\"fill:#ff0000;stroke:#ff0000;\" x=\"192.625365\" xlink:href=\"#m159336829d\" y=\"210.802909\"/>\r\n    </g>\r\n   </g>\r\n   <g id=\"line2d_38\">\r\n    <g clip-path=\"url(#p02650072e9)\">\r\n     <use style=\"fill:#ff0000;stroke:#ff0000;\" x=\"198.836868\" xlink:href=\"#m159336829d\" y=\"212.779636\"/>\r\n    </g>\r\n   </g>\r\n   <g id=\"line2d_39\">\r\n    <g clip-path=\"url(#p02650072e9)\">\r\n     <use style=\"fill:#ff0000;stroke:#ff0000;\" x=\"205.048371\" xlink:href=\"#m159336829d\" y=\"214.097455\"/>\r\n    </g>\r\n   </g>\r\n   <g id=\"line2d_40\">\r\n    <g clip-path=\"url(#p02650072e9)\">\r\n     <use style=\"fill:#ff0000;stroke:#ff0000;\" x=\"211.259874\" xlink:href=\"#m159336829d\" y=\"214.756364\"/>\r\n    </g>\r\n   </g>\r\n   <g id=\"line2d_41\">\r\n    <g clip-path=\"url(#p02650072e9)\">\r\n     <use style=\"fill:#ff0000;stroke:#ff0000;\" x=\"217.471376\" xlink:href=\"#m159336829d\" y=\"214.756364\"/>\r\n    </g>\r\n   </g>\r\n   <g id=\"line2d_42\">\r\n    <g clip-path=\"url(#p02650072e9)\">\r\n     <use style=\"fill:#ff0000;stroke:#ff0000;\" x=\"223.682879\" xlink:href=\"#m159336829d\" y=\"214.097455\"/>\r\n    </g>\r\n   </g>\r\n   <g id=\"line2d_43\">\r\n    <g clip-path=\"url(#p02650072e9)\">\r\n     <use style=\"fill:#ff0000;stroke:#ff0000;\" x=\"229.894382\" xlink:href=\"#m159336829d\" y=\"212.779636\"/>\r\n    </g>\r\n   </g>\r\n   <g id=\"line2d_44\">\r\n    <g clip-path=\"url(#p02650072e9)\">\r\n     <use style=\"fill:#ff0000;stroke:#ff0000;\" x=\"236.105885\" xlink:href=\"#m159336829d\" y=\"210.802909\"/>\r\n    </g>\r\n   </g>\r\n   <g id=\"line2d_45\">\r\n    <g clip-path=\"url(#p02650072e9)\">\r\n     <use style=\"fill:#ff0000;stroke:#ff0000;\" x=\"242.317388\" xlink:href=\"#m159336829d\" y=\"208.167273\"/>\r\n    </g>\r\n   </g>\r\n   <g id=\"line2d_46\">\r\n    <g clip-path=\"url(#p02650072e9)\">\r\n     <use style=\"fill:#ff0000;stroke:#ff0000;\" x=\"248.52889\" xlink:href=\"#m159336829d\" y=\"204.872727\"/>\r\n    </g>\r\n   </g>\r\n   <g id=\"line2d_47\">\r\n    <g clip-path=\"url(#p02650072e9)\">\r\n     <use style=\"fill:#ff0000;stroke:#ff0000;\" x=\"254.740393\" xlink:href=\"#m159336829d\" y=\"200.919273\"/>\r\n    </g>\r\n   </g>\r\n   <g id=\"line2d_48\">\r\n    <g clip-path=\"url(#p02650072e9)\">\r\n     <use style=\"fill:#ff0000;stroke:#ff0000;\" x=\"260.951896\" xlink:href=\"#m159336829d\" y=\"196.306909\"/>\r\n    </g>\r\n   </g>\r\n   <g id=\"line2d_49\">\r\n    <g clip-path=\"url(#p02650072e9)\">\r\n     <use style=\"fill:#ff0000;stroke:#ff0000;\" x=\"267.163399\" xlink:href=\"#m159336829d\" y=\"191.035636\"/>\r\n    </g>\r\n   </g>\r\n   <g id=\"line2d_50\">\r\n    <g clip-path=\"url(#p02650072e9)\">\r\n     <use style=\"fill:#ff0000;stroke:#ff0000;\" x=\"273.374901\" xlink:href=\"#m159336829d\" y=\"185.105455\"/>\r\n    </g>\r\n   </g>\r\n   <g id=\"line2d_51\">\r\n    <g clip-path=\"url(#p02650072e9)\">\r\n     <use style=\"fill:#ff0000;stroke:#ff0000;\" x=\"279.586404\" xlink:href=\"#m159336829d\" y=\"178.516364\"/>\r\n    </g>\r\n   </g>\r\n   <g id=\"line2d_52\">\r\n    <g clip-path=\"url(#p02650072e9)\">\r\n     <use style=\"fill:#ff0000;stroke:#ff0000;\" x=\"285.797907\" xlink:href=\"#m159336829d\" y=\"171.268364\"/>\r\n    </g>\r\n   </g>\r\n   <g id=\"line2d_53\">\r\n    <g clip-path=\"url(#p02650072e9)\">\r\n     <use style=\"fill:#ff0000;stroke:#ff0000;\" x=\"292.00941\" xlink:href=\"#m159336829d\" y=\"163.361455\"/>\r\n    </g>\r\n   </g>\r\n   <g id=\"line2d_54\">\r\n    <g clip-path=\"url(#p02650072e9)\">\r\n     <use style=\"fill:#ff0000;stroke:#ff0000;\" x=\"298.220913\" xlink:href=\"#m159336829d\" y=\"154.795636\"/>\r\n    </g>\r\n   </g>\r\n   <g id=\"line2d_55\">\r\n    <g clip-path=\"url(#p02650072e9)\">\r\n     <use style=\"fill:#ff0000;stroke:#ff0000;\" x=\"304.432415\" xlink:href=\"#m159336829d\" y=\"145.570909\"/>\r\n    </g>\r\n   </g>\r\n   <g id=\"line2d_56\">\r\n    <g clip-path=\"url(#p02650072e9)\">\r\n     <use style=\"fill:#ff0000;stroke:#ff0000;\" x=\"310.643918\" xlink:href=\"#m159336829d\" y=\"135.687273\"/>\r\n    </g>\r\n   </g>\r\n   <g id=\"line2d_57\">\r\n    <g clip-path=\"url(#p02650072e9)\">\r\n     <use style=\"fill:#ff0000;stroke:#ff0000;\" x=\"316.855421\" xlink:href=\"#m159336829d\" y=\"125.144727\"/>\r\n    </g>\r\n   </g>\r\n   <g id=\"line2d_58\">\r\n    <g clip-path=\"url(#p02650072e9)\">\r\n     <use style=\"fill:#ff0000;stroke:#ff0000;\" x=\"323.066924\" xlink:href=\"#m159336829d\" y=\"113.943273\"/>\r\n    </g>\r\n   </g>\r\n   <g id=\"line2d_59\">\r\n    <g clip-path=\"url(#p02650072e9)\">\r\n     <use style=\"fill:#ff0000;stroke:#ff0000;\" x=\"329.278426\" xlink:href=\"#m159336829d\" y=\"102.082909\"/>\r\n    </g>\r\n   </g>\r\n   <g id=\"line2d_60\">\r\n    <g clip-path=\"url(#p02650072e9)\">\r\n     <use style=\"fill:#ff0000;stroke:#ff0000;\" x=\"335.489929\" xlink:href=\"#m159336829d\" y=\"89.563636\"/>\r\n    </g>\r\n   </g>\r\n   <g id=\"line2d_61\">\r\n    <g clip-path=\"url(#p02650072e9)\">\r\n     <use style=\"fill:#ff0000;stroke:#ff0000;\" x=\"341.701432\" xlink:href=\"#m159336829d\" y=\"76.385455\"/>\r\n    </g>\r\n   </g>\r\n   <g id=\"line2d_62\">\r\n    <g clip-path=\"url(#p02650072e9)\">\r\n     <use style=\"fill:#ff0000;stroke:#ff0000;\" x=\"347.912935\" xlink:href=\"#m159336829d\" y=\"62.548364\"/>\r\n    </g>\r\n   </g>\r\n   <g id=\"line2d_63\">\r\n    <g clip-path=\"url(#p02650072e9)\">\r\n     <use style=\"fill:#ff0000;stroke:#ff0000;\" x=\"354.124438\" xlink:href=\"#m159336829d\" y=\"48.052364\"/>\r\n    </g>\r\n   </g>\r\n   <g id=\"line2d_64\">\r\n    <g clip-path=\"url(#p02650072e9)\">\r\n     <use style=\"fill:#ff0000;stroke:#ff0000;\" x=\"360.33594\" xlink:href=\"#m159336829d\" y=\"32.897455\"/>\r\n    </g>\r\n   </g>\r\n   <g id=\"line2d_65\">\r\n    <g clip-path=\"url(#p02650072e9)\">\r\n     <use style=\"fill:#ff0000;stroke:#ff0000;\" x=\"366.547443\" xlink:href=\"#m159336829d\" y=\"17.083636\"/>\r\n    </g>\r\n   </g>\r\n   <g id=\"patch_3\">\r\n    <path d=\"M 46.965625 224.64 \r\nL 46.965625 7.2 \r\n\" style=\"fill:none;stroke:#000000;stroke-linecap:square;stroke-linejoin:miter;stroke-width:0.8;\"/>\r\n   </g>\r\n   <g id=\"patch_4\">\r\n    <path d=\"M 381.765625 224.64 \r\nL 381.765625 7.2 \r\n\" style=\"fill:none;stroke:#000000;stroke-linecap:square;stroke-linejoin:miter;stroke-width:0.8;\"/>\r\n   </g>\r\n   <g id=\"patch_5\">\r\n    <path d=\"M 46.965625 224.64 \r\nL 381.765625 224.64 \r\n\" style=\"fill:none;stroke:#000000;stroke-linecap:square;stroke-linejoin:miter;stroke-width:0.8;\"/>\r\n   </g>\r\n   <g id=\"patch_6\">\r\n    <path d=\"M 46.965625 7.2 \r\nL 381.765625 7.2 \r\n\" style=\"fill:none;stroke:#000000;stroke-linecap:square;stroke-linejoin:miter;stroke-width:0.8;\"/>\r\n   </g>\r\n  </g>\r\n </g>\r\n <defs>\r\n  <clipPath id=\"p02650072e9\">\r\n   <rect height=\"217.44\" width=\"334.8\" x=\"46.965625\" y=\"7.2\"/>\r\n  </clipPath>\r\n </defs>\r\n</svg>\r\n",
      "image/png": "[encoded data removed]"
     },
     "metadata": {
      "needs_background": "light"
     }
    }
   ],
   "source": [
    "plt.xlabel('w')\n",
    "plt.ylabel('cost')\n",
    "\n",
    "# -3에서 5까지 50개\n",
    "# 결과 1로 모이는것을 확인 => cost값이 가장 적은 지점, w 값은 1이 적절\n",
    "for w in np.linspace(-1,5,50):\n",
    "    c =  cost(x, y, w)\n",
    "    # print(w,c)\n",
    "    plt.plot(w,c,'ro')\n",
    "plt.show()"
   ]
  },
  {
   "cell_type": "code",
   "execution_count": 54,
   "metadata": {},
   "outputs": [],
   "source": [
    "# 특정 접점의 순간 기울기를 알아내는 함수\n",
    "def gradient_descent( x,y,w ):\n",
    "    c = 0\n",
    "    for i in range(len(x)):\n",
    "        hx = w*x[i] # y 예측값\n",
    "        c = c + (hx-y[i]) * (1/2 * x[i]) #편미분\n",
    "    return c/len(x)"
   ]
  },
  {
   "cell_type": "code",
   "execution_count": 63,
   "metadata": {},
   "outputs": [],
   "source": [
    "def show_gradient(x,y,w):\n",
    "    for i in range(30): # 학습횟수\n",
    "        c = cost(x,y,w)\n",
    "        g = gradient_descent(x,y,w) # w가 10일때 순간 기울기값?\n",
    "        print(i,c,w,g)\n",
    "        w = w - 0.1 * g  #0.1 (러닝메이트) * 기울기\n",
    "    print(\"w:\",w)"
   ]
  },
  {
   "cell_type": "code",
   "execution_count": 66,
   "metadata": {},
   "outputs": [
    {
     "output_type": "stream",
     "name": "stdout",
     "text": [
      "0 2464.0 10 154.0\n1 2108.2599999999998 -5.4 -142.45\n2 1803.8799624999992 8.844999999999999 131.76624999999996\n3 1543.444792914061 -4.331624999999997 -121.88378124999994\n4 1320.6099509370936 7.856753124999997 112.74249765624995\n5 1129.9468892705509 -3.4174966406249982 -104.2868103320312\n6 966.8108071321143 7.011184392578121 96.46529955712883\n7 827.2274968524156 -2.635345563134763 -89.23040209034419\n8 707.7965269943481 6.287694645899656 82.53812193356836\n9 605.6084034095388 -1.9661175474571806 -76.34776278855072\n10 518.1736901672866 5.668658731397892 70.62168057940941\n11 443.3623636493844 -1.3935093265430494 -65.3250545359537\n12 379.3519223975045 5.13899612705232 60.425675445757165\n13 324.58298860136483 -0.9035714175233966 -55.89374978732538\n14 277.72131962204287 4.685803561209142 51.70171855327599\n15 237.62530410161042 -0.4843682941184566 -47.82408966178029\n16 203.3181508219405 4.298040672059573 44.23728293714677\n17 173.96409279702274 -0.1256876216551044 -40.91948671686076\n18 148.84802689945263 3.9662610500309716 37.850525213096205\n19 127.35809301584418 0.18120852872135096 -35.011735822114005\n20 108.97076833668181 3.6823821109327515 32.385855635455464\n21 93.2381136580734 0.44379654738720475 -29.95691646279631\n22 79.77686099868913 3.4394881936668362 27.710147728086593\n23 68.25907669200333 0.6684734208581768 -25.631886648480094\n24 58.404172494595365 3.2316620857061866 23.709495149844095\n25 49.97207009068821 0.8607125707217769 -21.931283013605796\n26 42.75735247134513 3.0538408720823567 20.286436787585366\n27 36.58425970829468 1.02519719332382 -18.764954028516467\n28 31.302407212909667 2.901692596175467 17.357582476377736\n29 26.78312217154583 1.1659343485376932 -16.055763790649404\nw: 2.7715107276026334\n"
     ]
    }
   ],
   "source": [
    "show_gradient(x, y, 10)"
   ]
  },
  {
   "cell_type": "code",
   "execution_count": 50,
   "metadata": {},
   "outputs": [
    {
     "output_type": "execute_result",
     "data": {
      "text/plain": [
       "'\\n5. 어느 회사에서 생산하는 전자제품의 평균수명을 조사하기 위하여, \\n표본 100개를 뽑았더니 평균은 800일이 나왔다. \\n그리고 과거의 자료를 분석한 결과 모표준편차(σ)는 40일이라고 한다. \\n이때 전자제품의 평균수명에 대한 95%의 신뢰구간을 구하시오.\\n'"
      ]
     },
     "metadata": {},
     "execution_count": 50
    }
   ],
   "source": [
    "'''\n",
    "5. 어느 회사에서 생산하는 전자제품의 평균수명을 조사하기 위하여, \n",
    "표본 100개를 뽑았더니 평균은 800일이 나왔다. \n",
    "그리고 과거의 자료를 분석한 결과 모표준편차(σ)는 40일이라고 한다. \n",
    "이때 전자제품의 평균수명에 대한 95%의 신뢰구간을 구하시오.\n",
    "'''"
   ]
  },
  {
   "cell_type": "code",
   "execution_count": 14,
   "metadata": {},
   "outputs": [
    {
     "output_type": "stream",
     "name": "stdout",
     "text": [
      "792.16\n807.84\n신뢰구간 차이 :  15.68\n"
     ]
    }
   ],
   "source": [
    "# 표본갯수 100개 (n = 100)\n",
    "# 평균일 800일 (Mean = 800)\n",
    "# 모표준편차 40일 (.std = 40)\n",
    "# 95% 신뢰구간 (k=1.96)\n",
    "\n",
    "ele1 = 800 - 1.96*(40/math.sqrt(100))\n",
    "ele2 = 800 + 1.96*(40/math.sqrt(100))\n",
    "print(ele1)\n",
    "print(ele2)\n",
    "print(\"신뢰구간 차이 : \", round(ele2-ele1,2))\n"
   ]
  },
  {
   "cell_type": "code",
   "execution_count": 3,
   "metadata": {},
   "outputs": [],
   "source": [
    "'''\n",
    "6. 우리나라 대학생들의 월 평균용돈을 알아보기 위하여, 대학생 70명을 조사하였더니, \n",
    "월 평균용돈은 13만 원이 나왔다. 그럼 모표준편차(σ)를 3만 원이라고 가정했을 때,\n",
    " 대학생의 월 평균용돈에 대한 99%의 신뢰구간을 구하시오\n",
    "'''"
   ]
  },
  {
   "cell_type": "code",
   "execution_count": 13,
   "metadata": {},
   "outputs": [
    {
     "output_type": "stream",
     "name": "stdout",
     "text": [
      "12.07489305637518\n13.92510694362482\n신뢰구간 차이 :  1.85\n"
     ]
    }
   ],
   "source": [
    "# 월 평균용돈 13만원 (Mean = 13)\n",
    "# 대학생 70명 (n=70)\n",
    "# 모표준편차 (.std = 3)\n",
    "# 99% 신뢰구간 (k=2.58)\n",
    "mon1 = 13 - 2.58*(3/math.sqrt(70))\n",
    "mon2 = 13 + 2.58*(3/math.sqrt(70))\n",
    "print(mon1)\n",
    "print(mon2)\n",
    "print(\"신뢰구간 차이 : \", round(mon2-mon1,2))"
   ]
  },
  {
   "cell_type": "code",
   "execution_count": null,
   "metadata": {},
   "outputs": [],
   "source": [
    "'''\n",
    "7. y = (5x+3)^3 인경우 편미분을 이용하여 미분값 도출과정을 적으시요.\n",
    "'''"
   ]
  },
  {
   "cell_type": "code",
   "execution_count": 30,
   "metadata": {},
   "outputs": [],
   "source": [
    "# a = x절편, b=상수, z=제곱수\n",
    "# x = x값\n",
    "def diff_1 (x,a,b,z):\n",
    "    diff = (z* ( (a*x + b)**(z-1) ) ) * a\n",
    "    return diff"
   ]
  },
  {
   "cell_type": "code",
   "execution_count": null,
   "metadata": {},
   "outputs": [],
   "source": [
    "(5x+3)^3\n",
    "=> 3(5x+3)^(3-1) * (5x+3)`\n",
    "= 3(5x+3)^(3-1) * 5"
   ]
  },
  {
   "cell_type": "code",
   "execution_count": 37,
   "metadata": {},
   "outputs": [
    {
     "output_type": "execute_result",
     "data": {
      "text/plain": [
       "960"
      ]
     },
     "metadata": {},
     "execution_count": 37
    }
   ],
   "source": [
    "# x=1을 대입\n",
    "diff_1(1,5,3,3)"
   ]
  }
 ]
}