{
 "cells": [
  {
   "cell_type": "code",
   "execution_count": 1,
   "metadata": {},
   "outputs": [],
   "source": [
    "from pyspark import SparkContext\n",
    "from pyspark.sql import SQLContext, Row\n",
    "import pandas as pd\n",
    "import numpy as np"
   ]
  },
  {
   "cell_type": "code",
   "execution_count": 2,
   "metadata": {},
   "outputs": [],
   "source": [
    "sc = SparkContext('local')\n",
    "sqlCtx = SQLContext(sc)"
   ]
  },
  {
   "cell_type": "markdown",
   "metadata": {},
   "source": [
    "# 1번"
   ]
  },
  {
   "cell_type": "code",
   "execution_count": 22,
   "metadata": {
    "collapsed": true
   },
   "outputs": [
    {
     "data": {
      "text/plain": [
       "[('원내대표는', 7),\n",
       " ('질문에', 7),\n",
       " ('것은', 5),\n",
       " ('여야', 4),\n",
       " ('하는', 4),\n",
       " ('말했다.', 4),\n",
       " ('3당', 3),\n",
       " ('위해', 3),\n",
       " ('문', 3),\n",
       " ('이인영', 3),\n",
       " ('나경원', 3),\n",
       " ('오신환', 3),\n",
       " ('바른미래당', 3),\n",
       " ('회동을', 3),\n",
       " ('갖고', 3),\n",
       " ('국회정상화에', 3),\n",
       " ('민주당', 3),\n",
       " ('6월', 3),\n",
       " ('후보자', 3),\n",
       " ('국세청장', 3),\n",
       " ('기자들과', 3),\n",
       " ('만나', 3),\n",
       " ('전했다.', 3),\n",
       " ('게', 3),\n",
       " ('나', 3),\n",
       " ('대한', 3),\n",
       " (\"것이냐'는\", 3),\n",
       " ('국회에서', 3),\n",
       " ('생각한다\"고', 3),\n",
       " ('문희상', 2),\n",
       " ('국회의장과', 2),\n",
       " ('교섭단체', 2),\n",
       " ('18일', 2),\n",
       " ('국회정상화를', 2),\n",
       " ('자유한국당,', 2),\n",
       " ('오후', 2),\n",
       " ('이', 2),\n",
       " ('합의할', 2),\n",
       " ('요청한', 2),\n",
       " ('것으로', 2),\n",
       " ('한국당이', 2),\n",
       " ('경우', 2),\n",
       " ('윤석열', 2),\n",
       " ('검찰총장', 2),\n",
       " ('김현준', 2),\n",
       " ('일정이', 2),\n",
       " ('제대로', 2),\n",
       " ('합의를', 2),\n",
       " ('이어', 2),\n",
       " ('묻는', 2),\n",
       " ('것', 2),\n",
       " ('후보자에', 2),\n",
       " ('한', 2),\n",
       " ('것이', 2),\n",
       " ('일부', 2),\n",
       " ('문제가', 2),\n",
       " ('그', 2),\n",
       " ('국회가', 2),\n",
       " ('있다.', 2),\n",
       " ('대해', 2),\n",
       " ('민주당이', 2),\n",
       " ('대승적', 2),\n",
       " ('오', 2),\n",
       " ('있는', 2),\n",
       " ('위한', 2),\n",
       " ('해야', 2),\n",
       " ('대표가', 1),\n",
       " ('머리를', 1),\n",
       " ('맞댔지만', 1),\n",
       " ('의미있는', 1),\n",
       " ('결론을', 1),\n",
       " ('내리지', 1),\n",
       " ('못했다.', 1),\n",
       " ('의장과', 1),\n",
       " ('더불어민주당,', 1),\n",
       " ('이날', 1),\n",
       " ('국회의장실에서', 1),\n",
       " ('국회정상화', 1),\n",
       " ('방안을', 1),\n",
       " ('논의했으나', 1),\n",
       " ('의사일정을', 1),\n",
       " ('잡는데', 1),\n",
       " ('실패했다.', 1),\n",
       " ('의장은', 1),\n",
       " ('자리에서', 1),\n",
       " ('원내대표에게', 1),\n",
       " ('조속한', 1),\n",
       " ('시일', 1),\n",
       " ('내에', 1),\n",
       " ('것을', 1),\n",
       " ('알려졌다.', 1),\n",
       " ('전날', 1),\n",
       " ('한국당을', 1),\n",
       " ('제외한', 1),\n",
       " ('바른미래당,', 1),\n",
       " ('민주평화당,', 1),\n",
       " ('정의당', 1),\n",
       " ('등', 1),\n",
       " ('야3당과', 1),\n",
       " ('소속', 1),\n",
       " ('의원들을', 1),\n",
       " ('합해', 1),\n",
       " ('98명이', 1),\n",
       " ('임시국회', 1),\n",
       " ('소집요구서를', 1),\n",
       " ('제출,', 1),\n",
       " ('임시국회가', 1),\n",
       " ('반쪽으로', 1),\n",
       " ('출발하게', 1),\n",
       " ('됐지만,', 1),\n",
       " ('끝내', 1),\n",
       " ('국회로', 1),\n",
       " ('복귀하지', 1),\n",
       " ('않을', 1),\n",
       " ('임시국회도', 1),\n",
       " ('난항이', 1),\n",
       " ('예상된다.', 1),\n",
       " ('더욱이', 1),\n",
       " ('추가경정예산안을', 1),\n",
       " ('비롯해', 1),\n",
       " ('인사청문회,', 1),\n",
       " ('인사청문회등', 1),\n",
       " ('굵직한', 1),\n",
       " ('남아있지만', 1),\n",
       " ('한국당의', 1),\n",
       " ('협조', 1),\n",
       " ('없이는', 1),\n",
       " ('이들', 1),\n",
       " ('진행되기', 1),\n",
       " ('어려워', 1),\n",
       " ('일각에서는', 1),\n",
       " ('임시국회만', 1),\n",
       " ('소집해놓고', 1),\n",
       " ('허송세월', 1),\n",
       " ('하는게', 1),\n",
       " ('아니냐', 1),\n",
       " ('우려의', 1),\n",
       " ('목소리가', 1),\n",
       " ('나온다.', 1),\n",
       " ('회동', 1),\n",
       " ('직후', 1),\n",
       " (\"'의사일정에\", 1),\n",
       " (\"했느냐'는\", 1),\n",
       " ('기자들의', 1),\n",
       " ('\"안됐다\"면서', 1),\n",
       " ('\"의장님께서', 1),\n",
       " ('합의하라고', 1),\n",
       " ('말씀을', 1),\n",
       " ('하셨는데', 1),\n",
       " ('이견이', 1),\n",
       " ('아직', 1),\n",
       " ('해소될', 1),\n",
       " ('상황이', 1),\n",
       " ('아니다\"고', 1),\n",
       " ('다음', 1),\n",
       " ('질문에도', 1),\n",
       " ('\"아직은', 1),\n",
       " ('모르겠다\"고', 1),\n",
       " ('한국당', 1),\n",
       " ('원내대표도', 1),\n",
       " (\"'회동에서\", 1),\n",
       " (\"있느냐'는\", 1),\n",
       " ('\"오늘은', 1),\n",
       " ('특별히', 1),\n",
       " ('말씀드린', 1),\n",
       " ('없는', 1),\n",
       " ('같다\"고', 1),\n",
       " ('답했다.', 1),\n",
       " ('특히', 1),\n",
       " (\"'기획재정위원회에서\", 1),\n",
       " ('인사청문회', 1),\n",
       " ('개최에', 1),\n",
       " ('응하겠다는', 1),\n",
       " (\"이야기냐'는\", 1),\n",
       " ('\"최종적으로', 1),\n",
       " ('아닌데', 1),\n",
       " ('소통에', 1),\n",
       " ('있었던', 1),\n",
       " ('같다\"며', 1),\n",
       " ('\"청문회', 1),\n",
       " ('부분은', 1),\n",
       " ('적극적으로', 1),\n",
       " ('들여다보고', 1),\n",
       " ('있다\"고', 1),\n",
       " ('그는', 1),\n",
       " (\"'소통의\", 1),\n",
       " ('있다는', 1),\n",
       " ('청문회가', 1),\n",
       " ('확정되지', 1),\n",
       " ('않았다는', 1),\n",
       " ('\"네.', 1),\n",
       " ('저도', 1),\n",
       " ('조금', 1),\n",
       " ('더', 1),\n",
       " ('확인해보겠다\"고', 1),\n",
       " ('했다.', 1),\n",
       " ('앞서', 1),\n",
       " ('국회', 1),\n",
       " ('기재위', 1),\n",
       " ('여당', 1),\n",
       " ('간사인', 1),\n",
       " ('김정우', 1),\n",
       " ('의원이', 1),\n",
       " ('자유한국당을', 1),\n",
       " ('포함한', 1),\n",
       " ('간사가', 1),\n",
       " ('합의에', 1),\n",
       " ('김', 1),\n",
       " ('인사청문회를', 1),\n",
       " ('오는', 1),\n",
       " ('26일', 1),\n",
       " ('실시하기로', 1),\n",
       " ('합의했다고', 1),\n",
       " ('밝혔지만', 1),\n",
       " ('원내대표에', 1),\n",
       " ('따르면', 1),\n",
       " ('일정도', 1),\n",
       " ('확정이', 1),\n",
       " ('안된', 1),\n",
       " ('보인다.', 1),\n",
       " ('다만', 1),\n",
       " (\"'국회\", 1),\n",
       " ('소집요구가', 1),\n",
       " ('20일인데', 1),\n",
       " ('전에', 1),\n",
       " ('의사일정에', 1),\n",
       " ('\"국회를', 1),\n",
       " ('정상국회로', 1),\n",
       " ('만들고,', 1),\n",
       " ('정말', 1),\n",
       " ('대한민국의', 1),\n",
       " ('미래,', 1),\n",
       " ('경제와', 1),\n",
       " ('민생을', 1),\n",
       " ('살리는', 1),\n",
       " ('되기', 1),\n",
       " ('계속', 1),\n",
       " ('노력하겠다\"고', 1),\n",
       " ('원내대표들이', 1),\n",
       " ('서울', 1),\n",
       " ('여의도', 1),\n",
       " ('왼쪽부터', 1),\n",
       " ('더불어민주당', 1),\n",
       " ('원내대표,', 1),\n",
       " ('의장,', 1),\n",
       " ('원내대표.', 1),\n",
       " ('2019.6.18/뉴스1', 1),\n",
       " ('©', 1),\n",
       " ('News1', 1),\n",
       " ('임세영', 1),\n",
       " ('기자', 1),\n",
       " ('\"집권여당은', 1),\n",
       " ('국정운영에', 1),\n",
       " ('무한', 1),\n",
       " ('책임을', 1),\n",
       " ('지고', 1),\n",
       " ('부분에', 1),\n",
       " ('된', 1),\n",
       " ('결단을', 1),\n",
       " ('내려주길', 1),\n",
       " ('바라고,', 1),\n",
       " ('한국당은', 1),\n",
       " ('조건없는', 1),\n",
       " ('참여하기를', 1),\n",
       " ('바라는', 1),\n",
       " ('마음\"이라고', 1),\n",
       " ('밝혔다.', 1),\n",
       " (\"'여당의\", 1),\n",
       " ('결단이라고', 1),\n",
       " ('함은', 1),\n",
       " ('경제청문회를', 1),\n",
       " ('받아줘야', 1),\n",
       " ('한다는', 1),\n",
       " ('\"집권여당으로서', 1),\n",
       " ('포용하고', 1),\n",
       " ('양보하는', 1),\n",
       " ('숙명이라고', 1),\n",
       " ('생각한다\"며', 1),\n",
       " ('\"야당이', 1),\n",
       " ('경제문제에', 1),\n",
       " ('문제제기를', 1),\n",
       " ('당연한', 1),\n",
       " ('아니냐.', 1),\n",
       " ('청문회건', 1),\n",
       " ('어떤', 1),\n",
       " ('형태가', 1),\n",
       " ('되건', 1),\n",
       " ('정부를', 1),\n",
       " ('상대로', 1),\n",
       " ('할', 1),\n",
       " ('수', 1),\n",
       " ('이야기', 1),\n",
       " ('자체를', 1),\n",
       " ('차단하고', 1),\n",
       " ('못하게', 1),\n",
       " ('올지', 1),\n",
       " ('않다고', 1),\n",
       " ('위원장인', 1),\n",
       " ('상임위의', 1),\n",
       " ('여당이', 1),\n",
       " ('사회권을', 1),\n",
       " ('발동하는', 1),\n",
       " ('것에', 1),\n",
       " ('바른미래당의', 1),\n",
       " ('동참', 1),\n",
       " ('여부를', 1),\n",
       " ('\"그런', 1),\n",
       " ('행동', 1),\n",
       " ('자체가', 1),\n",
       " ('무책임하다고', 1),\n",
       " ('본다\"며', 1),\n",
       " ('\"그것이', 1),\n",
       " ('과연', 1),\n",
       " ('국회를', 1),\n",
       " ('정상적으로', 1),\n",
       " ('운영하기', 1),\n",
       " ('마음을', 1),\n",
       " ('것인지,', 1),\n",
       " ('장기적으로', 1),\n",
       " ('추경을', 1),\n",
       " ('처리하고', 1),\n",
       " ('상임위', 1),\n",
       " ('내에서', 1),\n",
       " ('법안을', 1),\n",
       " ('심사하고', 1),\n",
       " ('국민을', 1),\n",
       " ('국회활동이', 1),\n",
       " ('될', 1),\n",
       " ('것인지에', 1),\n",
       " ('판단을', 1),\n",
       " ('한다고', 1),\n",
       " ('인사청문회와', 1),\n",
       " ('관련', 1),\n",
       " ('\"인사청문회는', 1),\n",
       " ('당연히', 1),\n",
       " ('절차에', 1),\n",
       " ('따라', 1),\n",
       " ('것\"이라며', 1),\n",
       " ('\"윤', 1),\n",
       " ('후보자가', 1),\n",
       " ('적임자인지', 1),\n",
       " ('여부는', 1),\n",
       " ('국민의', 1),\n",
       " ('눈높이에', 1),\n",
       " ('맞게', 1),\n",
       " ('합리적인', 1),\n",
       " ('인사청문', 1),\n",
       " ('절차를', 1),\n",
       " ('밟아가는', 1),\n",
       " ('마땅하다고', 1)]"
      ]
     },
     "execution_count": 22,
     "metadata": {},
     "output_type": "execute_result"
    }
   ],
   "source": [
    "kRdd = sc.textFile('../data1/k.txt')\n",
    "kRdd.flatMap(lambda v:v.split()).map(lambda v:(v,1)).reduceByKey(lambda a,b:a+b).sortBy(lambda v:v[1],ascending  = False).collect()"
   ]
  },
  {
   "cell_type": "code",
   "execution_count": null,
   "metadata": {},
   "outputs": [],
   "source": [
    "# rdd1.flatMap( lambda x: x.split() ).map( lambda x: (x,1) ).reduceByKey(lambda a,b: a+b ).sortBy(lambda v: v[1], ascending=False ).collect()"
   ]
  },
  {
   "cell_type": "markdown",
   "metadata": {},
   "source": [
    "# 2번"
   ]
  },
  {
   "cell_type": "code",
   "execution_count": 25,
   "metadata": {},
   "outputs": [],
   "source": [
    "birthRdd = sc.textFile('../data/births.txt')"
   ]
  },
  {
   "cell_type": "code",
   "execution_count": 31,
   "metadata": {},
   "outputs": [],
   "source": [
    "birthRdd1=birthRdd.map(lambda v:v.split(',')).\\\n",
    "        map(lambda v:(int(v[0]),int(v[1]),int(v[2])))"
   ]
  },
  {
   "cell_type": "markdown",
   "metadata": {},
   "source": [
    "- 1번"
   ]
  },
  {
   "cell_type": "code",
   "execution_count": 33,
   "metadata": {
    "scrolled": true
   },
   "outputs": [
    {
     "name": "stdout",
     "output_type": "stream",
     "text": [
      "남아수합 161802441\n",
      "남아수평균 1225776.0681818184\n"
     ]
    }
   ],
   "source": [
    "print('남아수합',birthRdd1.map(lambda v:v[1]).sum())\n",
    "print('남아수평균',birthRdd1.map(lambda v:v[1]).mean())"
   ]
  },
  {
   "cell_type": "markdown",
   "metadata": {},
   "source": [
    "- 2번"
   ]
  },
  {
   "cell_type": "code",
   "execution_count": 81,
   "metadata": {},
   "outputs": [
    {
     "name": "stdout",
     "output_type": "stream",
     "text": [
      "164392696.0\n",
      "1245399.2121212124\n"
     ]
    }
   ],
   "source": [
    "print(birthRdd1.map(lambda v:float(v[2])).sum())\n",
    "print(birthRdd1.map(lambda v:float(v[2])).mean())"
   ]
  },
  {
   "cell_type": "markdown",
   "metadata": {},
   "source": [
    "- 3번"
   ]
  },
  {
   "cell_type": "code",
   "execution_count": 80,
   "metadata": {},
   "outputs": [
    {
     "data": {
      "text/plain": [
       "[(1957, 2044160, 2155866),\n",
       " (1959, 2023044, 2133509),\n",
       " (1960, 2022093, 2132717),\n",
       " (1961, 2017316, 2122502),\n",
       " (1958, 2010884, 2120712)]"
      ]
     },
     "execution_count": 80,
     "metadata": {},
     "output_type": "execute_result"
    }
   ],
   "source": [
    "birthRdd1.sortBy( lambda v: float(v[1]), ascending=False).take(5)"
   ]
  },
  {
   "cell_type": "markdown",
   "metadata": {},
   "source": [
    "- 4번"
   ]
  },
  {
   "cell_type": "markdown",
   "metadata": {},
   "source": [
    "### 전체비율"
   ]
  },
  {
   "cell_type": "code",
   "execution_count": 39,
   "metadata": {
    "scrolled": true
   },
   "outputs": [
    {
     "name": "stdout",
     "output_type": "stream",
     "text": [
      "남아수비율 0.49602959286299847\n"
     ]
    }
   ],
   "source": [
    "totM = birthRdd1.map(lambda v:v[1]).sum()\n",
    "totW = birthRdd1.map(lambda v:v[2]).sum()\n",
    "print('남아수비율',totM/(totM+totW))"
   ]
  },
  {
   "cell_type": "markdown",
   "metadata": {},
   "source": [
    "## 개별비율"
   ]
  },
  {
   "cell_type": "code",
   "execution_count": null,
   "metadata": {},
   "outputs": [],
   "source": [
    "birthRdd1.map( lambda v: v[1]/(v[1]+v[2]) ).collect()"
   ]
  },
  {
   "cell_type": "markdown",
   "metadata": {},
   "source": [
    "- 5번"
   ]
  },
  {
   "cell_type": "code",
   "execution_count": 138,
   "metadata": {},
   "outputs": [
    {
     "data": {
      "text/plain": [
       "[32, 1, 2, 2, 22, 3, 4, 11, 30, 25]"
      ]
     },
     "execution_count": 138,
     "metadata": {},
     "output_type": "execute_result"
    }
   ],
   "source": [
    "birthRdd1.map( lambda v: int(v[2])).histogram(10)"
   ]
  },
  {
   "cell_type": "markdown",
   "metadata": {},
   "source": [
    "# 3번"
   ]
  },
  {
   "cell_type": "code",
   "execution_count": 41,
   "metadata": {},
   "outputs": [],
   "source": [
    "df = sqlCtx.read.csv('../data1/CCTV_in_Seoul.csv',header = True,inferSchema = True)"
   ]
  },
  {
   "cell_type": "markdown",
   "metadata": {},
   "source": [
    "- 1번"
   ]
  },
  {
   "cell_type": "code",
   "execution_count": 82,
   "metadata": {},
   "outputs": [
    {
     "name": "stdout",
     "output_type": "stream",
     "text": [
      "+------+----+-------------+------+------+------+\n",
      "|기관명|소계|2013년도 이전|2014년|2015년|2016년|\n",
      "+------+----+-------------+------+------+------+\n",
      "|강남구|2780|         1292|   430|   584|   932|\n",
      "|강동구| 773|          379|    99|   155|   377|\n",
      "|강북구| 748|          369|   120|   138|   204|\n",
      "|강서구| 884|          388|   258|   184|    81|\n",
      "+------+----+-------------+------+------+------+\n",
      "\n"
     ]
    }
   ],
   "source": [
    "sqlKang = \"select * from cctv where `기관명` rlike '강' \"\n",
    "dfKang = sqlCtx.sql( sqlKang )\n",
    "dfKang.show()"
   ]
  },
  {
   "cell_type": "markdown",
   "metadata": {},
   "source": [
    "- 2번"
   ]
  },
  {
   "cell_type": "code",
   "execution_count": 42,
   "metadata": {
    "collapsed": true
   },
   "outputs": [
    {
     "name": "stdout",
     "output_type": "stream",
     "text": [
      "+--------+----+-------------+------+------+------+\n",
      "|  기관명|소계|2013년도 이전|2014년|2015년|2016년|\n",
      "+--------+----+-------------+------+------+------+\n",
      "|  강남구|2780|         1292|   430|   584|   932|\n",
      "|  강동구| 773|          379|    99|   155|   377|\n",
      "|  강북구| 748|          369|   120|   138|   204|\n",
      "|  강서구| 884|          388|   258|   184|    81|\n",
      "|  관악구|1496|          846|   260|   390|   613|\n",
      "|  광진구| 707|          573|    78|    53|   174|\n",
      "|  구로구|1561|         1142|   173|   246|   323|\n",
      "|  금천구|1015|          674|    51|   269|   354|\n",
      "|  노원구|1265|          542|    57|   451|   516|\n",
      "|  도봉구| 485|          238|   159|    42|   386|\n",
      "|동대문구|1294|         1070|    23|   198|   579|\n",
      "|  동작구|1091|          544|   341|   103|   314|\n",
      "|  마포구| 574|          314|   118|   169|   379|\n",
      "|서대문구| 962|          844|    50|    68|   292|\n",
      "|  서초구|1930|         1406|   157|   336|   398|\n",
      "|  성동구|1062|          730|    91|   241|   265|\n",
      "|  성북구|1464|         1009|    78|   360|   204|\n",
      "|  송파구| 618|          529|    21|    68|   463|\n",
      "|  양천구|2034|         1843|   142|    30|   467|\n",
      "|영등포구| 904|          495|   214|   195|   373|\n",
      "+--------+----+-------------+------+------+------+\n",
      "only showing top 20 rows\n",
      "\n"
     ]
    }
   ],
   "source": [
    "df.show()"
   ]
  },
  {
   "cell_type": "code",
   "execution_count": 45,
   "metadata": {},
   "outputs": [],
   "source": [
    "df.createOrReplaceTempView('cctv')"
   ]
  },
  {
   "cell_type": "code",
   "execution_count": 54,
   "metadata": {},
   "outputs": [
    {
     "name": "stdout",
     "output_type": "stream",
     "text": [
      "+--------+----+-------------+------+------+------+\n",
      "|  기관명|소계|2013년도 이전|2014년|2015년|2016년|\n",
      "+--------+----+-------------+------+------+------+\n",
      "|  강남구|2780|         1292|   430|   584|   932|\n",
      "|  강동구| 773|          379|    99|   155|   377|\n",
      "|  강북구| 748|          369|   120|   138|   204|\n",
      "|  강서구| 884|          388|   258|   184|    81|\n",
      "|  관악구|1496|          846|   260|   390|   613|\n",
      "|  광진구| 707|          573|    78|    53|   174|\n",
      "|  구로구|1561|         1142|   173|   246|   323|\n",
      "|  금천구|1015|          674|    51|   269|   354|\n",
      "|  노원구|1265|          542|    57|   451|   516|\n",
      "|  도봉구| 485|          238|   159|    42|   386|\n",
      "|동대문구|1294|         1070|    23|   198|   579|\n",
      "|  동작구|1091|          544|   341|   103|   314|\n",
      "|  마포구| 574|          314|   118|   169|   379|\n",
      "|서대문구| 962|          844|    50|    68|   292|\n",
      "|  서초구|1930|         1406|   157|   336|   398|\n",
      "|  성동구|1062|          730|    91|   241|   265|\n",
      "|  성북구|1464|         1009|    78|   360|   204|\n",
      "|  송파구| 618|          529|    21|    68|   463|\n",
      "|  양천구|2034|         1843|   142|    30|   467|\n",
      "|영등포구| 904|          495|   214|   195|   373|\n",
      "+--------+----+-------------+------+------+------+\n",
      "only showing top 20 rows\n",
      "\n"
     ]
    }
   ],
   "source": [
    "sql = 'select * from cctv'\n",
    "df = sqlCtx.sql(sql)\n",
    "df.show()"
   ]
  },
  {
   "cell_type": "code",
   "execution_count": 53,
   "metadata": {
    "scrolled": false
   },
   "outputs": [
    {
     "name": "stdout",
     "output_type": "stream",
     "text": [
      "+--------+----+\n",
      "|  기관명|비율|\n",
      "+--------+----+\n",
      "|  강남구|1.51|\n",
      "|  강동구|1.66|\n",
      "|  강북구|1.25|\n",
      "|  강서구|1.35|\n",
      "|  관악구|1.49|\n",
      "|  광진구|0.53|\n",
      "|  구로구|0.65|\n",
      "|  금천구| 1.0|\n",
      "|  노원구|1.89|\n",
      "|  도봉구|2.47|\n",
      "|동대문구|0.75|\n",
      "|  동작구|1.39|\n",
      "|  마포구|2.12|\n",
      "|서대문구|0.49|\n",
      "|  서초구|0.63|\n",
      "|  성동구|0.82|\n",
      "|  성북구|0.64|\n",
      "|  송파구|1.04|\n",
      "|  양천구|0.35|\n",
      "|영등포구|1.58|\n",
      "+--------+----+\n",
      "only showing top 20 rows\n",
      "\n"
     ]
    }
   ],
   "source": [
    "sql = 'select `기관명`,round((`2014년`+`2015년`+`2016년`)/`2013년도 이전`,2) as `비율` from cctv'\n",
    "df = sqlCtx.sql(sql)\n",
    "df.show()"
   ]
  },
  {
   "cell_type": "markdown",
   "metadata": {},
   "source": [
    "- 3번\n",
    "### 3. 증가율이 가장높은 top 5를 보여주시요\n",
    "### 증가율:  (14+15+16)/(2013년이전 )"
   ]
  },
  {
   "cell_type": "code",
   "execution_count": 90,
   "metadata": {},
   "outputs": [
    {
     "name": "stdout",
     "output_type": "stream",
     "text": [
      "+------+----+\n",
      "|기관명|비율|\n",
      "+------+----+\n",
      "|종로구|2.49|\n",
      "|도봉구|2.47|\n",
      "|마포구|2.12|\n",
      "|노원구|1.89|\n",
      "|강동구|1.66|\n",
      "+------+----+\n",
      "\n"
     ]
    }
   ],
   "source": [
    "sql = 'select `기관명`,round((`2014년`+`2015년`+`2016년`)/`2013년도 이전`,2) as `비율` from cctv order by `비율` desc limit 5'\n",
    "df = sqlCtx.sql(sql)\n",
    "df.show()"
   ]
  },
  {
   "cell_type": "markdown",
   "metadata": {},
   "source": [
    "- 4번"
   ]
  },
  {
   "cell_type": "code",
   "execution_count": 104,
   "metadata": {},
   "outputs": [
    {
     "name": "stdout",
     "output_type": "stream",
     "text": [
      "+--------+----+-------------+------+------+------+------+\n",
      "|  기관명|소계|2013년도 이전|2014년|2015년|2016년|  기관|\n",
      "+--------+----+-------------+------+------+------+------+\n",
      "|  강남구|2780|         1292|   430|   584|   932|  강남|\n",
      "|  강동구| 773|          379|    99|   155|   377|  강동|\n",
      "|  강북구| 748|          369|   120|   138|   204|  강북|\n",
      "|  강서구| 884|          388|   258|   184|    81|  강서|\n",
      "|  관악구|1496|          846|   260|   390|   613|  관악|\n",
      "|  광진구| 707|          573|    78|    53|   174|  광진|\n",
      "|  구로구|1561|         1142|   173|   246|   323|  구로|\n",
      "|  금천구|1015|          674|    51|   269|   354|  금천|\n",
      "|  노원구|1265|          542|    57|   451|   516|  노원|\n",
      "|  도봉구| 485|          238|   159|    42|   386|  도봉|\n",
      "|동대문구|1294|         1070|    23|   198|   579|동대문|\n",
      "|  동작구|1091|          544|   341|   103|   314|  동작|\n",
      "|  마포구| 574|          314|   118|   169|   379|  마포|\n",
      "|서대문구| 962|          844|    50|    68|   292|서대문|\n",
      "|  서초구|1930|         1406|   157|   336|   398|  서초|\n",
      "|  성동구|1062|          730|    91|   241|   265|  성동|\n",
      "|  성북구|1464|         1009|    78|   360|   204|  성북|\n",
      "|  송파구| 618|          529|    21|    68|   463|  송파|\n",
      "|  양천구|2034|         1843|   142|    30|   467|  양천|\n",
      "|영등포구| 904|          495|   214|   195|   373|영등포|\n",
      "+--------+----+-------------+------+------+------+------+\n",
      "only showing top 20 rows\n",
      "\n"
     ]
    }
   ],
   "source": [
    "# sql = \"select substr( `기관명`,1, length(`기관명`)-1 ) as s from cctv\"\n",
    "sqlDist = \"select *,substr(`기관명`,-4,3) as `기관` from cctv\"\n",
    "dfDist = sqlCtx.sql( sqlDist )\n",
    "dfDist.show()"
   ]
  },
  {
   "cell_type": "markdown",
   "metadata": {},
   "source": [
    "- 5번"
   ]
  },
  {
   "cell_type": "code",
   "execution_count": 56,
   "metadata": {},
   "outputs": [
    {
     "name": "stdout",
     "output_type": "stream",
     "text": [
      "+-------------+\n",
      "|2015년 cctv합|\n",
      "+-------------+\n",
      "|         5130|\n",
      "+-------------+\n",
      "\n"
     ]
    }
   ],
   "source": [
    "sql = 'select sum(`2015년`) as `2015년 cctv합` from cctv'\n",
    "df = sqlCtx.sql(sql)\n",
    "df.show()"
   ]
  },
  {
   "cell_type": "code",
   "execution_count": 121,
   "metadata": {},
   "outputs": [],
   "source": [
    "import matplotlib.pyplot as plt\n",
    "\n",
    "import matplotlib\n",
    "matplotlib.rcParams['font.family']='Malgun Gothic'\n",
    "matplotlib.rcParams['axes.unicode_minus']=False"
   ]
  },
  {
   "cell_type": "markdown",
   "metadata": {},
   "source": [
    "- 6번"
   ]
  },
  {
   "cell_type": "code",
   "execution_count": 123,
   "metadata": {},
   "outputs": [
    {
     "data": {
      "image/png": "[encoded data removed]",
      "text/plain": [
       "<Figure size 432x288 with 1 Axes>"
      ]
     },
     "metadata": {
      "needs_background": "light"
     },
     "output_type": "display_data"
    }
   ],
   "source": [
    "sql = 'select `기관명`,`2014년`,`2015년`from cctv'\n",
    "df = sqlCtx.sql(sql)\n",
    "DF=df.toPandas()\n",
    "DF.set_index('기관명',inplace = True)\n",
    "DF.plot(kind = 'bar')\n",
    "plt.show()"
   ]
  },
  {
   "cell_type": "markdown",
   "metadata": {},
   "source": [
    "- 7번"
   ]
  },
  {
   "cell_type": "code",
   "execution_count": 83,
   "metadata": {},
   "outputs": [
    {
     "name": "stdout",
     "output_type": "stream",
     "text": [
      "+------+----+-------------+------+------+------+\n",
      "|기관명|소계|2013년도 이전|2014년|2015년|2016년|\n",
      "+------+----+-------------+------+------+------+\n",
      "|강남구|2780|         1292|   430|   584|   932|\n",
      "+------+----+-------------+------+------+------+\n",
      "\n"
     ]
    }
   ],
   "source": [
    "# 7. cctv가 가장많은 기관명과 갯수를 구하시요\n",
    "\n",
    "# sqlMax = \"select max(`소계`) from cctv\"\n",
    "# dfMax = sqlCtx.sql( sqlMax )\n",
    "# dfMax.show()\n",
    "\n",
    "sqlMax = \"select * from cctv where `소계`==(select max(`소계`) from cctv) \"\n",
    "dfMax = sqlCtx.sql( sqlMax )\n",
    "dfMax.show()"
   ]
  },
  {
   "cell_type": "markdown",
   "metadata": {},
   "source": [
    "- 8번"
   ]
  },
  {
   "cell_type": "code",
   "execution_count": 57,
   "metadata": {},
   "outputs": [
    {
     "name": "stdout",
     "output_type": "stream",
     "text": [
      "+--------+----+-------------+------+------+------+--------+\n",
      "|  기관명|소계|2013년도 이전|2014년|2015년|2016년|    현황|\n",
      "+--------+----+-------------+------+------+------+--------+\n",
      "|  강남구|2780|         1292|   430|   584|   932|매우많음|\n",
      "|  강동구| 773|          379|    99|   155|   377|    보통|\n",
      "|  강북구| 748|          369|   120|   138|   204|    보통|\n",
      "|  강서구| 884|          388|   258|   184|    81|    보통|\n",
      "|  관악구|1496|          846|   260|   390|   613|    많음|\n",
      "|  광진구| 707|          573|    78|    53|   174|    보통|\n",
      "|  구로구|1561|         1142|   173|   246|   323|매우많음|\n",
      "|  금천구|1015|          674|    51|   269|   354|    많음|\n",
      "|  노원구|1265|          542|    57|   451|   516|    많음|\n",
      "|  도봉구| 485|          238|   159|    42|   386|    보통|\n",
      "|동대문구|1294|         1070|    23|   198|   579|    많음|\n",
      "|  동작구|1091|          544|   341|   103|   314|    많음|\n",
      "|  마포구| 574|          314|   118|   169|   379|    보통|\n",
      "|서대문구| 962|          844|    50|    68|   292|    보통|\n",
      "|  서초구|1930|         1406|   157|   336|   398|매우많음|\n",
      "|  성동구|1062|          730|    91|   241|   265|    많음|\n",
      "|  성북구|1464|         1009|    78|   360|   204|    많음|\n",
      "|  송파구| 618|          529|    21|    68|   463|    보통|\n",
      "|  양천구|2034|         1843|   142|    30|   467|매우많음|\n",
      "|영등포구| 904|          495|   214|   195|   373|    보통|\n",
      "+--------+----+-------------+------+------+------+--------+\n",
      "only showing top 20 rows\n",
      "\n"
     ]
    }
   ],
   "source": [
    "sql = '''select *,\n",
    "         case\n",
    "             when `소계`>=1500 then '매우많음'\n",
    "             when `소계`>=1000 then '많음'\n",
    "             else '보통'\n",
    "         end as `현황`\n",
    "         from cctv\n",
    "\n",
    "'''\n",
    "df = sqlCtx.sql(sql)\n",
    "df.show()"
   ]
  },
  {
   "cell_type": "markdown",
   "metadata": {},
   "source": [
    "# 4번"
   ]
  },
  {
   "cell_type": "markdown",
   "metadata": {},
   "source": [
    "- 1번"
   ]
  },
  {
   "cell_type": "code",
   "execution_count": 73,
   "metadata": {},
   "outputs": [
    {
     "name": "stdout",
     "output_type": "stream",
     "text": [
      "root\n",
      " |-- 학년: string (nullable = true)\n",
      " |-- 과목: string (nullable = true)\n",
      " |-- 결과: string (nullable = true)\n",
      " |-- 중간: integer (nullable = true)\n",
      " |-- 기말: integer (nullable = true)\n",
      "\n"
     ]
    }
   ],
   "source": [
    "gradeDF.printSchema()"
   ]
  },
  {
   "cell_type": "code",
   "execution_count": 58,
   "metadata": {},
   "outputs": [
    {
     "name": "stdout",
     "output_type": "stream",
     "text": [
      "+-----+----+-----+----+----+\n",
      "| 학년|과목| 결과|중간|기말|\n",
      "+-----+----+-----+----+----+\n",
      "|1학년|국어| 좋음|  80|  90|\n",
      "|1학년|국어| 나쁨|  50|  40|\n",
      "|1학년|국어| 나쁨|  20|  50|\n",
      "|1학년|수학| 좋음|  83|  95|\n",
      "|1학년|수학| 좋음|  93|  86|\n",
      "|2학년|국어| 나쁨|  44|  65|\n",
      "|2학년|국어| 좋음|  95|  98|\n",
      "|2학년|수학| 좋음|  96|  99|\n",
      "|2학년|수학| 나쁨|  57|  69|\n",
      "+-----+----+-----+----+----+\n",
      "\n"
     ]
    }
   ],
   "source": [
    "gradeDF = sqlCtx.read.csv('../data/grade.csv',header = True,inferSchema = True)\n",
    "gradeDF.show()"
   ]
  },
  {
   "cell_type": "code",
   "execution_count": 59,
   "metadata": {},
   "outputs": [],
   "source": [
    "gradeDF.createOrReplaceTempView('grade')"
   ]
  },
  {
   "cell_type": "markdown",
   "metadata": {},
   "source": [
    "- 1번"
   ]
  },
  {
   "cell_type": "code",
   "execution_count": 79,
   "metadata": {},
   "outputs": [
    {
     "name": "stdout",
     "output_type": "stream",
     "text": [
      "+-----+--------+--------+--------+--------+\n",
      "| 학년|중간평균|기말평균|중간총합|기말총합|\n",
      "+-----+--------+--------+--------+--------+\n",
      "|2학년|    73.0|   82.75|     292|     331|\n",
      "|1학년|    65.2|    72.2|     326|     361|\n",
      "+-----+--------+--------+--------+--------+\n",
      "\n"
     ]
    }
   ],
   "source": [
    "sql = 'select `학년`,avg(`중간`) as `중간평균`,avg(`기말`) as `기말평균`,sum(`중간`) as `중간총합`,sum(`기말`) as `기말총합` \\\n",
    "        from grade group by `학년`'\n",
    "gradeDF = sqlCtx.sql(sql)\n",
    "gradeDF.show()"
   ]
  },
  {
   "cell_type": "markdown",
   "metadata": {},
   "source": [
    "- 2번"
   ]
  },
  {
   "cell_type": "code",
   "execution_count": 124,
   "metadata": {},
   "outputs": [
    {
     "name": "stdout",
     "output_type": "stream",
     "text": [
      "+-----+--------+\n",
      "| 학년|중간평균|\n",
      "+-----+--------+\n",
      "|2학년|    73.0|\n",
      "+-----+--------+\n",
      "\n"
     ]
    }
   ],
   "source": [
    "sqlMid = '''select `학년`, avg(`중간`) as `중간평균` from grade\n",
    "        group by `학년`\n",
    "        having avg(`중간`)>=70\n",
    "        ''' \n",
    "\n",
    "sqlMid = sqlCtx.sql( sqlMid )\n",
    "sqlMid.show()"
   ]
  }
 ],
 "metadata": {
  "kernelspec": {
   "display_name": "Python 3",
   "language": "python",
   "name": "python3"
  },
  "language_info": {
   "codemirror_mode": {
    "name": "ipython",
    "version": 3
   },
   "file_extension": ".py",
   "mimetype": "text/x-python",
   "name": "python",
   "nbconvert_exporter": "python",
   "pygments_lexer": "ipython3",
   "version": "3.7.6"
  }
 },
 "nbformat": 4,
 "nbformat_minor": 4
}
