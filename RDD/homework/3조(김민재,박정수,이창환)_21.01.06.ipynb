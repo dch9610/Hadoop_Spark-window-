{
 "cells": [
  {
   "cell_type": "code",
   "execution_count": 1,
   "metadata": {},
   "outputs": [],
   "source": [
    "from pyspark import SparkContext\n",
    "from pyspark.sql import SQLContext, Row\n",
    "import pandas as pd\n",
    "import numpy as np\n",
    "\n",
    "import matplotlib.pyplot as plt\n",
    "import matplotlib\n",
    "matplotlib.rcParams['font.family']='Malgun Gothic'\n",
    "matplotlib.rcParams['axes.unicode_minus']=False\n",
    "\n",
    "# sql 함수 사용\n",
    "from pyspark.sql.functions import when, udf, col, regexp_replace\n",
    "# sql 타입변경\n",
    "from pyspark.sql.types import DoubleType,IntegerType, StringType\n",
    "import pyspark.sql.functions as F"
   ]
  },
  {
   "cell_type": "code",
   "execution_count": 2,
   "metadata": {},
   "outputs": [],
   "source": [
    "sc = SparkContext('local') # 'spark://ip:7070'\n",
    "sqlCtx = SQLContext( sc )"
   ]
  },
  {
   "cell_type": "code",
   "execution_count": 3,
   "metadata": {
    "scrolled": true
   },
   "outputs": [
    {
     "output_type": "stream",
     "name": "stdout",
     "text": [
      "+--------+------+----+-----+-----+-------+-----------+-----+---------+--------------+-------------+\n|Survived|Pclass| Age|SibSp|Parch|   Fare|Family_Size|Alone|Sex_index|Embarked_index|Initial_index|\n+--------+------+----+-----+-----+-------+-----------+-----+---------+--------------+-------------+\n|       0|     3|22.0|    1|    0|   7.25|          1|    0|      0.0|           0.0|          0.0|\n|       1|     1|38.0|    1|    0|71.2833|          1|    0|      1.0|           1.0|          2.0|\n|       1|     3|26.0|    0|    0|  7.925|          0|    1|      1.0|           0.0|          1.0|\n|       1|     1|35.0|    1|    0|   53.1|          1|    0|      1.0|           0.0|          2.0|\n|       0|     3|35.0|    0|    0|   8.05|          0|    1|      0.0|           0.0|          0.0|\n|       0|     3|33.0|    0|    0| 8.4583|          0|    1|      0.0|           2.0|          0.0|\n|       0|     1|54.0|    0|    0|51.8625|          0|    1|      0.0|           0.0|          0.0|\n|       0|     3| 2.0|    3|    1| 21.075|          4|    0|      0.0|           0.0|          3.0|\n|       1|     3|27.0|    0|    2|11.1333|          2|    0|      1.0|           0.0|          2.0|\n|       1|     2|14.0|    1|    0|30.0708|          1|    0|      1.0|           1.0|          2.0|\n|       1|     3| 4.0|    1|    1|   16.7|          2|    0|      1.0|           0.0|          1.0|\n|       1|     1|58.0|    0|    0|  26.55|          0|    1|      1.0|           0.0|          1.0|\n|       0|     3|20.0|    0|    0|   8.05|          0|    1|      0.0|           0.0|          0.0|\n|       0|     3|39.0|    1|    5| 31.275|          6|    0|      0.0|           0.0|          0.0|\n|       0|     3|14.0|    0|    0| 7.8542|          0|    1|      1.0|           0.0|          1.0|\n|       1|     2|55.0|    0|    0|   16.0|          0|    1|      1.0|           0.0|          2.0|\n|       0|     3| 2.0|    4|    1| 29.125|          5|    0|      0.0|           2.0|          3.0|\n|       1|     2|33.0|    0|    0|   13.0|          0|    1|      0.0|           0.0|          0.0|\n|       0|     3|31.0|    1|    0|   18.0|          1|    0|      1.0|           0.0|          2.0|\n|       1|     3|36.0|    0|    0|  7.225|          0|    1|      1.0|           1.0|          2.0|\n+--------+------+----+-----+-----+-------+-----------+-----+---------+--------------+-------------+\nonly showing top 20 rows\n\n"
     ]
    }
   ],
   "source": [
    "titanic = sqlCtx.read.csv(r'c:\\data\\titanic1.csv',header=True,inferSchema=True)\n",
    "titanic.show()"
   ]
  },
  {
   "cell_type": "markdown",
   "metadata": {},
   "source": [
    "### 1. age 컬럼 null 의 갯수를 구하시요\n"
   ]
  },
  {
   "cell_type": "code",
   "execution_count": 4,
   "metadata": {
    "scrolled": true
   },
   "outputs": [],
   "source": [
    "titanic_age = titanic.select('age').toPandas()"
   ]
  },
  {
   "cell_type": "code",
   "execution_count": 5,
   "metadata": {
    "scrolled": true
   },
   "outputs": [
    {
     "output_type": "execute_result",
     "data": {
      "text/plain": [
       "age    0\n",
       "dtype: int64"
      ]
     },
     "metadata": {},
     "execution_count": 5
    }
   ],
   "source": [
    "titanic_age[titanic_age.isnull()].count()"
   ]
  },
  {
   "cell_type": "code",
   "execution_count": 6,
   "metadata": {},
   "outputs": [
    {
     "output_type": "execute_result",
     "data": {
      "text/plain": [
       "0"
      ]
     },
     "metadata": {},
     "execution_count": 6
    }
   ],
   "source": [
    "titanic.where(\"Age is null\").count()"
   ]
  },
  {
   "cell_type": "markdown",
   "metadata": {},
   "source": [
    "### 2. age null 평균값을 채우시요."
   ]
  },
  {
   "cell_type": "code",
   "execution_count": 7,
   "metadata": {
    "scrolled": true
   },
   "outputs": [
    {
     "output_type": "stream",
     "name": "stdout",
     "text": [
      "+----+\n| age|\n+----+\n|22.0|\n|38.0|\n|26.0|\n|35.0|\n|35.0|\n|33.0|\n|54.0|\n| 2.0|\n|27.0|\n|14.0|\n| 4.0|\n|58.0|\n|20.0|\n|39.0|\n|14.0|\n|55.0|\n| 2.0|\n|33.0|\n|31.0|\n|36.0|\n+----+\nonly showing top 20 rows\n\n"
     ]
    }
   ],
   "source": [
    "age_avg= titanic.agg(F.mean('age')).collect()[0]['avg(age)']\n",
    "titanic.select('age').fillna(age_avg).show()"
   ]
  },
  {
   "cell_type": "code",
   "execution_count": 24,
   "metadata": {},
   "outputs": [
    {
     "output_type": "stream",
     "name": "stdout",
     "text": [
      "+----+\n| Age|\n+----+\n|22.0|\n|38.0|\n|26.0|\n|35.0|\n|35.0|\n|33.0|\n|54.0|\n| 2.0|\n|27.0|\n|14.0|\n| 4.0|\n|58.0|\n|20.0|\n|39.0|\n|14.0|\n|55.0|\n| 2.0|\n|33.0|\n|31.0|\n|36.0|\n+----+\nonly showing top 20 rows\n\n"
     ]
    }
   ],
   "source": [
    "# titanic.fillna({'Age':titanic.agg(F.mean('Age')).collect()[0]['avg(Age)']}).show()\r\n",
    "titanic.select('Age').fillna(titanic.agg(F.mean('Age')).collect()[0]['avg(Age)']).show()"
   ]
  },
  {
   "cell_type": "markdown",
   "metadata": {},
   "source": [
    "### 3. 등급별(pclass) 평균 생존을 구하시요\n"
   ]
  },
  {
   "cell_type": "code",
   "execution_count": 8,
   "metadata": {
    "scrolled": true
   },
   "outputs": [
    {
     "output_type": "stream",
     "name": "stdout",
     "text": [
      "+------+-------------------+\n|Pclass|   등급별 평균 생존|\n+------+-------------------+\n|     1| 0.6296296296296297|\n|     3|0.24236252545824846|\n|     2|0.47282608695652173|\n+------+-------------------+\n\n"
     ]
    }
   ],
   "source": [
    "titanic.groupBy('Pclass').agg(F.mean('Survived').alias('등급별 평균 생존')).show()"
   ]
  },
  {
   "cell_type": "markdown",
   "metadata": {},
   "source": [
    "### 4. 혼자탑승(alone)한 인원의 평균 생존을 구하시요"
   ]
  },
  {
   "cell_type": "code",
   "execution_count": 9,
   "metadata": {},
   "outputs": [
    {
     "output_type": "stream",
     "name": "stdout",
     "text": [
      "+--------------------------+\n|혼자 탑승 인원의 평균 생존|\n+--------------------------+\n|       0.30353817504655495|\n+--------------------------+\n\n"
     ]
    }
   ],
   "source": [
    "titanic.where(\" Alone == 1 \").agg(F.mean('Survived').alias('혼자 탑승 인원의 평균 생존')).show()"
   ]
  },
  {
   "cell_type": "markdown",
   "metadata": {},
   "source": [
    "### 5. 나이분류 컬럼을 추가하시요: 1 ~ 15(미성년자), 15 ~ 25(청년), 25 ~ 35(중년), 35 ~ 60(장년), 60 ~ (노년)  "
   ]
  },
  {
   "cell_type": "code",
   "execution_count": 10,
   "metadata": {},
   "outputs": [],
   "source": [
    "titanic_ageCla = titanic.withColumn('age_Cla',\n",
    "                when(titanic['Age']<15, '미성년자').\\\n",
    "                when(titanic['Age']<25, '청년').\\\n",
    "                when(titanic['Age']<35, '중년').\\\n",
    "                when(titanic['Age']<60, '장년').\\\n",
    "                otherwise('노년')  \n",
    "                 )"
   ]
  },
  {
   "cell_type": "code",
   "execution_count": 11,
   "metadata": {},
   "outputs": [
    {
     "output_type": "execute_result",
     "data": {
      "text/plain": [
       "     Survived  Pclass   Age  SibSp  Parch     Fare  Family_Size  Alone  \\\n",
       "0           0       3  22.0      1      0   7.2500            1      0   \n",
       "1           1       1  38.0      1      0  71.2833            1      0   \n",
       "2           1       3  26.0      0      0   7.9250            0      1   \n",
       "3           1       1  35.0      1      0  53.1000            1      0   \n",
       "4           0       3  35.0      0      0   8.0500            0      1   \n",
       "..        ...     ...   ...    ...    ...      ...          ...    ...   \n",
       "886         0       2  27.0      0      0  13.0000            0      1   \n",
       "887         1       1  19.0      0      0  30.0000            0      1   \n",
       "888         0       3  22.0      1      2  23.4500            3      0   \n",
       "889         1       1  26.0      0      0  30.0000            0      1   \n",
       "890         0       3  32.0      0      0   7.7500            0      1   \n",
       "\n",
       "     Sex_index  Embarked_index  Initial_index age_Cla  \n",
       "0          0.0             0.0            0.0      청년  \n",
       "1          1.0             1.0            2.0      장년  \n",
       "2          1.0             0.0            1.0      중년  \n",
       "3          1.0             0.0            2.0      장년  \n",
       "4          0.0             0.0            0.0      장년  \n",
       "..         ...             ...            ...     ...  \n",
       "886        0.0             0.0            4.0      중년  \n",
       "887        1.0             0.0            1.0      청년  \n",
       "888        1.0             0.0            1.0      청년  \n",
       "889        0.0             1.0            0.0      중년  \n",
       "890        0.0             2.0            0.0      중년  \n",
       "\n",
       "[891 rows x 12 columns]"
      ],
      "text/html": "<div>\n<style scoped>\n    .dataframe tbody tr th:only-of-type {\n        vertical-align: middle;\n    }\n\n    .dataframe tbody tr th {\n        vertical-align: top;\n    }\n\n    .dataframe thead th {\n        text-align: right;\n    }\n</style>\n<table border=\"1\" class=\"dataframe\">\n  <thead>\n    <tr style=\"text-align: right;\">\n      <th></th>\n      <th>Survived</th>\n      <th>Pclass</th>\n      <th>Age</th>\n      <th>SibSp</th>\n      <th>Parch</th>\n      <th>Fare</th>\n      <th>Family_Size</th>\n      <th>Alone</th>\n      <th>Sex_index</th>\n      <th>Embarked_index</th>\n      <th>Initial_index</th>\n      <th>age_Cla</th>\n    </tr>\n  </thead>\n  <tbody>\n    <tr>\n      <th>0</th>\n      <td>0</td>\n      <td>3</td>\n      <td>22.0</td>\n      <td>1</td>\n      <td>0</td>\n      <td>7.2500</td>\n      <td>1</td>\n      <td>0</td>\n      <td>0.0</td>\n      <td>0.0</td>\n      <td>0.0</td>\n      <td>청년</td>\n    </tr>\n    <tr>\n      <th>1</th>\n      <td>1</td>\n      <td>1</td>\n      <td>38.0</td>\n      <td>1</td>\n      <td>0</td>\n      <td>71.2833</td>\n      <td>1</td>\n      <td>0</td>\n      <td>1.0</td>\n      <td>1.0</td>\n      <td>2.0</td>\n      <td>장년</td>\n    </tr>\n    <tr>\n      <th>2</th>\n      <td>1</td>\n      <td>3</td>\n      <td>26.0</td>\n      <td>0</td>\n      <td>0</td>\n      <td>7.9250</td>\n      <td>0</td>\n      <td>1</td>\n      <td>1.0</td>\n      <td>0.0</td>\n      <td>1.0</td>\n      <td>중년</td>\n    </tr>\n    <tr>\n      <th>3</th>\n      <td>1</td>\n      <td>1</td>\n      <td>35.0</td>\n      <td>1</td>\n      <td>0</td>\n      <td>53.1000</td>\n      <td>1</td>\n      <td>0</td>\n      <td>1.0</td>\n      <td>0.0</td>\n      <td>2.0</td>\n      <td>장년</td>\n    </tr>\n    <tr>\n      <th>4</th>\n      <td>0</td>\n      <td>3</td>\n      <td>35.0</td>\n      <td>0</td>\n      <td>0</td>\n      <td>8.0500</td>\n      <td>0</td>\n      <td>1</td>\n      <td>0.0</td>\n      <td>0.0</td>\n      <td>0.0</td>\n      <td>장년</td>\n    </tr>\n    <tr>\n      <th>...</th>\n      <td>...</td>\n      <td>...</td>\n      <td>...</td>\n      <td>...</td>\n      <td>...</td>\n      <td>...</td>\n      <td>...</td>\n      <td>...</td>\n      <td>...</td>\n      <td>...</td>\n      <td>...</td>\n      <td>...</td>\n    </tr>\n    <tr>\n      <th>886</th>\n      <td>0</td>\n      <td>2</td>\n      <td>27.0</td>\n      <td>0</td>\n      <td>0</td>\n      <td>13.0000</td>\n      <td>0</td>\n      <td>1</td>\n      <td>0.0</td>\n      <td>0.0</td>\n      <td>4.0</td>\n      <td>중년</td>\n    </tr>\n    <tr>\n      <th>887</th>\n      <td>1</td>\n      <td>1</td>\n      <td>19.0</td>\n      <td>0</td>\n      <td>0</td>\n      <td>30.0000</td>\n      <td>0</td>\n      <td>1</td>\n      <td>1.0</td>\n      <td>0.0</td>\n      <td>1.0</td>\n      <td>청년</td>\n    </tr>\n    <tr>\n      <th>888</th>\n      <td>0</td>\n      <td>3</td>\n      <td>22.0</td>\n      <td>1</td>\n      <td>2</td>\n      <td>23.4500</td>\n      <td>3</td>\n      <td>0</td>\n      <td>1.0</td>\n      <td>0.0</td>\n      <td>1.0</td>\n      <td>청년</td>\n    </tr>\n    <tr>\n      <th>889</th>\n      <td>1</td>\n      <td>1</td>\n      <td>26.0</td>\n      <td>0</td>\n      <td>0</td>\n      <td>30.0000</td>\n      <td>0</td>\n      <td>1</td>\n      <td>0.0</td>\n      <td>1.0</td>\n      <td>0.0</td>\n      <td>중년</td>\n    </tr>\n    <tr>\n      <th>890</th>\n      <td>0</td>\n      <td>3</td>\n      <td>32.0</td>\n      <td>0</td>\n      <td>0</td>\n      <td>7.7500</td>\n      <td>0</td>\n      <td>1</td>\n      <td>0.0</td>\n      <td>2.0</td>\n      <td>0.0</td>\n      <td>중년</td>\n    </tr>\n  </tbody>\n</table>\n<p>891 rows × 12 columns</p>\n</div>"
     },
     "metadata": {},
     "execution_count": 11
    }
   ],
   "source": [
    "titanic_ageCla.toPandas()"
   ]
  },
  {
   "cell_type": "markdown",
   "metadata": {},
   "source": [
    "### 6. 나이분류를 파이차트로 표시하시요"
   ]
  },
  {
   "cell_type": "code",
   "execution_count": 12,
   "metadata": {
    "scrolled": true
   },
   "outputs": [],
   "source": [
    "titanic_ageCla_pd = titanic_ageCla.select('age_Cla').toPandas()"
   ]
  },
  {
   "cell_type": "code",
   "execution_count": 13,
   "metadata": {
    "scrolled": true
   },
   "outputs": [
    {
     "output_type": "execute_result",
     "data": {
      "text/plain": [
       "82"
      ]
     },
     "metadata": {},
     "execution_count": 13
    }
   ],
   "source": [
    "titanic_ageCla_pd[titanic_ageCla_pd['age_Cla'] == '미성년자'].count()[0]"
   ]
  },
  {
   "cell_type": "code",
   "execution_count": 14,
   "metadata": {},
   "outputs": [],
   "source": [
    "labels = ['미성년자','청년','중년','장년','노년']\n",
    "\n",
    "ratio = [\n",
    "    titanic_ageCla_pd[titanic_ageCla_pd['age_Cla'] == '미성년자'].count()[0],\n",
    "    titanic_ageCla_pd[titanic_ageCla_pd['age_Cla'] == '청년'].count()[0],\n",
    "    titanic_ageCla_pd[titanic_ageCla_pd['age_Cla'] == '중년'].count()[0],\n",
    "    titanic_ageCla_pd[titanic_ageCla_pd['age_Cla'] == '장년'].count()[0],\n",
    "    titanic_ageCla_pd[titanic_ageCla_pd['age_Cla'] == '노년'].count()[0]\n",
    "]"
   ]
  },
  {
   "cell_type": "code",
   "execution_count": 15,
   "metadata": {},
   "outputs": [
    {
     "output_type": "display_data",
     "data": {
      "text/plain": "<Figure size 432x288 with 1 Axes>",
      "image/svg+xml": "<?xml version=\"1.0\" encoding=\"utf-8\" standalone=\"no\"?>\r\n<!DOCTYPE svg PUBLIC \"-//W3C//DTD SVG 1.1//EN\"\r\n  \"http://www.w3.org/Graphics/SVG/1.1/DTD/svg11.dtd\">\r\n<!-- Created with matplotlib (https://matplotlib.org/) -->\r\n<svg height=\"231.84pt\" version=\"1.1\" viewBox=\"0 0 259.197241 231.84\" width=\"259.197241pt\" xmlns=\"http://www.w3.org/2000/svg\" xmlns:xlink=\"http://www.w3.org/1999/xlink\">\r\n <defs>\r\n  <style type=\"text/css\">\r\n*{stroke-linecap:butt;stroke-linejoin:round;}\r\n  </style>\r\n </defs>\r\n <g id=\"figure_1\">\r\n  <g id=\"patch_1\">\r\n   <path d=\"M 0 231.84 \r\nL 259.197241 231.84 \r\nL 259.197241 0 \r\nL 0 0 \r\nz\r\n\" style=\"fill:none;\"/>\r\n  </g>\r\n  <g id=\"axes_1\">\r\n   <g id=\"patch_2\">\r\n    <path d=\"M 207.270704 115.92 \r\nC 207.270704 107.52311 206.054717 99.1703 203.660647 91.121934 \r\nC 201.266577 83.073568 197.719559 75.414147 193.130157 68.382422 \r\nL 120.294704 115.92 \r\nL 207.270704 115.92 \r\nz\r\n\" style=\"fill:#1f77b4;\"/>\r\n   </g>\r\n   <g id=\"patch_3\">\r\n    <path d=\"M 193.130157 68.382422 \r\nC 186.513672 58.24487 177.853001 49.599454 167.703799 43.000851 \r\nC 157.554597 36.402249 146.138661 31.994662 134.188417 30.060875 \r\nC 122.238174 28.127088 110.014778 28.709361 98.302465 31.770336 \r\nC 86.590152 34.83131 75.644875 40.304094 66.168868 47.837561 \r\nL 120.294704 115.92 \r\nL 193.130157 68.382422 \r\nz\r\n\" style=\"fill:#ff7f0e;\"/>\r\n   </g>\r\n   <g id=\"patch_4\">\r\n    <path d=\"M 66.168868 47.837561 \r\nC 53.240966 58.115299 43.504008 71.865759 38.10231 87.472944 \r\nC 32.700612 103.080128 31.854411 119.907708 35.663155 135.978054 \r\nC 39.471898 152.0484 47.780298 166.706299 59.611925 178.229108 \r\nC 71.443552 189.751918 86.316013 197.669836 102.481449 201.052324 \r\nL 120.294704 115.92 \r\nL 66.168868 47.837561 \r\nz\r\n\" style=\"fill:#2ca02c;\"/>\r\n   </g>\r\n   <g id=\"patch_5\">\r\n    <path d=\"M 102.481449 201.052324 \r\nC 113.825096 203.425891 125.529576 203.508429 136.90557 201.295077 \r\nC 148.281563 199.081725 159.101274 194.616803 168.72749 188.163268 \r\nC 178.353706 181.709733 186.59367 173.396811 192.962099 163.714081 \r\nC 199.330529 154.031351 203.699901 143.172703 205.812888 131.777641 \r\nL 120.294704 115.92 \r\nL 102.481449 201.052324 \r\nz\r\n\" style=\"fill:#d62728;\"/>\r\n   </g>\r\n   <g id=\"patch_6\">\r\n    <path d=\"M 205.812888 131.777641 \r\nC 206.29755 129.163922 206.662131 126.529358 206.905484 123.882247 \r\nC 207.148836 121.235135 207.270704 118.578259 207.270704 115.919985 \r\nL 120.294704 115.92 \r\nL 205.812888 131.777641 \r\nz\r\n\" style=\"fill:#9467bd;\"/>\r\n   </g>\r\n   <g id=\"matplotlib.axis_1\"/>\r\n   <g id=\"matplotlib.axis_2\"/>\r\n   <g id=\"text_1\">\r\n    <!-- 미성년자 -->\r\n    <defs>\r\n     <path d=\"M 76.3125 -8.796875 \r\nL 76.3125 85.40625 \r\nL 83.59375 85.40625 \r\nL 83.59375 -8.796875 \r\nz\r\nM 12.796875 18.890625 \r\nL 12.796875 77.09375 \r\nL 57.625 77.09375 \r\nL 57.625 18.890625 \r\nz\r\nM 50.296875 70.703125 \r\nL 20.125 70.703125 \r\nL 20.125 25.296875 \r\nL 50.296875 25.296875 \r\nz\r\n\" id=\"MalgunGothic-48120\"/>\r\n     <path d=\"M 77.296875 31 \r\nL 77.296875 59.078125 \r\nL 55.328125 59.078125 \r\nL 55.328125 65.625 \r\nL 77.296875 65.625 \r\nL 77.296875 85.40625 \r\nL 84.625 85.40625 \r\nL 84.625 31 \r\nz\r\nM 57.078125 36.375 \r\nQ 50.6875 39.84375 44.234375 46.09375 \r\nQ 37.796875 52.34375 35.203125 57.8125 \r\nQ 32.421875 51.609375 25.921875 44.65625 \r\nQ 19.4375 37.703125 12.796875 33.984375 \r\nL 7.625 39.015625 \r\nQ 17.71875 43.84375 24.546875 53.015625 \r\nQ 31.390625 62.203125 31.390625 72.3125 \r\nL 31.390625 82.328125 \r\nL 38.484375 82.328125 \r\nL 38.484375 72.3125 \r\nQ 38.484375 62.890625 45.5625 54.25 \r\nQ 52.640625 45.609375 62.015625 41.703125 \r\nz\r\nM 55.71875 -7.421875 \r\nQ 40.96875 -7.421875 32.9375 -2.3125 \r\nQ 24.90625 2.78125 24.90625 10.890625 \r\nQ 24.90625 19 32.90625 24.046875 \r\nQ 40.921875 29.109375 55.71875 29.109375 \r\nQ 70.515625 29.109375 78.515625 24.046875 \r\nQ 86.53125 19 86.53125 10.890625 \r\nQ 86.53125 2.78125 78.484375 -2.3125 \r\nQ 70.453125 -7.421875 55.71875 -7.421875 \r\nz\r\nM 55.71875 22.90625 \r\nQ 44.53125 22.90625 38.625 19.5 \r\nQ 32.71875 16.109375 32.71875 10.890625 \r\nQ 32.71875 5.609375 38.640625 2.234375 \r\nQ 44.578125 -1.125 55.71875 -1.125 \r\nQ 66.796875 -1.125 72.75 2.21875 \r\nQ 78.71875 5.5625 78.71875 10.890625 \r\nQ 78.71875 16.15625 72.796875 19.53125 \r\nQ 66.890625 22.90625 55.71875 22.90625 \r\nz\r\n\" id=\"MalgunGothic-49457\"/>\r\n     <path d=\"M 76.3125 16.609375 \r\nL 76.3125 48.78125 \r\nL 49.703125 48.78125 \r\nL 49.703125 55.078125 \r\nL 76.3125 55.078125 \r\nL 76.3125 65.28125 \r\nL 49.703125 65.28125 \r\nL 49.703125 71.578125 \r\nL 76.3125 71.578125 \r\nL 76.3125 85.40625 \r\nL 83.59375 85.40625 \r\nL 83.59375 16.609375 \r\nz\r\nM 66.109375 33.890625 \r\nQ 56.6875 31.5 16.796875 31.5 \r\nL 16.796875 79.5 \r\nL 24.125 79.5 \r\nL 24.125 37.890625 \r\nL 30.28125 37.890625 \r\nQ 54.890625 37.890625 65.09375 39.890625 \r\nz\r\nM 25.984375 -5.609375 \r\nL 25.984375 22.015625 \r\nL 33.296875 22.015625 \r\nL 33.296875 0.875 \r\nL 87.109375 0.875 \r\nL 87.109375 -5.609375 \r\nz\r\n\" id=\"MalgunGothic-45380\"/>\r\n     <path d=\"M 79.59375 40.625 \r\nL 79.59375 -8.796875 \r\nL 72.3125 -8.796875 \r\nL 72.3125 85.40625 \r\nL 79.59375 85.40625 \r\nL 79.59375 47.125 \r\nL 95.90625 47.125 \r\nL 95.90625 40.625 \r\nz\r\nM 57.421875 14.203125 \r\nQ 50.4375 19.53125 43.875 28.3125 \r\nQ 37.3125 37.109375 35.109375 44.09375 \r\nQ 33.203125 37.40625 26.75 28.265625 \r\nQ 20.3125 19.140625 12.5 12.890625 \r\nL 6.890625 17.71875 \r\nQ 17.1875 24.515625 24.234375 36.9375 \r\nQ 31.296875 49.359375 31.296875 60.796875 \r\nL 31.296875 70.703125 \r\nL 10.40625 70.703125 \r\nL 10.40625 77.203125 \r\nL 58.984375 77.203125 \r\nL 58.984375 70.703125 \r\nL 38.484375 70.703125 \r\nL 38.484375 61.28125 \r\nQ 38.484375 49.8125 45.5625 38.03125 \r\nQ 52.640625 26.265625 62.5 19.671875 \r\nz\r\n\" id=\"MalgunGothic-51088\"/>\r\n    </defs>\r\n    <g transform=\"translate(211.997241 91.25619)scale(0.1 -0.1)\">\r\n     <use xlink:href=\"#MalgunGothic-48120\"/>\r\n     <use x=\"100\" xlink:href=\"#MalgunGothic-49457\"/>\r\n     <use x=\"200\" xlink:href=\"#MalgunGothic-45380\"/>\r\n     <use x=\"300\" xlink:href=\"#MalgunGothic-51088\"/>\r\n    </g>\r\n   </g>\r\n   <g id=\"text_2\">\r\n    <!-- 청년 -->\r\n    <defs>\r\n     <path d=\"M 58.890625 33.203125 \r\nQ 43.109375 40.671875 35.984375 53.21875 \r\nQ 33.203125 47.21875 26.65625 41.015625 \r\nQ 20.125 34.8125 13.09375 31.296875 \r\nL 7.71875 36.921875 \r\nQ 17.625 40.484375 24.96875 48.6875 \r\nQ 32.328125 56.890625 32.328125 64.3125 \r\nL 32.328125 68.890625 \r\nL 10.796875 68.890625 \r\nL 10.796875 75.296875 \r\nL 32.328125 75.296875 \r\nL 32.328125 86.28125 \r\nL 39.59375 86.28125 \r\nL 39.59375 75.296875 \r\nL 61.078125 75.296875 \r\nL 61.078125 68.890625 \r\nL 39.59375 68.890625 \r\nL 39.59375 64.40625 \r\nQ 39.59375 57.234375 47.015625 49.5625 \r\nQ 54.4375 41.890625 63.8125 39.203125 \r\nz\r\nM 76.3125 31 \r\nL 76.3125 53.328125 \r\nL 57.8125 53.328125 \r\nL 57.8125 59.8125 \r\nL 76.3125 59.8125 \r\nL 76.3125 85.40625 \r\nL 83.59375 85.40625 \r\nL 83.59375 31 \r\nz\r\nM 54.6875 -7.421875 \r\nQ 39.9375 -7.421875 31.90625 -2.3125 \r\nQ 23.875 2.78125 23.875 10.890625 \r\nQ 23.875 19 31.875 24.046875 \r\nQ 39.890625 29.109375 54.6875 29.109375 \r\nQ 69.484375 29.109375 77.484375 24.046875 \r\nQ 85.5 19 85.5 10.890625 \r\nQ 85.5 2.78125 77.46875 -2.3125 \r\nQ 69.4375 -7.421875 54.6875 -7.421875 \r\nz\r\nM 54.6875 22.90625 \r\nQ 43.5 22.90625 37.59375 19.5 \r\nQ 31.6875 16.109375 31.6875 10.890625 \r\nQ 31.6875 5.609375 37.625 2.234375 \r\nQ 43.5625 -1.125 54.6875 -1.125 \r\nQ 65.765625 -1.125 71.71875 2.21875 \r\nQ 77.6875 5.5625 77.6875 10.890625 \r\nQ 77.6875 16.15625 71.78125 19.53125 \r\nQ 65.875 22.90625 54.6875 22.90625 \r\nz\r\n\" id=\"MalgunGothic-52397\"/>\r\n    </defs>\r\n    <g transform=\"translate(135.577789 24.089025)scale(0.1 -0.1)\">\r\n     <use xlink:href=\"#MalgunGothic-52397\"/>\r\n     <use x=\"100\" xlink:href=\"#MalgunGothic-45380\"/>\r\n    </g>\r\n   </g>\r\n   <g id=\"text_3\">\r\n    <!-- 중년 -->\r\n    <defs>\r\n     <path d=\"M 85.296875 51.125 \r\nQ 74.21875 52.6875 64.015625 58.03125 \r\nQ 53.8125 63.375 50.09375 69.09375 \r\nQ 46.625 63.96875 36.375 58.375 \r\nQ 26.125 52.78125 15.1875 51.21875 \r\nL 10.890625 57.078125 \r\nQ 23.09375 58.015625 33.421875 63.796875 \r\nQ 43.75 69.578125 46.09375 76.21875 \r\nL 16.015625 76.21875 \r\nL 16.015625 82.8125 \r\nL 83.984375 82.8125 \r\nL 83.984375 76.21875 \r\nL 54 76.21875 \r\nQ 56.203125 69.625 66.421875 63.90625 \r\nQ 76.65625 58.203125 89.109375 57.078125 \r\nz\r\nM 46.296875 27.09375 \r\nL 46.296875 37.984375 \r\nL 6.296875 37.984375 \r\nL 6.296875 44.578125 \r\nL 93.703125 44.578125 \r\nL 93.703125 37.984375 \r\nL 53.71875 37.984375 \r\nL 53.71875 27.09375 \r\nQ 66.703125 26.515625 73.4375 21.875 \r\nQ 80.171875 17.234375 80.171875 9.8125 \r\nQ 80.171875 1.5625 72.40625 -3.125 \r\nQ 64.65625 -7.8125 50 -7.8125 \r\nQ 35.359375 -7.8125 27.59375 -3.125 \r\nQ 19.828125 1.5625 19.828125 9.8125 \r\nQ 19.828125 17.234375 26.5625 21.875 \r\nQ 33.296875 26.515625 46.296875 27.09375 \r\nz\r\nM 50 21 \r\nQ 38.765625 21 33.078125 18.046875 \r\nQ 27.390625 15.09375 27.390625 9.8125 \r\nQ 27.390625 4.4375 33.171875 1.40625 \r\nQ 38.96875 -1.609375 50 -1.609375 \r\nQ 60.984375 -1.609375 66.796875 1.40625 \r\nQ 72.609375 4.4375 72.609375 9.8125 \r\nQ 72.609375 15.09375 66.890625 18.046875 \r\nQ 61.1875 21 50 21 \r\nz\r\n\" id=\"MalgunGothic-51473\"/>\r\n    </defs>\r\n    <g transform=\"translate(7.2 140.597922)scale(0.1 -0.1)\">\r\n     <use xlink:href=\"#MalgunGothic-51473\"/>\r\n     <use x=\"100\" xlink:href=\"#MalgunGothic-45380\"/>\r\n    </g>\r\n   </g>\r\n   <g id=\"text_4\">\r\n    <!-- 장년 -->\r\n    <defs>\r\n     <path d=\"M 80.078125 52.984375 \r\nL 80.078125 31.109375 \r\nL 72.796875 31.109375 \r\nL 72.796875 85.40625 \r\nL 80.078125 85.40625 \r\nL 80.078125 59.625 \r\nL 94.28125 59.625 \r\nL 94.28125 52.984375 \r\nz\r\nM 56.296875 36.1875 \r\nQ 50.09375 39.5 43.40625 45.9375 \r\nQ 36.71875 52.390625 34.1875 57.71875 \r\nQ 31.5 51.5625 25 44.578125 \r\nQ 18.5 37.59375 11.71875 33.796875 \r\nL 6.390625 38.8125 \r\nQ 16.75 43.84375 23.625 53.078125 \r\nQ 30.515625 62.3125 30.515625 72.3125 \r\nL 30.515625 74.703125 \r\nL 9.71875 74.703125 \r\nL 9.71875 81.203125 \r\nL 58.296875 81.203125 \r\nL 58.296875 74.703125 \r\nL 37.5 74.703125 \r\nL 37.5 72.3125 \r\nQ 37.5 62.890625 44.453125 54.25 \r\nQ 51.421875 45.609375 61.078125 41.5 \r\nz\r\nM 50.984375 -8.015625 \r\nQ 36.28125 -8.015625 28.296875 -2.90625 \r\nQ 20.3125 2.203125 20.3125 10.296875 \r\nQ 20.3125 18.359375 28.3125 23.4375 \r\nQ 36.328125 28.515625 50.984375 28.515625 \r\nQ 65.671875 28.515625 73.671875 23.453125 \r\nQ 81.6875 18.40625 81.6875 10.296875 \r\nQ 81.6875 2.15625 73.703125 -2.921875 \r\nQ 65.71875 -8.015625 50.984375 -8.015625 \r\nz\r\nM 50.984375 22.3125 \r\nQ 40.046875 22.3125 34.0625 18.984375 \r\nQ 28.078125 15.671875 28.078125 10.296875 \r\nQ 28.078125 4.828125 34.078125 1.5 \r\nQ 40.09375 -1.8125 50.984375 -1.8125 \r\nQ 62.015625 -1.8125 68.015625 1.53125 \r\nQ 74.03125 4.890625 74.03125 10.296875 \r\nQ 74.03125 15.625 68.015625 18.96875 \r\nQ 62.015625 22.3125 50.984375 22.3125 \r\nz\r\n\" id=\"MalgunGothic-51109\"/>\r\n    </defs>\r\n    <g transform=\"translate(173.570769 198.001657)scale(0.1 -0.1)\">\r\n     <use xlink:href=\"#MalgunGothic-51109\"/>\r\n     <use x=\"100\" xlink:href=\"#MalgunGothic-45380\"/>\r\n    </g>\r\n   </g>\r\n   <g id=\"text_5\">\r\n    <!-- 노년 -->\r\n    <defs>\r\n     <path d=\"M 20.015625 77.09375 \r\nL 27.296875 77.09375 \r\nL 27.296875 44.28125 \r\nL 81.890625 44.28125 \r\nL 81.890625 37.703125 \r\nL 53.71875 37.703125 \r\nL 53.71875 12.984375 \r\nL 93.703125 12.984375 \r\nL 93.703125 6.390625 \r\nL 6.296875 6.390625 \r\nL 6.296875 12.984375 \r\nL 46.296875 12.984375 \r\nL 46.296875 37.703125 \r\nL 20.015625 37.703125 \r\nz\r\n\" id=\"MalgunGothic-45432\"/>\r\n    </defs>\r\n    <g transform=\"translate(215.566562 127.292534)scale(0.1 -0.1)\">\r\n     <use xlink:href=\"#MalgunGothic-45432\"/>\r\n     <use x=\"100\" xlink:href=\"#MalgunGothic-45380\"/>\r\n    </g>\r\n   </g>\r\n  </g>\r\n </g>\r\n</svg>\r\n",
      "image/png": "[encoded data removed]"
     },
     "metadata": {}
    }
   ],
   "source": [
    "plt.pie(ratio,labels=labels)\n",
    "plt.show()"
   ]
  },
  {
   "cell_type": "code",
   "execution_count": 19,
   "metadata": {},
   "outputs": [
    {
     "output_type": "display_data",
     "data": {
      "text/plain": "<Figure size 432x288 with 1 Axes>",
      "image/svg+xml": "<?xml version=\"1.0\" encoding=\"utf-8\" standalone=\"no\"?>\r\n<!DOCTYPE svg PUBLIC \"-//W3C//DTD SVG 1.1//EN\"\r\n  \"http://www.w3.org/Graphics/SVG/1.1/DTD/svg11.dtd\">\r\n<!-- Created with matplotlib (https://matplotlib.org/) -->\r\n<svg height=\"231.84pt\" version=\"1.1\" viewBox=\"0 0 248.312135 231.84\" width=\"248.312135pt\" xmlns=\"http://www.w3.org/2000/svg\" xmlns:xlink=\"http://www.w3.org/1999/xlink\">\r\n <defs>\r\n  <style type=\"text/css\">\r\n*{stroke-linecap:butt;stroke-linejoin:round;}\r\n  </style>\r\n </defs>\r\n <g id=\"figure_1\">\r\n  <g id=\"patch_1\">\r\n   <path d=\"M 0 231.84 \r\nL 248.312135 231.84 \r\nL 248.312135 0 \r\nL 0 0 \r\nz\r\n\" style=\"fill:none;\"/>\r\n  </g>\r\n  <g id=\"axes_1\">\r\n   <g id=\"patch_2\">\r\n    <path d=\"M 202.896 115.92 \r\nC 202.896 113.261726 202.774132 110.604849 202.530779 107.957738 \r\nC 202.287425 105.310626 201.922844 102.676062 201.438181 100.062344 \r\nL 115.92 115.92 \r\nL 202.896 115.92 \r\nz\r\n\" style=\"fill:#1f77b4;\"/>\r\n   </g>\r\n   <g id=\"patch_3\">\r\n    <path d=\"M 201.438181 100.062344 \r\nC 199.907242 91.806196 197.188734 83.81509 193.367395 76.338116 \r\nC 189.546057 68.861142 184.662009 61.976803 178.867491 55.899687 \r\nL 115.92 115.92 \r\nL 201.438181 100.062344 \r\nz\r\n\" style=\"fill:#ff7f0e;\"/>\r\n   </g>\r\n   <g id=\"patch_4\">\r\n    <path d=\"M 178.867491 55.899687 \r\nC 167.470474 43.94684 152.901277 35.483862 136.872117 31.505349 \r\nC 120.842957 27.526835 104.007368 28.194996 88.34392 33.431308 \r\nC 72.680473 38.667619 58.82779 48.258588 48.413883 61.077054 \r\nC 37.999975 73.895521 31.449434 89.418855 29.5321 105.822708 \r\nL 115.92 115.92 \r\nL 178.867491 55.899687 \r\nz\r\n\" style=\"fill:#2ca02c;\"/>\r\n   </g>\r\n   <g id=\"patch_5\">\r\n    <path d=\"M 29.5321 105.822708 \r\nC 28.126715 117.846548 29.246982 130.032419 32.821025 141.598493 \r\nC 36.395069 153.164566 42.344783 163.858084 50.288445 172.992967 \r\nC 58.232107 182.12785 67.996119 189.504469 78.954038 194.649551 \r\nC 89.911957 199.794633 101.824313 202.595741 113.926829 202.873159 \r\nL 115.92 115.92 \r\nL 29.5321 105.822708 \r\nz\r\n\" style=\"fill:#d62728;\"/>\r\n   </g>\r\n   <g id=\"patch_6\">\r\n    <path d=\"M 113.926829 202.873159 \r\nC 125.513097 203.138743 137.036445 201.085912 147.81822 196.835562 \r\nC 158.599996 192.585212 168.424301 186.222454 176.712548 178.122015 \r\nC 185.000795 170.021576 191.587017 160.34566 196.083328 149.664118 \r\nC 200.579638 138.982575 202.896002 127.509297 202.896 115.919985 \r\nL 115.92 115.92 \r\nL 113.926829 202.873159 \r\nz\r\n\" style=\"fill:#9467bd;\"/>\r\n   </g>\r\n   <g id=\"matplotlib.axis_1\"/>\r\n   <g id=\"matplotlib.axis_2\"/>\r\n   <g id=\"text_1\">\r\n    <!-- 노년 -->\r\n    <defs>\r\n     <path d=\"M 20.015625 77.09375 \r\nL 27.296875 77.09375 \r\nL 27.296875 44.28125 \r\nL 81.890625 44.28125 \r\nL 81.890625 37.703125 \r\nL 53.71875 37.703125 \r\nL 53.71875 12.984375 \r\nL 93.703125 12.984375 \r\nL 93.703125 6.390625 \r\nL 6.296875 6.390625 \r\nL 6.296875 12.984375 \r\nL 46.296875 12.984375 \r\nL 46.296875 37.703125 \r\nL 20.015625 37.703125 \r\nz\r\n\" id=\"MalgunGothic-45432\"/>\r\n     <path d=\"M 76.3125 16.609375 \r\nL 76.3125 48.78125 \r\nL 49.703125 48.78125 \r\nL 49.703125 55.078125 \r\nL 76.3125 55.078125 \r\nL 76.3125 65.28125 \r\nL 49.703125 65.28125 \r\nL 49.703125 71.578125 \r\nL 76.3125 71.578125 \r\nL 76.3125 85.40625 \r\nL 83.59375 85.40625 \r\nL 83.59375 16.609375 \r\nz\r\nM 66.109375 33.890625 \r\nQ 56.6875 31.5 16.796875 31.5 \r\nL 16.796875 79.5 \r\nL 24.125 79.5 \r\nL 24.125 37.890625 \r\nL 30.28125 37.890625 \r\nQ 54.890625 37.890625 65.09375 39.890625 \r\nz\r\nM 25.984375 -5.609375 \r\nL 25.984375 22.015625 \r\nL 33.296875 22.015625 \r\nL 33.296875 0.875 \r\nL 87.109375 0.875 \r\nL 87.109375 -5.609375 \r\nz\r\n\" id=\"MalgunGothic-45380\"/>\r\n    </defs>\r\n    <g transform=\"translate(211.191856 109.775574)scale(0.1 -0.1)\">\r\n     <use xlink:href=\"#MalgunGothic-45432\"/>\r\n     <use x=\"100\" xlink:href=\"#MalgunGothic-45380\"/>\r\n    </g>\r\n   </g>\r\n   <g id=\"text_2\">\r\n    <!-- 2.9% -->\r\n    <defs>\r\n     <path d=\"M 39.359375 52.6875 \r\nQ 39.359375 59.125 35.546875 62.78125 \r\nQ 31.734375 66.453125 25.4375 66.453125 \r\nQ 20.953125 66.453125 16.453125 64.125 \r\nQ 11.96875 61.8125 8.34375 57.765625 \r\nL 8.34375 66.15625 \r\nQ 15.328125 73.046875 26.421875 73.046875 \r\nQ 35.640625 73.046875 41.28125 67.71875 \r\nQ 46.921875 62.40625 46.921875 53.375 \r\nQ 46.921875 45.609375 43.3125 39.765625 \r\nQ 39.703125 33.9375 31 27.734375 \r\nQ 22.796875 21.96875 19.59375 18.984375 \r\nQ 16.40625 16.015625 15.109375 13.34375 \r\nQ 13.8125 10.6875 13.8125 7.03125 \r\nL 48.6875 7.03125 \r\nL 48.6875 0 \r\nL 5.5625 0 \r\nL 5.5625 3.515625 \r\nQ 5.5625 9.421875 7.203125 13.59375 \r\nQ 8.84375 17.78125 12.671875 21.75 \r\nQ 16.5 25.734375 24.953125 31.59375 \r\nQ 32.671875 36.921875 36.015625 41.71875 \r\nQ 39.359375 46.53125 39.359375 52.6875 \r\nz\r\n\" id=\"MalgunGothic-50\"/>\r\n     <path d=\"M 5.5625 4.296875 \r\nQ 5.5625 6.59375 7.171875 8.171875 \r\nQ 8.796875 9.765625 10.9375 9.765625 \r\nQ 13.09375 9.765625 14.703125 8.171875 \r\nQ 16.3125 6.59375 16.3125 4.296875 \r\nQ 16.3125 2.15625 14.71875 0.515625 \r\nQ 13.140625 -1.125 10.9375 -1.125 \r\nQ 8.734375 -1.125 7.140625 0.453125 \r\nQ 5.5625 2.046875 5.5625 4.296875 \r\nz\r\n\" id=\"MalgunGothic-46\"/>\r\n     <path d=\"M 8.6875 8.796875 \r\nQ 14.703125 5.375 21.34375 5.375 \r\nQ 31.15625 5.375 36.671875 13.359375 \r\nQ 42.1875 21.34375 42.1875 36.140625 \r\nQ 42.09375 36.03125 42 36.140625 \r\nQ 37.3125 26.765625 25.828125 26.765625 \r\nQ 16.546875 26.765625 10.65625 33.125 \r\nQ 4.78125 39.5 4.78125 49.125 \r\nQ 4.78125 59.46875 11.109375 66.25 \r\nQ 17.4375 73.046875 27.6875 73.046875 \r\nQ 38.53125 73.046875 44.265625 64.546875 \r\nQ 50 56.0625 50 40.28125 \r\nQ 50 20.609375 42.453125 9.6875 \r\nQ 34.90625 -1.21875 21 -1.21875 \r\nQ 13.765625 -1.21875 8.6875 1.21875 \r\nz\r\nM 12.703125 50.296875 \r\nQ 12.703125 42.828125 16.609375 38.28125 \r\nQ 20.515625 33.734375 27.484375 33.734375 \r\nQ 33.546875 33.734375 37.59375 37.765625 \r\nQ 41.65625 41.796875 41.65625 47.609375 \r\nQ 41.65625 55.5625 37.671875 60.984375 \r\nQ 33.6875 66.40625 26.953125 66.40625 \r\nQ 20.65625 66.40625 16.671875 61.6875 \r\nQ 12.703125 56.984375 12.703125 50.296875 \r\nz\r\n\" id=\"MalgunGothic-57\"/>\r\n     <path d=\"M 3.953125 53.8125 \r\nQ 3.953125 62.453125 8.546875 67.671875 \r\nQ 13.140625 72.90625 21.140625 72.90625 \r\nQ 28.859375 72.90625 33.046875 68.046875 \r\nQ 37.25 63.1875 37.25 54.828125 \r\nQ 37.25 46.4375 32.53125 41.140625 \r\nQ 27.828125 35.84375 20.125 35.84375 \r\nQ 12.75 35.84375 8.34375 40.75 \r\nQ 3.953125 45.65625 3.953125 53.8125 \r\nz\r\nM 10.40625 54.296875 \r\nQ 10.40625 48.296875 13.140625 44.75 \r\nQ 15.875 41.21875 20.65625 41.21875 \r\nQ 25.484375 41.21875 28.171875 44.734375 \r\nQ 30.859375 48.25 30.859375 54.59375 \r\nQ 30.859375 60.84375 28.1875 64.25 \r\nQ 25.53125 67.671875 20.84375 67.671875 \r\nQ 15.96875 67.671875 13.1875 64.03125 \r\nQ 10.40625 60.40625 10.40625 54.296875 \r\nz\r\nM 67.96875 71.875 \r\nL 21.921875 -0.53125 \r\nL 15.09375 -0.53125 \r\nL 61.078125 71.875 \r\nz\r\nM 46.6875 16.84375 \r\nQ 46.6875 25.640625 51.3125 30.890625 \r\nQ 55.953125 36.140625 63.765625 36.140625 \r\nQ 71.390625 36.140625 75.640625 31.25 \r\nQ 79.890625 26.375 79.890625 17.78125 \r\nQ 79.890625 9.375 75.140625 4.125 \r\nQ 70.40625 -1.125 62.796875 -1.125 \r\nQ 55.46875 -1.125 51.078125 3.828125 \r\nQ 46.6875 8.796875 46.6875 16.84375 \r\nz\r\nM 53.03125 17.234375 \r\nQ 53.03125 11.328125 55.78125 7.78125 \r\nQ 58.546875 4.25 63.28125 4.25 \r\nQ 68.0625 4.25 70.765625 7.828125 \r\nQ 73.484375 11.421875 73.484375 17.71875 \r\nQ 73.484375 23.96875 70.84375 27.3125 \r\nQ 68.21875 30.671875 63.53125 30.671875 \r\nQ 58.640625 30.671875 55.828125 27.046875 \r\nQ 53.03125 23.4375 53.03125 17.234375 \r\nz\r\n\" id=\"MalgunGothic-37\"/>\r\n    </defs>\r\n    <g transform=\"translate(157.102873 113.756705)scale(0.1 -0.1)\">\r\n     <use xlink:href=\"#MalgunGothic-50\"/>\r\n     <use x=\"55.078125\" xlink:href=\"#MalgunGothic-46\"/>\r\n     <use x=\"76.953125\" xlink:href=\"#MalgunGothic-57\"/>\r\n     <use x=\"132.03125\" xlink:href=\"#MalgunGothic-37\"/>\r\n    </g>\r\n   </g>\r\n   <g id=\"text_3\">\r\n    <!-- 미성년자 -->\r\n    <defs>\r\n     <path d=\"M 76.3125 -8.796875 \r\nL 76.3125 85.40625 \r\nL 83.59375 85.40625 \r\nL 83.59375 -8.796875 \r\nz\r\nM 12.796875 18.890625 \r\nL 12.796875 77.09375 \r\nL 57.625 77.09375 \r\nL 57.625 18.890625 \r\nz\r\nM 50.296875 70.703125 \r\nL 20.125 70.703125 \r\nL 20.125 25.296875 \r\nL 50.296875 25.296875 \r\nz\r\n\" id=\"MalgunGothic-48120\"/>\r\n     <path d=\"M 77.296875 31 \r\nL 77.296875 59.078125 \r\nL 55.328125 59.078125 \r\nL 55.328125 65.625 \r\nL 77.296875 65.625 \r\nL 77.296875 85.40625 \r\nL 84.625 85.40625 \r\nL 84.625 31 \r\nz\r\nM 57.078125 36.375 \r\nQ 50.6875 39.84375 44.234375 46.09375 \r\nQ 37.796875 52.34375 35.203125 57.8125 \r\nQ 32.421875 51.609375 25.921875 44.65625 \r\nQ 19.4375 37.703125 12.796875 33.984375 \r\nL 7.625 39.015625 \r\nQ 17.71875 43.84375 24.546875 53.015625 \r\nQ 31.390625 62.203125 31.390625 72.3125 \r\nL 31.390625 82.328125 \r\nL 38.484375 82.328125 \r\nL 38.484375 72.3125 \r\nQ 38.484375 62.890625 45.5625 54.25 \r\nQ 52.640625 45.609375 62.015625 41.703125 \r\nz\r\nM 55.71875 -7.421875 \r\nQ 40.96875 -7.421875 32.9375 -2.3125 \r\nQ 24.90625 2.78125 24.90625 10.890625 \r\nQ 24.90625 19 32.90625 24.046875 \r\nQ 40.921875 29.109375 55.71875 29.109375 \r\nQ 70.515625 29.109375 78.515625 24.046875 \r\nQ 86.53125 19 86.53125 10.890625 \r\nQ 86.53125 2.78125 78.484375 -2.3125 \r\nQ 70.453125 -7.421875 55.71875 -7.421875 \r\nz\r\nM 55.71875 22.90625 \r\nQ 44.53125 22.90625 38.625 19.5 \r\nQ 32.71875 16.109375 32.71875 10.890625 \r\nQ 32.71875 5.609375 38.640625 2.234375 \r\nQ 44.578125 -1.125 55.71875 -1.125 \r\nQ 66.796875 -1.125 72.75 2.21875 \r\nQ 78.71875 5.5625 78.71875 10.890625 \r\nQ 78.71875 16.15625 72.796875 19.53125 \r\nQ 66.890625 22.90625 55.71875 22.90625 \r\nz\r\n\" id=\"MalgunGothic-49457\"/>\r\n     <path d=\"M 79.59375 40.625 \r\nL 79.59375 -8.796875 \r\nL 72.3125 -8.796875 \r\nL 72.3125 85.40625 \r\nL 79.59375 85.40625 \r\nL 79.59375 47.125 \r\nL 95.90625 47.125 \r\nL 95.90625 40.625 \r\nz\r\nM 57.421875 14.203125 \r\nQ 50.4375 19.53125 43.875 28.3125 \r\nQ 37.3125 37.109375 35.109375 44.09375 \r\nQ 33.203125 37.40625 26.75 28.265625 \r\nQ 20.3125 19.140625 12.5 12.890625 \r\nL 6.890625 17.71875 \r\nQ 17.1875 24.515625 24.234375 36.9375 \r\nQ 31.296875 49.359375 31.296875 60.796875 \r\nL 31.296875 70.703125 \r\nL 10.40625 70.703125 \r\nL 10.40625 77.203125 \r\nL 58.984375 77.203125 \r\nL 58.984375 70.703125 \r\nL 38.484375 70.703125 \r\nL 38.484375 61.28125 \r\nQ 38.484375 49.8125 45.5625 38.03125 \r\nQ 52.640625 26.265625 62.5 19.671875 \r\nz\r\n\" id=\"MalgunGothic-51088\"/>\r\n    </defs>\r\n    <g transform=\"translate(201.112135 74.99399)scale(0.1 -0.1)\">\r\n     <use xlink:href=\"#MalgunGothic-48120\"/>\r\n     <use x=\"100\" xlink:href=\"#MalgunGothic-49457\"/>\r\n     <use x=\"200\" xlink:href=\"#MalgunGothic-45380\"/>\r\n     <use x=\"300\" xlink:href=\"#MalgunGothic-51088\"/>\r\n    </g>\r\n   </g>\r\n   <g id=\"text_4\">\r\n    <!-- 9.2% -->\r\n    <g transform=\"translate(151.604843 94.784932)scale(0.1 -0.1)\">\r\n     <use xlink:href=\"#MalgunGothic-57\"/>\r\n     <use x=\"55.078125\" xlink:href=\"#MalgunGothic-46\"/>\r\n     <use x=\"76.953125\" xlink:href=\"#MalgunGothic-50\"/>\r\n     <use x=\"132.03125\" xlink:href=\"#MalgunGothic-37\"/>\r\n    </g>\r\n   </g>\r\n   <g id=\"text_5\">\r\n    <!-- 중년 -->\r\n    <defs>\r\n     <path d=\"M 85.296875 51.125 \r\nQ 74.21875 52.6875 64.015625 58.03125 \r\nQ 53.8125 63.375 50.09375 69.09375 \r\nQ 46.625 63.96875 36.375 58.375 \r\nQ 26.125 52.78125 15.1875 51.21875 \r\nL 10.890625 57.078125 \r\nQ 23.09375 58.015625 33.421875 63.796875 \r\nQ 43.75 69.578125 46.09375 76.21875 \r\nL 16.015625 76.21875 \r\nL 16.015625 82.8125 \r\nL 83.984375 82.8125 \r\nL 83.984375 76.21875 \r\nL 54 76.21875 \r\nQ 56.203125 69.625 66.421875 63.90625 \r\nQ 76.65625 58.203125 89.109375 57.078125 \r\nz\r\nM 46.296875 27.09375 \r\nL 46.296875 37.984375 \r\nL 6.296875 37.984375 \r\nL 6.296875 44.578125 \r\nL 93.703125 44.578125 \r\nL 93.703125 37.984375 \r\nL 53.71875 37.984375 \r\nL 53.71875 27.09375 \r\nQ 66.703125 26.515625 73.4375 21.875 \r\nQ 80.171875 17.234375 80.171875 9.8125 \r\nQ 80.171875 1.5625 72.40625 -3.125 \r\nQ 64.65625 -7.8125 50 -7.8125 \r\nQ 35.359375 -7.8125 27.59375 -3.125 \r\nQ 19.828125 1.5625 19.828125 9.8125 \r\nQ 19.828125 17.234375 26.5625 21.875 \r\nQ 33.296875 26.515625 46.296875 27.09375 \r\nz\r\nM 50 21 \r\nQ 38.765625 21 33.078125 18.046875 \r\nQ 27.390625 15.09375 27.390625 9.8125 \r\nQ 27.390625 4.4375 33.171875 1.40625 \r\nQ 38.96875 -1.609375 50 -1.609375 \r\nQ 60.984375 -1.609375 66.796875 1.40625 \r\nQ 72.609375 4.4375 72.609375 9.8125 \r\nQ 72.609375 15.09375 66.890625 18.046875 \r\nQ 61.1875 21 50 21 \r\nz\r\n\" id=\"MalgunGothic-51473\"/>\r\n    </defs>\r\n    <g transform=\"translate(65.586312 27.796501)scale(0.1 -0.1)\">\r\n     <use xlink:href=\"#MalgunGothic-51473\"/>\r\n     <use x=\"100\" xlink:href=\"#MalgunGothic-45380\"/>\r\n    </g>\r\n   </g>\r\n   <g id=\"text_6\">\r\n    <!-- 36.0% -->\r\n    <defs>\r\n     <path d=\"M 6.5 11.234375 \r\nQ 13.921875 5.375 23.09375 5.375 \r\nQ 30.609375 5.375 35.21875 9.171875 \r\nQ 39.84375 12.984375 39.84375 19.484375 \r\nQ 39.84375 33.890625 19.578125 33.890625 \r\nL 13.625 33.890625 \r\nL 13.625 40.484375 \r\nL 19.28125 40.484375 \r\nQ 37.3125 40.484375 37.3125 53.953125 \r\nQ 37.3125 66.40625 23.578125 66.40625 \r\nQ 15.96875 66.40625 9.28125 61.1875 \r\nL 9.28125 68.953125 \r\nQ 16.109375 73.046875 25.53125 73.046875 \r\nQ 34.125 73.046875 39.671875 68.3125 \r\nQ 45.21875 63.578125 45.21875 55.953125 \r\nQ 45.21875 41.84375 30.8125 37.640625 \r\nL 30.8125 37.5 \r\nQ 38.578125 36.8125 43.1875 32.078125 \r\nQ 47.796875 27.34375 47.796875 20.3125 \r\nQ 47.796875 10.5 40.6875 4.640625 \r\nQ 33.59375 -1.21875 22.65625 -1.21875 \r\nQ 12.59375 -1.21875 6.5 2.640625 \r\nz\r\n\" id=\"MalgunGothic-51\"/>\r\n     <path d=\"M 46.578125 63.578125 \r\nQ 40.921875 66.40625 34.8125 66.40625 \r\nQ 24.859375 66.40625 19.1875 57.640625 \r\nQ 13.53125 48.875 13.578125 34.578125 \r\nL 13.8125 34.578125 \r\nQ 18.796875 44.875 30.28125 44.875 \r\nQ 39.796875 44.875 45.359375 38.71875 \r\nQ 50.921875 32.5625 50.921875 22.65625 \r\nQ 50.921875 12.453125 44.640625 5.609375 \r\nQ 38.375 -1.21875 28.515625 -1.21875 \r\nQ 17.4375 -1.21875 11.5 7.46875 \r\nQ 5.5625 16.15625 5.5625 31.546875 \r\nQ 5.5625 49.703125 13.234375 61.375 \r\nQ 20.90625 73.046875 34.71875 73.046875 \r\nQ 42.1875 73.046875 46.578125 71 \r\nz\r\nM 14.15625 23.53125 \r\nQ 14.15625 15.96875 18.203125 10.671875 \r\nQ 22.265625 5.375 28.8125 5.375 \r\nQ 35.109375 5.375 39.03125 10.078125 \r\nQ 42.96875 14.796875 42.96875 21.6875 \r\nQ 42.96875 29.5 39.203125 33.859375 \r\nQ 35.453125 38.234375 28.71875 38.234375 \r\nQ 22.5625 38.234375 18.359375 33.953125 \r\nQ 14.15625 29.6875 14.15625 23.53125 \r\nz\r\n\" id=\"MalgunGothic-54\"/>\r\n     <path d=\"M 4.34375 34.46875 \r\nQ 4.34375 53.515625 10.546875 63.28125 \r\nQ 16.75 73.046875 28.421875 73.046875 \r\nQ 50.828125 73.046875 50.828125 36.234375 \r\nQ 50.828125 18.0625 44.59375 8.421875 \r\nQ 38.375 -1.21875 26.8125 -1.21875 \r\nQ 15.875 -1.21875 10.109375 8.125 \r\nQ 4.34375 17.484375 4.34375 34.46875 \r\nz\r\nM 12.25 34.859375 \r\nQ 12.25 5.375 27.640625 5.375 \r\nQ 42.921875 5.375 42.921875 35.296875 \r\nQ 42.921875 66.40625 28.03125 66.40625 \r\nQ 12.25 66.40625 12.25 34.859375 \r\nz\r\n\" id=\"MalgunGothic-48\"/>\r\n    </defs>\r\n    <g transform=\"translate(85.836852 69.040847)scale(0.1 -0.1)\">\r\n     <use xlink:href=\"#MalgunGothic-51\"/>\r\n     <use x=\"55.078125\" xlink:href=\"#MalgunGothic-54\"/>\r\n     <use x=\"110.15625\" xlink:href=\"#MalgunGothic-46\"/>\r\n     <use x=\"132.03125\" xlink:href=\"#MalgunGothic-48\"/>\r\n     <use x=\"187.109375\" xlink:href=\"#MalgunGothic-37\"/>\r\n    </g>\r\n   </g>\r\n   <g id=\"text_7\">\r\n    <!-- 청년 -->\r\n    <defs>\r\n     <path d=\"M 58.890625 33.203125 \r\nQ 43.109375 40.671875 35.984375 53.21875 \r\nQ 33.203125 47.21875 26.65625 41.015625 \r\nQ 20.125 34.8125 13.09375 31.296875 \r\nL 7.71875 36.921875 \r\nQ 17.625 40.484375 24.96875 48.6875 \r\nQ 32.328125 56.890625 32.328125 64.3125 \r\nL 32.328125 68.890625 \r\nL 10.796875 68.890625 \r\nL 10.796875 75.296875 \r\nL 32.328125 75.296875 \r\nL 32.328125 86.28125 \r\nL 39.59375 86.28125 \r\nL 39.59375 75.296875 \r\nL 61.078125 75.296875 \r\nL 61.078125 68.890625 \r\nL 39.59375 68.890625 \r\nL 39.59375 64.40625 \r\nQ 39.59375 57.234375 47.015625 49.5625 \r\nQ 54.4375 41.890625 63.8125 39.203125 \r\nz\r\nM 76.3125 31 \r\nL 76.3125 53.328125 \r\nL 57.8125 53.328125 \r\nL 57.8125 59.8125 \r\nL 76.3125 59.8125 \r\nL 76.3125 85.40625 \r\nL 83.59375 85.40625 \r\nL 83.59375 31 \r\nz\r\nM 54.6875 -7.421875 \r\nQ 39.9375 -7.421875 31.90625 -2.3125 \r\nQ 23.875 2.78125 23.875 10.890625 \r\nQ 23.875 19 31.875 24.046875 \r\nQ 39.890625 29.109375 54.6875 29.109375 \r\nQ 69.484375 29.109375 77.484375 24.046875 \r\nQ 85.5 19 85.5 10.890625 \r\nQ 85.5 2.78125 77.46875 -2.3125 \r\nQ 69.4375 -7.421875 54.6875 -7.421875 \r\nz\r\nM 54.6875 22.90625 \r\nQ 43.5 22.90625 37.59375 19.5 \r\nQ 31.6875 16.109375 31.6875 10.890625 \r\nQ 31.6875 5.609375 37.625 2.234375 \r\nQ 43.5625 -1.125 54.6875 -1.125 \r\nQ 65.765625 -1.125 71.71875 2.21875 \r\nQ 77.6875 5.5625 77.6875 10.890625 \r\nQ 77.6875 16.15625 71.78125 19.53125 \r\nQ 65.875 22.90625 54.6875 22.90625 \r\nz\r\n\" id=\"MalgunGothic-52397\"/>\r\n    </defs>\r\n    <g transform=\"translate(23.72529 181.314327)scale(0.1 -0.1)\">\r\n     <use xlink:href=\"#MalgunGothic-52397\"/>\r\n     <use x=\"100\" xlink:href=\"#MalgunGothic-45380\"/>\r\n    </g>\r\n   </g>\r\n   <g id=\"text_8\">\r\n    <!-- 26.5% -->\r\n    <defs>\r\n     <path d=\"M 48 21.921875 \r\nQ 48 11.28125 41.1875 5.03125 \r\nQ 34.375 -1.21875 22.953125 -1.21875 \r\nQ 12.9375 -1.21875 8.0625 1.765625 \r\nL 8.0625 10.15625 \r\nQ 15.53125 5.375 23.046875 5.375 \r\nQ 30.765625 5.375 35.46875 9.84375 \r\nQ 40.1875 14.3125 40.1875 21.4375 \r\nQ 40.1875 28.71875 35.390625 32.6875 \r\nQ 30.609375 36.671875 21.578125 36.671875 \r\nQ 15.53125 36.671875 9.421875 35.9375 \r\nL 11.859375 71.875 \r\nL 44.828125 71.875 \r\nL 44.828125 64.796875 \r\nL 18.84375 64.796875 \r\nL 17.28125 43.171875 \r\nQ 21.046875 43.5 24.171875 43.5 \r\nQ 35.359375 43.5 41.671875 37.71875 \r\nQ 48 31.9375 48 21.921875 \r\nz\r\n\" id=\"MalgunGothic-53\"/>\r\n    </defs>\r\n    <g transform=\"translate(63.003567 152.777843)scale(0.1 -0.1)\">\r\n     <use xlink:href=\"#MalgunGothic-50\"/>\r\n     <use x=\"55.078125\" xlink:href=\"#MalgunGothic-54\"/>\r\n     <use x=\"110.15625\" xlink:href=\"#MalgunGothic-46\"/>\r\n     <use x=\"132.03125\" xlink:href=\"#MalgunGothic-53\"/>\r\n     <use x=\"187.109375\" xlink:href=\"#MalgunGothic-37\"/>\r\n    </g>\r\n   </g>\r\n   <g id=\"text_9\">\r\n    <!-- 장년 -->\r\n    <defs>\r\n     <path d=\"M 80.078125 52.984375 \r\nL 80.078125 31.109375 \r\nL 72.796875 31.109375 \r\nL 72.796875 85.40625 \r\nL 80.078125 85.40625 \r\nL 80.078125 59.625 \r\nL 94.28125 59.625 \r\nL 94.28125 52.984375 \r\nz\r\nM 56.296875 36.1875 \r\nQ 50.09375 39.5 43.40625 45.9375 \r\nQ 36.71875 52.390625 34.1875 57.71875 \r\nQ 31.5 51.5625 25 44.578125 \r\nQ 18.5 37.59375 11.71875 33.796875 \r\nL 6.390625 38.8125 \r\nQ 16.75 43.84375 23.625 53.078125 \r\nQ 30.515625 62.3125 30.515625 72.3125 \r\nL 30.515625 74.703125 \r\nL 9.71875 74.703125 \r\nL 9.71875 81.203125 \r\nL 58.296875 81.203125 \r\nL 58.296875 74.703125 \r\nL 37.5 74.703125 \r\nL 37.5 72.3125 \r\nQ 37.5 62.890625 44.453125 54.25 \r\nQ 51.421875 45.609375 61.078125 41.5 \r\nz\r\nM 50.984375 -8.015625 \r\nQ 36.28125 -8.015625 28.296875 -2.90625 \r\nQ 20.3125 2.203125 20.3125 10.296875 \r\nQ 20.3125 18.359375 28.3125 23.4375 \r\nQ 36.328125 28.515625 50.984375 28.515625 \r\nQ 65.671875 28.515625 73.671875 23.453125 \r\nQ 81.6875 18.40625 81.6875 10.296875 \r\nQ 81.6875 2.15625 73.703125 -2.921875 \r\nQ 65.71875 -8.015625 50.984375 -8.015625 \r\nz\r\nM 50.984375 22.3125 \r\nQ 40.046875 22.3125 34.0625 18.984375 \r\nQ 28.078125 15.671875 28.078125 10.296875 \r\nQ 28.078125 4.828125 34.078125 1.5 \r\nQ 40.09375 -1.8125 50.984375 -1.8125 \r\nQ 62.015625 -1.8125 68.015625 1.53125 \r\nQ 74.03125 4.890625 74.03125 10.296875 \r\nQ 74.03125 15.625 68.015625 18.96875 \r\nQ 62.015625 22.3125 50.984375 22.3125 \r\nz\r\n\" id=\"MalgunGothic-51109\"/>\r\n    </defs>\r\n    <g transform=\"translate(182.791803 186.956279)scale(0.1 -0.1)\">\r\n     <use xlink:href=\"#MalgunGothic-51109\"/>\r\n     <use x=\"100\" xlink:href=\"#MalgunGothic-45380\"/>\r\n    </g>\r\n   </g>\r\n   <g id=\"text_10\">\r\n    <!-- 25.4% -->\r\n    <defs>\r\n     <path d=\"M 42.234375 71.875 \r\nL 42.234375 24.421875 \r\nL 51.703125 24.421875 \r\nL 51.703125 17.390625 \r\nL 42.234375 17.390625 \r\nL 42.234375 0 \r\nL 34.578125 0 \r\nL 34.578125 17.390625 \r\nL 0.78125 17.390625 \r\nL 0.78125 23.96875 \r\nQ 11.375 35.890625 20.234375 48.578125 \r\nQ 29.109375 61.28125 33.9375 71.875 \r\nz\r\nM 9.765625 24.421875 \r\nL 34.578125 24.421875 \r\nL 34.578125 59.859375 \r\nQ 25.203125 43.5625 14.984375 30.953125 \r\nz\r\n\" id=\"MalgunGothic-52\"/>\r\n    </defs>\r\n    <g transform=\"translate(138.858029 155.855271)scale(0.1 -0.1)\">\r\n     <use xlink:href=\"#MalgunGothic-50\"/>\r\n     <use x=\"55.078125\" xlink:href=\"#MalgunGothic-53\"/>\r\n     <use x=\"110.15625\" xlink:href=\"#MalgunGothic-46\"/>\r\n     <use x=\"132.03125\" xlink:href=\"#MalgunGothic-52\"/>\r\n     <use x=\"187.109375\" xlink:href=\"#MalgunGothic-37\"/>\r\n    </g>\r\n   </g>\r\n  </g>\r\n </g>\r\n</svg>\r\n",
      "image/png": "[encoded data removed]"
     },
     "metadata": {}
    }
   ],
   "source": [
    "# 6 나이분류를 파이차트로 표시하시요\n",
    "ageDF = titanic_ageCla.groupBy('age_Cla').count().toPandas()\n",
    "ageDF\n",
    "plt.pie(ageDF['count'],labels=ageDF['age_Cla'],autopct='%1.1f%%')\n",
    "plt.show()"
   ]
  }
 ],
 "metadata": {
  "kernelspec": {
   "display_name": "Python 3",
   "language": "python",
   "name": "python3"
  },
  "language_info": {
   "codemirror_mode": {
    "name": "ipython",
    "version": 3
   },
   "file_extension": ".py",
   "mimetype": "text/x-python",
   "name": "python",
   "nbconvert_exporter": "python",
   "pygments_lexer": "ipython3",
   "version": "3.7.6-final"
  }
 },
 "nbformat": 4,
 "nbformat_minor": 4
}