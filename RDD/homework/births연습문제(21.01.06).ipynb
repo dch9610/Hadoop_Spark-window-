{
 "cells": [
  {
   "cell_type": "code",
   "execution_count": 31,
   "metadata": {},
   "outputs": [],
   "source": [
    "from pyspark import SparkContext\n",
    "from pyspark.sql import SQLContext, Row\n",
    "import pandas as pd\n",
    "import numpy as np\n",
    "\n",
    "import matplotlib.pyplot as plt\n",
    "import matplotlib\n",
    "matplotlib.rcParams['font.family']='Malgun Gothic'\n",
    "matplotlib.rcParams['axes.unicode_minus']=False\n",
    "\n",
    "# sql 함수 사용\n",
    "from pyspark.sql.functions import when, udf, col, regexp_replace\n",
    "# sql 타입변경\n",
    "from pyspark.sql.types import DoubleType,IntegerType, StringType"
   ]
  },
  {
   "cell_type": "code",
   "execution_count": 2,
   "metadata": {},
   "outputs": [],
   "source": [
    "sc = SparkContext('local') # 'spark://ip:7070'\n",
    "sqlCtx = SQLContext( sc )"
   ]
  },
  {
   "cell_type": "code",
   "execution_count": 5,
   "metadata": {
    "scrolled": true
   },
   "outputs": [
    {
     "data": {
      "text/plain": [
       "DataFrame[_c0: int, _c1: double, _c2: double]"
      ]
     },
     "execution_count": 5,
     "metadata": {},
     "output_type": "execute_result"
    }
   ],
   "source": [
    "df = sqlCtx.read.csv(r'c:\\data\\births.txt',inferSchema=True)\n",
    "df"
   ]
  },
  {
   "cell_type": "code",
   "execution_count": 21,
   "metadata": {},
   "outputs": [],
   "source": [
    "# 컬럼명 변경\n",
    "df = df.withColumnRenamed('_c0','year').\\\n",
    "        withColumnRenamed('_c1','boys').\\\n",
    "        withColumnRenamed('_c2','girls')"
   ]
  },
  {
   "cell_type": "code",
   "execution_count": 25,
   "metadata": {},
   "outputs": [
    {
     "name": "stdout",
     "output_type": "stream",
     "text": [
      "root\n",
      " |-- year: integer (nullable = true)\n",
      " |-- boys: double (nullable = true)\n",
      " |-- girls: double (nullable = true)\n",
      "\n"
     ]
    }
   ],
   "source": [
    "df.printSchema()"
   ]
  },
  {
   "cell_type": "code",
   "execution_count": 22,
   "metadata": {
    "scrolled": true
   },
   "outputs": [
    {
     "name": "stdout",
     "output_type": "stream",
     "text": [
      "+----+--------+--------+\n",
      "|year|    boys|   girls|\n",
      "+----+--------+--------+\n",
      "|1880| 90993.0|110491.0|\n",
      "|1881| 91954.0|100745.0|\n",
      "|1882|107850.0|113688.0|\n",
      "|1883|112321.0|104629.0|\n",
      "|1884|129022.0|114445.0|\n",
      "|1885|133055.0|107800.0|\n",
      "|1886|144535.0|110784.0|\n",
      "|1887|145982.0|101414.0|\n",
      "|1888|178627.0|120853.0|\n",
      "|1889|178366.0|110584.0|\n",
      "|1890|190377.0|111025.0|\n",
      "|1891|185482.0|101196.0|\n",
      "|1892|212346.0|122037.0|\n",
      "|1893|212906.0|112317.0|\n",
      "|1894|222922.0|115772.0|\n",
      "|1895|233630.0|117398.0|\n",
      "|1896|237920.0|119570.0|\n",
      "|1897|234202.0|112758.0|\n",
      "|1898|258770.0|122693.0|\n",
      "|1899|233023.0|106212.0|\n",
      "+----+--------+--------+\n",
      "only showing top 20 rows\n",
      "\n"
     ]
    }
   ],
   "source": [
    "df.show()"
   ]
  },
  {
   "cell_type": "markdown",
   "metadata": {},
   "source": [
    "### 1. 2000년도 이후 데이터를 구하시요\n"
   ]
  },
  {
   "cell_type": "code",
   "execution_count": 52,
   "metadata": {},
   "outputs": [
    {
     "name": "stdout",
     "output_type": "stream",
     "text": [
      "+----+---------+---------+\n",
      "|year|     boys|    girls|\n",
      "+----+---------+---------+\n",
      "|2000|1814601.0|1962406.0|\n",
      "|2001|1799049.0|1941251.0|\n",
      "|2002|1795206.0|1939815.0|\n",
      "|2003|1825359.0|1973434.0|\n",
      "|2004|1834145.0|1982794.0|\n",
      "|2005|1845379.0|1994841.0|\n",
      "|2006|1898463.0|2052377.0|\n",
      "|2007|1919408.0|2072139.0|\n",
      "|2008|1887234.0|2036289.0|\n",
      "|2009|1832925.0|1979303.0|\n",
      "|2010|1772738.0|1913851.0|\n",
      "|2011|1753500.0|1893230.0|\n",
      "+----+---------+---------+\n",
      "\n"
     ]
    }
   ],
   "source": [
    "a=2000\n",
    "df.where(f'year >= {a}').show()"
   ]
  },
  {
   "cell_type": "markdown",
   "metadata": {},
   "source": [
    "### 2. 1995~2000 년도 데이터를 구하시요"
   ]
  },
  {
   "cell_type": "code",
   "execution_count": 53,
   "metadata": {},
   "outputs": [
    {
     "name": "stdout",
     "output_type": "stream",
     "text": [
      "+----+---------+---------+\n",
      "|year|     boys|    girls|\n",
      "+----+---------+---------+\n",
      "|1995|1757927.0|1902832.0|\n",
      "|1996|1752249.0|1893378.0|\n",
      "|1997|1739806.0|1884122.0|\n",
      "|1998|1765915.0|1910250.0|\n",
      "|1999|1772632.0|1918809.0|\n",
      "|2000|1814601.0|1962406.0|\n",
      "+----+---------+---------+\n",
      "\n"
     ]
    }
   ],
   "source": [
    "a=1995\n",
    "b=2000\n",
    "df.where(f'year between {a} and {b} ').show()"
   ]
  },
  {
   "cell_type": "markdown",
   "metadata": {},
   "source": [
    "### 3. 남아출생이 가장많은 top5를 구하시요(년도,남아수 출력)"
   ]
  },
  {
   "cell_type": "code",
   "execution_count": 51,
   "metadata": {},
   "outputs": [
    {
     "name": "stdout",
     "output_type": "stream",
     "text": [
      "+----+---------+\n",
      "|year|     boys|\n",
      "+----+---------+\n",
      "|1957|2044160.0|\n",
      "|1959|2023044.0|\n",
      "|1960|2022093.0|\n",
      "|1961|2017316.0|\n",
      "|1958|2010884.0|\n",
      "+----+---------+\n",
      "only showing top 5 rows\n",
      "\n"
     ]
    }
   ],
   "source": [
    "df.select('year','boys').orderBy('boys', ascending= False ).show(5)"
   ]
  },
  {
   "cell_type": "markdown",
   "metadata": {},
   "source": [
    "### 4. 남아율(%)컬럼을 추가하고 각년도별 남아수가 차지하는 비율을 보여주시요"
   ]
  },
  {
   "cell_type": "code",
   "execution_count": 55,
   "metadata": {},
   "outputs": [
    {
     "data": {
      "text/html": [
       "<div>\n",
       "<style scoped>\n",
       "    .dataframe tbody tr th:only-of-type {\n",
       "        vertical-align: middle;\n",
       "    }\n",
       "\n",
       "    .dataframe tbody tr th {\n",
       "        vertical-align: top;\n",
       "    }\n",
       "\n",
       "    .dataframe thead th {\n",
       "        text-align: right;\n",
       "    }\n",
       "</style>\n",
       "<table border=\"1\" class=\"dataframe\">\n",
       "  <thead>\n",
       "    <tr style=\"text-align: right;\">\n",
       "      <th></th>\n",
       "      <th>year</th>\n",
       "      <th>boys</th>\n",
       "      <th>girls</th>\n",
       "      <th>boys_per</th>\n",
       "    </tr>\n",
       "  </thead>\n",
       "  <tbody>\n",
       "    <tr>\n",
       "      <th>0</th>\n",
       "      <td>1880</td>\n",
       "      <td>90993.0</td>\n",
       "      <td>110491.0</td>\n",
       "      <td>45.161402</td>\n",
       "    </tr>\n",
       "    <tr>\n",
       "      <th>1</th>\n",
       "      <td>1881</td>\n",
       "      <td>91954.0</td>\n",
       "      <td>100745.0</td>\n",
       "      <td>47.718981</td>\n",
       "    </tr>\n",
       "    <tr>\n",
       "      <th>2</th>\n",
       "      <td>1882</td>\n",
       "      <td>107850.0</td>\n",
       "      <td>113688.0</td>\n",
       "      <td>48.682393</td>\n",
       "    </tr>\n",
       "    <tr>\n",
       "      <th>3</th>\n",
       "      <td>1883</td>\n",
       "      <td>112321.0</td>\n",
       "      <td>104629.0</td>\n",
       "      <td>51.772759</td>\n",
       "    </tr>\n",
       "    <tr>\n",
       "      <th>4</th>\n",
       "      <td>1884</td>\n",
       "      <td>129022.0</td>\n",
       "      <td>114445.0</td>\n",
       "      <td>52.993630</td>\n",
       "    </tr>\n",
       "    <tr>\n",
       "      <th>...</th>\n",
       "      <td>...</td>\n",
       "      <td>...</td>\n",
       "      <td>...</td>\n",
       "      <td>...</td>\n",
       "    </tr>\n",
       "    <tr>\n",
       "      <th>127</th>\n",
       "      <td>2007</td>\n",
       "      <td>1919408.0</td>\n",
       "      <td>2072139.0</td>\n",
       "      <td>48.086819</td>\n",
       "    </tr>\n",
       "    <tr>\n",
       "      <th>128</th>\n",
       "      <td>2008</td>\n",
       "      <td>1887234.0</td>\n",
       "      <td>2036289.0</td>\n",
       "      <td>48.100495</td>\n",
       "    </tr>\n",
       "    <tr>\n",
       "      <th>129</th>\n",
       "      <td>2009</td>\n",
       "      <td>1832925.0</td>\n",
       "      <td>1979303.0</td>\n",
       "      <td>48.080152</td>\n",
       "    </tr>\n",
       "    <tr>\n",
       "      <th>130</th>\n",
       "      <td>2010</td>\n",
       "      <td>1772738.0</td>\n",
       "      <td>1913851.0</td>\n",
       "      <td>48.086131</td>\n",
       "    </tr>\n",
       "    <tr>\n",
       "      <th>131</th>\n",
       "      <td>2011</td>\n",
       "      <td>1753500.0</td>\n",
       "      <td>1893230.0</td>\n",
       "      <td>48.084174</td>\n",
       "    </tr>\n",
       "  </tbody>\n",
       "</table>\n",
       "<p>132 rows × 4 columns</p>\n",
       "</div>"
      ],
      "text/plain": [
       "     year       boys      girls   boys_per\n",
       "0    1880    90993.0   110491.0  45.161402\n",
       "1    1881    91954.0   100745.0  47.718981\n",
       "2    1882   107850.0   113688.0  48.682393\n",
       "3    1883   112321.0   104629.0  51.772759\n",
       "4    1884   129022.0   114445.0  52.993630\n",
       "..    ...        ...        ...        ...\n",
       "127  2007  1919408.0  2072139.0  48.086819\n",
       "128  2008  1887234.0  2036289.0  48.100495\n",
       "129  2009  1832925.0  1979303.0  48.080152\n",
       "130  2010  1772738.0  1913851.0  48.086131\n",
       "131  2011  1753500.0  1893230.0  48.084174\n",
       "\n",
       "[132 rows x 4 columns]"
      ]
     },
     "execution_count": 55,
     "metadata": {},
     "output_type": "execute_result"
    }
   ],
   "source": [
    "df.withColumn('boys_per',((df['boys'])/(df['boys']+df['girls']))*100).toPandas()"
   ]
  },
  {
   "cell_type": "markdown",
   "metadata": {},
   "source": [
    "### 5. 2000년도 이후 데이터를 바차트로 보여주시요"
   ]
  },
  {
   "cell_type": "code",
   "execution_count": 32,
   "metadata": {
    "scrolled": true
   },
   "outputs": [],
   "source": [
    "df_pd = df.where('year>=2000').toPandas()"
   ]
  },
  {
   "cell_type": "code",
   "execution_count": 41,
   "metadata": {},
   "outputs": [],
   "source": [
    "df_pd.set_index('year', inplace=True)"
   ]
  },
  {
   "cell_type": "code",
   "execution_count": 42,
   "metadata": {
    "scrolled": false
   },
   "outputs": [
    {
     "data": {
      "text/plain": [
       "<matplotlib.axes._subplots.AxesSubplot at 0x743c6d0>"
      ]
     },
     "execution_count": 42,
     "metadata": {},
     "output_type": "execute_result"
    },
    {
     "data": {
      "image/png": "[encoded data removed]",
      "text/plain": [
       "<Figure size 432x288 with 1 Axes>"
      ]
     },
     "metadata": {
      "needs_background": "light"
     },
     "output_type": "display_data"
    }
   ],
   "source": [
    "df_pd.plot(kind='bar')"
   ]
  },
  {
   "cell_type": "code",
   "execution_count": 56,
   "metadata": {},
   "outputs": [],
   "source": [
    "sc.stop()"
   ]
  }
 ],
 "metadata": {
  "kernelspec": {
   "display_name": "Python 3",
   "language": "python",
   "name": "python3"
  },
  "language_info": {
   "codemirror_mode": {
    "name": "ipython",
    "version": 3
   },
   "file_extension": ".py",
   "mimetype": "text/x-python",
   "name": "python",
   "nbconvert_exporter": "python",
   "pygments_lexer": "ipython3",
   "version": "3.7.6"
  }
 },
 "nbformat": 4,
 "nbformat_minor": 4
}
