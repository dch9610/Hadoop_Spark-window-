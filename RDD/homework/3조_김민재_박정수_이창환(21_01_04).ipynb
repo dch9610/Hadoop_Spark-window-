{
 "cells": [
  {
   "cell_type": "code",
   "execution_count": 1,
   "metadata": {},
   "outputs": [],
   "source": [
    "from pyspark import SparkContext\n",
    "from pyspark.sql import SQLContext, Row\n",
    "import pandas as pd\n",
    "import numpy as np\n",
    "import matplotlib.pyplot as plt\n",
    "import matplotlib\n",
    "\n",
    "matplotlib.rcParams['font.family']='Malgun Gothic'\n",
    "matplotlib.rcParams['axes.unicode_minus'] = False\n",
    "\n",
    "plt.rcParams[\"font.size\"] = 15"
   ]
  },
  {
   "cell_type": "code",
   "execution_count": 2,
   "metadata": {},
   "outputs": [],
   "source": [
    "sc = SparkContext('local')\n",
    "sqlCtx = SQLContext( sc )"
   ]
  },
  {
   "cell_type": "markdown",
   "metadata": {},
   "source": [
    "## 1. k.txt 에 있는 단어의 갯수를 구하시오."
   ]
  },
  {
   "cell_type": "code",
   "execution_count": 3,
   "metadata": {},
   "outputs": [],
   "source": [
    "k = sc.textFile('../data/data1/k.txt')"
   ]
  },
  {
   "cell_type": "code",
   "execution_count": 4,
   "metadata": {},
   "outputs": [
    {
     "data": {
      "text/plain": [
       "[('원내대표는', 7),\n",
       " ('질문에', 7),\n",
       " ('것은', 5),\n",
       " ('여야', 4),\n",
       " ('하는', 4),\n",
       " ('말했다.', 4),\n",
       " ('3당', 3),\n",
       " ('위해', 3),\n",
       " ('문', 3),\n",
       " ('이인영', 3),\n",
       " ('나경원', 3),\n",
       " ('오신환', 3),\n",
       " ('바른미래당', 3),\n",
       " ('회동을', 3),\n",
       " ('갖고', 3),\n",
       " ('국회정상화에', 3),\n",
       " ('민주당', 3),\n",
       " ('6월', 3),\n",
       " ('후보자', 3),\n",
       " ('국세청장', 3),\n",
       " ('기자들과', 3),\n",
       " ('만나', 3),\n",
       " ('전했다.', 3),\n",
       " ('게', 3),\n",
       " ('나', 3),\n",
       " ('대한', 3),\n",
       " (\"것이냐'는\", 3),\n",
       " ('국회에서', 3),\n",
       " ('생각한다\"고', 3),\n",
       " ('문희상', 2),\n",
       " ('국회의장과', 2),\n",
       " ('교섭단체', 2),\n",
       " ('18일', 2),\n",
       " ('국회정상화를', 2),\n",
       " ('자유한국당,', 2),\n",
       " ('오후', 2),\n",
       " ('이', 2),\n",
       " ('합의할', 2),\n",
       " ('요청한', 2),\n",
       " ('것으로', 2),\n",
       " ('한국당이', 2),\n",
       " ('경우', 2),\n",
       " ('윤석열', 2),\n",
       " ('검찰총장', 2),\n",
       " ('김현준', 2),\n",
       " ('일정이', 2),\n",
       " ('제대로', 2),\n",
       " ('합의를', 2),\n",
       " ('이어', 2),\n",
       " ('묻는', 2),\n",
       " ('것', 2),\n",
       " ('후보자에', 2),\n",
       " ('한', 2),\n",
       " ('것이', 2),\n",
       " ('일부', 2),\n",
       " ('문제가', 2),\n",
       " ('그', 2),\n",
       " ('국회가', 2),\n",
       " ('있다.', 2),\n",
       " ('대해', 2),\n",
       " ('민주당이', 2),\n",
       " ('대승적', 2),\n",
       " ('오', 2),\n",
       " ('있는', 2),\n",
       " ('위한', 2),\n",
       " ('해야', 2),\n",
       " ('대표가', 1),\n",
       " ('머리를', 1),\n",
       " ('맞댔지만', 1),\n",
       " ('의미있는', 1),\n",
       " ('결론을', 1),\n",
       " ('내리지', 1),\n",
       " ('못했다.', 1),\n",
       " ('의장과', 1),\n",
       " ('더불어민주당,', 1),\n",
       " ('이날', 1),\n",
       " ('국회의장실에서', 1),\n",
       " ('국회정상화', 1),\n",
       " ('방안을', 1),\n",
       " ('논의했으나', 1),\n",
       " ('의사일정을', 1),\n",
       " ('잡는데', 1),\n",
       " ('실패했다.', 1),\n",
       " ('의장은', 1),\n",
       " ('자리에서', 1),\n",
       " ('원내대표에게', 1),\n",
       " ('조속한', 1),\n",
       " ('시일', 1),\n",
       " ('내에', 1),\n",
       " ('것을', 1),\n",
       " ('알려졌다.', 1),\n",
       " ('전날', 1),\n",
       " ('한국당을', 1),\n",
       " ('제외한', 1),\n",
       " ('바른미래당,', 1),\n",
       " ('민주평화당,', 1),\n",
       " ('정의당', 1),\n",
       " ('등', 1),\n",
       " ('야3당과', 1),\n",
       " ('소속', 1),\n",
       " ('의원들을', 1),\n",
       " ('합해', 1),\n",
       " ('98명이', 1),\n",
       " ('임시국회', 1),\n",
       " ('소집요구서를', 1),\n",
       " ('제출,', 1),\n",
       " ('임시국회가', 1),\n",
       " ('반쪽으로', 1),\n",
       " ('출발하게', 1),\n",
       " ('됐지만,', 1),\n",
       " ('끝내', 1),\n",
       " ('국회로', 1),\n",
       " ('복귀하지', 1),\n",
       " ('않을', 1),\n",
       " ('임시국회도', 1),\n",
       " ('난항이', 1),\n",
       " ('예상된다.', 1),\n",
       " ('더욱이', 1),\n",
       " ('추가경정예산안을', 1),\n",
       " ('비롯해', 1),\n",
       " ('인사청문회,', 1),\n",
       " ('인사청문회등', 1),\n",
       " ('굵직한', 1),\n",
       " ('남아있지만', 1),\n",
       " ('한국당의', 1),\n",
       " ('협조', 1),\n",
       " ('없이는', 1),\n",
       " ('이들', 1),\n",
       " ('진행되기', 1),\n",
       " ('어려워', 1),\n",
       " ('일각에서는', 1),\n",
       " ('임시국회만', 1),\n",
       " ('소집해놓고', 1),\n",
       " ('허송세월', 1),\n",
       " ('하는게', 1),\n",
       " ('아니냐', 1),\n",
       " ('우려의', 1),\n",
       " ('목소리가', 1),\n",
       " ('나온다.', 1),\n",
       " ('회동', 1),\n",
       " ('직후', 1),\n",
       " (\"'의사일정에\", 1),\n",
       " (\"했느냐'는\", 1),\n",
       " ('기자들의', 1),\n",
       " ('\"안됐다\"면서', 1),\n",
       " ('\"의장님께서', 1),\n",
       " ('합의하라고', 1),\n",
       " ('말씀을', 1),\n",
       " ('하셨는데', 1),\n",
       " ('이견이', 1),\n",
       " ('아직', 1),\n",
       " ('해소될', 1),\n",
       " ('상황이', 1),\n",
       " ('아니다\"고', 1),\n",
       " ('다음', 1),\n",
       " ('질문에도', 1),\n",
       " ('\"아직은', 1),\n",
       " ('모르겠다\"고', 1),\n",
       " ('한국당', 1),\n",
       " ('원내대표도', 1),\n",
       " (\"'회동에서\", 1),\n",
       " (\"있느냐'는\", 1),\n",
       " ('\"오늘은', 1),\n",
       " ('특별히', 1),\n",
       " ('말씀드린', 1),\n",
       " ('없는', 1),\n",
       " ('같다\"고', 1),\n",
       " ('답했다.', 1),\n",
       " ('특히', 1),\n",
       " (\"'기획재정위원회에서\", 1),\n",
       " ('인사청문회', 1),\n",
       " ('개최에', 1),\n",
       " ('응하겠다는', 1),\n",
       " (\"이야기냐'는\", 1),\n",
       " ('\"최종적으로', 1),\n",
       " ('아닌데', 1),\n",
       " ('소통에', 1),\n",
       " ('있었던', 1),\n",
       " ('같다\"며', 1),\n",
       " ('\"청문회', 1),\n",
       " ('부분은', 1),\n",
       " ('적극적으로', 1),\n",
       " ('들여다보고', 1),\n",
       " ('있다\"고', 1),\n",
       " ('그는', 1),\n",
       " (\"'소통의\", 1),\n",
       " ('있다는', 1),\n",
       " ('청문회가', 1),\n",
       " ('확정되지', 1),\n",
       " ('않았다는', 1),\n",
       " ('\"네.', 1),\n",
       " ('저도', 1),\n",
       " ('조금', 1),\n",
       " ('더', 1),\n",
       " ('확인해보겠다\"고', 1),\n",
       " ('했다.', 1),\n",
       " ('앞서', 1),\n",
       " ('국회', 1),\n",
       " ('기재위', 1),\n",
       " ('여당', 1),\n",
       " ('간사인', 1),\n",
       " ('김정우', 1),\n",
       " ('의원이', 1),\n",
       " ('자유한국당을', 1),\n",
       " ('포함한', 1),\n",
       " ('간사가', 1),\n",
       " ('합의에', 1),\n",
       " ('김', 1),\n",
       " ('인사청문회를', 1),\n",
       " ('오는', 1),\n",
       " ('26일', 1),\n",
       " ('실시하기로', 1),\n",
       " ('합의했다고', 1),\n",
       " ('밝혔지만', 1),\n",
       " ('원내대표에', 1),\n",
       " ('따르면', 1),\n",
       " ('일정도', 1),\n",
       " ('확정이', 1),\n",
       " ('안된', 1),\n",
       " ('보인다.', 1),\n",
       " ('다만', 1),\n",
       " (\"'국회\", 1),\n",
       " ('소집요구가', 1),\n",
       " ('20일인데', 1),\n",
       " ('전에', 1),\n",
       " ('의사일정에', 1),\n",
       " ('\"국회를', 1),\n",
       " ('정상국회로', 1),\n",
       " ('만들고,', 1),\n",
       " ('정말', 1),\n",
       " ('대한민국의', 1),\n",
       " ('미래,', 1),\n",
       " ('경제와', 1),\n",
       " ('민생을', 1),\n",
       " ('살리는', 1),\n",
       " ('되기', 1),\n",
       " ('계속', 1),\n",
       " ('노력하겠다\"고', 1),\n",
       " ('원내대표들이', 1),\n",
       " ('서울', 1),\n",
       " ('여의도', 1),\n",
       " ('왼쪽부터', 1),\n",
       " ('더불어민주당', 1),\n",
       " ('원내대표,', 1),\n",
       " ('의장,', 1),\n",
       " ('원내대표.', 1),\n",
       " ('2019.6.18/뉴스1', 1),\n",
       " ('©', 1),\n",
       " ('News1', 1),\n",
       " ('임세영', 1),\n",
       " ('기자', 1),\n",
       " ('\"집권여당은', 1),\n",
       " ('국정운영에', 1),\n",
       " ('무한', 1),\n",
       " ('책임을', 1),\n",
       " ('지고', 1),\n",
       " ('부분에', 1),\n",
       " ('된', 1),\n",
       " ('결단을', 1),\n",
       " ('내려주길', 1),\n",
       " ('바라고,', 1),\n",
       " ('한국당은', 1),\n",
       " ('조건없는', 1),\n",
       " ('참여하기를', 1),\n",
       " ('바라는', 1),\n",
       " ('마음\"이라고', 1),\n",
       " ('밝혔다.', 1),\n",
       " (\"'여당의\", 1),\n",
       " ('결단이라고', 1),\n",
       " ('함은', 1),\n",
       " ('경제청문회를', 1),\n",
       " ('받아줘야', 1),\n",
       " ('한다는', 1),\n",
       " ('\"집권여당으로서', 1),\n",
       " ('포용하고', 1),\n",
       " ('양보하는', 1),\n",
       " ('숙명이라고', 1),\n",
       " ('생각한다\"며', 1),\n",
       " ('\"야당이', 1),\n",
       " ('경제문제에', 1),\n",
       " ('문제제기를', 1),\n",
       " ('당연한', 1),\n",
       " ('아니냐.', 1),\n",
       " ('청문회건', 1),\n",
       " ('어떤', 1),\n",
       " ('형태가', 1),\n",
       " ('되건', 1),\n",
       " ('정부를', 1),\n",
       " ('상대로', 1),\n",
       " ('할', 1),\n",
       " ('수', 1),\n",
       " ('이야기', 1),\n",
       " ('자체를', 1),\n",
       " ('차단하고', 1),\n",
       " ('못하게', 1),\n",
       " ('올지', 1),\n",
       " ('않다고', 1),\n",
       " ('위원장인', 1),\n",
       " ('상임위의', 1),\n",
       " ('여당이', 1),\n",
       " ('사회권을', 1),\n",
       " ('발동하는', 1),\n",
       " ('것에', 1),\n",
       " ('바른미래당의', 1),\n",
       " ('동참', 1),\n",
       " ('여부를', 1),\n",
       " ('\"그런', 1),\n",
       " ('행동', 1),\n",
       " ('자체가', 1),\n",
       " ('무책임하다고', 1),\n",
       " ('본다\"며', 1),\n",
       " ('\"그것이', 1),\n",
       " ('과연', 1),\n",
       " ('국회를', 1),\n",
       " ('정상적으로', 1),\n",
       " ('운영하기', 1),\n",
       " ('마음을', 1),\n",
       " ('것인지,', 1),\n",
       " ('장기적으로', 1),\n",
       " ('추경을', 1),\n",
       " ('처리하고', 1),\n",
       " ('상임위', 1),\n",
       " ('내에서', 1),\n",
       " ('법안을', 1),\n",
       " ('심사하고', 1),\n",
       " ('국민을', 1),\n",
       " ('국회활동이', 1),\n",
       " ('될', 1),\n",
       " ('것인지에', 1),\n",
       " ('판단을', 1),\n",
       " ('한다고', 1),\n",
       " ('인사청문회와', 1),\n",
       " ('관련', 1),\n",
       " ('\"인사청문회는', 1),\n",
       " ('당연히', 1),\n",
       " ('절차에', 1),\n",
       " ('따라', 1),\n",
       " ('것\"이라며', 1),\n",
       " ('\"윤', 1),\n",
       " ('후보자가', 1),\n",
       " ('적임자인지', 1),\n",
       " ('여부는', 1),\n",
       " ('국민의', 1),\n",
       " ('눈높이에', 1),\n",
       " ('맞게', 1),\n",
       " ('합리적인', 1),\n",
       " ('인사청문', 1),\n",
       " ('절차를', 1),\n",
       " ('밟아가는', 1),\n",
       " ('마땅하다고', 1)]"
      ]
     },
     "execution_count": 4,
     "metadata": {},
     "output_type": "execute_result"
    }
   ],
   "source": [
    "k.flatMap( lambda x: x.split() ).map( lambda x: (x,1) ).reduceByKey(lambda a,b: a+b ).sortBy(lambda v: v[1], ascending=False ).collect()"
   ]
  },
  {
   "cell_type": "markdown",
   "metadata": {},
   "source": [
    "## 2. births.txt 파일을 이용하여 구하시오"
   ]
  },
  {
   "cell_type": "code",
   "execution_count": 5,
   "metadata": {},
   "outputs": [],
   "source": [
    "birth = sc.textFile('../data/data1/births.txt')"
   ]
  },
  {
   "cell_type": "code",
   "execution_count": 6,
   "metadata": {},
   "outputs": [
    {
     "data": {
      "text/plain": [
       "[['1880', ' 90993', ' 110491'],\n",
       " ['1881', ' 91954', ' 100745'],\n",
       " ['1882', ' 107850', ' 113688'],\n",
       " ['1883', ' 112321', ' 104629'],\n",
       " ['1884', ' 129022', ' 114445'],\n",
       " ['1885', ' 133055', ' 107800'],\n",
       " ['1886', ' 144535', ' 110784'],\n",
       " ['1887', ' 145982', ' 101414'],\n",
       " ['1888', ' 178627', ' 120853'],\n",
       " ['1889', ' 178366', ' 110584'],\n",
       " ['1890', ' 190377', ' 111025'],\n",
       " ['1891', ' 185482', ' 101196'],\n",
       " ['1892', ' 212346', ' 122037'],\n",
       " ['1893', ' 212906', ' 112317'],\n",
       " ['1894', ' 222922', ' 115772'],\n",
       " ['1895', ' 233630', ' 117398'],\n",
       " ['1896', ' 237920', ' 119570'],\n",
       " ['1897', ' 234202', ' 112758'],\n",
       " ['1898', ' 258770', ' 122693'],\n",
       " ['1899', ' 233023', ' 106212'],\n",
       " ['1900', ' 299828', ' 150499'],\n",
       " ['1901', ' 239348', ' 106471'],\n",
       " ['1902', ' 264077', ' 122659'],\n",
       " ['1903', ' 261973', ' 119234'],\n",
       " ['1904', ' 275371', ' 128125'],\n",
       " ['1905', ' 291629', ' 132319'],\n",
       " ['1906', ' 295303', ' 133159'],\n",
       " ['1907', ' 318566', ' 146833'],\n",
       " ['1908', ' 334313', ' 154344'],\n",
       " ['1909', ' 347228', ' 163999'],\n",
       " ['1910', ' 396501', ' 194218'],\n",
       " ['1911', ' 418299', ' 225968'],\n",
       " ['1912', ' 558103', ' 429945'],\n",
       " ['1913', ' 624518', ' 512557'],\n",
       " ['1914', ' 761548', ' 654762'],\n",
       " ['1915', ' 983874', ' 848603'],\n",
       " ['1916', ' 1044323', ' 890099'],\n",
       " ['1917', ' 1081280', ' 925511'],\n",
       " ['1918', ' 1157647', ' 1013537'],\n",
       " ['1919', ' 1130145', ' 980149'],\n",
       " ['1920', ' 1198283', ' 1064463'],\n",
       " ['1921', ' 1232999', ' 1101457'],\n",
       " ['1922', ' 1200919', ' 1088287'],\n",
       " ['1923', ' 1206330', ' 1096168'],\n",
       " ['1924', ' 1248876', ' 1132751'],\n",
       " ['1925', ' 1217352', ' 1115958'],\n",
       " ['1926', ' 1185304', ' 1110505'],\n",
       " ['1927', ' 1192330', ' 1126717'],\n",
       " ['1928', ' 1153117', ' 1107518'],\n",
       " ['1929', ' 1116422', ' 1075313'],\n",
       " ['1930', ' 1125761', ' 1097176'],\n",
       " ['1931', ' 1064497', ' 1039127'],\n",
       " ['1932', ' 1066994', ' 1043808'],\n",
       " ['1933', ' 1007710', ' 991127'],\n",
       " ['1934', ' 1044039', ' 1032291'],\n",
       " ['1935', ' 1048428', ' 1040930'],\n",
       " ['1936', ' 1040202', ' 1036974'],\n",
       " ['1937', ' 1063872', ' 1066309'],\n",
       " ['1938', ' 1103277', ' 1108841'],\n",
       " ['1939', ' 1096518', ' 1106544'],\n",
       " ['1940', ' 1143325', ' 1158900'],\n",
       " ['1941', ' 1207919', ' 1227941'],\n",
       " ['1942', ' 1350545', ' 1380774'],\n",
       " ['1943', ' 1395082', ' 1426846'],\n",
       " ['1944', ' 1327104', ' 1362555'],\n",
       " ['1945', ' 1307028', ' 1345610'],\n",
       " ['1946', ' 1571184', ' 1623650'],\n",
       " ['1947', ' 1772644', ' 1829223'],\n",
       " ['1948', ' 1697814', ' 1754469'],\n",
       " ['1949', ' 1710825', ' 1773725'],\n",
       " ['1950', ' 1713180', ' 1790673'],\n",
       " ['1951', ' 1800042', ' 1881080'],\n",
       " ['1952', ' 1854698', ' 1944277'],\n",
       " ['1953', ' 1880326', ' 1969777'],\n",
       " ['1954', ' 1941682', ' 2037374'],\n",
       " ['1955', ' 1954664', ' 2057918'],\n",
       " ['1956', ' 2007512', ' 2113694'],\n",
       " ['1957', ' 2044160', ' 2155866'],\n",
       " ['1958', ' 2010884', ' 2120712'],\n",
       " ['1959', ' 2023044', ' 2133509'],\n",
       " ['1960', ' 2022093', ' 2132717'],\n",
       " ['1961', ' 2017316', ' 2122502'],\n",
       " ['1962', ' 1966548', ' 2068945'],\n",
       " ['1963', ' 1927217', ' 2031755'],\n",
       " ['1964', ' 1894594', ' 1993270'],\n",
       " ['1965', ' 1765001', ' 1861378'],\n",
       " ['1966', ' 1691868', ' 1783964'],\n",
       " ['1967', ' 1650764', ' 1744527'],\n",
       " ['1968', ' 1640103', ' 1738928'],\n",
       " ['1969', ' 1686947', ' 1789732'],\n",
       " ['1970', ' 1748147', ' 1859594'],\n",
       " ['1971', ' 1663475', ' 1769201'],\n",
       " ['1972', ' 1521185', ' 1622666'],\n",
       " ['1973', ' 1458139', ' 1559338'],\n",
       " ['1974', ' 1467413', ' 1573105'],\n",
       " ['1975', ' 1457699', ' 1562207'],\n",
       " ['1976', ' 1465096', ' 1569904'],\n",
       " ['1977', ' 1532997', ' 1643684'],\n",
       " ['1978', ' 1531658', ' 1642250'],\n",
       " ['1979', ' 1605051', ' 1721947'],\n",
       " ['1980', ' 1659933', ' 1783876'],\n",
       " ['1981', ' 1667465', ' 1790907'],\n",
       " ['1982', ' 1692678', ' 1813970'],\n",
       " ['1983', ' 1670061', ' 1791732'],\n",
       " ['1984', ' 1682973', ' 1803830'],\n",
       " ['1985', ' 1720036', ' 1847032'],\n",
       " ['1986', ' 1714664', ' 1840164'],\n",
       " ['1987', ' 1737891', ' 1865662'],\n",
       " ['1988', ' 1779839', ' 1912602'],\n",
       " ['1989', ' 1843105', ' 1999999'],\n",
       " ['1990', ' 1897709', ' 2052543'],\n",
       " ['1991', ' 1874434', ' 2019463'],\n",
       " ['1992', ' 1843304', ' 1996388'],\n",
       " ['1993', ' 1808379', ' 1960397'],\n",
       " ['1994', ' 1785074', ' 1931157'],\n",
       " ['1995', ' 1757927', ' 1902832'],\n",
       " ['1996', ' 1752249', ' 1893378'],\n",
       " ['1997', ' 1739806', ' 1884122'],\n",
       " ['1998', ' 1765915', ' 1910250'],\n",
       " ['1999', ' 1772632', ' 1918809'],\n",
       " ['2000', ' 1814601', ' 1962406'],\n",
       " ['2001', ' 1799049', ' 1941251'],\n",
       " ['2002', ' 1795206', ' 1939815'],\n",
       " ['2003', ' 1825359', ' 1973434'],\n",
       " ['2004', ' 1834145', ' 1982794'],\n",
       " ['2005', ' 1845379', ' 1994841'],\n",
       " ['2006', ' 1898463', ' 2052377'],\n",
       " ['2007', ' 1919408', ' 2072139'],\n",
       " ['2008', ' 1887234', ' 2036289'],\n",
       " ['2009', ' 1832925', ' 1979303'],\n",
       " ['2010', ' 1772738', ' 1913851'],\n",
       " ['2011', ' 1753500', ' 1893230']]"
      ]
     },
     "execution_count": 6,
     "metadata": {},
     "output_type": "execute_result"
    }
   ],
   "source": [
    "births = birth.map( lambda v: v.split(','))\n",
    "births.collect()"
   ]
  },
  {
   "cell_type": "code",
   "execution_count": 7,
   "metadata": {},
   "outputs": [],
   "source": [
    "man_birth_data = births.map(lambda v:float(v[1]))\n",
    "girl_birth_data = births.map(lambda v:float(v[2]))"
   ]
  },
  {
   "cell_type": "markdown",
   "metadata": {},
   "source": [
    "### 1) 남아수의 합과 평균을 구하시오"
   ]
  },
  {
   "cell_type": "code",
   "execution_count": 8,
   "metadata": {
    "scrolled": true
   },
   "outputs": [
    {
     "data": {
      "text/plain": [
       "(161802441.0, 1225776.07)"
      ]
     },
     "execution_count": 8,
     "metadata": {},
     "output_type": "execute_result"
    }
   ],
   "source": [
    "round(man_birth_data.sum(),2), round(man_birth_data.mean(),2)"
   ]
  },
  {
   "cell_type": "markdown",
   "metadata": {},
   "source": [
    "### 2) 여아수의 합과 평균을 구하시오"
   ]
  },
  {
   "cell_type": "code",
   "execution_count": 9,
   "metadata": {},
   "outputs": [
    {
     "data": {
      "text/plain": [
       "(164392696.0, 1245399.21)"
      ]
     },
     "execution_count": 9,
     "metadata": {},
     "output_type": "execute_result"
    }
   ],
   "source": [
    "round(girl_birth_data.sum(),2), round(girl_birth_data.mean(),2)"
   ]
  },
  {
   "cell_type": "markdown",
   "metadata": {},
   "source": [
    "### 3) 남아수가 높은 탑 5를 구하시오"
   ]
  },
  {
   "cell_type": "code",
   "execution_count": 10,
   "metadata": {
    "scrolled": true
   },
   "outputs": [
    {
     "data": {
      "text/plain": [
       "[['1957', ' 2044160', ' 2155866'],\n",
       " ['1959', ' 2023044', ' 2133509'],\n",
       " ['1960', ' 2022093', ' 2132717'],\n",
       " ['1961', ' 2017316', ' 2122502'],\n",
       " ['1958', ' 2010884', ' 2120712']]"
      ]
     },
     "execution_count": 10,
     "metadata": {},
     "output_type": "execute_result"
    }
   ],
   "source": [
    "births.sortBy(lambda v : int(v[1]), ascending=False).take(5)"
   ]
  },
  {
   "cell_type": "markdown",
   "metadata": {},
   "source": [
    "### 4) 전체 남아수의 비율을 구하시요."
   ]
  },
  {
   "cell_type": "code",
   "execution_count": 11,
   "metadata": {},
   "outputs": [],
   "source": [
    "mans= births.map(lambda v: int(v[1])).sum()\n",
    "man_girls = births.map(lambda v: int(v[1])+ int(v[2])).sum()"
   ]
  },
  {
   "cell_type": "code",
   "execution_count": 12,
   "metadata": {},
   "outputs": [
    {
     "data": {
      "text/plain": [
       "0.496"
      ]
     },
     "execution_count": 12,
     "metadata": {},
     "output_type": "execute_result"
    }
   ],
   "source": [
    "round(mans/man_girls,3)"
   ]
  },
  {
   "cell_type": "markdown",
   "metadata": {},
   "source": [
    "### 5) 여아수를 10등분 했을때 각계급의 수를 구하시요"
   ]
  },
  {
   "cell_type": "code",
   "execution_count": 13,
   "metadata": {
    "scrolled": false
   },
   "outputs": [
    {
     "data": {
      "text/plain": [
       "(98689.879, 306257.1]     32\n",
       "(306257.1, 511769.2]       1\n",
       "(511769.2, 717281.3]       2\n",
       "(717281.3, 922793.4]       2\n",
       "(922793.4, 1128305.5]     22\n",
       "(1128305.5, 1333817.6]     3\n",
       "(1333817.6, 1539329.7]     4\n",
       "(1539329.7, 1744841.8]    11\n",
       "(1744841.8, 1950353.9]    30\n",
       "(1950353.9, 2155866.0]    25\n",
       "dtype: int64"
      ]
     },
     "execution_count": 13,
     "metadata": {},
     "output_type": "execute_result"
    }
   ],
   "source": [
    "girl_birth_data1 = girl_birth_data.collect() \n",
    "pd.cut(girl_birth_data1,10).value_counts()"
   ]
  },
  {
   "cell_type": "code",
   "execution_count": 14,
   "metadata": {},
   "outputs": [
    {
     "name": "stdout",
     "output_type": "stream",
     "text": [
      "[32, 1, 2, 2, 22, 3, 4, 11, 30, 25]\n"
     ]
    }
   ],
   "source": [
    "a, b= girl_birth_data.histogram([girl_birth_data.min() , \n",
    "                           girl_birth_data.min() + ((girl_birth_data.max() - girl_birth_data.min())/10),\n",
    "                           girl_birth_data.min() + ((girl_birth_data.max() - girl_birth_data.min())/10)*2,\n",
    "                           girl_birth_data.min() + ((girl_birth_data.max() - girl_birth_data.min())/10)*3,\n",
    "                           girl_birth_data.min() + ((girl_birth_data.max() - girl_birth_data.min())/10)*4,\n",
    "                           girl_birth_data.min() + ((girl_birth_data.max() - girl_birth_data.min())/10)*5,\n",
    "                           girl_birth_data.min() + ((girl_birth_data.max() - girl_birth_data.min())/10)*6,\n",
    "                           girl_birth_data.min() + ((girl_birth_data.max() - girl_birth_data.min())/10)*7,\n",
    "                           girl_birth_data.min() + ((girl_birth_data.max() - girl_birth_data.min())/10)*8,\n",
    "                           girl_birth_data.min() + ((girl_birth_data.max() - girl_birth_data.min())/10)*9,\n",
    "                           girl_birth_data.max()])\n",
    "\n",
    "print(b)"
   ]
  },
  {
   "cell_type": "markdown",
   "metadata": {},
   "source": [
    "## CCTV 문제"
   ]
  },
  {
   "cell_type": "code",
   "execution_count": 15,
   "metadata": {
    "scrolled": true
   },
   "outputs": [
    {
     "data": {
      "text/plain": [
       "DataFrame[기관명: string, 소계: int, 2013년도 이전: int, 2014년: int, 2015년: int, 2016년: int]"
      ]
     },
     "execution_count": 15,
     "metadata": {},
     "output_type": "execute_result"
    }
   ],
   "source": [
    "cctvDF = sqlCtx.read.csv('../data/data1/CCTV_in_Seoul.csv', header=True,\n",
    "                        inferSchema = True)\n",
    "cctvDF"
   ]
  },
  {
   "cell_type": "code",
   "execution_count": 16,
   "metadata": {},
   "outputs": [
    {
     "name": "stdout",
     "output_type": "stream",
     "text": [
      "+--------+----+-------------+------+------+------+\n",
      "|  기관명|소계|2013년도 이전|2014년|2015년|2016년|\n",
      "+--------+----+-------------+------+------+------+\n",
      "|  강남구|2780|         1292|   430|   584|   932|\n",
      "|  강동구| 773|          379|    99|   155|   377|\n",
      "|  강북구| 748|          369|   120|   138|   204|\n",
      "|  강서구| 884|          388|   258|   184|    81|\n",
      "|  관악구|1496|          846|   260|   390|   613|\n",
      "|  광진구| 707|          573|    78|    53|   174|\n",
      "|  구로구|1561|         1142|   173|   246|   323|\n",
      "|  금천구|1015|          674|    51|   269|   354|\n",
      "|  노원구|1265|          542|    57|   451|   516|\n",
      "|  도봉구| 485|          238|   159|    42|   386|\n",
      "|동대문구|1294|         1070|    23|   198|   579|\n",
      "|  동작구|1091|          544|   341|   103|   314|\n",
      "|  마포구| 574|          314|   118|   169|   379|\n",
      "|서대문구| 962|          844|    50|    68|   292|\n",
      "|  서초구|1930|         1406|   157|   336|   398|\n",
      "|  성동구|1062|          730|    91|   241|   265|\n",
      "|  성북구|1464|         1009|    78|   360|   204|\n",
      "|  송파구| 618|          529|    21|    68|   463|\n",
      "|  양천구|2034|         1843|   142|    30|   467|\n",
      "|영등포구| 904|          495|   214|   195|   373|\n",
      "+--------+----+-------------+------+------+------+\n",
      "only showing top 20 rows\n",
      "\n"
     ]
    }
   ],
   "source": [
    "cctvDF.show()"
   ]
  },
  {
   "cell_type": "code",
   "execution_count": 17,
   "metadata": {},
   "outputs": [],
   "source": [
    "cctvDF.createOrReplaceTempView('cctv')"
   ]
  },
  {
   "cell_type": "markdown",
   "metadata": {},
   "source": [
    "### 1. 기관명이 '강'글자가 포함된  데이터를 가져오시요"
   ]
  },
  {
   "cell_type": "code",
   "execution_count": 18,
   "metadata": {},
   "outputs": [
    {
     "name": "stdout",
     "output_type": "stream",
     "text": [
      "+------+----+-------------+------+------+------+\n",
      "|기관명|소계|2013년도 이전|2014년|2015년|2016년|\n",
      "+------+----+-------------+------+------+------+\n",
      "|강남구|2780|         1292|   430|   584|   932|\n",
      "|강동구| 773|          379|    99|   155|   377|\n",
      "|강북구| 748|          369|   120|   138|   204|\n",
      "|강서구| 884|          388|   258|   184|    81|\n",
      "+------+----+-------------+------+------+------+\n",
      "\n"
     ]
    }
   ],
   "source": [
    "sql = \"select * from cctv where `기관명` like '%강%'\" \n",
    "cctvDF = sqlCtx.sql(sql) \n",
    "cctvDF.show()"
   ]
  },
  {
   "cell_type": "markdown",
   "metadata": {},
   "source": [
    "### 2. 기관명, cctv증가율 을 출력하시요.\n",
    "- 증가율:  (14+15+16)/(2013년이전 )"
   ]
  },
  {
   "cell_type": "code",
   "execution_count": 19,
   "metadata": {},
   "outputs": [
    {
     "name": "stdout",
     "output_type": "stream",
     "text": [
      "+--------+------+\n",
      "|  기관명|증가율|\n",
      "+--------+------+\n",
      "|  종로구|  2.49|\n",
      "|  도봉구|  2.47|\n",
      "|  마포구|  2.12|\n",
      "|  노원구|  1.89|\n",
      "|  강동구|  1.66|\n",
      "|영등포구|  1.58|\n",
      "|  강남구|  1.51|\n",
      "|  관악구|  1.49|\n",
      "|    중구|  1.48|\n",
      "|  동작구|  1.39|\n",
      "|  강서구|  1.35|\n",
      "|  강북구|  1.25|\n",
      "|  송파구|  1.04|\n",
      "|  금천구|   1.0|\n",
      "|  은평구|  0.85|\n",
      "|  성동구|  0.82|\n",
      "|  중랑구|   0.8|\n",
      "|동대문구|  0.75|\n",
      "|  구로구|  0.65|\n",
      "|  성북구|  0.64|\n",
      "+--------+------+\n",
      "only showing top 20 rows\n",
      "\n"
     ]
    }
   ],
   "source": [
    "sql= \"\"\"select \n",
    "            `기관명`,\n",
    "            round((`2014년`+`2015년`+`2016년`)/`2013년도 이전`,2) as `증가율`\n",
    "        from cctv\n",
    "            order by `증가율` desc\"\"\"\n",
    "sqlDF = sqlCtx.sql(sql)\n",
    "sqlDF.show()"
   ]
  },
  {
   "cell_type": "markdown",
   "metadata": {},
   "source": [
    "### 3. 증가율이 가장높은 top 5를 보여주시요"
   ]
  },
  {
   "cell_type": "code",
   "execution_count": 20,
   "metadata": {},
   "outputs": [
    {
     "name": "stdout",
     "output_type": "stream",
     "text": [
      "+------+------+\n",
      "|기관명|증가율|\n",
      "+------+------+\n",
      "|종로구|  2.49|\n",
      "|도봉구|  2.47|\n",
      "|마포구|  2.12|\n",
      "|노원구|  1.89|\n",
      "|강동구|  1.66|\n",
      "+------+------+\n",
      "\n"
     ]
    }
   ],
   "source": [
    "sql= \"\"\"select \n",
    "            `기관명`,\n",
    "            round((`2014년`+`2015년`+`2016년`)/`2013년도 이전`,2) as `증가율`\n",
    "        from cctv\n",
    "            order by `증가율` desc\n",
    "            limit 5\"\"\"\n",
    "sqlDF = sqlCtx.sql(sql)\n",
    "sqlDF.show()"
   ]
  },
  {
   "cell_type": "markdown",
   "metadata": {},
   "source": [
    "### 4. 기관이라는 컬럼을 만들고 기관명에서 마지막 '구'라는 글자를 제한 글자로 데이터를 구성하시요\n",
    "- (예)강남,강동,강북...."
   ]
  },
  {
   "cell_type": "code",
   "execution_count": 37,
   "metadata": {},
   "outputs": [
    {
     "name": "stdout",
     "output_type": "stream",
     "text": [
      "+--------+----+-------------+------+------+------+--------+\n",
      "|  기관명|소계|2013년도 이전|2014년|2015년|2016년|    기관|\n",
      "+--------+----+-------------+------+------+------+--------+\n",
      "|  강남구|2780|         1292|   430|   584|   932|  강남구|\n",
      "|  강동구| 773|          379|    99|   155|   377|  강동구|\n",
      "|  강북구| 748|          369|   120|   138|   204|  강북구|\n",
      "|  강서구| 884|          388|   258|   184|    81|  강서구|\n",
      "|  관악구|1496|          846|   260|   390|   613|  관악구|\n",
      "|  광진구| 707|          573|    78|    53|   174|  광진구|\n",
      "|  구로구|1561|         1142|   173|   246|   323|  구로구|\n",
      "|  금천구|1015|          674|    51|   269|   354|  금천구|\n",
      "|  노원구|1265|          542|    57|   451|   516|  노원구|\n",
      "|  도봉구| 485|          238|   159|    42|   386|  도봉구|\n",
      "|동대문구|1294|         1070|    23|   198|   579|동대문구|\n",
      "|  동작구|1091|          544|   341|   103|   314|  동작구|\n",
      "|  마포구| 574|          314|   118|   169|   379|  마포구|\n",
      "|서대문구| 962|          844|    50|    68|   292|서대문구|\n",
      "|  서초구|1930|         1406|   157|   336|   398|  서초구|\n",
      "|  성동구|1062|          730|    91|   241|   265|  성동구|\n",
      "|  성북구|1464|         1009|    78|   360|   204|  성북구|\n",
      "|  송파구| 618|          529|    21|    68|   463|  송파구|\n",
      "|  양천구|2034|         1843|   142|    30|   467|  양천구|\n",
      "|영등포구| 904|          495|   214|   195|   373|영등포구|\n",
      "+--------+----+-------------+------+------+------+--------+\n",
      "only showing top 20 rows\n",
      "\n"
     ]
    }
   ],
   "source": [
    "sql = \"select * , replace(`기관명`,'구$',' ') as `기관` from cctv\" \n",
    "cctvDF = sqlCtx.sql(sql) \n",
    "cctvDF.show()"
   ]
  },
  {
   "cell_type": "markdown",
   "metadata": {},
   "source": [
    "### 5. 2015년도 cctv 총합을 구하시요."
   ]
  },
  {
   "cell_type": "code",
   "execution_count": 22,
   "metadata": {},
   "outputs": [
    {
     "name": "stdout",
     "output_type": "stream",
     "text": [
      "+----------------+\n",
      "|2015년 cctv 총합|\n",
      "+----------------+\n",
      "|            5130|\n",
      "+----------------+\n",
      "\n"
     ]
    }
   ],
   "source": [
    "sql = \"select sum(`2015년`) as `2015년 cctv 총합` from cctv \"\n",
    "sqlDF = sqlCtx.sql(sql)\n",
    "sqlDF.show()"
   ]
  },
  {
   "cell_type": "markdown",
   "metadata": {},
   "source": [
    "### 6. 2014년도 2015년도 cctv데이터에 대한 바차트를 그리시요(x축 기관명임)"
   ]
  },
  {
   "cell_type": "code",
   "execution_count": 23,
   "metadata": {},
   "outputs": [
    {
     "name": "stdout",
     "output_type": "stream",
     "text": [
      "+--------+------+------+\n",
      "|  기관명|2014년|2015년|\n",
      "+--------+------+------+\n",
      "|  강남구|   430|   584|\n",
      "|  강동구|    99|   155|\n",
      "|  강북구|   120|   138|\n",
      "|  강서구|   258|   184|\n",
      "|  관악구|   260|   390|\n",
      "|  광진구|    78|    53|\n",
      "|  구로구|   173|   246|\n",
      "|  금천구|    51|   269|\n",
      "|  노원구|    57|   451|\n",
      "|  도봉구|   159|    42|\n",
      "|동대문구|    23|   198|\n",
      "|  동작구|   341|   103|\n",
      "|  마포구|   118|   169|\n",
      "|서대문구|    50|    68|\n",
      "|  서초구|   157|   336|\n",
      "|  성동구|    91|   241|\n",
      "|  성북구|    78|   360|\n",
      "|  송파구|    21|    68|\n",
      "|  양천구|   142|    30|\n",
      "|영등포구|   214|   195|\n",
      "+--------+------+------+\n",
      "only showing top 20 rows\n",
      "\n"
     ]
    }
   ],
   "source": [
    "# 필요한 데이터만 추출\n",
    "sql= \"\"\"select \n",
    "            `기관명`,\n",
    "            `2014년`, \n",
    "            `2015년`\n",
    "        from cctv \"\"\"\n",
    "cctv_DF_1415 = sqlCtx.sql(sql)\n",
    "cctv_DF_1415.show()"
   ]
  },
  {
   "cell_type": "code",
   "execution_count": 24,
   "metadata": {},
   "outputs": [],
   "source": [
    "# 판다스 데이터프레임으로 변경\n",
    "cctv_DF_1415 =cctv_DF_1415.toPandas()"
   ]
  },
  {
   "cell_type": "code",
   "execution_count": 25,
   "metadata": {
    "scrolled": true
   },
   "outputs": [],
   "source": [
    "# 기관명을 인덱스로 설정\n",
    "cctv_DF_1415.set_index('기관명', inplace=True)"
   ]
  },
  {
   "cell_type": "code",
   "execution_count": 26,
   "metadata": {},
   "outputs": [
    {
     "data": {
      "text/plain": [
       "<matplotlib.axes._subplots.AxesSubplot at 0x8e5e4f0>"
      ]
     },
     "execution_count": 26,
     "metadata": {},
     "output_type": "execute_result"
    },
    {
     "data": {
      "image/png": "[encoded data removed]",
      "text/plain": [
       "<Figure size 1440x1152 with 1 Axes>"
      ]
     },
     "metadata": {
      "needs_background": "light"
     },
     "output_type": "display_data"
    }
   ],
   "source": [
    "cctv_DF_1415.plot(kind='bar', figsize=(20,16), rot=90,legend= None)"
   ]
  },
  {
   "cell_type": "markdown",
   "metadata": {},
   "source": [
    "### 7. cctv가 가장많은 기관명과 갯수를 구하시요"
   ]
  },
  {
   "cell_type": "code",
   "execution_count": 27,
   "metadata": {
    "scrolled": true
   },
   "outputs": [
    {
     "name": "stdout",
     "output_type": "stream",
     "text": [
      "+------+----+\n",
      "|기관명|소계|\n",
      "+------+----+\n",
      "|강남구|2780|\n",
      "+------+----+\n",
      "\n"
     ]
    }
   ],
   "source": [
    "sql= \"\"\"select `기관명`,`소계`\n",
    "        from cctv\n",
    "        order by `소계` desc\n",
    "        limit 1\"\"\"\n",
    "sqlDF = sqlCtx.sql(sql)\n",
    "sqlDF.show()"
   ]
  },
  {
   "cell_type": "markdown",
   "metadata": {},
   "source": [
    "### 8. 현황이라는 컬럼을 추가하고 cctv총갯수가 1500개 이상이면 '매우많음' 1000개이상이면 '많음' 나머지 보통으로 표시하시요"
   ]
  },
  {
   "cell_type": "code",
   "execution_count": 28,
   "metadata": {
    "scrolled": true
   },
   "outputs": [
    {
     "name": "stdout",
     "output_type": "stream",
     "text": [
      "+--------+----+--------+\n",
      "|  기관명|소계|    현황|\n",
      "+--------+----+--------+\n",
      "|  강남구|2780|매우많음|\n",
      "|  양천구|2034|매우많음|\n",
      "|  서초구|1930|매우많음|\n",
      "|  은평구|1873|매우많음|\n",
      "|  용산구|1624|매우많음|\n",
      "|  구로구|1561|매우많음|\n",
      "|  관악구|1496|    많음|\n",
      "|  성북구|1464|    많음|\n",
      "|동대문구|1294|    많음|\n",
      "|  노원구|1265|    많음|\n",
      "|  동작구|1091|    많음|\n",
      "|  성동구|1062|    많음|\n",
      "|  금천구|1015|    많음|\n",
      "|  종로구|1002|    많음|\n",
      "|서대문구| 962|    보통|\n",
      "|영등포구| 904|    보통|\n",
      "|  강서구| 884|    보통|\n",
      "|  강동구| 773|    보통|\n",
      "|  강북구| 748|    보통|\n",
      "|  광진구| 707|    보통|\n",
      "+--------+----+--------+\n",
      "only showing top 20 rows\n",
      "\n"
     ]
    }
   ],
   "source": [
    "sql= \"\"\"select `기관명`,`소계`,\n",
    "        case \n",
    "            when `소계` >= 1500 then '매우많음'\n",
    "            when `소계` >= 1000 then '많음'\n",
    "            else '보통'\n",
    "        end as `현황`\n",
    "        from cctv\n",
    "        order by `소계` desc\"\"\"\n",
    "sqlDF = sqlCtx.sql(sql)\n",
    "sqlDF.show()"
   ]
  },
  {
   "cell_type": "markdown",
   "metadata": {},
   "source": [
    "## grade 문제"
   ]
  },
  {
   "cell_type": "code",
   "execution_count": 29,
   "metadata": {},
   "outputs": [
    {
     "data": {
      "text/plain": [
       "DataFrame[학년: string, 과목: string, 결과: string, 중간: int, 기말: int]"
      ]
     },
     "execution_count": 29,
     "metadata": {},
     "output_type": "execute_result"
    }
   ],
   "source": [
    "gradeDF = sqlCtx.read.csv('../data/data1/grade.csv', header=True,\n",
    "                        inferSchema = True)\n",
    "gradeDF"
   ]
  },
  {
   "cell_type": "code",
   "execution_count": 30,
   "metadata": {},
   "outputs": [],
   "source": [
    "gradeDF.createOrReplaceTempView('grade')"
   ]
  },
  {
   "cell_type": "code",
   "execution_count": 31,
   "metadata": {},
   "outputs": [
    {
     "name": "stdout",
     "output_type": "stream",
     "text": [
      "+-----+----+-----+----+----+\n",
      "| 학년|과목| 결과|중간|기말|\n",
      "+-----+----+-----+----+----+\n",
      "|1학년|국어| 좋음|  80|  90|\n",
      "|1학년|국어| 나쁨|  50|  40|\n",
      "|1학년|국어| 나쁨|  20|  50|\n",
      "|1학년|수학| 좋음|  83|  95|\n",
      "|1학년|수학| 좋음|  93|  86|\n",
      "|2학년|국어| 나쁨|  44|  65|\n",
      "|2학년|국어| 좋음|  95|  98|\n",
      "|2학년|수학| 좋음|  96|  99|\n",
      "|2학년|수학| 나쁨|  57|  69|\n",
      "+-----+----+-----+----+----+\n",
      "\n"
     ]
    }
   ],
   "source": [
    "gradeDF.show()"
   ]
  },
  {
   "cell_type": "markdown",
   "metadata": {},
   "source": [
    "### 1. 학년별 과목별 중간,기말 총합과 평균을 구하시요"
   ]
  },
  {
   "cell_type": "code",
   "execution_count": 32,
   "metadata": {
    "scrolled": true
   },
   "outputs": [
    {
     "name": "stdout",
     "output_type": "stream",
     "text": [
      "+-----+----+--------+--------+--------+--------+\n",
      "| 학년|과목|중간총합|중간평균|기말총합|기말평균|\n",
      "+-----+----+--------+--------+--------+--------+\n",
      "|1학년|국어|     150|    50.0|     180|    60.0|\n",
      "|1학년|수학|     176|    88.0|     181|    90.5|\n",
      "|2학년|수학|     153|    76.5|     168|    84.0|\n",
      "|2학년|국어|     139|    69.5|     163|    81.5|\n",
      "+-----+----+--------+--------+--------+--------+\n",
      "\n"
     ]
    }
   ],
   "source": [
    "sql = '''select\n",
    "            `학년`,\n",
    "            `과목`,\n",
    "            sum(`중간`) as `중간총합`,\n",
    "            avg(`중간`) as `중간평균`,\n",
    "            sum(`기말`) as `기말총합`,\n",
    "            avg(`기말`) as `기말평균`\n",
    "        from grade\n",
    "            group by `학년`,`과목`\n",
    "            order by `학년`'''\n",
    "sqlDF = sqlCtx.sql( sql )\n",
    "sqlDF.show()"
   ]
  },
  {
   "cell_type": "markdown",
   "metadata": {},
   "source": [
    "### 2. 학년별 중간고사 평균이 70점이상인 값을 구하시요."
   ]
  },
  {
   "cell_type": "code",
   "execution_count": 33,
   "metadata": {
    "scrolled": true
   },
   "outputs": [
    {
     "name": "stdout",
     "output_type": "stream",
     "text": [
      "+-----+--------+\n",
      "| 학년|중간평균|\n",
      "+-----+--------+\n",
      "|1학년|    65.2|\n",
      "|2학년|    73.0|\n",
      "+-----+--------+\n",
      "\n"
     ]
    }
   ],
   "source": [
    "# 학년별 중간고사 평균 출력\n",
    "sql = '''select\n",
    "            `학년`,\n",
    "            avg(`중간`) as `중간평균`\n",
    "        from grade\n",
    "            group by `학년`\n",
    "            order by `학년`'''\n",
    "sqlDF = sqlCtx.sql( sql )\n",
    "sqlDF.show()"
   ]
  },
  {
   "cell_type": "code",
   "execution_count": 34,
   "metadata": {
    "scrolled": true
   },
   "outputs": [
    {
     "name": "stdout",
     "output_type": "stream",
     "text": [
      "+-----+--------+\n",
      "| 학년|중간평균|\n",
      "+-----+--------+\n",
      "|2학년|    73.0|\n",
      "+-----+--------+\n",
      "\n"
     ]
    }
   ],
   "source": [
    "# 평균 70점 이상값 출력\n",
    "sql = '''select\n",
    "            `학년`,\n",
    "            avg(`중간`) as `중간평균`\n",
    "        from grade\n",
    "            group by `학년`\n",
    "            having avg(`중간`) >=70\n",
    "            order by `학년`'''\n",
    "sqlDF = sqlCtx.sql( sql )\n",
    "sqlDF.show()"
   ]
  },
  {
   "cell_type": "code",
   "execution_count": 35,
   "metadata": {},
   "outputs": [],
   "source": [
    "# sc.stop()"
   ]
  }
 ],
 "metadata": {
  "kernelspec": {
   "display_name": "Python 3",
   "language": "python",
   "name": "python3"
  },
  "language_info": {
   "codemirror_mode": {
    "name": "ipython",
    "version": 3
   },
   "file_extension": ".py",
   "mimetype": "text/x-python",
   "name": "python",
   "nbconvert_exporter": "python",
   "pygments_lexer": "ipython3",
   "version": "3.7.6"
  }
 },
 "nbformat": 4,
 "nbformat_minor": 4
}
