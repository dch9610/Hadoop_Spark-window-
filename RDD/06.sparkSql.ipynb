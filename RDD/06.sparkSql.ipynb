{
 "cells": [
  {
   "cell_type": "code",
   "execution_count": 1,
   "metadata": {},
   "outputs": [],
   "source": [
    "from pyspark import SparkContext\n",
    "from pyspark.sql import SQLContext, Row\n",
    "import pandas as pd\n",
    "import numpy as np"
   ]
  },
  {
   "cell_type": "code",
   "execution_count": 2,
   "metadata": {},
   "outputs": [],
   "source": [
    "sc = SparkContext('local')\n",
    "sqlCtx = SQLContext( sc )"
   ]
  },
  {
   "cell_type": "code",
   "execution_count": 3,
   "metadata": {},
   "outputs": [],
   "source": [
    "emp =[('홍길동',1),('이순신',2),\n",
    "      ('임꺽정',3),('김철수',3),('김철수1',5)]\n",
    "dept = [('개발',1), ('연구',2),\n",
    "        ('영업',3),('기획',4) ]"
   ]
  },
  {
   "cell_type": "code",
   "execution_count": 4,
   "metadata": {
    "scrolled": true
   },
   "outputs": [
    {
     "data": {
      "text/plain": [
       "ParallelCollectionRDD[0] at parallelize at PythonRDD.scala:195"
      ]
     },
     "execution_count": 4,
     "metadata": {},
     "output_type": "execute_result"
    }
   ],
   "source": [
    "empRdd = sc.parallelize(emp)\n",
    "empRdd"
   ]
  },
  {
   "cell_type": "code",
   "execution_count": 7,
   "metadata": {},
   "outputs": [
    {
     "data": {
      "text/plain": [
       "[('홍길동', 1), ('이순신', 2), ('임꺽정', 3), ('김철수', 3), ('김철수1', 5)]"
      ]
     },
     "execution_count": 7,
     "metadata": {},
     "output_type": "execute_result"
    }
   ],
   "source": [
    "empRdd.collect()"
   ]
  },
  {
   "cell_type": "markdown",
   "metadata": {},
   "source": [
    "#### Rdd : 분산 리스트\n",
    "#### DataFrame : 분산 데이터 프레임"
   ]
  },
  {
   "cell_type": "code",
   "execution_count": 9,
   "metadata": {},
   "outputs": [
    {
     "data": {
      "text/plain": [
       "DataFrame[_1: string, _2: bigint]"
      ]
     },
     "execution_count": 9,
     "metadata": {},
     "output_type": "execute_result"
    }
   ],
   "source": [
    "# Rdd -> DataFrame으로 변환\n",
    "empDF = empRdd.toDF()\n",
    "empDF"
   ]
  },
  {
   "cell_type": "code",
   "execution_count": 10,
   "metadata": {},
   "outputs": [
    {
     "name": "stdout",
     "output_type": "stream",
     "text": [
      "+-------+---+\n",
      "|     _1| _2|\n",
      "+-------+---+\n",
      "| 홍길동|  1|\n",
      "| 이순신|  2|\n",
      "| 임꺽정|  3|\n",
      "| 김철수|  3|\n",
      "|김철수1|  5|\n",
      "+-------+---+\n",
      "\n"
     ]
    }
   ],
   "source": [
    "empDF.show()"
   ]
  },
  {
   "cell_type": "code",
   "execution_count": 12,
   "metadata": {
    "scrolled": true
   },
   "outputs": [
    {
     "name": "stdout",
     "output_type": "stream",
     "text": [
      "+-------+---+\n",
      "|     _1| _2|\n",
      "+-------+---+\n",
      "| 홍길동|  1|\n",
      "| 이순신|  2|\n",
      "| 임꺽정|  3|\n",
      "| 김철수|  3|\n",
      "|김철수1|  5|\n",
      "+-------+---+\n",
      "\n"
     ]
    }
   ],
   "source": [
    "# Rdd -> DataFrame으로 변환\n",
    "empDF1 = sqlCtx.createDataFrame(emp)\n",
    "empDF1.show()"
   ]
  },
  {
   "cell_type": "code",
   "execution_count": 14,
   "metadata": {
    "scrolled": true
   },
   "outputs": [
    {
     "data": {
      "text/html": [
       "<div>\n",
       "<style scoped>\n",
       "    .dataframe tbody tr th:only-of-type {\n",
       "        vertical-align: middle;\n",
       "    }\n",
       "\n",
       "    .dataframe tbody tr th {\n",
       "        vertical-align: top;\n",
       "    }\n",
       "\n",
       "    .dataframe thead th {\n",
       "        text-align: right;\n",
       "    }\n",
       "</style>\n",
       "<table border=\"1\" class=\"dataframe\">\n",
       "  <thead>\n",
       "    <tr style=\"text-align: right;\">\n",
       "      <th></th>\n",
       "      <th>_1</th>\n",
       "      <th>_2</th>\n",
       "    </tr>\n",
       "  </thead>\n",
       "  <tbody>\n",
       "    <tr>\n",
       "      <th>0</th>\n",
       "      <td>홍길동</td>\n",
       "      <td>1</td>\n",
       "    </tr>\n",
       "    <tr>\n",
       "      <th>1</th>\n",
       "      <td>이순신</td>\n",
       "      <td>2</td>\n",
       "    </tr>\n",
       "    <tr>\n",
       "      <th>2</th>\n",
       "      <td>임꺽정</td>\n",
       "      <td>3</td>\n",
       "    </tr>\n",
       "    <tr>\n",
       "      <th>3</th>\n",
       "      <td>김철수</td>\n",
       "      <td>3</td>\n",
       "    </tr>\n",
       "    <tr>\n",
       "      <th>4</th>\n",
       "      <td>김철수1</td>\n",
       "      <td>5</td>\n",
       "    </tr>\n",
       "  </tbody>\n",
       "</table>\n",
       "</div>"
      ],
      "text/plain": [
       "     _1  _2\n",
       "0   홍길동   1\n",
       "1   이순신   2\n",
       "2   임꺽정   3\n",
       "3   김철수   3\n",
       "4  김철수1   5"
      ]
     },
     "execution_count": 14,
     "metadata": {},
     "output_type": "execute_result"
    }
   ],
   "source": [
    "# rdd.collect()와 비슷한 기능 분산 데이터프레임 -> 판다스의 데이터프레임\n",
    "# 데이터가 필터링된 상태에서 사용\n",
    "df = empDF1.toPandas()\n",
    "df"
   ]
  },
  {
   "cell_type": "code",
   "execution_count": 15,
   "metadata": {
    "scrolled": true
   },
   "outputs": [
    {
     "name": "stdout",
     "output_type": "stream",
     "text": [
      "+-------+------+\n",
      "|   name|deptid|\n",
      "+-------+------+\n",
      "| 홍길동|     1|\n",
      "| 이순신|     2|\n",
      "| 임꺽정|     3|\n",
      "| 김철수|     3|\n",
      "|김철수1|     5|\n",
      "+-------+------+\n",
      "\n"
     ]
    }
   ],
   "source": [
    "# 컬럼명 지정 가능\n",
    "empDF2 = sqlCtx.createDataFrame(emp,['name','deptid'])\n",
    "empDF2.show()"
   ]
  },
  {
   "cell_type": "code",
   "execution_count": 16,
   "metadata": {
    "scrolled": true
   },
   "outputs": [
    {
     "name": "stdout",
     "output_type": "stream",
     "text": [
      "root\n",
      " |-- name: string (nullable = true)\n",
      " |-- deptid: long (nullable = true)\n",
      "\n"
     ]
    }
   ],
   "source": [
    "# pandas의 info()와 같은 기능\n",
    "empDF2.printSchema()"
   ]
  },
  {
   "cell_type": "code",
   "execution_count": 17,
   "metadata": {},
   "outputs": [],
   "source": [
    "# 데이터테이블 이름 지정\n",
    "empDF2.createOrReplaceTempView('my')"
   ]
  },
  {
   "cell_type": "code",
   "execution_count": 22,
   "metadata": {},
   "outputs": [
    {
     "name": "stdout",
     "output_type": "stream",
     "text": [
      "+-------+------+\n",
      "|   name|deptid|\n",
      "+-------+------+\n",
      "| 홍길동|     1|\n",
      "| 이순신|     2|\n",
      "| 임꺽정|     3|\n",
      "| 김철수|     3|\n",
      "|김철수1|     5|\n",
      "+-------+------+\n",
      "\n"
     ]
    }
   ],
   "source": [
    "# 사용하기 위해서는 분산데이터프레임 형태로 되어있어야함 \n",
    "\n",
    "sql = \"select * from my\"\n",
    "sqlDF = sqlCtx.sql(sql) # spark DataFrame\n",
    "sqlDF.show()"
   ]
  },
  {
   "cell_type": "code",
   "execution_count": 24,
   "metadata": {
    "scrolled": true
   },
   "outputs": [
    {
     "name": "stdout",
     "output_type": "stream",
     "text": [
      "+-------+\n",
      "|   name|\n",
      "+-------+\n",
      "| 임꺽정|\n",
      "| 김철수|\n",
      "|김철수1|\n",
      "+-------+\n",
      "\n"
     ]
    }
   ],
   "source": [
    "# deptid가 2이상인 name컬럼의 값 추출\n",
    "sql = \"select name from my where deptid >2\"\n",
    "sqlDF_name = sqlCtx.sql(sql) # spark DataFrame\n",
    "sqlDF_name.show()"
   ]
  },
  {
   "cell_type": "code",
   "execution_count": 33,
   "metadata": {
    "scrolled": true
   },
   "outputs": [
    {
     "name": "stdout",
     "output_type": "stream",
     "text": [
      "+-------+------+\n",
      "|   name|deptid|\n",
      "+-------+------+\n",
      "| 임꺽정|     3|\n",
      "| 김철수|     3|\n",
      "|김철수1|     5|\n",
      "+-------+------+\n",
      "\n"
     ]
    }
   ],
   "source": [
    "# 이름에 김이 들어간 값 추출\n",
    "# sql = \"select * from my where name like '%김%'\"\n",
    "# sql = \"select * from my where name rlike '김'\"\n",
    "# 수로 끝나는값 추출\n",
    "# sql = \"select * from my where name rlike '수$'\"\n",
    "# '김' 또는 '정'이 들어간 값 추출\n",
    "# sql = \"select * from my where name rlike '[김정]'\"\n",
    "sqlDF_name = sqlCtx.sql(sql) # spark DataFrame\n",
    "sqlDF_name.show()"
   ]
  },
  {
   "cell_type": "code",
   "execution_count": 38,
   "metadata": {
    "scrolled": true
   },
   "outputs": [
    {
     "name": "stdout",
     "output_type": "stream",
     "text": [
      "+------+------+\n",
      "|  name|deptid|\n",
      "+------+------+\n",
      "|홍길동|     1|\n",
      "|이순신|     2|\n",
      "|임꺽정|     3|\n",
      "+------+------+\n",
      "\n"
     ]
    }
   ],
   "source": [
    "# 정렬\n",
    "# sql = \"select * from my order by name desc\"\n",
    "sql = \"select * from my order by deptid limit 3\"\n",
    "sqlDF_name = sqlCtx.sql(sql) # spark DataFrame\n",
    "sqlDF_name.show()"
   ]
  },
  {
   "cell_type": "code",
   "execution_count": 53,
   "metadata": {},
   "outputs": [
    {
     "name": "stdout",
     "output_type": "stream",
     "text": [
      "+-----------+-----------+-----------+-------------+\n",
      "|max(deptid)|sum(deptid)|avg(deptid)|count(deptid)|\n",
      "+-----------+-----------+-----------+-------------+\n",
      "|          5|         14|        2.8|            5|\n",
      "+-----------+-----------+-----------+-------------+\n",
      "\n",
      "+----------------------------+\n",
      "|(deptid * CAST(2 AS BIGINT))|\n",
      "+----------------------------+\n",
      "|                           2|\n",
      "|                           4|\n",
      "|                           6|\n",
      "|                           6|\n",
      "|                          10|\n",
      "+----------------------------+\n",
      "\n"
     ]
    }
   ],
   "source": [
    "# 집계함수 (max, min, avg, sum, count)\n",
    "sql = \"select max(deptid),sum(deptid),avg(deptid),count(deptid) from my \"\n",
    "sqlDF_group = sqlCtx.sql(sql) # spark DataFrame\n",
    "sqlDF_group.show()\n",
    "\n",
    "sql1 = \"select deptid*2 from my\"\n",
    "sqlDF_2 = sqlCtx.sql(sql1)\n",
    "sqlDF_2.show()"
   ]
  },
  {
   "cell_type": "code",
   "execution_count": 51,
   "metadata": {
    "scrolled": true
   },
   "outputs": [
    {
     "data": {
      "text/html": [
       "<div>\n",
       "<style scoped>\n",
       "    .dataframe tbody tr th:only-of-type {\n",
       "        vertical-align: middle;\n",
       "    }\n",
       "\n",
       "    .dataframe tbody tr th {\n",
       "        vertical-align: top;\n",
       "    }\n",
       "\n",
       "    .dataframe thead th {\n",
       "        text-align: right;\n",
       "    }\n",
       "</style>\n",
       "<table border=\"1\" class=\"dataframe\">\n",
       "  <thead>\n",
       "    <tr style=\"text-align: right;\">\n",
       "      <th></th>\n",
       "      <th>max(deptid)</th>\n",
       "      <th>sum(deptid)</th>\n",
       "      <th>avg(deptid)</th>\n",
       "      <th>count(deptid)</th>\n",
       "    </tr>\n",
       "  </thead>\n",
       "  <tbody>\n",
       "    <tr>\n",
       "      <th>0</th>\n",
       "      <td>5</td>\n",
       "      <td>14</td>\n",
       "      <td>2.8</td>\n",
       "      <td>5</td>\n",
       "    </tr>\n",
       "  </tbody>\n",
       "</table>\n",
       "</div>"
      ],
      "text/plain": [
       "   max(deptid)  sum(deptid)  avg(deptid)  count(deptid)\n",
       "0            5           14          2.8              5"
      ]
     },
     "execution_count": 51,
     "metadata": {},
     "output_type": "execute_result"
    }
   ],
   "source": [
    "sqlDF_group.toPandas()"
   ]
  },
  {
   "cell_type": "markdown",
   "metadata": {},
   "source": [
    "#####"
   ]
  },
  {
   "cell_type": "code",
   "execution_count": 55,
   "metadata": {},
   "outputs": [],
   "source": [
    "data1 = ['홍길동,1000','이순신,2000','임꺽정,3000',\n",
    "         '김철수,4000','이황,5000','이이,6000']"
   ]
  },
  {
   "cell_type": "code",
   "execution_count": 56,
   "metadata": {},
   "outputs": [
    {
     "data": {
      "text/plain": [
       "ParallelCollectionRDD[218] at parallelize at PythonRDD.scala:195"
      ]
     },
     "execution_count": 56,
     "metadata": {},
     "output_type": "execute_result"
    }
   ],
   "source": [
    "data1Rdd = sc.parallelize(data1)\n",
    "data1Rdd"
   ]
  },
  {
   "cell_type": "code",
   "execution_count": 57,
   "metadata": {},
   "outputs": [
    {
     "data": {
      "text/plain": [
       "[('홍길동', 1000),\n",
       " ('이순신', 2000),\n",
       " ('임꺽정', 3000),\n",
       " ('김철수', 4000),\n",
       " ('이황', 5000),\n",
       " ('이이', 6000)]"
      ]
     },
     "execution_count": 57,
     "metadata": {},
     "output_type": "execute_result"
    }
   ],
   "source": [
    "dept1Rdd1 = data1Rdd.map(lambda v:v.split(',')).map(lambda v:(v[0],int(v[1])))\n",
    "dept1Rdd1.collect()"
   ]
  },
  {
   "cell_type": "code",
   "execution_count": 58,
   "metadata": {
    "scrolled": true
   },
   "outputs": [
    {
     "name": "stdout",
     "output_type": "stream",
     "text": [
      "+------+------+\n",
      "|  name|salary|\n",
      "+------+------+\n",
      "|홍길동|  1000|\n",
      "|이순신|  2000|\n",
      "|임꺽정|  3000|\n",
      "|김철수|  4000|\n",
      "|  이황|  5000|\n",
      "|  이이|  6000|\n",
      "+------+------+\n",
      "\n"
     ]
    }
   ],
   "source": [
    "salaryDF1 = dept1Rdd1.toDF(['name','salary'])\n",
    "salaryDF1.show()"
   ]
  },
  {
   "cell_type": "code",
   "execution_count": 59,
   "metadata": {},
   "outputs": [],
   "source": [
    "# 테이블 이름 지정\n",
    "salaryDF1.createOrReplaceTempView('emp')"
   ]
  },
  {
   "cell_type": "markdown",
   "metadata": {},
   "source": [
    "#### sub query"
   ]
  },
  {
   "cell_type": "code",
   "execution_count": 61,
   "metadata": {
    "scrolled": true
   },
   "outputs": [
    {
     "name": "stdout",
     "output_type": "stream",
     "text": [
      "+----+------+\n",
      "|name|salary|\n",
      "+----+------+\n",
      "|이이|  6000|\n",
      "+----+------+\n",
      "\n"
     ]
    }
   ],
   "source": [
    "sql= \"select name, salary from emp \\\n",
    "        where salary == (select max(salary) from emp)\"\n",
    "sqlDF = sqlCtx.sql(sql)\n",
    "sqlDF.show()"
   ]
  },
  {
   "cell_type": "markdown",
   "metadata": {},
   "source": [
    "#### case when then (조건별)"
   ]
  },
  {
   "cell_type": "code",
   "execution_count": 63,
   "metadata": {
    "scrolled": true
   },
   "outputs": [
    {
     "name": "stdout",
     "output_type": "stream",
     "text": [
      "+------+------+----+\n",
      "|  name|salary| sal|\n",
      "+------+------+----+\n",
      "|홍길동|  1000|적음|\n",
      "|이순신|  2000|보통|\n",
      "|임꺽정|  3000|보통|\n",
      "|김철수|  4000|많음|\n",
      "|  이황|  5000|많음|\n",
      "|  이이|  6000|많음|\n",
      "+------+------+----+\n",
      "\n"
     ]
    }
   ],
   "source": [
    "sql= \"\"\"select name, salary,\n",
    "        case \n",
    "            when salary >= 4000 then '많음'\n",
    "            when salary >= 2000 then '보통'\n",
    "            else '적음'\n",
    "        end as sal\n",
    "        from emp\"\"\"\n",
    "sqlDF = sqlCtx.sql(sql)\n",
    "sqlDF.show()"
   ]
  },
  {
   "cell_type": "markdown",
   "metadata": {},
   "source": [
    "### Hive ql 함수\n",
    "#### spark Sql : \n",
    "- hive(hadoop 에코(echo)시스템 : sql을 이용하여 데이터를 분석하는 툴)\n",
    "- spark sql : hive ql 의 sql문법과 함수를 따른다\n",
    "- 표준 sql : https://www.w3schools.com/sql/\n",
    "- https://rfriend.tistory.com/213 : (hive함수)\n",
    "- https://spark.apache.org/docs/latest/api/sql/index.html : spark doc"
   ]
  },
  {
   "cell_type": "code",
   "execution_count": 66,
   "metadata": {
    "scrolled": true
   },
   "outputs": [
    {
     "name": "stdout",
     "output_type": "stream",
     "text": [
      "+----+------+-------+\n",
      "|name|salary|    tax|\n",
      "+----+------+-------+\n",
      "|길동|  1000| 967.00|\n",
      "|순신|  2000|1934.00|\n",
      "|꺽정|  3000|2901.00|\n",
      "|철수|  4000|3868.00|\n",
      "|  황|  5000|4835.00|\n",
      "|  이|  6000|5802.00|\n",
      "+----+------+-------+\n",
      "\n"
     ]
    }
   ],
   "source": [
    "# substr (컬럼명, 숫자) : 숫자지점부터 끝까지 값 출력\n",
    "sql= \"\"\"select \n",
    "            substr(name,2) as name, \n",
    "            salary, \n",
    "            round(salary*(1-0.033),2) as tax\n",
    "        from emp \"\"\"\n",
    "sqlDF = sqlCtx.sql(sql)\n",
    "sqlDF.show()"
   ]
  },
  {
   "cell_type": "code",
   "execution_count": 79,
   "metadata": {
    "scrolled": true
   },
   "outputs": [
    {
     "name": "stdout",
     "output_type": "stream",
     "text": [
      "+-------+------+------+\n",
      "|    std|    p1|    p2|\n",
      "+-------+------+------+\n",
      "|1870.83|3500.0|4750.0|\n",
      "+-------+------+------+\n",
      "\n"
     ]
    }
   ],
   "source": [
    "# 표준편차 (stddev_samp())\n",
    "# 범위지정 (percentile())\n",
    "sql= \"\"\"select\n",
    "            round(stddev_samp(salary),2) as std, \n",
    "            percentile(salary,0.5) as p1,\n",
    "            percentile(salary,0.75) as p2\n",
    "        from emp \"\"\"\n",
    "sqlDF = sqlCtx.sql(sql)\n",
    "sqlDF.show()"
   ]
  },
  {
   "cell_type": "code",
   "execution_count": 80,
   "metadata": {},
   "outputs": [],
   "source": [
    "sc.stop()"
   ]
  }
 ],
 "metadata": {
  "kernelspec": {
   "display_name": "Python 3",
   "language": "python",
   "name": "python3"
  },
  "language_info": {
   "codemirror_mode": {
    "name": "ipython",
    "version": 3
   },
   "file_extension": ".py",
   "mimetype": "text/x-python",
   "name": "python",
   "nbconvert_exporter": "python",
   "pygments_lexer": "ipython3",
   "version": "3.7.6"
  }
 },
 "nbformat": 4,
 "nbformat_minor": 4
}
