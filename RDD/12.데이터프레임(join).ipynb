{
 "cells": [
  {
   "cell_type": "code",
   "execution_count": 1,
   "metadata": {},
   "outputs": [],
   "source": [
    "from pyspark.sql import  SQLContext, Row\n",
    "from pyspark import SparkContext,SparkConf\n",
    "import pandas as pd\n",
    "from pyspark.sql.functions import regexp_extract, regexp_replace, when,udf,col"
   ]
  },
  {
   "cell_type": "code",
   "execution_count": 2,
   "metadata": {},
   "outputs": [],
   "source": [
    "sc = SparkContext('local')\n",
    "sqlCtx = SQLContext( sc )"
   ]
  },
  {
   "cell_type": "code",
   "execution_count": 3,
   "metadata": {},
   "outputs": [],
   "source": [
    "emp =[('홍길동',1),('이순신',2), \n",
    "      ('임꺽정',3),('김철수',3),('김철수1',5)]\n",
    "dept = [('개발',1), ('연구',2),\n",
    "        ('영업',3),('기획',4) ]\n",
    "\n",
    "# 분산 데이터프레임으로 만듬\n",
    "empA=sqlCtx.createDataFrame( emp, ['name','deptid'] )\n",
    "deptB=sqlCtx.createDataFrame( dept,['deptname','deptid'] )"
   ]
  },
  {
   "cell_type": "code",
   "execution_count": 5,
   "metadata": {},
   "outputs": [
    {
     "name": "stdout",
     "output_type": "stream",
     "text": [
      "+-------+------+\n",
      "|   name|deptid|\n",
      "+-------+------+\n",
      "| 홍길동|     1|\n",
      "| 이순신|     2|\n",
      "| 임꺽정|     3|\n",
      "| 김철수|     3|\n",
      "|김철수1|     5|\n",
      "+-------+------+\n",
      "\n"
     ]
    }
   ],
   "source": [
    "empA.show()"
   ]
  },
  {
   "cell_type": "code",
   "execution_count": 6,
   "metadata": {
    "scrolled": true
   },
   "outputs": [
    {
     "name": "stdout",
     "output_type": "stream",
     "text": [
      "+--------+------+\n",
      "|deptname|deptid|\n",
      "+--------+------+\n",
      "|    개발|     1|\n",
      "|    연구|     2|\n",
      "|    영업|     3|\n",
      "|    기획|     4|\n",
      "+--------+------+\n",
      "\n"
     ]
    }
   ],
   "source": [
    "deptB.show()"
   ]
  },
  {
   "cell_type": "markdown",
   "metadata": {},
   "source": [
    "### join\n",
    "- how = 'inner' : 지정 컬럼 한 컬럼의 값을 가지는 데이터만 결합"
   ]
  },
  {
   "cell_type": "code",
   "execution_count": 12,
   "metadata": {},
   "outputs": [
    {
     "name": "stdout",
     "output_type": "stream",
     "text": [
      "+------+------+--------+\n",
      "|deptid|  name|deptname|\n",
      "+------+------+--------+\n",
      "|     1|홍길동|    개발|\n",
      "|     3|임꺽정|    영업|\n",
      "|     3|김철수|    영업|\n",
      "|     2|이순신|    연구|\n",
      "+------+------+--------+\n",
      "\n"
     ]
    }
   ],
   "source": [
    "# how의 고정값은 inner\n",
    "# 두 테이블간에 있는 데이터만 출력\n",
    "empA.join(deptB, on=['deptid'], how='inner').show()"
   ]
  },
  {
   "cell_type": "code",
   "execution_count": 15,
   "metadata": {
    "scrolled": true
   },
   "outputs": [
    {
     "name": "stdout",
     "output_type": "stream",
     "text": [
      "+------+-------+--------+\n",
      "|deptid|   name|deptname|\n",
      "+------+-------+--------+\n",
      "|     5|김철수1|    null|\n",
      "|     1| 홍길동|    개발|\n",
      "|     3| 임꺽정|    영업|\n",
      "|     3| 김철수|    영업|\n",
      "|     2| 이순신|    연구|\n",
      "+------+-------+--------+\n",
      "\n"
     ]
    }
   ],
   "source": [
    "# left : 왼쪽 데이터가 다 나오도록 함\n",
    "# empA 데이터가 다 나옴\n",
    "empA.join(deptB, on=['deptid'], how = 'left').show()"
   ]
  },
  {
   "cell_type": "code",
   "execution_count": 16,
   "metadata": {},
   "outputs": [
    {
     "name": "stdout",
     "output_type": "stream",
     "text": [
      "+------+------+--------+\n",
      "|deptid|  name|deptname|\n",
      "+------+------+--------+\n",
      "|     1|홍길동|    개발|\n",
      "|     3|임꺽정|    영업|\n",
      "|     3|김철수|    영업|\n",
      "|     2|이순신|    연구|\n",
      "|     4|  null|    기획|\n",
      "+------+------+--------+\n",
      "\n"
     ]
    }
   ],
   "source": [
    "# right : 오른쪽 데이터가 다 나오도록 함\n",
    "# deptB 데이터가 다 나옴\n",
    "empA.join(deptB, on=['deptid'], how = 'right').show()"
   ]
  },
  {
   "cell_type": "code",
   "execution_count": 17,
   "metadata": {},
   "outputs": [
    {
     "name": "stdout",
     "output_type": "stream",
     "text": [
      "+------+-------+--------+\n",
      "|deptid|   name|deptname|\n",
      "+------+-------+--------+\n",
      "|     5|김철수1|    null|\n",
      "|     1| 홍길동|    개발|\n",
      "|     3| 임꺽정|    영업|\n",
      "|     3| 김철수|    영업|\n",
      "|     2| 이순신|    연구|\n",
      "|     4|   null|    기획|\n",
      "+------+-------+--------+\n",
      "\n"
     ]
    }
   ],
   "source": [
    "# full : 두 테이블 데이터가 다 나오도록 함\n",
    "empA.join(deptB, on=['deptid'], how = 'full').show()"
   ]
  },
  {
   "cell_type": "code",
   "execution_count": 18,
   "metadata": {},
   "outputs": [],
   "source": [
    "testA = [('A',1),('B',2),('C',3),('D',4)]\n",
    "testB = [('E',1),('A',2),('C',3),('F',4)]\n",
    "testAA = sqlCtx.createDataFrame( testA, ['name','id'] )\n",
    "testBB = sqlCtx.createDataFrame( testB,['name', 'myid'] )"
   ]
  },
  {
   "cell_type": "code",
   "execution_count": 19,
   "metadata": {},
   "outputs": [
    {
     "name": "stdout",
     "output_type": "stream",
     "text": [
      "+----+---+\n",
      "|name| id|\n",
      "+----+---+\n",
      "|   A|  1|\n",
      "|   B|  2|\n",
      "|   C|  3|\n",
      "|   D|  4|\n",
      "+----+---+\n",
      "\n",
      "+----+----+\n",
      "|name|myid|\n",
      "+----+----+\n",
      "|   E|   1|\n",
      "|   A|   2|\n",
      "|   C|   3|\n",
      "|   F|   4|\n",
      "+----+----+\n",
      "\n"
     ]
    }
   ],
   "source": [
    "testAA.show()\n",
    "testBB.show()"
   ]
  },
  {
   "cell_type": "code",
   "execution_count": 25,
   "metadata": {},
   "outputs": [
    {
     "name": "stdout",
     "output_type": "stream",
     "text": [
      "+----+---+----+\n",
      "|name| id|myid|\n",
      "+----+---+----+\n",
      "|   C|  3|   3|\n",
      "|   A|  1|   2|\n",
      "+----+---+----+\n",
      "\n"
     ]
    }
   ],
   "source": [
    "testAA.join(testBB, on=['name'],how='inner').show()"
   ]
  },
  {
   "cell_type": "code",
   "execution_count": 22,
   "metadata": {
    "scrolled": true
   },
   "outputs": [
    {
     "name": "stdout",
     "output_type": "stream",
     "text": [
      "+----+---+----+\n",
      "|name| id|myid|\n",
      "+----+---+----+\n",
      "|   B|  2|null|\n",
      "|   D|  4|null|\n",
      "|   C|  3|   3|\n",
      "|   A|  1|   2|\n",
      "+----+---+----+\n",
      "\n"
     ]
    }
   ],
   "source": [
    "testAA.join(testBB, on=['name'],how='left').show()"
   ]
  },
  {
   "cell_type": "code",
   "execution_count": 23,
   "metadata": {},
   "outputs": [
    {
     "name": "stdout",
     "output_type": "stream",
     "text": [
      "+----+----+----+\n",
      "|name|  id|myid|\n",
      "+----+----+----+\n",
      "|   F|null|   4|\n",
      "|   E|null|   1|\n",
      "|   C|   3|   3|\n",
      "|   A|   1|   2|\n",
      "+----+----+----+\n",
      "\n"
     ]
    }
   ],
   "source": [
    "testAA.join(testBB, on=['name'],how='right').show()"
   ]
  },
  {
   "cell_type": "code",
   "execution_count": 24,
   "metadata": {
    "scrolled": true
   },
   "outputs": [
    {
     "name": "stdout",
     "output_type": "stream",
     "text": [
      "+----+----+----+\n",
      "|name|  id|myid|\n",
      "+----+----+----+\n",
      "|   F|null|   4|\n",
      "|   E|null|   1|\n",
      "|   B|   2|null|\n",
      "|   D|   4|null|\n",
      "|   C|   3|   3|\n",
      "|   A|   1|   2|\n",
      "+----+----+----+\n",
      "\n"
     ]
    }
   ],
   "source": [
    "testAA.join(testBB, on=['name'],how='full').show()"
   ]
  },
  {
   "cell_type": "code",
   "execution_count": 32,
   "metadata": {
    "scrolled": true
   },
   "outputs": [
    {
     "name": "stdout",
     "output_type": "stream",
     "text": [
      "+----+----+----+\n",
      "|name|  id|myid|\n",
      "+----+----+----+\n",
      "|   F|null|   4|\n",
      "|   E|null|   1|\n",
      "|   B|   2|null|\n",
      "|   D|   4|null|\n",
      "|   C|   3|   3|\n",
      "|   A|   1|   2|\n",
      "+----+----+----+\n",
      "\n"
     ]
    }
   ],
   "source": [
    "dd = testAA.join(testBB, on=['name'],how='full')\n",
    "dd.show()"
   ]
  },
  {
   "cell_type": "markdown",
   "metadata": {},
   "source": [
    "### Null 제거하기"
   ]
  },
  {
   "cell_type": "code",
   "execution_count": 29,
   "metadata": {},
   "outputs": [
    {
     "name": "stdout",
     "output_type": "stream",
     "text": [
      "+----+---+----+\n",
      "|name| id|myid|\n",
      "+----+---+----+\n",
      "|   C|  3|   3|\n",
      "|   A|  1|   2|\n",
      "+----+---+----+\n",
      "\n"
     ]
    }
   ],
   "source": [
    "# dropna : null값이 속한 데이터 제거\n",
    "dd = dd.dropna()\n",
    "dd.show()"
   ]
  },
  {
   "cell_type": "code",
   "execution_count": 31,
   "metadata": {
    "scrolled": true
   },
   "outputs": [
    {
     "name": "stdout",
     "output_type": "stream",
     "text": [
      "+----+---+----+\n",
      "|name| id|myid|\n",
      "+----+---+----+\n",
      "|   B|  2|null|\n",
      "|   D|  4|null|\n",
      "|   C|  3|   3|\n",
      "|   A|  1|   2|\n",
      "+----+---+----+\n",
      "\n"
     ]
    }
   ],
   "source": [
    "# dropna : null값이 속한 데이터 제거\n",
    "# subset : 해당 컬럼의 null 데이터만 삭제\n",
    "dd = dd.dropna(subset = ['id'])\n",
    "dd.show()"
   ]
  },
  {
   "cell_type": "markdown",
   "metadata": {},
   "source": [
    "### Null 채우기"
   ]
  },
  {
   "cell_type": "code",
   "execution_count": 33,
   "metadata": {
    "scrolled": true
   },
   "outputs": [
    {
     "name": "stdout",
     "output_type": "stream",
     "text": [
      "+----+---+----+\n",
      "|name| id|myid|\n",
      "+----+---+----+\n",
      "|   F|100|   4|\n",
      "|   E|100|   1|\n",
      "|   B|  2| 200|\n",
      "|   D|  4| 200|\n",
      "|   C|  3|   3|\n",
      "|   A|  1|   2|\n",
      "+----+---+----+\n",
      "\n"
     ]
    }
   ],
   "source": [
    "dd = dd.fillna({'id':100, 'myid':200})\n",
    "dd.show()"
   ]
  },
  {
   "cell_type": "markdown",
   "metadata": {},
   "source": [
    "### unionAll\n",
    "- 행으로 붙이기"
   ]
  },
  {
   "cell_type": "code",
   "execution_count": 34,
   "metadata": {},
   "outputs": [
    {
     "name": "stdout",
     "output_type": "stream",
     "text": [
      "+----+---+\n",
      "|name| id|\n",
      "+----+---+\n",
      "|   A|  1|\n",
      "|   B|  2|\n",
      "|   C|  3|\n",
      "|   D|  4|\n",
      "|   E|  1|\n",
      "|   A|  2|\n",
      "|   C|  3|\n",
      "|   F|  4|\n",
      "+----+---+\n",
      "\n"
     ]
    }
   ],
   "source": [
    "testAA.unionAll(testBB).show()"
   ]
  },
  {
   "cell_type": "code",
   "execution_count": 35,
   "metadata": {},
   "outputs": [],
   "source": [
    "sc.stop()"
   ]
  },
  {
   "cell_type": "code",
   "execution_count": null,
   "metadata": {},
   "outputs": [],
   "source": []
  },
  {
   "cell_type": "code",
   "execution_count": null,
   "metadata": {},
   "outputs": [],
   "source": []
  }
 ],
 "metadata": {
  "kernelspec": {
   "display_name": "Python 3",
   "language": "python",
   "name": "python3"
  },
  "language_info": {
   "codemirror_mode": {
    "name": "ipython",
    "version": 3
   },
   "file_extension": ".py",
   "mimetype": "text/x-python",
   "name": "python",
   "nbconvert_exporter": "python",
   "pygments_lexer": "ipython3",
   "version": "3.7.6"
  }
 },
 "nbformat": 4,
 "nbformat_minor": 4
}
