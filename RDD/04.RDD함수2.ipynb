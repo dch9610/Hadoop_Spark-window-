{
 "cells": [
  {
   "cell_type": "code",
   "execution_count": 1,
   "metadata": {},
   "outputs": [],
   "source": [
    "from pyspark import SparkContext"
   ]
  },
  {
   "cell_type": "code",
   "execution_count": 2,
   "metadata": {},
   "outputs": [],
   "source": [
    "# ctrl + enter 1번만\n",
    "# 원래는 분산클러스터의 master의 IP로 지정\n",
    "sc = SparkContext('local')"
   ]
  },
  {
   "cell_type": "code",
   "execution_count": 3,
   "metadata": {},
   "outputs": [
    {
     "data": {
      "text/plain": [
       "[(1, 2), (3, 4), (5, 6), (1, 7), (3, 4)]"
      ]
     },
     "execution_count": 3,
     "metadata": {},
     "output_type": "execute_result"
    }
   ],
   "source": [
    "dt = [(1,2),(3,4),(5,6),(1,7),(3,4)]\n",
    "nRdd = sc.parallelize(dt)\n",
    "nRdd.collect()"
   ]
  },
  {
   "cell_type": "markdown",
   "metadata": {},
   "source": [
    "## transform 함수"
   ]
  },
  {
   "cell_type": "code",
   "execution_count": 4,
   "metadata": {},
   "outputs": [
    {
     "data": {
      "text/plain": [
       "[(1, 9), (3, 8), (5, 6)]"
      ]
     },
     "execution_count": 4,
     "metadata": {},
     "output_type": "execute_result"
    }
   ],
   "source": [
    "# 동일한 키의 값들의 합\n",
    "# ex) (1,2), (1,7) => (1,9)\n",
    "newRdd = nRdd.reduceByKey(lambda a,b : a+b)\n",
    "newRdd.collect()"
   ]
  },
  {
   "cell_type": "code",
   "execution_count": 5,
   "metadata": {},
   "outputs": [
    {
     "data": {
      "text/plain": [
       "[1, 2, 3, 4, 5, 6, 1, 7, 3, 4]"
      ]
     },
     "execution_count": 5,
     "metadata": {},
     "output_type": "execute_result"
    }
   ],
   "source": [
    "newRdd1 = nRdd.flatMap(lambda v:v)\n",
    "newRdd1.collect()"
   ]
  },
  {
   "cell_type": "code",
   "execution_count": 10,
   "metadata": {
    "scrolled": true
   },
   "outputs": [
    {
     "data": {
      "text/plain": [
       "[(1, 1),\n",
       " (2, 1),\n",
       " (3, 1),\n",
       " (4, 1),\n",
       " (5, 1),\n",
       " (6, 1),\n",
       " (1, 1),\n",
       " (7, 1),\n",
       " (3, 1),\n",
       " (4, 1)]"
      ]
     },
     "execution_count": 10,
     "metadata": {},
     "output_type": "execute_result"
    }
   ],
   "source": [
    "# 튜플로 만들어줌, 리스트로도 만들수 있음\n",
    "\n",
    "newRdd2 = nRdd.flatMap(lambda v:v).map(lambda v:(v,1))\n",
    "newRdd2.collect()"
   ]
  },
  {
   "cell_type": "code",
   "execution_count": 11,
   "metadata": {
    "scrolled": true
   },
   "outputs": [
    {
     "data": {
      "text/plain": [
       "[(1, 2), (2, 1), (3, 2), (4, 2), (5, 1), (6, 1), (7, 1)]"
      ]
     },
     "execution_count": 11,
     "metadata": {},
     "output_type": "execute_result"
    }
   ],
   "source": [
    "# 앞부분이 키\n",
    "newRdd2.reduceByKey(lambda a,b : a+b).collect()"
   ]
  },
  {
   "cell_type": "code",
   "execution_count": 21,
   "metadata": {
    "scrolled": true
   },
   "outputs": [
    {
     "data": {
      "text/plain": [
       "[(1, 1),\n",
       " (1, 1),\n",
       " (2, 1),\n",
       " (3, 1),\n",
       " (3, 1),\n",
       " (4, 1),\n",
       " (4, 1),\n",
       " (5, 1),\n",
       " (6, 1),\n",
       " (7, 1)]"
      ]
     },
     "execution_count": 21,
     "metadata": {},
     "output_type": "execute_result"
    }
   ],
   "source": [
    "# 첫번째요소를 키로 지정하여 정렬\n",
    "newRdd2.sortByKey(ascending=True).collect()"
   ]
  },
  {
   "cell_type": "code",
   "execution_count": 20,
   "metadata": {
    "scrolled": true
   },
   "outputs": [
    {
     "data": {
      "text/plain": [
       "[(7, 1),\n",
       " (6, 1),\n",
       " (5, 1),\n",
       " (4, 1),\n",
       " (4, 1),\n",
       " (3, 1),\n",
       " (3, 1),\n",
       " (2, 1),\n",
       " (1, 1),\n",
       " (1, 1)]"
      ]
     },
     "execution_count": 20,
     "metadata": {},
     "output_type": "execute_result"
    }
   ],
   "source": [
    "newRdd2.sortByKey(ascending=False).collect()"
   ]
  },
  {
   "cell_type": "code",
   "execution_count": 52,
   "metadata": {
    "scrolled": true
   },
   "outputs": [
    {
     "data": {
      "text/plain": [
       "[(1, 7), (5, 6), (3, 4), (3, 4), (1, 2)]"
      ]
     },
     "execution_count": 52,
     "metadata": {},
     "output_type": "execute_result"
    }
   ],
   "source": [
    "# 임의로 키를 지정하여 정렬\n",
    "\n",
    "nRdd.sortBy(lambda v:v[1],ascending=False).collect()"
   ]
  },
  {
   "cell_type": "code",
   "execution_count": 30,
   "metadata": {},
   "outputs": [
    {
     "data": {
      "text/plain": [
       "['나는 자랑스런', '태극기 앞에', '조국과 태극기', '몸과 나는']"
      ]
     },
     "execution_count": 30,
     "metadata": {},
     "output_type": "execute_result"
    }
   ],
   "source": [
    "txtRdd = sc.textFile('data/data1/aa.txt')\n",
    "txtRdd.collect()"
   ]
  },
  {
   "cell_type": "code",
   "execution_count": 54,
   "metadata": {},
   "outputs": [
    {
     "data": {
      "text/plain": [
       "['나는', '자랑스런', '태극기', '앞에', '조국과', '태극기', '몸과', '나는']"
      ]
     },
     "execution_count": 54,
     "metadata": {},
     "output_type": "execute_result"
    }
   ],
   "source": [
    "txtRdd.flatMap(lambda v:v.split()).collect()"
   ]
  },
  {
   "cell_type": "code",
   "execution_count": 35,
   "metadata": {
    "scrolled": false
   },
   "outputs": [
    {
     "data": {
      "text/plain": [
       "[('나는', 1),\n",
       " ('자랑스런', 1),\n",
       " ('태극기', 1),\n",
       " ('앞에', 1),\n",
       " ('조국과', 1),\n",
       " ('태극기', 1),\n",
       " ('몸과', 1),\n",
       " ('나는', 1)]"
      ]
     },
     "execution_count": 35,
     "metadata": {},
     "output_type": "execute_result"
    }
   ],
   "source": [
    "txtRdd.flatMap(lambda v:v.split()).map(lambda v:(v,1)).collect()"
   ]
  },
  {
   "cell_type": "code",
   "execution_count": 36,
   "metadata": {
    "scrolled": true
   },
   "outputs": [
    {
     "data": {
      "text/plain": [
       "defaultdict(int, {'나는': 2, '자랑스런': 1, '태극기': 2, '앞에': 1, '조국과': 1, '몸과': 1})"
      ]
     },
     "execution_count": 36,
     "metadata": {},
     "output_type": "execute_result"
    }
   ],
   "source": [
    "txtRdd.flatMap(lambda v:v.split()).map(lambda v:(v,1)).countByKey()"
   ]
  },
  {
   "cell_type": "code",
   "execution_count": 37,
   "metadata": {},
   "outputs": [
    {
     "data": {
      "text/plain": [
       "[('나는', 2), ('자랑스런', 1), ('태극기', 2), ('앞에', 1), ('조국과', 1), ('몸과', 1)]"
      ]
     },
     "execution_count": 37,
     "metadata": {},
     "output_type": "execute_result"
    }
   ],
   "source": [
    "# 각 단어의 갯수 파악\n",
    "txtRdd.flatMap(lambda v:v.split()).\\\n",
    "    map(lambda v:(v,1)).reduceByKey(lambda a,b :a+b).collect()"
   ]
  },
  {
   "cell_type": "markdown",
   "metadata": {},
   "source": [
    "## 뉴스의 단어 개수 파악"
   ]
  },
  {
   "cell_type": "code",
   "execution_count": 38,
   "metadata": {
    "collapsed": true
   },
   "outputs": [
    {
     "data": {
      "text/plain": [
       "['[스포티비뉴스=박대성 기자] 토트넘이 더는 빡빡한 주급 체계를 지킬 수 없을 전망이다. 핵심 선수를 잡으려면 더 많은 주급을 제시해야 한다. 해리 케인(28)에게 기존 주급 20만 파운드가 넘는 재계약 제안을 준비한다.',\n",
       " '',\n",
       " '영국 일간지 \\'인디펜던트\\'는 4일(한국시간) \"토트넘이 케인과 재계약 협상을 시작했다\"고 알렸다. 다른 매체 \\'유로 스포츠\\'도 \"맨체스터 시티와 파리 생제르맹이 케인을 노리고 있다. 토트넘이 케인 붙잡기에 들어갔다\"고 알렸다.',\n",
       " '',\n",
       " '케인은 토트넘 유스 출신이다. 2011년 1월 1군에 합류했고, 레이턴 오리엔트, 밀월, 노리치 시티, 레스터 시티 임대를 다녀왔다. 2013년 레스터 시티 임대 뒤에 본격적으로 토트넘에서 프로 생활을 시작했다.',\n",
       " '',\n",
       " '마우리시오 포체티노 감독 아래서 만개했다. 토트넘을 넘어 프리미어리그 대표 공격수로 발돋움했다. 조세 무리뉴 감독 아래서는 완벽한 9.5번 역할로 패스까지 눈을 떴다. 올시즌 17라운드 만에 10-10을 달성했고, 현재까지 토트넘에서 226경기 153골 35도움을 기록했다.',\n",
       " '',\n",
       " '프리미어리그 전설들도 매번 칭찬이다. 맨체스터 유나이티드 전설 리오 퍼디난드를 포함한 다수는 \"웨인 루니와 티에리 앙리를 보는 것 같다. 정말 다재다능하다. 세계 최고의 9번 스트라이커\"라며 엄지를 세웠다.',\n",
       " '',\n",
       " '이에 맨체스터 시티와 파리 생제르맹과 연결됐다. 맨체스터 시티는 세르히오 아구에로 빈자리와 빈공을 해결하기 위해 케인에게 접근했다. 파리 생제르맹은 킬리앙 음바페가 내년에 떠난다면 케인에게 러브콜을 보낼 전망이다. 감독도 케인을 지도했던 포체티노다.',\n",
       " '',\n",
       " '케인과 계약 기간은 2024년에 끝나지만, 토트넘은 일찍이 붙잡기에 나섰다. 현지 보도를 종합하면 기존 주급 20만 파운드(약 2억 9,000만 원) 이상을 제안할 계획이다.',\n",
       " '',\n",
       " '토트넘은 빡빡한 주급 체계를 보유하고 있었다. 레비 회장은 선수단 주급이 구단 운영에 미치는 영향을 최소로 하려고 구단 자체 샐러리캡을 적용했다. 한 선수에게 주급 10만 파운드(약 1억 4861만 원)를 지급하지 않는다는 내용이었지만, 2016년 케인과 20만 파운드 재계약으로 깨졌다.',\n",
       " '',\n",
       " '레비 회장 기조는 20만 파운드에서 유지로 보였다. 하지만 토트넘은 더 세계적인 클럽으로 발전하길 원하는 상황에서 샐러리캡 유지는 어려워 보인다. 케인과 재계약을 체결한다면 최고 상한선 20만 파운드가 또 깨지게 된다.']"
      ]
     },
     "execution_count": 38,
     "metadata": {},
     "output_type": "execute_result"
    }
   ],
   "source": [
    "newsRdd = sc.textFile('data/sport_news.txt')\n",
    "newsRdd.collect()"
   ]
  },
  {
   "cell_type": "code",
   "execution_count": 40,
   "metadata": {
    "collapsed": true
   },
   "outputs": [
    {
     "data": {
      "text/plain": [
       "[('[스포티비뉴스=박대성', 1),\n",
       " ('기자]', 1),\n",
       " ('토트넘이', 1),\n",
       " ('더는', 1),\n",
       " ('빡빡한', 1),\n",
       " ('주급', 1),\n",
       " ('체계를', 1),\n",
       " ('지킬', 1),\n",
       " ('수', 1),\n",
       " ('없을', 1),\n",
       " ('전망이다.', 1),\n",
       " ('핵심', 1),\n",
       " ('선수를', 1),\n",
       " ('잡으려면', 1),\n",
       " ('더', 1),\n",
       " ('많은', 1),\n",
       " ('주급을', 1),\n",
       " ('제시해야', 1),\n",
       " ('한다.', 1),\n",
       " ('해리', 1),\n",
       " ('케인(28)에게', 1),\n",
       " ('기존', 1),\n",
       " ('주급', 1),\n",
       " ('20만', 1),\n",
       " ('파운드가', 1),\n",
       " ('넘는', 1),\n",
       " ('재계약', 1),\n",
       " ('제안을', 1),\n",
       " ('준비한다.', 1),\n",
       " ('영국', 1),\n",
       " ('일간지', 1),\n",
       " (\"'인디펜던트'는\", 1),\n",
       " ('4일(한국시간)', 1),\n",
       " ('\"토트넘이', 1),\n",
       " ('케인과', 1),\n",
       " ('재계약', 1),\n",
       " ('협상을', 1),\n",
       " ('시작했다\"고', 1),\n",
       " ('알렸다.', 1),\n",
       " ('다른', 1),\n",
       " ('매체', 1),\n",
       " (\"'유로\", 1),\n",
       " (\"스포츠'도\", 1),\n",
       " ('\"맨체스터', 1),\n",
       " ('시티와', 1),\n",
       " ('파리', 1),\n",
       " ('생제르맹이', 1),\n",
       " ('케인을', 1),\n",
       " ('노리고', 1),\n",
       " ('있다.', 1),\n",
       " ('토트넘이', 1),\n",
       " ('케인', 1),\n",
       " ('붙잡기에', 1),\n",
       " ('들어갔다\"고', 1),\n",
       " ('알렸다.', 1),\n",
       " ('케인은', 1),\n",
       " ('토트넘', 1),\n",
       " ('유스', 1),\n",
       " ('출신이다.', 1),\n",
       " ('2011년', 1),\n",
       " ('1월', 1),\n",
       " ('1군에', 1),\n",
       " ('합류했고,', 1),\n",
       " ('레이턴', 1),\n",
       " ('오리엔트,', 1),\n",
       " ('밀월,', 1),\n",
       " ('노리치', 1),\n",
       " ('시티,', 1),\n",
       " ('레스터', 1),\n",
       " ('시티', 1),\n",
       " ('임대를', 1),\n",
       " ('다녀왔다.', 1),\n",
       " ('2013년', 1),\n",
       " ('레스터', 1),\n",
       " ('시티', 1),\n",
       " ('임대', 1),\n",
       " ('뒤에', 1),\n",
       " ('본격적으로', 1),\n",
       " ('토트넘에서', 1),\n",
       " ('프로', 1),\n",
       " ('생활을', 1),\n",
       " ('시작했다.', 1),\n",
       " ('마우리시오', 1),\n",
       " ('포체티노', 1),\n",
       " ('감독', 1),\n",
       " ('아래서', 1),\n",
       " ('만개했다.', 1),\n",
       " ('토트넘을', 1),\n",
       " ('넘어', 1),\n",
       " ('프리미어리그', 1),\n",
       " ('대표', 1),\n",
       " ('공격수로', 1),\n",
       " ('발돋움했다.', 1),\n",
       " ('조세', 1),\n",
       " ('무리뉴', 1),\n",
       " ('감독', 1),\n",
       " ('아래서는', 1),\n",
       " ('완벽한', 1),\n",
       " ('9.5번', 1),\n",
       " ('역할로', 1),\n",
       " ('패스까지', 1),\n",
       " ('눈을', 1),\n",
       " ('떴다.', 1),\n",
       " ('올시즌', 1),\n",
       " ('17라운드', 1),\n",
       " ('만에', 1),\n",
       " ('10-10을', 1),\n",
       " ('달성했고,', 1),\n",
       " ('현재까지', 1),\n",
       " ('토트넘에서', 1),\n",
       " ('226경기', 1),\n",
       " ('153골', 1),\n",
       " ('35도움을', 1),\n",
       " ('기록했다.', 1),\n",
       " ('프리미어리그', 1),\n",
       " ('전설들도', 1),\n",
       " ('매번', 1),\n",
       " ('칭찬이다.', 1),\n",
       " ('맨체스터', 1),\n",
       " ('유나이티드', 1),\n",
       " ('전설', 1),\n",
       " ('리오', 1),\n",
       " ('퍼디난드를', 1),\n",
       " ('포함한', 1),\n",
       " ('다수는', 1),\n",
       " ('\"웨인', 1),\n",
       " ('루니와', 1),\n",
       " ('티에리', 1),\n",
       " ('앙리를', 1),\n",
       " ('보는', 1),\n",
       " ('것', 1),\n",
       " ('같다.', 1),\n",
       " ('정말', 1),\n",
       " ('다재다능하다.', 1),\n",
       " ('세계', 1),\n",
       " ('최고의', 1),\n",
       " ('9번', 1),\n",
       " ('스트라이커\"라며', 1),\n",
       " ('엄지를', 1),\n",
       " ('세웠다.', 1),\n",
       " ('이에', 1),\n",
       " ('맨체스터', 1),\n",
       " ('시티와', 1),\n",
       " ('파리', 1),\n",
       " ('생제르맹과', 1),\n",
       " ('연결됐다.', 1),\n",
       " ('맨체스터', 1),\n",
       " ('시티는', 1),\n",
       " ('세르히오', 1),\n",
       " ('아구에로', 1),\n",
       " ('빈자리와', 1),\n",
       " ('빈공을', 1),\n",
       " ('해결하기', 1),\n",
       " ('위해', 1),\n",
       " ('케인에게', 1),\n",
       " ('접근했다.', 1),\n",
       " ('파리', 1),\n",
       " ('생제르맹은', 1),\n",
       " ('킬리앙', 1),\n",
       " ('음바페가', 1),\n",
       " ('내년에', 1),\n",
       " ('떠난다면', 1),\n",
       " ('케인에게', 1),\n",
       " ('러브콜을', 1),\n",
       " ('보낼', 1),\n",
       " ('전망이다.', 1),\n",
       " ('감독도', 1),\n",
       " ('케인을', 1),\n",
       " ('지도했던', 1),\n",
       " ('포체티노다.', 1),\n",
       " ('케인과', 1),\n",
       " ('계약', 1),\n",
       " ('기간은', 1),\n",
       " ('2024년에', 1),\n",
       " ('끝나지만,', 1),\n",
       " ('토트넘은', 1),\n",
       " ('일찍이', 1),\n",
       " ('붙잡기에', 1),\n",
       " ('나섰다.', 1),\n",
       " ('현지', 1),\n",
       " ('보도를', 1),\n",
       " ('종합하면', 1),\n",
       " ('기존', 1),\n",
       " ('주급', 1),\n",
       " ('20만', 1),\n",
       " ('파운드(약', 1),\n",
       " ('2억', 1),\n",
       " ('9,000만', 1),\n",
       " ('원)', 1),\n",
       " ('이상을', 1),\n",
       " ('제안할', 1),\n",
       " ('계획이다.', 1),\n",
       " ('토트넘은', 1),\n",
       " ('빡빡한', 1),\n",
       " ('주급', 1),\n",
       " ('체계를', 1),\n",
       " ('보유하고', 1),\n",
       " ('있었다.', 1),\n",
       " ('레비', 1),\n",
       " ('회장은', 1),\n",
       " ('선수단', 1),\n",
       " ('주급이', 1),\n",
       " ('구단', 1),\n",
       " ('운영에', 1),\n",
       " ('미치는', 1),\n",
       " ('영향을', 1),\n",
       " ('최소로', 1),\n",
       " ('하려고', 1),\n",
       " ('구단', 1),\n",
       " ('자체', 1),\n",
       " ('샐러리캡을', 1),\n",
       " ('적용했다.', 1),\n",
       " ('한', 1),\n",
       " ('선수에게', 1),\n",
       " ('주급', 1),\n",
       " ('10만', 1),\n",
       " ('파운드(약', 1),\n",
       " ('1억', 1),\n",
       " ('4861만', 1),\n",
       " ('원)를', 1),\n",
       " ('지급하지', 1),\n",
       " ('않는다는', 1),\n",
       " ('내용이었지만,', 1),\n",
       " ('2016년', 1),\n",
       " ('케인과', 1),\n",
       " ('20만', 1),\n",
       " ('파운드', 1),\n",
       " ('재계약으로', 1),\n",
       " ('깨졌다.', 1),\n",
       " ('레비', 1),\n",
       " ('회장', 1),\n",
       " ('기조는', 1),\n",
       " ('20만', 1),\n",
       " ('파운드에서', 1),\n",
       " ('유지로', 1),\n",
       " ('보였다.', 1),\n",
       " ('하지만', 1),\n",
       " ('토트넘은', 1),\n",
       " ('더', 1),\n",
       " ('세계적인', 1),\n",
       " ('클럽으로', 1),\n",
       " ('발전하길', 1),\n",
       " ('원하는', 1),\n",
       " ('상황에서', 1),\n",
       " ('샐러리캡', 1),\n",
       " ('유지는', 1),\n",
       " ('어려워', 1),\n",
       " ('보인다.', 1),\n",
       " ('케인과', 1),\n",
       " ('재계약을', 1),\n",
       " ('체결한다면', 1),\n",
       " ('최고', 1),\n",
       " ('상한선', 1),\n",
       " ('20만', 1),\n",
       " ('파운드가', 1),\n",
       " ('또', 1),\n",
       " ('깨지게', 1),\n",
       " ('된다.', 1)]"
      ]
     },
     "execution_count": 40,
     "metadata": {},
     "output_type": "execute_result"
    }
   ],
   "source": [
    "# 단어를 나누고 하나의 리스트로 만든 후\n",
    "# 튜플 형식으로 만듬\n",
    "newsRdd.flatMap(lambda v:v.split()).map(lambda v:(v,1)).collect()"
   ]
  },
  {
   "cell_type": "code",
   "execution_count": 50,
   "metadata": {},
   "outputs": [],
   "source": [
    "# 각 단어의 갯수 파악\n",
    "top5_news=newsRdd.flatMap(lambda v:v.split()).\\\n",
    "    map(lambda v:(v,1)).reduceByKey(lambda a,b :a+b).sortBy(lambda v:v[1],ascending=False,).take(5)"
   ]
  },
  {
   "cell_type": "code",
   "execution_count": 51,
   "metadata": {},
   "outputs": [
    {
     "data": {
      "text/plain": [
       "[('주급', 5), ('20만', 5), ('케인과', 4), ('파리', 3), ('맨체스터', 3)]"
      ]
     },
     "execution_count": 51,
     "metadata": {},
     "output_type": "execute_result"
    }
   ],
   "source": [
    "top5_news"
   ]
  },
  {
   "cell_type": "markdown",
   "metadata": {},
   "source": [
    "## Action 함수\n",
    "- transform함수로 작성 후 collect를 사용해야 리스트나 딕셔너리 형태등의로 출력됨"
   ]
  },
  {
   "cell_type": "code",
   "execution_count": 16,
   "metadata": {},
   "outputs": [
    {
     "name": "stdout",
     "output_type": "stream",
     "text": [
      "defaultdict(<class 'int'>, {1: 2, 2: 1, 3: 2, 4: 2, 5: 1, 6: 1, 7: 1})\n",
      "2\n"
     ]
    }
   ],
   "source": [
    "d = newRdd2.countByKey()\n",
    "\n",
    "print(d) # 딕셔너리 형태\n",
    "print(d[1]) #해당 키의 값 반환"
   ]
  }
 ],
 "metadata": {
  "kernelspec": {
   "display_name": "Python 3",
   "language": "python",
   "name": "python3"
  },
  "language_info": {
   "codemirror_mode": {
    "name": "ipython",
    "version": 3
   },
   "file_extension": ".py",
   "mimetype": "text/x-python",
   "name": "python",
   "nbconvert_exporter": "python",
   "pygments_lexer": "ipython3",
   "version": "3.7.6"
  }
 },
 "nbformat": 4,
 "nbformat_minor": 4
}
