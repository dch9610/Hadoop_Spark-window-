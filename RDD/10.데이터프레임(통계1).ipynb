{
 "cells": [
  {
   "cell_type": "code",
   "execution_count": 1,
   "metadata": {},
   "outputs": [],
   "source": [
    "from pyspark import SparkContext\n",
    "from pyspark.sql import SQLContext, Row\n",
    "import pandas as pd\n",
    "import numpy as np\n",
    "\n",
    "import matplotlib.pyplot as plt\n",
    "import matplotlib\n",
    "matplotlib.rcParams['font.family']='Malgun Gothic'\n",
    "matplotlib.rcParams['axes.unicode_minus']=False\n",
    "\n",
    "# sql 함수 사용\n",
    "from pyspark.sql.functions import when, udf, col, regexp_replace\n",
    "# sql 타입변경\n",
    "from pyspark.sql.types import DoubleType,IntegerType, StringType\n",
    "import pyspark.sql.functions as F"
   ]
  },
  {
   "cell_type": "code",
   "execution_count": 2,
   "metadata": {},
   "outputs": [],
   "source": [
    "sc = SparkContext('local') # 'spark://ip:7070'\n",
    "sqlCtx = SQLContext( sc )"
   ]
  },
  {
   "cell_type": "code",
   "execution_count": 9,
   "metadata": {
    "scrolled": true
   },
   "outputs": [],
   "source": [
    "df = sqlCtx.read.csv(r'c:\\data\\crime_in_Seoul.csv',header=True,encoding='euc-kr',inferSchema=True)\n"
   ]
  },
  {
   "cell_type": "code",
   "execution_count": 17,
   "metadata": {
    "collapsed": true
   },
   "outputs": [
    {
     "data": {
      "text/plain": [
       "[Row(관서명='중부서'),\n",
       " Row(관서명='종로서'),\n",
       " Row(관서명='남대문서'),\n",
       " Row(관서명='서대문서'),\n",
       " Row(관서명='혜화서'),\n",
       " Row(관서명='용산서'),\n",
       " Row(관서명='성북서'),\n",
       " Row(관서명='동대문서'),\n",
       " Row(관서명='마포서'),\n",
       " Row(관서명='영등포서'),\n",
       " Row(관서명='성동서'),\n",
       " Row(관서명='동작서'),\n",
       " Row(관서명='광진서'),\n",
       " Row(관서명='서부서'),\n",
       " Row(관서명='강북서'),\n",
       " Row(관서명='금천서'),\n",
       " Row(관서명='중랑서'),\n",
       " Row(관서명='강남서'),\n",
       " Row(관서명='관악서'),\n",
       " Row(관서명='강서서'),\n",
       " Row(관서명='강동서'),\n",
       " Row(관서명='종암서'),\n",
       " Row(관서명='구로서'),\n",
       " Row(관서명='서초서'),\n",
       " Row(관서명='양천서'),\n",
       " Row(관서명='송파서'),\n",
       " Row(관서명='노원서'),\n",
       " Row(관서명='방배서'),\n",
       " Row(관서명='은평서'),\n",
       " Row(관서명='도봉서'),\n",
       " Row(관서명='수서서')]"
      ]
     },
     "execution_count": 17,
     "metadata": {},
     "output_type": "execute_result"
    }
   ],
   "source": [
    "# rdd.collect() Row형태로\n",
    "df.select('관서명').rdd.collect()"
   ]
  },
  {
   "cell_type": "code",
   "execution_count": 16,
   "metadata": {
    "collapsed": true
   },
   "outputs": [
    {
     "data": {
      "text/plain": [
       "['중부서',\n",
       " '종로서',\n",
       " '남대문서',\n",
       " '서대문서',\n",
       " '혜화서',\n",
       " '용산서',\n",
       " '성북서',\n",
       " '동대문서',\n",
       " '마포서',\n",
       " '영등포서',\n",
       " '성동서',\n",
       " '동작서',\n",
       " '광진서',\n",
       " '서부서',\n",
       " '강북서',\n",
       " '금천서',\n",
       " '중랑서',\n",
       " '강남서',\n",
       " '관악서',\n",
       " '강서서',\n",
       " '강동서',\n",
       " '종암서',\n",
       " '구로서',\n",
       " '서초서',\n",
       " '양천서',\n",
       " '송파서',\n",
       " '노원서',\n",
       " '방배서',\n",
       " '은평서',\n",
       " '도봉서',\n",
       " '수서서']"
      ]
     },
     "execution_count": 16,
     "metadata": {},
     "output_type": "execute_result"
    }
   ],
   "source": [
    "df.select('관서명').rdd.map(lambda v:v['관서명']).collect()"
   ]
  },
  {
   "cell_type": "markdown",
   "metadata": {},
   "source": [
    "### 컬럼 객체 멤버함수\n",
    "- .cast()\n",
    "- .isin()\n",
    "- .like()\n",
    "- .rlike()"
   ]
  },
  {
   "cell_type": "code",
   "execution_count": 18,
   "metadata": {
    "scrolled": true
   },
   "outputs": [
    {
     "name": "stdout",
     "output_type": "stream",
     "text": [
      "+------+---------+---------+---------+---------+---------+---------+---------+---------+---------+---------+\n",
      "|관서명|살인 발생|살인 검거|강도 발생|강도 검거|강간 발생|강간 검거|절도 발생|절도 검거|폭력 발생|폭력 검거|\n",
      "+------+---------+---------+---------+---------+---------+---------+---------+---------+---------+---------+\n",
      "|중부서|        2|        2|        3|        2|      105|       65|    1,395|      477|    1,355|    1,170|\n",
      "|종로서|        3|        3|        6|        5|      115|       98|    1,070|      413|    1,278|    1,070|\n",
      "+------+---------+---------+---------+---------+---------+---------+---------+---------+---------+---------+\n",
      "\n"
     ]
    }
   ],
   "source": [
    "# where (문자열 or 컬럼객체)\n",
    "df.where(df['관서명'].isin('중부서','종로서')).show()"
   ]
  },
  {
   "cell_type": "code",
   "execution_count": 19,
   "metadata": {
    "scrolled": true
   },
   "outputs": [
    {
     "name": "stdout",
     "output_type": "stream",
     "text": [
      "+------+---------+---------+---------+---------+---------+---------+---------+---------+---------+---------+\n",
      "|관서명|살인 발생|살인 검거|강도 발생|강도 검거|강간 발생|강간 검거|절도 발생|절도 검거|폭력 발생|폭력 검거|\n",
      "+------+---------+---------+---------+---------+---------+---------+---------+---------+---------+---------+\n",
      "|성북서|        2|        2|        2|        1|       86|       71|      953|      409|    1,194|    1,015|\n",
      "|강북서|        7|        8|       14|       13|      153|      126|    1,434|      618|    2,649|    2,348|\n",
      "+------+---------+---------+---------+---------+---------+---------+---------+---------+---------+---------+\n",
      "\n"
     ]
    }
   ],
   "source": [
    "df.where(df['관서명'].like('%북%')).show()"
   ]
  },
  {
   "cell_type": "code",
   "execution_count": 28,
   "metadata": {
    "scrolled": false
   },
   "outputs": [
    {
     "name": "stdout",
     "output_type": "stream",
     "text": [
      "+------+---------+---------+---------+---------+---------+---------+---------+---------+---------+---------+\n",
      "|관서명|살인 발생|살인 검거|강도 발생|강도 검거|강간 발생|강간 검거|절도 발생|절도 검거|폭력 발생|폭력 검거|\n",
      "+------+---------+---------+---------+---------+---------+---------+---------+---------+---------+---------+\n",
      "|강북서|        7|        8|       14|       13|      153|      126|    1,434|      618|    2,649|    2,348|\n",
      "|강남서|        3|        3|       15|       12|      300|      225|    2,411|      984|    2,465|    2,146|\n",
      "+------+---------+---------+---------+---------+---------+---------+---------+---------+---------+---------+\n",
      "\n"
     ]
    }
   ],
   "source": [
    "# rlike 정규식 패턴 사용\n",
    "# df.where(df['관서명'].rlike('^강')).show() # 강으로 시작되는 데이터\n",
    "# df.where(df['관서명'].rlike('^마|동')).show() # 마로 시작되거나 동이 들어간 데이터\n",
    "# df.where(df['관서명'].rlike('[북남]')).show() # '북'이 있거나 '남'이 있거나\n",
    "df.where(df['관서명'].rlike('강[북남]')).show() # '강북' 또는 '강남'"
   ]
  }
 ],
 "metadata": {
  "kernelspec": {
   "display_name": "Python 3",
   "language": "python",
   "name": "python3"
  },
  "language_info": {
   "codemirror_mode": {
    "name": "ipython",
    "version": 3
   },
   "file_extension": ".py",
   "mimetype": "text/x-python",
   "name": "python",
   "nbconvert_exporter": "python",
   "pygments_lexer": "ipython3",
   "version": "3.7.6"
  }
 },
 "nbformat": 4,
 "nbformat_minor": 4
}
