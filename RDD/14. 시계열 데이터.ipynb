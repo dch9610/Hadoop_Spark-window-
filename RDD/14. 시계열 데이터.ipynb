{
 "cells": [
  {
   "cell_type": "code",
   "execution_count": 1,
   "metadata": {},
   "outputs": [],
   "source": [
    "from pyspark.sql import  SQLContext, Row\n",
    "from pyspark import SparkContext,SparkConf\n",
    "import pandas as pd\n",
    "from pyspark.sql.functions import regexp_extract, regexp_replace, when,udf,col,count,sum,avg,round\n",
    "from pyspark.sql.types import DoubleType,IntegerType,StringType\n",
    "import pyspark.sql.functions as F"
   ]
  },
  {
   "cell_type": "code",
   "execution_count": 2,
   "metadata": {},
   "outputs": [],
   "source": [
    "sc = SparkContext('local')\n",
    "sqlCtx = SQLContext( sc )"
   ]
  },
  {
   "cell_type": "code",
   "execution_count": 3,
   "metadata": {
    "scrolled": true
   },
   "outputs": [
    {
     "data": {
      "text/html": [
       "<div>\n",
       "<style scoped>\n",
       "    .dataframe tbody tr th:only-of-type {\n",
       "        vertical-align: middle;\n",
       "    }\n",
       "\n",
       "    .dataframe tbody tr th {\n",
       "        vertical-align: top;\n",
       "    }\n",
       "\n",
       "    .dataframe thead th {\n",
       "        text-align: right;\n",
       "    }\n",
       "</style>\n",
       "<table border=\"1\" class=\"dataframe\">\n",
       "  <thead>\n",
       "    <tr style=\"text-align: right;\">\n",
       "      <th></th>\n",
       "      <th>Month</th>\n",
       "      <th>Passengers</th>\n",
       "    </tr>\n",
       "  </thead>\n",
       "  <tbody>\n",
       "    <tr>\n",
       "      <th>0</th>\n",
       "      <td>1949-01</td>\n",
       "      <td>112</td>\n",
       "    </tr>\n",
       "    <tr>\n",
       "      <th>1</th>\n",
       "      <td>1949-02</td>\n",
       "      <td>118</td>\n",
       "    </tr>\n",
       "    <tr>\n",
       "      <th>2</th>\n",
       "      <td>1949-03</td>\n",
       "      <td>132</td>\n",
       "    </tr>\n",
       "    <tr>\n",
       "      <th>3</th>\n",
       "      <td>1949-04</td>\n",
       "      <td>129</td>\n",
       "    </tr>\n",
       "    <tr>\n",
       "      <th>4</th>\n",
       "      <td>1949-05</td>\n",
       "      <td>121</td>\n",
       "    </tr>\n",
       "    <tr>\n",
       "      <th>...</th>\n",
       "      <td>...</td>\n",
       "      <td>...</td>\n",
       "    </tr>\n",
       "    <tr>\n",
       "      <th>139</th>\n",
       "      <td>1960-08</td>\n",
       "      <td>606</td>\n",
       "    </tr>\n",
       "    <tr>\n",
       "      <th>140</th>\n",
       "      <td>1960-09</td>\n",
       "      <td>508</td>\n",
       "    </tr>\n",
       "    <tr>\n",
       "      <th>141</th>\n",
       "      <td>1960-10</td>\n",
       "      <td>461</td>\n",
       "    </tr>\n",
       "    <tr>\n",
       "      <th>142</th>\n",
       "      <td>1960-11</td>\n",
       "      <td>390</td>\n",
       "    </tr>\n",
       "    <tr>\n",
       "      <th>143</th>\n",
       "      <td>1960-12</td>\n",
       "      <td>432</td>\n",
       "    </tr>\n",
       "  </tbody>\n",
       "</table>\n",
       "<p>144 rows × 2 columns</p>\n",
       "</div>"
      ],
      "text/plain": [
       "       Month  Passengers\n",
       "0    1949-01         112\n",
       "1    1949-02         118\n",
       "2    1949-03         132\n",
       "3    1949-04         129\n",
       "4    1949-05         121\n",
       "..       ...         ...\n",
       "139  1960-08         606\n",
       "140  1960-09         508\n",
       "141  1960-10         461\n",
       "142  1960-11         390\n",
       "143  1960-12         432\n",
       "\n",
       "[144 rows x 2 columns]"
      ]
     },
     "execution_count": 3,
     "metadata": {},
     "output_type": "execute_result"
    }
   ],
   "source": [
    "df = sqlCtx.read.csv('data/airline-passengers.csv', \n",
    "                     header = True, inferSchema = True)\n",
    "df.toPandas() \n"
   ]
  },
  {
   "cell_type": "code",
   "execution_count": 4,
   "metadata": {
    "scrolled": false
   },
   "outputs": [
    {
     "name": "stdout",
     "output_type": "stream",
     "text": [
      "root\n",
      " |-- Month: string (nullable = true)\n",
      " |-- Passengers: integer (nullable = true)\n",
      "\n"
     ]
    }
   ],
   "source": [
    "df.printSchema()"
   ]
  },
  {
   "cell_type": "markdown",
   "metadata": {},
   "source": [
    "### date 타입(timestamp)으로 변경"
   ]
  },
  {
   "cell_type": "code",
   "execution_count": 5,
   "metadata": {
    "scrolled": true
   },
   "outputs": [
    {
     "name": "stdout",
     "output_type": "stream",
     "text": [
      "+-------+----------+-------------------+\n",
      "|  Month|Passengers|             parsed|\n",
      "+-------+----------+-------------------+\n",
      "|1949-01|       112|1949-01-01 00:00:00|\n",
      "|1949-02|       118|1949-02-01 00:00:00|\n",
      "|1949-03|       132|1949-03-01 00:00:00|\n",
      "|1949-04|       129|1949-04-01 00:00:00|\n",
      "|1949-05|       121|1949-05-01 00:00:00|\n",
      "|1949-06|       135|1949-06-01 00:00:00|\n",
      "|1949-07|       148|1949-07-01 00:00:00|\n",
      "|1949-08|       148|1949-08-01 00:00:00|\n",
      "|1949-09|       136|1949-09-01 00:00:00|\n",
      "|1949-10|       119|1949-10-01 00:00:00|\n",
      "|1949-11|       104|1949-11-01 00:00:00|\n",
      "|1949-12|       118|1949-12-01 00:00:00|\n",
      "|1950-01|       115|1950-01-01 00:00:00|\n",
      "|1950-02|       126|1950-02-01 00:00:00|\n",
      "|1950-03|       141|1950-03-01 00:00:00|\n",
      "|1950-04|       135|1950-04-01 01:00:00|\n",
      "|1950-05|       125|1950-05-01 00:00:00|\n",
      "|1950-06|       149|1950-06-01 00:00:00|\n",
      "|1950-07|       170|1950-07-01 00:00:00|\n",
      "|1950-08|       170|1950-08-01 00:00:00|\n",
      "+-------+----------+-------------------+\n",
      "only showing top 20 rows\n",
      "\n"
     ]
    }
   ],
   "source": [
    "df1 = df.withColumn('parsed', F.to_timestamp('Month', format='yyyy-MM'))\n",
    "df1.show()"
   ]
  },
  {
   "cell_type": "code",
   "execution_count": 6,
   "metadata": {},
   "outputs": [
    {
     "name": "stdout",
     "output_type": "stream",
     "text": [
      "root\n",
      " |-- Month: string (nullable = true)\n",
      " |-- Passengers: integer (nullable = true)\n",
      " |-- parsed: timestamp (nullable = true)\n",
      "\n"
     ]
    }
   ],
   "source": [
    "df1.printSchema()"
   ]
  },
  {
   "cell_type": "code",
   "execution_count": 7,
   "metadata": {
    "scrolled": false
   },
   "outputs": [
    {
     "name": "stdout",
     "output_type": "stream",
     "text": [
      "+-------+----------+-------------------+\n",
      "|  Month|Passengers|             parsed|\n",
      "+-------+----------+-------------------+\n",
      "|1959-01|       360|1959-01-01 00:00:00|\n",
      "|1959-02|       342|1959-02-01 00:00:00|\n",
      "|1959-03|       406|1959-03-01 00:00:00|\n",
      "|1959-04|       396|1959-04-01 00:00:00|\n",
      "|1959-05|       420|1959-05-01 00:00:00|\n",
      "+-------+----------+-------------------+\n",
      "only showing top 5 rows\n",
      "\n"
     ]
    }
   ],
   "source": [
    "df1.where(df1['parsed'] >= '1959').show(5)"
   ]
  },
  {
   "cell_type": "code",
   "execution_count": 8,
   "metadata": {
    "scrolled": false
   },
   "outputs": [
    {
     "name": "stdout",
     "output_type": "stream",
     "text": [
      "+-------+----------+-------------------+----+\n",
      "|  Month|Passengers|             parsed|   y|\n",
      "+-------+----------+-------------------+----+\n",
      "|1949-01|       112|1949-01-01 00:00:00|1949|\n",
      "|1949-02|       118|1949-02-01 00:00:00|1949|\n",
      "|1949-03|       132|1949-03-01 00:00:00|1949|\n",
      "|1949-04|       129|1949-04-01 00:00:00|1949|\n",
      "|1949-05|       121|1949-05-01 00:00:00|1949|\n",
      "+-------+----------+-------------------+----+\n",
      "only showing top 5 rows\n",
      "\n"
     ]
    }
   ],
   "source": [
    "# 연도의 값만 뽑아 y에 저장\n",
    "df1.withColumn('y', F.year('parsed')).show(5)"
   ]
  },
  {
   "cell_type": "code",
   "execution_count": 9,
   "metadata": {
    "scrolled": true
   },
   "outputs": [
    {
     "name": "stdout",
     "output_type": "stream",
     "text": [
      "+-------+----------+-------------------+---+\n",
      "|  Month|Passengers|             parsed|  m|\n",
      "+-------+----------+-------------------+---+\n",
      "|1949-01|       112|1949-01-01 00:00:00|  1|\n",
      "|1949-02|       118|1949-02-01 00:00:00|  2|\n",
      "|1949-03|       132|1949-03-01 00:00:00|  3|\n",
      "|1949-04|       129|1949-04-01 00:00:00|  4|\n",
      "|1949-05|       121|1949-05-01 00:00:00|  5|\n",
      "+-------+----------+-------------------+---+\n",
      "only showing top 5 rows\n",
      "\n"
     ]
    }
   ],
   "source": [
    "# 월의 값만 뽑아 m에 저장\n",
    "df1.withColumn('m', F.month('parsed')).show(5)"
   ]
  },
  {
   "cell_type": "code",
   "execution_count": 10,
   "metadata": {
    "scrolled": true
   },
   "outputs": [
    {
     "name": "stdout",
     "output_type": "stream",
     "text": [
      "+-------+----------+-------------------+-----------+\n",
      "|  Month|Passengers|             parsed|          f|\n",
      "+-------+----------+-------------------+-----------+\n",
      "|1949-01|       112|1949-01-01 00:00:00|1949년 01월|\n",
      "|1949-02|       118|1949-02-01 00:00:00|1949년 02월|\n",
      "|1949-03|       132|1949-03-01 00:00:00|1949년 03월|\n",
      "|1949-04|       129|1949-04-01 00:00:00|1949년 04월|\n",
      "|1949-05|       121|1949-05-01 00:00:00|1949년 05월|\n",
      "+-------+----------+-------------------+-----------+\n",
      "only showing top 5 rows\n",
      "\n"
     ]
    }
   ],
   "source": [
    "df1.withColumn('f',F.date_format('parsed', 'yyyy년 MM월')).show(5)"
   ]
  },
  {
   "cell_type": "markdown",
   "metadata": {},
   "source": [
    "### selectExpr 사용하여 year 값 출력"
   ]
  },
  {
   "cell_type": "code",
   "execution_count": 11,
   "metadata": {},
   "outputs": [
    {
     "name": "stdout",
     "output_type": "stream",
     "text": [
      "+----+---------+\n",
      "|year|avg(year)|\n",
      "+----+---------+\n",
      "|1949|   1949.0|\n",
      "|1950|   1950.0|\n",
      "|1951|   1951.0|\n",
      "|1952|   1952.0|\n",
      "|1953|   1953.0|\n",
      "+----+---------+\n",
      "only showing top 5 rows\n",
      "\n"
     ]
    }
   ],
   "source": [
    "df1.selectExpr('year(parsed) as year')\\\n",
    "            .groupby('year').mean().orderBy('year').show(5)"
   ]
  },
  {
   "cell_type": "code",
   "execution_count": 12,
   "metadata": {
    "scrolled": true
   },
   "outputs": [
    {
     "name": "stdout",
     "output_type": "stream",
     "text": [
      "+----+---------+------------------+\n",
      "|year|avg(year)|   avg(Passengers)|\n",
      "+----+---------+------------------+\n",
      "|1949|   1949.0|126.66666666666667|\n",
      "|1950|   1950.0|139.66666666666666|\n",
      "|1951|   1951.0|170.16666666666666|\n",
      "|1952|   1952.0|             197.0|\n",
      "|1953|   1953.0|             225.0|\n",
      "+----+---------+------------------+\n",
      "only showing top 5 rows\n",
      "\n"
     ]
    }
   ],
   "source": [
    "df1.selectExpr('year(parsed) as year', 'Passengers').\\\n",
    "            groupby('year').mean().orderBy('year').show(5)"
   ]
  },
  {
   "cell_type": "code",
   "execution_count": 13,
   "metadata": {
    "scrolled": false
   },
   "outputs": [
    {
     "name": "stdout",
     "output_type": "stream",
     "text": [
      "+----+---------------+\n",
      "|year|avg(Passengers)|\n",
      "+----+---------------+\n",
      "|1949|         126.67|\n",
      "|1950|         139.67|\n",
      "|1951|         170.17|\n",
      "|1952|          197.0|\n",
      "|1953|          225.0|\n",
      "|1954|         238.92|\n",
      "|1955|          284.0|\n",
      "|1956|         328.25|\n",
      "|1957|         368.42|\n",
      "|1958|          381.0|\n",
      "|1959|         428.33|\n",
      "|1960|         476.17|\n",
      "+----+---------------+\n",
      "\n"
     ]
    }
   ],
   "source": [
    "# 연도별 평균값\n",
    "df1.groupBy( F.year( 'parsed').alias('year') ).mean().\\\n",
    "    orderBy('year').\\\n",
    "withColumn('avg(Passengers)',F.round('avg(Passengers)',2) ).show()"
   ]
  },
  {
   "cell_type": "markdown",
   "metadata": {},
   "source": [
    "### 주식 데이터 이용"
   ]
  },
  {
   "cell_type": "code",
   "execution_count": 16,
   "metadata": {},
   "outputs": [],
   "source": [
    "from pandas_datareader import data"
   ]
  },
  {
   "cell_type": "code",
   "execution_count": 18,
   "metadata": {},
   "outputs": [],
   "source": [
    "samsungDF = data.get_data_yahoo('005930.KS','2017-01-01')\n",
    "samsungDF.reset_index(inplace=True)"
   ]
  },
  {
   "cell_type": "code",
   "execution_count": 19,
   "metadata": {},
   "outputs": [],
   "source": [
    "sDF = sqlCtx.createDataFrame( samsungDF )"
   ]
  },
  {
   "cell_type": "code",
   "execution_count": 21,
   "metadata": {
    "scrolled": true
   },
   "outputs": [
    {
     "name": "stdout",
     "output_type": "stream",
     "text": [
      "root\n",
      " |-- Date: timestamp (nullable = true)\n",
      " |-- High: double (nullable = true)\n",
      " |-- Low: double (nullable = true)\n",
      " |-- Open: double (nullable = true)\n",
      " |-- Close: double (nullable = true)\n",
      " |-- Volume: double (nullable = true)\n",
      " |-- Adj Close: double (nullable = true)\n",
      "\n"
     ]
    }
   ],
   "source": [
    "sDF.printSchema()"
   ]
  },
  {
   "cell_type": "markdown",
   "metadata": {},
   "source": [
    "#### window 함수 이용"
   ]
  },
  {
   "cell_type": "code",
   "execution_count": 23,
   "metadata": {},
   "outputs": [
    {
     "name": "stdout",
     "output_type": "stream",
     "text": [
      "+--------------------+------------------+\n",
      "|              window|        avg(Close)|\n",
      "+--------------------+------------------+\n",
      "|[2016-12-29 09:00...|36893.333333333336|\n",
      "|[2017-01-12 09:00...|           37822.0|\n",
      "|[2017-01-26 09:00...|           39072.5|\n",
      "|[2017-02-09 09:00...|           38358.0|\n",
      "|[2017-02-23 09:00...|39415.555555555555|\n",
      "|[2017-03-09 09:00...|           41650.0|\n",
      "|[2017-03-23 09:00...|           41664.0|\n",
      "|[2017-04-06 09:00...|           41572.0|\n",
      "|[2017-04-20 09:00...|           43297.5|\n",
      "|[2017-05-04 09:00...|           46087.5|\n",
      "|[2017-05-18 09:00...|           45102.0|\n",
      "|[2017-06-01 09:00...|45586.666666666664|\n",
      "|[2017-06-15 09:00...|           47556.0|\n",
      "|[2017-06-29 09:00...|           48336.0|\n",
      "|[2017-07-13 09:00...|           50548.0|\n",
      "|[2017-07-27 09:00...|           47652.0|\n",
      "|[2017-08-10 09:00...| 46511.11111111111|\n",
      "|[2017-08-24 09:00...|           46612.0|\n",
      "|[2017-09-07 09:00...|           50842.0|\n",
      "|[2017-09-21 09:00...|           52292.0|\n",
      "+--------------------+------------------+\n",
      "only showing top 20 rows\n",
      "\n"
     ]
    }
   ],
   "source": [
    "# 집계 단위를 사용할수 있음 ex) 2주마다 2 week\n",
    "sDF.groupBy(F.window('Date', '2 week')).mean('Close').orderBy('window').show()"
   ]
  }
 ],
 "metadata": {
  "kernelspec": {
   "display_name": "Python 3",
   "language": "python",
   "name": "python3"
  },
  "language_info": {
   "codemirror_mode": {
    "name": "ipython",
    "version": 3
   },
   "file_extension": ".py",
   "mimetype": "text/x-python",
   "name": "python",
   "nbconvert_exporter": "python",
   "pygments_lexer": "ipython3",
   "version": "3.7.6"
  }
 },
 "nbformat": 4,
 "nbformat_minor": 4
}
