{
 "cells": [
  {
   "cell_type": "code",
   "execution_count": 1,
   "metadata": {},
   "outputs": [],
   "source": [
    "from pyspark.sql import  SQLContext \n",
    "from pyspark import SparkContext\n",
    "from pyspark.ml.regression import LinearRegression\n",
    "from pyspark.ml.feature import VectorAssembler # 특성 데이터와 관련된 처리\n",
    "import matplotlib.pyplot as plt\n",
    "import matplotlib\n",
    "import pandas as pd\n",
    "matplotlib.rcParams['font.family'] = 'Malgun Gothic'\n",
    "matplotlib.rcParams['axes.unicode_minus'] = False"
   ]
  },
  {
   "cell_type": "code",
   "execution_count": 2,
   "metadata": {},
   "outputs": [],
   "source": [
    "sc = SparkContext('local')\n",
    "sqlctx = SQLContext(sc)"
   ]
  },
  {
   "cell_type": "code",
   "execution_count": 7,
   "metadata": {},
   "outputs": [
    {
     "name": "stdout",
     "output_type": "stream",
     "text": [
      "+-----+----+\n",
      "|speed|dist|\n",
      "+-----+----+\n",
      "|    4|   2|\n",
      "|    4|  10|\n",
      "|    7|   4|\n",
      "|    7|  22|\n",
      "|    8|  16|\n",
      "|    9|  10|\n",
      "|   10|  18|\n",
      "|   10|  26|\n",
      "|   10|  34|\n",
      "|   11|  17|\n",
      "|   11|  28|\n",
      "|   12|  14|\n",
      "|   12|  20|\n",
      "|   12|  24|\n",
      "|   12|  28|\n",
      "|   13|  26|\n",
      "|   13|  34|\n",
      "|   13|  34|\n",
      "|   13|  46|\n",
      "|   14|  26|\n",
      "+-----+----+\n",
      "only showing top 20 rows\n",
      "\n"
     ]
    }
   ],
   "source": [
    "cardf = sqlctx.read.csv( '../RDD/data/cars.csv',\n",
    "    header=True, inferSchema=True)\n",
    "\n",
    "cardf.show()"
   ]
  },
  {
   "cell_type": "code",
   "execution_count": 8,
   "metadata": {
    "scrolled": true
   },
   "outputs": [
    {
     "data": {
      "image/png": "[encoded data removed]",
      "text/plain": [
       "<Figure size 432x288 with 1 Axes>"
      ]
     },
     "metadata": {
      "needs_background": "light"
     },
     "output_type": "display_data"
    }
   ],
   "source": [
    "pdCar = cardf.toPandas()\n",
    "plt.scatter(pdCar['speed'], pdCar['dist'])\n",
    "plt.show()"
   ]
  },
  {
   "cell_type": "markdown",
   "metadata": {},
   "source": [
    "### 자동차 속도가 15이면 제동거리가 얼마로 예측되는가?\n",
    "- w와 b를 구함\n",
    "    - y = wx + b ( w: 기울기, b : y절편)\n",
    "- 1. 공식\n",
    "- 2. 학습"
   ]
  },
  {
   "cell_type": "code",
   "execution_count": 9,
   "metadata": {},
   "outputs": [
    {
     "data": {
      "text/plain": [
       "0.8068949006892103"
      ]
     },
     "execution_count": 9,
     "metadata": {},
     "output_type": "execute_result"
    }
   ],
   "source": [
    "# 상관관계 확인\n",
    "cardf.corr('dist','speed')"
   ]
  },
  {
   "cell_type": "code",
   "execution_count": 11,
   "metadata": {},
   "outputs": [],
   "source": [
    "# x(자동차 속도 : feature) : 특성 데이터 / N개인 경우 (다중선형회귀), 1개인 경우 (단일선형회귀)\n",
    "# y(제동 거리 : Label) : 정답"
   ]
  },
  {
   "cell_type": "code",
   "execution_count": 35,
   "metadata": {
    "collapsed": true
   },
   "outputs": [
    {
     "name": "stdout",
     "output_type": "stream",
     "text": [
      "+-----+----+--------+\n",
      "|speed|dist|features|\n",
      "+-----+----+--------+\n",
      "|    4|   2|   [4.0]|\n",
      "|    4|  10|   [4.0]|\n",
      "|    7|   4|   [7.0]|\n",
      "|    7|  22|   [7.0]|\n",
      "|    8|  16|   [8.0]|\n",
      "|    9|  10|   [9.0]|\n",
      "|   10|  18|  [10.0]|\n",
      "|   10|  26|  [10.0]|\n",
      "|   10|  34|  [10.0]|\n",
      "|   11|  17|  [11.0]|\n",
      "|   11|  28|  [11.0]|\n",
      "|   12|  14|  [12.0]|\n",
      "|   12|  20|  [12.0]|\n",
      "|   12|  24|  [12.0]|\n",
      "|   12|  28|  [12.0]|\n",
      "|   13|  26|  [13.0]|\n",
      "|   13|  34|  [13.0]|\n",
      "|   13|  34|  [13.0]|\n",
      "|   13|  46|  [13.0]|\n",
      "|   14|  26|  [14.0]|\n",
      "+-----+----+--------+\n",
      "only showing top 20 rows\n",
      "\n"
     ]
    }
   ],
   "source": [
    "# 특성 데이터를 하나로 묶어줌\n",
    "# inputCols : 특성 데이터들\n",
    "# outputCol : 특성 데이터를을 묶어줄 컬럼 이름지정 \n",
    "\n",
    "f = VectorAssembler(inputCols= ['speed'], outputCol='features')\n",
    "v_df = f.transform(cardf)\n",
    "v_df.show()"
   ]
  },
  {
   "cell_type": "code",
   "execution_count": 14,
   "metadata": {
    "scrolled": true
   },
   "outputs": [
    {
     "data": {
      "text/plain": [
       "50"
      ]
     },
     "execution_count": 14,
     "metadata": {},
     "output_type": "execute_result"
    }
   ],
   "source": [
    "v_df.count()"
   ]
  },
  {
   "cell_type": "code",
   "execution_count": 36,
   "metadata": {
    "collapsed": true
   },
   "outputs": [
    {
     "name": "stdout",
     "output_type": "stream",
     "text": [
      "+----+--------+\n",
      "|dist|features|\n",
      "+----+--------+\n",
      "|   2|   [4.0]|\n",
      "|  10|   [4.0]|\n",
      "|   4|   [7.0]|\n",
      "|  22|   [7.0]|\n",
      "|  16|   [8.0]|\n",
      "|  10|   [9.0]|\n",
      "|  18|  [10.0]|\n",
      "|  26|  [10.0]|\n",
      "|  34|  [10.0]|\n",
      "|  17|  [11.0]|\n",
      "|  28|  [11.0]|\n",
      "|  14|  [12.0]|\n",
      "|  20|  [12.0]|\n",
      "|  24|  [12.0]|\n",
      "|  28|  [12.0]|\n",
      "|  26|  [13.0]|\n",
      "|  34|  [13.0]|\n",
      "|  34|  [13.0]|\n",
      "|  46|  [13.0]|\n",
      "|  26|  [14.0]|\n",
      "+----+--------+\n",
      "only showing top 20 rows\n",
      "\n"
     ]
    }
   ],
   "source": [
    "v_df=v_df.select('dist','features')\n",
    "v_df.show()"
   ]
  },
  {
   "cell_type": "code",
   "execution_count": 41,
   "metadata": {},
   "outputs": [],
   "source": [
    "# train (w, b 구하는 학습용 데이터셋)\n",
    "# test( test하는 데이터 셋)\n",
    "\n",
    "# 랜덤하게 데이터 분할 70% 학습용, 30% test용\n",
    "train_df, test_df = v_df.randomSplit([0.7,0.3])"
   ]
  },
  {
   "cell_type": "code",
   "execution_count": 42,
   "metadata": {
    "scrolled": false
   },
   "outputs": [
    {
     "name": "stdout",
     "output_type": "stream",
     "text": [
      "16\n",
      "+----+--------+\n",
      "|dist|features|\n",
      "+----+--------+\n",
      "|   4|   [7.0]|\n",
      "|  17|  [11.0]|\n",
      "|  18|  [10.0]|\n",
      "|  20|  [12.0]|\n",
      "|  20|  [15.0]|\n",
      "|  24|  [12.0]|\n",
      "|  26|  [15.0]|\n",
      "|  28|  [11.0]|\n",
      "|  34|  [10.0]|\n",
      "|  46|  [19.0]|\n",
      "|  54|  [23.0]|\n",
      "|  56|  [20.0]|\n",
      "|  66|  [22.0]|\n",
      "|  68|  [19.0]|\n",
      "|  76|  [18.0]|\n",
      "|  93|  [24.0]|\n",
      "+----+--------+\n",
      "\n"
     ]
    }
   ],
   "source": [
    "print(test_df.count())\n",
    "test_df.show()"
   ]
  },
  {
   "cell_type": "markdown",
   "metadata": {},
   "source": [
    "### 학습"
   ]
  },
  {
   "cell_type": "code",
   "execution_count": 68,
   "metadata": {
    "scrolled": true
   },
   "outputs": [],
   "source": [
    "# 하이퍼 파라미터 : 사용자가 학습에 맞는 설정값을 지정\n",
    "# maxtler : 학습할 횟수\n",
    "# regParam : 러닝 레이트\n",
    "\n",
    "lr = LinearRegression(featuresCol = 'features', \n",
    "                      labelCol='dist',\n",
    "                      maxIter=100)\n",
    "# 학습시작\n",
    "lr_model = lr.fit(train_df) "
   ]
  },
  {
   "cell_type": "code",
   "execution_count": 48,
   "metadata": {
    "scrolled": true
   },
   "outputs": [
    {
     "name": "stdout",
     "output_type": "stream",
     "text": [
      "기울기(w) [3.8172987112146144]\n",
      "절편(b) -14.518527272177318\n"
     ]
    }
   ],
   "source": [
    "#회귀 계수값( 기울기, 절편) y=wx +b  (w,b)\n",
    "print(\"기울기(w)\",lr_model.coefficients )\n",
    "print(\"절편(b)\", lr_model.intercept )"
   ]
  },
  {
   "cell_type": "code",
   "execution_count": 51,
   "metadata": {
    "scrolled": true
   },
   "outputs": [
    {
     "data": {
      "text/plain": [
       "42.7409533960419"
      ]
     },
     "execution_count": 51,
     "metadata": {},
     "output_type": "execute_result"
    }
   ],
   "source": [
    "# 자동차 속도가 15(x)이면 제동거리는 얼마로 예측되는가?\n",
    "w = lr_model.coefficients[0]\n",
    "b = lr_model.intercept\n",
    "\n",
    "# 예측값\n",
    "p = w*15+b\n",
    "p"
   ]
  },
  {
   "cell_type": "markdown",
   "metadata": {},
   "source": [
    "### 그래프 그리기"
   ]
  },
  {
   "cell_type": "code",
   "execution_count": 54,
   "metadata": {},
   "outputs": [],
   "source": [
    "pdCar = cardf.toPandas()\n",
    "pdCar['lr'] = w*pdCar['speed'] + b"
   ]
  },
  {
   "cell_type": "code",
   "execution_count": 55,
   "metadata": {},
   "outputs": [
    {
     "data": {
      "image/png": "[encoded data removed]",
      "text/plain": [
       "<Figure size 432x288 with 1 Axes>"
      ]
     },
     "metadata": {
      "needs_background": "light"
     },
     "output_type": "display_data"
    }
   ],
   "source": [
    "plt.scatter(pdCar['speed'], pdCar['dist'])\n",
    "plt.plot(pdCar['speed'], pdCar['lr'],'r--')\n",
    "plt.show()"
   ]
  }
 ],
 "metadata": {
  "kernelspec": {
   "display_name": "Python 3",
   "language": "python",
   "name": "python3"
  },
  "language_info": {
   "codemirror_mode": {
    "name": "ipython",
    "version": 3
   },
   "file_extension": ".py",
   "mimetype": "text/x-python",
   "name": "python",
   "nbconvert_exporter": "python",
   "pygments_lexer": "ipython3",
   "version": "3.7.6"
  }
 },
 "nbformat": 4,
 "nbformat_minor": 4
}
