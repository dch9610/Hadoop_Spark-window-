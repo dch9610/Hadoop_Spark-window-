{
 "cells": [
  {
   "cell_type": "markdown",
   "metadata": {},
   "source": [
    "### 로지스틱(분류) : 0 또는 1 "
   ]
  },
  {
   "cell_type": "code",
   "execution_count": 5,
   "metadata": {
    "scrolled": true
   },
   "outputs": [],
   "source": [
    "from pyspark.sql import  SQLContext \n",
    "from pyspark import SparkContext\n",
    "from pyspark.ml.classification import LogisticRegression\n",
    "from pyspark.ml.feature import VectorAssembler\n",
    "import matplotlib.pyplot as plt\n",
    "import matplotlib\n",
    "import pandas as pd\n",
    "matplotlib.rcParams['font.family'] = 'Malgun Gothic'\n",
    "matplotlib.rcParams['axes.unicode_minus'] = False\n"
   ]
  },
  {
   "cell_type": "code",
   "execution_count": 2,
   "metadata": {},
   "outputs": [],
   "source": [
    "sc = SparkContext('local')\n",
    "sqlctx = SQLContext(sc)"
   ]
  },
  {
   "cell_type": "code",
   "execution_count": 7,
   "metadata": {
    "scrolled": true
   },
   "outputs": [
    {
     "name": "stdout",
     "output_type": "stream",
     "text": [
      "+--------+------+----+-----+-----+-------+-----------+-----+---------+--------------+-------------+\n",
      "|Survived|Pclass| Age|SibSp|Parch|   Fare|Family_Size|Alone|Sex_index|Embarked_index|Initial_index|\n",
      "+--------+------+----+-----+-----+-------+-----------+-----+---------+--------------+-------------+\n",
      "|       0|     3|22.0|    1|    0|   7.25|          1|    0|      0.0|           0.0|          0.0|\n",
      "|       1|     1|38.0|    1|    0|71.2833|          1|    0|      1.0|           1.0|          2.0|\n",
      "|       1|     3|26.0|    0|    0|  7.925|          0|    1|      1.0|           0.0|          1.0|\n",
      "|       1|     1|35.0|    1|    0|   53.1|          1|    0|      1.0|           0.0|          2.0|\n",
      "|       0|     3|35.0|    0|    0|   8.05|          0|    1|      0.0|           0.0|          0.0|\n",
      "+--------+------+----+-----+-----+-------+-----------+-----+---------+--------------+-------------+\n",
      "only showing top 5 rows\n",
      "\n"
     ]
    }
   ],
   "source": [
    "titanic_df = sqlctx.read.csv( '../RDD/data/titanic1.csv',\n",
    "    header=True, inferSchema=True)\n",
    "\n",
    "titanic_df.show(5)"
   ]
  },
  {
   "cell_type": "code",
   "execution_count": 8,
   "metadata": {},
   "outputs": [],
   "source": [
    "## 특성데이터 : Pclass, Age, Sex_index, Family_Size"
   ]
  },
  {
   "cell_type": "code",
   "execution_count": 9,
   "metadata": {
    "scrolled": true
   },
   "outputs": [
    {
     "name": "stdout",
     "output_type": "stream",
     "text": [
      "+--------+------+----+-----+-----+-------+-----------+-----+---------+--------------+-------------+------------------+\n",
      "|Survived|Pclass| Age|SibSp|Parch|   Fare|Family_Size|Alone|Sex_index|Embarked_index|Initial_index|          features|\n",
      "+--------+------+----+-----+-----+-------+-----------+-----+---------+--------------+-------------+------------------+\n",
      "|       0|     3|22.0|    1|    0|   7.25|          1|    0|      0.0|           0.0|          0.0|[3.0,22.0,0.0,1.0]|\n",
      "|       1|     1|38.0|    1|    0|71.2833|          1|    0|      1.0|           1.0|          2.0|[1.0,38.0,1.0,1.0]|\n",
      "|       1|     3|26.0|    0|    0|  7.925|          0|    1|      1.0|           0.0|          1.0|[3.0,26.0,1.0,0.0]|\n",
      "|       1|     1|35.0|    1|    0|   53.1|          1|    0|      1.0|           0.0|          2.0|[1.0,35.0,1.0,1.0]|\n",
      "|       0|     3|35.0|    0|    0|   8.05|          0|    1|      0.0|           0.0|          0.0|[3.0,35.0,0.0,0.0]|\n",
      "+--------+------+----+-----+-----+-------+-----------+-----+---------+--------------+-------------+------------------+\n",
      "only showing top 5 rows\n",
      "\n"
     ]
    }
   ],
   "source": [
    "f = VectorAssembler(inputCols=['Pclass','Age','Sex_index','Family_Size'], \n",
    "        outputCol='features' )\n",
    "v_df = f.transform( titanic_df )\n",
    "v_df.show(5)\n"
   ]
  },
  {
   "cell_type": "code",
   "execution_count": 12,
   "metadata": {},
   "outputs": [
    {
     "data": {
      "text/plain": [
       "891"
      ]
     },
     "execution_count": 12,
     "metadata": {},
     "output_type": "execute_result"
    }
   ],
   "source": [
    "v_df.count()"
   ]
  },
  {
   "cell_type": "code",
   "execution_count": 20,
   "metadata": {},
   "outputs": [],
   "source": [
    "# 랜덤하게 데이터 분할 80% 학습용, 20% test용\n",
    "train_df, test_df = v_df.randomSplit([0.8,0.2])"
   ]
  },
  {
   "cell_type": "code",
   "execution_count": 21,
   "metadata": {},
   "outputs": [
    {
     "data": {
      "text/plain": [
       "717"
      ]
     },
     "execution_count": 21,
     "metadata": {},
     "output_type": "execute_result"
    }
   ],
   "source": [
    "train_df.count()"
   ]
  },
  {
   "cell_type": "code",
   "execution_count": 22,
   "metadata": {},
   "outputs": [],
   "source": [
    "# 분류 데이터는 로지스틱\n",
    "lr = LogisticRegression(featuresCol = 'features', \n",
    "                          labelCol='Survived',\n",
    "                          maxIter=100, regParam=0.01)\n",
    "lrModel = lr.fit(train_df)"
   ]
  },
  {
   "cell_type": "code",
   "execution_count": 23,
   "metadata": {
    "scrolled": true
   },
   "outputs": [
    {
     "name": "stdout",
     "output_type": "stream",
     "text": [
      "기울기(w) [-1.1253005370969382,-0.034971757520521854,2.45857233744818,-0.17821004430889856]\n",
      "절편(b) 2.316547140952024\n"
     ]
    }
   ],
   "source": [
    "print(\"기울기(w)\",lrModel.coefficients )\n",
    "print(\"절편(b)\", lrModel.intercept )"
   ]
  },
  {
   "cell_type": "code",
   "execution_count": null,
   "metadata": {},
   "outputs": [],
   "source": [
    "# y = w1*x1 + w2*x2 + w3*x3 + w4*x4"
   ]
  },
  {
   "cell_type": "code",
   "execution_count": 26,
   "metadata": {
    "scrolled": true
   },
   "outputs": [
    {
     "name": "stdout",
     "output_type": "stream",
     "text": [
      "+--------+------+----+-----+-----+------+-----------+-----+---------+--------------+-------------+------------------+--------------------+--------------------+----------+\n",
      "|Survived|Pclass| Age|SibSp|Parch|  Fare|Family_Size|Alone|Sex_index|Embarked_index|Initial_index|          features|       rawPrediction|         probability|prediction|\n",
      "+--------+------+----+-----+-----+------+-----------+-----+---------+--------------+-------------+------------------+--------------------+--------------------+----------+\n",
      "|       0|     1|19.0|    3|    2| 263.0|          5|    0|      0.0|           0.0|          0.0|[1.0,19.0,0.0,5.0]|[0.36426701057932...|[0.59007296313283...|       0.0|\n",
      "|       0|     1|24.0|    0|    0|  79.2|          0|    1|      0.0|           1.0|          0.0|[1.0,24.0,0.0,0.0]|[-0.3519244233625...|[0.41291583134965...|       1.0|\n",
      "|       0|     1|25.0|    1|    2|151.55|          3|    0|      1.0|           0.0|          2.0|[1.0,25.0,1.0,3.0]|[-2.2408948703635...|[0.09613775358681...|       1.0|\n",
      "|       0|     1|33.0|    0|    0|   0.0|          0|    1|      0.0|           0.0|          0.0|[1.0,33.0,0.0,0.0]|[-0.0371786056778...|[0.49070641905923...|       1.0|\n",
      "|       0|     1|33.0|    0|    0|   5.0|          0|    1|      0.0|           0.0|          0.0|[1.0,33.0,0.0,0.0]|[-0.0371786056778...|[0.49070641905923...|       1.0|\n",
      "+--------+------+----+-----+-----+------+-----------+-----+---------+--------------+-------------+------------------+--------------------+--------------------+----------+\n",
      "only showing top 5 rows\n",
      "\n"
     ]
    }
   ],
   "source": [
    "# 학습된 모델 테스트\n",
    "lr_predict = lrModel.transform(test_df)\n",
    "lr_predict.show(5)"
   ]
  },
  {
   "cell_type": "code",
   "execution_count": 33,
   "metadata": {},
   "outputs": [
    {
     "name": "stdout",
     "output_type": "stream",
     "text": [
      "+------+----+--------------------+----------+\n",
      "|Pclass| Age|         probability|prediction|\n",
      "+------+----+--------------------+----------+\n",
      "|     1|19.0|[0.59007296313283...|       0.0|\n",
      "|     1|24.0|[0.41291583134965...|       1.0|\n",
      "|     1|25.0|[0.09613775358681...|       1.0|\n",
      "|     1|33.0|[0.49070641905923...|       1.0|\n",
      "|     1|33.0|[0.49070641905923...|       1.0|\n",
      "|     1|33.0|[0.49070641905923...|       1.0|\n",
      "|     1|33.0|[0.49070641905923...|       1.0|\n",
      "|     1|37.0|[0.56977138438258...|       0.0|\n",
      "|     1|39.0|[0.54305608416285...|       0.0|\n",
      "|     1|46.0|[0.60287391215915...|       0.0|\n",
      "|     1|46.0|[0.64466373800669...|       0.0|\n",
      "|     1|49.0|[0.70657133437710...|       0.0|\n",
      "|     1|50.0|[0.67602228665720...|       0.0|\n",
      "|     1|51.0|[0.68363403428324...|       0.0|\n",
      "|     1|54.0|[0.66757296488834...|       0.0|\n",
      "|     1|58.0|[0.76737277506629...|       0.0|\n",
      "|     1|61.0|[0.71950964759565...|       0.0|\n",
      "|     1|65.0|[0.77904808627513...|       0.0|\n",
      "|     2|21.0|[0.69986831876199...|       0.0|\n",
      "|     2|23.0|[0.67664683437803...|       0.0|\n",
      "+------+----+--------------------+----------+\n",
      "only showing top 20 rows\n",
      "\n"
     ]
    }
   ],
   "source": [
    "# probability의 합은 1\n",
    "# [0일 확륙, 1일 확륙]\n",
    "lr_predict.select('Pclass','Age','probability','prediction').show()"
   ]
  }
 ],
 "metadata": {
  "kernelspec": {
   "display_name": "Python 3",
   "language": "python",
   "name": "python3"
  },
  "language_info": {
   "codemirror_mode": {
    "name": "ipython",
    "version": 3
   },
   "file_extension": ".py",
   "mimetype": "text/x-python",
   "name": "python",
   "nbconvert_exporter": "python",
   "pygments_lexer": "ipython3",
   "version": "3.7.6"
  }
 },
 "nbformat": 4,
 "nbformat_minor": 4
}
