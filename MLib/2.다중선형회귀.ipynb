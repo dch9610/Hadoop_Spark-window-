{
 "cells": [
  {
   "cell_type": "code",
   "execution_count": 1,
   "metadata": {},
   "outputs": [],
   "source": [
    "from pyspark.sql import  SQLContext \n",
    "from pyspark import SparkContext\n",
    "from pyspark.ml.regression import LinearRegression\n",
    "from pyspark.ml.feature import VectorAssembler # 특성 데이터와 관련된 처리\n",
    "import matplotlib.pyplot as plt\n",
    "import matplotlib\n",
    "import pandas as pd\n",
    "matplotlib.rcParams['font.family'] = 'Malgun Gothic'\n",
    "matplotlib.rcParams['axes.unicode_minus'] = False"
   ]
  },
  {
   "cell_type": "code",
   "execution_count": 2,
   "metadata": {},
   "outputs": [],
   "source": [
    "sc = SparkContext('local')\n",
    "sqlctx = SQLContext(sc)"
   ]
  },
  {
   "cell_type": "code",
   "execution_count": 8,
   "metadata": {},
   "outputs": [
    {
     "name": "stdout",
     "output_type": "stream",
     "text": [
      "+----+------+------+----------+------+---------+----------+\n",
      "|year|height|weight|     grade|gender|gradecode|gendercode|\n",
      "+----+------+------+----------+------+---------+----------+\n",
      "|2017| 152.5|  47.9|elementary|   man|        2|         1|\n",
      "|2017| 153.2|  46.6|elementary| woman|        2|         0|\n",
      "|2017| 170.6|  63.8|    middle|   man|        0|         1|\n",
      "|2017| 160.4|  54.2|    middle| woman|        0|         0|\n",
      "|2017| 173.9|  72.3|      high|   man|        1|         1|\n",
      "|2017| 160.9|  57.7|      high| woman|        1|         0|\n",
      "+----+------+------+----------+------+---------+----------+\n",
      "\n"
     ]
    }
   ],
   "source": [
    "df1 = sqlctx.read.csv( '../RDD/data/weight.csv',\n",
    "    header=True, inferSchema=True)\n",
    "\n",
    "df1.show()"
   ]
  },
  {
   "cell_type": "code",
   "execution_count": null,
   "metadata": {},
   "outputs": [],
   "source": [
    "# 특성데이터 : height, gradecode, gendercode\n",
    "# 라벨 : weight  (예측하고 싶은값)"
   ]
  },
  {
   "cell_type": "code",
   "execution_count": 11,
   "metadata": {
    "scrolled": true
   },
   "outputs": [
    {
     "name": "stdout",
     "output_type": "stream",
     "text": [
      "+----+------+------+----------+------+---------+----------+---------------+\n",
      "|year|height|weight|     grade|gender|gradecode|gendercode|       features|\n",
      "+----+------+------+----------+------+---------+----------+---------------+\n",
      "|2017| 152.5|  47.9|elementary|   man|        2|         1|[152.5,2.0,1.0]|\n",
      "|2017| 153.2|  46.6|elementary| woman|        2|         0|[153.2,2.0,0.0]|\n",
      "|2017| 170.6|  63.8|    middle|   man|        0|         1|[170.6,0.0,1.0]|\n",
      "|2017| 160.4|  54.2|    middle| woman|        0|         0|[160.4,0.0,0.0]|\n",
      "|2017| 173.9|  72.3|      high|   man|        1|         1|[173.9,1.0,1.0]|\n",
      "|2017| 160.9|  57.7|      high| woman|        1|         0|[160.9,1.0,0.0]|\n",
      "+----+------+------+----------+------+---------+----------+---------------+\n",
      "\n"
     ]
    }
   ],
   "source": [
    "# 특성 데이터를 하나로 묶어줌\n",
    "# inputCols : 특성 데이터들\n",
    "# outputCol : 특성 데이터를을 묶어줄 컬럼 이름지정 \n",
    "\n",
    "f = VectorAssembler(inputCols= ['height','gradecode','gendercode'], outputCol='features')\n",
    "v_df = f.transform(df1)\n",
    "v_df.show()"
   ]
  },
  {
   "cell_type": "code",
   "execution_count": 17,
   "metadata": {},
   "outputs": [],
   "source": [
    "# 학습\n",
    "lr = LinearRegression(featuresCol = 'features', \n",
    "                      labelCol='weight',\n",
    "                      maxIter=100, regParam=0.01)\n",
    "# 학습시작\n",
    "lr_model = lr.fit(v_df) "
   ]
  },
  {
   "cell_type": "code",
   "execution_count": 18,
   "metadata": {},
   "outputs": [
    {
     "name": "stdout",
     "output_type": "stream",
     "text": [
      "기울기(w) [1.244146031075998,1.9919955721540061,-0.8301666802382585]\n",
      "절편(b) -145.94155709709023\n"
     ]
    }
   ],
   "source": [
    "#회귀 계수값( 기울기, 절편) y=wx +b  (w,b)\n",
    "print(\"기울기(w)\",lr_model.coefficients )\n",
    "print(\"절편(b)\", lr_model.intercept )"
   ]
  },
  {
   "cell_type": "code",
   "execution_count": null,
   "metadata": {},
   "outputs": [],
   "source": [
    "# y = w1*x1 + w2*x2 + w3*x3\n",
    "# 키:170, 초등학생 : 2, 남자 : 1"
   ]
  }
 ],
 "metadata": {
  "kernelspec": {
   "display_name": "Python 3",
   "language": "python",
   "name": "python3"
  },
  "language_info": {
   "codemirror_mode": {
    "name": "ipython",
    "version": 3
   },
   "file_extension": ".py",
   "mimetype": "text/x-python",
   "name": "python",
   "nbconvert_exporter": "python",
   "pygments_lexer": "ipython3",
   "version": "3.7.6"
  }
 },
 "nbformat": 4,
 "nbformat_minor": 4
}
