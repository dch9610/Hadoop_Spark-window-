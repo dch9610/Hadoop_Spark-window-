{
 "metadata": {
  "language_info": {
   "codemirror_mode": {
    "name": "ipython",
    "version": 3
   },
   "file_extension": ".py",
   "mimetype": "text/x-python",
   "name": "python",
   "nbconvert_exporter": "python",
   "pygments_lexer": "ipython3",
   "version": "3.7.6-final"
  },
  "orig_nbformat": 2,
  "kernelspec": {
   "name": "python3",
   "display_name": "Python 3",
   "language": "python"
  }
 },
 "nbformat": 4,
 "nbformat_minor": 2,
 "cells": [
  {
   "cell_type": "code",
   "execution_count": 1,
   "metadata": {},
   "outputs": [],
   "source": [
    "import pandas as pd\n",
    "import numpy as np\n",
    "import seaborn as sns\n",
    "from sklearn.datasets import load_boston, load_iris\n",
    "from sklearn.linear_model import LinearRegression,Ridge\n",
    "from sklearn.model_selection import train_test_split\n",
    "from sklearn.model_selection import GridSearchCV\n",
    "from sklearn.model_selection import cross_val_score\n",
    "from sklearn.linear_model import LinearRegression,Ridge, SGDRegressor\n",
    "from sklearn.neural_network import MLPRegressor # 딥러닝 neural_network\n",
    "from sklearn.metrics import r2_score# 선형 모델(Linear Models)\n",
    "\n",
    "import mglearn\n",
    "import matplotlib.pyplot as plt\n",
    "import matplotlib\n",
    "matplotlib.rcParams['font.family']='Malgun Gothic'\n",
    "matplotlib.rcParams['axes.unicode_minus'] = False\n",
    "\n",
    "import warnings\n",
    "warnings.simplefilter('ignore')"
   ]
  },
  {
   "cell_type": "code",
   "execution_count": 2,
   "metadata": {},
   "outputs": [
    {
     "output_type": "execute_result",
     "data": {
      "text/plain": [
       "'\\n1. total_grade.csv (q1,q2,mtot,ftot, finalscore)\\n를 학습하여\\nq1:824, q2:910, mtot:2345612, ftot:1090인경우\\nfinal score 를 예측하시요\\n(linearRegress, SGDRegressor, MLPRegressor\\n각각의 train, test , r2 스코어를 구하시요.)\\n'"
      ]
     },
     "metadata": {},
     "execution_count": 2
    }
   ],
   "source": [
    "'''\n",
    "1. total_grade.csv (q1,q2,mtot,ftot, finalscore)\n",
    "를 학습하여\n",
    "q1:824, q2:910, mtot:2345612, ftot:1090인경우\n",
    "final score 를 예측하시요\n",
    "(linearRegress, SGDRegressor, MLPRegressor\n",
    "각각의 train, test , r2 스코어를 구하시요.)\n",
    "'''"
   ]
  },
  {
   "cell_type": "code",
   "execution_count": 3,
   "metadata": {},
   "outputs": [
    {
     "output_type": "execute_result",
     "data": {
      "text/plain": [
       "      q1     q2       mtot    ftot  finalscore\n",
       "0  828.0  920.0  1234567.0  1020.0      1111.0\n",
       "1  824.0  910.0  2345612.0  1090.0      1234.0\n",
       "2  880.0  900.0  3456123.0  1010.0      1000.0\n",
       "3  870.0  990.0  2312123.0  1001.0      1122.0\n",
       "4  860.0  980.0  3223123.0  1008.0      1133.0"
      ],
      "text/html": "<div>\n<style scoped>\n    .dataframe tbody tr th:only-of-type {\n        vertical-align: middle;\n    }\n\n    .dataframe tbody tr th {\n        vertical-align: top;\n    }\n\n    .dataframe thead th {\n        text-align: right;\n    }\n</style>\n<table border=\"1\" class=\"dataframe\">\n  <thead>\n    <tr style=\"text-align: right;\">\n      <th></th>\n      <th>q1</th>\n      <th>q2</th>\n      <th>mtot</th>\n      <th>ftot</th>\n      <th>finalscore</th>\n    </tr>\n  </thead>\n  <tbody>\n    <tr>\n      <th>0</th>\n      <td>828.0</td>\n      <td>920.0</td>\n      <td>1234567.0</td>\n      <td>1020.0</td>\n      <td>1111.0</td>\n    </tr>\n    <tr>\n      <th>1</th>\n      <td>824.0</td>\n      <td>910.0</td>\n      <td>2345612.0</td>\n      <td>1090.0</td>\n      <td>1234.0</td>\n    </tr>\n    <tr>\n      <th>2</th>\n      <td>880.0</td>\n      <td>900.0</td>\n      <td>3456123.0</td>\n      <td>1010.0</td>\n      <td>1000.0</td>\n    </tr>\n    <tr>\n      <th>3</th>\n      <td>870.0</td>\n      <td>990.0</td>\n      <td>2312123.0</td>\n      <td>1001.0</td>\n      <td>1122.0</td>\n    </tr>\n    <tr>\n      <th>4</th>\n      <td>860.0</td>\n      <td>980.0</td>\n      <td>3223123.0</td>\n      <td>1008.0</td>\n      <td>1133.0</td>\n    </tr>\n  </tbody>\n</table>\n</div>"
     },
     "metadata": {},
     "execution_count": 3
    }
   ],
   "source": [
    "gradeDF = pd.read_csv( '../../data/total_grade.csv')\n",
    "gradeDF.columns =['q1','q2','mtot','ftot','finalscore']\n",
    "gradeDF.head()"
   ]
  },
  {
   "cell_type": "code",
   "execution_count": 4,
   "metadata": {},
   "outputs": [
    {
     "output_type": "execute_result",
     "data": {
      "text/plain": [
       "      q1     q2       mtot    ftot\n",
       "0  828.0  920.0  1234567.0  1020.0\n",
       "1  824.0  910.0  2345612.0  1090.0\n",
       "2  880.0  900.0  3456123.0  1010.0\n",
       "3  870.0  990.0  2312123.0  1001.0\n",
       "4  860.0  980.0  3223123.0  1008.0\n",
       "5  850.0  970.0  2432123.0  1100.0"
      ],
      "text/html": "<div>\n<style scoped>\n    .dataframe tbody tr th:only-of-type {\n        vertical-align: middle;\n    }\n\n    .dataframe tbody tr th {\n        vertical-align: top;\n    }\n\n    .dataframe thead th {\n        text-align: right;\n    }\n</style>\n<table border=\"1\" class=\"dataframe\">\n  <thead>\n    <tr style=\"text-align: right;\">\n      <th></th>\n      <th>q1</th>\n      <th>q2</th>\n      <th>mtot</th>\n      <th>ftot</th>\n    </tr>\n  </thead>\n  <tbody>\n    <tr>\n      <th>0</th>\n      <td>828.0</td>\n      <td>920.0</td>\n      <td>1234567.0</td>\n      <td>1020.0</td>\n    </tr>\n    <tr>\n      <th>1</th>\n      <td>824.0</td>\n      <td>910.0</td>\n      <td>2345612.0</td>\n      <td>1090.0</td>\n    </tr>\n    <tr>\n      <th>2</th>\n      <td>880.0</td>\n      <td>900.0</td>\n      <td>3456123.0</td>\n      <td>1010.0</td>\n    </tr>\n    <tr>\n      <th>3</th>\n      <td>870.0</td>\n      <td>990.0</td>\n      <td>2312123.0</td>\n      <td>1001.0</td>\n    </tr>\n    <tr>\n      <th>4</th>\n      <td>860.0</td>\n      <td>980.0</td>\n      <td>3223123.0</td>\n      <td>1008.0</td>\n    </tr>\n    <tr>\n      <th>5</th>\n      <td>850.0</td>\n      <td>970.0</td>\n      <td>2432123.0</td>\n      <td>1100.0</td>\n    </tr>\n  </tbody>\n</table>\n</div>"
     },
     "metadata": {},
     "execution_count": 4
    }
   ],
   "source": [
    "# 특성데이터 추출\n",
    "gr_x_data = gradeDF[['q1','q2','mtot','ftot']]\n",
    "gr_x_data"
   ]
  },
  {
   "cell_type": "code",
   "execution_count": 5,
   "metadata": {},
   "outputs": [
    {
     "output_type": "execute_result",
     "data": {
      "text/plain": [
       "0    1111.0\n",
       "1    1234.0\n",
       "2    1000.0\n",
       "3    1122.0\n",
       "4    1133.0\n",
       "5    1221.0\n",
       "Name: finalscore, dtype: float64"
      ]
     },
     "metadata": {},
     "execution_count": 5
    }
   ],
   "source": [
    "# 라벨데이터 추출\n",
    "gr_y_data = gradeDF['finalscore']\n",
    "gr_y_data"
   ]
  },
  {
   "source": [
    "### 데이터 정규화"
   ],
   "cell_type": "markdown",
   "metadata": {}
  },
  {
   "cell_type": "code",
   "execution_count": 6,
   "metadata": {},
   "outputs": [],
   "source": [
    "from sklearn.preprocessing import MinMaxScaler, StandardScaler"
   ]
  },
  {
   "cell_type": "code",
   "execution_count": 7,
   "metadata": {},
   "outputs": [],
   "source": [
    "scaleX = StandardScaler()\n",
    "x_dataS = scaleX.fit_transform(gr_x_data)"
   ]
  },
  {
   "cell_type": "code",
   "execution_count": 8,
   "metadata": {},
   "outputs": [
    {
     "output_type": "execute_result",
     "data": {
      "text/plain": [
       "(6, 4)"
      ]
     },
     "metadata": {},
     "execution_count": 8
    }
   ],
   "source": [
    "x_dataS.shape"
   ]
  },
  {
   "cell_type": "code",
   "execution_count": 9,
   "metadata": {},
   "outputs": [],
   "source": [
    "# 입력값 정규화\n",
    "xx = scaleX.transform( [[824,910,2345612,1090]] )"
   ]
  },
  {
   "source": [
    "### train test 데이터 나누기"
   ],
   "cell_type": "markdown",
   "metadata": {}
  },
  {
   "cell_type": "code",
   "execution_count": 10,
   "metadata": {},
   "outputs": [],
   "source": [
    "x_train, x_test, y_train, y_test=train_test_split(x_dataS, gr_y_data, test_size=0.2, random_state=1)"
   ]
  },
  {
   "source": [
    "## LinearRegression()"
   ],
   "cell_type": "markdown",
   "metadata": {}
  },
  {
   "cell_type": "code",
   "execution_count": 11,
   "metadata": {},
   "outputs": [
    {
     "output_type": "execute_result",
     "data": {
      "text/plain": [
       "LinearRegression(copy_X=True, fit_intercept=True, n_jobs=None, normalize=False)"
      ]
     },
     "metadata": {},
     "execution_count": 11
    }
   ],
   "source": [
    "model_lr = LinearRegression()\n",
    "model_lr.fit(gr_x_data,gr_y_data)"
   ]
  },
  {
   "cell_type": "code",
   "execution_count": 12,
   "metadata": {},
   "outputs": [
    {
     "output_type": "execute_result",
     "data": {
      "text/plain": [
       "array([-2.54313540e+00,  1.19754005e+00,  2.08691422e-05,  1.02641452e+00])"
      ]
     },
     "metadata": {},
     "execution_count": 12
    }
   ],
   "source": [
    "# 각 변수에 대한 기울기 \n",
    "model_lr.coef_"
   ]
  },
  {
   "cell_type": "code",
   "execution_count": 13,
   "metadata": {},
   "outputs": [
    {
     "output_type": "execute_result",
     "data": {
      "text/plain": [
       "1054.1343924649852"
      ]
     },
     "metadata": {},
     "execution_count": 13
    }
   ],
   "source": [
    "# b\n",
    "model_lr.intercept_"
   ]
  },
  {
   "cell_type": "code",
   "execution_count": 14,
   "metadata": {},
   "outputs": [
    {
     "output_type": "execute_result",
     "data": {
      "text/plain": [
       "array([1057.73988287])"
      ]
     },
     "metadata": {},
     "execution_count": 14
    }
   ],
   "source": [
    "model_lr.predict(xx)"
   ]
  },
  {
   "cell_type": "code",
   "execution_count": 15,
   "metadata": {},
   "outputs": [
    {
     "output_type": "stream",
     "name": "stdout",
     "text": [
      "훈련데이터 R2 :  -4.421273995233581\n테스트데이터 R2 :  -0.22054396832988532\n"
     ]
    }
   ],
   "source": [
    "# R2 스코어 확인\n",
    "print('훈련데이터 R2 : ',model_lr.score(x_train, y_train))\n",
    "print('테스트데이터 R2 : ',model_lr.score(x_test, y_test))"
   ]
  },
  {
   "source": [
    "## SGDRegressor()"
   ],
   "cell_type": "markdown",
   "metadata": {}
  },
  {
   "cell_type": "code",
   "execution_count": 16,
   "metadata": {},
   "outputs": [
    {
     "output_type": "execute_result",
     "data": {
      "text/plain": [
       "SGDRegressor(alpha=0.0001, average=False, early_stopping=True, epsilon=0.1,\n",
       "             eta0=0.01, fit_intercept=True, l1_ratio=0.15,\n",
       "             learning_rate='invscaling', loss='squared_loss', max_iter=5000,\n",
       "             n_iter_no_change=5, penalty='l2', power_t=0.25, random_state=None,\n",
       "             shuffle=True, tol=0.001, validation_fraction=0.1, verbose=0,\n",
       "             warm_start=False)"
      ]
     },
     "metadata": {},
     "execution_count": 16
    }
   ],
   "source": [
    "modelSGD = SGDRegressor(max_iter=5000, alpha=0.0001,\n",
    "                         early_stopping= True)\n",
    "modelSGD.fit(x_train,y_train)"
   ]
  },
  {
   "cell_type": "code",
   "execution_count": 17,
   "metadata": {},
   "outputs": [
    {
     "output_type": "execute_result",
     "data": {
      "text/plain": [
       "array([848.79791015])"
      ]
     },
     "metadata": {},
     "execution_count": 17
    }
   ],
   "source": [
    "# 예측값\n",
    "modelSGD.predict(xx)"
   ]
  },
  {
   "cell_type": "code",
   "execution_count": 18,
   "metadata": {},
   "outputs": [
    {
     "output_type": "stream",
     "name": "stdout",
     "text": [
      "훈련데이터 R2 :  -2.5609116435077683\n테스트데이터 R2 :  -37.00571459241146\n"
     ]
    }
   ],
   "source": [
    "# R2 스코어 확인\n",
    "print('훈련데이터 R2 : ',modelSGD.score(x_train, y_train))\n",
    "print('테스트데이터 R2 : ',modelSGD.score(x_test, y_test))"
   ]
  },
  {
   "source": [
    "## MLPRegressor()"
   ],
   "cell_type": "markdown",
   "metadata": {}
  },
  {
   "cell_type": "code",
   "execution_count": 19,
   "metadata": {},
   "outputs": [
    {
     "output_type": "execute_result",
     "data": {
      "text/plain": [
       "MLPRegressor(activation='relu', alpha=0.001, batch_size='auto', beta_1=0.9,\n",
       "             beta_2=0.999, early_stopping=False, epsilon=1e-08,\n",
       "             hidden_layer_sizes=(100, 10), learning_rate='constant',\n",
       "             learning_rate_init=0.001, max_iter=5000, momentum=0.9,\n",
       "             n_iter_no_change=10, nesterovs_momentum=True, power_t=0.5,\n",
       "             random_state=None, shuffle=True, solver='adam', tol=0.0001,\n",
       "             validation_fraction=0.1, verbose=False, warm_start=False)"
      ]
     },
     "metadata": {},
     "execution_count": 19
    }
   ],
   "source": [
    "modelNN = MLPRegressor(max_iter=5000, alpha=0.001,\n",
    "                        solver='adam',\n",
    "                         hidden_layer_sizes= (100,10))\n",
    "modelNN.fit(x_train, y_train)"
   ]
  },
  {
   "cell_type": "code",
   "execution_count": 20,
   "metadata": {},
   "outputs": [
    {
     "output_type": "execute_result",
     "data": {
      "text/plain": [
       "array([634.78571293])"
      ]
     },
     "metadata": {},
     "execution_count": 20
    }
   ],
   "source": [
    "# 예측값\n",
    "modelNN.predict(xx)"
   ]
  },
  {
   "cell_type": "code",
   "execution_count": 21,
   "metadata": {},
   "outputs": [
    {
     "output_type": "stream",
     "name": "stdout",
     "text": [
      "훈련데이터 R2 :  0.999992278600427\n테스트데이터 R2 :  -16.72724780316613\n"
     ]
    }
   ],
   "source": [
    "# R2 스코어 확인\n",
    "print('훈련데이터 R2 : ',modelNN.score(x_train, y_train))\n",
    "print('테스트데이터 R2 : ',modelNN.score(x_test, y_test))"
   ]
  },
  {
   "cell_type": "code",
   "execution_count": 22,
   "metadata": {},
   "outputs": [
    {
     "output_type": "execute_result",
     "data": {
      "text/plain": [
       "'\\n2. trees.csv를 읽어들여서 아래에 대해\\nlinearRegress, SGDRegressor, MLPRegressor\\n각각의 train, test , r2 스코어를 구하고\\n아래의 Volume을 예측하시요.\\nGirth 8.8, 10.5\\nHeight 63, 72\\n'"
      ]
     },
     "metadata": {},
     "execution_count": 22
    }
   ],
   "source": [
    "'''\n",
    "2. trees.csv를 읽어들여서 아래에 대해\n",
    "linearRegress, SGDRegressor, MLPRegressor\n",
    "각각의 train, test , r2 스코어를 구하고\n",
    "아래의 Volume을 예측하시요.\n",
    "Girth 8.8, 10.5\n",
    "Height 63, 72\n",
    "'''"
   ]
  },
  {
   "cell_type": "code",
   "execution_count": 23,
   "metadata": {},
   "outputs": [
    {
     "output_type": "execute_result",
     "data": {
      "text/plain": [
       "   Girth  Height  Volume\n",
       "0    8.3      70    10.3\n",
       "1    8.6      65    10.3\n",
       "2    8.8      63    10.2\n",
       "3   10.5      72    16.4\n",
       "4   10.7      81    18.8"
      ],
      "text/html": "<div>\n<style scoped>\n    .dataframe tbody tr th:only-of-type {\n        vertical-align: middle;\n    }\n\n    .dataframe tbody tr th {\n        vertical-align: top;\n    }\n\n    .dataframe thead th {\n        text-align: right;\n    }\n</style>\n<table border=\"1\" class=\"dataframe\">\n  <thead>\n    <tr style=\"text-align: right;\">\n      <th></th>\n      <th>Girth</th>\n      <th>Height</th>\n      <th>Volume</th>\n    </tr>\n  </thead>\n  <tbody>\n    <tr>\n      <th>0</th>\n      <td>8.3</td>\n      <td>70</td>\n      <td>10.3</td>\n    </tr>\n    <tr>\n      <th>1</th>\n      <td>8.6</td>\n      <td>65</td>\n      <td>10.3</td>\n    </tr>\n    <tr>\n      <th>2</th>\n      <td>8.8</td>\n      <td>63</td>\n      <td>10.2</td>\n    </tr>\n    <tr>\n      <th>3</th>\n      <td>10.5</td>\n      <td>72</td>\n      <td>16.4</td>\n    </tr>\n    <tr>\n      <th>4</th>\n      <td>10.7</td>\n      <td>81</td>\n      <td>18.8</td>\n    </tr>\n  </tbody>\n</table>\n</div>"
     },
     "metadata": {},
     "execution_count": 23
    }
   ],
   "source": [
    "treesDF = pd.read_csv( '../../data/trees.csv')\n",
    "treesDF.head()"
   ]
  },
  {
   "cell_type": "code",
   "execution_count": 24,
   "metadata": {},
   "outputs": [
    {
     "output_type": "execute_result",
     "data": {
      "text/plain": [
       "   Girth  Height\n",
       "0    8.3      70\n",
       "1    8.6      65\n",
       "2    8.8      63\n",
       "3   10.5      72\n",
       "4   10.7      81"
      ],
      "text/html": "<div>\n<style scoped>\n    .dataframe tbody tr th:only-of-type {\n        vertical-align: middle;\n    }\n\n    .dataframe tbody tr th {\n        vertical-align: top;\n    }\n\n    .dataframe thead th {\n        text-align: right;\n    }\n</style>\n<table border=\"1\" class=\"dataframe\">\n  <thead>\n    <tr style=\"text-align: right;\">\n      <th></th>\n      <th>Girth</th>\n      <th>Height</th>\n    </tr>\n  </thead>\n  <tbody>\n    <tr>\n      <th>0</th>\n      <td>8.3</td>\n      <td>70</td>\n    </tr>\n    <tr>\n      <th>1</th>\n      <td>8.6</td>\n      <td>65</td>\n    </tr>\n    <tr>\n      <th>2</th>\n      <td>8.8</td>\n      <td>63</td>\n    </tr>\n    <tr>\n      <th>3</th>\n      <td>10.5</td>\n      <td>72</td>\n    </tr>\n    <tr>\n      <th>4</th>\n      <td>10.7</td>\n      <td>81</td>\n    </tr>\n  </tbody>\n</table>\n</div>"
     },
     "metadata": {},
     "execution_count": 24
    }
   ],
   "source": [
    "# 특성데이터 추출\n",
    "tr_x_data = treesDF[['Girth','Height']]\n",
    "tr_x_data.head()"
   ]
  },
  {
   "cell_type": "code",
   "execution_count": 25,
   "metadata": {},
   "outputs": [
    {
     "output_type": "execute_result",
     "data": {
      "text/plain": [
       "0    10.3\n",
       "1    10.3\n",
       "2    10.2\n",
       "3    16.4\n",
       "4    18.8\n",
       "Name: Volume, dtype: float64"
      ]
     },
     "metadata": {},
     "execution_count": 25
    }
   ],
   "source": [
    "# 라벨데이터 추출\n",
    "tr_y_data = treesDF['Volume']\n",
    "tr_y_data.head()"
   ]
  },
  {
   "source": [
    "### 데이터 정규화"
   ],
   "cell_type": "markdown",
   "metadata": {}
  },
  {
   "cell_type": "code",
   "execution_count": 26,
   "metadata": {},
   "outputs": [],
   "source": [
    "scaleX = StandardScaler()\n",
    "x_dataT = scaleX.fit_transform(tr_x_data)"
   ]
  },
  {
   "cell_type": "code",
   "execution_count": 27,
   "metadata": {},
   "outputs": [],
   "source": [
    "# 입력값 정규화\n",
    "yy = scaleX.transform([[8.8,63],[10.5,72]])"
   ]
  },
  {
   "source": [
    "### 데이터나누기"
   ],
   "cell_type": "markdown",
   "metadata": {}
  },
  {
   "cell_type": "code",
   "execution_count": 28,
   "metadata": {},
   "outputs": [],
   "source": [
    "# 정규화된 데이터\n",
    "x_train, x_test, y_train, y_test=train_test_split(x_dataT, tr_y_data, test_size=0.2, random_state=1)"
   ]
  },
  {
   "source": [
    "## LinearRegression()"
   ],
   "cell_type": "markdown",
   "metadata": {}
  },
  {
   "cell_type": "code",
   "execution_count": 29,
   "metadata": {},
   "outputs": [
    {
     "output_type": "execute_result",
     "data": {
      "text/plain": [
       "LinearRegression(copy_X=True, fit_intercept=True, n_jobs=None, normalize=False)"
      ]
     },
     "metadata": {},
     "execution_count": 29
    }
   ],
   "source": [
    "tr_model_lr = LinearRegression()\n",
    "tr_model_lr.fit(x_train,y_train)"
   ]
  },
  {
   "cell_type": "code",
   "execution_count": 30,
   "metadata": {},
   "outputs": [
    {
     "output_type": "stream",
     "name": "stdout",
     "text": [
      "훈련데이터 R2 :  0.9501000553451436\n테스트데이터 R2 :  0.9161318541491206\n"
     ]
    }
   ],
   "source": [
    "# R2 스코어 확인\n",
    "print('훈련데이터 R2 : ',tr_model_lr.score(x_train, y_train))\n",
    "print('테스트데이터 R2 : ',tr_model_lr.score(x_test, y_test))"
   ]
  },
  {
   "cell_type": "code",
   "execution_count": 31,
   "metadata": {},
   "outputs": [
    {
     "output_type": "execute_result",
     "data": {
      "text/plain": [
       "array([ 5.84983575, 16.27579072])"
      ]
     },
     "metadata": {},
     "execution_count": 31
    }
   ],
   "source": [
    "# 예측값\n",
    "tr_model_lr.predict(yy)"
   ]
  },
  {
   "source": [
    "## SGDRegressor()"
   ],
   "cell_type": "markdown",
   "metadata": {}
  },
  {
   "cell_type": "code",
   "execution_count": 32,
   "metadata": {},
   "outputs": [
    {
     "output_type": "execute_result",
     "data": {
      "text/plain": [
       "SGDRegressor(alpha=0.0001, average=False, early_stopping=True, epsilon=0.1,\n",
       "             eta0=0.01, fit_intercept=True, l1_ratio=0.15,\n",
       "             learning_rate='invscaling', loss='squared_loss', max_iter=5000,\n",
       "             n_iter_no_change=5, penalty='l2', power_t=0.25, random_state=None,\n",
       "             shuffle=True, tol=0.001, validation_fraction=0.1, verbose=0,\n",
       "             warm_start=False)"
      ]
     },
     "metadata": {},
     "execution_count": 32
    }
   ],
   "source": [
    "tr_modelSGD = SGDRegressor(max_iter=5000, alpha=0.0001,\n",
    "                         early_stopping= True)\n",
    "tr_modelSGD.fit(x_train,y_train)"
   ]
  },
  {
   "cell_type": "code",
   "execution_count": 33,
   "metadata": {},
   "outputs": [
    {
     "output_type": "stream",
     "name": "stdout",
     "text": [
      "훈련데이터 R2 :  0.9179948586526562\n",
      "테스트데이터 R2 :  0.8773970811055487\n"
     ]
    }
   ],
   "source": [
    "# R2 스코어 확인\n",
    "print('훈련데이터 R2 : ',tr_modelSGD.score(x_train, y_train))\n",
    "print('테스트데이터 R2 : ',tr_modelSGD.score(x_test, y_test))"
   ]
  },
  {
   "cell_type": "code",
   "execution_count": 34,
   "metadata": {},
   "outputs": [
    {
     "output_type": "execute_result",
     "data": {
      "text/plain": [
       "array([ 1.05176976, 13.98904003])"
      ]
     },
     "metadata": {},
     "execution_count": 34
    }
   ],
   "source": [
    "tr_modelSGD.predict(yy)"
   ]
  },
  {
   "source": [
    "## MLPRegressor()"
   ],
   "cell_type": "markdown",
   "metadata": {}
  },
  {
   "cell_type": "code",
   "execution_count": 35,
   "metadata": {},
   "outputs": [
    {
     "output_type": "execute_result",
     "data": {
      "text/plain": [
       "MLPRegressor(activation='relu', alpha=0.001, batch_size='auto', beta_1=0.9,\n",
       "             beta_2=0.999, early_stopping=False, epsilon=1e-08,\n",
       "             hidden_layer_sizes=(100, 10), learning_rate='constant',\n",
       "             learning_rate_init=0.001, max_iter=5000, momentum=0.9,\n",
       "             n_iter_no_change=10, nesterovs_momentum=True, power_t=0.5,\n",
       "             random_state=None, shuffle=True, solver='adam', tol=0.0001,\n",
       "             validation_fraction=0.1, verbose=False, warm_start=False)"
      ]
     },
     "metadata": {},
     "execution_count": 35
    }
   ],
   "source": [
    "tr_modelNN = MLPRegressor(max_iter=5000, alpha=0.001,\n",
    "                        solver='adam',\n",
    "                         hidden_layer_sizes= (100,10))\n",
    "tr_modelNN.fit(x_train, y_train)"
   ]
  },
  {
   "cell_type": "code",
   "execution_count": 36,
   "metadata": {},
   "outputs": [
    {
     "output_type": "stream",
     "name": "stdout",
     "text": [
      "훈련데이터 R2 :  0.9845391282881463\n테스트데이터 R2 :  0.9219108293276757\n"
     ]
    }
   ],
   "source": [
    "print('훈련데이터 R2 : ',tr_modelNN.score(x_train, y_train))\n",
    "print('테스트데이터 R2 : ',tr_modelNN.score(x_test, y_test))"
   ]
  },
  {
   "cell_type": "code",
   "execution_count": 37,
   "metadata": {},
   "outputs": [
    {
     "output_type": "execute_result",
     "data": {
      "text/plain": [
       "array([ 1.05176976, 13.98904003])"
      ]
     },
     "metadata": {},
     "execution_count": 37
    }
   ],
   "source": [
    "tr_modelSGD.predict(yy)"
   ]
  },
  {
   "cell_type": "code",
   "execution_count": 38,
   "metadata": {},
   "outputs": [
    {
     "output_type": "execute_result",
     "data": {
      "text/plain": [
       "'\\n3. volume이 40 이상이면 크다\\n30이상이면 보통 미만이면 적음으로\\n아래와 같이 출력하시요\\nvolume  정도\\n============\\n 10.3    적음\\n...\\n\\n'"
      ]
     },
     "metadata": {},
     "execution_count": 38
    }
   ],
   "source": [
    "'''\n",
    "3. volume이 40 이상이면 크다\n",
    "30이상이면 보통 미만이면 적음으로\n",
    "아래와 같이 출력하시요\n",
    "volume  정도\n",
    "============\n",
    " 10.3    적음\n",
    "...\n",
    "\n",
    "'''"
   ]
  },
  {
   "cell_type": "code",
   "execution_count": 39,
   "metadata": {},
   "outputs": [
    {
     "output_type": "execute_result",
     "data": {
      "text/plain": [
       "array([10.3, 10.3, 10.2, 16.4, 18.8, 19.7, 15.6, 18.2, 22.6, 19.9, 24.2,\n",
       "       21. , 21.4, 21.3, 19.1, 22.2, 33.8, 27.4, 25.7, 24.9, 34.5, 31.7,\n",
       "       36.3, 38.3, 42.6, 55.4, 55.7, 58.3, 51.5, 51. , 77. ])"
      ]
     },
     "metadata": {},
     "execution_count": 39
    }
   ],
   "source": [
    "treesDF['Volume'].values"
   ]
  },
  {
   "cell_type": "code",
   "execution_count": 40,
   "metadata": {},
   "outputs": [],
   "source": [
    "treesDF['정도']=treesDF['Volume'].map(lambda x : '크다' if x>=40 else '보통' if x>=30 else '작다')"
   ]
  },
  {
   "cell_type": "code",
   "execution_count": 41,
   "metadata": {},
   "outputs": [
    {
     "output_type": "execute_result",
     "data": {
      "text/plain": [
       "   Girth  Height  Volume  정도\n",
       "0    8.3      70    10.3  작다\n",
       "1    8.6      65    10.3  작다\n",
       "2    8.8      63    10.2  작다\n",
       "3   10.5      72    16.4  작다\n",
       "4   10.7      81    18.8  작다"
      ],
      "text/html": "<div>\n<style scoped>\n    .dataframe tbody tr th:only-of-type {\n        vertical-align: middle;\n    }\n\n    .dataframe tbody tr th {\n        vertical-align: top;\n    }\n\n    .dataframe thead th {\n        text-align: right;\n    }\n</style>\n<table border=\"1\" class=\"dataframe\">\n  <thead>\n    <tr style=\"text-align: right;\">\n      <th></th>\n      <th>Girth</th>\n      <th>Height</th>\n      <th>Volume</th>\n      <th>정도</th>\n    </tr>\n  </thead>\n  <tbody>\n    <tr>\n      <th>0</th>\n      <td>8.3</td>\n      <td>70</td>\n      <td>10.3</td>\n      <td>작다</td>\n    </tr>\n    <tr>\n      <th>1</th>\n      <td>8.6</td>\n      <td>65</td>\n      <td>10.3</td>\n      <td>작다</td>\n    </tr>\n    <tr>\n      <th>2</th>\n      <td>8.8</td>\n      <td>63</td>\n      <td>10.2</td>\n      <td>작다</td>\n    </tr>\n    <tr>\n      <th>3</th>\n      <td>10.5</td>\n      <td>72</td>\n      <td>16.4</td>\n      <td>작다</td>\n    </tr>\n    <tr>\n      <th>4</th>\n      <td>10.7</td>\n      <td>81</td>\n      <td>18.8</td>\n      <td>작다</td>\n    </tr>\n  </tbody>\n</table>\n</div>"
     },
     "metadata": {},
     "execution_count": 41
    }
   ],
   "source": [
    "treesDF.head()"
   ]
  },
  {
   "cell_type": "code",
   "execution_count": 42,
   "metadata": {},
   "outputs": [
    {
     "output_type": "execute_result",
     "data": {
      "text/plain": [
       "'\\n4. Height  가 가장 작은값과 큰값을\\n구하시요\\n'"
      ]
     },
     "metadata": {},
     "execution_count": 42
    }
   ],
   "source": [
    "'''\n",
    "4. Height  가 가장 작은값과 큰값을\n",
    "구하시요\n",
    "'''"
   ]
  },
  {
   "cell_type": "code",
   "execution_count": 43,
   "metadata": {},
   "outputs": [
    {
     "output_type": "stream",
     "name": "stdout",
     "text": [
      "87 63\n"
     ]
    }
   ],
   "source": [
    "print(treesDF['Height'].max(),treesDF['Height'].min())"
   ]
  },
  {
   "cell_type": "code",
   "execution_count": 44,
   "metadata": {},
   "outputs": [
    {
     "output_type": "execute_result",
     "data": {
      "text/plain": [
       "'\\n5. girth(테두리) 가 가장큰 top5를\\n출력하세요(girth, height, volume)\\n'"
      ]
     },
     "metadata": {},
     "execution_count": 44
    }
   ],
   "source": [
    "'''\n",
    "5. girth(테두리) 가 가장큰 top5를\n",
    "출력하세요(girth, height, volume)\n",
    "'''"
   ]
  },
  {
   "cell_type": "code",
   "execution_count": 45,
   "metadata": {},
   "outputs": [
    {
     "output_type": "execute_result",
     "data": {
      "text/plain": [
       "    Girth  Height  Volume  정도\n",
       "30   20.6      87    77.0  크다\n",
       "29   18.0      80    51.0  크다\n",
       "28   18.0      80    51.5  크다\n",
       "27   17.9      80    58.3  크다\n",
       "26   17.5      82    55.7  크다"
      ],
      "text/html": "<div>\n<style scoped>\n    .dataframe tbody tr th:only-of-type {\n        vertical-align: middle;\n    }\n\n    .dataframe tbody tr th {\n        vertical-align: top;\n    }\n\n    .dataframe thead th {\n        text-align: right;\n    }\n</style>\n<table border=\"1\" class=\"dataframe\">\n  <thead>\n    <tr style=\"text-align: right;\">\n      <th></th>\n      <th>Girth</th>\n      <th>Height</th>\n      <th>Volume</th>\n      <th>정도</th>\n    </tr>\n  </thead>\n  <tbody>\n    <tr>\n      <th>30</th>\n      <td>20.6</td>\n      <td>87</td>\n      <td>77.0</td>\n      <td>크다</td>\n    </tr>\n    <tr>\n      <th>29</th>\n      <td>18.0</td>\n      <td>80</td>\n      <td>51.0</td>\n      <td>크다</td>\n    </tr>\n    <tr>\n      <th>28</th>\n      <td>18.0</td>\n      <td>80</td>\n      <td>51.5</td>\n      <td>크다</td>\n    </tr>\n    <tr>\n      <th>27</th>\n      <td>17.9</td>\n      <td>80</td>\n      <td>58.3</td>\n      <td>크다</td>\n    </tr>\n    <tr>\n      <th>26</th>\n      <td>17.5</td>\n      <td>82</td>\n      <td>55.7</td>\n      <td>크다</td>\n    </tr>\n  </tbody>\n</table>\n</div>"
     },
     "metadata": {},
     "execution_count": 45
    }
   ],
   "source": [
    "treesDF.sort_values('Girth',ascending=False).head()"
   ]
  }
 ]
}