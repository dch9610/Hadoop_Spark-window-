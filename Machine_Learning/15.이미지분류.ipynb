{
 "cells": [
  {
   "cell_type": "code",
   "execution_count": 2,
   "metadata": {},
   "outputs": [],
   "source": [
    "import numpy as np \n",
    "import pandas as pd \n",
    "import seaborn as sb \n",
    "import matplotlib.pyplot as plt\n",
    "\n",
    "import mglearn\n",
    "from sklearn.model_selection import train_test_split\n",
    "from sklearn.neural_network import MLPClassifier\n",
    "from sklearn.linear_model import LogisticRegression\n",
    "\n",
    "from sklearn.datasets import fetch_openml #이미지 분류 데이터셋 (손글씨)\n",
    "\n",
    "\n",
    "import warnings\n",
    "warnings.simplefilter('ignore')\n",
    "\n"
   ]
  },
  {
   "cell_type": "code",
   "execution_count": 7,
   "metadata": {
    "scrolled": true
   },
   "outputs": [],
   "source": [
    "# 데이터 불러오기\n",
    "from sklearn.datasets import fetch_openml\n",
    "mnist = fetch_openml('mnist_784', version=1)\n",
    "\n"
   ]
  },
  {
   "cell_type": "code",
   "execution_count": 9,
   "metadata": {},
   "outputs": [],
   "source": [
    "x_data = mnist['data']\n",
    "y_data = mnist['target']"
   ]
  },
  {
   "cell_type": "code",
   "execution_count": 15,
   "metadata": {},
   "outputs": [
    {
     "data": {
      "text/plain": [
       "(70000, 784)"
      ]
     },
     "execution_count": 15,
     "metadata": {},
     "output_type": "execute_result"
    }
   ],
   "source": [
    "# (이미지개수, 28x28)\n",
    "x_data.shape"
   ]
  },
  {
   "cell_type": "code",
   "execution_count": 16,
   "metadata": {},
   "outputs": [
    {
     "data": {
      "text/plain": [
       "(70000,)"
      ]
     },
     "execution_count": 16,
     "metadata": {},
     "output_type": "execute_result"
    }
   ],
   "source": [
    "# 해당 이미지에 대한 정답\n",
    "y_data.shape"
   ]
  },
  {
   "cell_type": "code",
   "execution_count": 20,
   "metadata": {
    "scrolled": false
   },
   "outputs": [
    {
     "data": {
      "image/png": "[encoded data removed]",
      "text/plain": [
       "<Figure size 432x288 with 1 Axes>"
      ]
     },
     "metadata": {
      "needs_background": "light"
     },
     "output_type": "display_data"
    }
   ],
   "source": [
    "# 2차원 구조로 되어있어야 확인 가능\n",
    "plt.imshow(x_data[0].reshape(28,28), 'gray')\n",
    "plt.show()"
   ]
  },
  {
   "cell_type": "markdown",
   "metadata": {},
   "source": [
    "## 학습 데이터 나누기"
   ]
  },
  {
   "cell_type": "code",
   "execution_count": 22,
   "metadata": {},
   "outputs": [],
   "source": [
    "x_train, x_test, y_train, y_test = train_test_split(x_data, y_data, \n",
    "                    test_size=0.2, stratify=y_data)\n"
   ]
  },
  {
   "cell_type": "markdown",
   "metadata": {},
   "source": [
    "## 학습"
   ]
  },
  {
   "cell_type": "code",
   "execution_count": 23,
   "metadata": {},
   "outputs": [
    {
     "name": "stdout",
     "output_type": "stream",
     "text": [
      "Iteration 1, loss = 3.87094882\n",
      "Iteration 2, loss = 0.98062313\n",
      "Iteration 3, loss = 0.52246059\n",
      "Iteration 4, loss = 0.36243538\n",
      "Iteration 5, loss = 0.27909110\n",
      "Iteration 6, loss = 0.22751479\n",
      "Iteration 7, loss = 0.18648635\n",
      "Iteration 8, loss = 0.16605655\n",
      "Iteration 9, loss = 0.15477975\n",
      "Iteration 10, loss = 0.13481720\n",
      "Iteration 11, loss = 0.12595708\n",
      "Iteration 12, loss = 0.12039511\n",
      "Iteration 13, loss = 0.10796064\n",
      "Iteration 14, loss = 0.10633220\n",
      "Iteration 15, loss = 0.10091132\n",
      "Iteration 16, loss = 0.10011342\n",
      "Iteration 17, loss = 0.09122250\n",
      "Iteration 18, loss = 0.10042884\n",
      "Iteration 19, loss = 0.09591234\n",
      "Iteration 20, loss = 0.09640619\n",
      "Iteration 21, loss = 0.09003116\n",
      "Iteration 22, loss = 0.08184948\n",
      "Iteration 23, loss = 0.08493923\n",
      "Iteration 24, loss = 0.07801859\n",
      "Iteration 25, loss = 0.07080916\n",
      "Iteration 26, loss = 0.07358393\n",
      "Iteration 27, loss = 0.07529803\n",
      "Iteration 28, loss = 0.06415404\n",
      "Iteration 29, loss = 0.06642270\n",
      "Iteration 30, loss = 0.06399765\n",
      "Iteration 31, loss = 0.06362782\n",
      "Iteration 32, loss = 0.06857421\n",
      "Iteration 33, loss = 0.07122169\n",
      "Iteration 34, loss = 0.05318102\n",
      "Iteration 35, loss = 0.05076221\n",
      "Iteration 36, loss = 0.05514372\n",
      "Iteration 37, loss = 0.05659828\n",
      "Iteration 38, loss = 0.05265382\n",
      "Iteration 39, loss = 0.05021284\n",
      "Iteration 40, loss = 0.04147902\n",
      "Iteration 41, loss = 0.05138422\n",
      "Iteration 42, loss = 0.05757492\n",
      "Iteration 43, loss = 0.04656230\n",
      "Iteration 44, loss = 0.05001751\n",
      "Iteration 45, loss = 0.04794990\n",
      "Iteration 46, loss = 0.04865040\n",
      "Iteration 47, loss = 0.04368398\n",
      "Iteration 48, loss = 0.04919821\n",
      "Iteration 49, loss = 0.04613400\n",
      "Iteration 50, loss = 0.04059557\n",
      "Iteration 51, loss = 0.04365949\n",
      "Iteration 52, loss = 0.03890529\n",
      "Iteration 53, loss = 0.03696527\n",
      "Iteration 54, loss = 0.04048929\n",
      "Iteration 55, loss = 0.04957740\n",
      "Iteration 56, loss = 0.03815933\n",
      "Iteration 57, loss = 0.03435977\n",
      "Iteration 58, loss = 0.04388375\n",
      "Iteration 59, loss = 0.03887968\n",
      "Iteration 60, loss = 0.04655511\n",
      "Iteration 61, loss = 0.03592646\n",
      "Iteration 62, loss = 0.03560370\n",
      "Iteration 63, loss = 0.03443191\n",
      "Iteration 64, loss = 0.03870517\n",
      "Iteration 65, loss = 0.04465156\n",
      "Iteration 66, loss = 0.03164382\n",
      "Iteration 67, loss = 0.03230134\n",
      "Iteration 68, loss = 0.03112517\n",
      "Iteration 69, loss = 0.03711439\n",
      "Iteration 70, loss = 0.04797339\n",
      "Iteration 71, loss = 0.03697676\n",
      "Iteration 72, loss = 0.04481425\n",
      "Iteration 73, loss = 0.04018900\n",
      "Iteration 74, loss = 0.02624225\n",
      "Iteration 75, loss = 0.03194783\n",
      "Iteration 76, loss = 0.03399281\n",
      "Iteration 77, loss = 0.03872520\n",
      "Iteration 78, loss = 0.03594439\n",
      "Iteration 79, loss = 0.02596199\n",
      "Iteration 80, loss = 0.02870100\n",
      "Iteration 81, loss = 0.04658277\n",
      "Iteration 82, loss = 0.03455205\n",
      "Iteration 83, loss = 0.03950195\n",
      "Iteration 84, loss = 0.03612412\n",
      "Iteration 85, loss = 0.02919740\n",
      "Iteration 86, loss = 0.02381795\n",
      "Iteration 87, loss = 0.03412488\n",
      "Iteration 88, loss = 0.02955838\n",
      "Iteration 89, loss = 0.04334458\n",
      "Iteration 90, loss = 0.04755491\n",
      "Iteration 91, loss = 0.02535708\n",
      "Iteration 92, loss = 0.02669266\n",
      "Iteration 93, loss = 0.02339126\n",
      "Iteration 94, loss = 0.02739662\n",
      "Iteration 95, loss = 0.03318032\n",
      "Iteration 96, loss = 0.03115302\n",
      "Iteration 97, loss = 0.03306061\n",
      "Iteration 98, loss = 0.03739539\n",
      "Iteration 99, loss = 0.04240266\n",
      "Iteration 100, loss = 0.02919794\n",
      "Iteration 101, loss = 0.03164239\n",
      "Iteration 102, loss = 0.02635393\n",
      "Iteration 103, loss = 0.03399143\n",
      "Iteration 104, loss = 0.02544930\n",
      "Training loss did not improve more than tol=0.000100 for 10 consecutive epochs. Stopping.\n"
     ]
    },
    {
     "data": {
      "text/plain": [
       "MLPClassifier(verbose=1)"
      ]
     },
     "execution_count": 23,
     "metadata": {},
     "output_type": "execute_result"
    }
   ],
   "source": [
    "model = MLPClassifier(verbose=1)\n",
    "model.fit(x_train, y_train)"
   ]
  },
  {
   "cell_type": "code",
   "execution_count": 24,
   "metadata": {},
   "outputs": [
    {
     "data": {
      "text/plain": [
       "0.968"
      ]
     },
     "execution_count": 24,
     "metadata": {},
     "output_type": "execute_result"
    }
   ],
   "source": [
    "model.score(x_test, y_test)"
   ]
  },
  {
   "cell_type": "code",
   "execution_count": 27,
   "metadata": {},
   "outputs": [],
   "source": [
    "# 예측값\n",
    "y_pred= model.predict(x_test)"
   ]
  },
  {
   "cell_type": "code",
   "execution_count": 26,
   "metadata": {},
   "outputs": [],
   "source": [
    "import sklearn.metrics as m"
   ]
  },
  {
   "cell_type": "code",
   "execution_count": 28,
   "metadata": {},
   "outputs": [],
   "source": [
    "cm=m.confusion_matrix(y_test, y_pred)"
   ]
  },
  {
   "cell_type": "code",
   "execution_count": 40,
   "metadata": {},
   "outputs": [
    {
     "data": {
      "text/plain": [
       "array([[1367,    0,    2,    0,    0,    1,    4,    3,    2,    1],\n",
       "       [   0, 1555,    2,    5,    4,    0,    0,    3,    5,    1],\n",
       "       [   7,    5, 1335,   22,    0,    2,    2,    9,   16,    0],\n",
       "       [   1,    4,    9, 1376,    0,   14,    1,    5,   12,    6],\n",
       "       [   0,    2,    4,    0, 1303,    0,    3,    7,    6,   40],\n",
       "       [   3,    1,    3,   20,    3, 1199,    9,    4,   14,    7],\n",
       "       [   5,    1,    0,    0,    3,    6, 1350,    1,    9,    0],\n",
       "       [   4,    6,    5,    3,    5,    2,    0, 1417,    5,   12],\n",
       "       [   9,    6,    4,    8,    3,    5,    2,    6, 1307,   15],\n",
       "       [   7,    5,    0,    7,   11,    4,    0,   12,    3, 1343]],\n",
       "      dtype=int64)"
      ]
     },
     "execution_count": 40,
     "metadata": {},
     "output_type": "execute_result"
    }
   ],
   "source": [
    "cm"
   ]
  },
  {
   "cell_type": "markdown",
   "metadata": {},
   "source": [
    "### 히트맵"
   ]
  },
  {
   "cell_type": "code",
   "execution_count": 31,
   "metadata": {},
   "outputs": [],
   "source": [
    "import seaborn as sns"
   ]
  },
  {
   "cell_type": "code",
   "execution_count": 39,
   "metadata": {},
   "outputs": [
    {
     "data": {
      "image/png": "[encoded data removed]",
      "text/plain": [
       "<Figure size 720x576 with 2 Axes>"
      ]
     },
     "metadata": {
      "needs_background": "light"
     },
     "output_type": "display_data"
    }
   ],
   "source": [
    "plt.figure(figsize=(10,8))\n",
    "sns.heatmap(cm, annot=True, cmap='Reds')\n",
    "plt.show()"
   ]
  },
  {
   "cell_type": "code",
   "execution_count": 43,
   "metadata": {},
   "outputs": [
    {
     "data": {
      "text/plain": [
       "array(['7'], dtype='<U1')"
      ]
     },
     "execution_count": 43,
     "metadata": {},
     "output_type": "execute_result"
    }
   ],
   "source": [
    "model.predict([x_test[0]])"
   ]
  }
 ],
 "metadata": {
  "kernelspec": {
   "display_name": "Python 3",
   "language": "python",
   "name": "python3"
  },
  "language_info": {
   "codemirror_mode": {
    "name": "ipython",
    "version": 3
   },
   "file_extension": ".py",
   "mimetype": "text/x-python",
   "name": "python",
   "nbconvert_exporter": "python",
   "pygments_lexer": "ipython3",
   "version": "3.7.6"
  }
 },
 "nbformat": 4,
 "nbformat_minor": 4
}
