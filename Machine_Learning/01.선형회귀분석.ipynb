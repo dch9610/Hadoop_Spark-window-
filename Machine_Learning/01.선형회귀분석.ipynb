{
 "metadata": {
  "language_info": {
   "codemirror_mode": {
    "name": "ipython",
    "version": 3
   },
   "file_extension": ".py",
   "mimetype": "text/x-python",
   "name": "python",
   "nbconvert_exporter": "python",
   "pygments_lexer": "ipython3",
   "version": "3.7.6-final"
  },
  "orig_nbformat": 2,
  "kernelspec": {
   "name": "python3",
   "display_name": "Python 3",
   "language": "python"
  }
 },
 "nbformat": 4,
 "nbformat_minor": 2,
 "cells": [
  {
   "cell_type": "code",
   "execution_count": 83,
   "metadata": {},
   "outputs": [],
   "source": [
    "import pandas as pd\n",
    "import numpy as np\n",
    "import seaborn as sns\n",
    "from sklearn.datasets import load_boston, load_iris\n",
    "from sklearn.linear_model import LinearRegression,Ridge, SGDRegressor\n",
    "from sklearn.neural_network import MLPRegressor # 딥러닝 neural_network\n",
    "from sklearn.metrics import r2_score# 선형 모델(Linear Models)\n",
    "\n",
    "from sklearn.model_selection import train_test_split\n",
    "\n",
    "import mglearn\n",
    "import matplotlib.pyplot as plt\n",
    "import matplotlib\n",
    "matplotlib.rcParams['font.family']='Malgun Gothic'\n",
    "matplotlib.rcParams['axes.unicode_minus'] = False\n"
   ]
  },
  {
   "cell_type": "code",
   "execution_count": 84,
   "metadata": {},
   "outputs": [],
   "source": [
    "# 행렬데이터로 입력 (n행 1열)\n",
    "x_data = np.array([1,2,3,4,5,6,7,8,9]).reshape(-1,1)\n",
    "y_data = np.array([1,2,3,4,5,6,7,8,9]).reshape(-1,1)\n"
   ]
  },
  {
   "cell_type": "code",
   "execution_count": 85,
   "metadata": {},
   "outputs": [
    {
     "output_type": "execute_result",
     "data": {
      "text/plain": [
       "(9, 1)"
      ]
     },
     "metadata": {},
     "execution_count": 85
    }
   ],
   "source": [
    "x_data.shape"
   ]
  },
  {
   "cell_type": "code",
   "execution_count": 86,
   "metadata": {},
   "outputs": [],
   "source": [
    "# n행 1열 : 행(데이터의 개수), 열 (특성 데이터의 개수)"
   ]
  },
  {
   "cell_type": "code",
   "execution_count": 87,
   "metadata": {},
   "outputs": [
    {
     "output_type": "execute_result",
     "data": {
      "text/plain": [
       "LinearRegression(copy_X=True, fit_intercept=True, n_jobs=None, normalize=False)"
      ]
     },
     "metadata": {},
     "execution_count": 87
    }
   ],
   "source": [
    "# LinearRegression 객체 생성 \n",
    "model_lr = LinearRegression() # 공식\n",
    "model_lr.fit(x_data, y_data)  # 특성 데이터는 반드시 행렬(np 2차원)), 데이터프레임)"
   ]
  },
  {
   "cell_type": "code",
   "execution_count": 88,
   "metadata": {},
   "outputs": [
    {
     "output_type": "execute_result",
     "data": {
      "text/plain": [
       "array([[1.]])"
      ]
     },
     "metadata": {},
     "execution_count": 88
    }
   ],
   "source": [
    "model_lr.coef_ # w값 기울기"
   ]
  },
  {
   "cell_type": "code",
   "execution_count": 89,
   "metadata": {},
   "outputs": [
    {
     "output_type": "execute_result",
     "data": {
      "text/plain": [
       "array([-8.8817842e-16])"
      ]
     },
     "metadata": {},
     "execution_count": 89
    }
   ],
   "source": [
    "model_lr.intercept_ # b값 y절편"
   ]
  },
  {
   "cell_type": "code",
   "execution_count": 90,
   "metadata": {},
   "outputs": [
    {
     "output_type": "execute_result",
     "data": {
      "text/plain": [
       "   speed  dist\n",
       "0      4     2\n",
       "1      4    10\n",
       "2      7     4\n",
       "3      7    22\n",
       "4      8    16"
      ],
      "text/html": "<div>\n<style scoped>\n    .dataframe tbody tr th:only-of-type {\n        vertical-align: middle;\n    }\n\n    .dataframe tbody tr th {\n        vertical-align: top;\n    }\n\n    .dataframe thead th {\n        text-align: right;\n    }\n</style>\n<table border=\"1\" class=\"dataframe\">\n  <thead>\n    <tr style=\"text-align: right;\">\n      <th></th>\n      <th>speed</th>\n      <th>dist</th>\n    </tr>\n  </thead>\n  <tbody>\n    <tr>\n      <th>0</th>\n      <td>4</td>\n      <td>2</td>\n    </tr>\n    <tr>\n      <th>1</th>\n      <td>4</td>\n      <td>10</td>\n    </tr>\n    <tr>\n      <th>2</th>\n      <td>7</td>\n      <td>4</td>\n    </tr>\n    <tr>\n      <th>3</th>\n      <td>7</td>\n      <td>22</td>\n    </tr>\n    <tr>\n      <th>4</th>\n      <td>8</td>\n      <td>16</td>\n    </tr>\n  </tbody>\n</table>\n</div>"
     },
     "metadata": {},
     "execution_count": 90
    }
   ],
   "source": [
    "carDF = pd.read_csv('../data/cars.csv')\n",
    "carDF.head()"
   ]
  },
  {
   "cell_type": "code",
   "execution_count": 91,
   "metadata": {},
   "outputs": [
    {
     "output_type": "execute_result",
     "data": {
      "text/plain": [
       "   speed\n",
       "0      4\n",
       "1      4\n",
       "2      7\n",
       "3      7\n",
       "4      8"
      ],
      "text/html": "<div>\n<style scoped>\n    .dataframe tbody tr th:only-of-type {\n        vertical-align: middle;\n    }\n\n    .dataframe tbody tr th {\n        vertical-align: top;\n    }\n\n    .dataframe thead th {\n        text-align: right;\n    }\n</style>\n<table border=\"1\" class=\"dataframe\">\n  <thead>\n    <tr style=\"text-align: right;\">\n      <th></th>\n      <th>speed</th>\n    </tr>\n  </thead>\n  <tbody>\n    <tr>\n      <th>0</th>\n      <td>4</td>\n    </tr>\n    <tr>\n      <th>1</th>\n      <td>4</td>\n    </tr>\n    <tr>\n      <th>2</th>\n      <td>7</td>\n    </tr>\n    <tr>\n      <th>3</th>\n      <td>7</td>\n    </tr>\n    <tr>\n      <th>4</th>\n      <td>8</td>\n    </tr>\n  </tbody>\n</table>\n</div>"
     },
     "metadata": {},
     "execution_count": 91
    }
   ],
   "source": [
    "carDF[['speed']].head()"
   ]
  },
  {
   "cell_type": "code",
   "execution_count": 92,
   "metadata": {},
   "outputs": [
    {
     "output_type": "execute_result",
     "data": {
      "text/plain": [
       "   dist\n",
       "0     2\n",
       "1    10\n",
       "2     4\n",
       "3    22\n",
       "4    16"
      ],
      "text/html": "<div>\n<style scoped>\n    .dataframe tbody tr th:only-of-type {\n        vertical-align: middle;\n    }\n\n    .dataframe tbody tr th {\n        vertical-align: top;\n    }\n\n    .dataframe thead th {\n        text-align: right;\n    }\n</style>\n<table border=\"1\" class=\"dataframe\">\n  <thead>\n    <tr style=\"text-align: right;\">\n      <th></th>\n      <th>dist</th>\n    </tr>\n  </thead>\n  <tbody>\n    <tr>\n      <th>0</th>\n      <td>2</td>\n    </tr>\n    <tr>\n      <th>1</th>\n      <td>10</td>\n    </tr>\n    <tr>\n      <th>2</th>\n      <td>4</td>\n    </tr>\n    <tr>\n      <th>3</th>\n      <td>22</td>\n    </tr>\n    <tr>\n      <th>4</th>\n      <td>16</td>\n    </tr>\n  </tbody>\n</table>\n</div>"
     },
     "metadata": {},
     "execution_count": 92
    }
   ],
   "source": [
    "carDF[['dist']].head()"
   ]
  },
  {
   "cell_type": "code",
   "execution_count": 93,
   "metadata": {},
   "outputs": [
    {
     "output_type": "execute_result",
     "data": {
      "text/plain": [
       "LinearRegression(copy_X=True, fit_intercept=True, n_jobs=None, normalize=False)"
      ]
     },
     "metadata": {},
     "execution_count": 93
    }
   ],
   "source": [
    "modelCar = LinearRegression()\n",
    "modelCar.fit(carDF[['speed']],carDF[['dist']])"
   ]
  },
  {
   "cell_type": "code",
   "execution_count": 94,
   "metadata": {},
   "outputs": [
    {
     "output_type": "execute_result",
     "data": {
      "text/plain": [
       "array([3.93240876])"
      ]
     },
     "metadata": {},
     "execution_count": 94
    }
   ],
   "source": [
    "# 기울기\n",
    "modelCar.coef_\n",
    "\n",
    "# 기울기 값 가져오기\n",
    "modelCar.coef_[0]"
   ]
  },
  {
   "cell_type": "code",
   "execution_count": 95,
   "metadata": {},
   "outputs": [
    {
     "output_type": "execute_result",
     "data": {
      "text/plain": [
       "array([-17.57909489])"
      ]
     },
     "metadata": {},
     "execution_count": 95
    }
   ],
   "source": [
    "# y절편\n",
    "modelCar.intercept_"
   ]
  },
  {
   "cell_type": "code",
   "execution_count": 96,
   "metadata": {},
   "outputs": [
    {
     "output_type": "execute_result",
     "data": {
      "text/plain": [
       "array([41.4070365])"
      ]
     },
     "metadata": {},
     "execution_count": 96
    }
   ],
   "source": [
    "# 자동차속도 15\n",
    "modelCar.coef_[0] * 15 + modelCar.intercept_"
   ]
  },
  {
   "cell_type": "code",
   "execution_count": 97,
   "metadata": {},
   "outputs": [
    {
     "output_type": "execute_result",
     "data": {
      "text/plain": [
       "array([[41.4070365]])"
      ]
     },
     "metadata": {},
     "execution_count": 97
    }
   ],
   "source": [
    "# predict는 매트릭스(행렬): 행렬곱을 수행\n",
    "modelCar.predict([[15]])"
   ]
  },
  {
   "cell_type": "code",
   "execution_count": 98,
   "metadata": {},
   "outputs": [
    {
     "output_type": "execute_result",
     "data": {
      "text/plain": [
       "array([[33.54221898],\n",
       "       [41.4070365 ]])"
      ]
     },
     "metadata": {},
     "execution_count": 98
    }
   ],
   "source": [
    "# 자동차 속도 13, 15\n",
    "modelCar.predict([[13],[15]])"
   ]
  },
  {
   "cell_type": "code",
   "execution_count": 99,
   "metadata": {},
   "outputs": [],
   "source": [
    "x = np.array([[1,2],[3,4]])\n",
    "y = np.array([[3,4],[5,6]])"
   ]
  },
  {
   "cell_type": "code",
   "execution_count": 100,
   "metadata": {},
   "outputs": [
    {
     "output_type": "execute_result",
     "data": {
      "text/plain": [
       "array([[13, 16],\n",
       "       [29, 36]])"
      ]
     },
     "metadata": {},
     "execution_count": 100
    }
   ],
   "source": [
    "# 행렬곱\n",
    "np.matmul(x,y)"
   ]
  },
  {
   "cell_type": "code",
   "execution_count": 101,
   "metadata": {},
   "outputs": [
    {
     "output_type": "execute_result",
     "data": {
      "text/plain": [
       "array([[-1.84945985],\n",
       "       [-1.84945985],\n",
       "       [ 9.94776642],\n",
       "       [ 9.94776642],\n",
       "       [13.88017518],\n",
       "       [17.81258394],\n",
       "       [21.7449927 ],\n",
       "       [21.7449927 ],\n",
       "       [21.7449927 ],\n",
       "       [25.67740146],\n",
       "       [25.67740146],\n",
       "       [29.60981022],\n",
       "       [29.60981022],\n",
       "       [29.60981022],\n",
       "       [29.60981022],\n",
       "       [33.54221898],\n",
       "       [33.54221898],\n",
       "       [33.54221898],\n",
       "       [33.54221898],\n",
       "       [37.47462774],\n",
       "       [37.47462774],\n",
       "       [37.47462774],\n",
       "       [37.47462774],\n",
       "       [41.4070365 ],\n",
       "       [41.4070365 ],\n",
       "       [41.4070365 ],\n",
       "       [45.33944526],\n",
       "       [45.33944526],\n",
       "       [49.27185401],\n",
       "       [49.27185401],\n",
       "       [49.27185401],\n",
       "       [53.20426277],\n",
       "       [53.20426277],\n",
       "       [53.20426277],\n",
       "       [53.20426277],\n",
       "       [57.13667153],\n",
       "       [57.13667153],\n",
       "       [57.13667153],\n",
       "       [61.06908029],\n",
       "       [61.06908029],\n",
       "       [61.06908029],\n",
       "       [61.06908029],\n",
       "       [61.06908029],\n",
       "       [68.93389781],\n",
       "       [72.86630657],\n",
       "       [76.79871533],\n",
       "       [76.79871533],\n",
       "       [76.79871533],\n",
       "       [76.79871533],\n",
       "       [80.73112409]])"
      ]
     },
     "metadata": {},
     "execution_count": 101
    }
   ],
   "source": [
    "modelCar.predict(carDF[['speed']])"
   ]
  },
  {
   "cell_type": "code",
   "execution_count": 102,
   "metadata": {},
   "outputs": [
    {
     "output_type": "display_data",
     "data": {
      "text/plain": "<Figure size 432x288 with 1 Axes>",
      "image/svg+xml": "<?xml version=\"1.0\" encoding=\"utf-8\" standalone=\"no\"?>\r\n<!DOCTYPE svg PUBLIC \"-//W3C//DTD SVG 1.1//EN\"\r\n  \"http://www.w3.org/Graphics/SVG/1.1/DTD/svg11.dtd\">\r\n<!-- Created with matplotlib (https://matplotlib.org/) -->\r\n<svg height=\"262.7525pt\" version=\"1.1\" viewBox=\"0 0 386.679687 262.7525\" width=\"386.679687pt\" xmlns=\"http://www.w3.org/2000/svg\" xmlns:xlink=\"http://www.w3.org/1999/xlink\">\r\n <defs>\r\n  <style type=\"text/css\">\r\n*{stroke-linecap:butt;stroke-linejoin:round;}\r\n  </style>\r\n </defs>\r\n <g id=\"figure_1\">\r\n  <g id=\"patch_1\">\r\n   <path d=\"M 0 262.7525 \r\nL 386.679687 262.7525 \r\nL 386.679687 0 \r\nL 0 0 \r\nz\r\n\" style=\"fill:none;\"/>\r\n  </g>\r\n  <g id=\"axes_1\">\r\n   <g id=\"patch_2\">\r\n    <path d=\"M 44.679688 224.64 \r\nL 379.479688 224.64 \r\nL 379.479688 7.2 \r\nL 44.679688 7.2 \r\nz\r\n\" style=\"fill:#ffffff;\"/>\r\n   </g>\r\n   <g id=\"PathCollection_1\">\r\n    <defs>\r\n     <path d=\"M 0 3 \r\nC 0.795609 3 1.55874 2.683901 2.12132 2.12132 \r\nC 2.683901 1.55874 3 0.795609 3 0 \r\nC 3 -0.795609 2.683901 -1.55874 2.12132 -2.12132 \r\nC 1.55874 -2.683901 0.795609 -3 0 -3 \r\nC -0.795609 -3 -1.55874 -2.683901 -2.12132 -2.12132 \r\nC -2.683901 -1.55874 -3 -0.795609 -3 0 \r\nC -3 0.795609 -2.683901 1.55874 -2.12132 2.12132 \r\nC -1.55874 2.683901 -0.795609 3 0 3 \r\nz\r\n\" id=\"me08887e15b\" style=\"stroke:#1f77b4;\"/>\r\n    </defs>\r\n    <g clip-path=\"url(#pececf83049)\">\r\n     <use style=\"fill:#1f77b4;stroke:#1f77b4;\" x=\"60.027629\" xlink:href=\"#me08887e15b\" y=\"208.512207\"/>\r\n     <use style=\"fill:#1f77b4;stroke:#1f77b4;\" x=\"60.027629\" xlink:href=\"#me08887e15b\" y=\"195.535516\"/>\r\n     <use style=\"fill:#1f77b4;stroke:#1f77b4;\" x=\"103.471074\" xlink:href=\"#me08887e15b\" y=\"205.268035\"/>\r\n     <use style=\"fill:#1f77b4;stroke:#1f77b4;\" x=\"103.471074\" xlink:href=\"#me08887e15b\" y=\"176.07048\"/>\r\n     <use style=\"fill:#1f77b4;stroke:#1f77b4;\" x=\"117.952223\" xlink:href=\"#me08887e15b\" y=\"185.802998\"/>\r\n     <use style=\"fill:#1f77b4;stroke:#1f77b4;\" x=\"132.433371\" xlink:href=\"#me08887e15b\" y=\"195.535516\"/>\r\n     <use style=\"fill:#1f77b4;stroke:#1f77b4;\" x=\"146.914519\" xlink:href=\"#me08887e15b\" y=\"182.558825\"/>\r\n     <use style=\"fill:#1f77b4;stroke:#1f77b4;\" x=\"146.914519\" xlink:href=\"#me08887e15b\" y=\"169.582135\"/>\r\n     <use style=\"fill:#1f77b4;stroke:#1f77b4;\" x=\"146.914519\" xlink:href=\"#me08887e15b\" y=\"156.605444\"/>\r\n     <use style=\"fill:#1f77b4;stroke:#1f77b4;\" x=\"161.395668\" xlink:href=\"#me08887e15b\" y=\"184.180912\"/>\r\n     <use style=\"fill:#1f77b4;stroke:#1f77b4;\" x=\"161.395668\" xlink:href=\"#me08887e15b\" y=\"166.337962\"/>\r\n     <use style=\"fill:#1f77b4;stroke:#1f77b4;\" x=\"175.876816\" xlink:href=\"#me08887e15b\" y=\"189.047171\"/>\r\n     <use style=\"fill:#1f77b4;stroke:#1f77b4;\" x=\"175.876816\" xlink:href=\"#me08887e15b\" y=\"179.314653\"/>\r\n     <use style=\"fill:#1f77b4;stroke:#1f77b4;\" x=\"175.876816\" xlink:href=\"#me08887e15b\" y=\"172.826307\"/>\r\n     <use style=\"fill:#1f77b4;stroke:#1f77b4;\" x=\"175.876816\" xlink:href=\"#me08887e15b\" y=\"166.337962\"/>\r\n     <use style=\"fill:#1f77b4;stroke:#1f77b4;\" x=\"190.357965\" xlink:href=\"#me08887e15b\" y=\"169.582135\"/>\r\n     <use style=\"fill:#1f77b4;stroke:#1f77b4;\" x=\"190.357965\" xlink:href=\"#me08887e15b\" y=\"156.605444\"/>\r\n     <use style=\"fill:#1f77b4;stroke:#1f77b4;\" x=\"190.357965\" xlink:href=\"#me08887e15b\" y=\"156.605444\"/>\r\n     <use style=\"fill:#1f77b4;stroke:#1f77b4;\" x=\"190.357965\" xlink:href=\"#me08887e15b\" y=\"137.140407\"/>\r\n     <use style=\"fill:#1f77b4;stroke:#1f77b4;\" x=\"204.839113\" xlink:href=\"#me08887e15b\" y=\"169.582135\"/>\r\n     <use style=\"fill:#1f77b4;stroke:#1f77b4;\" x=\"204.839113\" xlink:href=\"#me08887e15b\" y=\"153.361271\"/>\r\n     <use style=\"fill:#1f77b4;stroke:#1f77b4;\" x=\"204.839113\" xlink:href=\"#me08887e15b\" y=\"114.431198\"/>\r\n     <use style=\"fill:#1f77b4;stroke:#1f77b4;\" x=\"204.839113\" xlink:href=\"#me08887e15b\" y=\"81.989471\"/>\r\n     <use style=\"fill:#1f77b4;stroke:#1f77b4;\" x=\"219.320262\" xlink:href=\"#me08887e15b\" y=\"179.314653\"/>\r\n     <use style=\"fill:#1f77b4;stroke:#1f77b4;\" x=\"219.320262\" xlink:href=\"#me08887e15b\" y=\"169.582135\"/>\r\n     <use style=\"fill:#1f77b4;stroke:#1f77b4;\" x=\"219.320262\" xlink:href=\"#me08887e15b\" y=\"124.163716\"/>\r\n     <use style=\"fill:#1f77b4;stroke:#1f77b4;\" x=\"233.80141\" xlink:href=\"#me08887e15b\" y=\"159.849616\"/>\r\n     <use style=\"fill:#1f77b4;stroke:#1f77b4;\" x=\"233.80141\" xlink:href=\"#me08887e15b\" y=\"146.872925\"/>\r\n     <use style=\"fill:#1f77b4;stroke:#1f77b4;\" x=\"248.282559\" xlink:href=\"#me08887e15b\" y=\"159.849616\"/>\r\n     <use style=\"fill:#1f77b4;stroke:#1f77b4;\" x=\"248.282559\" xlink:href=\"#me08887e15b\" y=\"146.872925\"/>\r\n     <use style=\"fill:#1f77b4;stroke:#1f77b4;\" x=\"248.282559\" xlink:href=\"#me08887e15b\" y=\"130.652062\"/>\r\n     <use style=\"fill:#1f77b4;stroke:#1f77b4;\" x=\"262.763707\" xlink:href=\"#me08887e15b\" y=\"143.628753\"/>\r\n     <use style=\"fill:#1f77b4;stroke:#1f77b4;\" x=\"262.763707\" xlink:href=\"#me08887e15b\" y=\"120.919544\"/>\r\n     <use style=\"fill:#1f77b4;stroke:#1f77b4;\" x=\"262.763707\" xlink:href=\"#me08887e15b\" y=\"88.477816\"/>\r\n     <use style=\"fill:#1f77b4;stroke:#1f77b4;\" x=\"262.763707\" xlink:href=\"#me08887e15b\" y=\"75.501125\"/>\r\n     <use style=\"fill:#1f77b4;stroke:#1f77b4;\" x=\"277.244856\" xlink:href=\"#me08887e15b\" y=\"153.361271\"/>\r\n     <use style=\"fill:#1f77b4;stroke:#1f77b4;\" x=\"277.244856\" xlink:href=\"#me08887e15b\" y=\"137.140407\"/>\r\n     <use style=\"fill:#1f77b4;stroke:#1f77b4;\" x=\"277.244856\" xlink:href=\"#me08887e15b\" y=\"101.454507\"/>\r\n     <use style=\"fill:#1f77b4;stroke:#1f77b4;\" x=\"291.726004\" xlink:href=\"#me08887e15b\" y=\"159.849616\"/>\r\n     <use style=\"fill:#1f77b4;stroke:#1f77b4;\" x=\"291.726004\" xlink:href=\"#me08887e15b\" y=\"133.896234\"/>\r\n     <use style=\"fill:#1f77b4;stroke:#1f77b4;\" x=\"291.726004\" xlink:href=\"#me08887e15b\" y=\"127.407889\"/>\r\n     <use style=\"fill:#1f77b4;stroke:#1f77b4;\" x=\"291.726004\" xlink:href=\"#me08887e15b\" y=\"120.919544\"/>\r\n     <use style=\"fill:#1f77b4;stroke:#1f77b4;\" x=\"291.726004\" xlink:href=\"#me08887e15b\" y=\"107.942853\"/>\r\n     <use style=\"fill:#1f77b4;stroke:#1f77b4;\" x=\"320.688301\" xlink:href=\"#me08887e15b\" y=\"104.69868\"/>\r\n     <use style=\"fill:#1f77b4;stroke:#1f77b4;\" x=\"335.169449\" xlink:href=\"#me08887e15b\" y=\"124.163716\"/>\r\n     <use style=\"fill:#1f77b4;stroke:#1f77b4;\" x=\"349.650598\" xlink:href=\"#me08887e15b\" y=\"98.210334\"/>\r\n     <use style=\"fill:#1f77b4;stroke:#1f77b4;\" x=\"349.650598\" xlink:href=\"#me08887e15b\" y=\"62.524434\"/>\r\n     <use style=\"fill:#1f77b4;stroke:#1f77b4;\" x=\"349.650598\" xlink:href=\"#me08887e15b\" y=\"60.902348\"/>\r\n     <use style=\"fill:#1f77b4;stroke:#1f77b4;\" x=\"349.650598\" xlink:href=\"#me08887e15b\" y=\"17.106016\"/>\r\n     <use style=\"fill:#1f77b4;stroke:#1f77b4;\" x=\"364.131746\" xlink:href=\"#me08887e15b\" y=\"73.879039\"/>\r\n    </g>\r\n   </g>\r\n   <g id=\"matplotlib.axis_1\">\r\n    <g id=\"xtick_1\">\r\n     <g id=\"line2d_1\">\r\n      <defs>\r\n       <path d=\"M 0 0 \r\nL 0 3.5 \r\n\" id=\"m62bffeb70c\" style=\"stroke:#000000;stroke-width:0.8;\"/>\r\n      </defs>\r\n      <g>\r\n       <use style=\"stroke:#000000;stroke-width:0.8;\" x=\"74.508777\" xlink:href=\"#m62bffeb70c\" y=\"224.64\"/>\r\n      </g>\r\n     </g>\r\n     <g id=\"text_1\">\r\n      <!-- 5 -->\r\n      <defs>\r\n       <path d=\"M 48 21.921875 \r\nQ 48 11.28125 41.1875 5.03125 \r\nQ 34.375 -1.21875 22.953125 -1.21875 \r\nQ 12.9375 -1.21875 8.0625 1.765625 \r\nL 8.0625 10.15625 \r\nQ 15.53125 5.375 23.046875 5.375 \r\nQ 30.765625 5.375 35.46875 9.84375 \r\nQ 40.1875 14.3125 40.1875 21.4375 \r\nQ 40.1875 28.71875 35.390625 32.6875 \r\nQ 30.609375 36.671875 21.578125 36.671875 \r\nQ 15.53125 36.671875 9.421875 35.9375 \r\nL 11.859375 71.875 \r\nL 44.828125 71.875 \r\nL 44.828125 64.796875 \r\nL 18.84375 64.796875 \r\nL 17.28125 43.171875 \r\nQ 21.046875 43.5 24.171875 43.5 \r\nQ 35.359375 43.5 41.671875 37.71875 \r\nQ 48 31.9375 48 21.921875 \r\nz\r\n\" id=\"MalgunGothic-53\"/>\r\n      </defs>\r\n      <g transform=\"translate(71.754871 239.232187)scale(0.1 -0.1)\">\r\n       <use xlink:href=\"#MalgunGothic-53\"/>\r\n      </g>\r\n     </g>\r\n    </g>\r\n    <g id=\"xtick_2\">\r\n     <g id=\"line2d_2\">\r\n      <g>\r\n       <use style=\"stroke:#000000;stroke-width:0.8;\" x=\"146.914519\" xlink:href=\"#m62bffeb70c\" y=\"224.64\"/>\r\n      </g>\r\n     </g>\r\n     <g id=\"text_2\">\r\n      <!-- 10 -->\r\n      <defs>\r\n       <path d=\"M 34.859375 0 \r\nL 27.09375 0 \r\nL 27.09375 62.0625 \r\nQ 24.859375 59.8125 19.78125 57.203125 \r\nQ 14.703125 54.59375 10.5 53.5625 \r\nL 10.5 61.859375 \r\nQ 15.875 63.375 22.015625 66.796875 \r\nQ 28.171875 70.21875 31.734375 73.4375 \r\nL 34.859375 73.4375 \r\nz\r\n\" id=\"MalgunGothic-49\"/>\r\n       <path d=\"M 4.34375 34.46875 \r\nQ 4.34375 53.515625 10.546875 63.28125 \r\nQ 16.75 73.046875 28.421875 73.046875 \r\nQ 50.828125 73.046875 50.828125 36.234375 \r\nQ 50.828125 18.0625 44.59375 8.421875 \r\nQ 38.375 -1.21875 26.8125 -1.21875 \r\nQ 15.875 -1.21875 10.109375 8.125 \r\nQ 4.34375 17.484375 4.34375 34.46875 \r\nz\r\nM 12.25 34.859375 \r\nQ 12.25 5.375 27.640625 5.375 \r\nQ 42.921875 5.375 42.921875 35.296875 \r\nQ 42.921875 66.40625 28.03125 66.40625 \r\nQ 12.25 66.40625 12.25 34.859375 \r\nz\r\n\" id=\"MalgunGothic-48\"/>\r\n      </defs>\r\n      <g transform=\"translate(141.406707 239.232187)scale(0.1 -0.1)\">\r\n       <use xlink:href=\"#MalgunGothic-49\"/>\r\n       <use x=\"55.078125\" xlink:href=\"#MalgunGothic-48\"/>\r\n      </g>\r\n     </g>\r\n    </g>\r\n    <g id=\"xtick_3\">\r\n     <g id=\"line2d_3\">\r\n      <g>\r\n       <use style=\"stroke:#000000;stroke-width:0.8;\" x=\"219.320262\" xlink:href=\"#m62bffeb70c\" y=\"224.64\"/>\r\n      </g>\r\n     </g>\r\n     <g id=\"text_3\">\r\n      <!-- 15 -->\r\n      <g transform=\"translate(213.812449 239.232187)scale(0.1 -0.1)\">\r\n       <use xlink:href=\"#MalgunGothic-49\"/>\r\n       <use x=\"55.078125\" xlink:href=\"#MalgunGothic-53\"/>\r\n      </g>\r\n     </g>\r\n    </g>\r\n    <g id=\"xtick_4\">\r\n     <g id=\"line2d_4\">\r\n      <g>\r\n       <use style=\"stroke:#000000;stroke-width:0.8;\" x=\"291.726004\" xlink:href=\"#m62bffeb70c\" y=\"224.64\"/>\r\n      </g>\r\n     </g>\r\n     <g id=\"text_4\">\r\n      <!-- 20 -->\r\n      <defs>\r\n       <path d=\"M 39.359375 52.6875 \r\nQ 39.359375 59.125 35.546875 62.78125 \r\nQ 31.734375 66.453125 25.4375 66.453125 \r\nQ 20.953125 66.453125 16.453125 64.125 \r\nQ 11.96875 61.8125 8.34375 57.765625 \r\nL 8.34375 66.15625 \r\nQ 15.328125 73.046875 26.421875 73.046875 \r\nQ 35.640625 73.046875 41.28125 67.71875 \r\nQ 46.921875 62.40625 46.921875 53.375 \r\nQ 46.921875 45.609375 43.3125 39.765625 \r\nQ 39.703125 33.9375 31 27.734375 \r\nQ 22.796875 21.96875 19.59375 18.984375 \r\nQ 16.40625 16.015625 15.109375 13.34375 \r\nQ 13.8125 10.6875 13.8125 7.03125 \r\nL 48.6875 7.03125 \r\nL 48.6875 0 \r\nL 5.5625 0 \r\nL 5.5625 3.515625 \r\nQ 5.5625 9.421875 7.203125 13.59375 \r\nQ 8.84375 17.78125 12.671875 21.75 \r\nQ 16.5 25.734375 24.953125 31.59375 \r\nQ 32.671875 36.921875 36.015625 41.71875 \r\nQ 39.359375 46.53125 39.359375 52.6875 \r\nz\r\n\" id=\"MalgunGothic-50\"/>\r\n      </defs>\r\n      <g transform=\"translate(286.218192 239.232187)scale(0.1 -0.1)\">\r\n       <use xlink:href=\"#MalgunGothic-50\"/>\r\n       <use x=\"55.078125\" xlink:href=\"#MalgunGothic-48\"/>\r\n      </g>\r\n     </g>\r\n    </g>\r\n    <g id=\"xtick_5\">\r\n     <g id=\"line2d_5\">\r\n      <g>\r\n       <use style=\"stroke:#000000;stroke-width:0.8;\" x=\"364.131746\" xlink:href=\"#m62bffeb70c\" y=\"224.64\"/>\r\n      </g>\r\n     </g>\r\n     <g id=\"text_5\">\r\n      <!-- 25 -->\r\n      <g transform=\"translate(358.623934 239.232187)scale(0.1 -0.1)\">\r\n       <use xlink:href=\"#MalgunGothic-50\"/>\r\n       <use x=\"55.078125\" xlink:href=\"#MalgunGothic-53\"/>\r\n      </g>\r\n     </g>\r\n    </g>\r\n    <g id=\"text_6\">\r\n     <!-- speed -->\r\n     <defs>\r\n      <path d=\"M 5.171875 10.453125 \r\nQ 11.921875 5.46875 19.96875 5.46875 \r\nQ 30.90625 5.46875 30.90625 12.84375 \r\nQ 30.90625 16.015625 28.515625 18.09375 \r\nQ 26.125 20.171875 19.09375 22.796875 \r\nQ 10.984375 26.03125 8.125 29.34375 \r\nQ 5.28125 32.671875 5.28125 37.75 \r\nQ 5.28125 44.28125 10.9375 48.375 \r\nQ 16.609375 52.484375 24.75 52.484375 \r\nQ 31.296875 52.484375 36.578125 50.203125 \r\nL 36.578125 42.140625 \r\nQ 30.859375 45.84375 23.53125 45.84375 \r\nQ 18.75 45.84375 16.015625 43.71875 \r\nQ 13.28125 41.609375 13.28125 38.421875 \r\nQ 13.28125 35.015625 15.296875 33.203125 \r\nQ 17.328125 31.390625 24.125 28.71875 \r\nQ 33.296875 25.140625 36.078125 21.71875 \r\nQ 38.875 18.3125 38.875 13.578125 \r\nQ 38.875 6.734375 33.234375 2.75 \r\nQ 27.59375 -1.21875 18.796875 -1.21875 \r\nQ 10.84375 -1.21875 5.171875 1.90625 \r\nz\r\n\" id=\"MalgunGothic-115\"/>\r\n      <path d=\"M 16.15625 7.515625 \r\nL 16.15625 -23.640625 \r\nL 8.40625 -23.640625 \r\nL 8.40625 51.3125 \r\nL 16.15625 51.3125 \r\nL 16.15625 42.234375 \r\nL 16.359375 42.234375 \r\nQ 22.46875 52.484375 34.125 52.484375 \r\nQ 43.890625 52.484375 49.546875 45.625 \r\nQ 55.21875 38.765625 55.21875 27.15625 \r\nQ 55.21875 14.15625 48.84375 6.46875 \r\nQ 42.484375 -1.21875 31.78125 -1.21875 \r\nQ 21.78125 -1.21875 16.359375 7.515625 \r\nz\r\nM 16.15625 20.796875 \r\nQ 16.15625 14.40625 20.421875 9.890625 \r\nQ 24.703125 5.375 31.109375 5.375 \r\nQ 38.671875 5.375 42.984375 11.1875 \r\nQ 47.3125 17 47.3125 27.390625 \r\nQ 47.3125 35.9375 43.234375 40.9375 \r\nQ 39.15625 45.953125 32.375 45.953125 \r\nQ 25.296875 45.953125 20.71875 40.921875 \r\nQ 16.15625 35.890625 16.15625 28.21875 \r\nz\r\n\" id=\"MalgunGothic-112\"/>\r\n      <path d=\"M 49.3125 23.734375 \r\nL 12.9375 23.734375 \r\nQ 13.1875 14.84375 17.703125 10.125 \r\nQ 22.21875 5.421875 29.828125 5.421875 \r\nQ 38.625 5.421875 45.84375 11.234375 \r\nL 45.84375 3.8125 \r\nQ 38.96875 -1.21875 28.03125 -1.21875 \r\nQ 17.1875 -1.21875 11.0625 5.875 \r\nQ 4.9375 12.984375 4.9375 25.53125 \r\nQ 4.9375 37.203125 11.671875 44.84375 \r\nQ 18.40625 52.484375 28.375 52.484375 \r\nQ 38.328125 52.484375 43.8125 45.96875 \r\nQ 49.3125 39.453125 49.3125 27.9375 \r\nz\r\nM 41.3125 30.5625 \r\nQ 41.3125 37.75 37.859375 41.796875 \r\nQ 34.421875 45.84375 28.265625 45.84375 \r\nQ 22.46875 45.84375 18.265625 41.671875 \r\nQ 14.0625 37.5 13.03125 30.5625 \r\nz\r\n\" id=\"MalgunGothic-101\"/>\r\n      <path d=\"M 51.765625 0 \r\nL 44.09375 0 \r\nL 44.09375 8.84375 \r\nL 43.890625 8.84375 \r\nQ 38.1875 -1.21875 26.171875 -1.21875 \r\nQ 16.5 -1.21875 10.71875 5.6875 \r\nQ 4.9375 12.59375 4.9375 24.46875 \r\nQ 4.9375 37.109375 11.375 44.796875 \r\nQ 17.828125 52.484375 28.375 52.484375 \r\nQ 38.96875 52.484375 43.890625 44.09375 \r\nL 44.09375 44.09375 \r\nL 44.09375 75.921875 \r\nL 51.765625 75.921875 \r\nz\r\nM 44.09375 30.90625 \r\nQ 44.09375 37.15625 39.84375 41.546875 \r\nQ 35.59375 45.953125 29.25 45.953125 \r\nQ 21.625 45.953125 17.203125 40.265625 \r\nQ 12.796875 34.578125 12.796875 24.859375 \r\nQ 12.796875 16.015625 16.96875 10.6875 \r\nQ 21.140625 5.375 28.328125 5.375 \r\nQ 35.15625 5.375 39.625 10.40625 \r\nQ 44.09375 15.4375 44.09375 23.09375 \r\nz\r\n\" id=\"MalgunGothic-100\"/>\r\n     </defs>\r\n     <g transform=\"translate(198.549219 253.188437)scale(0.1 -0.1)\">\r\n      <use xlink:href=\"#MalgunGothic-115\"/>\r\n      <use x=\"43.310547\" xlink:href=\"#MalgunGothic-112\"/>\r\n      <use x=\"103.369141\" xlink:href=\"#MalgunGothic-101\"/>\r\n      <use x=\"156.884766\" xlink:href=\"#MalgunGothic-101\"/>\r\n      <use x=\"210.400391\" xlink:href=\"#MalgunGothic-100\"/>\r\n     </g>\r\n    </g>\r\n   </g>\r\n   <g id=\"matplotlib.axis_2\">\r\n    <g id=\"ytick_1\">\r\n     <g id=\"line2d_6\">\r\n      <defs>\r\n       <path d=\"M 0 0 \r\nL -3.5 0 \r\n\" id=\"mdfc15f097a\" style=\"stroke:#000000;stroke-width:0.8;\"/>\r\n      </defs>\r\n      <g>\r\n       <use style=\"stroke:#000000;stroke-width:0.8;\" x=\"44.679688\" xlink:href=\"#mdfc15f097a\" y=\"211.75638\"/>\r\n      </g>\r\n     </g>\r\n     <g id=\"text_7\">\r\n      <!-- 0 -->\r\n      <g transform=\"translate(32.171875 215.552474)scale(0.1 -0.1)\">\r\n       <use xlink:href=\"#MalgunGothic-48\"/>\r\n      </g>\r\n     </g>\r\n    </g>\r\n    <g id=\"ytick_2\">\r\n     <g id=\"line2d_7\">\r\n      <g>\r\n       <use style=\"stroke:#000000;stroke-width:0.8;\" x=\"44.679688\" xlink:href=\"#mdfc15f097a\" y=\"179.314653\"/>\r\n      </g>\r\n     </g>\r\n     <g id=\"text_8\">\r\n      <!-- 20 -->\r\n      <g transform=\"translate(26.664062 183.110746)scale(0.1 -0.1)\">\r\n       <use xlink:href=\"#MalgunGothic-50\"/>\r\n       <use x=\"55.078125\" xlink:href=\"#MalgunGothic-48\"/>\r\n      </g>\r\n     </g>\r\n    </g>\r\n    <g id=\"ytick_3\">\r\n     <g id=\"line2d_8\">\r\n      <g>\r\n       <use style=\"stroke:#000000;stroke-width:0.8;\" x=\"44.679688\" xlink:href=\"#mdfc15f097a\" y=\"146.872925\"/>\r\n      </g>\r\n     </g>\r\n     <g id=\"text_9\">\r\n      <!-- 40 -->\r\n      <defs>\r\n       <path d=\"M 42.234375 71.875 \r\nL 42.234375 24.421875 \r\nL 51.703125 24.421875 \r\nL 51.703125 17.390625 \r\nL 42.234375 17.390625 \r\nL 42.234375 0 \r\nL 34.578125 0 \r\nL 34.578125 17.390625 \r\nL 0.78125 17.390625 \r\nL 0.78125 23.96875 \r\nQ 11.375 35.890625 20.234375 48.578125 \r\nQ 29.109375 61.28125 33.9375 71.875 \r\nz\r\nM 9.765625 24.421875 \r\nL 34.578125 24.421875 \r\nL 34.578125 59.859375 \r\nQ 25.203125 43.5625 14.984375 30.953125 \r\nz\r\n\" id=\"MalgunGothic-52\"/>\r\n      </defs>\r\n      <g transform=\"translate(26.664062 150.669019)scale(0.1 -0.1)\">\r\n       <use xlink:href=\"#MalgunGothic-52\"/>\r\n       <use x=\"55.078125\" xlink:href=\"#MalgunGothic-48\"/>\r\n      </g>\r\n     </g>\r\n    </g>\r\n    <g id=\"ytick_4\">\r\n     <g id=\"line2d_9\">\r\n      <g>\r\n       <use style=\"stroke:#000000;stroke-width:0.8;\" x=\"44.679688\" xlink:href=\"#mdfc15f097a\" y=\"114.431198\"/>\r\n      </g>\r\n     </g>\r\n     <g id=\"text_10\">\r\n      <!-- 60 -->\r\n      <defs>\r\n       <path d=\"M 46.578125 63.578125 \r\nQ 40.921875 66.40625 34.8125 66.40625 \r\nQ 24.859375 66.40625 19.1875 57.640625 \r\nQ 13.53125 48.875 13.578125 34.578125 \r\nL 13.8125 34.578125 \r\nQ 18.796875 44.875 30.28125 44.875 \r\nQ 39.796875 44.875 45.359375 38.71875 \r\nQ 50.921875 32.5625 50.921875 22.65625 \r\nQ 50.921875 12.453125 44.640625 5.609375 \r\nQ 38.375 -1.21875 28.515625 -1.21875 \r\nQ 17.4375 -1.21875 11.5 7.46875 \r\nQ 5.5625 16.15625 5.5625 31.546875 \r\nQ 5.5625 49.703125 13.234375 61.375 \r\nQ 20.90625 73.046875 34.71875 73.046875 \r\nQ 42.1875 73.046875 46.578125 71 \r\nz\r\nM 14.15625 23.53125 \r\nQ 14.15625 15.96875 18.203125 10.671875 \r\nQ 22.265625 5.375 28.8125 5.375 \r\nQ 35.109375 5.375 39.03125 10.078125 \r\nQ 42.96875 14.796875 42.96875 21.6875 \r\nQ 42.96875 29.5 39.203125 33.859375 \r\nQ 35.453125 38.234375 28.71875 38.234375 \r\nQ 22.5625 38.234375 18.359375 33.953125 \r\nQ 14.15625 29.6875 14.15625 23.53125 \r\nz\r\n\" id=\"MalgunGothic-54\"/>\r\n      </defs>\r\n      <g transform=\"translate(26.664062 118.227292)scale(0.1 -0.1)\">\r\n       <use xlink:href=\"#MalgunGothic-54\"/>\r\n       <use x=\"55.078125\" xlink:href=\"#MalgunGothic-48\"/>\r\n      </g>\r\n     </g>\r\n    </g>\r\n    <g id=\"ytick_5\">\r\n     <g id=\"line2d_10\">\r\n      <g>\r\n       <use style=\"stroke:#000000;stroke-width:0.8;\" x=\"44.679688\" xlink:href=\"#mdfc15f097a\" y=\"81.989471\"/>\r\n      </g>\r\n     </g>\r\n     <g id=\"text_11\">\r\n      <!-- 80 -->\r\n      <defs>\r\n       <path d=\"M 4.734375 20.015625 \r\nQ 4.734375 26.078125 8.421875 31.421875 \r\nQ 12.109375 36.765625 18.015625 38.96875 \r\nQ 13.375 41.359375 10.546875 45.546875 \r\nQ 7.71875 49.75 7.71875 54.6875 \r\nQ 7.71875 59.8125 10.296875 64.03125 \r\nQ 12.890625 68.265625 17.53125 70.65625 \r\nQ 22.171875 73.046875 27.78125 73.046875 \r\nQ 36.46875 73.046875 42.1875 67.84375 \r\nQ 47.90625 62.640625 47.90625 54.6875 \r\nQ 47.90625 49.703125 45.015625 45.53125 \r\nQ 42.140625 41.359375 37.703125 38.96875 \r\nQ 43.5625 36.71875 47.21875 31.390625 \r\nQ 50.875 26.078125 50.875 20.015625 \r\nQ 50.875 10.5 44.421875 4.640625 \r\nQ 37.984375 -1.21875 27.78125 -1.21875 \r\nQ 17.671875 -1.21875 11.203125 4.703125 \r\nQ 4.734375 10.640625 4.734375 20.015625 \r\nz\r\nM 12.640625 20.75 \r\nQ 12.640625 13.71875 16.890625 9.546875 \r\nQ 21.140625 5.375 27.828125 5.375 \r\nQ 34.46875 5.375 38.78125 9.671875 \r\nQ 43.109375 13.96875 43.109375 20.75 \r\nQ 43.109375 27.046875 38.78125 31.421875 \r\nQ 34.46875 35.796875 27.828125 35.796875 \r\nQ 21.4375 35.796875 17.03125 31.5625 \r\nQ 12.640625 27.34375 12.640625 20.75 \r\nz\r\nM 15.671875 54.046875 \r\nQ 15.671875 48.828125 19.28125 45.3125 \r\nQ 22.90625 41.796875 27.828125 41.796875 \r\nQ 32.765625 41.796875 36.40625 45.3125 \r\nQ 40.046875 48.828125 40.046875 54.046875 \r\nQ 40.046875 59.421875 36.578125 62.90625 \r\nQ 33.109375 66.40625 27.828125 66.40625 \r\nQ 22.65625 66.40625 19.15625 62.953125 \r\nQ 15.671875 59.515625 15.671875 54.046875 \r\nz\r\n\" id=\"MalgunGothic-56\"/>\r\n      </defs>\r\n      <g transform=\"translate(26.664062 85.785565)scale(0.1 -0.1)\">\r\n       <use xlink:href=\"#MalgunGothic-56\"/>\r\n       <use x=\"55.078125\" xlink:href=\"#MalgunGothic-48\"/>\r\n      </g>\r\n     </g>\r\n    </g>\r\n    <g id=\"ytick_6\">\r\n     <g id=\"line2d_11\">\r\n      <g>\r\n       <use style=\"stroke:#000000;stroke-width:0.8;\" x=\"44.679688\" xlink:href=\"#mdfc15f097a\" y=\"49.547743\"/>\r\n      </g>\r\n     </g>\r\n     <g id=\"text_12\">\r\n      <!-- 100 -->\r\n      <g transform=\"translate(21.15625 53.343837)scale(0.1 -0.1)\">\r\n       <use xlink:href=\"#MalgunGothic-49\"/>\r\n       <use x=\"55.078125\" xlink:href=\"#MalgunGothic-48\"/>\r\n       <use x=\"110.15625\" xlink:href=\"#MalgunGothic-48\"/>\r\n      </g>\r\n     </g>\r\n    </g>\r\n    <g id=\"ytick_7\">\r\n     <g id=\"line2d_12\">\r\n      <g>\r\n       <use style=\"stroke:#000000;stroke-width:0.8;\" x=\"44.679688\" xlink:href=\"#mdfc15f097a\" y=\"17.106016\"/>\r\n      </g>\r\n     </g>\r\n     <g id=\"text_13\">\r\n      <!-- 120 -->\r\n      <g transform=\"translate(21.15625 20.90211)scale(0.1 -0.1)\">\r\n       <use xlink:href=\"#MalgunGothic-49\"/>\r\n       <use x=\"55.078125\" xlink:href=\"#MalgunGothic-50\"/>\r\n       <use x=\"110.15625\" xlink:href=\"#MalgunGothic-48\"/>\r\n      </g>\r\n     </g>\r\n    </g>\r\n    <g id=\"text_14\">\r\n     <!-- dist -->\r\n     <defs>\r\n      <path d=\"M 7.375 69.78125 \r\nQ 7.375 71.96875 8.828125 73.453125 \r\nQ 10.296875 74.953125 12.40625 74.953125 \r\nQ 14.59375 74.953125 16.078125 73.4375 \r\nQ 17.578125 71.921875 17.578125 69.78125 \r\nQ 17.578125 67.578125 16.078125 66.109375 \r\nQ 14.59375 64.65625 12.40625 64.65625 \r\nQ 10.296875 64.65625 8.828125 66.09375 \r\nQ 7.375 67.53125 7.375 69.78125 \r\nz\r\nM 8.453125 0 \r\nL 8.453125 51.3125 \r\nL 16.15625 51.3125 \r\nL 16.15625 0 \r\nz\r\n\" id=\"MalgunGothic-105\"/>\r\n      <path d=\"M 31.734375 0.484375 \r\nQ 28.8125 -1.125 24.265625 -1.125 \r\nQ 11.03125 -1.125 11.03125 13.765625 \r\nL 11.03125 44.625 \r\nL 2.15625 44.625 \r\nL 2.15625 51.3125 \r\nL 11.03125 51.3125 \r\nL 11.03125 63.921875 \r\nL 18.75 66.40625 \r\nL 18.75 51.3125 \r\nL 31.734375 51.3125 \r\nL 31.734375 44.625 \r\nL 18.75 44.625 \r\nL 18.75 15.1875 \r\nQ 18.75 9.765625 20.546875 7.609375 \r\nQ 22.359375 5.46875 26.421875 5.46875 \r\nQ 29.5 5.46875 31.734375 7.171875 \r\nz\r\n\" id=\"MalgunGothic-116\"/>\r\n     </defs>\r\n     <g transform=\"translate(14.792188 124.049687)rotate(-90)scale(0.1 -0.1)\">\r\n      <use xlink:href=\"#MalgunGothic-100\"/>\r\n      <use x=\"60.205078\" xlink:href=\"#MalgunGothic-105\"/>\r\n      <use x=\"84.814453\" xlink:href=\"#MalgunGothic-115\"/>\r\n      <use x=\"128.125\" xlink:href=\"#MalgunGothic-116\"/>\r\n     </g>\r\n    </g>\r\n   </g>\r\n   <g id=\"line2d_13\">\r\n    <path clip-path=\"url(#pececf83049)\" d=\"M 60.027629 214.756364 \r\nL 60.027629 214.756364 \r\nL 103.471074 195.620244 \r\nL 103.471074 195.620244 \r\nL 117.952223 189.241537 \r\nL 132.433371 182.86283 \r\nL 146.914519 176.484124 \r\nL 146.914519 176.484124 \r\nL 146.914519 176.484124 \r\nL 161.395668 170.105417 \r\nL 161.395668 170.105417 \r\nL 175.876816 163.726711 \r\nL 175.876816 163.726711 \r\nL 175.876816 163.726711 \r\nL 175.876816 163.726711 \r\nL 190.357965 157.348004 \r\nL 190.357965 157.348004 \r\nL 190.357965 157.348004 \r\nL 190.357965 157.348004 \r\nL 204.839113 150.969297 \r\nL 204.839113 150.969297 \r\nL 204.839113 150.969297 \r\nL 204.839113 150.969297 \r\nL 219.320262 144.590591 \r\nL 219.320262 144.590591 \r\nL 219.320262 144.590591 \r\nL 233.80141 138.211884 \r\nL 233.80141 138.211884 \r\nL 248.282559 131.833177 \r\nL 248.282559 131.833177 \r\nL 248.282559 131.833177 \r\nL 262.763707 125.454471 \r\nL 262.763707 125.454471 \r\nL 262.763707 125.454471 \r\nL 262.763707 125.454471 \r\nL 277.244856 119.075764 \r\nL 277.244856 119.075764 \r\nL 277.244856 119.075764 \r\nL 291.726004 112.697058 \r\nL 291.726004 112.697058 \r\nL 291.726004 112.697058 \r\nL 291.726004 112.697058 \r\nL 291.726004 112.697058 \r\nL 320.688301 99.939644 \r\nL 335.169449 93.560938 \r\nL 349.650598 87.182231 \r\nL 349.650598 87.182231 \r\nL 349.650598 87.182231 \r\nL 349.650598 87.182231 \r\nL 364.131746 80.803524 \r\n\" style=\"fill:none;stroke:#ff0000;stroke-linecap:square;stroke-width:1.5;\"/>\r\n   </g>\r\n   <g id=\"patch_3\">\r\n    <path d=\"M 44.679688 224.64 \r\nL 44.679688 7.2 \r\n\" style=\"fill:none;stroke:#000000;stroke-linecap:square;stroke-linejoin:miter;stroke-width:0.8;\"/>\r\n   </g>\r\n   <g id=\"patch_4\">\r\n    <path d=\"M 379.479688 224.64 \r\nL 379.479688 7.2 \r\n\" style=\"fill:none;stroke:#000000;stroke-linecap:square;stroke-linejoin:miter;stroke-width:0.8;\"/>\r\n   </g>\r\n   <g id=\"patch_5\">\r\n    <path d=\"M 44.679688 224.64 \r\nL 379.479687 224.64 \r\n\" style=\"fill:none;stroke:#000000;stroke-linecap:square;stroke-linejoin:miter;stroke-width:0.8;\"/>\r\n   </g>\r\n   <g id=\"patch_6\">\r\n    <path d=\"M 44.679688 7.2 \r\nL 379.479687 7.2 \r\n\" style=\"fill:none;stroke:#000000;stroke-linecap:square;stroke-linejoin:miter;stroke-width:0.8;\"/>\r\n   </g>\r\n  </g>\r\n </g>\r\n <defs>\r\n  <clipPath id=\"pececf83049\">\r\n   <rect height=\"217.44\" width=\"334.8\" x=\"44.679688\" y=\"7.2\"/>\r\n  </clipPath>\r\n </defs>\r\n</svg>\r\n",
      "image/png": "[encoded data removed]"
     },
     "metadata": {
      "needs_background": "light"
     }
    }
   ],
   "source": [
    "# 시각화\n",
    "\n",
    "# 실제값\n",
    "plt.xlabel('speed')\n",
    "plt.ylabel('dist')\n",
    "plt.scatter(carDF['speed'],carDF['dist'])\n",
    "\n",
    "# 예측값\n",
    "plt.plot(carDF['speed'],modelCar.predict(carDF[['speed']]), 'r')\n",
    "plt.show()"
   ]
  },
  {
   "source": [
    "### 연습문제\n",
    "electric.csv  w, b를 구하시고\n",
    "전기생산량이 3.2, 4.5 인경우 전기 사용량을 예측하시요.\n",
    "scatter(실제데이터), plot(예측데이터)를 그리시요.\n",
    "\n",
    "\n"
   ],
   "cell_type": "markdown",
   "metadata": {}
  },
  {
   "cell_type": "code",
   "execution_count": 103,
   "metadata": {},
   "outputs": [
    {
     "output_type": "execute_result",
     "data": {
      "text/plain": [
       "   전기생산량  전기사용량\n",
       "0   3.52   2.48\n",
       "1   2.58   2.27\n",
       "2   3.31   2.47\n",
       "3   4.07   2.77\n",
       "4   4.62   2.98"
      ],
      "text/html": "<div>\n<style scoped>\n    .dataframe tbody tr th:only-of-type {\n        vertical-align: middle;\n    }\n\n    .dataframe tbody tr th {\n        vertical-align: top;\n    }\n\n    .dataframe thead th {\n        text-align: right;\n    }\n</style>\n<table border=\"1\" class=\"dataframe\">\n  <thead>\n    <tr style=\"text-align: right;\">\n      <th></th>\n      <th>전기생산량</th>\n      <th>전기사용량</th>\n    </tr>\n  </thead>\n  <tbody>\n    <tr>\n      <th>0</th>\n      <td>3.52</td>\n      <td>2.48</td>\n    </tr>\n    <tr>\n      <th>1</th>\n      <td>2.58</td>\n      <td>2.27</td>\n    </tr>\n    <tr>\n      <th>2</th>\n      <td>3.31</td>\n      <td>2.47</td>\n    </tr>\n    <tr>\n      <th>3</th>\n      <td>4.07</td>\n      <td>2.77</td>\n    </tr>\n    <tr>\n      <th>4</th>\n      <td>4.62</td>\n      <td>2.98</td>\n    </tr>\n  </tbody>\n</table>\n</div>"
     },
     "metadata": {},
     "execution_count": 103
    }
   ],
   "source": [
    "# 데이터 불러오기\n",
    "eleDF = pd.read_csv('../data/electric.csv',index_col='Unnamed: 0')\n",
    "eleDF.head()"
   ]
  },
  {
   "cell_type": "code",
   "execution_count": 104,
   "metadata": {},
   "outputs": [
    {
     "output_type": "execute_result",
     "data": {
      "text/plain": [
       "LinearRegression(copy_X=True, fit_intercept=True, n_jobs=None, normalize=False)"
      ]
     },
     "metadata": {},
     "execution_count": 104
    }
   ],
   "source": [
    "# 모델적용, 학습\n",
    "modelEle = LinearRegression()\n",
    "modelEle.fit(eleDF[['전기생산량']],eleDF[['전기사용량']])"
   ]
  },
  {
   "cell_type": "code",
   "execution_count": 105,
   "metadata": {},
   "outputs": [
    {
     "output_type": "execute_result",
     "data": {
      "text/plain": [
       "array([[0.49560324]])"
      ]
     },
     "metadata": {},
     "execution_count": 105
    }
   ],
   "source": [
    "# 기울기 w\n",
    "modelEle.coef_"
   ]
  },
  {
   "cell_type": "code",
   "execution_count": 106,
   "metadata": {},
   "outputs": [
    {
     "output_type": "execute_result",
     "data": {
      "text/plain": [
       "array([0.91958143])"
      ]
     },
     "metadata": {},
     "execution_count": 106
    }
   ],
   "source": [
    "# y절편 b\n",
    "modelEle.intercept_"
   ]
  },
  {
   "cell_type": "code",
   "execution_count": 107,
   "metadata": {},
   "outputs": [
    {
     "output_type": "execute_result",
     "data": {
      "text/plain": [
       "array([[2.50551178],\n",
       "       [3.14979599]])"
      ]
     },
     "metadata": {},
     "execution_count": 107
    }
   ],
   "source": [
    "# 예측\n",
    "modelEle.predict([[3.2],[4.5]])"
   ]
  },
  {
   "cell_type": "code",
   "execution_count": 108,
   "metadata": {},
   "outputs": [
    {
     "output_type": "display_data",
     "data": {
      "text/plain": "<Figure size 432x288 with 1 Axes>",
      "image/svg+xml": "<?xml version=\"1.0\" encoding=\"utf-8\" standalone=\"no\"?>\r\n<!DOCTYPE svg PUBLIC \"-//W3C//DTD SVG 1.1//EN\"\r\n  \"http://www.w3.org/Graphics/SVG/1.1/DTD/svg11.dtd\">\r\n<!-- Created with matplotlib (https://matplotlib.org/) -->\r\n<svg height=\"262.7525pt\" version=\"1.1\" viewBox=\"0 0 383.359375 262.7525\" width=\"383.359375pt\" xmlns=\"http://www.w3.org/2000/svg\" xmlns:xlink=\"http://www.w3.org/1999/xlink\">\r\n <defs>\r\n  <style type=\"text/css\">\r\n*{stroke-linecap:butt;stroke-linejoin:round;}\r\n  </style>\r\n </defs>\r\n <g id=\"figure_1\">\r\n  <g id=\"patch_1\">\r\n   <path d=\"M 0 262.7525 \r\nL 383.359375 262.7525 \r\nL 383.359375 0 \r\nL 0 0 \r\nz\r\n\" style=\"fill:none;\"/>\r\n  </g>\r\n  <g id=\"axes_1\">\r\n   <g id=\"patch_2\">\r\n    <path d=\"M 41.359375 224.64 \r\nL 376.159375 224.64 \r\nL 376.159375 7.2 \r\nL 41.359375 7.2 \r\nz\r\n\" style=\"fill:#ffffff;\"/>\r\n   </g>\r\n   <g id=\"PathCollection_1\">\r\n    <defs>\r\n     <path d=\"M 0 3 \r\nC 0.795609 3 1.55874 2.683901 2.12132 2.12132 \r\nC 2.683901 1.55874 3 0.795609 3 0 \r\nC 3 -0.795609 2.683901 -1.55874 2.12132 -2.12132 \r\nC 1.55874 -2.683901 0.795609 -3 0 -3 \r\nC -0.795609 -3 -1.55874 -2.683901 -2.12132 -2.12132 \r\nC -2.683901 -1.55874 -3 -0.795609 -3 0 \r\nC -3 0.795609 -2.683901 1.55874 -2.12132 2.12132 \r\nC -1.55874 2.683901 -0.795609 3 0 3 \r\nz\r\n\" id=\"mcb92184286\" style=\"stroke:#1f77b4;\"/>\r\n    </defs>\r\n    <g clip-path=\"url(#pbce1c65873)\">\r\n     <use style=\"fill:#1f77b4;stroke:#1f77b4;\" x=\"183.931672\" xlink:href=\"#mcb92184286\" y=\"171.09182\"/>\r\n     <use style=\"fill:#1f77b4;stroke:#1f77b4;\" x=\"57.7801\" xlink:href=\"#mcb92184286\" y=\"203.63541\"/>\r\n     <use style=\"fill:#1f77b4;stroke:#1f77b4;\" x=\"155.748874\" xlink:href=\"#mcb92184286\" y=\"172.641515\"/>\r\n     <use style=\"fill:#1f77b4;stroke:#1f77b4;\" x=\"257.743762\" xlink:href=\"#mcb92184286\" y=\"126.150673\"/>\r\n     <use style=\"fill:#1f77b4;stroke:#1f77b4;\" x=\"331.555852\" xlink:href=\"#mcb92184286\" y=\"93.607083\"/>\r\n     <use style=\"fill:#1f77b4;stroke:#1f77b4;\" x=\"245.66542\" xlink:href=\"#mcb92184286\" y=\"82.75922\"/>\r\n     <use style=\"fill:#1f77b4;stroke:#1f77b4;\" x=\"287.268598\" xlink:href=\"#mcb92184286\" y=\"62.613189\"/>\r\n     <use style=\"fill:#1f77b4;stroke:#1f77b4;\" x=\"359.73865\" xlink:href=\"#mcb92184286\" y=\"19.221736\"/>\r\n     <use style=\"fill:#1f77b4;stroke:#1f77b4;\" x=\"209.430394\" xlink:href=\"#mcb92184286\" y=\"85.85861\"/>\r\n     <use style=\"fill:#1f77b4;stroke:#1f77b4;\" x=\"330.213814\" xlink:href=\"#mcb92184286\" y=\"51.765326\"/>\r\n     <use style=\"fill:#1f77b4;stroke:#1f77b4;\" x=\"234.929116\" xlink:href=\"#mcb92184286\" y=\"141.64762\"/>\r\n     <use style=\"fill:#1f77b4;stroke:#1f77b4;\" x=\"140.986456\" xlink:href=\"#mcb92184286\" y=\"163.343347\"/>\r\n    </g>\r\n   </g>\r\n   <g id=\"matplotlib.axis_1\">\r\n    <g id=\"xtick_1\">\r\n     <g id=\"line2d_1\">\r\n      <defs>\r\n       <path d=\"M 0 0 \r\nL 0 3.5 \r\n\" id=\"m578f86714e\" style=\"stroke:#000000;stroke-width:0.8;\"/>\r\n      </defs>\r\n      <g>\r\n       <use style=\"stroke:#000000;stroke-width:0.8;\" x=\"47.043796\" xlink:href=\"#m578f86714e\" y=\"224.64\"/>\r\n      </g>\r\n     </g>\r\n     <g id=\"text_1\">\r\n      <!-- 2.5 -->\r\n      <defs>\r\n       <path d=\"M 39.359375 52.6875 \r\nQ 39.359375 59.125 35.546875 62.78125 \r\nQ 31.734375 66.453125 25.4375 66.453125 \r\nQ 20.953125 66.453125 16.453125 64.125 \r\nQ 11.96875 61.8125 8.34375 57.765625 \r\nL 8.34375 66.15625 \r\nQ 15.328125 73.046875 26.421875 73.046875 \r\nQ 35.640625 73.046875 41.28125 67.71875 \r\nQ 46.921875 62.40625 46.921875 53.375 \r\nQ 46.921875 45.609375 43.3125 39.765625 \r\nQ 39.703125 33.9375 31 27.734375 \r\nQ 22.796875 21.96875 19.59375 18.984375 \r\nQ 16.40625 16.015625 15.109375 13.34375 \r\nQ 13.8125 10.6875 13.8125 7.03125 \r\nL 48.6875 7.03125 \r\nL 48.6875 0 \r\nL 5.5625 0 \r\nL 5.5625 3.515625 \r\nQ 5.5625 9.421875 7.203125 13.59375 \r\nQ 8.84375 17.78125 12.671875 21.75 \r\nQ 16.5 25.734375 24.953125 31.59375 \r\nQ 32.671875 36.921875 36.015625 41.71875 \r\nQ 39.359375 46.53125 39.359375 52.6875 \r\nz\r\n\" id=\"MalgunGothic-50\"/>\r\n       <path d=\"M 5.5625 4.296875 \r\nQ 5.5625 6.59375 7.171875 8.171875 \r\nQ 8.796875 9.765625 10.9375 9.765625 \r\nQ 13.09375 9.765625 14.703125 8.171875 \r\nQ 16.3125 6.59375 16.3125 4.296875 \r\nQ 16.3125 2.15625 14.71875 0.515625 \r\nQ 13.140625 -1.125 10.9375 -1.125 \r\nQ 8.734375 -1.125 7.140625 0.453125 \r\nQ 5.5625 2.046875 5.5625 4.296875 \r\nz\r\n\" id=\"MalgunGothic-46\"/>\r\n       <path d=\"M 48 21.921875 \r\nQ 48 11.28125 41.1875 5.03125 \r\nQ 34.375 -1.21875 22.953125 -1.21875 \r\nQ 12.9375 -1.21875 8.0625 1.765625 \r\nL 8.0625 10.15625 \r\nQ 15.53125 5.375 23.046875 5.375 \r\nQ 30.765625 5.375 35.46875 9.84375 \r\nQ 40.1875 14.3125 40.1875 21.4375 \r\nQ 40.1875 28.71875 35.390625 32.6875 \r\nQ 30.609375 36.671875 21.578125 36.671875 \r\nQ 15.53125 36.671875 9.421875 35.9375 \r\nL 11.859375 71.875 \r\nL 44.828125 71.875 \r\nL 44.828125 64.796875 \r\nL 18.84375 64.796875 \r\nL 17.28125 43.171875 \r\nQ 21.046875 43.5 24.171875 43.5 \r\nQ 35.359375 43.5 41.671875 37.71875 \r\nQ 48 31.9375 48 21.921875 \r\nz\r\n\" id=\"MalgunGothic-53\"/>\r\n      </defs>\r\n      <g transform=\"translate(40.442233 239.232187)scale(0.1 -0.1)\">\r\n       <use xlink:href=\"#MalgunGothic-50\"/>\r\n       <use x=\"55.078125\" xlink:href=\"#MalgunGothic-46\"/>\r\n       <use x=\"76.953125\" xlink:href=\"#MalgunGothic-53\"/>\r\n      </g>\r\n     </g>\r\n    </g>\r\n    <g id=\"xtick_2\">\r\n     <g id=\"line2d_2\">\r\n      <g>\r\n       <use style=\"stroke:#000000;stroke-width:0.8;\" x=\"114.145696\" xlink:href=\"#m578f86714e\" y=\"224.64\"/>\r\n      </g>\r\n     </g>\r\n     <g id=\"text_2\">\r\n      <!-- 3.0 -->\r\n      <defs>\r\n       <path d=\"M 6.5 11.234375 \r\nQ 13.921875 5.375 23.09375 5.375 \r\nQ 30.609375 5.375 35.21875 9.171875 \r\nQ 39.84375 12.984375 39.84375 19.484375 \r\nQ 39.84375 33.890625 19.578125 33.890625 \r\nL 13.625 33.890625 \r\nL 13.625 40.484375 \r\nL 19.28125 40.484375 \r\nQ 37.3125 40.484375 37.3125 53.953125 \r\nQ 37.3125 66.40625 23.578125 66.40625 \r\nQ 15.96875 66.40625 9.28125 61.1875 \r\nL 9.28125 68.953125 \r\nQ 16.109375 73.046875 25.53125 73.046875 \r\nQ 34.125 73.046875 39.671875 68.3125 \r\nQ 45.21875 63.578125 45.21875 55.953125 \r\nQ 45.21875 41.84375 30.8125 37.640625 \r\nL 30.8125 37.5 \r\nQ 38.578125 36.8125 43.1875 32.078125 \r\nQ 47.796875 27.34375 47.796875 20.3125 \r\nQ 47.796875 10.5 40.6875 4.640625 \r\nQ 33.59375 -1.21875 22.65625 -1.21875 \r\nQ 12.59375 -1.21875 6.5 2.640625 \r\nz\r\n\" id=\"MalgunGothic-51\"/>\r\n       <path d=\"M 4.34375 34.46875 \r\nQ 4.34375 53.515625 10.546875 63.28125 \r\nQ 16.75 73.046875 28.421875 73.046875 \r\nQ 50.828125 73.046875 50.828125 36.234375 \r\nQ 50.828125 18.0625 44.59375 8.421875 \r\nQ 38.375 -1.21875 26.8125 -1.21875 \r\nQ 15.875 -1.21875 10.109375 8.125 \r\nQ 4.34375 17.484375 4.34375 34.46875 \r\nz\r\nM 12.25 34.859375 \r\nQ 12.25 5.375 27.640625 5.375 \r\nQ 42.921875 5.375 42.921875 35.296875 \r\nQ 42.921875 66.40625 28.03125 66.40625 \r\nQ 12.25 66.40625 12.25 34.859375 \r\nz\r\n\" id=\"MalgunGothic-48\"/>\r\n      </defs>\r\n      <g transform=\"translate(107.544133 239.232187)scale(0.1 -0.1)\">\r\n       <use xlink:href=\"#MalgunGothic-51\"/>\r\n       <use x=\"55.078125\" xlink:href=\"#MalgunGothic-46\"/>\r\n       <use x=\"76.953125\" xlink:href=\"#MalgunGothic-48\"/>\r\n      </g>\r\n     </g>\r\n    </g>\r\n    <g id=\"xtick_3\">\r\n     <g id=\"line2d_3\">\r\n      <g>\r\n       <use style=\"stroke:#000000;stroke-width:0.8;\" x=\"181.247596\" xlink:href=\"#m578f86714e\" y=\"224.64\"/>\r\n      </g>\r\n     </g>\r\n     <g id=\"text_3\">\r\n      <!-- 3.5 -->\r\n      <g transform=\"translate(174.646033 239.232187)scale(0.1 -0.1)\">\r\n       <use xlink:href=\"#MalgunGothic-51\"/>\r\n       <use x=\"55.078125\" xlink:href=\"#MalgunGothic-46\"/>\r\n       <use x=\"76.953125\" xlink:href=\"#MalgunGothic-53\"/>\r\n      </g>\r\n     </g>\r\n    </g>\r\n    <g id=\"xtick_4\">\r\n     <g id=\"line2d_4\">\r\n      <g>\r\n       <use style=\"stroke:#000000;stroke-width:0.8;\" x=\"248.349496\" xlink:href=\"#m578f86714e\" y=\"224.64\"/>\r\n      </g>\r\n     </g>\r\n     <g id=\"text_4\">\r\n      <!-- 4.0 -->\r\n      <defs>\r\n       <path d=\"M 42.234375 71.875 \r\nL 42.234375 24.421875 \r\nL 51.703125 24.421875 \r\nL 51.703125 17.390625 \r\nL 42.234375 17.390625 \r\nL 42.234375 0 \r\nL 34.578125 0 \r\nL 34.578125 17.390625 \r\nL 0.78125 17.390625 \r\nL 0.78125 23.96875 \r\nQ 11.375 35.890625 20.234375 48.578125 \r\nQ 29.109375 61.28125 33.9375 71.875 \r\nz\r\nM 9.765625 24.421875 \r\nL 34.578125 24.421875 \r\nL 34.578125 59.859375 \r\nQ 25.203125 43.5625 14.984375 30.953125 \r\nz\r\n\" id=\"MalgunGothic-52\"/>\r\n      </defs>\r\n      <g transform=\"translate(241.747934 239.232187)scale(0.1 -0.1)\">\r\n       <use xlink:href=\"#MalgunGothic-52\"/>\r\n       <use x=\"55.078125\" xlink:href=\"#MalgunGothic-46\"/>\r\n       <use x=\"76.953125\" xlink:href=\"#MalgunGothic-48\"/>\r\n      </g>\r\n     </g>\r\n    </g>\r\n    <g id=\"xtick_5\">\r\n     <g id=\"line2d_5\">\r\n      <g>\r\n       <use style=\"stroke:#000000;stroke-width:0.8;\" x=\"315.451396\" xlink:href=\"#m578f86714e\" y=\"224.64\"/>\r\n      </g>\r\n     </g>\r\n     <g id=\"text_5\">\r\n      <!-- 4.5 -->\r\n      <g transform=\"translate(308.849834 239.232187)scale(0.1 -0.1)\">\r\n       <use xlink:href=\"#MalgunGothic-52\"/>\r\n       <use x=\"55.078125\" xlink:href=\"#MalgunGothic-46\"/>\r\n       <use x=\"76.953125\" xlink:href=\"#MalgunGothic-53\"/>\r\n      </g>\r\n     </g>\r\n    </g>\r\n    <g id=\"text_6\">\r\n     <!-- 전기생산량 -->\r\n     <defs>\r\n      <path d=\"M 76.21875 18.40625 \r\nL 76.21875 55.078125 \r\nL 54.203125 55.078125 \r\nL 54.203125 61.625 \r\nL 76.21875 61.625 \r\nL 76.21875 85.40625 \r\nL 83.5 85.40625 \r\nL 83.5 18.40625 \r\nz\r\nM 57.421875 32.328125 \r\nQ 50.4375 36.625 44.203125 43.375 \r\nQ 37.984375 50.140625 35.40625 55.71875 \r\nQ 32.671875 49.21875 25.96875 41.375 \r\nQ 19.28125 33.546875 12.796875 29.890625 \r\nL 7.515625 34.90625 \r\nQ 17.578125 39.984375 24.578125 49.96875 \r\nQ 31.59375 59.96875 31.59375 70.21875 \r\nL 31.59375 73.6875 \r\nL 10.6875 73.6875 \r\nL 10.6875 80.328125 \r\nL 59.1875 80.328125 \r\nL 59.1875 73.6875 \r\nL 38.71875 73.6875 \r\nL 38.71875 70.21875 \r\nQ 38.71875 60.84375 45.984375 51.34375 \r\nQ 53.265625 41.84375 62.3125 37.59375 \r\nz\r\nM 25.484375 -5.71875 \r\nL 25.484375 25.09375 \r\nL 32.8125 25.09375 \r\nL 32.8125 0.6875 \r\nL 85.984375 0.6875 \r\nL 85.984375 -5.71875 \r\nz\r\n\" id=\"MalgunGothic-51204\"/>\r\n      <path d=\"M 76.3125 -8.796875 \r\nL 76.3125 85.40625 \r\nL 83.59375 85.40625 \r\nL 83.59375 -8.796875 \r\nz\r\nM 57.421875 76.703125 \r\nQ 57.078125 57.125 46.1875 40.796875 \r\nQ 35.296875 24.46875 14.984375 13.1875 \r\nL 9.421875 19.09375 \r\nQ 24.359375 25.296875 35.828125 38.71875 \r\nQ 47.3125 52.15625 49.609375 70.21875 \r\nL 13.28125 70.21875 \r\nL 13.28125 76.703125 \r\nz\r\n\" id=\"MalgunGothic-44592\"/>\r\n      <path d=\"M 77.984375 30.515625 \r\nL 77.984375 54.109375 \r\nL 67 54.109375 \r\nL 67 33.015625 \r\nL 59.71875 33.015625 \r\nL 59.71875 83.5 \r\nL 67 83.5 \r\nL 67 60.40625 \r\nL 77.984375 60.40625 \r\nL 77.984375 85.40625 \r\nL 85.296875 85.40625 \r\nL 85.296875 30.515625 \r\nz\r\nM 49.03125 37.59375 \r\nQ 43.65625 40.671875 37.984375 47.015625 \r\nQ 32.328125 53.375 30.328125 58.203125 \r\nQ 28.5625 52.640625 22.921875 45.78125 \r\nQ 17.28125 38.921875 11.1875 35.203125 \r\nL 6 40.09375 \r\nQ 15.328125 45.015625 21.015625 53.78125 \r\nQ 26.703125 62.546875 26.703125 72.125 \r\nL 26.703125 82.078125 \r\nL 33.6875 82.078125 \r\nL 33.6875 72.125 \r\nQ 33.6875 63.09375 39.625 54.90625 \r\nQ 45.5625 46.734375 53.8125 43.015625 \r\nz\r\nM 54.5 -7.171875 \r\nQ 39.65625 -7.171875 31.375 -2.171875 \r\nQ 23.09375 2.828125 23.09375 10.796875 \r\nQ 23.09375 18.75 31.375 23.78125 \r\nQ 39.65625 28.8125 54.5 28.8125 \r\nQ 69.4375 28.8125 77.703125 23.78125 \r\nQ 85.984375 18.75 85.984375 10.796875 \r\nQ 85.984375 2.828125 77.703125 -2.171875 \r\nQ 69.4375 -7.171875 54.5 -7.171875 \r\nz\r\nM 54.5 22.609375 \r\nQ 43.0625 22.609375 36.9375 19.265625 \r\nQ 30.8125 15.921875 30.8125 10.796875 \r\nQ 30.8125 5.609375 36.984375 2.3125 \r\nQ 43.171875 -0.984375 54.5 -0.984375 \r\nQ 65.765625 -0.984375 71.984375 2.28125 \r\nQ 78.21875 5.5625 78.21875 10.796875 \r\nQ 78.21875 15.96875 72.015625 19.28125 \r\nQ 65.828125 22.609375 54.5 22.609375 \r\nz\r\n\" id=\"MalgunGothic-49373\"/>\r\n      <path d=\"M 80.078125 49.515625 \r\nL 80.078125 16.890625 \r\nL 72.796875 16.890625 \r\nL 72.796875 85.40625 \r\nL 80.078125 85.40625 \r\nL 80.078125 56 \r\nL 94.28125 56 \r\nL 94.28125 49.515625 \r\nz\r\nM 56.203125 32.515625 \r\nQ 50.09375 35.84375 43.40625 42.671875 \r\nQ 36.71875 49.515625 34.1875 55.078125 \r\nQ 31.84375 48.828125 25.046875 41.28125 \r\nQ 18.265625 33.734375 11.71875 30.078125 \r\nL 6.390625 35.109375 \r\nQ 16.265625 39.890625 23.3125 49.578125 \r\nQ 30.375 59.28125 30.515625 69.578125 \r\nL 30.515625 81.6875 \r\nL 37.5 81.6875 \r\nL 37.5 69.578125 \r\nQ 37.5 60.015625 44.578125 50.921875 \r\nQ 51.65625 41.84375 61.078125 37.796875 \r\nz\r\nM 23.09375 -5.515625 \r\nL 23.09375 23.875 \r\nL 30.515625 23.875 \r\nL 30.515625 1.125 \r\nL 83.203125 1.125 \r\nL 83.203125 -5.515625 \r\nz\r\n\" id=\"MalgunGothic-49328\"/>\r\n      <path d=\"M 80.078125 43.3125 \r\nL 80.078125 30.21875 \r\nL 72.796875 30.21875 \r\nL 72.796875 85.40625 \r\nL 80.078125 85.40625 \r\nL 80.078125 69.921875 \r\nL 94.28125 69.921875 \r\nL 94.28125 63.484375 \r\nL 80.078125 63.484375 \r\nL 80.078125 49.703125 \r\nL 94.28125 49.703125 \r\nL 94.28125 43.3125 \r\nz\r\nM 63.71875 36.71875 \r\nQ 56.0625 35.453125 48.171875 35.171875 \r\nQ 40.28125 34.90625 12.890625 34.90625 \r\nL 12.890625 62.203125 \r\nL 47.703125 62.203125 \r\nL 47.703125 74.90625 \r\nL 12.890625 74.90625 \r\nL 12.890625 81.296875 \r\nL 54.984375 81.296875 \r\nL 54.984375 55.90625 \r\nL 20.21875 55.90625 \r\nL 20.21875 41.3125 \r\nQ 42.828125 41.3125 49.96875 41.59375 \r\nQ 57.125 41.890625 62.5 42.921875 \r\nz\r\nM 50.984375 -7.515625 \r\nQ 36.03125 -7.515625 28.171875 -2.875 \r\nQ 20.3125 1.765625 20.3125 9.625 \r\nQ 20.3125 17.53125 28.25 22.171875 \r\nQ 36.1875 26.8125 50.984375 26.8125 \r\nQ 65.765625 26.8125 73.71875 22.21875 \r\nQ 81.6875 17.625 81.6875 9.625 \r\nQ 81.6875 1.65625 73.828125 -2.921875 \r\nQ 65.96875 -7.515625 50.984375 -7.515625 \r\nz\r\nM 50.984375 20.609375 \r\nQ 39.796875 20.609375 33.9375 17.71875 \r\nQ 28.078125 14.84375 28.078125 9.625 \r\nQ 28.078125 4.34375 33.984375 1.515625 \r\nQ 39.890625 -1.3125 50.984375 -1.3125 \r\nQ 62.203125 -1.3125 68.109375 1.53125 \r\nQ 74.03125 4.390625 74.03125 9.625 \r\nQ 74.03125 14.796875 68.171875 17.703125 \r\nQ 62.3125 20.609375 50.984375 20.609375 \r\nz\r\n\" id=\"MalgunGothic-47049\"/>\r\n     </defs>\r\n     <g transform=\"translate(183.759375 253.188437)scale(0.1 -0.1)\">\r\n      <use xlink:href=\"#MalgunGothic-51204\"/>\r\n      <use x=\"100\" xlink:href=\"#MalgunGothic-44592\"/>\r\n      <use x=\"200\" xlink:href=\"#MalgunGothic-49373\"/>\r\n      <use x=\"300\" xlink:href=\"#MalgunGothic-49328\"/>\r\n      <use x=\"400\" xlink:href=\"#MalgunGothic-47049\"/>\r\n     </g>\r\n    </g>\r\n   </g>\r\n   <g id=\"matplotlib.axis_2\">\r\n    <g id=\"ytick_1\">\r\n     <g id=\"line2d_6\">\r\n      <defs>\r\n       <path d=\"M 0 0 \r\nL -3.5 0 \r\n\" id=\"m9ad3ab9256\" style=\"stroke:#000000;stroke-width:0.8;\"/>\r\n      </defs>\r\n      <g>\r\n       <use style=\"stroke:#000000;stroke-width:0.8;\" x=\"41.359375\" xlink:href=\"#m9ad3ab9256\" y=\"214.483273\"/>\r\n      </g>\r\n     </g>\r\n     <g id=\"text_7\">\r\n      <!-- 2.2 -->\r\n      <g transform=\"translate(21.15625 218.279367)scale(0.1 -0.1)\">\r\n       <use xlink:href=\"#MalgunGothic-50\"/>\r\n       <use x=\"55.078125\" xlink:href=\"#MalgunGothic-46\"/>\r\n       <use x=\"76.953125\" xlink:href=\"#MalgunGothic-50\"/>\r\n      </g>\r\n     </g>\r\n    </g>\r\n    <g id=\"ytick_2\">\r\n     <g id=\"line2d_7\">\r\n      <g>\r\n       <use style=\"stroke:#000000;stroke-width:0.8;\" x=\"41.359375\" xlink:href=\"#m9ad3ab9256\" y=\"183.489378\"/>\r\n      </g>\r\n     </g>\r\n     <g id=\"text_8\">\r\n      <!-- 2.4 -->\r\n      <g transform=\"translate(21.15625 187.285472)scale(0.1 -0.1)\">\r\n       <use xlink:href=\"#MalgunGothic-50\"/>\r\n       <use x=\"55.078125\" xlink:href=\"#MalgunGothic-46\"/>\r\n       <use x=\"76.953125\" xlink:href=\"#MalgunGothic-52\"/>\r\n      </g>\r\n     </g>\r\n    </g>\r\n    <g id=\"ytick_3\">\r\n     <g id=\"line2d_8\">\r\n      <g>\r\n       <use style=\"stroke:#000000;stroke-width:0.8;\" x=\"41.359375\" xlink:href=\"#m9ad3ab9256\" y=\"152.495483\"/>\r\n      </g>\r\n     </g>\r\n     <g id=\"text_9\">\r\n      <!-- 2.6 -->\r\n      <defs>\r\n       <path d=\"M 46.578125 63.578125 \r\nQ 40.921875 66.40625 34.8125 66.40625 \r\nQ 24.859375 66.40625 19.1875 57.640625 \r\nQ 13.53125 48.875 13.578125 34.578125 \r\nL 13.8125 34.578125 \r\nQ 18.796875 44.875 30.28125 44.875 \r\nQ 39.796875 44.875 45.359375 38.71875 \r\nQ 50.921875 32.5625 50.921875 22.65625 \r\nQ 50.921875 12.453125 44.640625 5.609375 \r\nQ 38.375 -1.21875 28.515625 -1.21875 \r\nQ 17.4375 -1.21875 11.5 7.46875 \r\nQ 5.5625 16.15625 5.5625 31.546875 \r\nQ 5.5625 49.703125 13.234375 61.375 \r\nQ 20.90625 73.046875 34.71875 73.046875 \r\nQ 42.1875 73.046875 46.578125 71 \r\nz\r\nM 14.15625 23.53125 \r\nQ 14.15625 15.96875 18.203125 10.671875 \r\nQ 22.265625 5.375 28.8125 5.375 \r\nQ 35.109375 5.375 39.03125 10.078125 \r\nQ 42.96875 14.796875 42.96875 21.6875 \r\nQ 42.96875 29.5 39.203125 33.859375 \r\nQ 35.453125 38.234375 28.71875 38.234375 \r\nQ 22.5625 38.234375 18.359375 33.953125 \r\nQ 14.15625 29.6875 14.15625 23.53125 \r\nz\r\n\" id=\"MalgunGothic-54\"/>\r\n      </defs>\r\n      <g transform=\"translate(21.15625 156.291577)scale(0.1 -0.1)\">\r\n       <use xlink:href=\"#MalgunGothic-50\"/>\r\n       <use x=\"55.078125\" xlink:href=\"#MalgunGothic-46\"/>\r\n       <use x=\"76.953125\" xlink:href=\"#MalgunGothic-54\"/>\r\n      </g>\r\n     </g>\r\n    </g>\r\n    <g id=\"ytick_4\">\r\n     <g id=\"line2d_9\">\r\n      <g>\r\n       <use style=\"stroke:#000000;stroke-width:0.8;\" x=\"41.359375\" xlink:href=\"#m9ad3ab9256\" y=\"121.501589\"/>\r\n      </g>\r\n     </g>\r\n     <g id=\"text_10\">\r\n      <!-- 2.8 -->\r\n      <defs>\r\n       <path d=\"M 4.734375 20.015625 \r\nQ 4.734375 26.078125 8.421875 31.421875 \r\nQ 12.109375 36.765625 18.015625 38.96875 \r\nQ 13.375 41.359375 10.546875 45.546875 \r\nQ 7.71875 49.75 7.71875 54.6875 \r\nQ 7.71875 59.8125 10.296875 64.03125 \r\nQ 12.890625 68.265625 17.53125 70.65625 \r\nQ 22.171875 73.046875 27.78125 73.046875 \r\nQ 36.46875 73.046875 42.1875 67.84375 \r\nQ 47.90625 62.640625 47.90625 54.6875 \r\nQ 47.90625 49.703125 45.015625 45.53125 \r\nQ 42.140625 41.359375 37.703125 38.96875 \r\nQ 43.5625 36.71875 47.21875 31.390625 \r\nQ 50.875 26.078125 50.875 20.015625 \r\nQ 50.875 10.5 44.421875 4.640625 \r\nQ 37.984375 -1.21875 27.78125 -1.21875 \r\nQ 17.671875 -1.21875 11.203125 4.703125 \r\nQ 4.734375 10.640625 4.734375 20.015625 \r\nz\r\nM 12.640625 20.75 \r\nQ 12.640625 13.71875 16.890625 9.546875 \r\nQ 21.140625 5.375 27.828125 5.375 \r\nQ 34.46875 5.375 38.78125 9.671875 \r\nQ 43.109375 13.96875 43.109375 20.75 \r\nQ 43.109375 27.046875 38.78125 31.421875 \r\nQ 34.46875 35.796875 27.828125 35.796875 \r\nQ 21.4375 35.796875 17.03125 31.5625 \r\nQ 12.640625 27.34375 12.640625 20.75 \r\nz\r\nM 15.671875 54.046875 \r\nQ 15.671875 48.828125 19.28125 45.3125 \r\nQ 22.90625 41.796875 27.828125 41.796875 \r\nQ 32.765625 41.796875 36.40625 45.3125 \r\nQ 40.046875 48.828125 40.046875 54.046875 \r\nQ 40.046875 59.421875 36.578125 62.90625 \r\nQ 33.109375 66.40625 27.828125 66.40625 \r\nQ 22.65625 66.40625 19.15625 62.953125 \r\nQ 15.671875 59.515625 15.671875 54.046875 \r\nz\r\n\" id=\"MalgunGothic-56\"/>\r\n      </defs>\r\n      <g transform=\"translate(21.15625 125.297682)scale(0.1 -0.1)\">\r\n       <use xlink:href=\"#MalgunGothic-50\"/>\r\n       <use x=\"55.078125\" xlink:href=\"#MalgunGothic-46\"/>\r\n       <use x=\"76.953125\" xlink:href=\"#MalgunGothic-56\"/>\r\n      </g>\r\n     </g>\r\n    </g>\r\n    <g id=\"ytick_5\">\r\n     <g id=\"line2d_10\">\r\n      <g>\r\n       <use style=\"stroke:#000000;stroke-width:0.8;\" x=\"41.359375\" xlink:href=\"#m9ad3ab9256\" y=\"90.507694\"/>\r\n      </g>\r\n     </g>\r\n     <g id=\"text_11\">\r\n      <!-- 3.0 -->\r\n      <g transform=\"translate(21.15625 94.303788)scale(0.1 -0.1)\">\r\n       <use xlink:href=\"#MalgunGothic-51\"/>\r\n       <use x=\"55.078125\" xlink:href=\"#MalgunGothic-46\"/>\r\n       <use x=\"76.953125\" xlink:href=\"#MalgunGothic-48\"/>\r\n      </g>\r\n     </g>\r\n    </g>\r\n    <g id=\"ytick_6\">\r\n     <g id=\"line2d_11\">\r\n      <g>\r\n       <use style=\"stroke:#000000;stroke-width:0.8;\" x=\"41.359375\" xlink:href=\"#m9ad3ab9256\" y=\"59.513799\"/>\r\n      </g>\r\n     </g>\r\n     <g id=\"text_12\">\r\n      <!-- 3.2 -->\r\n      <g transform=\"translate(21.15625 63.309893)scale(0.1 -0.1)\">\r\n       <use xlink:href=\"#MalgunGothic-51\"/>\r\n       <use x=\"55.078125\" xlink:href=\"#MalgunGothic-46\"/>\r\n       <use x=\"76.953125\" xlink:href=\"#MalgunGothic-50\"/>\r\n      </g>\r\n     </g>\r\n    </g>\r\n    <g id=\"ytick_7\">\r\n     <g id=\"line2d_12\">\r\n      <g>\r\n       <use style=\"stroke:#000000;stroke-width:0.8;\" x=\"41.359375\" xlink:href=\"#m9ad3ab9256\" y=\"28.519905\"/>\r\n      </g>\r\n     </g>\r\n     <g id=\"text_13\">\r\n      <!-- 3.4 -->\r\n      <g transform=\"translate(21.15625 32.315998)scale(0.1 -0.1)\">\r\n       <use xlink:href=\"#MalgunGothic-51\"/>\r\n       <use x=\"55.078125\" xlink:href=\"#MalgunGothic-46\"/>\r\n       <use x=\"76.953125\" xlink:href=\"#MalgunGothic-52\"/>\r\n      </g>\r\n     </g>\r\n    </g>\r\n    <g id=\"text_14\">\r\n     <!-- 전기사용량 -->\r\n     <defs>\r\n      <path d=\"M 79.59375 40.625 \r\nL 79.59375 -8.796875 \r\nL 72.3125 -8.796875 \r\nL 72.3125 85.40625 \r\nL 79.59375 85.40625 \r\nL 79.59375 47.125 \r\nL 95.90625 47.125 \r\nL 95.90625 40.625 \r\nz\r\nM 58.5 15.09375 \r\nQ 50.53125 21.1875 43.75 30.25 \r\nQ 36.96875 39.3125 34.90625 46.09375 \r\nQ 32.71875 38.625 26.125 29.421875 \r\nQ 19.53125 20.21875 11.53125 13.921875 \r\nL 5.90625 18.796875 \r\nQ 17.4375 26.609375 24.3125 38.734375 \r\nQ 31.203125 50.875 31.203125 63.484375 \r\nL 31.203125 78.90625 \r\nL 38.484375 78.90625 \r\nL 38.484375 63.8125 \r\nQ 38.484375 51.515625 45.28125 39.890625 \r\nQ 52.09375 28.265625 63.625 20.796875 \r\nz\r\n\" id=\"MalgunGothic-49324\"/>\r\n      <path d=\"M 29.6875 52.78125 \r\nQ 20.125 57.46875 20.125 66.703125 \r\nQ 20.125 75.046875 27.875 79.609375 \r\nQ 35.640625 84.1875 50 84.1875 \r\nQ 64.359375 84.1875 72.125 79.609375 \r\nQ 79.890625 75.046875 79.890625 66.703125 \r\nQ 79.890625 57.328125 70.21875 52.78125 \r\nL 70.21875 39.40625 \r\nL 93.703125 39.40625 \r\nL 93.703125 32.90625 \r\nL 6.296875 32.90625 \r\nL 6.296875 39.40625 \r\nL 29.6875 39.40625 \r\nz\r\nM 50 77.984375 \r\nQ 27.6875 77.984375 27.6875 66.703125 \r\nQ 27.6875 61.375 33.21875 58.390625 \r\nQ 38.765625 55.421875 50 55.421875 \r\nQ 61.234375 55.421875 66.765625 58.390625 \r\nQ 72.3125 61.375 72.3125 66.703125 \r\nQ 72.3125 77.984375 50 77.984375 \r\nz\r\nM 37.015625 39.40625 \r\nL 62.890625 39.40625 \r\nL 62.890625 50.390625 \r\nQ 57.46875 49.21875 50 49.21875 \r\nQ 43.0625 49.21875 37.015625 50.484375 \r\nz\r\nM 50 -8.296875 \r\nQ 35.296875 -8.296875 27.5625 -3.65625 \r\nQ 19.828125 0.984375 19.828125 9.078125 \r\nQ 19.828125 17.28125 27.609375 21.9375 \r\nQ 35.40625 26.609375 50 26.609375 \r\nQ 64.59375 26.609375 72.375 21.9375 \r\nQ 80.171875 17.28125 80.171875 9.078125 \r\nQ 80.171875 0.984375 72.4375 -3.65625 \r\nQ 64.703125 -8.296875 50 -8.296875 \r\nz\r\nM 50 20.40625 \r\nQ 38.8125 20.40625 33.09375 17.375 \r\nQ 27.390625 14.359375 27.390625 9.078125 \r\nQ 27.390625 3.8125 33.078125 0.859375 \r\nQ 38.765625 -2.09375 50 -2.09375 \r\nQ 61.1875 -2.09375 66.890625 0.859375 \r\nQ 72.609375 3.8125 72.609375 9.078125 \r\nQ 72.609375 14.40625 66.875 17.40625 \r\nQ 61.140625 20.40625 50 20.40625 \r\nz\r\n\" id=\"MalgunGothic-50857\"/>\r\n     </defs>\r\n     <g transform=\"translate(14.792188 140.92)rotate(-90)scale(0.1 -0.1)\">\r\n      <use xlink:href=\"#MalgunGothic-51204\"/>\r\n      <use x=\"100\" xlink:href=\"#MalgunGothic-44592\"/>\r\n      <use x=\"200\" xlink:href=\"#MalgunGothic-49324\"/>\r\n      <use x=\"300\" xlink:href=\"#MalgunGothic-50857\"/>\r\n      <use x=\"400\" xlink:href=\"#MalgunGothic-47049\"/>\r\n     </g>\r\n    </g>\r\n   </g>\r\n   <g id=\"line2d_13\">\r\n    <path clip-path=\"url(#pbce1c65873)\" d=\"M 183.931672 142.561193 \r\nL 57.7801 214.756364 \r\nL 155.748874 158.689902 \r\nL 257.743762 100.319338 \r\nL 331.555852 58.077484 \r\nL 245.66542 107.231642 \r\nL 287.268598 83.422597 \r\nL 359.73865 41.948775 \r\nL 209.430394 127.968553 \r\nL 330.213814 58.845517 \r\nL 234.929116 113.375912 \r\nL 140.986456 167.138273 \r\n\" style=\"fill:none;stroke:#ff0000;stroke-dasharray:5.55,2.4;stroke-dashoffset:0;stroke-width:1.5;\"/>\r\n   </g>\r\n   <g id=\"patch_3\">\r\n    <path d=\"M 41.359375 224.64 \r\nL 41.359375 7.2 \r\n\" style=\"fill:none;stroke:#000000;stroke-linecap:square;stroke-linejoin:miter;stroke-width:0.8;\"/>\r\n   </g>\r\n   <g id=\"patch_4\">\r\n    <path d=\"M 376.159375 224.64 \r\nL 376.159375 7.2 \r\n\" style=\"fill:none;stroke:#000000;stroke-linecap:square;stroke-linejoin:miter;stroke-width:0.8;\"/>\r\n   </g>\r\n   <g id=\"patch_5\">\r\n    <path d=\"M 41.359375 224.64 \r\nL 376.159375 224.64 \r\n\" style=\"fill:none;stroke:#000000;stroke-linecap:square;stroke-linejoin:miter;stroke-width:0.8;\"/>\r\n   </g>\r\n   <g id=\"patch_6\">\r\n    <path d=\"M 41.359375 7.2 \r\nL 376.159375 7.2 \r\n\" style=\"fill:none;stroke:#000000;stroke-linecap:square;stroke-linejoin:miter;stroke-width:0.8;\"/>\r\n   </g>\r\n  </g>\r\n </g>\r\n <defs>\r\n  <clipPath id=\"pbce1c65873\">\r\n   <rect height=\"217.44\" width=\"334.8\" x=\"41.359375\" y=\"7.2\"/>\r\n  </clipPath>\r\n </defs>\r\n</svg>\r\n",
      "image/png": "[encoded data removed]"
     },
     "metadata": {
      "needs_background": "light"
     }
    }
   ],
   "source": [
    "# 시각화\n",
    "\n",
    "# 실제값\n",
    "plt.xlabel('전기생산량')\n",
    "plt.ylabel('전기사용량')\n",
    "plt.scatter(eleDF['전기생산량'],eleDF['전기사용량'])\n",
    "\n",
    "# 예측값\n",
    "plt.plot(eleDF['전기생산량'],modelEle.predict(eleDF[['전기생산량']]), 'r--')\n",
    "plt.show()"
   ]
  },
  {
   "source": [
    "* 회귀모델의 검증을 위한 또 다른 측정 지표 중 하나로 결정 계수(coefficient of determination, $R^2$) 사용"
   ],
   "cell_type": "markdown",
   "metadata": {}
  },
  {
   "source": [
    "\n",
    "$ SSR( 예측값- 평균값)^2 의합$ <br>\n",
    "$ SST( 실제값- 평균값)^2 의합$ <br>\n",
    "$ SSE( 실제값- 예측값)^2 의합$ <br>\n",
    "$ R^2 = \\frac{SSR}{SST} = 1-\\frac{SSE}{SST}   $\n"
   ],
   "cell_type": "markdown",
   "metadata": {}
  },
  {
   "source": [
    "결정 계수 (Coefficient of determination, <br>\n",
    "R 제곱 (R^2, R-squared, 피어슨 상관 계수의 제곱))<br>\n",
    " 1 - (오차의 제곱합)/(편차의 제곱합)<br>\n",
    "오차는 실제 값과 예측 값의 차이<br>\n",
    "편차는 실제 값과 평균 값의 차이<br>\n",
    "0 <= 결정 계수 <= 1 (0이면 0점, 1이면 100점)<br>\n",
    "높을 수록 좋음<br>\n",
    "\n",
    "from sklearn.metrics import r2_score<br>\n",
    "y_predict = model.predict( x_data )<br>\n",
    "r2_score( y_data, y_predict )<br>"
   ],
   "cell_type": "markdown",
   "metadata": {}
  },
  {
   "source": [
    "# r2_score값 구하기\n",
    "modelCar.score(carDF[['speed']],carDF[['dist']])"
   ],
   "cell_type": "code",
   "metadata": {},
   "execution_count": 121,
   "outputs": [
    {
     "output_type": "execute_result",
     "data": {
      "text/plain": [
       "0.6510793807582509"
      ]
     },
     "metadata": {},
     "execution_count": 121
    }
   ]
  },
  {
   "cell_type": "code",
   "execution_count": 111,
   "metadata": {},
   "outputs": [
    {
     "output_type": "execute_result",
     "data": {
      "text/plain": [
       "0.6510793807582509"
      ]
     },
     "metadata": {},
     "execution_count": 111
    }
   ],
   "source": [
    "# r2_score값 구하기\n",
    "from sklearn.metrics import r2_score\n",
    "y2_predict = modelCar.predict(carDF[['speed']])\n",
    "r2_score(carDF.dist, y2_predict)"
   ]
  },
  {
   "cell_type": "code",
   "execution_count": 110,
   "metadata": {},
   "outputs": [
    {
     "output_type": "display_data",
     "data": {
      "text/plain": "<Figure size 720x432 with 1 Axes>",
      "image/svg+xml": "<?xml version=\"1.0\" encoding=\"utf-8\" standalone=\"no\"?>\r\n<!DOCTYPE svg PUBLIC \"-//W3C//DTD SVG 1.1//EN\"\r\n  \"http://www.w3.org/Graphics/SVG/1.1/DTD/svg11.dtd\">\r\n<!-- Created with matplotlib (https://matplotlib.org/) -->\r\n<svg height=\"371.4725pt\" version=\"1.1\" viewBox=\"0 0 609.879688 371.4725\" width=\"609.879688pt\" xmlns=\"http://www.w3.org/2000/svg\" xmlns:xlink=\"http://www.w3.org/1999/xlink\">\r\n <defs>\r\n  <style type=\"text/css\">\r\n*{stroke-linecap:butt;stroke-linejoin:round;}\r\n  </style>\r\n </defs>\r\n <g id=\"figure_1\">\r\n  <g id=\"patch_1\">\r\n   <path d=\"M -0 371.4725 \r\nL 609.879688 371.4725 \r\nL 609.879688 0 \r\nL -0 0 \r\nz\r\n\" style=\"fill:none;\"/>\r\n  </g>\r\n  <g id=\"axes_1\">\r\n   <g id=\"patch_2\">\r\n    <path d=\"M 44.679688 333.36 \r\nL 602.679688 333.36 \r\nL 602.679688 7.2 \r\nL 44.679688 7.2 \r\nz\r\n\" style=\"fill:#ffffff;\"/>\r\n   </g>\r\n   <g id=\"PathCollection_1\">\r\n    <defs>\r\n     <path d=\"M 0 3 \r\nC 0.795609 3 1.55874 2.683901 2.12132 2.12132 \r\nC 2.683901 1.55874 3 0.795609 3 0 \r\nC 3 -0.795609 2.683901 -1.55874 2.12132 -2.12132 \r\nC 1.55874 -2.683901 0.795609 -3 0 -3 \r\nC -0.795609 -3 -1.55874 -2.683901 -2.12132 -2.12132 \r\nC -2.683901 -1.55874 -3 -0.795609 -3 0 \r\nC -3 0.795609 -2.683901 1.55874 -2.12132 2.12132 \r\nC -1.55874 2.683901 -0.795609 3 0 3 \r\nz\r\n\" id=\"m02752d9a40\" style=\"stroke:#1f77b4;\"/>\r\n    </defs>\r\n    <g clip-path=\"url(#p1cb0417379)\">\r\n     <use style=\"fill:#1f77b4;stroke:#1f77b4;\" x=\"70.173128\" xlink:href=\"#m02752d9a40\" y=\"309.167957\"/>\r\n     <use style=\"fill:#1f77b4;stroke:#1f77b4;\" x=\"70.173128\" xlink:href=\"#m02752d9a40\" y=\"289.702186\"/>\r\n     <use style=\"fill:#1f77b4;stroke:#1f77b4;\" x=\"142.603573\" xlink:href=\"#m02752d9a40\" y=\"304.301515\"/>\r\n     <use style=\"fill:#1f77b4;stroke:#1f77b4;\" x=\"142.603573\" xlink:href=\"#m02752d9a40\" y=\"260.50353\"/>\r\n     <use style=\"fill:#1f77b4;stroke:#1f77b4;\" x=\"166.747055\" xlink:href=\"#m02752d9a40\" y=\"275.102858\"/>\r\n     <use style=\"fill:#1f77b4;stroke:#1f77b4;\" x=\"190.890537\" xlink:href=\"#m02752d9a40\" y=\"289.702186\"/>\r\n     <use style=\"fill:#1f77b4;stroke:#1f77b4;\" x=\"215.034019\" xlink:href=\"#m02752d9a40\" y=\"270.236415\"/>\r\n     <use style=\"fill:#1f77b4;stroke:#1f77b4;\" x=\"215.034019\" xlink:href=\"#m02752d9a40\" y=\"250.770644\"/>\r\n     <use style=\"fill:#1f77b4;stroke:#1f77b4;\" x=\"215.034019\" xlink:href=\"#m02752d9a40\" y=\"231.304873\"/>\r\n     <use style=\"fill:#1f77b4;stroke:#1f77b4;\" x=\"239.177501\" xlink:href=\"#m02752d9a40\" y=\"272.669637\"/>\r\n     <use style=\"fill:#1f77b4;stroke:#1f77b4;\" x=\"239.177501\" xlink:href=\"#m02752d9a40\" y=\"245.904202\"/>\r\n     <use style=\"fill:#1f77b4;stroke:#1f77b4;\" x=\"263.320983\" xlink:href=\"#m02752d9a40\" y=\"279.969301\"/>\r\n     <use style=\"fill:#1f77b4;stroke:#1f77b4;\" x=\"263.320983\" xlink:href=\"#m02752d9a40\" y=\"265.369973\"/>\r\n     <use style=\"fill:#1f77b4;stroke:#1f77b4;\" x=\"263.320983\" xlink:href=\"#m02752d9a40\" y=\"255.637087\"/>\r\n     <use style=\"fill:#1f77b4;stroke:#1f77b4;\" x=\"263.320983\" xlink:href=\"#m02752d9a40\" y=\"245.904202\"/>\r\n     <use style=\"fill:#1f77b4;stroke:#1f77b4;\" x=\"287.464465\" xlink:href=\"#m02752d9a40\" y=\"250.770644\"/>\r\n     <use style=\"fill:#1f77b4;stroke:#1f77b4;\" x=\"287.464465\" xlink:href=\"#m02752d9a40\" y=\"231.304873\"/>\r\n     <use style=\"fill:#1f77b4;stroke:#1f77b4;\" x=\"287.464465\" xlink:href=\"#m02752d9a40\" y=\"231.304873\"/>\r\n     <use style=\"fill:#1f77b4;stroke:#1f77b4;\" x=\"287.464465\" xlink:href=\"#m02752d9a40\" y=\"202.106217\"/>\r\n     <use style=\"fill:#1f77b4;stroke:#1f77b4;\" x=\"311.607947\" xlink:href=\"#m02752d9a40\" y=\"250.770644\"/>\r\n     <use style=\"fill:#1f77b4;stroke:#1f77b4;\" x=\"311.607947\" xlink:href=\"#m02752d9a40\" y=\"226.438431\"/>\r\n     <use style=\"fill:#1f77b4;stroke:#1f77b4;\" x=\"311.607947\" xlink:href=\"#m02752d9a40\" y=\"168.041118\"/>\r\n     <use style=\"fill:#1f77b4;stroke:#1f77b4;\" x=\"311.607947\" xlink:href=\"#m02752d9a40\" y=\"119.37669\"/>\r\n     <use style=\"fill:#1f77b4;stroke:#1f77b4;\" x=\"335.751428\" xlink:href=\"#m02752d9a40\" y=\"265.369973\"/>\r\n     <use style=\"fill:#1f77b4;stroke:#1f77b4;\" x=\"335.751428\" xlink:href=\"#m02752d9a40\" y=\"250.770644\"/>\r\n     <use style=\"fill:#1f77b4;stroke:#1f77b4;\" x=\"335.751428\" xlink:href=\"#m02752d9a40\" y=\"182.640446\"/>\r\n     <use style=\"fill:#1f77b4;stroke:#1f77b4;\" x=\"359.89491\" xlink:href=\"#m02752d9a40\" y=\"236.171316\"/>\r\n     <use style=\"fill:#1f77b4;stroke:#1f77b4;\" x=\"359.89491\" xlink:href=\"#m02752d9a40\" y=\"216.705545\"/>\r\n     <use style=\"fill:#1f77b4;stroke:#1f77b4;\" x=\"384.038392\" xlink:href=\"#m02752d9a40\" y=\"236.171316\"/>\r\n     <use style=\"fill:#1f77b4;stroke:#1f77b4;\" x=\"384.038392\" xlink:href=\"#m02752d9a40\" y=\"216.705545\"/>\r\n     <use style=\"fill:#1f77b4;stroke:#1f77b4;\" x=\"384.038392\" xlink:href=\"#m02752d9a40\" y=\"192.373331\"/>\r\n     <use style=\"fill:#1f77b4;stroke:#1f77b4;\" x=\"408.181874\" xlink:href=\"#m02752d9a40\" y=\"211.839102\"/>\r\n     <use style=\"fill:#1f77b4;stroke:#1f77b4;\" x=\"408.181874\" xlink:href=\"#m02752d9a40\" y=\"177.774003\"/>\r\n     <use style=\"fill:#1f77b4;stroke:#1f77b4;\" x=\"408.181874\" xlink:href=\"#m02752d9a40\" y=\"129.109576\"/>\r\n     <use style=\"fill:#1f77b4;stroke:#1f77b4;\" x=\"408.181874\" xlink:href=\"#m02752d9a40\" y=\"109.643805\"/>\r\n     <use style=\"fill:#1f77b4;stroke:#1f77b4;\" x=\"432.325356\" xlink:href=\"#m02752d9a40\" y=\"226.438431\"/>\r\n     <use style=\"fill:#1f77b4;stroke:#1f77b4;\" x=\"432.325356\" xlink:href=\"#m02752d9a40\" y=\"202.106217\"/>\r\n     <use style=\"fill:#1f77b4;stroke:#1f77b4;\" x=\"432.325356\" xlink:href=\"#m02752d9a40\" y=\"148.575347\"/>\r\n     <use style=\"fill:#1f77b4;stroke:#1f77b4;\" x=\"456.468838\" xlink:href=\"#m02752d9a40\" y=\"236.171316\"/>\r\n     <use style=\"fill:#1f77b4;stroke:#1f77b4;\" x=\"456.468838\" xlink:href=\"#m02752d9a40\" y=\"197.239774\"/>\r\n     <use style=\"fill:#1f77b4;stroke:#1f77b4;\" x=\"456.468838\" xlink:href=\"#m02752d9a40\" y=\"187.506889\"/>\r\n     <use style=\"fill:#1f77b4;stroke:#1f77b4;\" x=\"456.468838\" xlink:href=\"#m02752d9a40\" y=\"177.774003\"/>\r\n     <use style=\"fill:#1f77b4;stroke:#1f77b4;\" x=\"456.468838\" xlink:href=\"#m02752d9a40\" y=\"158.308232\"/>\r\n     <use style=\"fill:#1f77b4;stroke:#1f77b4;\" x=\"504.755802\" xlink:href=\"#m02752d9a40\" y=\"153.441789\"/>\r\n     <use style=\"fill:#1f77b4;stroke:#1f77b4;\" x=\"528.899284\" xlink:href=\"#m02752d9a40\" y=\"182.640446\"/>\r\n     <use style=\"fill:#1f77b4;stroke:#1f77b4;\" x=\"553.042766\" xlink:href=\"#m02752d9a40\" y=\"143.708904\"/>\r\n     <use style=\"fill:#1f77b4;stroke:#1f77b4;\" x=\"553.042766\" xlink:href=\"#m02752d9a40\" y=\"90.178034\"/>\r\n     <use style=\"fill:#1f77b4;stroke:#1f77b4;\" x=\"553.042766\" xlink:href=\"#m02752d9a40\" y=\"87.744812\"/>\r\n     <use style=\"fill:#1f77b4;stroke:#1f77b4;\" x=\"553.042766\" xlink:href=\"#m02752d9a40\" y=\"22.047835\"/>\r\n     <use style=\"fill:#1f77b4;stroke:#1f77b4;\" x=\"577.186247\" xlink:href=\"#m02752d9a40\" y=\"107.210583\"/>\r\n    </g>\r\n   </g>\r\n   <g id=\"matplotlib.axis_1\">\r\n    <g id=\"xtick_1\">\r\n     <g id=\"line2d_1\">\r\n      <defs>\r\n       <path d=\"M 0 0 \r\nL 0 3.5 \r\n\" id=\"m1e56ad148c\" style=\"stroke:#000000;stroke-width:0.8;\"/>\r\n      </defs>\r\n      <g>\r\n       <use style=\"stroke:#000000;stroke-width:0.8;\" x=\"94.316609\" xlink:href=\"#m1e56ad148c\" y=\"333.36\"/>\r\n      </g>\r\n     </g>\r\n     <g id=\"text_1\">\r\n      <!-- 5 -->\r\n      <defs>\r\n       <path d=\"M 48 21.921875 \r\nQ 48 11.28125 41.1875 5.03125 \r\nQ 34.375 -1.21875 22.953125 -1.21875 \r\nQ 12.9375 -1.21875 8.0625 1.765625 \r\nL 8.0625 10.15625 \r\nQ 15.53125 5.375 23.046875 5.375 \r\nQ 30.765625 5.375 35.46875 9.84375 \r\nQ 40.1875 14.3125 40.1875 21.4375 \r\nQ 40.1875 28.71875 35.390625 32.6875 \r\nQ 30.609375 36.671875 21.578125 36.671875 \r\nQ 15.53125 36.671875 9.421875 35.9375 \r\nL 11.859375 71.875 \r\nL 44.828125 71.875 \r\nL 44.828125 64.796875 \r\nL 18.84375 64.796875 \r\nL 17.28125 43.171875 \r\nQ 21.046875 43.5 24.171875 43.5 \r\nQ 35.359375 43.5 41.671875 37.71875 \r\nQ 48 31.9375 48 21.921875 \r\nz\r\n\" id=\"MalgunGothic-53\"/>\r\n      </defs>\r\n      <g transform=\"translate(91.562703 347.952188)scale(0.1 -0.1)\">\r\n       <use xlink:href=\"#MalgunGothic-53\"/>\r\n      </g>\r\n     </g>\r\n    </g>\r\n    <g id=\"xtick_2\">\r\n     <g id=\"line2d_2\">\r\n      <g>\r\n       <use style=\"stroke:#000000;stroke-width:0.8;\" x=\"215.034019\" xlink:href=\"#m1e56ad148c\" y=\"333.36\"/>\r\n      </g>\r\n     </g>\r\n     <g id=\"text_2\">\r\n      <!-- 10 -->\r\n      <defs>\r\n       <path d=\"M 34.859375 0 \r\nL 27.09375 0 \r\nL 27.09375 62.0625 \r\nQ 24.859375 59.8125 19.78125 57.203125 \r\nQ 14.703125 54.59375 10.5 53.5625 \r\nL 10.5 61.859375 \r\nQ 15.875 63.375 22.015625 66.796875 \r\nQ 28.171875 70.21875 31.734375 73.4375 \r\nL 34.859375 73.4375 \r\nz\r\n\" id=\"MalgunGothic-49\"/>\r\n       <path d=\"M 4.34375 34.46875 \r\nQ 4.34375 53.515625 10.546875 63.28125 \r\nQ 16.75 73.046875 28.421875 73.046875 \r\nQ 50.828125 73.046875 50.828125 36.234375 \r\nQ 50.828125 18.0625 44.59375 8.421875 \r\nQ 38.375 -1.21875 26.8125 -1.21875 \r\nQ 15.875 -1.21875 10.109375 8.125 \r\nQ 4.34375 17.484375 4.34375 34.46875 \r\nz\r\nM 12.25 34.859375 \r\nQ 12.25 5.375 27.640625 5.375 \r\nQ 42.921875 5.375 42.921875 35.296875 \r\nQ 42.921875 66.40625 28.03125 66.40625 \r\nQ 12.25 66.40625 12.25 34.859375 \r\nz\r\n\" id=\"MalgunGothic-48\"/>\r\n      </defs>\r\n      <g transform=\"translate(209.526206 347.952188)scale(0.1 -0.1)\">\r\n       <use xlink:href=\"#MalgunGothic-49\"/>\r\n       <use x=\"55.078125\" xlink:href=\"#MalgunGothic-48\"/>\r\n      </g>\r\n     </g>\r\n    </g>\r\n    <g id=\"xtick_3\">\r\n     <g id=\"line2d_3\">\r\n      <g>\r\n       <use style=\"stroke:#000000;stroke-width:0.8;\" x=\"335.751428\" xlink:href=\"#m1e56ad148c\" y=\"333.36\"/>\r\n      </g>\r\n     </g>\r\n     <g id=\"text_3\">\r\n      <!-- 15 -->\r\n      <g transform=\"translate(330.243616 347.952188)scale(0.1 -0.1)\">\r\n       <use xlink:href=\"#MalgunGothic-49\"/>\r\n       <use x=\"55.078125\" xlink:href=\"#MalgunGothic-53\"/>\r\n      </g>\r\n     </g>\r\n    </g>\r\n    <g id=\"xtick_4\">\r\n     <g id=\"line2d_4\">\r\n      <g>\r\n       <use style=\"stroke:#000000;stroke-width:0.8;\" x=\"456.468838\" xlink:href=\"#m1e56ad148c\" y=\"333.36\"/>\r\n      </g>\r\n     </g>\r\n     <g id=\"text_4\">\r\n      <!-- 20 -->\r\n      <defs>\r\n       <path d=\"M 39.359375 52.6875 \r\nQ 39.359375 59.125 35.546875 62.78125 \r\nQ 31.734375 66.453125 25.4375 66.453125 \r\nQ 20.953125 66.453125 16.453125 64.125 \r\nQ 11.96875 61.8125 8.34375 57.765625 \r\nL 8.34375 66.15625 \r\nQ 15.328125 73.046875 26.421875 73.046875 \r\nQ 35.640625 73.046875 41.28125 67.71875 \r\nQ 46.921875 62.40625 46.921875 53.375 \r\nQ 46.921875 45.609375 43.3125 39.765625 \r\nQ 39.703125 33.9375 31 27.734375 \r\nQ 22.796875 21.96875 19.59375 18.984375 \r\nQ 16.40625 16.015625 15.109375 13.34375 \r\nQ 13.8125 10.6875 13.8125 7.03125 \r\nL 48.6875 7.03125 \r\nL 48.6875 0 \r\nL 5.5625 0 \r\nL 5.5625 3.515625 \r\nQ 5.5625 9.421875 7.203125 13.59375 \r\nQ 8.84375 17.78125 12.671875 21.75 \r\nQ 16.5 25.734375 24.953125 31.59375 \r\nQ 32.671875 36.921875 36.015625 41.71875 \r\nQ 39.359375 46.53125 39.359375 52.6875 \r\nz\r\n\" id=\"MalgunGothic-50\"/>\r\n      </defs>\r\n      <g transform=\"translate(450.961025 347.952188)scale(0.1 -0.1)\">\r\n       <use xlink:href=\"#MalgunGothic-50\"/>\r\n       <use x=\"55.078125\" xlink:href=\"#MalgunGothic-48\"/>\r\n      </g>\r\n     </g>\r\n    </g>\r\n    <g id=\"xtick_5\">\r\n     <g id=\"line2d_5\">\r\n      <g>\r\n       <use style=\"stroke:#000000;stroke-width:0.8;\" x=\"577.186247\" xlink:href=\"#m1e56ad148c\" y=\"333.36\"/>\r\n      </g>\r\n     </g>\r\n     <g id=\"text_5\">\r\n      <!-- 25 -->\r\n      <g transform=\"translate(571.678435 347.952188)scale(0.1 -0.1)\">\r\n       <use xlink:href=\"#MalgunGothic-50\"/>\r\n       <use x=\"55.078125\" xlink:href=\"#MalgunGothic-53\"/>\r\n      </g>\r\n     </g>\r\n    </g>\r\n    <g id=\"text_6\">\r\n     <!-- speed -->\r\n     <defs>\r\n      <path d=\"M 5.171875 10.453125 \r\nQ 11.921875 5.46875 19.96875 5.46875 \r\nQ 30.90625 5.46875 30.90625 12.84375 \r\nQ 30.90625 16.015625 28.515625 18.09375 \r\nQ 26.125 20.171875 19.09375 22.796875 \r\nQ 10.984375 26.03125 8.125 29.34375 \r\nQ 5.28125 32.671875 5.28125 37.75 \r\nQ 5.28125 44.28125 10.9375 48.375 \r\nQ 16.609375 52.484375 24.75 52.484375 \r\nQ 31.296875 52.484375 36.578125 50.203125 \r\nL 36.578125 42.140625 \r\nQ 30.859375 45.84375 23.53125 45.84375 \r\nQ 18.75 45.84375 16.015625 43.71875 \r\nQ 13.28125 41.609375 13.28125 38.421875 \r\nQ 13.28125 35.015625 15.296875 33.203125 \r\nQ 17.328125 31.390625 24.125 28.71875 \r\nQ 33.296875 25.140625 36.078125 21.71875 \r\nQ 38.875 18.3125 38.875 13.578125 \r\nQ 38.875 6.734375 33.234375 2.75 \r\nQ 27.59375 -1.21875 18.796875 -1.21875 \r\nQ 10.84375 -1.21875 5.171875 1.90625 \r\nz\r\n\" id=\"MalgunGothic-115\"/>\r\n      <path d=\"M 16.15625 7.515625 \r\nL 16.15625 -23.640625 \r\nL 8.40625 -23.640625 \r\nL 8.40625 51.3125 \r\nL 16.15625 51.3125 \r\nL 16.15625 42.234375 \r\nL 16.359375 42.234375 \r\nQ 22.46875 52.484375 34.125 52.484375 \r\nQ 43.890625 52.484375 49.546875 45.625 \r\nQ 55.21875 38.765625 55.21875 27.15625 \r\nQ 55.21875 14.15625 48.84375 6.46875 \r\nQ 42.484375 -1.21875 31.78125 -1.21875 \r\nQ 21.78125 -1.21875 16.359375 7.515625 \r\nz\r\nM 16.15625 20.796875 \r\nQ 16.15625 14.40625 20.421875 9.890625 \r\nQ 24.703125 5.375 31.109375 5.375 \r\nQ 38.671875 5.375 42.984375 11.1875 \r\nQ 47.3125 17 47.3125 27.390625 \r\nQ 47.3125 35.9375 43.234375 40.9375 \r\nQ 39.15625 45.953125 32.375 45.953125 \r\nQ 25.296875 45.953125 20.71875 40.921875 \r\nQ 16.15625 35.890625 16.15625 28.21875 \r\nz\r\n\" id=\"MalgunGothic-112\"/>\r\n      <path d=\"M 49.3125 23.734375 \r\nL 12.9375 23.734375 \r\nQ 13.1875 14.84375 17.703125 10.125 \r\nQ 22.21875 5.421875 29.828125 5.421875 \r\nQ 38.625 5.421875 45.84375 11.234375 \r\nL 45.84375 3.8125 \r\nQ 38.96875 -1.21875 28.03125 -1.21875 \r\nQ 17.1875 -1.21875 11.0625 5.875 \r\nQ 4.9375 12.984375 4.9375 25.53125 \r\nQ 4.9375 37.203125 11.671875 44.84375 \r\nQ 18.40625 52.484375 28.375 52.484375 \r\nQ 38.328125 52.484375 43.8125 45.96875 \r\nQ 49.3125 39.453125 49.3125 27.9375 \r\nz\r\nM 41.3125 30.5625 \r\nQ 41.3125 37.75 37.859375 41.796875 \r\nQ 34.421875 45.84375 28.265625 45.84375 \r\nQ 22.46875 45.84375 18.265625 41.671875 \r\nQ 14.0625 37.5 13.03125 30.5625 \r\nz\r\n\" id=\"MalgunGothic-101\"/>\r\n      <path d=\"M 51.765625 0 \r\nL 44.09375 0 \r\nL 44.09375 8.84375 \r\nL 43.890625 8.84375 \r\nQ 38.1875 -1.21875 26.171875 -1.21875 \r\nQ 16.5 -1.21875 10.71875 5.6875 \r\nQ 4.9375 12.59375 4.9375 24.46875 \r\nQ 4.9375 37.109375 11.375 44.796875 \r\nQ 17.828125 52.484375 28.375 52.484375 \r\nQ 38.96875 52.484375 43.890625 44.09375 \r\nL 44.09375 44.09375 \r\nL 44.09375 75.921875 \r\nL 51.765625 75.921875 \r\nz\r\nM 44.09375 30.90625 \r\nQ 44.09375 37.15625 39.84375 41.546875 \r\nQ 35.59375 45.953125 29.25 45.953125 \r\nQ 21.625 45.953125 17.203125 40.265625 \r\nQ 12.796875 34.578125 12.796875 24.859375 \r\nQ 12.796875 16.015625 16.96875 10.6875 \r\nQ 21.140625 5.375 28.328125 5.375 \r\nQ 35.15625 5.375 39.625 10.40625 \r\nQ 44.09375 15.4375 44.09375 23.09375 \r\nz\r\n\" id=\"MalgunGothic-100\"/>\r\n     </defs>\r\n     <g transform=\"translate(310.149219 361.908438)scale(0.1 -0.1)\">\r\n      <use xlink:href=\"#MalgunGothic-115\"/>\r\n      <use x=\"43.310547\" xlink:href=\"#MalgunGothic-112\"/>\r\n      <use x=\"103.369141\" xlink:href=\"#MalgunGothic-101\"/>\r\n      <use x=\"156.884766\" xlink:href=\"#MalgunGothic-101\"/>\r\n      <use x=\"210.400391\" xlink:href=\"#MalgunGothic-100\"/>\r\n     </g>\r\n    </g>\r\n   </g>\r\n   <g id=\"matplotlib.axis_2\">\r\n    <g id=\"ytick_1\">\r\n     <g id=\"line2d_6\">\r\n      <defs>\r\n       <path d=\"M 0 0 \r\nL -3.5 0 \r\n\" id=\"me9c3a68eb3\" style=\"stroke:#000000;stroke-width:0.8;\"/>\r\n      </defs>\r\n      <g>\r\n       <use style=\"stroke:#000000;stroke-width:0.8;\" x=\"44.679688\" xlink:href=\"#me9c3a68eb3\" y=\"314.0344\"/>\r\n      </g>\r\n     </g>\r\n     <g id=\"text_7\">\r\n      <!-- 0 -->\r\n      <g transform=\"translate(32.171875 317.830494)scale(0.1 -0.1)\">\r\n       <use xlink:href=\"#MalgunGothic-48\"/>\r\n      </g>\r\n     </g>\r\n    </g>\r\n    <g id=\"ytick_2\">\r\n     <g id=\"line2d_7\">\r\n      <g>\r\n       <use style=\"stroke:#000000;stroke-width:0.8;\" x=\"44.679688\" xlink:href=\"#me9c3a68eb3\" y=\"265.369973\"/>\r\n      </g>\r\n     </g>\r\n     <g id=\"text_8\">\r\n      <!-- 20 -->\r\n      <g transform=\"translate(26.664062 269.166066)scale(0.1 -0.1)\">\r\n       <use xlink:href=\"#MalgunGothic-50\"/>\r\n       <use x=\"55.078125\" xlink:href=\"#MalgunGothic-48\"/>\r\n      </g>\r\n     </g>\r\n    </g>\r\n    <g id=\"ytick_3\">\r\n     <g id=\"line2d_8\">\r\n      <g>\r\n       <use style=\"stroke:#000000;stroke-width:0.8;\" x=\"44.679688\" xlink:href=\"#me9c3a68eb3\" y=\"216.705545\"/>\r\n      </g>\r\n     </g>\r\n     <g id=\"text_9\">\r\n      <!-- 40 -->\r\n      <defs>\r\n       <path d=\"M 42.234375 71.875 \r\nL 42.234375 24.421875 \r\nL 51.703125 24.421875 \r\nL 51.703125 17.390625 \r\nL 42.234375 17.390625 \r\nL 42.234375 0 \r\nL 34.578125 0 \r\nL 34.578125 17.390625 \r\nL 0.78125 17.390625 \r\nL 0.78125 23.96875 \r\nQ 11.375 35.890625 20.234375 48.578125 \r\nQ 29.109375 61.28125 33.9375 71.875 \r\nz\r\nM 9.765625 24.421875 \r\nL 34.578125 24.421875 \r\nL 34.578125 59.859375 \r\nQ 25.203125 43.5625 14.984375 30.953125 \r\nz\r\n\" id=\"MalgunGothic-52\"/>\r\n      </defs>\r\n      <g transform=\"translate(26.664062 220.501639)scale(0.1 -0.1)\">\r\n       <use xlink:href=\"#MalgunGothic-52\"/>\r\n       <use x=\"55.078125\" xlink:href=\"#MalgunGothic-48\"/>\r\n      </g>\r\n     </g>\r\n    </g>\r\n    <g id=\"ytick_4\">\r\n     <g id=\"line2d_9\">\r\n      <g>\r\n       <use style=\"stroke:#000000;stroke-width:0.8;\" x=\"44.679688\" xlink:href=\"#me9c3a68eb3\" y=\"168.041118\"/>\r\n      </g>\r\n     </g>\r\n     <g id=\"text_10\">\r\n      <!-- 60 -->\r\n      <defs>\r\n       <path d=\"M 46.578125 63.578125 \r\nQ 40.921875 66.40625 34.8125 66.40625 \r\nQ 24.859375 66.40625 19.1875 57.640625 \r\nQ 13.53125 48.875 13.578125 34.578125 \r\nL 13.8125 34.578125 \r\nQ 18.796875 44.875 30.28125 44.875 \r\nQ 39.796875 44.875 45.359375 38.71875 \r\nQ 50.921875 32.5625 50.921875 22.65625 \r\nQ 50.921875 12.453125 44.640625 5.609375 \r\nQ 38.375 -1.21875 28.515625 -1.21875 \r\nQ 17.4375 -1.21875 11.5 7.46875 \r\nQ 5.5625 16.15625 5.5625 31.546875 \r\nQ 5.5625 49.703125 13.234375 61.375 \r\nQ 20.90625 73.046875 34.71875 73.046875 \r\nQ 42.1875 73.046875 46.578125 71 \r\nz\r\nM 14.15625 23.53125 \r\nQ 14.15625 15.96875 18.203125 10.671875 \r\nQ 22.265625 5.375 28.8125 5.375 \r\nQ 35.109375 5.375 39.03125 10.078125 \r\nQ 42.96875 14.796875 42.96875 21.6875 \r\nQ 42.96875 29.5 39.203125 33.859375 \r\nQ 35.453125 38.234375 28.71875 38.234375 \r\nQ 22.5625 38.234375 18.359375 33.953125 \r\nQ 14.15625 29.6875 14.15625 23.53125 \r\nz\r\n\" id=\"MalgunGothic-54\"/>\r\n      </defs>\r\n      <g transform=\"translate(26.664062 171.837211)scale(0.1 -0.1)\">\r\n       <use xlink:href=\"#MalgunGothic-54\"/>\r\n       <use x=\"55.078125\" xlink:href=\"#MalgunGothic-48\"/>\r\n      </g>\r\n     </g>\r\n    </g>\r\n    <g id=\"ytick_5\">\r\n     <g id=\"line2d_10\">\r\n      <g>\r\n       <use style=\"stroke:#000000;stroke-width:0.8;\" x=\"44.679688\" xlink:href=\"#me9c3a68eb3\" y=\"119.37669\"/>\r\n      </g>\r\n     </g>\r\n     <g id=\"text_11\">\r\n      <!-- 80 -->\r\n      <defs>\r\n       <path d=\"M 4.734375 20.015625 \r\nQ 4.734375 26.078125 8.421875 31.421875 \r\nQ 12.109375 36.765625 18.015625 38.96875 \r\nQ 13.375 41.359375 10.546875 45.546875 \r\nQ 7.71875 49.75 7.71875 54.6875 \r\nQ 7.71875 59.8125 10.296875 64.03125 \r\nQ 12.890625 68.265625 17.53125 70.65625 \r\nQ 22.171875 73.046875 27.78125 73.046875 \r\nQ 36.46875 73.046875 42.1875 67.84375 \r\nQ 47.90625 62.640625 47.90625 54.6875 \r\nQ 47.90625 49.703125 45.015625 45.53125 \r\nQ 42.140625 41.359375 37.703125 38.96875 \r\nQ 43.5625 36.71875 47.21875 31.390625 \r\nQ 50.875 26.078125 50.875 20.015625 \r\nQ 50.875 10.5 44.421875 4.640625 \r\nQ 37.984375 -1.21875 27.78125 -1.21875 \r\nQ 17.671875 -1.21875 11.203125 4.703125 \r\nQ 4.734375 10.640625 4.734375 20.015625 \r\nz\r\nM 12.640625 20.75 \r\nQ 12.640625 13.71875 16.890625 9.546875 \r\nQ 21.140625 5.375 27.828125 5.375 \r\nQ 34.46875 5.375 38.78125 9.671875 \r\nQ 43.109375 13.96875 43.109375 20.75 \r\nQ 43.109375 27.046875 38.78125 31.421875 \r\nQ 34.46875 35.796875 27.828125 35.796875 \r\nQ 21.4375 35.796875 17.03125 31.5625 \r\nQ 12.640625 27.34375 12.640625 20.75 \r\nz\r\nM 15.671875 54.046875 \r\nQ 15.671875 48.828125 19.28125 45.3125 \r\nQ 22.90625 41.796875 27.828125 41.796875 \r\nQ 32.765625 41.796875 36.40625 45.3125 \r\nQ 40.046875 48.828125 40.046875 54.046875 \r\nQ 40.046875 59.421875 36.578125 62.90625 \r\nQ 33.109375 66.40625 27.828125 66.40625 \r\nQ 22.65625 66.40625 19.15625 62.953125 \r\nQ 15.671875 59.515625 15.671875 54.046875 \r\nz\r\n\" id=\"MalgunGothic-56\"/>\r\n      </defs>\r\n      <g transform=\"translate(26.664062 123.172784)scale(0.1 -0.1)\">\r\n       <use xlink:href=\"#MalgunGothic-56\"/>\r\n       <use x=\"55.078125\" xlink:href=\"#MalgunGothic-48\"/>\r\n      </g>\r\n     </g>\r\n    </g>\r\n    <g id=\"ytick_6\">\r\n     <g id=\"line2d_11\">\r\n      <g>\r\n       <use style=\"stroke:#000000;stroke-width:0.8;\" x=\"44.679688\" xlink:href=\"#me9c3a68eb3\" y=\"70.712263\"/>\r\n      </g>\r\n     </g>\r\n     <g id=\"text_12\">\r\n      <!-- 100 -->\r\n      <g transform=\"translate(21.15625 74.508356)scale(0.1 -0.1)\">\r\n       <use xlink:href=\"#MalgunGothic-49\"/>\r\n       <use x=\"55.078125\" xlink:href=\"#MalgunGothic-48\"/>\r\n       <use x=\"110.15625\" xlink:href=\"#MalgunGothic-48\"/>\r\n      </g>\r\n     </g>\r\n    </g>\r\n    <g id=\"ytick_7\">\r\n     <g id=\"line2d_12\">\r\n      <g>\r\n       <use style=\"stroke:#000000;stroke-width:0.8;\" x=\"44.679688\" xlink:href=\"#me9c3a68eb3\" y=\"22.047835\"/>\r\n      </g>\r\n     </g>\r\n     <g id=\"text_13\">\r\n      <!-- 120 -->\r\n      <g transform=\"translate(21.15625 25.843929)scale(0.1 -0.1)\">\r\n       <use xlink:href=\"#MalgunGothic-49\"/>\r\n       <use x=\"55.078125\" xlink:href=\"#MalgunGothic-50\"/>\r\n       <use x=\"110.15625\" xlink:href=\"#MalgunGothic-48\"/>\r\n      </g>\r\n     </g>\r\n    </g>\r\n    <g id=\"text_14\">\r\n     <!-- dist -->\r\n     <defs>\r\n      <path d=\"M 7.375 69.78125 \r\nQ 7.375 71.96875 8.828125 73.453125 \r\nQ 10.296875 74.953125 12.40625 74.953125 \r\nQ 14.59375 74.953125 16.078125 73.4375 \r\nQ 17.578125 71.921875 17.578125 69.78125 \r\nQ 17.578125 67.578125 16.078125 66.109375 \r\nQ 14.59375 64.65625 12.40625 64.65625 \r\nQ 10.296875 64.65625 8.828125 66.09375 \r\nQ 7.375 67.53125 7.375 69.78125 \r\nz\r\nM 8.453125 0 \r\nL 8.453125 51.3125 \r\nL 16.15625 51.3125 \r\nL 16.15625 0 \r\nz\r\n\" id=\"MalgunGothic-105\"/>\r\n      <path d=\"M 31.734375 0.484375 \r\nQ 28.8125 -1.125 24.265625 -1.125 \r\nQ 11.03125 -1.125 11.03125 13.765625 \r\nL 11.03125 44.625 \r\nL 2.15625 44.625 \r\nL 2.15625 51.3125 \r\nL 11.03125 51.3125 \r\nL 11.03125 63.921875 \r\nL 18.75 66.40625 \r\nL 18.75 51.3125 \r\nL 31.734375 51.3125 \r\nL 31.734375 44.625 \r\nL 18.75 44.625 \r\nL 18.75 15.1875 \r\nQ 18.75 9.765625 20.546875 7.609375 \r\nQ 22.359375 5.46875 26.421875 5.46875 \r\nQ 29.5 5.46875 31.734375 7.171875 \r\nz\r\n\" id=\"MalgunGothic-116\"/>\r\n     </defs>\r\n     <g transform=\"translate(14.792188 178.409688)rotate(-90)scale(0.1 -0.1)\">\r\n      <use xlink:href=\"#MalgunGothic-100\"/>\r\n      <use x=\"60.205078\" xlink:href=\"#MalgunGothic-105\"/>\r\n      <use x=\"84.814453\" xlink:href=\"#MalgunGothic-115\"/>\r\n      <use x=\"128.125\" xlink:href=\"#MalgunGothic-116\"/>\r\n     </g>\r\n    </g>\r\n   </g>\r\n   <g id=\"line2d_13\">\r\n    <path clip-path=\"url(#p1cb0417379)\" d=\"M 70.173128 318.534545 \r\nL 70.173128 318.534545 \r\nL 142.603573 289.829282 \r\nL 142.603573 289.829282 \r\nL 166.747055 280.260861 \r\nL 190.890537 270.69244 \r\nL 215.034019 261.124019 \r\nL 215.034019 261.124019 \r\nL 215.034019 261.124019 \r\nL 239.177501 251.555598 \r\nL 239.177501 251.555598 \r\nL 263.320983 241.987177 \r\nL 263.320983 241.987177 \r\nL 263.320983 241.987177 \r\nL 263.320983 241.987177 \r\nL 287.464465 232.418756 \r\nL 287.464465 232.418756 \r\nL 287.464465 232.418756 \r\nL 287.464465 232.418756 \r\nL 311.607947 222.850335 \r\nL 311.607947 222.850335 \r\nL 311.607947 222.850335 \r\nL 311.607947 222.850335 \r\nL 335.751428 213.281914 \r\nL 335.751428 213.281914 \r\nL 335.751428 213.281914 \r\nL 359.89491 203.713493 \r\nL 359.89491 203.713493 \r\nL 384.038392 194.145072 \r\nL 384.038392 194.145072 \r\nL 384.038392 194.145072 \r\nL 408.181874 184.576651 \r\nL 408.181874 184.576651 \r\nL 408.181874 184.576651 \r\nL 408.181874 184.576651 \r\nL 432.325356 175.00823 \r\nL 432.325356 175.00823 \r\nL 432.325356 175.00823 \r\nL 456.468838 165.439809 \r\nL 456.468838 165.439809 \r\nL 456.468838 165.439809 \r\nL 456.468838 165.439809 \r\nL 456.468838 165.439809 \r\nL 504.755802 146.302967 \r\nL 528.899284 136.734546 \r\nL 553.042766 127.166124 \r\nL 553.042766 127.166124 \r\nL 553.042766 127.166124 \r\nL 553.042766 127.166124 \r\nL 577.186247 117.597703 \r\n\" style=\"fill:none;stroke:#ff0000;stroke-dasharray:5.55,2.4;stroke-dashoffset:0;stroke-width:1.5;\"/>\r\n   </g>\r\n   <g id=\"line2d_14\">\r\n    <path clip-path=\"url(#p1cb0417379)\" d=\"M 44.679688 209.454545 \r\nL 602.679688 209.454545 \r\n\" style=\"fill:none;stroke:#0000ff;stroke-linecap:square;stroke-width:1.5;\"/>\r\n   </g>\r\n   <g id=\"patch_3\">\r\n    <path d=\"M 44.679688 333.36 \r\nL 44.679688 7.2 \r\n\" style=\"fill:none;stroke:#000000;stroke-linecap:square;stroke-linejoin:miter;stroke-width:0.8;\"/>\r\n   </g>\r\n   <g id=\"patch_4\">\r\n    <path d=\"M 602.679688 333.36 \r\nL 602.679688 7.2 \r\n\" style=\"fill:none;stroke:#000000;stroke-linecap:square;stroke-linejoin:miter;stroke-width:0.8;\"/>\r\n   </g>\r\n   <g id=\"patch_5\">\r\n    <path d=\"M 44.679688 333.36 \r\nL 602.679688 333.36 \r\n\" style=\"fill:none;stroke:#000000;stroke-linecap:square;stroke-linejoin:miter;stroke-width:0.8;\"/>\r\n   </g>\r\n   <g id=\"patch_6\">\r\n    <path d=\"M 44.679688 7.2 \r\nL 602.679688 7.2 \r\n\" style=\"fill:none;stroke:#000000;stroke-linecap:square;stroke-linejoin:miter;stroke-width:0.8;\"/>\r\n   </g>\r\n  </g>\r\n </g>\r\n <defs>\r\n  <clipPath id=\"p1cb0417379\">\r\n   <rect height=\"326.16\" width=\"558\" x=\"44.679688\" y=\"7.2\"/>\r\n  </clipPath>\r\n </defs>\r\n</svg>\r\n",
      "image/png": "[encoded data removed]"
     },
     "metadata": {
      "needs_background": "light"
     }
    }
   ],
   "source": [
    "plt.figure( figsize=(10,6))\n",
    "plt.xlabel('speed')\n",
    "plt.ylabel('dist')\n",
    "predictions = modelCar.predict(  carDF[['speed']] )\n",
    "plt.scatter(carDF.speed, carDF.dist)\n",
    "plt.plot( carDF.speed, predictions, 'r--') \n",
    "\n",
    "plt.axhline( carDF.dist.mean(),color='blue') # dist값의 평균\n",
    "plt.show()\n"
   ]
  },
  {
   "source": [
    "### 학습을 통한 선형회귀\n"
   ],
   "cell_type": "markdown",
   "metadata": {}
  },
  {
   "source": [
    "# alpha = 0.0001 (런닝레이트)\n",
    "# max_iter = 1000 (학습횟수)\n",
    "# early_stopping = True, (cost값이 변화가 없다, 학습이되어 최저점에 도달하면 빠져나감)\n",
    "# verbose = 1 학습한 내용(횟수)을 프린트\n",
    "\n",
    "modelSGD = SGDRegressor(max_iter=100, alpha=0.0001,\n",
    "                        verbose=1,\n",
    "                         early_stopping= True)\n",
    "modelSGD.fit(carDF[['speed']],carDF[['dist']])\n"
   ],
   "cell_type": "code",
   "metadata": {},
   "execution_count": 209,
   "outputs": [
    {
     "output_type": "stream",
     "name": "stdout",
     "text": [
      "-- Epoch 1\nNorm: 4.02, NNZs: 1, Bias: -0.011702, T: 45, Avg. loss: 453.503686\nTotal training time: 0.00 seconds.\n-- Epoch 2\nNorm: 2.32, NNZs: 1, Bias: -0.340615, T: 90, Avg. loss: 268.437625\nTotal training time: 0.00 seconds.\n-- Epoch 3\nNorm: 2.39, NNZs: 1, Bias: -0.516013, T: 135, Avg. loss: 224.970878\nTotal training time: 0.00 seconds.\n-- Epoch 4\nNorm: 2.33, NNZs: 1, Bias: -0.785608, T: 180, Avg. loss: 185.312304\nTotal training time: 0.00 seconds.\n-- Epoch 5\nNorm: 2.47, NNZs: 1, Bias: -0.954533, T: 225, Avg. loss: 186.391401\nTotal training time: 0.00 seconds.\n-- Epoch 6\nNorm: 3.36, NNZs: 1, Bias: -1.067676, T: 270, Avg. loss: 174.849831\nTotal training time: 0.00 seconds.\n-- Epoch 7\nNorm: 3.50, NNZs: 1, Bias: -1.260135, T: 315, Avg. loss: 154.518023\nTotal training time: 0.00 seconds.\n-- Epoch 8\nNorm: 2.43, NNZs: 1, Bias: -1.463533, T: 360, Avg. loss: 183.450170\nTotal training time: 0.01 seconds.\n-- Epoch 9\nNorm: 2.87, NNZs: 1, Bias: -1.642424, T: 405, Avg. loss: 151.286432\nTotal training time: 0.01 seconds.\n-- Epoch 10\nNorm: 2.52, NNZs: 1, Bias: -1.762122, T: 450, Avg. loss: 139.162987\nTotal training time: 0.01 seconds.\n-- Epoch 11\nNorm: 2.53, NNZs: 1, Bias: -1.818384, T: 495, Avg. loss: 167.714397\nTotal training time: 0.01 seconds.\n-- Epoch 12\nNorm: 3.59, NNZs: 1, Bias: -1.919836, T: 540, Avg. loss: 146.641294\nTotal training time: 0.01 seconds.\n-- Epoch 13\nNorm: 3.25, NNZs: 1, Bias: -1.979522, T: 585, Avg. loss: 130.084762\nTotal training time: 0.01 seconds.\nConvergence after 13 epochs took 0.01 seconds\n"
     ]
    },
    {
     "output_type": "execute_result",
     "data": {
      "text/plain": [
       "SGDRegressor(alpha=0.0001, average=False, early_stopping=True, epsilon=0.1,\n",
       "             eta0=0.01, fit_intercept=True, l1_ratio=0.15,\n",
       "             learning_rate='invscaling', loss='squared_loss', max_iter=100,\n",
       "             n_iter_no_change=5, penalty='l2', power_t=0.25, random_state=None,\n",
       "             shuffle=True, tol=0.001, validation_fraction=0.1, verbose=1,\n",
       "             warm_start=False)"
      ]
     },
     "metadata": {},
     "execution_count": 209
    }
   ]
  },
  {
   "cell_type": "code",
   "execution_count": 167,
   "metadata": {},
   "outputs": [
    {
     "output_type": "execute_result",
     "data": {
      "text/plain": [
       "array([2.97308084])"
      ]
     },
     "metadata": {},
     "execution_count": 167
    }
   ],
   "source": [
    "modelSGD.coef_"
   ]
  },
  {
   "cell_type": "code",
   "execution_count": 166,
   "metadata": {},
   "outputs": [
    {
     "output_type": "execute_result",
     "data": {
      "text/plain": [
       "array([-5.82145298])"
      ]
     },
     "metadata": {},
     "execution_count": 166
    }
   ],
   "source": [
    "modelSGD.intercept_"
   ]
  },
  {
   "source": [
    "### 딥러닝을 이용한 선형회귀"
   ],
   "cell_type": "markdown",
   "metadata": {}
  },
  {
   "cell_type": "code",
   "execution_count": 224,
   "metadata": {
    "tags": []
   },
   "outputs": [
    {
     "output_type": "execute_result",
     "data": {
      "text/plain": [
       "MLPRegressor(activation='relu', alpha=0.001, batch_size='auto', beta_1=0.9,\n",
       "             beta_2=0.999, early_stopping=False, epsilon=1e-08,\n",
       "             hidden_layer_sizes=(100, 10), learning_rate='constant',\n",
       "             learning_rate_init=0.001, max_iter=5000, momentum=0.9,\n",
       "             n_iter_no_change=10, nesterovs_momentum=True, power_t=0.5,\n",
       "             random_state=None, shuffle=True, solver='adam', tol=0.0001,\n",
       "             validation_fraction=0.1, verbose=False, warm_start=False)"
      ]
     },
     "metadata": {},
     "execution_count": 224
    }
   ],
   "source": [
    "# 하이퍼 파라미터 설정\n",
    "# hidden_layer_sizes (100,10) : 100개짜리 세트10개\n",
    "\n",
    "modelNN = MLPRegressor(max_iter=5000, alpha=0.001,\n",
    "                         hidden_layer_sizes= (100,10))\n",
    "modelNN.fit(carDF[['speed']], carDF['dist'])"
   ]
  },
  {
   "cell_type": "code",
   "execution_count": 225,
   "metadata": {},
   "outputs": [
    {
     "output_type": "display_data",
     "data": {
      "text/plain": "<Figure size 432x288 with 1 Axes>",
      "image/svg+xml": "<?xml version=\"1.0\" encoding=\"utf-8\" standalone=\"no\"?>\r\n<!DOCTYPE svg PUBLIC \"-//W3C//DTD SVG 1.1//EN\"\r\n  \"http://www.w3.org/Graphics/SVG/1.1/DTD/svg11.dtd\">\r\n<!-- Created with matplotlib (https://matplotlib.org/) -->\r\n<svg height=\"248.79625pt\" version=\"1.1\" viewBox=\"0 0 372.723437 248.79625\" width=\"372.723437pt\" xmlns=\"http://www.w3.org/2000/svg\" xmlns:xlink=\"http://www.w3.org/1999/xlink\">\r\n <defs>\r\n  <style type=\"text/css\">\r\n*{stroke-linecap:butt;stroke-linejoin:round;}\r\n  </style>\r\n </defs>\r\n <g id=\"figure_1\">\r\n  <g id=\"patch_1\">\r\n   <path d=\"M 0 248.79625 \r\nL 372.723437 248.79625 \r\nL 372.723437 0 \r\nL 0 0 \r\nz\r\n\" style=\"fill:none;\"/>\r\n  </g>\r\n  <g id=\"axes_1\">\r\n   <g id=\"patch_2\">\r\n    <path d=\"M 30.723438 224.64 \r\nL 365.523438 224.64 \r\nL 365.523438 7.2 \r\nL 30.723438 7.2 \r\nz\r\n\" style=\"fill:#ffffff;\"/>\r\n   </g>\r\n   <g id=\"PathCollection_1\">\r\n    <defs>\r\n     <path d=\"M 0 3 \r\nC 0.795609 3 1.55874 2.683901 2.12132 2.12132 \r\nC 2.683901 1.55874 3 0.795609 3 0 \r\nC 3 -0.795609 2.683901 -1.55874 2.12132 -2.12132 \r\nC 1.55874 -2.683901 0.795609 -3 0 -3 \r\nC -0.795609 -3 -1.55874 -2.683901 -2.12132 -2.12132 \r\nC -2.683901 -1.55874 -3 -0.795609 -3 0 \r\nC -3 0.795609 -2.683901 1.55874 -2.12132 2.12132 \r\nC -1.55874 2.683901 -0.795609 3 0 3 \r\nz\r\n\" id=\"m195d3d1d3b\" style=\"stroke:#1f77b4;\"/>\r\n    </defs>\r\n    <g clip-path=\"url(#p2e5e26dbdf)\">\r\n     <use style=\"fill:#1f77b4;stroke:#1f77b4;\" x=\"46.071379\" xlink:href=\"#m195d3d1d3b\" y=\"211.488355\"/>\r\n     <use style=\"fill:#1f77b4;stroke:#1f77b4;\" x=\"46.071379\" xlink:href=\"#m195d3d1d3b\" y=\"198.309915\"/>\r\n     <use style=\"fill:#1f77b4;stroke:#1f77b4;\" x=\"89.514824\" xlink:href=\"#m195d3d1d3b\" y=\"208.193745\"/>\r\n     <use style=\"fill:#1f77b4;stroke:#1f77b4;\" x=\"89.514824\" xlink:href=\"#m195d3d1d3b\" y=\"178.542255\"/>\r\n     <use style=\"fill:#1f77b4;stroke:#1f77b4;\" x=\"103.995973\" xlink:href=\"#m195d3d1d3b\" y=\"188.426085\"/>\r\n     <use style=\"fill:#1f77b4;stroke:#1f77b4;\" x=\"118.477121\" xlink:href=\"#m195d3d1d3b\" y=\"198.309915\"/>\r\n     <use style=\"fill:#1f77b4;stroke:#1f77b4;\" x=\"132.958269\" xlink:href=\"#m195d3d1d3b\" y=\"185.131475\"/>\r\n     <use style=\"fill:#1f77b4;stroke:#1f77b4;\" x=\"132.958269\" xlink:href=\"#m195d3d1d3b\" y=\"171.953035\"/>\r\n     <use style=\"fill:#1f77b4;stroke:#1f77b4;\" x=\"132.958269\" xlink:href=\"#m195d3d1d3b\" y=\"158.774595\"/>\r\n     <use style=\"fill:#1f77b4;stroke:#1f77b4;\" x=\"147.439418\" xlink:href=\"#m195d3d1d3b\" y=\"186.77878\"/>\r\n     <use style=\"fill:#1f77b4;stroke:#1f77b4;\" x=\"147.439418\" xlink:href=\"#m195d3d1d3b\" y=\"168.658425\"/>\r\n     <use style=\"fill:#1f77b4;stroke:#1f77b4;\" x=\"161.920566\" xlink:href=\"#m195d3d1d3b\" y=\"191.720695\"/>\r\n     <use style=\"fill:#1f77b4;stroke:#1f77b4;\" x=\"161.920566\" xlink:href=\"#m195d3d1d3b\" y=\"181.836865\"/>\r\n     <use style=\"fill:#1f77b4;stroke:#1f77b4;\" x=\"161.920566\" xlink:href=\"#m195d3d1d3b\" y=\"175.247645\"/>\r\n     <use style=\"fill:#1f77b4;stroke:#1f77b4;\" x=\"161.920566\" xlink:href=\"#m195d3d1d3b\" y=\"168.658425\"/>\r\n     <use style=\"fill:#1f77b4;stroke:#1f77b4;\" x=\"176.401715\" xlink:href=\"#m195d3d1d3b\" y=\"171.953035\"/>\r\n     <use style=\"fill:#1f77b4;stroke:#1f77b4;\" x=\"176.401715\" xlink:href=\"#m195d3d1d3b\" y=\"158.774595\"/>\r\n     <use style=\"fill:#1f77b4;stroke:#1f77b4;\" x=\"176.401715\" xlink:href=\"#m195d3d1d3b\" y=\"158.774595\"/>\r\n     <use style=\"fill:#1f77b4;stroke:#1f77b4;\" x=\"176.401715\" xlink:href=\"#m195d3d1d3b\" y=\"139.006935\"/>\r\n     <use style=\"fill:#1f77b4;stroke:#1f77b4;\" x=\"190.882863\" xlink:href=\"#m195d3d1d3b\" y=\"171.953035\"/>\r\n     <use style=\"fill:#1f77b4;stroke:#1f77b4;\" x=\"190.882863\" xlink:href=\"#m195d3d1d3b\" y=\"155.479985\"/>\r\n     <use style=\"fill:#1f77b4;stroke:#1f77b4;\" x=\"190.882863\" xlink:href=\"#m195d3d1d3b\" y=\"115.944665\"/>\r\n     <use style=\"fill:#1f77b4;stroke:#1f77b4;\" x=\"190.882863\" xlink:href=\"#m195d3d1d3b\" y=\"82.998565\"/>\r\n     <use style=\"fill:#1f77b4;stroke:#1f77b4;\" x=\"205.364012\" xlink:href=\"#m195d3d1d3b\" y=\"181.836865\"/>\r\n     <use style=\"fill:#1f77b4;stroke:#1f77b4;\" x=\"205.364012\" xlink:href=\"#m195d3d1d3b\" y=\"171.953035\"/>\r\n     <use style=\"fill:#1f77b4;stroke:#1f77b4;\" x=\"205.364012\" xlink:href=\"#m195d3d1d3b\" y=\"125.828495\"/>\r\n     <use style=\"fill:#1f77b4;stroke:#1f77b4;\" x=\"219.84516\" xlink:href=\"#m195d3d1d3b\" y=\"162.069205\"/>\r\n     <use style=\"fill:#1f77b4;stroke:#1f77b4;\" x=\"219.84516\" xlink:href=\"#m195d3d1d3b\" y=\"148.890765\"/>\r\n     <use style=\"fill:#1f77b4;stroke:#1f77b4;\" x=\"234.326309\" xlink:href=\"#m195d3d1d3b\" y=\"162.069205\"/>\r\n     <use style=\"fill:#1f77b4;stroke:#1f77b4;\" x=\"234.326309\" xlink:href=\"#m195d3d1d3b\" y=\"148.890765\"/>\r\n     <use style=\"fill:#1f77b4;stroke:#1f77b4;\" x=\"234.326309\" xlink:href=\"#m195d3d1d3b\" y=\"132.417715\"/>\r\n     <use style=\"fill:#1f77b4;stroke:#1f77b4;\" x=\"248.807457\" xlink:href=\"#m195d3d1d3b\" y=\"145.596155\"/>\r\n     <use style=\"fill:#1f77b4;stroke:#1f77b4;\" x=\"248.807457\" xlink:href=\"#m195d3d1d3b\" y=\"122.533885\"/>\r\n     <use style=\"fill:#1f77b4;stroke:#1f77b4;\" x=\"248.807457\" xlink:href=\"#m195d3d1d3b\" y=\"89.587785\"/>\r\n     <use style=\"fill:#1f77b4;stroke:#1f77b4;\" x=\"248.807457\" xlink:href=\"#m195d3d1d3b\" y=\"76.409344\"/>\r\n     <use style=\"fill:#1f77b4;stroke:#1f77b4;\" x=\"263.288606\" xlink:href=\"#m195d3d1d3b\" y=\"155.479985\"/>\r\n     <use style=\"fill:#1f77b4;stroke:#1f77b4;\" x=\"263.288606\" xlink:href=\"#m195d3d1d3b\" y=\"139.006935\"/>\r\n     <use style=\"fill:#1f77b4;stroke:#1f77b4;\" x=\"263.288606\" xlink:href=\"#m195d3d1d3b\" y=\"102.766225\"/>\r\n     <use style=\"fill:#1f77b4;stroke:#1f77b4;\" x=\"277.769754\" xlink:href=\"#m195d3d1d3b\" y=\"162.069205\"/>\r\n     <use style=\"fill:#1f77b4;stroke:#1f77b4;\" x=\"277.769754\" xlink:href=\"#m195d3d1d3b\" y=\"135.712325\"/>\r\n     <use style=\"fill:#1f77b4;stroke:#1f77b4;\" x=\"277.769754\" xlink:href=\"#m195d3d1d3b\" y=\"129.123105\"/>\r\n     <use style=\"fill:#1f77b4;stroke:#1f77b4;\" x=\"277.769754\" xlink:href=\"#m195d3d1d3b\" y=\"122.533885\"/>\r\n     <use style=\"fill:#1f77b4;stroke:#1f77b4;\" x=\"277.769754\" xlink:href=\"#m195d3d1d3b\" y=\"109.355445\"/>\r\n     <use style=\"fill:#1f77b4;stroke:#1f77b4;\" x=\"306.732051\" xlink:href=\"#m195d3d1d3b\" y=\"106.060835\"/>\r\n     <use style=\"fill:#1f77b4;stroke:#1f77b4;\" x=\"321.213199\" xlink:href=\"#m195d3d1d3b\" y=\"125.828495\"/>\r\n     <use style=\"fill:#1f77b4;stroke:#1f77b4;\" x=\"335.694348\" xlink:href=\"#m195d3d1d3b\" y=\"99.471615\"/>\r\n     <use style=\"fill:#1f77b4;stroke:#1f77b4;\" x=\"335.694348\" xlink:href=\"#m195d3d1d3b\" y=\"63.230904\"/>\r\n     <use style=\"fill:#1f77b4;stroke:#1f77b4;\" x=\"335.694348\" xlink:href=\"#m195d3d1d3b\" y=\"61.583599\"/>\r\n     <use style=\"fill:#1f77b4;stroke:#1f77b4;\" x=\"335.694348\" xlink:href=\"#m195d3d1d3b\" y=\"17.106364\"/>\r\n     <use style=\"fill:#1f77b4;stroke:#1f77b4;\" x=\"350.175496\" xlink:href=\"#m195d3d1d3b\" y=\"74.762039\"/>\r\n    </g>\r\n   </g>\r\n   <g id=\"matplotlib.axis_1\">\r\n    <g id=\"xtick_1\">\r\n     <g id=\"line2d_1\">\r\n      <defs>\r\n       <path d=\"M 0 0 \r\nL 0 3.5 \r\n\" id=\"ma35276c33c\" style=\"stroke:#000000;stroke-width:0.8;\"/>\r\n      </defs>\r\n      <g>\r\n       <use style=\"stroke:#000000;stroke-width:0.8;\" x=\"60.552527\" xlink:href=\"#ma35276c33c\" y=\"224.64\"/>\r\n      </g>\r\n     </g>\r\n     <g id=\"text_1\">\r\n      <!-- 5 -->\r\n      <defs>\r\n       <path d=\"M 48 21.921875 \r\nQ 48 11.28125 41.1875 5.03125 \r\nQ 34.375 -1.21875 22.953125 -1.21875 \r\nQ 12.9375 -1.21875 8.0625 1.765625 \r\nL 8.0625 10.15625 \r\nQ 15.53125 5.375 23.046875 5.375 \r\nQ 30.765625 5.375 35.46875 9.84375 \r\nQ 40.1875 14.3125 40.1875 21.4375 \r\nQ 40.1875 28.71875 35.390625 32.6875 \r\nQ 30.609375 36.671875 21.578125 36.671875 \r\nQ 15.53125 36.671875 9.421875 35.9375 \r\nL 11.859375 71.875 \r\nL 44.828125 71.875 \r\nL 44.828125 64.796875 \r\nL 18.84375 64.796875 \r\nL 17.28125 43.171875 \r\nQ 21.046875 43.5 24.171875 43.5 \r\nQ 35.359375 43.5 41.671875 37.71875 \r\nQ 48 31.9375 48 21.921875 \r\nz\r\n\" id=\"MalgunGothic-53\"/>\r\n      </defs>\r\n      <g transform=\"translate(57.798621 239.232187)scale(0.1 -0.1)\">\r\n       <use xlink:href=\"#MalgunGothic-53\"/>\r\n      </g>\r\n     </g>\r\n    </g>\r\n    <g id=\"xtick_2\">\r\n     <g id=\"line2d_2\">\r\n      <g>\r\n       <use style=\"stroke:#000000;stroke-width:0.8;\" x=\"132.958269\" xlink:href=\"#ma35276c33c\" y=\"224.64\"/>\r\n      </g>\r\n     </g>\r\n     <g id=\"text_2\">\r\n      <!-- 10 -->\r\n      <defs>\r\n       <path d=\"M 34.859375 0 \r\nL 27.09375 0 \r\nL 27.09375 62.0625 \r\nQ 24.859375 59.8125 19.78125 57.203125 \r\nQ 14.703125 54.59375 10.5 53.5625 \r\nL 10.5 61.859375 \r\nQ 15.875 63.375 22.015625 66.796875 \r\nQ 28.171875 70.21875 31.734375 73.4375 \r\nL 34.859375 73.4375 \r\nz\r\n\" id=\"MalgunGothic-49\"/>\r\n       <path d=\"M 4.34375 34.46875 \r\nQ 4.34375 53.515625 10.546875 63.28125 \r\nQ 16.75 73.046875 28.421875 73.046875 \r\nQ 50.828125 73.046875 50.828125 36.234375 \r\nQ 50.828125 18.0625 44.59375 8.421875 \r\nQ 38.375 -1.21875 26.8125 -1.21875 \r\nQ 15.875 -1.21875 10.109375 8.125 \r\nQ 4.34375 17.484375 4.34375 34.46875 \r\nz\r\nM 12.25 34.859375 \r\nQ 12.25 5.375 27.640625 5.375 \r\nQ 42.921875 5.375 42.921875 35.296875 \r\nQ 42.921875 66.40625 28.03125 66.40625 \r\nQ 12.25 66.40625 12.25 34.859375 \r\nz\r\n\" id=\"MalgunGothic-48\"/>\r\n      </defs>\r\n      <g transform=\"translate(127.450457 239.232187)scale(0.1 -0.1)\">\r\n       <use xlink:href=\"#MalgunGothic-49\"/>\r\n       <use x=\"55.078125\" xlink:href=\"#MalgunGothic-48\"/>\r\n      </g>\r\n     </g>\r\n    </g>\r\n    <g id=\"xtick_3\">\r\n     <g id=\"line2d_3\">\r\n      <g>\r\n       <use style=\"stroke:#000000;stroke-width:0.8;\" x=\"205.364012\" xlink:href=\"#ma35276c33c\" y=\"224.64\"/>\r\n      </g>\r\n     </g>\r\n     <g id=\"text_3\">\r\n      <!-- 15 -->\r\n      <g transform=\"translate(199.856199 239.232187)scale(0.1 -0.1)\">\r\n       <use xlink:href=\"#MalgunGothic-49\"/>\r\n       <use x=\"55.078125\" xlink:href=\"#MalgunGothic-53\"/>\r\n      </g>\r\n     </g>\r\n    </g>\r\n    <g id=\"xtick_4\">\r\n     <g id=\"line2d_4\">\r\n      <g>\r\n       <use style=\"stroke:#000000;stroke-width:0.8;\" x=\"277.769754\" xlink:href=\"#ma35276c33c\" y=\"224.64\"/>\r\n      </g>\r\n     </g>\r\n     <g id=\"text_4\">\r\n      <!-- 20 -->\r\n      <defs>\r\n       <path d=\"M 39.359375 52.6875 \r\nQ 39.359375 59.125 35.546875 62.78125 \r\nQ 31.734375 66.453125 25.4375 66.453125 \r\nQ 20.953125 66.453125 16.453125 64.125 \r\nQ 11.96875 61.8125 8.34375 57.765625 \r\nL 8.34375 66.15625 \r\nQ 15.328125 73.046875 26.421875 73.046875 \r\nQ 35.640625 73.046875 41.28125 67.71875 \r\nQ 46.921875 62.40625 46.921875 53.375 \r\nQ 46.921875 45.609375 43.3125 39.765625 \r\nQ 39.703125 33.9375 31 27.734375 \r\nQ 22.796875 21.96875 19.59375 18.984375 \r\nQ 16.40625 16.015625 15.109375 13.34375 \r\nQ 13.8125 10.6875 13.8125 7.03125 \r\nL 48.6875 7.03125 \r\nL 48.6875 0 \r\nL 5.5625 0 \r\nL 5.5625 3.515625 \r\nQ 5.5625 9.421875 7.203125 13.59375 \r\nQ 8.84375 17.78125 12.671875 21.75 \r\nQ 16.5 25.734375 24.953125 31.59375 \r\nQ 32.671875 36.921875 36.015625 41.71875 \r\nQ 39.359375 46.53125 39.359375 52.6875 \r\nz\r\n\" id=\"MalgunGothic-50\"/>\r\n      </defs>\r\n      <g transform=\"translate(272.261942 239.232187)scale(0.1 -0.1)\">\r\n       <use xlink:href=\"#MalgunGothic-50\"/>\r\n       <use x=\"55.078125\" xlink:href=\"#MalgunGothic-48\"/>\r\n      </g>\r\n     </g>\r\n    </g>\r\n    <g id=\"xtick_5\">\r\n     <g id=\"line2d_5\">\r\n      <g>\r\n       <use style=\"stroke:#000000;stroke-width:0.8;\" x=\"350.175496\" xlink:href=\"#ma35276c33c\" y=\"224.64\"/>\r\n      </g>\r\n     </g>\r\n     <g id=\"text_5\">\r\n      <!-- 25 -->\r\n      <g transform=\"translate(344.667684 239.232187)scale(0.1 -0.1)\">\r\n       <use xlink:href=\"#MalgunGothic-50\"/>\r\n       <use x=\"55.078125\" xlink:href=\"#MalgunGothic-53\"/>\r\n      </g>\r\n     </g>\r\n    </g>\r\n   </g>\r\n   <g id=\"matplotlib.axis_2\">\r\n    <g id=\"ytick_1\">\r\n     <g id=\"line2d_6\">\r\n      <defs>\r\n       <path d=\"M 0 0 \r\nL -3.5 0 \r\n\" id=\"m0744203d59\" style=\"stroke:#000000;stroke-width:0.8;\"/>\r\n      </defs>\r\n      <g>\r\n       <use style=\"stroke:#000000;stroke-width:0.8;\" x=\"30.723438\" xlink:href=\"#m0744203d59\" y=\"214.782965\"/>\r\n      </g>\r\n     </g>\r\n     <g id=\"text_6\">\r\n      <!-- 0 -->\r\n      <g transform=\"translate(18.215625 218.579059)scale(0.1 -0.1)\">\r\n       <use xlink:href=\"#MalgunGothic-48\"/>\r\n      </g>\r\n     </g>\r\n    </g>\r\n    <g id=\"ytick_2\">\r\n     <g id=\"line2d_7\">\r\n      <g>\r\n       <use style=\"stroke:#000000;stroke-width:0.8;\" x=\"30.723438\" xlink:href=\"#m0744203d59\" y=\"181.836865\"/>\r\n      </g>\r\n     </g>\r\n     <g id=\"text_7\">\r\n      <!-- 20 -->\r\n      <g transform=\"translate(12.707813 185.632959)scale(0.1 -0.1)\">\r\n       <use xlink:href=\"#MalgunGothic-50\"/>\r\n       <use x=\"55.078125\" xlink:href=\"#MalgunGothic-48\"/>\r\n      </g>\r\n     </g>\r\n    </g>\r\n    <g id=\"ytick_3\">\r\n     <g id=\"line2d_8\">\r\n      <g>\r\n       <use style=\"stroke:#000000;stroke-width:0.8;\" x=\"30.723438\" xlink:href=\"#m0744203d59\" y=\"148.890765\"/>\r\n      </g>\r\n     </g>\r\n     <g id=\"text_8\">\r\n      <!-- 40 -->\r\n      <defs>\r\n       <path d=\"M 42.234375 71.875 \r\nL 42.234375 24.421875 \r\nL 51.703125 24.421875 \r\nL 51.703125 17.390625 \r\nL 42.234375 17.390625 \r\nL 42.234375 0 \r\nL 34.578125 0 \r\nL 34.578125 17.390625 \r\nL 0.78125 17.390625 \r\nL 0.78125 23.96875 \r\nQ 11.375 35.890625 20.234375 48.578125 \r\nQ 29.109375 61.28125 33.9375 71.875 \r\nz\r\nM 9.765625 24.421875 \r\nL 34.578125 24.421875 \r\nL 34.578125 59.859375 \r\nQ 25.203125 43.5625 14.984375 30.953125 \r\nz\r\n\" id=\"MalgunGothic-52\"/>\r\n      </defs>\r\n      <g transform=\"translate(12.707813 152.686859)scale(0.1 -0.1)\">\r\n       <use xlink:href=\"#MalgunGothic-52\"/>\r\n       <use x=\"55.078125\" xlink:href=\"#MalgunGothic-48\"/>\r\n      </g>\r\n     </g>\r\n    </g>\r\n    <g id=\"ytick_4\">\r\n     <g id=\"line2d_9\">\r\n      <g>\r\n       <use style=\"stroke:#000000;stroke-width:0.8;\" x=\"30.723438\" xlink:href=\"#m0744203d59\" y=\"115.944665\"/>\r\n      </g>\r\n     </g>\r\n     <g id=\"text_9\">\r\n      <!-- 60 -->\r\n      <defs>\r\n       <path d=\"M 46.578125 63.578125 \r\nQ 40.921875 66.40625 34.8125 66.40625 \r\nQ 24.859375 66.40625 19.1875 57.640625 \r\nQ 13.53125 48.875 13.578125 34.578125 \r\nL 13.8125 34.578125 \r\nQ 18.796875 44.875 30.28125 44.875 \r\nQ 39.796875 44.875 45.359375 38.71875 \r\nQ 50.921875 32.5625 50.921875 22.65625 \r\nQ 50.921875 12.453125 44.640625 5.609375 \r\nQ 38.375 -1.21875 28.515625 -1.21875 \r\nQ 17.4375 -1.21875 11.5 7.46875 \r\nQ 5.5625 16.15625 5.5625 31.546875 \r\nQ 5.5625 49.703125 13.234375 61.375 \r\nQ 20.90625 73.046875 34.71875 73.046875 \r\nQ 42.1875 73.046875 46.578125 71 \r\nz\r\nM 14.15625 23.53125 \r\nQ 14.15625 15.96875 18.203125 10.671875 \r\nQ 22.265625 5.375 28.8125 5.375 \r\nQ 35.109375 5.375 39.03125 10.078125 \r\nQ 42.96875 14.796875 42.96875 21.6875 \r\nQ 42.96875 29.5 39.203125 33.859375 \r\nQ 35.453125 38.234375 28.71875 38.234375 \r\nQ 22.5625 38.234375 18.359375 33.953125 \r\nQ 14.15625 29.6875 14.15625 23.53125 \r\nz\r\n\" id=\"MalgunGothic-54\"/>\r\n      </defs>\r\n      <g transform=\"translate(12.707813 119.740759)scale(0.1 -0.1)\">\r\n       <use xlink:href=\"#MalgunGothic-54\"/>\r\n       <use x=\"55.078125\" xlink:href=\"#MalgunGothic-48\"/>\r\n      </g>\r\n     </g>\r\n    </g>\r\n    <g id=\"ytick_5\">\r\n     <g id=\"line2d_10\">\r\n      <g>\r\n       <use style=\"stroke:#000000;stroke-width:0.8;\" x=\"30.723438\" xlink:href=\"#m0744203d59\" y=\"82.998565\"/>\r\n      </g>\r\n     </g>\r\n     <g id=\"text_10\">\r\n      <!-- 80 -->\r\n      <defs>\r\n       <path d=\"M 4.734375 20.015625 \r\nQ 4.734375 26.078125 8.421875 31.421875 \r\nQ 12.109375 36.765625 18.015625 38.96875 \r\nQ 13.375 41.359375 10.546875 45.546875 \r\nQ 7.71875 49.75 7.71875 54.6875 \r\nQ 7.71875 59.8125 10.296875 64.03125 \r\nQ 12.890625 68.265625 17.53125 70.65625 \r\nQ 22.171875 73.046875 27.78125 73.046875 \r\nQ 36.46875 73.046875 42.1875 67.84375 \r\nQ 47.90625 62.640625 47.90625 54.6875 \r\nQ 47.90625 49.703125 45.015625 45.53125 \r\nQ 42.140625 41.359375 37.703125 38.96875 \r\nQ 43.5625 36.71875 47.21875 31.390625 \r\nQ 50.875 26.078125 50.875 20.015625 \r\nQ 50.875 10.5 44.421875 4.640625 \r\nQ 37.984375 -1.21875 27.78125 -1.21875 \r\nQ 17.671875 -1.21875 11.203125 4.703125 \r\nQ 4.734375 10.640625 4.734375 20.015625 \r\nz\r\nM 12.640625 20.75 \r\nQ 12.640625 13.71875 16.890625 9.546875 \r\nQ 21.140625 5.375 27.828125 5.375 \r\nQ 34.46875 5.375 38.78125 9.671875 \r\nQ 43.109375 13.96875 43.109375 20.75 \r\nQ 43.109375 27.046875 38.78125 31.421875 \r\nQ 34.46875 35.796875 27.828125 35.796875 \r\nQ 21.4375 35.796875 17.03125 31.5625 \r\nQ 12.640625 27.34375 12.640625 20.75 \r\nz\r\nM 15.671875 54.046875 \r\nQ 15.671875 48.828125 19.28125 45.3125 \r\nQ 22.90625 41.796875 27.828125 41.796875 \r\nQ 32.765625 41.796875 36.40625 45.3125 \r\nQ 40.046875 48.828125 40.046875 54.046875 \r\nQ 40.046875 59.421875 36.578125 62.90625 \r\nQ 33.109375 66.40625 27.828125 66.40625 \r\nQ 22.65625 66.40625 19.15625 62.953125 \r\nQ 15.671875 59.515625 15.671875 54.046875 \r\nz\r\n\" id=\"MalgunGothic-56\"/>\r\n      </defs>\r\n      <g transform=\"translate(12.707813 86.794658)scale(0.1 -0.1)\">\r\n       <use xlink:href=\"#MalgunGothic-56\"/>\r\n       <use x=\"55.078125\" xlink:href=\"#MalgunGothic-48\"/>\r\n      </g>\r\n     </g>\r\n    </g>\r\n    <g id=\"ytick_6\">\r\n     <g id=\"line2d_11\">\r\n      <g>\r\n       <use style=\"stroke:#000000;stroke-width:0.8;\" x=\"30.723438\" xlink:href=\"#m0744203d59\" y=\"50.052464\"/>\r\n      </g>\r\n     </g>\r\n     <g id=\"text_11\">\r\n      <!-- 100 -->\r\n      <g transform=\"translate(7.2 53.848558)scale(0.1 -0.1)\">\r\n       <use xlink:href=\"#MalgunGothic-49\"/>\r\n       <use x=\"55.078125\" xlink:href=\"#MalgunGothic-48\"/>\r\n       <use x=\"110.15625\" xlink:href=\"#MalgunGothic-48\"/>\r\n      </g>\r\n     </g>\r\n    </g>\r\n    <g id=\"ytick_7\">\r\n     <g id=\"line2d_12\">\r\n      <g>\r\n       <use style=\"stroke:#000000;stroke-width:0.8;\" x=\"30.723438\" xlink:href=\"#m0744203d59\" y=\"17.106364\"/>\r\n      </g>\r\n     </g>\r\n     <g id=\"text_12\">\r\n      <!-- 120 -->\r\n      <g transform=\"translate(7.2 20.902458)scale(0.1 -0.1)\">\r\n       <use xlink:href=\"#MalgunGothic-49\"/>\r\n       <use x=\"55.078125\" xlink:href=\"#MalgunGothic-50\"/>\r\n       <use x=\"110.15625\" xlink:href=\"#MalgunGothic-48\"/>\r\n      </g>\r\n     </g>\r\n    </g>\r\n   </g>\r\n   <g id=\"line2d_13\">\r\n    <path clip-path=\"url(#p2e5e26dbdf)\" d=\"M 46.071379 214.756364 \r\nL 46.071379 214.756364 \r\nL 89.514824 201.19667 \r\nL 89.514824 201.19667 \r\nL 103.995973 194.462017 \r\nL 118.477121 187.727364 \r\nL 132.958269 180.992711 \r\nL 132.958269 180.992711 \r\nL 132.958269 180.992711 \r\nL 147.439418 174.258058 \r\nL 147.439418 174.258058 \r\nL 161.920566 167.523406 \r\nL 161.920566 167.523406 \r\nL 161.920566 167.523406 \r\nL 161.920566 167.523406 \r\nL 176.401715 160.788753 \r\nL 176.401715 160.788753 \r\nL 176.401715 160.788753 \r\nL 176.401715 160.788753 \r\nL 190.882863 154.0541 \r\nL 190.882863 154.0541 \r\nL 190.882863 154.0541 \r\nL 190.882863 154.0541 \r\nL 205.364012 147.319447 \r\nL 205.364012 147.319447 \r\nL 205.364012 147.319447 \r\nL 219.84516 140.584794 \r\nL 219.84516 140.584794 \r\nL 234.326309 133.850141 \r\nL 234.326309 133.850141 \r\nL 234.326309 133.850141 \r\nL 248.807457 127.115488 \r\nL 248.807457 127.115488 \r\nL 248.807457 127.115488 \r\nL 248.807457 127.115488 \r\nL 263.288606 120.380835 \r\nL 263.288606 120.380835 \r\nL 263.288606 120.380835 \r\nL 277.769754 113.646182 \r\nL 277.769754 113.646182 \r\nL 277.769754 113.646182 \r\nL 277.769754 113.646182 \r\nL 277.769754 113.646182 \r\nL 306.732051 100.176876 \r\nL 321.213199 93.442223 \r\nL 335.694348 86.70757 \r\nL 335.694348 86.70757 \r\nL 335.694348 86.70757 \r\nL 335.694348 86.70757 \r\nL 350.175496 79.973878 \r\n\" style=\"fill:none;stroke:#ff0000;stroke-dasharray:5.55,2.4;stroke-dashoffset:0;stroke-width:1.5;\"/>\r\n   </g>\r\n   <g id=\"patch_3\">\r\n    <path d=\"M 30.723438 224.64 \r\nL 30.723438 7.2 \r\n\" style=\"fill:none;stroke:#000000;stroke-linecap:square;stroke-linejoin:miter;stroke-width:0.8;\"/>\r\n   </g>\r\n   <g id=\"patch_4\">\r\n    <path d=\"M 365.523438 224.64 \r\nL 365.523438 7.2 \r\n\" style=\"fill:none;stroke:#000000;stroke-linecap:square;stroke-linejoin:miter;stroke-width:0.8;\"/>\r\n   </g>\r\n   <g id=\"patch_5\">\r\n    <path d=\"M 30.723438 224.64 \r\nL 365.523438 224.64 \r\n\" style=\"fill:none;stroke:#000000;stroke-linecap:square;stroke-linejoin:miter;stroke-width:0.8;\"/>\r\n   </g>\r\n   <g id=\"patch_6\">\r\n    <path d=\"M 30.723438 7.2 \r\nL 365.523438 7.2 \r\n\" style=\"fill:none;stroke:#000000;stroke-linecap:square;stroke-linejoin:miter;stroke-width:0.8;\"/>\r\n   </g>\r\n  </g>\r\n </g>\r\n <defs>\r\n  <clipPath id=\"p2e5e26dbdf\">\r\n   <rect height=\"217.44\" width=\"334.8\" x=\"30.723438\" y=\"7.2\"/>\r\n  </clipPath>\r\n </defs>\r\n</svg>\r\n",
      "image/png": "[encoded data removed]"
     },
     "metadata": {
      "needs_background": "light"
     }
    }
   ],
   "source": [
    "plt.scatter(  carDF['speed'], carDF['dist'])\n",
    "plt.plot(  carDF['speed'], modelNN.predict( carDF[['speed']] ) , 'r--')\n",
    "plt.show()"
   ]
  }
 ]
}