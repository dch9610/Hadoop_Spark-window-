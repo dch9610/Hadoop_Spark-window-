{
 "cells": [
  {
   "cell_type": "code",
   "execution_count": 1,
   "metadata": {},
   "outputs": [],
   "source": [
    "from sklearn.model_selection import train_test_split, GridSearchCV\n",
    "from sklearn.model_selection import validation_curve\n",
    "from sklearn.pipeline import make_pipeline\n",
    "from sklearn.preprocessing import StandardScaler\n",
    "from sklearn.metrics import confusion_matrix\n",
    "import sklearn.metrics as metrics\n",
    "from sklearn.ensemble import BaggingClassifier, RandomForestClassifier, AdaBoostClassifier\n",
    "from sklearn.ensemble import VotingClassifier\n",
    "from sklearn.neural_network import MLPClassifier\n",
    "\n",
    "import numpy as np\n",
    "import pandas as pd\n",
    "\n",
    "import seaborn as sns\n",
    "import matplotlib.pyplot as plt\n",
    "import matplotlib\n",
    "matplotlib.rcParams[\"font.family\"]=\"Malgun Gothic\"\n",
    "matplotlib.rcParams[\"axes.unicode_minus\"]= False\n",
    "\n",
    "import warnings\n",
    "warnings.simplefilter('ignore')"
   ]
  },
  {
   "cell_type": "markdown",
   "metadata": {},
   "source": [
    "## 피마인디안 데이터 불러오기"
   ]
  },
  {
   "cell_type": "code",
   "execution_count": 3,
   "metadata": {},
   "outputs": [
    {
     "data": {
      "text/html": [
       "<div>\n",
       "<style scoped>\n",
       "    .dataframe tbody tr th:only-of-type {\n",
       "        vertical-align: middle;\n",
       "    }\n",
       "\n",
       "    .dataframe tbody tr th {\n",
       "        vertical-align: top;\n",
       "    }\n",
       "\n",
       "    .dataframe thead th {\n",
       "        text-align: right;\n",
       "    }\n",
       "</style>\n",
       "<table border=\"1\" class=\"dataframe\">\n",
       "  <thead>\n",
       "    <tr style=\"text-align: right;\">\n",
       "      <th></th>\n",
       "      <th>Pregnancies</th>\n",
       "      <th>Glucose</th>\n",
       "      <th>BloodPressure</th>\n",
       "      <th>SkinThickness</th>\n",
       "      <th>Insulin</th>\n",
       "      <th>BMI</th>\n",
       "      <th>DiabetesPedigreeFunction</th>\n",
       "      <th>Age</th>\n",
       "      <th>Outcome</th>\n",
       "    </tr>\n",
       "  </thead>\n",
       "  <tbody>\n",
       "    <tr>\n",
       "      <th>0</th>\n",
       "      <td>6</td>\n",
       "      <td>148</td>\n",
       "      <td>72</td>\n",
       "      <td>35</td>\n",
       "      <td>0</td>\n",
       "      <td>33.6</td>\n",
       "      <td>0.627</td>\n",
       "      <td>50</td>\n",
       "      <td>1</td>\n",
       "    </tr>\n",
       "    <tr>\n",
       "      <th>1</th>\n",
       "      <td>1</td>\n",
       "      <td>85</td>\n",
       "      <td>66</td>\n",
       "      <td>29</td>\n",
       "      <td>0</td>\n",
       "      <td>26.6</td>\n",
       "      <td>0.351</td>\n",
       "      <td>31</td>\n",
       "      <td>0</td>\n",
       "    </tr>\n",
       "    <tr>\n",
       "      <th>2</th>\n",
       "      <td>8</td>\n",
       "      <td>183</td>\n",
       "      <td>64</td>\n",
       "      <td>0</td>\n",
       "      <td>0</td>\n",
       "      <td>23.3</td>\n",
       "      <td>0.672</td>\n",
       "      <td>32</td>\n",
       "      <td>1</td>\n",
       "    </tr>\n",
       "  </tbody>\n",
       "</table>\n",
       "</div>"
      ],
      "text/plain": [
       "   Pregnancies  Glucose  BloodPressure  SkinThickness  Insulin   BMI  \\\n",
       "0            6      148             72             35        0  33.6   \n",
       "1            1       85             66             29        0  26.6   \n",
       "2            8      183             64              0        0  23.3   \n",
       "\n",
       "   DiabetesPedigreeFunction  Age  Outcome  \n",
       "0                     0.627   50        1  \n",
       "1                     0.351   31        0  \n",
       "2                     0.672   32        1  "
      ]
     },
     "execution_count": 3,
     "metadata": {},
     "output_type": "execute_result"
    }
   ],
   "source": [
    "df = pd.read_csv('data/pima-indians-diabetes.data.csv')\n",
    "df.head(3)"
   ]
  },
  {
   "cell_type": "code",
   "execution_count": 5,
   "metadata": {},
   "outputs": [
    {
     "name": "stdout",
     "output_type": "stream",
     "text": [
      "(768, 8) (768,)\n"
     ]
    }
   ],
   "source": [
    "x_data = df.iloc[:,:-1]\n",
    "y_data = df.iloc[:,-1]\n",
    "\n",
    "print(x_data.shape, y_data.shape)"
   ]
  },
  {
   "cell_type": "code",
   "execution_count": 6,
   "metadata": {},
   "outputs": [],
   "source": [
    "# 학습, 테스트 데이터셋\n",
    "x_train, x_test, y_train, y_test = train_test_split(x_data, y_data, \n",
    "        test_size=0.2, stratify=y_data)"
   ]
  },
  {
   "cell_type": "code",
   "execution_count": 20,
   "metadata": {},
   "outputs": [
    {
     "data": {
      "text/plain": [
       "Pipeline(memory=None,\n",
       "         steps=[('standardscaler',\n",
       "                 StandardScaler(copy=True, with_mean=True, with_std=True)),\n",
       "                ('mlpclassifier',\n",
       "                 MLPClassifier(activation='relu', alpha=0.0001,\n",
       "                               batch_size='auto', beta_1=0.9, beta_2=0.999,\n",
       "                               early_stopping=True, epsilon=1e-08,\n",
       "                               hidden_layer_sizes=(100,),\n",
       "                               learning_rate='constant',\n",
       "                               learning_rate_init=0.001, max_fun=15000,\n",
       "                               max_iter=200, momentum=0.9, n_iter_no_change=10,\n",
       "                               nesterovs_momentum=True, power_t=0.5,\n",
       "                               random_state=None, shuffle=True, solver='adam',\n",
       "                               tol=0.0001, validation_fraction=0.1,\n",
       "                               verbose=False, warm_start=False))],\n",
       "         verbose=False)"
      ]
     },
     "execution_count": 20,
     "metadata": {},
     "output_type": "execute_result"
    }
   ],
   "source": [
    "# validation_fraction = 0.1 10%를 검증셋으로 사용\n",
    "# early_stopping = True 과적합이 일어난곳에서 빠져나감\n",
    "\n",
    "m_pipe = make_pipeline(StandardScaler(), MLPClassifier(early_stopping = True))\n",
    "\n",
    "m_pipe.fit(x_train, y_train) "
   ]
  },
  {
   "cell_type": "code",
   "execution_count": 21,
   "metadata": {
    "collapsed": true
   },
   "outputs": [
    {
     "data": {
      "text/plain": [
       "[0.7755013941889559,\n",
       " 0.746142491177037,\n",
       " 0.7182401524296881,\n",
       " 0.6932668168269567,\n",
       " 0.6719383819796573,\n",
       " 0.6514136618341293,\n",
       " 0.633355246137581,\n",
       " 0.6171040838253391,\n",
       " 0.6021141871607854,\n",
       " 0.5897057722559779,\n",
       " 0.5778251498490915,\n",
       " 0.5665153910036276,\n",
       " 0.5573505267811089,\n",
       " 0.5479206020405867,\n",
       " 0.5397420380426939,\n",
       " 0.5319236359127061,\n",
       " 0.5252632074788584,\n",
       " 0.5190768160663084,\n",
       " 0.5125787907717472,\n",
       " 0.507545723642623,\n",
       " 0.5022091364322059,\n",
       " 0.49804454219499844,\n",
       " 0.493252575552123,\n",
       " 0.4892082405024738,\n",
       " 0.4855206779365562,\n",
       " 0.4821093183978835,\n",
       " 0.478874804841227,\n",
       " 0.47581475408953117,\n",
       " 0.4730129327271361,\n",
       " 0.47059316255313416,\n",
       " 0.4680130822910131]"
      ]
     },
     "execution_count": 21,
     "metadata": {},
     "output_type": "execute_result"
    }
   ],
   "source": [
    "# 파이프라인에 들어있는 mlp loss_curve 가져오기\n",
    "m_pipe.named_steps['mlpclassifier'].loss_curve_"
   ]
  },
  {
   "cell_type": "code",
   "execution_count": 24,
   "metadata": {
    "collapsed": true
   },
   "outputs": [
    {
     "data": {
      "text/plain": [
       "[0.3548387096774194,\n",
       " 0.4032258064516129,\n",
       " 0.45161290322580644,\n",
       " 0.5161290322580645,\n",
       " 0.6290322580645161,\n",
       " 0.6935483870967742,\n",
       " 0.6935483870967742,\n",
       " 0.7096774193548387,\n",
       " 0.6935483870967742,\n",
       " 0.7258064516129032,\n",
       " 0.7258064516129032,\n",
       " 0.7419354838709677,\n",
       " 0.7741935483870968,\n",
       " 0.7741935483870968,\n",
       " 0.7741935483870968,\n",
       " 0.7903225806451613,\n",
       " 0.7903225806451613,\n",
       " 0.7903225806451613,\n",
       " 0.7903225806451613,\n",
       " 0.8064516129032258,\n",
       " 0.8064516129032258,\n",
       " 0.8064516129032258,\n",
       " 0.8064516129032258,\n",
       " 0.7903225806451613,\n",
       " 0.7903225806451613,\n",
       " 0.7903225806451613,\n",
       " 0.8064516129032258,\n",
       " 0.8064516129032258,\n",
       " 0.8064516129032258,\n",
       " 0.8064516129032258,\n",
       " 0.8064516129032258]"
      ]
     },
     "execution_count": 24,
     "metadata": {},
     "output_type": "execute_result"
    }
   ],
   "source": [
    "m_pipe.named_steps['mlpclassifier'].validation_scores_"
   ]
  },
  {
   "cell_type": "markdown",
   "metadata": {},
   "source": [
    "### pipeline 적용안한것"
   ]
  },
  {
   "cell_type": "code",
   "execution_count": 12,
   "metadata": {
    "scrolled": true
   },
   "outputs": [
    {
     "data": {
      "text/plain": [
       "MLPClassifier(activation='relu', alpha=0.0001, batch_size='auto', beta_1=0.9,\n",
       "              beta_2=0.999, early_stopping=True, epsilon=1e-08,\n",
       "              hidden_layer_sizes=(100,), learning_rate='constant',\n",
       "              learning_rate_init=0.001, max_fun=15000, max_iter=200,\n",
       "              momentum=0.9, n_iter_no_change=10, nesterovs_momentum=True,\n",
       "              power_t=0.5, random_state=None, shuffle=True, solver='adam',\n",
       "              tol=0.0001, validation_fraction=0.1, verbose=False,\n",
       "              warm_start=False)"
      ]
     },
     "execution_count": 12,
     "metadata": {},
     "output_type": "execute_result"
    }
   ],
   "source": [
    "m_mlp = MLPClassifier(early_stopping = True)\n",
    "m_mlp.fit(x_train, y_train)"
   ]
  },
  {
   "cell_type": "code",
   "execution_count": 11,
   "metadata": {
    "collapsed": true
   },
   "outputs": [
    {
     "data": {
      "text/plain": [
       "[10.259542351940985,\n",
       " 8.005546206641695,\n",
       " 5.998173944620276,\n",
       " 4.2533126009553515,\n",
       " 2.6038617397737283,\n",
       " 1.9736502633898867,\n",
       " 2.0001882518300587,\n",
       " 1.957178562735012,\n",
       " 1.8293417574768946,\n",
       " 1.4348567672223513,\n",
       " 1.1925376140942976,\n",
       " 1.2135873858296067,\n",
       " 1.210400874035552,\n",
       " 1.0899031171247513,\n",
       " 1.008851043876057,\n",
       " 0.9767744806266703,\n",
       " 0.957680723147232,\n",
       " 0.8926869367444722,\n",
       " 0.8616964058806461,\n",
       " 0.8414409105812083,\n",
       " 0.8033285100384058,\n",
       " 0.7648370466986443,\n",
       " 0.7585964843514708,\n",
       " 0.7184678614642068,\n",
       " 0.6919074539623415,\n",
       " 0.6935038189310492,\n",
       " 0.6716299178244903,\n",
       " 0.6511948646522503,\n",
       " 0.641770016498763,\n",
       " 0.6334708770335915]"
      ]
     },
     "execution_count": 11,
     "metadata": {},
     "output_type": "execute_result"
    }
   ],
   "source": [
    "# loss값이 줄어드는것을 확인\n",
    "# 학습간 cost값, \n",
    "m_mlp.loss_curve_"
   ]
  },
  {
   "cell_type": "code",
   "execution_count": 17,
   "metadata": {
    "collapsed": true
   },
   "outputs": [
    {
     "data": {
      "text/plain": [
       "[0.7419354838709677,\n",
       " 0.7096774193548387,\n",
       " 0.6612903225806451,\n",
       " 0.5806451612903226,\n",
       " 0.6129032258064516,\n",
       " 0.6290322580645161,\n",
       " 0.6290322580645161,\n",
       " 0.6774193548387096,\n",
       " 0.7096774193548387,\n",
       " 0.6129032258064516,\n",
       " 0.6129032258064516,\n",
       " 0.7903225806451613,\n",
       " 0.6451612903225806,\n",
       " 0.5967741935483871,\n",
       " 0.6612903225806451,\n",
       " 0.6774193548387096,\n",
       " 0.6290322580645161,\n",
       " 0.6290322580645161,\n",
       " 0.6129032258064516,\n",
       " 0.6612903225806451,\n",
       " 0.6612903225806451,\n",
       " 0.6290322580645161,\n",
       " 0.6935483870967742]"
      ]
     },
     "execution_count": 17,
     "metadata": {},
     "output_type": "execute_result"
    }
   ],
   "source": [
    "# 검증셋의 점수값\n",
    "m_mlp.validation_scores_"
   ]
  },
  {
   "cell_type": "code",
   "execution_count": 18,
   "metadata": {
    "scrolled": true
   },
   "outputs": [
    {
     "data": {
      "image/png": "[encoded data removed]",
      "text/plain": [
       "<Figure size 432x288 with 1 Axes>"
      ]
     },
     "metadata": {
      "needs_background": "light"
     },
     "output_type": "display_data"
    }
   ],
   "source": [
    "plt.plot(m_mlp.loss_curve_)\n",
    "plt.plot(m_mlp.validation_scores_)\n",
    "plt.show()"
   ]
  }
 ],
 "metadata": {
  "kernelspec": {
   "display_name": "Python 3",
   "language": "python",
   "name": "python3"
  },
  "language_info": {
   "codemirror_mode": {
    "name": "ipython",
    "version": 3
   },
   "file_extension": ".py",
   "mimetype": "text/x-python",
   "name": "python",
   "nbconvert_exporter": "python",
   "pygments_lexer": "ipython3",
   "version": "3.8.5"
  }
 },
 "nbformat": 4,
 "nbformat_minor": 4
}
