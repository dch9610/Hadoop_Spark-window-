{
 "cells": [
  {
   "cell_type": "markdown",
   "metadata": {},
   "source": [
    "# 1.카프카 서버 스타트\n",
    "config 폴더에서 zookeeper.properties, server.properties 복사해서 window 폴더에 붙여넣기\n",
    "- bin\\windows\\zookeeper-server-start.bat zookeeper.properties\n",
    "- bin\\windows\\kafka-server-start.bat server.properties\n"
   ]
  },
  {
   "cell_type": "code",
   "execution_count": 1,
   "metadata": {},
   "outputs": [
    {
     "name": "stdout",
     "output_type": "stream",
     "text": [
      "Collecting kafka-python\n",
      "  Downloading kafka_python-2.0.2-py2.py3-none-any.whl (246 kB)\n",
      "Installing collected packages: kafka-python\n",
      "Successfully installed kafka-python-2.0.2\n"
     ]
    }
   ],
   "source": [
    "!pip install kafka-python"
   ]
  },
  {
   "cell_type": "code",
   "execution_count": 1,
   "metadata": {},
   "outputs": [],
   "source": [
    "from kafka import KafkaProducer\n",
    "import time"
   ]
  },
  {
   "cell_type": "markdown",
   "metadata": {},
   "source": [
    "### 통신 : octet(byte)\n",
    "- app <-- 시리얼 통신 (send, recv) --> 장비\n",
    "- app <-- 소켓   통신 (send, recv)--> 서버\n",
    "\n",
    "* 통신 규약 \n",
    "- b(문자열) : bytes 타입으로 변환"
   ]
  },
  {
   "cell_type": "code",
   "execution_count": 2,
   "metadata": {},
   "outputs": [
    {
     "name": "stdout",
     "output_type": "stream",
     "text": [
      "s= <class 'bytes'>\n",
      "<class 'bytes'>\n",
      "104\n",
      "b= <class 'str'>\n"
     ]
    }
   ],
   "source": [
    "s = 'hello'\n",
    "s = s.encode()\n",
    "print('s=', type(s))\n",
    "\n",
    "b = b'hello'\n",
    "print(type(b))\n",
    "print(b[0])\n",
    "\n",
    "b = b.decode()\n",
    "print('b=', type(b))"
   ]
  },
  {
   "cell_type": "code",
   "execution_count": 7,
   "metadata": {},
   "outputs": [
    {
     "name": "stdout",
     "output_type": "stream",
     "text": [
      "success\n"
     ]
    }
   ],
   "source": [
    "# kafka 클러스터 서버 포트 defalut 9092\n",
    "producer = KafkaProducer(bootstrap_servers=['localhost:9092'],\n",
    "                            api_version=(0,10))\n",
    "# key, value는 byte type\n",
    "producer.send('sample', key=b'one', value = b'one data')\n",
    "producer.send('sample', key=b'two', value = b'two data')\n",
    "\n",
    "producer.flush()\n",
    "print(\"success\")\n",
    "time.sleep(3)"
   ]
  }
 ],
 "metadata": {
  "kernelspec": {
   "display_name": "Python 3",
   "language": "python",
   "name": "python3"
  },
  "language_info": {
   "codemirror_mode": {
    "name": "ipython",
    "version": 3
   },
   "file_extension": ".py",
   "mimetype": "text/x-python",
   "name": "python",
   "nbconvert_exporter": "python",
   "pygments_lexer": "ipython3",
   "version": "3.7.6"
  }
 },
 "nbformat": 4,
 "nbformat_minor": 4
}
