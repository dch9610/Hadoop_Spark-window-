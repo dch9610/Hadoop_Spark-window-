{
 "cells": [
  {
   "cell_type": "markdown",
   "metadata": {},
   "source": [
    "# 1.카프카 서버 스타트\n",
    "config 폴더에서 zookeeper.properties, server.properties 복사해서 window 폴더에 붙여넣기\n",
    "- bin\\windows\\zookeeper-server-start.bat zookeeper.properties\n",
    "- bin\\windows\\kafka-server-start.bat server.properties\n"
   ]
  }
 ],
 "metadata": {
  "kernelspec": {
   "display_name": "Python 3",
   "language": "python",
   "name": "python3"
  },
  "language_info": {
   "codemirror_mode": {
    "name": "ipython",
    "version": 3
   },
   "file_extension": ".py",
   "mimetype": "text/x-python",
   "name": "python",
   "nbconvert_exporter": "python",
   "pygments_lexer": "ipython3",
   "version": "3.7.6"
  }
 },
 "nbformat": 4,
 "nbformat_minor": 4
}
