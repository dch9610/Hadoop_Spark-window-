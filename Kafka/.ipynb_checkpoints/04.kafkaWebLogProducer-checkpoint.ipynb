{
 "cells": [
  {
   "cell_type": "code",
   "execution_count": 1,
   "metadata": {},
   "outputs": [],
   "source": [
    "from kafka import KafkaProducer\n",
    "import time"
   ]
  },
  {
   "cell_type": "code",
   "execution_count": 2,
   "metadata": {
    "scrolled": true
   },
   "outputs": [
    {
     "name": "stdout",
     "output_type": "stream",
     "text": [
      "aaa\n",
      "bbb\n",
      "ccc\n"
     ]
    }
   ],
   "source": [
    "# 파일 열기\n",
    "fp = open(r\"c:\\a.txt\")\n",
    "r  = fp.read()\n",
    "print(r)"
   ]
  },
  {
   "cell_type": "code",
   "execution_count": null,
   "metadata": {
    "scrolled": false
   },
   "outputs": [
    {
     "name": "stdout",
     "output_type": "stream",
     "text": [
      "aaa\n",
      "\n",
      "bbb\n",
      "\n",
      "ccc\n",
      "\n",
      "\n",
      "ddd\n"
     ]
    }
   ],
   "source": [
    "fp = open(r\"c:\\a.txt\")\n",
    "while True:\n",
    "    pos = fp.tell() #기록 위치\n",
    "    line = fp.readline() # 라인 단위로 읽음\n",
    "    \n",
    "    if line:\n",
    "        print(line)\n",
    "    else:\n",
    "        time.sleep(1)\n",
    "        fp.seek(pos)"
   ]
  },
  {
   "cell_type": "markdown",
   "metadata": {},
   "source": [
    "## 실시간 로그파일 데이터 가져오기"
   ]
  },
  {
   "cell_type": "code",
   "execution_count": null,
   "metadata": {},
   "outputs": [],
   "source": [
    "fp = open(r\"C:\\Program Files\\Apache Software Foundation\\Tomcat 9.0\\logs\\localhost_access_log.2021-01-12.txt\")\n",
    "while True:\n",
    "    pos = fp.tell() #기록 위치\n",
    "    line = fp.readline() # 라인 단위로 읽음\n",
    "    \n",
    "    if line:\n",
    "        # 해당 ip와 문서만을 추출\n",
    "        ln = line.split()\n",
    "        print(ln[0],ln[6])\n",
    "    else:\n",
    "        time.sleep(1)\n",
    "        fp.seek(pos)"
   ]
  },
  {
   "cell_type": "code",
   "execution_count": null,
   "metadata": {},
   "outputs": [
    {
     "name": "stdout",
     "output_type": "stream",
     "text": [
      "0:0:0:0:0:0:0:1 /\n",
      "0:0:0:0:0:0:0:1 /tomcat.css\n",
      "0:0:0:0:0:0:0:1 /tomcat.svg\n",
      "0:0:0:0:0:0:0:1 /bg-nav.png\n",
      "0:0:0:0:0:0:0:1 /asf-logo-wide.svg\n",
      "0:0:0:0:0:0:0:1 /bg-button.png\n",
      "0:0:0:0:0:0:0:1 /bg-middle.png\n",
      "0:0:0:0:0:0:0:1 /bg-upper.png\n",
      "0:0:0:0:0:0:0:1 /favicon.ico\n",
      "0:0:0:0:0:0:0:1 /a\n",
      "0:0:0:0:0:0:0:1 /a.html\n",
      "0:0:0:0:0:0:0:1 /a.html\n",
      "0:0:0:0:0:0:0:1 /favicon.ico\n",
      "0:0:0:0:0:0:0:1 /a.html\n",
      "0:0:0:0:0:0:0:1 /a.html\n",
      "0:0:0:0:0:0:0:1 /%E3%85%A0.html\n",
      "0:0:0:0:0:0:0:1 /b.html\n",
      "0:0:0:0:0:0:0:1 /a.html\n",
      "0:0:0:0:0:0:0:1 /a.html\n"
     ]
    }
   ],
   "source": [
    "# kafka 클러스터 서버 포트 defalut 9092\n",
    "producer = KafkaProducer(bootstrap_servers=['localhost:9092'],\n",
    "                            api_version=(0,10))\n",
    "\n",
    "\n",
    "fp = open(r\"C:\\Program Files\\Apache Software Foundation\\Tomcat 9.0\\logs\\localhost_access_log.2021-01-12.txt\")\n",
    "while True:\n",
    "    pos = fp.tell() #기록 위치\n",
    "    line = fp.readline() # 라인 단위로 읽음\n",
    "    \n",
    "    if line:\n",
    "        # 해당 ip와 문서만을 추출\n",
    "        ln = line.split()\n",
    "        \n",
    "        # byte에 맞게 인코딩\n",
    "        ip = ln[0].encode()\n",
    "        doc = ln[6].encode()\n",
    "        \n",
    "        producer.send('sample', key=ip, value = doc)\n",
    "        producer.flush()\n",
    "        \n",
    "        print(ln[0],ln[6])\n",
    "    else:\n",
    "        time.sleep(1)\n",
    "        fp.seek(pos)"
   ]
  },
  {
   "cell_type": "code",
   "execution_count": null,
   "metadata": {},
   "outputs": [],
   "source": []
  }
 ],
 "metadata": {
  "kernelspec": {
   "display_name": "Python 3",
   "language": "python",
   "name": "python3"
  },
  "language_info": {
   "codemirror_mode": {
    "name": "ipython",
    "version": 3
   },
   "file_extension": ".py",
   "mimetype": "text/x-python",
   "name": "python",
   "nbconvert_exporter": "python",
   "pygments_lexer": "ipython3",
   "version": "3.7.6"
  }
 },
 "nbformat": 4,
 "nbformat_minor": 4
}
